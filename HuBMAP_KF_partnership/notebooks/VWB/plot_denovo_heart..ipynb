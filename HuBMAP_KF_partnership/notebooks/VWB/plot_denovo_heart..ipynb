﻿{
  "metadata": {
    "name": "plot_denovo_heart",
    "kernelspec": {
      "language": "scala",
      "name": "spark2-scala"
    },
    "language_info": {
      "codemirror_mode": "text/x-scala",
      "file_extension": ".scala",
      "mimetype": "text/x-scala",
      "name": "scala",
      "pygments_lexer": "scala"
    }
  },
  "nbformat": 4,
  "nbformat_minor": 2,
  "cells": [
    {
      "cell_type": "code",
      "execution_count": 0,
      "metadata": {
        "autoscroll": "auto"
      },
      "outputs": [],
      "source": "%pyspark\nimport sys\nimport pandas as pd\npd.set_option(\u0027display.max_columns\u0027, None)\n!pip install joypy\n#!pip install PdfPages\nsys.path.append(\u0027./.local/lib/python3.8/site-packages\u0027) #/home/notebook/.local/lib/python3.8/site-packages\nsys.path.append(\u0027./.local/lib/python3.8/site-packages/\u0027)\n#import PdfPages\nfrom matplotlib.backends.backend_pdf import PdfPages\n\nimport joypy\nimport numpy as np\nimport glob\nfrom collections import Counter\nimport matplotlib.pyplot as plt\nimport matplotlib.backends.backend_pdf\nfrom matplotlib.offsetbox import AnchoredText\nfrom matplotlib_venn import venn2\nfrom matplotlib import cm\nimport io\nimport requests\nimport os\nfrom pyspark import SparkFiles\nfrom pyspark.sql import functions as F\nfrom pyspark.sql.functions import col,collect_list, concat, lit, when, monotonically_increasing_id, concat_ws \nfrom pyspark.sql.types import StringType, DoubleType\n\nimport seaborn as sns\nfrom decimal import Decimal\nfrom scipy.stats import mannwhitneyu\n\n"
    },
    {
      "cell_type": "markdown",
      "metadata": {},
      "source": "# Read in scored variants (just de novos and high impact) from CHD cohort\n"
    },
    {
      "cell_type": "code",
      "execution_count": 2,
      "metadata": {
        "autoscroll": "auto"
      },
      "outputs": [],
      "source": "%pyspark\n#scored_variants_dedup \u003d spark.read.parquet(\u0027s3a://kf-strides-variant-parquet-prd/notebooks/5175e6e3-c3d7-4c19-b51f-6f1ea4dd3700/tables/scored_variants_HEART_aug13.parquet/\u0027)\n#scored_variants_dedup \u003d spark.read.parquet(\u0027s3a://kf-strides-variant-parquet-prd/notebooks/5175e6e3-c3d7-4c19-b51f-6f1ea4dd3700/tables/scored_variants_HEART_w_eQTLs.parquet\u0027)\nscored_variants_dedup \u003d spark.read.parquet(\u0027s3a://kf-strides-variant-parquet-prd/notebooks/5175e6e3-c3d7-4c19-b51f-6f1ea4dd3700/tables/scored_variants_HEART_w_eQTLs_sept15.parquet\u0027)\nscored_variants_dedup \u003d scored_variants_dedup.withColumn(\u0027cadd_score\u0027,col(\u0027cadd_score\u0027).cast(DoubleType()))\nscored_variants_dedup.count() # 103477068\n"
    },
    {
      "cell_type": "code",
      "execution_count": 3,
      "metadata": {
        "autoscroll": "auto"
      },
      "outputs": [],
      "source": "%pyspark\nscored_variants_dedup.drop(\u0027is_proband\u0027,\u0027info_dp\u0027,\u0027quality\u0027).show()"
    },
    {
      "cell_type": "code",
      "execution_count": 4,
      "metadata": {
        "autoscroll": "auto"
      },
      "outputs": [],
      "source": "%pyspark\n# GTEx data\nkidney \u003d spark.read.csv(\u0027s3a://kf-strides-variant-parquet-prd/notebooks/5175e6e3-c3d7-4c19-b51f-6f1ea4dd3700/tables/gene_burden_testing_KIDNEY.csv\u0027,header\u003dTrue)\nheart \u003d spark.read.csv(\u0027s3a://kf-strides-variant-parquet-prd/notebooks/5175e6e3-c3d7-4c19-b51f-6f1ea4dd3700/tables/gene_burden_testing_HEART.csv\u0027,header\u003dTrue)\n\nheart \u003d heart.withColumn(\"combined_TPM\",sum(heart[col] for col in  [\u0027Heart - Left Ventricle\u0027, \u0027Heart - Atrial Appendage\u0027]) )\nkidney \u003d kidney.withColumn(\"combined_TPM\",sum(kidney[col] for col in [\u0027Kidney - Cortex\u0027, \u0027Kidney - Medulla\u0027] ))"
    },
    {
      "cell_type": "code",
      "execution_count": 5,
      "metadata": {
        "autoscroll": "auto"
      },
      "outputs": [],
      "source": "%pyspark\ndef get_perc_genes(df1,df2,percentage\u003d0,constant\u003d0,drop_mt\u003dFalse,bottom_perc\u003d0):\n    \n    if drop_mt:\n        df1 \u003d df1.where(~col(\u0027genes\u0027).startswith(\u0027MT-\u0027))\n        df2 \u003d df2.where(~col(\u0027genes\u0027).startswith(\u0027MT-\u0027))\n        \n    df1_len, df2_len \u003d df1.count(), df2.count()\n    \n    df1_sort \u003d df1.sort(\u0027combined_TPM\u0027,ascending\u003dFalse)\n    df2_sort \u003d df2.sort(\u0027combined_TPM\u0027,ascending\u003dFalse)\n    \n    if percentage and not constant:\n        CUTOFF_1 \u003d int(percentage*df1_len)\n        CUTOFF_2 \u003d int(percentage*df2_len)\n        df1_genes \u003d df1_sort.select(\u0027genes\u0027).toPandas().iloc[:CUTOFF_1,:].reset_index(drop\u003dTrue)[\u0027genes\u0027]\n        df2_genes \u003d df2_sort.select(\u0027genes\u0027).toPandas().iloc[:CUTOFF_2,:].reset_index(drop\u003dTrue)[\u0027genes\u0027]\n\n    elif bottom_perc !\u003d0:\n        CUTOFF_1 \u003d int(bottom_perc*df1_len)\n        print(CUTOFF_1)\n        CUTOFF_2 \u003d int(bottom_perc*df2_len)\n        df1_sort \u003d df1.sort(\u0027combined_TPM\u0027,ascending\u003dTrue)\n        df2_sort \u003d df2.sort(\u0027combined_TPM\u0027,ascending\u003dTrue)\n        \n        df1_genes \u003d df1_sort.select(\u0027genes\u0027).toPandas().iloc[:CUTOFF_1,:].reset_index(drop\u003dTrue)[\u0027genes\u0027]\n        df2_genes \u003d df2_sort.select(\u0027genes\u0027).toPandas().iloc[:CUTOFF_2,:].reset_index(drop\u003dTrue)[\u0027genes\u0027]        \n    elif constant:\n        df1_genes \u003d df1_sort.select(\u0027genes\u0027).toPandas().iloc[:constant,:].reset_index(drop\u003dTrue)[\u0027genes\u0027]\n        df2_genes \u003d df2_sort.select(\u0027genes\u0027).toPandas().iloc[:constant,:].reset_index(drop\u003dTrue)[\u0027genes\u0027]\n        \n    return df1_genes, df2_genes\n    \n    \ndef plot_chd_ridgelines(percent_df,stratify_type):\n    #stratify_type\u003d\u0027Percentage\u0027 or \u0027Constant\u0027\n    pg \u003d percent_df.groupby(stratify_type, sort\u003dFalse)\n    \n    plt.figure(figsize\u003d(16,24))\n    fig, axes \u003d joypy.joyplot(pg,by\u003dstratify_type,linewidth\u003d.5,  ylim \u003d \u0027own\u0027,\n    overlap\u003d.5,\n    color\u003d[ \u0027#eb4d4b\u0027, \u0027#686de0\u0027],\n        legend\u003dTrue,\n        alpha\u003d0.85,)\n        \n    #plt.title(\u0027CHD gene burden analysis using GTEx tissue datasets\u0027, fontsize\u003d13)\n    plt.tight_layout()\n    #plt.savefig(f\u0027CHD_gtex_ridgeline.png\u0027)\n    z.show(plt)\n    plt.close()"
    },
    {
      "cell_type": "code",
      "execution_count": 6,
      "metadata": {
        "autoscroll": "auto"
      },
      "outputs": [],
      "source": "%pyspark\nscored_variants_dedup.where(col(\u0027DeNovo_boolean\u0027) \u003d\u003d 1).groupBy(\u0027biospecimen_id\u0027).sum(\u0027cadd_score\u0027).show()"
    },
    {
      "cell_type": "code",
      "execution_count": 7,
      "metadata": {
        "autoscroll": "auto"
      },
      "outputs": [],
      "source": "%pyspark\nprint(\u0027Total De Novo.............\u0027,scored_variants_dedup.where(col(\u0027DeNovo_boolean\u0027) \u003d\u003d 1).count()) # De Novo High/Moderate\nprint(\u0027Total VEP High Impact.....\u0027,scored_variants_dedup.where(col(\u0027High_Impact_boolean\u0027) \u003d\u003d 1).count()) # VEP High Impact \nprint(\u0027Total CADD \u003e 20...........\u0027,scored_variants_dedup.where(col(\u0027gt20_boolean\u0027) \u003d\u003d 1).count()) # CADD greater than 20.0\nprint(\u0027Total eQTL................\u0027,scored_variants_dedup.where(col(\u0027eqtl_boolean\u0027) \u003d\u003d 1).count()) # eQTLs\n\nprint(\u0027Unique De Novo.............\u0027,scored_variants_dedup.where(col(\u0027DeNovo_boolean\u0027) \u003d\u003d 1).select(\u0027unique_variant_id\u0027).distinct().count()) # De Novo High/Moderate\nprint(\u0027Unique VEP High Impact.....\u0027,scored_variants_dedup.where(col(\u0027High_Impact_boolean\u0027) \u003d\u003d 1).select(\u0027unique_variant_id\u0027).distinct().count()) # VEP High Impact \nprint(\u0027Unique CADD \u003e 20...........\u0027,scored_variants_dedup.where(col(\u0027gt20_boolean\u0027) \u003d\u003d 1).select(\u0027unique_variant_id\u0027).distinct().count()) # CADD greater than 20.0\nprint(\u0027Unique eQTL................\u0027,scored_variants_dedup.where(col(\u0027eqtl_boolean\u0027) \u003d\u003d 1).select(\u0027unique_variant_id\u0027).distinct().count()) # eQTLs\n\nprint(\u0027Total De Novo genes.............\u0027,scored_variants_dedup.where(col(\u0027DeNovo_boolean\u0027) \u003d\u003d 1).select(\u0027symbol\u0027).distinct().count()) # De Novo High/Moderate\nprint(\u0027Total VEP High Impact genes.....\u0027,scored_variants_dedup.where(col(\u0027High_Impact_boolean\u0027) \u003d\u003d 1).select(\u0027symbol\u0027).distinct().count()) # VEP High Impact \nprint(\u0027Total CADD \u003e 20 genes...........\u0027,scored_variants_dedup.where(col(\u0027gt20_boolean\u0027) \u003d\u003d 1).select(\u0027symbol\u0027).distinct().count()) # CADD greater than 20.0\nprint(\u0027Total eQTL genes................\u0027,scored_variants_dedup.where(col(\u0027eqtl_boolean\u0027) \u003d\u003d 1).select(\u0027symbol\u0027).distinct().count()) # eQTLs"
    },
    {
      "cell_type": "code",
      "execution_count": 8,
      "metadata": {
        "autoscroll": "auto"
      },
      "outputs": [],
      "source": "%pyspark\ndenovo_BSids \u003d list(Counter(scored_variants_dedup.where(col(\u0027DeNovo_boolean\u0027) \u003d\u003d 1).select(\u0027biospecimen_id\u0027).toPandas()[\u0027biospecimen_id\u0027]).values())\n#highImpact_BSids \u003d list(Counter(scored_variants_dedup.where(col(\u0027High_Impact_boolean\u0027) \u003d\u003d 1).select(\u0027biospecimen_id\u0027).toPandas()[\u0027biospecimen_id\u0027]).values())\n#caddGT20_BSids \u003d list(Counter(scored_variants_dedup.where(col(\u0027gt20_boolean\u0027) \u003d\u003d 1).select(\u0027biospecimen_id\u0027).toPandas()[\u0027biospecimen_id\u0027]).values())\n#eqtl_BSids \u003d list(Counter(scored_variants_dedup.where(col(\u0027eqtl_boolean\u0027) \u003d\u003d 1).select(\u0027biospecimen_id\u0027).toPandas()[\u0027biospecimen_id\u0027]).values())\n"
    },
    {
      "cell_type": "code",
      "execution_count": 9,
      "metadata": {
        "autoscroll": "auto"
      },
      "outputs": [],
      "source": "%pyspark\nplt.close(\u0027all\u0027)\nplt.hist().select(\u0027biospecimen_id\u0027).toPandas()[\u0027biospecimen_id\u0027]).values())\nz.show(plt)"
    },
    {
      "cell_type": "code",
      "execution_count": 10,
      "metadata": {
        "autoscroll": "auto"
      },
      "outputs": [],
      "source": "%pyspark\nplt.close(\u0027all\u0027)\nplt.hist(highImpact_BSids)\nz.show(plt)"
    },
    {
      "cell_type": "code",
      "execution_count": 11,
      "metadata": {
        "autoscroll": "auto"
      },
      "outputs": [],
      "source": "%pyspark\nplt.close(\u0027all\u0027)\nplt.hist(eqtl_BSids)\nz.show(plt)"
    },
    {
      "cell_type": "code",
      "execution_count": 12,
      "metadata": {
        "autoscroll": "auto"
      },
      "outputs": [],
      "source": "%pyspark\nplt.close(\u0027all\u0027)\nplt.hist(caddGT20_BSids)\nz.show(plt)"
    },
    {
      "cell_type": "code",
      "execution_count": 13,
      "metadata": {
        "autoscroll": "auto"
      },
      "outputs": [],
      "source": "%pyspark\nscored_variants_dedup.where(col(\u0027symbol\u0027).isin(list(heartGenesPerc))) #scored_variants_dedup.where(col(\u0027symbol\u0027).isin(list(heartGenesPerc)))"
    },
    {
      "cell_type": "code",
      "execution_count": 14,
      "metadata": {
        "autoscroll": "auto"
      },
      "outputs": [],
      "source": "%pyspark\nplt.close(\u0027all\u0027)\n\n#means \u003d gene_overlaps \u003d num_genes \u003d num_vars \u003d []\npercentages \u003d [.001,.01,.025,.05,.1, .15,.2]\nconstants \u003d [5,10,20,50,100,250,500,1000]\nPERCENTAGE \u003d CONSTANT \u003d 0\n\nwith PdfPages(\u0027CHD_GTEx_percent_filtering_Genes.pdf\u0027) as pdf:\n        \n    #for n,PERCENTAGE in enumerate(percentages):\n    for n,CONSTANT in enumerate(constants):\n        \n        heartGenesPerc,kidneyGenesPerc \u003d get_perc_genes(heart,kidney,percentage\u003d0,constant\u003dCONSTANT,drop_mt\u003dTrue)\n        #heartGenesPerc,kidneyGenesPerc \u003d get_perc_genes(heart,kidney,percentage\u003dPERCENTAGE,constant\u003d0,drop_mt\u003dTrue)\n        \n        #print(\u0027Number of Heart genes:\u0027,len(heartGenesPerc),\u0027 Number of Kidney genes:\u0027,len(kidneyGenesPerc))\n        # length of intersection   divided by    length of unique set\n        percentage_overlap \u003d np.round(100 * (   len(set(list(heartGenesPerc)).intersection(set(list(kidneyGenesPerc)))) / len(set(list(heartGenesPerc) + list(kidneyGenesPerc)))),2  )\n        #print(\u0027overlap\u0027,str(percentage_overlap))\n        \n        #scored_variants_dedup \u003d scored_variants_dedup.where(col(\u0027DeNovo_boolean\u0027) \u003d\u003d 1)\n        #scored_variants_dedup \u003d scored_variants_dedup.where(col(\u0027High_Impact_boolean\u0027) \u003d\u003d 1)\n        #scored_variants_dedup \u003d scored_variants_dedup.where(col(\u0027gt20_boolean\u0027) \u003d\u003d 1)\n        #scored_variants_dedup \u003d scored_variants_dedup.where(col(\u0027eqtl_boolean\u0027) \u003d\u003d 1)\n        \n        df_vars_heart \u003d scored_variants_dedup.where(col(\u0027symbol\u0027).isin(list(heartGenesPerc)))\n        df_vars_kidney \u003d scored_variants_dedup.where(col(\u0027symbol\u0027).isin(list(kidneyGenesPerc)))\n        \n        heart_variant_count \u003d df_vars_heart.count()\n        kidney_variant_count \u003d df_vars_kidney.count()\n        #print(\u0027Number of Heart variants:\u0027,heart_variant_count, \u0027Number of Kidney variants:\u0027, kidney_variant_count)\n        \n        # get max cadd score in each tissue for imputing indels w/o cadd scores\n        MAX_CADD_SCORE_heart \u003d df_vars_heart.agg({\"cadd_score\": \"mean\"}).collect()[0][0] # max\n        MAX_CADD_SCORE_kidney \u003d df_vars_kidney.agg({\"cadd_score\": \"mean\"}).collect()[0][0] # max\n        #print(MAX_CADD_SCORE_heart,MAX_CADD_SCORE_kidney)\n        #print(\u0027Imputing \u0027,str(df_vars_heart.where( col(\u0027cadd_score\u0027).isNull() ).count()), \u0027heart variants.\u0027)\n        #print(\u0027Imputing \u0027,str(df_vars_kidney.where( col(\u0027cadd_score\u0027).isNull() ).count()), \u0027kidney variants.\u0027)\n        \n        df_vars_heart \u003d df_vars_heart.withColumn(\u0027cadd_score_fixed\u0027,when(   col(\u0027cadd_score\u0027).isNull(), MAX_CADD_SCORE_heart   ).otherwise(col(\u0027cadd_score\u0027)))\n        df_vars_kidney \u003d df_vars_kidney.withColumn(\u0027cadd_score_fixed\u0027,when(   col(\u0027cadd_score\u0027).isNull(), MAX_CADD_SCORE_kidney   ).otherwise(col(\u0027cadd_score\u0027)))\n        \n        #df_vars_heart \u003d df_vars_heart.sort(\u0027cadd_score_fixed\u0027,ascending\u003dFalse).limit(2000)  # take just 1000 highest scoring variants\n        #df_vars_kidney \u003d df_vars_kidney.sort(\u0027cadd_score_fixed\u0027,ascending\u003dFalse).limit(2000)\n        #vars_per_person_heart \u003dnp.round(df_vars_heart.groupBy(\u0027biospecimen_id\u0027).count().select(F.mean(\u0027count\u0027)).collect()[0][0],2) \n        #vars_per_person_kidney \u003d np.round(df_vars_kidney.groupBy(\u0027biospecimen_id\u0027).count().select(F.mean(\u0027count\u0027)).collect()[0][0],2) \n        \n        # aggregate by gene symbol, not plotting  these\n        cadd_gene_sums_heart \u003d df_vars_heart.groupBy(\"symbol\").sum(\"cadd_score_fixed\").select(F.round(col(\u0027sum(cadd_score_fixed)\u0027)).alias(\u0027cadd_score_sum\u0027),\u0027symbol\u0027)\n        cadd_gene_sums_kidney \u003d df_vars_kidney.groupBy(\"symbol\").sum(\"cadd_score_fixed\").select(F.round(col(\u0027sum(cadd_score_fixed)\u0027)).alias(\u0027cadd_score_sum\u0027),\u0027symbol\u0027)\n        # get frequency of each gene as a column\n        cadd_gene_sums_heart \u003d cadd_gene_sums_heart.join(df_vars_heart.groupBy(\u0027symbol\u0027).count(),\u0027symbol\u0027)#.toPandas()[\u0027cadd_score_sum\u0027]\n        cadd_gene_sums_heart \u003d cadd_gene_sums_kidney.join(df_vars_kidney.groupBy(\u0027symbol\u0027).count(),\u0027symbol\u0027)#.toPandas()[\u0027cadd_score_sum\u0027]\n        \n        break\n        #cadd_sums_heart \u003d df_vars_heart.groupBy(\"biospecimen_id\").sum(\"cadd_score_fixed\").select(\u0027sum(cadd_score_fixed)\u0027,\u0027biospecimen_id\u0027)#.toPandas()[\u0027sum(cadd_score_fixed)\u0027]\n        #cadd_sums_kidney \u003d df_vars_kidney.groupBy(\"biospecimen_id\").sum(\"cadd_score_fixed\").select(\u0027sum(cadd_score_fixed)\u0027,\u0027biospecimen_id\u0027)#.toPandas()[\u0027sum(cadd_score_fixed)\u0027]\n        #cadd_sums_heart \u003d cadd_sums_heart.join(df_vars_heart.groupBy(\u0027biospecimen_id\u0027).count(),\u0027biospecimen_id\u0027) # join frequency of variants and cadd sums (both per person)\n        #cadd_sums_kidney \u003d cadd_sums_kidney.join(df_vars_kidney.groupBy(\u0027biospecimen_id\u0027).count(),\u0027biospecimen_id\u0027) # join frequency of variants and cadd sums (both per person)\n        \n        # Normalize by per person (\u0027count\u0027 col from previous 2 lines^^), # here we are dividing the (fixed, aka imputed) CADD scores by the number of variants each person has.\n        # This is to account for the fact that the  \n        \n        #cadd_sums_heart \u003d cadd_sums_heart.withColumn(\u0027cadd_sum_normed\u0027,F.round(col(\u0027sum(cadd_score_fixed)\u0027) / col(\u0027count\u0027),2)).select(\u0027cadd_sum_normed\u0027).toPandas()[\u0027cadd_sum_normed\u0027]\n        #cadd_sums_kidney \u003d cadd_sums_kidney.withColumn(\u0027cadd_sum_normed\u0027,F.round(col(\u0027sum(cadd_score_fixed)\u0027) / col(\u0027count\u0027),2)).select(\u0027cadd_sum_normed\u0027).toPandas()[\u0027cadd_sum_normed\u0027]  \n        \n        # append lists for plotting\n        #means.append([np.mean(cadd_sums_heart),np.mean(cadd_sums_kidney)]); gene_overlaps.append(percentage_overlap); \n        #num_genes.append([len(heartGenesPerc),len(kidneyGenesPerc)]); num_vars.append([heart_variant_count,kidney_variant_count])\n        \n        U1, p \u003d mannwhitneyu(cadd_sums_heart, cadd_sums_kidney) # https://docs.scipy.org/doc/scipy/reference/generated/scipy.stats.mannwhitneyu.html\n        \n        #plt.figure(figsize\u003d(9,6))\n        plt.hist(cadd_sums_heart, alpha\u003d0.85,bins\u003d8, label\u003df\u0027Heart\u0027,edgecolor\u003d\u0027darkred\u0027,color\u003d \u0027#eb4d4b\u0027)\n        plt.hist(cadd_sums_kidney, alpha\u003d0.85,bins\u003d8, label\u003df\u0027Kidney\u0027,edgecolor\u003d\u0027darkblue\u0027,color \u003d  \u0027#686de0\u0027)\n        \n        #plt.figure(figsize\u003d(6,6))\n        #sns.violinplot(data\u003dpercent_df[percent_df[\u0027Percentage\u0027] \u003d\u003d \u00270.1%\u0027][[\u0027heart\u0027,\u0027kidney\u0027]])\n        \n        legend \u003d plt.legend(loc\u003d\u0027upper right\u0027,frameon\u003dTrue).get_frame().set_edgecolor(\u0027k\u0027)\n        \n        if CONSTANT!\u003d0: t \u003d str(CONSTANT)\n        else:  t \u003d f\u0027{float(100*PERCENTAGE)}%\u0027\n        \n        plt.title(f\u0027Top {t} expressed genes from GTEx heart and kidney data\\nwere used to filter variants from the CHD cohort\u0027)\n        plt.xlabel(\u0027Per-patient normalized CADD scores\u0027); plt.ylabel(\u0027Frequency\u0027);  plt.grid(axis\u003d\u0027y\u0027,alpha\u003d.3); plt.gca().set_axisbelow(True) \n    \n        s\u003df\u0027heart genes: {len(heartGenesPerc):,}, heart variants: {heart_variant_count:,}\\nkidney genes: {len(kidneyGenesPerc):,}, kidney variants: {kidney_variant_count:,}\\nGene Overlap: {percentage_overlap}%; p-value: {Decimal(p):.2E}\u0027;   # format nums w/ commas --\u003e   f\u0027{value:,}\u0027\n        \n        at \u003d AnchoredText(s, loc\u003d2,prop\u003ddict(size\u003d7.5)); t \u003d plt.gca().add_artist(at) #plt.savefig(f\u0027CHD_distribution_gtex_{int(percentage*100)}percent.png\u0027)\n        \n        pdf.savefig() ; z.show(plt); plt.close()    \n        \n        if CONSTANT\u003d\u003d0: STRATIFY_TYPE\u003d\u0027Percentage\u0027; STRING_COL_VALUE \u003d f\u0027{float(PERCENTAGE*100)}%\u0027\n        else: STRATIFY_TYPE\u003d\u0027Constant\u0027; STRING_COL_VALUE \u003d f\u0027{CONSTANT}\u0027\n            \n        if n\u003d\u003d0:                                \n            percent_df \u003d pd.concat([pd.DataFrame(cadd_sums_heart),pd.DataFrame(cadd_sums_kidney)],axis\u003d1); percent_df.columns \u003d [\u0027heart\u0027,\u0027kidney\u0027]\n    \n             # cols may be differrent lengths (if one or more patients has no variants in one of the genes) esp. if \n             # were taking only a small % of top genes, so make sure we use the largest gene list to create % colummn\n            #if CONSTANT!\u003d0:   percent_df[\u0027Constant\u0027] \u003d np.max([len(cadd_sums_heart), len(cadd_sums_kidney)]) * [f\u0027{CONSTANT}\u0027] \n            #else: percent_df[\u0027Percentage\u0027] \u003d np.max([len(cadd_sums_heart), len(cadd_sums_kidney)]) * [f\u0027{float(PERCENTAGE*100)}%\u0027] \n            percent_df[STRATIFY_TYPE] \u003d np.max([len(cadd_sums_heart), len(cadd_sums_kidney)]) * [STRING_COL_VALUE] \n            \n        elif  n\u003e0: \n            temp_df \u003d pd.concat([pd.DataFrame(cadd_sums_heart),pd.DataFrame(cadd_sums_kidney)],axis\u003d1); temp_df.columns \u003d [\u0027heart\u0027,\u0027kidney\u0027]\n            \n            #if CONSTANT!\u003d0:  temp_df[\u0027Constant\u0027] \u003d np.max([len(cadd_sums_heart), len(cadd_sums_kidney)]) * [f\u0027{CONSTANT}\u0027] \n            #else: temp_df[\u0027Percentage\u0027] \u003d np.max([len(cadd_sums_heart), len(cadd_sums_kidney)]) * [f\u0027{float(PERCENTAGE*100)}%\u0027] \n            temp_df[STRATIFY_TYPE] \u003d np.max([len(cadd_sums_heart), len(cadd_sums_kidney)]) * [STRING_COL_VALUE] \n            percent_df \u003d pd.concat([percent_df,temp_df])\n\n        if constants[-1] \u003d\u003d CONSTANT or percentages[-1] \u003d\u003d PERCENTAGE:\n            #plot_chd_ridgelines(percent_df,stratify_type\u003dSTRATIFY_TYPE); \n            pg \u003d percent_df.groupby(STRATIFY_TYPE, sort\u003dFalse)\n            \n            plt.figure(figsize\u003d(16,24))\n            fig, axes \u003d joypy.joyplot(pg,by\u003dSTRATIFY_TYPE,linewidth\u003d.5,  ylim \u003d \u0027own\u0027, overlap\u003d.5,color\u003d[ \u0027#eb4d4b\u0027, \u0027#686de0\u0027],legend\u003dTrue,alpha\u003d0.85,)\n            plt.title(\u0027Summary of CHD analysis using GTEx tissue datasets\u0027, fontsize\u003d13)\n            plt.xlabel(\u0027Per-patient normalized CADD scores\u0027);  plt.tight_layout()\n           \n            z.show(plt); pdf.savefig();plt.close(); #plt.savefig(f\u0027CHD_gtex_ridgeline.png\u0027)\n            \n\n#cp  CHD_GTEx_constant_filtering.pdf  ~/cavatica/projects/taylordm/taylor-urbs-r03-kf-cardiac/\n#percent_df \u003d percent_df.iloc[::-1]"
    },
    {
      "cell_type": "code",
      "execution_count": 15,
      "metadata": {
        "autoscroll": "auto"
      },
      "outputs": [],
      "source": "%sh\n#ls \ncp CHD_GTEx_percent_filtering_bsID_2.pdf  ~/cavatica/projects/taylordm/taylor-urbs-r03-kf-cardiac/ \n"
    },
    {
      "cell_type": "code",
      "execution_count": 16,
      "metadata": {
        "autoscroll": "auto"
      },
      "outputs": [],
      "source": "%pyspark\ncadd_gene_sums_heart.sort(\u0027count\u0027,ascending\u003dFalse).show(5)\n"
    },
    {
      "cell_type": "code",
      "execution_count": 17,
      "metadata": {
        "autoscroll": "auto"
      },
      "outputs": [],
      "source": "%pyspark\ncadd_gene_sums_heart.sort(\u0027cadd_score_sum\u0027,ascending\u003dFalse).show(5)"
    },
    {
      "cell_type": "code",
      "execution_count": 18,
      "metadata": {
        "autoscroll": "auto"
      },
      "outputs": [],
      "source": "%pyspark\ncadd_gene_sums_heart.select(\u0027symbol\u0027).distinct().count()"
    },
    {
      "cell_type": "code",
      "execution_count": 19,
      "metadata": {
        "autoscroll": "auto"
      },
      "outputs": [],
      "source": "%pyspark\n\n#df_vars_heart.drop(\u0027cadd_score\u0027,\u0027is_proband\u0027,\u0027quality\u0027,\u0027info_dp\u0027,\u0027reference\u0027,\u0027alternate\u0027,\u0027chromosome\u0027).toPandas().to_csv(f\u0027CHD_GTEx_heart_{float(PERCENTAGE*100)}%.csv\u0027,index\u003dFalse)\n#df_vars_kidney.drop(\u0027cadd_score\u0027,\u0027is_proband\u0027,\u0027quality\u0027,\u0027info_dp\u0027,\u0027reference\u0027,\u0027alternate\u0027,\u0027chromosome\u0027).toPandas().to_csv(f\u0027CHD_GTEx_kidney_{float(PERCENTAGE*100)}%.csv\u0027,index\u003dFalse)  \n#df_vars_heart.drop(\u0027cadd_score\u0027,\u0027is_proband\u0027,\u0027quality\u0027,\u0027info_dp\u0027,\u0027reference\u0027,\u0027alternate\u0027,\u0027chromosome\u0027).write.parquet(f\u0027CHD_GTEx_heart_{float(PERCENTAGE*100)}%.parquet\u0027)\n#df_vars_kidney.drop(\u0027cadd_score\u0027,\u0027is_proband\u0027,\u0027quality\u0027,\u0027info_dp\u0027,\u0027reference\u0027,\u0027alternate\u0027,\u0027chromosome\u0027).write.parquet(f\u0027CHD_GTEx_kidney_{float(PERCENTAGE*100)}%.parquet\u0027)\n"
    },
    {
      "cell_type": "code",
      "execution_count": 20,
      "metadata": {
        "autoscroll": "auto"
      },
      "outputs": [],
      "source": "%pyspark\nplt.close(\u0027all\u0027)\nplt.hist(cadd_gene_sums_heart.select(\u0027cadd_score_sum\u0027).toPandas()[\u0027cadd_score_sum\u0027].values,bins\u003d5)\nz.show(plt)"
    },
    {
      "cell_type": "code",
      "execution_count": 21,
      "metadata": {
        "autoscroll": "auto"
      },
      "outputs": [],
      "source": "%pyspark\ncadd_gene_sums_kidney.sort(\u0027sum(cadd_score_fixed)\u0027,ascending\u003dFalse).show()"
    },
    {
      "cell_type": "code",
      "execution_count": 22,
      "metadata": {
        "autoscroll": "auto"
      },
      "outputs": [],
      "source": "%pyspark\n.show()"
    },
    {
      "cell_type": "code",
      "execution_count": 23,
      "metadata": {
        "autoscroll": "auto"
      },
      "outputs": [],
      "source": "%pyspark\ndf_vars_heart.sort(\u0027cadd_score_fixed\u0027,ascending\u003dFalse).drop(\u0027start\u0027,\u0027rsID\u0027,\u0027is_proband\u0027,\u0027quality\u0027,\n                                                            \u0027info_dp\u0027,\u0027reference\u0027,\u0027alternate\u0027,\u0027chromosome\u0027,\n                                                            \u0027name\u0027,\u0027hgvsg\u0027,\u0027biospecimen_id\u0027).limit(1000).show()"
    },
    {
      "cell_type": "code",
      "execution_count": 24,
      "metadata": {
        "autoscroll": "auto"
      },
      "outputs": [],
      "source": "%pyspark\ndf_vars_heart.where((col(\u0027cadd_score\u0027).isNull())).count()"
    },
    {
      "cell_type": "code",
      "execution_count": 25,
      "metadata": {
        "autoscroll": "auto"
      },
      "outputs": [],
      "source": "%pyspark\ndf_vars_kidney.count()"
    },
    {
      "cell_type": "code",
      "execution_count": 26,
      "metadata": {
        "autoscroll": "auto"
      },
      "outputs": [],
      "source": "%pyspark\nprint(df_vars_heart.count())\n#df_vars_heart.where(col(\u0027cadd_score\u0027).isNull()).count()"
    },
    {
      "cell_type": "code",
      "execution_count": 27,
      "metadata": {
        "autoscroll": "auto"
      },
      "outputs": [],
      "source": "%pyspark\ndf_vars_heart.agg({\"cadd_score\": \"mean\"}).collect()[0][0]"
    },
    {
      "cell_type": "code",
      "execution_count": 28,
      "metadata": {
        "autoscroll": "auto"
      },
      "outputs": [],
      "source": "%pyspark\ncadd_sums_kidney.show()"
    },
    {
      "cell_type": "code",
      "execution_count": 29,
      "metadata": {
        "autoscroll": "auto"
      },
      "outputs": [],
      "source": "%pyspark\nls"
    },
    {
      "cell_type": "code",
      "execution_count": 30,
      "metadata": {
        "autoscroll": "auto"
      },
      "outputs": [],
      "source": "%pyspark\ndf_vars_heart.drop(\u0027cadd_score\u0027,\u0027is_proband\u0027,\u0027quality\u0027,\u0027info_dp\u0027,\u0027reference\u0027,\u0027alternate\u0027,\u0027chromosome\u0027).count()"
    },
    {
      "cell_type": "code",
      "execution_count": 31,
      "metadata": {
        "autoscroll": "auto"
      },
      "outputs": [],
      "source": "%pyspark\nplt.close(\u0027all\u0027)\nplt.plot(pd.DataFrame(means),[ \u0027#eb4d4b\u0027, \u0027#686de0\u0027])\nz.show(plt)"
    },
    {
      "cell_type": "code",
      "execution_count": 32,
      "metadata": {
        "autoscroll": "auto"
      },
      "outputs": [],
      "source": "%pyspark\npd.DataFrame(means)\npd.DataFrame(gene_overlaps)\npd.DataFrame(num_genes)\npd.DataFrame(num_vars)"
    },
    {
      "cell_type": "code",
      "execution_count": 33,
      "metadata": {
        "autoscroll": "auto"
      },
      "outputs": [],
      "source": "%pyspark\n#plt.figure(figsize\u003d(9,6))\ndata \u003d [cadd_sums_heart, cadd_sums_kidney]\nfig, ax \u003d plt.subplots()\n#ax.set_title(f\u0027Distributions of (per person) CADD scores from the\\nCHD cohort (top {int(percentage*100)}% of GTEx expressed genes in heart vs kidney)\u0027)\nax.boxplot(data)\nax.grid(alpha\u003d.25)\nplt.xticks([1, 2], [\u0027GTEx Heart gene list\u0027, \u0027GTEx Kidney gene list\u0027])\n#plt.savefig(f\u0027CHD_bloxplot_gtex_{int(percentage*100)}percent.png\u0027)\n\nz.show(plt)\nplt.close()"
    },
    {
      "cell_type": "code",
      "execution_count": 34,
      "metadata": {
        "autoscroll": "auto"
      },
      "outputs": [],
      "source": "%pyspark\nplt.figure(figsize\u003d(6,6))\nsns.violinplot(data\u003dpercent_df[percent_df[\u0027Percentage\u0027] \u003d\u003d \u00270.1%\u0027][[\u0027heart\u0027,\u0027kidney\u0027]])\nz.show(plt)"
    },
    {
      "cell_type": "markdown",
      "metadata": {},
      "source": "# Now compute aggregated (per person) CADD scores for the HuBMAP Heart (by study and cluster) data\n"
    },
    {
      "cell_type": "code",
      "execution_count": 36,
      "metadata": {
        "autoscroll": "auto"
      },
      "outputs": [],
      "source": "%pyspark\nhm_heart \u003d spark.read.csv(\u0027s3a://kf-strides-variant-parquet-prd/notebooks/5175e6e3-c3d7-4c19-b51f-6f1ea4dd3700/tables/hubmap_heart_cluster_genes/integrated_heart_hubmap_sciseq_7samples_markers.csv\u0027,header\u003dTrue)\n\nhm_heart_2 \u003d hm_heart.withColumn(\"p_val_adj_double\", col(\u0027p_val_adj\u0027).cast(DoubleType()))\nhm_heart_2 \u003d hm_heart_2.where((col(\u0027_c0\u0027) !\u003d 1) \u0026\\\n                            (col(\u0027p_val_adj\u0027) \u003c .05) \u0026\\\n                            (col(\u0027avg_log2FC\u0027) \u003e .48))\\\n                            .select( list(set(hm_heart_2.columns) - set([\"pct.1\",\"pct.2\",\"_c0\"])) )\n                            \nhm_heart_2 \u003d hm_heart_2.where(col(\u0027SYMBOL\u0027) !\u003d \u0027NA\u0027)\nprint(hm_heart_2.count())\n\n\nhm_kidney \u003d spark.read.csv(\u0027s3a://kf-strides-variant-parquet-prd/notebooks/5175e6e3-c3d7-4c19-b51f-6f1ea4dd3700/tables/hubmap_heart_cluster_genes/integrated_kidney_hubmap_10xseq_7samples_markers.csv\u0027,header\u003dTrue)\n\nhm_kidney_2 \u003d hm_kidney.withColumn(\"p_val_adj_double\", col(\u0027p_val_adj\u0027).cast(DoubleType()))\nhm_kidney_2 \u003d hm_kidney_2.where((col(\u0027_c0\u0027) !\u003d 1) \u0026\\\n                            (col(\u0027p_val_adj\u0027) \u003c .05) \u0026\\\n                            (col(\u0027avg_log2FC\u0027) \u003e .48))\\\n                            .select( list(set(hm_kidney_2.columns) - set([\"pct.1\",\"pct.2\",\"_c0\"])) )\n                            \nhm_kidney_2 \u003d hm_kidney_2.where(col(\u0027SYMBOL\u0027) !\u003d \u0027NA\u0027)\nprint(hm_kidney_2.count())"
    },
    {
      "cell_type": "code",
      "execution_count": 37,
      "metadata": {
        "autoscroll": "auto"
      },
      "outputs": [],
      "source": "%pyspark\nCounter(hm_heart_2.select(\u0027cluster\u0027).toPandas()[\u0027cluster\u0027])"
    },
    {
      "cell_type": "code",
      "execution_count": 38,
      "metadata": {
        "autoscroll": "auto"
      },
      "outputs": [],
      "source": "%pyspark\ndef get_hubmap_genes(df1,df2,percentage\u003d0,constant\u003d0,drop_mt\u003dFalse,bottom_perc\u003d0):\n    \n    if drop_mt:\n        df1 \u003d df1.where(~col(\u0027SYMBOL\u0027).startswith(\u0027MT-\u0027))\n        df2 \u003d df2.where(~col(\u0027SYMBOL\u0027).startswith(\u0027MT-\u0027))\n        \n    df1_len, df2_len \u003d df1.count(), df2.count()\n    \n    df1_sort \u003d df1.sort(\u0027p_val_adj_double\u0027,ascending\u003dTrue)\n    df2_sort \u003d df2.sort(\u0027p_val_adj_double\u0027,ascending\u003dTrue)\n    \n    if percentage and not constant:\n        CUTOFF_1 \u003d int(percentage*df1_len)\n        CUTOFF_2 \u003d int(percentage*df2_len)\n        df1_genes \u003d df1_sort.select(\u0027SYMBOL\u0027).toPandas().iloc[:CUTOFF_1,:].reset_index(drop\u003dTrue)[\u0027SYMBOL\u0027]\n        df2_genes \u003d df2_sort.select(\u0027SYMBOL\u0027).toPandas().iloc[:CUTOFF_2,:].reset_index(drop\u003dTrue)[\u0027SYMBOL\u0027]\n    \u0027\u0027\u0027\n    elif bottom_perc !\u003d0:\n        CUTOFF_1 \u003d int(bottom_perc*df1_len)\n        print(CUTOFF_1)\n        CUTOFF_2 \u003d int(bottom_perc*df2_len)\n        df1_sort \u003d df1.sort(\u0027combined_TPM\u0027,ascending\u003dTrue)\n        df2_sort \u003d df2.sort(\u0027combined_TPM\u0027,ascending\u003dTrue)\n        \n        df1_genes \u003d df1_sort.select(\u0027genes\u0027).toPandas().iloc[:CUTOFF_1,:].reset_index(drop\u003dTrue)[\u0027genes\u0027]\n        df2_genes \u003d df2_sort.select(\u0027genes\u0027).toPandas().iloc[:CUTOFF_2,:].reset_index(drop\u003dTrue)[\u0027genes\u0027]        \n    elif constant:\n        df1_genes \u003d df1_sort.select(\u0027genes\u0027).toPandas().iloc[:constant,:].reset_index(drop\u003dTrue)[\u0027genes\u0027]\n        df2_genes \u003d df2_sort.select(\u0027genes\u0027).toPandas().iloc[:constant,:].reset_index(drop\u003dTrue)[\u0027genes\u0027]\n    \u0027\u0027\u0027\n    return df1_genes, df2_genes"
    },
    {
      "cell_type": "code",
      "execution_count": 39,
      "metadata": {
        "autoscroll": "auto"
      },
      "outputs": [],
      "source": "%pyspark\n\u0027\u0027\u0027   NOT THE CORRECT WAY TO DO THIS -- MUST SPLIT  IT UP BY CLUSTER\nplt.close(\u0027all\u0027)\nmeans \u003d []\ngene_overlaps \u003d []\nnum_genes \u003d []\nnum_vars \u003d []\n#percentages \u003d [.0005,.001,.0015,.002,.003,.004]\npercentages \u003d [.001,.01,.025,.05,.1,.15,.2]\npercentages \u003d [.01,.025,.05,.1,.25,.5,.75,1]\n\n#for n,CONSTANT in enumerate([5,20,50,100,250,500,1000]):\n#for n,PERCENTAGE in enumerate(percentages):\nfor n,PERCENTAGE in enumerate(percentages):\n\n    heartGenesPerc,kidneyGenesPerc \u003d get_hubmap_genes(hm_heart_2,hm_kidney_2,percentage\u003dPERCENTAGE,constant\u003d0,drop_mt\u003dTrue)\n    \n    #print(\u0027Number of Heart genes:\u0027,len(heartGenesPerc),\u0027 Number of Kidney genes:\u0027,len(kidneyGenesPerc))\n    # length of intersection   divided by    length of unique set\n    percentage_overlap \u003d np.round(100 * (   len(set(list(heartGenesPerc)).intersection(set(list(kidneyGenesPerc)))) / len(set(list(heartGenesPerc) + list(kidneyGenesPerc)))),2  )\n    #print(\u0027overlap\u0027,str(percentage_overlap))\n    \n    df_vars_heart \u003d scored_variants_dedup.where(col(\u0027symbol\u0027).isin(list(heartGenesPerc)))\n    df_vars_kidney \u003d scored_variants_dedup.where(col(\u0027symbol\u0027).isin(list(kidneyGenesPerc)))\n    \n    heart_variant_count \u003d df_vars_heart.count()\n    kidney_variant_count \u003d df_vars_kidney.count()\n    #print(\u0027Number of Heart variants:\u0027,heart_variant_count, \u0027Number of Kidney variants:\u0027, kidney_variant_count)\n    \n    # get max cadd score in each tissue for imputing indels w/o cadd scores\n    MAX_CADD_SCORE_heart \u003d df_vars_heart.agg({\"cadd_score\": \"max\"}).collect()[0][0]\n    MAX_CADD_SCORE_kidney \u003d df_vars_kidney.agg({\"cadd_score\": \"max\"}).collect()[0][0]\n    \n    #print(MAX_CADD_SCORE_heart,MAX_CADD_SCORE_kidney)\n    #print(\u0027Imputing \u0027,str(df_vars_heart.where( col(\u0027cadd_score\u0027).isNull() ).count()), \u0027heart variants.\u0027)\n    #print(\u0027Imputing \u0027,str(df_vars_kidney.where( col(\u0027cadd_score\u0027).isNull() ).count()), \u0027kidney variants.\u0027)\n    \n    df_vars_heart \u003d df_vars_heart.withColumn(\u0027cadd_score_fixed\u0027,when(   col(\u0027cadd_score\u0027).isNull(), MAX_CADD_SCORE_heart   ).otherwise(col(\u0027cadd_score\u0027)))\n    df_vars_kidney \u003d df_vars_kidney.withColumn(\u0027cadd_score_fixed\u0027,when(   col(\u0027cadd_score\u0027).isNull(), MAX_CADD_SCORE_kidney   ).otherwise(col(\u0027cadd_score\u0027)))\n    \n    #vars_per_person_heart \u003dnp.round(df_vars_heart.groupBy(\u0027biospecimen_id\u0027).count().select(F.mean(\u0027count\u0027)).collect()[0][0],2) \n    #vars_per_person_kidney \u003d np.round(df_vars_kidney.groupBy(\u0027biospecimen_id\u0027).count().select(F.mean(\u0027count\u0027)).collect()[0][0],2) \n    \n    cadd_sums_heart \u003d df_vars_heart.groupBy(\"biospecimen_id\").sum(\"cadd_score_fixed\").select(\u0027sum(cadd_score_fixed)\u0027,\u0027biospecimen_id\u0027)\n    cadd_sums_kidney \u003d df_vars_kidney.groupBy(\"biospecimen_id\").sum(\"cadd_score_fixed\").select(\u0027sum(cadd_score_fixed)\u0027,\u0027biospecimen_id\u0027)\n    \n    cadd_sums_heart \u003d cadd_sums_heart.join(df_vars_heart.groupBy(\u0027biospecimen_id\u0027).count(),\u0027biospecimen_id\u0027) # join frequency of variants and cadd sums (both per person)\n    cadd_sums_kidney \u003d cadd_sums_kidney.join(df_vars_kidney.groupBy(\u0027biospecimen_id\u0027).count(),\u0027biospecimen_id\u0027) # join frequency of variants and cadd sums (both per person)\n    \n    # Normalize by per person (\u0027count\u0027 col from previous 2 lines^^), # here we are dividing the (fixed, aka imputed) CADD scores by the number of variants each person has.\n    # This is to account for the fact that the  \n    cadd_sums_heart \u003d cadd_sums_heart.withColumn(\u0027cadd_sum_normed\u0027,F.round(col(\u0027sum(cadd_score_fixed)\u0027) / col(\u0027count\u0027),2)).select(\u0027cadd_sum_normed\u0027).toPandas()[\u0027cadd_sum_normed\u0027]\n    cadd_sums_kidney \u003d cadd_sums_kidney.withColumn(\u0027cadd_sum_normed\u0027,F.round(col(\u0027sum(cadd_score_fixed)\u0027) / col(\u0027count\u0027),2)).select(\u0027cadd_sum_normed\u0027).toPandas()[\u0027cadd_sum_normed\u0027]  \n    \n    # append lists for plotting\n    means.append([np.mean(cadd_sums_heart),np.mean(cadd_sums_kidney)]); gene_overlaps.append(percentage_overlap); \n    num_genes.append([len(heartGenesPerc),len(kidneyGenesPerc)]); num_vars.append([heart_variant_count,kidney_variant_count])\n    \n    # https://docs.scipy.org/doc/scipy/reference/generated/scipy.stats.mannwhitneyu.html\n    U1, p \u003d mannwhitneyu(cadd_sums_heart, cadd_sums_kidney)\n\n    #plt.figure(figsize\u003d(9,6))\n    plt.hist(cadd_sums_heart, alpha\u003d0.85,bins\u003d8, label\u003df\u0027Heart\u0027,edgecolor\u003d\u0027darkred\u0027,color\u003d \u0027#eb4d4b\u0027)\n    plt.hist(cadd_sums_kidney, alpha\u003d0.85,bins\u003d8, label\u003df\u0027Kidney\u0027,edgecolor\u003d\u0027darkblue\u0027,color \u003d  \u0027#686de0\u0027)\n    \n    #plt.figure(figsize\u003d(6,6))\n    #sns.violinplot(data\u003dpercent_df[percent_df[\u0027Percentage\u0027] \u003d\u003d \u00270.1%\u0027][[\u0027heart\u0027,\u0027kidney\u0027]])\n    \n    legend \u003d plt.legend(loc\u003d\u0027upper right\u0027,frameon\u003dTrue).get_frame().set_edgecolor(\u0027k\u0027)\n    #legend.get_frame().set_alpha(None);legend.get_frame().set_facecolor((0, 0, 1, 0.1))\n    \n    plt.title(f\u0027Top {float(100*PERCENTAGE)}% expressed genes from GTEx heart and kidney data\\nwas used to filter variants from the CHD cohort\u0027)\n    plt.xlabel(\u0027Per-patient normalized CADD scores\u0027); plt.ylabel(\u0027Frequency\u0027);  plt.grid(axis\u003d\u0027y\u0027,alpha\u003d.3); plt.gca().set_axisbelow(True) \n\n    s\u003df\u0027heart genes: {len(heartGenesPerc):,}, heart variants: {heart_variant_count:,}\\nkidney genes: {len(kidneyGenesPerc):,}, kidney variants: {kidney_variant_count:,}\\nGene Overlap: {percentage_overlap}%\\nMann-Whitney U p-value: {Decimal(p):.2E}\u0027;   # format nums w/ commas --\u003e   f\u0027{value:,}\u0027\n    \n    at \u003d AnchoredText(s, loc\u003d2,prop\u003ddict(size\u003d9))\n\n    t \u003d plt.gca().add_artist(at)\n    #t.set_bbox(dict(facecolor\u003d\u0027red\u0027, alpha\u003d0, edgecolor\u003d\u0027red\u0027))\n    #plt.savefig(f\u0027CHD_distribution_gtex_{int(percentage*100)}percent.png\u0027)\n    z.show(plt); plt.close()    \n    \n    if n\u003d\u003d0:# and len(cadd_sums_heart) \u003d\u003d len(cadd_sums_kidney):                                \n        percent_df \u003d pd.concat([pd.DataFrame(cadd_sums_heart),pd.DataFrame(cadd_sums_kidney)],axis\u003d1)\n        percent_df.columns \u003d [\u0027heart\u0027,\u0027kidney\u0027]\n\n         # cols may be differrent lengths (if one or more patients has no variants in one of the genes) esp. if \n         # were taking only a small % of top genes, so make sure we use the largest gene list to create % colummn\n        percent_df[\u0027Percentage\u0027] \u003d np.max([len(cadd_sums_heart), len(cadd_sums_kidney)]) * [f\u0027{float(PERCENTAGE*100)}%\u0027] \n        \n    elif  n\u003e0:# and len(cadd_sums_heart) \u003d\u003d len(cadd_sums_kidney): \n        temp_df \u003d pd.concat([pd.DataFrame(cadd_sums_heart),pd.DataFrame(cadd_sums_kidney)],axis\u003d1)\n        temp_df.columns \u003d [\u0027heart\u0027,\u0027kidney\u0027]\n        temp_df[\u0027Percentage\u0027] \u003d np.max([len(cadd_sums_heart), len(cadd_sums_kidney)]) * [f\u0027{float(PERCENTAGE*100)}%\u0027] \n\n        percent_df \u003d pd.concat([percent_df,temp_df])\n\n    #if PERCENTAGE \u003d\u003d .01:\n    #    break\n#percent_df \u003d percent_df.iloc[::-1]\nplot_chd_ridgelines(percent_df) \u0027\u0027\u0027\n"
    },
    {
      "cell_type": "code",
      "execution_count": 40,
      "metadata": {
        "autoscroll": "auto"
      },
      "outputs": [],
      "source": "%pyspark\nplt.figure()\nvenn2([set(heartGenesPerc_cluster), set(kidneyGenesPerc)], (\u0027Heart\u0027, \u0027Kidney\u0027))\nplt.title(f\u0027Overlap of top {int(percentage*100)}% expressed genes in heart and kidney (GTEx)\u0027)\nplt.show()\nplt.savefig(f\u0027HM__venn_diagram_{int(percentage*100)}percent.png\u0027)\n\nz.show(plt)\nplt.close()"
    },
    {
      "cell_type": "code",
      "execution_count": 41,
      "metadata": {
        "autoscroll": "auto"
      },
      "outputs": [],
      "source": "%pyspark\nplt.figure(figsize\u003d(9,6))\nplt.hist(cadd_sums_heart, alpha\u003d0.5,bins\u003d15, label\u003df\u0027Heart - Top {int(100*percentage)}% expr. genes\u0027)\nplt.hist(cadd_sums_kidney, alpha\u003d0.5,bins\u003d15, label\u003df\u0027Kidney - Top {int(100*percentage)}% expr. genes\u0027)\nplt.legend(loc\u003d\u0027upper right\u0027)\nplt.title(\u0027Distribution of sums of Patient scores\u0027)\n#plt.grid(\u0027x\u0027)\nz.show(plt)\nplt.close()"
    },
    {
      "cell_type": "code",
      "execution_count": 42,
      "metadata": {
        "autoscroll": "auto"
      },
      "outputs": [],
      "source": "%pyspark\n\nplt.close(\u0027all\u0027)\n#means \u003d num_genes \u003d num_vars \u003d []\n\npercentages \u003d [.001,.01,.025,.05,.1,.15,.2]\npercentages \u003d [.01,.05,.1,.25]\n\nwith PdfPages(\u0027CHD_HuBMAP_percent_filtering_bsID.pdf\u0027) as pdf:\n        \n    heart_cluster_dict \u003d dict()\n    kidney_cluster_dict \u003d dict()\n    \n    clusters_heart \u003d [str(i) for i in np.sort([int(i) for i in hm_heart_2.select(\u0027cluster\u0027).distinct().toPandas()[\u0027cluster\u0027].values])]\n    clusters_kidney \u003d [str(i) for i in np.sort([int(i) for i in hm_kidney_2.select(\u0027cluster\u0027).distinct().toPandas()[\u0027cluster\u0027].values])]\n    \n    # steps are the same for this for loop, we are just seperating the heart and kidney so we can loop through the clusters of each tissue \n    for n,PERCENTAGE in enumerate(percentages):\n        \n        # loop through heart clusters\n        for CLUSTER in clusters_heart:\n            print(\u0027-----\u0027,CLUSTER,\u0027-----\u0027)\n            hm_heart_cl \u003d hm_heart_2.where(col(\u0027cluster\u0027) \u003d\u003d CLUSTER) \n            heartGenesPerc, _ \u003d get_hubmap_genes(hm_heart_cl,hm_kidney_2,percentage\u003dPERCENTAGE,constant\u003d0,drop_mt\u003dTrue)\n    \n            df_vars_heart \u003d scored_variants_dedup.where(col(\u0027symbol\u0027).isin(list(heartGenesPerc)))\n            #heart_variant_count \u003d df_vars_heart.count()\n            MAX_CADD_SCORE_heart \u003d df_vars_heart.agg({\"cadd_score\": \"mean\"}).collect()[0][0]\n            \n            #print(\u0027# of genes in cluster:\u0027, hm_heart_cl.count()); print(f\u0027# of genes after filtering for top {100*PERCENTAGE}%: {heartGenesPerc.count()}\u0027)\n            #print(f\u0027# of variants: {heart_variant_count}\u0027)\n            #print(100*(df_vars_heart.where(col(\u0027cadd_score\u0027).isNull()).count()/heart_variant_count))\n            df_vars_heart \u003d df_vars_heart.withColumn(\u0027cadd_score_fixed\u0027,when(   col(\u0027cadd_score\u0027).isNull(), MAX_CADD_SCORE_heart   ).otherwise(col(\u0027cadd_score\u0027)))\n            cadd_sums_heart \u003d df_vars_heart.groupBy(\"biospecimen_id\").sum(\"cadd_score_fixed\").select(\u0027sum(cadd_score_fixed)\u0027,\u0027biospecimen_id\u0027)\n            cadd_sums_heart \u003d cadd_sums_heart.join(df_vars_heart.groupBy(\u0027biospecimen_id\u0027).count(),\u0027biospecimen_id\u0027) # join frequency of variants and cadd sums (both per person)\n            cadd_sums_heart \u003d cadd_sums_heart.withColumn(\u0027cadd_sum_normed\u0027,F.round(col(\u0027sum(cadd_score_fixed)\u0027) / col(\u0027count\u0027),2)).select(\u0027cadd_sum_normed\u0027).toPandas()[\u0027cadd_sum_normed\u0027]\n    \n            heart_cluster_dict[\u0027heart_\u0027+CLUSTER] \u003d cadd_sums_heart\n        \n            \n        # loop through kidney tissue\n        for CLUSTER in clusters_kidney:\n            print(\u0027-----\u0027,CLUSTER,\u0027-----\u0027)\n            hm_kidney_cl \u003d hm_kidney_2.where(col(\u0027cluster\u0027) \u003d\u003d CLUSTER) \n            _ , kidneyGenesPerc \u003d get_hubmap_genes(hm_heart_cl,hm_kidney_cl,percentage\u003dPERCENTAGE,constant\u003d0,drop_mt\u003dTrue)\n    \n            df_vars_kidney \u003d scored_variants_dedup.where(col(\u0027symbol\u0027).isin(list(kidneyGenesPerc)))\n            #kidney_variant_count \u003d df_vars_kidney.count()\n            MAX_CADD_SCORE_kidney \u003d df_vars_kidney.agg({\"cadd_score\": \"mean\"}).collect()[0][0]\n            \n            #print(\u0027# of genes in cluster:\u0027, hm_kidney_cl.count()); print(f\u0027# of genes after filtering for top {100*PERCENTAGE}%: {kidneyGenesPerc.count()}\u0027)\n            #print(f\u0027# of variants: {kidney_variant_count}\u0027)\n            #print(100*(df_vars_kidney.where(col(\u0027cadd_score\u0027).isNull()).count()/kidney_variant_count))\n            df_vars_kidney \u003d df_vars_kidney.withColumn(\u0027cadd_score_fixed\u0027,when(   col(\u0027cadd_score\u0027).isNull(), MAX_CADD_SCORE_kidney   ).otherwise(col(\u0027cadd_score\u0027)))\n            cadd_sums_kidney \u003d df_vars_kidney.groupBy(\"biospecimen_id\").sum(\"cadd_score_fixed\").select(\u0027sum(cadd_score_fixed)\u0027,\u0027biospecimen_id\u0027)\n            cadd_sums_kidney \u003d cadd_sums_kidney.join(df_vars_kidney.groupBy(\u0027biospecimen_id\u0027).count(),\u0027biospecimen_id\u0027) # join frequency of variants and cadd sums (both per person)\n            cadd_sums_kidney \u003d cadd_sums_kidney.withColumn(\u0027cadd_sum_normed\u0027,F.round(col(\u0027sum(cadd_score_fixed)\u0027) / col(\u0027count\u0027),2)).select(\u0027cadd_sum_normed\u0027).toPandas()[\u0027cadd_sum_normed\u0027]  \n            kidney_cluster_dict[\u0027kidney_\u0027+CLUSTER] \u003d cadd_sums_kidney\n    \n    \n        d \u003d dict(heart_cluster_dict,**kidney_cluster_dict)\n        plt.figure(figsize\u003d(8,8))\n        box \u003d plt.boxplot(d.values(),vert\u003dFalse,notch\u003dTrue, patch_artist\u003dTrue,flierprops\u003d{\u0027marker\u0027: \u0027.\u0027, \u0027markersize\u0027: 5})#, \u0027markerfacecolor\u0027: \u0027fuchsia\u0027})\n        plt.gca().set_yticklabels(d.keys()); plt.grid(alpha\u003d.4) #axis\u003d\u0027x\u0027; #ax.xlabel(rotate\u003d90)\n        \n        colors \u003d [\u0027red\u0027]*len(heart_cluster_dict) + [\u0027blue\u0027]*len(kidney_cluster_dict)\n        for patch, color in zip(box[\u0027boxes\u0027], colors): patch.set_facecolor(color)\n        \n        plt.title(f\u0027Top {float(100*PERCENTAGE)}% smallest p-values of marker genes from each cluster\\nwere used to filter CHD cohort\u0027) # from HuBMAP heart and kidney studies\n        plt.xlabel(\u0027Normalized patient CADD scores\u0027); #plt.ylabel(\u0027Tissue_Cluster\u0027);\n        z.show(plt); pdf.savefig(); plt.close()\n"
    },
    {
      "cell_type": "code",
      "execution_count": 43,
      "metadata": {
        "autoscroll": "auto"
      },
      "outputs": [],
      "source": "%sh\n\ncp  CHD_HuBMAP_percent_filtering_bsID.pdf  ~/cavatica/projects/taylordm/taylor-urbs-r03-kf-cardiac/\n\n"
    },
    {
      "cell_type": "raw",
      "metadata": {
        "format": "text/plain"
      },
      "source": "%pyspark\n"
    }
  ]
}