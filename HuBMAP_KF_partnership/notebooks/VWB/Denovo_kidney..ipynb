﻿{
  "metadata": {
    "name": "Denovo_kidney",
    "kernelspec": {
      "language": "scala",
      "name": "spark2-scala"
    },
    "language_info": {
      "codemirror_mode": "text/x-scala",
      "file_extension": ".scala",
      "mimetype": "text/x-scala",
      "name": "scala",
      "pygments_lexer": "scala"
    }
  },
  "nbformat": 4,
  "nbformat_minor": 2,
  "cells": [
    {
      "cell_type": "code",
      "execution_count": 0,
      "metadata": {
        "autoscroll": "auto"
      },
      "outputs": [],
      "source": "%pyspark\nimport pandas as pd\npd.set_option(\u0027display.max_columns\u0027, None)\nimport numpy as np\nimport glob\nfrom collections import Counter\nimport matplotlib.pyplot as plt\nfrom matplotlib_venn import venn2\nimport io\nimport requests\nimport os\nfrom pyspark import SparkFiles\nfrom pyspark.sql import functions as F\nfrom pyspark.sql.functions import col,collect_list, concat, lit, when, monotonically_increasing_id, concat_ws \nfrom pyspark.sql.types import StringType"
    },
    {
      "cell_type": "code",
      "execution_count": 1,
      "metadata": {
        "autoscroll": "auto"
      },
      "outputs": [],
      "source": "%pyspark\n\nt_ocr \u003d spark \\\n    .table(\u0027occurrences\u0027) \\\n    .where((F.col(\u0027study_id\u0027).isin(\u0027SD_NMVV8A1Y\u0027)))\n\nselect_ocr_cols \u003d [\u0027biospecimen_id\u0027, \u0027chromosome\u0027, \u0027start\u0027, \u0027end\u0027,\u0027reference\u0027, \u0027alternate\u0027, \u0027name\u0027, \u0027hgvsg\u0027,\u0027variant_class\u0027,\u0027is_proband\u0027,\u0027quality\u0027,\u0027info_dp\u0027]\n\nt_ocr_select \u003d t_ocr.select(select_ocr_cols).withColumn(\u0027unique_variant_id\u0027,concat(col(\"chromosome\"), lit(\":\"),\n                                                   col(\"start\"),lit(\u0027:\u0027),col(\u0027reference\u0027),lit(\u0027:\u0027),col(\u0027alternate\u0027)))\nt_ocr_select.count()"
    },
    {
      "cell_type": "code",
      "execution_count": 2,
      "metadata": {
        "autoscroll": "auto"
      },
      "outputs": [],
      "source": "%pyspark\n\nt_ocr_KUTD \u003d spark \\\n    .table(\u0027occurrences\u0027) \\\n    .where((F.col(\u0027study_id\u0027).isin(\u0027SD_NMVV8A1Y\u0027))) # Kidney and Urinary Tract Defects Cohort Study ID\n\n#bs_id_KUTD \u003d t_ocr_KUTD.select(\u0027biospecimen_id\u0027).distinct().toPandas()[\u0027biospecimen_id\u0027]\n"
    },
    {
      "cell_type": "code",
      "execution_count": 3,
      "metadata": {
        "autoscroll": "auto"
      },
      "outputs": [],
      "source": "%pyspark\n#t_ocr_CHD \u003d spark \\\n#    .table(\u0027occurrences\u0027) \\\n#    .where((F.col(\u0027study_id\u0027).isin(\u0027SD_PREASA7S\u0027))) # Congenital Heart Defects Cohort Study ID\n    \n#bs_id_CHD \u003d t_ocr_CHD.select(\u0027biospecimen_id\u0027).distinct().toPandas()[\u0027biospecimen_id\u0027]"
    },
    {
      "cell_type": "code",
      "execution_count": 4,
      "metadata": {
        "autoscroll": "auto"
      },
      "outputs": [],
      "source": "%pyspark\ndenovos \u003d t_ocr_select.where((col(\u0027is_hi_conf_denovo\u0027) \u003d\u003d True) \u0026 (col(\u0027is_proband\u0027) \u003d\u003d True) ) #  | (col(\u0027Impact\u0027) \u003d\u003d \u0027High\u0027)\ndenovos.count()"
    },
    {
      "cell_type": "code",
      "execution_count": 5,
      "metadata": {
        "autoscroll": "auto"
      },
      "outputs": [],
      "source": "%pyspark\n#denovo_bs_id \u003d denovos.select(\u0027biospecimen_id\u0027).distinct().toPandas()[\u0027biospecimen_id\u0027]\n#denovo_bs_id"
    },
    {
      "cell_type": "code",
      "execution_count": 6,
      "metadata": {
        "autoscroll": "auto"
      },
      "outputs": [],
      "source": "%pyspark\nt_csq \u003d spark \\\n    .table(\u0027consequences\u0027) \\\n    .withColumnRenamed(\u0027name\u0027, \u0027rsID\u0027)\\\n    .drop(\u0027variant_class\u0027)\\\n    .where( (F.array_contains( F.col(\u0027study_ids\u0027),\u0027SD_NMVV8A1Y\u0027 )) \u0026 (F.col(\u0027original_canonical\u0027) \u003d\u003d \u0027true\u0027)) \n\nt_csq_select \u003d t_csq.select([\u0027chromosome\u0027,\u0027start\u0027, \u0027reference\u0027,\u0027alternate\u0027,\u0027rsID\u0027,\u0027impact\u0027,\u0027symbol\u0027\n                                ,\u0027biotype\u0027,\u0027hgvsc\u0027,\u0027hgvsg\u0027,\u0027feature_type\u0027,\u0027strand\u0027,\u0027consequences\u0027])\\\n                                .withColumn(\u0027unique_variant_id\u0027,concat(col(\"chromosome\"), lit(\":\"),\n                                 col(\"start\"),lit(\u0027:\u0027),col(\u0027reference\u0027),lit(\u0027:\u0027),col(\u0027alternate\u0027)))\n\n#gene_var_map \u003d t_csq_select.select(\u0027unique_variant_id\u0027,\u0027symbol\u0027).drop_duplicates([\u0027unique_variant_id\u0027])\nt_csq_select.count()"
    },
    {
      "cell_type": "code",
      "execution_count": 7,
      "metadata": {
        "autoscroll": "auto"
      },
      "outputs": [],
      "source": "%pyspark\n\n# get all pc vars\nall_pcs \u003d t_csq_select.where(col(\u0027biotype\u0027) \u003d\u003d \u0027protein_coding\u0027)\n    \nall_pcs_snps \u003d all_pcs.where(  ~( (F.length(\"reference\") \u003e 1) | (F.length(\"alternate\") \u003e 1) ) )    \nall_pcs_indels \u003d all_pcs.where(  (F.length(\"reference\") \u003e 1) | (F.length(\"alternate\") \u003e 1)  )\n\n# score snps\ncadd_snps_gt20\u003d spark.read.parquet(\"s3a://kf-strides-variant-parquet-prd/notebooks/5175e6e3-c3d7-4c19-b51f-6f1ea4dd3700/tables/cadd_scores_gt20/cadd_gt20_snps_2.parquet\")\nall_pcs_snps_gt20_scored \u003d all_pcs_snps.join(cadd_snps_gt20.select(\u0027unique_variant_id\u0027,\u0027cadd_score\u0027),\u0027unique_variant_id\u0027,\u0027left\u0027)\nall_pcs_snps_gt20_scored_nonNUll \u003d all_pcs_snps_gt20_scored.where(~col(\u0027cadd_score\u0027).isNull())\n#print(all_pcs_snps_gt20_scored_nonNUll.count())\n\n# score indels\ncadd_indels_gt20\u003d spark.read.parquet(\"s3a://kf-strides-variant-parquet-prd/notebooks/5175e6e3-c3d7-4c19-b51f-6f1ea4dd3700/tables/cadd_scores_gt20/cadd_gt20_gnomAD_all_chroms.parquet\")\nall_pcs_indels_gt20_scored \u003d all_pcs_indels.join(cadd_indels_gt20.select(\u0027unique_variant_id\u0027,\u0027cadd_score\u0027),\u0027unique_variant_id\u0027,\u0027left\u0027)\nall_pcs_indels_gt20_scored_nonNUll \u003d all_pcs_indels_gt20_scored.where(~col(\u0027cadd_score\u0027).isNull())\n#print(all_pcs_indels_gt20_scored_nonNUll.count())\n\n# union\nall_pcs_gt20_scored \u003d all_pcs_snps_gt20_scored_nonNUll.union(all_pcs_indels_gt20_scored_nonNUll)\n\n# get all proband variants\npbs \u003d t_ocr_select.where(col(\u0027is_proband\u0027) \u003d\u003d True).drop(\u0027chromosome\u0027,\u0027start\u0027,\u0027reference\u0027,\u0027alternate\u0027,\u0027hgvsg\u0027)\n\n# join together so we have all proband protein coding variants (not just a unique list of pc vars)\nall_pcs_gt20_perPerson \u003d pbs.join(all_pcs_gt20_scored,\u0027unique_variant_id\u0027,\u0027left\u0027)\n\nall_pcs_gt20_perPerson_nonNull \u003d all_pcs_gt20_perPerson.where(~col(\u0027cadd_score\u0027).isNull())\n#all_pcs_gt20_perPerson_nonNull.show()\n#all_pcs_gt20_perPerson_nonNull.count()\n\n# add identifiier cols\nall_pcs_gt20_perPerson_nonNull \u003d all_pcs_gt20_perPerson_nonNull.withColumn(\u0027High_Impact_boolean\u0027,lit(0))\\\n                                                .withColumn(\u0027DeNovo_boolean\u0027,lit(0))\\\n                                                .withColumn(\u0027gt20_boolean\u0027,lit(1))\nall_pcs_gt20_perPerson_nonNull.count()"
    },
    {
      "cell_type": "code",
      "execution_count": 8,
      "metadata": {
        "autoscroll": "auto"
      },
      "outputs": [],
      "source": "%pyspark\ndenovos_hiMod \u003d denovos.join(t_csq_select.select(\u0027unique_variant_id\u0027,\u0027impact\u0027,\u0027biotype\u0027,\u0027consequences\u0027),\u0027unique_variant_id\u0027,\u0027left\u0027)\\\n                                                      .where( (col(\u0027impact\u0027) \u003d\u003d \u0027HIGH\u0027) | (col(\u0027impact\u0027) \u003d\u003d \u0027MODERATE\u0027))\n                                                      \n#denovos_hiMod \u003d denovos_hiMod.drop_duplicates([\u0027unique_variant_id\u0027])                                                      \nprint(denovos_hiMod.count())\ndenovos_hiMod.show(5)"
    },
    {
      "cell_type": "code",
      "execution_count": 9,
      "metadata": {
        "autoscroll": "auto"
      },
      "outputs": [],
      "source": "%pyspark\ndenovos_hiMod_SNPs \u003d denovos_hiMod.where(  ~( (F.length(\"reference\") \u003e 1) | (F.length(\"alternate\") \u003e 1) ) )\nchroms \u003d [\u00271\u0027, \u002710\u0027, \u002711\u0027, \u002712\u0027, \u002713\u0027, \u002714\u0027, \u002715\u0027, \u002716\u0027, \u002717\u0027, \u002718\u0027, \u002719\u0027, \u00272\u0027, \u002720\u0027, \u002722\u0027, \u00273\u0027, \u00274\u0027, \u00275\u0027, \u00276\u0027, \u00277\u0027,\u00278\u0027, \u00279\u0027, \u0027X\u0027,\u0027Y\u0027]\n\nfor n,CHROM in enumerate(chroms):\n    cadd_chrom \u003d spark.read.parquet(f\"s3a://kf-strides-variant-parquet-prd/notebooks/5175e6e3-c3d7-4c19-b51f-6f1ea4dd3700/cadd_scores/cadd_chrom_files_parquet/chr{CHROM}\")\n\n    cadd_chrom \u003d cadd_chrom.select(col(\"0\").alias(\"chromosome\"), col(\"1\").alias(\"start\"),col(\"2\").alias(\"reference\"),col(\"3\").alias(\"alternate\"),\n                                   col(\u00275\u0027).alias(\"CADD_score\")).withColumn(\u0027unique_variant_id\u0027,concat(col(\"chromosome\"), lit(\":\"),\n                                   col(\"start\"),lit(\u0027:\u0027),col(\u0027reference\u0027),lit(\u0027:\u0027),col(\u0027alternate\u0027)))\n         \n    denovos_hiMod_SNPs_chrom \u003d denovos_hiMod_SNPs.where(col(\"chromosome\") \u003d\u003d CHROM)\n    \n    print(f\"Joining CADD scores for chromosome {CHROM} ({denovos_hiMod_SNPs_chrom.count()} x {cadd_chrom.count()})...\",end\u003d\"\")\n    \n    deNovo_results_chrom \u003d denovos_hiMod_SNPs_chrom.join(cadd_chrom.select(\u0027unique_variant_id\u0027,\u0027cadd_score\u0027), [\u0027unique_variant_id\u0027], \"left\")\n    \n    print(f\"Done...Result is {deNovo_results_chrom.count()} rows long.\")\n    \n    if n \u003d\u003d 0: deNovo_SNPs_full \u003d  deNovo_results_chrom\n    else: deNovo_SNPs_full \u003d deNovo_SNPs_full.union(deNovo_results_chrom)"
    },
    {
      "cell_type": "code",
      "execution_count": 10,
      "metadata": {
        "autoscroll": "auto"
      },
      "outputs": [],
      "source": "%pyspark\ndenovos_hiMod_indels \u003d denovos_hiMod.where(  (F.length(\"reference\") \u003e 1) | (F.length(\"alternate\") \u003e 1)  )\ncadd_gnomad_chrom \u003d spark.read.parquet(\u0027s3a://kf-strides-variant-parquet-prd/notebooks/5175e6e3-c3d7-4c19-b51f-6f1ea4dd3700/cadd_scores/cadd_gnomad_all.parquet\u0027)\n\u0027\u0027\u0027\nfor n,CHROM in enumerate(chroms):\n\n    cadd_chrom \u003d  cadd_gnomad_chrom.where(col(\u0027chromosome\u0027) \u003d\u003d CHROM)\n    denovos_hiMod_indels_chrom \u003d denovos_hiMod_indels.where(col(\u0027chromosome\u0027) \u003d\u003d CHROM)\n\n    num2join \u003d denovos_hiMod_indels_chrom.count()\n    print(f\u0027Joining CADD scores for chromosome {CHROM} ({cadd_chrom.count()} x {denovos_hiMod_indels_chrom.count()})...\u0027,end\u003d\u0027\u0027)\n    \n    deNovo_results_chrom \u003d denovos_hiMod_indels_chrom.join(cadd_chrom.select(\u0027unique_variant_id\u0027,\u0027cadd_score\u0027), [\"unique_variant_id\"], \"left\")\n    \n    print(f\u0027Done...Result is {deNovo_results_chrom.count()} rows long.\u0027)\n    \n    if n \u003d\u003d 0: deNovo_indels_full \u003d  deNovo_results_chrom\n    else: deNovo_indels_full \u003d deNovo_indels_full.union(deNovo_results_chrom)\u0027\u0027\u0027"
    },
    {
      "cell_type": "code",
      "execution_count": 11,
      "metadata": {
        "autoscroll": "auto"
      },
      "outputs": [],
      "source": "%pyspark\n\ndeNovo_indels_full \u003d denovos_hiMod_indels.join(cadd_gnomad_chrom.select(\u0027unique_variant_id\u0027,\u0027cadd_score\u0027), [\"unique_variant_id\"], \"left\")\ndeNovo_indels_full.count()"
    },
    {
      "cell_type": "code",
      "execution_count": 12,
      "metadata": {
        "autoscroll": "auto"
      },
      "outputs": [],
      "source": "%pyspark\n\nassert list(deNovo_indels_full.columns) \u003d\u003d list(deNovo_SNPs_full.columns)\n\ndeNovos_scored \u003d deNovo_SNPs_full.union(deNovo_indels_full)\ndeNovos_scored \u003d deNovos_scored.withColumn(\u0027DeNovo_boolean\u0027, lit(1))\n\nprint(deNovos_scored.count())\ndeNovos_scored.show(3)"
    },
    {
      "cell_type": "code",
      "execution_count": 13,
      "metadata": {
        "autoscroll": "auto"
      },
      "outputs": [],
      "source": "%pyspark\n\u0027\u0027\u0027   ALREADY FOUND HIGH IIMPACT VARIANTS AND SCORED THEM, SAVED AS ~/tables/hiImpact_scored_KUTD.parquet\n\nhighImpact \u003d t_csq_select.where(col(\u0027impact\u0027) \u003d\u003d \u0027HIGH\u0027).drop(\u0027hgvsc\u0027,\u0027hgvsg\u0027,\u0027feature_type\u0027,\u0027strand\u0027)\nprint(highImpact.count())\nhighImpact.show(3)\u0027\u0027\u0027"
    },
    {
      "cell_type": "code",
      "execution_count": 14,
      "metadata": {
        "autoscroll": "auto"
      },
      "outputs": [],
      "source": "%pyspark\n\n\u0027\u0027\u0027   ALREADY FOUND HIGH IIMPACT VARIANTS AND SCORED THEM, SAVED AS ~/tables/hiImpact_scored_KUTD.parquet\n\nhighImpact_SNPs \u003d highImpact.where(  ~( (F.length(\"reference\") \u003e 1) | (F.length(\"alternate\") \u003e 1) ) )\nchroms \u003d [\u00271\u0027, \u002710\u0027, \u002711\u0027, \u002712\u0027, \u002713\u0027, \u002714\u0027, \u002715\u0027, \u002716\u0027, \u002717\u0027, \u002718\u0027, \u002719\u0027, \u00272\u0027, \u002720\u0027, \u002722\u0027, \u00273\u0027, \u00274\u0027, \u00275\u0027, \u00276\u0027, \u00277\u0027,\u00278\u0027, \u00279\u0027, \u0027X\u0027,\u0027Y\u0027]\n\nfor n,CHROM in enumerate(chroms):\n    cadd_chrom \u003d spark.read.parquet(f\"s3a://kf-strides-variant-parquet-prd/notebooks/5175e6e3-c3d7-4c19-b51f-6f1ea4dd3700/cadd_scores/cadd_chrom_files_parquet/chr{CHROM}\")\n\n    cadd_chrom \u003d cadd_chrom.select(col(\"0\").alias(\"chromosome\"), col(\"1\").alias(\"start\"),col(\"2\").alias(\"reference\"),col(\"3\").alias(\"alternate\"),\n                                   col(\u00275\u0027).alias(\"CADD_score\")).withColumn(\u0027unique_variant_id\u0027,concat(col(\"chromosome\"), lit(\":\"),\n                                   col(\"start\"),lit(\u0027:\u0027),col(\u0027reference\u0027),lit(\u0027:\u0027),col(\u0027alternate\u0027)))\n         \n    highImpact_SNPs_chrom \u003d highImpact_SNPs.where(col(\"chromosome\") \u003d\u003d CHROM)\n    hiImpact_results_chrom \u003d highImpact_SNPs_chrom.join(cadd_chrom.select(\u0027unique_variant_id\u0027,\u0027cadd_score\u0027), [\u0027unique_variant_id\u0027], \"left\")\n    if n \u003d\u003d 0: hiImpact_SNPs_full \u003d  hiImpact_results_chrom\n    else: hiImpact_SNPs_full \u003d hiImpact_SNPs_full.union(hiImpact_results_chrom)\n    \nprint(highImpact_SNPs.count())\nprint(hiImpact_SNPs_full.count())\u0027\u0027\u0027"
    },
    {
      "cell_type": "code",
      "execution_count": 15,
      "metadata": {
        "autoscroll": "auto"
      },
      "outputs": [],
      "source": "%pyspark\n\u0027\u0027\u0027   ALREADY FOUND HIGH IIMPACT VARIANTS AND SCORED THEM, SAVED AS ~/tables/hiImpact_scored_KUTD.parquet\n\nhighImpact_indels \u003d highImpact.where(  (F.length(\"reference\") \u003e 1) | (F.length(\"alternate\") \u003e 1)  )\nchroms \u003d [\u00271\u0027, \u002710\u0027, \u002711\u0027, \u002712\u0027, \u002713\u0027, \u002714\u0027, \u002715\u0027, \u002716\u0027, \u002717\u0027, \u002718\u0027, \u002719\u0027, \u00272\u0027, \u002720\u0027, \u002722\u0027, \u00273\u0027, \u00274\u0027, \u00275\u0027, \u00276\u0027, \u00277\u0027,\u00278\u0027, \u00279\u0027, \u0027X\u0027,\u0027Y\u0027]\n\nfor n,CHROM in enumerate(chroms):\n    cadd_chrom \u003d spark.read.parquet(f\"s3a://kf-strides-variant-parquet-prd/notebooks/5175e6e3-c3d7-4c19-b51f-6f1ea4dd3700/cadd_scores/cadd_chrom_files_parquet/chr{CHROM}\")\n\n    cadd_chrom \u003d cadd_chrom.select(col(\"0\").alias(\"chromosome\"), col(\"1\").alias(\"start\"),col(\"2\").alias(\"reference\"),col(\"3\").alias(\"alternate\"),\n                                   col(\u00275\u0027).alias(\"CADD_score\")).withColumn(\u0027unique_variant_id\u0027,concat(col(\"chromosome\"), lit(\":\"),\n                                   col(\"start\"),lit(\u0027:\u0027),col(\u0027reference\u0027),lit(\u0027:\u0027),col(\u0027alternate\u0027)))\n         \n    highImpact_indels_chrom \u003d highImpact_indels.where(col(\"chromosome\") \u003d\u003d CHROM)\n    hiImpact_results_chrom \u003d highImpact_indels_chrom.join(cadd_chrom.select(\u0027unique_variant_id\u0027,\u0027cadd_score\u0027), [\u0027unique_variant_id\u0027], \"left\")\n\n    if n \u003d\u003d 0: hiImpact_indels_full \u003d  hiImpact_results_chrom\n    else: hiImpact_indels_full \u003d hiImpact_indels_full.union(hiImpact_results_chrom) \nprint(highImpact_indels.count())\nprint(hiImpact_indels_full.count())\nhiImpact_indels_full.where(col(\u0027cadd_score\u0027).isNull()).count()\u0027\u0027\u0027\n\n#hiImpact_scored \u003d hiImpact_SNPs_full.union(hiImpact_indels_full)\n#hiImpact_scored.count()\n\n#hiImpact_scored.repartition(200,\u0027unique_variant_id\u0027).write.mode(\u0027overwrite\u0027).parquet(\u0027s3a://kf-strides-variant-parquet-prd/notebooks/5175e6e3-c3d7-4c19-b51f-6f1ea4dd3700/tables/hiImpact_scored_KUTD.parquet\u0027)"
    },
    {
      "cell_type": "code",
      "execution_count": 16,
      "metadata": {
        "autoscroll": "auto"
      },
      "outputs": [],
      "source": "%pyspark\nhighImpact_CADD_scores \u003d spark.read.parquet(\u0027s3a://kf-strides-variant-parquet-prd/notebooks/5175e6e3-c3d7-4c19-b51f-6f1ea4dd3700/tables/hiImpact_scored_KUTD.parquet\u0027)\nprint(highImpact_CADD_scores.count())\nhighImpact_CADD_scores.show(5)\n"
    },
    {
      "cell_type": "code",
      "execution_count": 17,
      "metadata": {
        "autoscroll": "auto"
      },
      "outputs": [],
      "source": "%pyspark\n\n#highImpact_perPerson_probands_pc \u003d highImpact_perPerson_probands.where( (col(\u0027biotype\u0027) \u003d\u003d \u0027protein_coding\u0027) )\n#print(highImpact_perPerson_probands_pc.count())\n\n#high_impact_perPerson_scored \u003d highImpact_CADD_scores.select(\u0027unique_variant_id\u0027,\u0027cadd_score\u0027).join(highImpact_perPerson_probands_pc,\u0027unique_variant_id\u0027,\u0027right\u0027)\n#print(high_impact_perPerson_scored.count())\n\nhigh_impact_perPerson_scored \u003d t_ocr_select.where(col(\u0027is_proband\u0027) \u003d\u003d True)\\\n                                            .drop(\u0027chromosome\u0027,\u0027start\u0027,\u0027end\u0027,\u0027reference\u0027,\u0027alternate\u0027)\\\n                                            .join(highImpact_CADD_scores,\u0027unique_variant_id\u0027,\u0027right\u0027)\n                                            \nprint(high_impact_perPerson_scored.count())\n\nhigh_impact_perPerson_scored \u003d high_impact_perPerson_scored.withColumn(\u0027High_Impact_boolean\u0027,lit(1))\\\n                                                           .withColumn(\u0027DeNovo_boolean\u0027,lit(0))\\\n                                                           .withColumn(\u0027gt20_boolean\u0027,lit(0))\n"
    },
    {
      "cell_type": "code",
      "execution_count": 18,
      "metadata": {
        "autoscroll": "auto"
      },
      "outputs": [],
      "source": "%pyspark\n\n#denovos_scored_kutd \u003d spark.read.parquet(\u0027s3a://kf-strides-variant-parquet-prd/notebooks/5175e6e3-c3d7-4c19-b51f-6f1ea4dd3700/tables/denovos_scored_KIDNEY.parquet/\u0027)\n#print(denovos_scored_kutd.count())\n#denovos_scored_kutd.show()\n"
    },
    {
      "cell_type": "code",
      "execution_count": 19,
      "metadata": {
        "autoscroll": "auto"
      },
      "outputs": [],
      "source": "%pyspark\ngene_var_map \u003d t_csq_select.select(\u0027unique_variant_id\u0027,\u0027symbol\u0027).drop_duplicates([\u0027unique_variant_id\u0027])\n\ndeNovos_scored_sym \u003d deNovos_scored.join(gene_var_map,\u0027unique_variant_id\u0027,\u0027left\u0027)\n#print(deNovos_scored_sym.count())\n#print(deNovos_scored_sym.where(col(\u0027symbol\u0027).isNull()).count())"
    },
    {
      "cell_type": "code",
      "execution_count": 20,
      "metadata": {
        "autoscroll": "auto"
      },
      "outputs": [],
      "source": "%pyspark\ndeNovos_scored_sym \u003d deNovos_scored_sym.withColumn(\u0027High_Impact_boolean\u0027,lit(0))\\\n                                    .withColumn(\u0027gt20_boolean\u0027,lit(0))\n                                    \n# join rsIDs in\ndeNovos_scored_sym_rsID \u003d deNovos_scored_sym.join(t_csq_select.select(\u0027rsID\u0027,\u0027unique_variant_id\u0027),\u0027unique_variant_id\u0027,\u0027left\u0027) "
    },
    {
      "cell_type": "code",
      "execution_count": 21,
      "metadata": {
        "autoscroll": "auto"
      },
      "outputs": [],
      "source": "%pyspark\nall_pcs_gt20_perPerson_nonNull \u003d all_pcs_gt20_perPerson_nonNull.drop(\u0027end\u0027,\u0027feature_type\u0027, \u0027hgvsc\u0027,\u0027strand\u0027)\ndeNovos_scored_sym_rsID \u003d deNovos_scored_sym_rsID.drop(\u0027end\u0027)"
    },
    {
      "cell_type": "code",
      "execution_count": 22,
      "metadata": {
        "autoscroll": "auto"
      },
      "outputs": [],
      "source": "%pyspark\nset(all_pcs_gt20_perPerson_nonNull.columns) - set(deNovos_scored_sym_rsID.columns)"
    },
    {
      "cell_type": "code",
      "execution_count": 23,
      "metadata": {
        "autoscroll": "auto"
      },
      "outputs": [],
      "source": "%pyspark\nprint(all_pcs_gt20_perPerson_nonNull.count())\nprint(all_pcs_gt20_perPerson_nonNull.drop_duplicates([\u0027biospecimen_id\u0027,\u0027unique_variant_id\u0027]).count())\n\nprint(deNovos_scored_sym_rsID.count())\nprint(deNovos_scored_sym_rsID.drop_duplicates([\u0027biospecimen_id\u0027,\u0027unique_variant_id\u0027]).count())\n\nprint(high_impact_perPerson_scored.count())\nprint(high_impact_perPerson_scored.drop_duplicates([\u0027biospecimen_id\u0027,\u0027unique_variant_id\u0027]).count())"
    },
    {
      "cell_type": "code",
      "execution_count": 24,
      "metadata": {
        "autoscroll": "auto"
      },
      "outputs": [],
      "source": "%pyspark\nall_pcs_gt20_perPerson_nonNull \u003d all_pcs_gt20_perPerson_nonNull.drop_duplicates([\u0027biospecimen_id\u0027,\u0027unique_variant_id\u0027])\ndeNovos_scored_sym_rsID \u003d deNovos_scored_sym_rsID.drop_duplicates([\u0027biospecimen_id\u0027,\u0027unique_variant_id\u0027])\nhigh_impact_perPerson_scored \u003d high_impact_perPerson_scored.drop_duplicates([\u0027biospecimen_id\u0027,\u0027unique_variant_id\u0027])"
    },
    {
      "cell_type": "code",
      "execution_count": 25,
      "metadata": {
        "autoscroll": "auto"
      },
      "outputs": [],
      "source": "%pyspark\nc \u003d [\u0027unique_variant_id\u0027, \u0027cadd_score\u0027, \u0027biospecimen_id\u0027, \u0027name\u0027, \u0027hgvsg\u0027, \u0027variant_class\u0027, \u0027is_proband\u0027, \u0027quality\u0027, \u0027info_dp\u0027, \u0027chromosome\u0027,\n                     \u0027start\u0027, \u0027reference\u0027, \u0027alternate\u0027, \u0027impact\u0027,\u0027rsID\u0027, \u0027symbol\u0027,\u0027biotype\u0027,\u0027consequences\u0027,\u0027DeNovo_boolean\u0027,\u0027High_Impact_boolean\u0027,\u0027gt20_boolean\u0027] \n                     \n                     \nscored_variants \u003d deNovos_scored_sym_rsID.select(c).union(high_impact_perPerson_scored.select(c))\nscored_variants \u003d scored_variants.select(c).union(all_pcs_gt20_perPerson_nonNull.select(c))"
    },
    {
      "cell_type": "code",
      "execution_count": 26,
      "metadata": {
        "autoscroll": "auto"
      },
      "outputs": [],
      "source": "%pyspark\nscored_variants_dedup \u003d scored_variants.drop_duplicates([\u0027biospecimen_id\u0027,\u0027unique_variant_id\u0027])\nscored_variants_dedup.count()\n"
    },
    {
      "cell_type": "code",
      "execution_count": 27,
      "metadata": {
        "autoscroll": "auto"
      },
      "outputs": [],
      "source": "%pyspark\nscored_variants.sample(1/1000).show()"
    },
    {
      "cell_type": "code",
      "execution_count": 28,
      "metadata": {
        "autoscroll": "auto"
      },
      "outputs": [],
      "source": "%pyspark\nscored_variants.count()"
    },
    {
      "cell_type": "code",
      "execution_count": 29,
      "metadata": {
        "autoscroll": "auto"
      },
      "outputs": [],
      "source": "%pyspark\nscored_variants \u003d scored_variants.withColumn(\u0027eqtl_boolean\u0027,lit(0))"
    },
    {
      "cell_type": "code",
      "execution_count": 30,
      "metadata": {
        "autoscroll": "auto"
      },
      "outputs": [],
      "source": "%pyspark\n#scored_variants_dedup.write.mode(\u0027overwrite\u0027).partitionBy(\"chromosome\").parquet(\u0027s3a://kf-strides-variant-parquet-prd/notebooks/5175e6e3-c3d7-4c19-b51f-6f1ea4dd3700/tables/scored_variants_KIDNEY.parquet\u0027) # .repartitionByRange(20, \"chromosome\", \"start\")"
    },
    {
      "cell_type": "code",
      "execution_count": 31,
      "metadata": {
        "autoscroll": "auto"
      },
      "outputs": [],
      "source": "%pyspark\n#scored_variants_dedup.repartitionByRange(20, \"chromosome\", \"start\").write.mode(\u0027overwrite\u0027).partitionBy(\"chromosome\").parquet(\u0027s3a://kf-strides-variant-parquet-prd/notebooks/5175e6e3-c3d7-4c19-b51f-6f1ea4dd3700/tables/scored_variants_KIDNEY_2.parquet\u0027) #"
    },
    {
      "cell_type": "code",
      "execution_count": 32,
      "metadata": {
        "autoscroll": "auto"
      },
      "outputs": [],
      "source": "%sh\naws s3 ls s3://kf-strides-variant-parquet-prd/notebooks/5175e6e3-c3d7-4c19-b51f-6f1ea4dd3700/tables/CHD_all_unique_variants.parquet/\n"
    },
    {
      "cell_type": "code",
      "execution_count": 33,
      "metadata": {
        "autoscroll": "auto"
      },
      "outputs": [],
      "source": "%pyspark\neqtl_highImpact \u003d spark.read.parquet(\u0027s3a://kf-strides-variant-parquet-prd/notebooks/5175e6e3-c3d7-4c19-b51f-6f1ea4dd3700/tables/eqtl_highImpact_scored_july8.parquet\u0027)\n#print(eqtl_highImpact.count())\neqtls \u003d eqtl_highImpact.where(col(\u0027eqtl_boolean\u0027) \u003d\u003d 1)\n#print(eqtls.count())\n#e \u003d eqtl_highImpact.select(\u0027cadd_score\u0027).toPandas()\n#e.hist(bins\u003d50)\n#z.show(plt)\nc \u003d [\u0027unique_variant_id\u0027, \u0027cadd_score\u0027, \u0027biospecimen_id\u0027, \u0027name\u0027, \u0027hgvsg\u0027, \u0027variant_class\u0027, \u0027is_proband\u0027, \u0027quality\u0027, \u0027info_dp\u0027, \u0027chromosome\u0027,\n                     \u0027start\u0027, \u0027reference\u0027, \u0027alternate\u0027,  \u0027symbol\u0027]\n                     \neqtls_perPerson \u003d eqtls.drop(\u0027alternate\u0027,\u0027reference\u0027,\u0027start\u0027,\u0027chromosome\u0027).join(\n                                    t_ocr_select.where(col(\u0027is_proband\u0027) \u003d\u003d True ),\u0027unique_variant_id\u0027,\u0027left\u0027)\\\n                                    .drop_duplicates([\u0027biospecimen_id\u0027,\u0027unique_variant_id\u0027]).select(c)\nprint(eqtls_perPerson.count())\neqtls_perPerson.show()"
    },
    {
      "cell_type": "code",
      "execution_count": 34,
      "metadata": {
        "autoscroll": "auto"
      },
      "outputs": [],
      "source": "%pyspark\neqtls_perPerson \u003d eqtls_perPerson.withColumn(\u0027DeNovo_boolean\u0027,lit(0))\\\n                                .withColumn(\u0027High_Impact_boolean\u0027,lit(0))\\\n                                .withColumn(\u0027gt20_boolean\u0027,lit(0)) #\\.withColumn(\u0027eqtl_boolean\u0027,lit(1))"
    },
    {
      "cell_type": "code",
      "execution_count": 35,
      "metadata": {
        "autoscroll": "auto"
      },
      "outputs": [],
      "source": "%pyspark\neqtls_perPerson_dropna \u003d eqtls_perPerson.where(~col(\u0027biospecimen_id\u0027).isNull())\neqtls_perPerson_dropna.count()\n"
    },
    {
      "cell_type": "code",
      "execution_count": 36,
      "metadata": {
        "autoscroll": "auto"
      },
      "outputs": [],
      "source": "%pyspark\neqtls_perPerson_dropna \u003d eqtls_perPerson_dropna.withColumn(\u0027eqtl_boolean\u0027,lit(1))"
    },
    {
      "cell_type": "code",
      "execution_count": 37,
      "metadata": {
        "autoscroll": "auto"
      },
      "outputs": [],
      "source": "%pyspark\neqtls_perPerson_dropna \u003d  eqtls_perPerson_dropna.withColumn(\u0027biotype\u0027,lit(\u0027NA\u0027))\\\n                                                    .withColumn(\u0027consequences\u0027,F.array([]))\\\n                                                    .withColumn(\u0027impact\u0027,lit(\u0027NA\u0027))"
    },
    {
      "cell_type": "code",
      "execution_count": 38,
      "metadata": {
        "autoscroll": "auto"
      },
      "outputs": [],
      "source": "%pyspark\neqtls_perPerson_dropna.show(1)"
    },
    {
      "cell_type": "code",
      "execution_count": 39,
      "metadata": {
        "autoscroll": "auto"
      },
      "outputs": [],
      "source": "%pyspark\n#scored_variants \u003d scored_variants_kidney.union(eqtls_perPerson)\n\nce \u003d [\u0027unique_variant_id\u0027, \u0027cadd_score\u0027, \u0027biospecimen_id\u0027, \u0027name\u0027, \u0027hgvsg\u0027, \u0027variant_class\u0027, \u0027is_proband\u0027, \u0027quality\u0027, \u0027info_dp\u0027, \u0027chromosome\u0027,\n                     \u0027start\u0027, \u0027reference\u0027, \u0027alternate\u0027, \u0027impact\u0027,\u0027rsID\u0027, \u0027symbol\u0027,\u0027biotype\u0027,\u0027consequences\u0027,\u0027DeNovo_boolean\u0027,\u0027High_Impact_boolean\u0027,\u0027gt20_boolean\u0027,\u0027eqtl_boolean\u0027] \n                     \nscored_variants_final \u003d scored_variants.select(ce).union(eqtls_perPerson_dropna.select(ce))#.drop_duplicates([\u0027biospecimen_id\u0027,\u0027unique_variant_id\u0027])\nscored_variants_final.count()"
    },
    {
      "cell_type": "code",
      "execution_count": 40,
      "metadata": {
        "autoscroll": "auto"
      },
      "outputs": [],
      "source": "%pyspark\nscored_variants_final.repartition(200, \"unique_variant_id\").write.mode(\u0027overwrite\u0027).parquet(\u0027s3a://kf-strides-variant-parquet-prd/notebooks/5175e6e3-c3d7-4c19-b51f-6f1ea4dd3700/tables/scored_variants_KIDNEY_w_eQTLs_sep14.parquet\u0027) #  .partitionBy(\"chromosome\")"
    },
    {
      "cell_type": "code",
      "execution_count": 41,
      "metadata": {
        "autoscroll": "auto"
      },
      "outputs": [],
      "source": "%pyspark\n\n\nscored_variants_final \u003d spark.read.parquet(\"s3a://kf-strides-variant-parquet-prd/notebooks/5175e6e3-c3d7-4c19-b51f-6f1ea4dd3700/tables/scored_variants_KIDNEY_w_eQTLs_sep14.parquet\")\nprint(scored_variants_final.count())\nscored_variants_final.show(3)"
    },
    {
      "cell_type": "code",
      "execution_count": 42,
      "metadata": {
        "autoscroll": "auto"
      },
      "outputs": [],
      "source": "%pyspark\nprint(\u0027Total De Novo.............\u0027,scored_variants_final.where(col(\u0027DeNovo_boolean\u0027) \u003d\u003d 1).count()) # De Novo High/Moderate\nprint(\u0027Total VEP High Impact.....\u0027,scored_variants_final.where(col(\u0027High_Impact_boolean\u0027) \u003d\u003d 1).count()) # VEP High Impact \nprint(\u0027Total CADD \u003e 20...........\u0027,scored_variants_final.where(col(\u0027gt20_boolean\u0027) \u003d\u003d 1).count()) # CADD greater than 20.0\nprint(\u0027Total eQTL................\u0027,scored_variants_final.where(col(\u0027eqtl_boolean\u0027) \u003d\u003d 1).count()) # eQTLs\n\n"
    },
    {
      "cell_type": "code",
      "execution_count": 43,
      "metadata": {
        "autoscroll": "auto"
      },
      "outputs": [],
      "source": "%pyspark\nscored_variants_final.where(col(\u0027DeNovo_boolean\u0027) \u003d\u003d 1).select(\u0027cadd_score\u0027).dropna().count() #.groupby(\u0027biospecimen_id\u0027).sum(\u0027cadd_score\u0027).show()"
    },
    {
      "cell_type": "code",
      "execution_count": 44,
      "metadata": {
        "autoscroll": "auto"
      },
      "outputs": [],
      "source": "%pyspark\nprint(100*(scored_variants_final.where(col(\u0027DeNovo_boolean\u0027) \u003d\u003d 1).where(col(\u0027cadd_score\u0027).isNull()).count()/scored_variants_final.where(col(\u0027DeNovo_boolean\u0027) \u003d\u003d 1).count()))\nprint(100*(scored_variants_final.where(col(\u0027High_Impact_boolean\u0027) \u003d\u003d 1).where(col(\u0027cadd_score\u0027).isNull()).count()/scored_variants_final.where(col(\u0027High_Impact_boolean\u0027) \u003d\u003d 1).count()))\nprint(100*(scored_variants_final.where(col(\u0027gt20_boolean\u0027) \u003d\u003d 1).where(col(\u0027cadd_score\u0027).isNull()).count()/scored_variants_final.where(col(\u0027gt20_boolean\u0027) \u003d\u003d 1).count()))\nprint(100*(scored_variants_final.where(col(\u0027eqtl_boolean\u0027) \u003d\u003d 1).where(col(\u0027cadd_score\u0027).isNull()).count()/scored_variants_final.where(col(\u0027eqtl_boolean\u0027) \u003d\u003d 1).count()))\n"
    },
    {
      "cell_type": "code",
      "execution_count": 45,
      "metadata": {
        "autoscroll": "auto"
      },
      "outputs": [],
      "source": "%pyspark\nscored_variants_kidney \u003d spark.read.parquet(\u0027s3a://kf-strides-variant-parquet-prd/notebooks/5175e6e3-c3d7-4c19-b51f-6f1ea4dd3700/tables/scored_variants_KIDNEY.parquet/\u0027)\nprint(scored_variants_kidney.count())\nscored_variants_kidney.show(3)"
    },
    {
      "cell_type": "code",
      "execution_count": 46,
      "metadata": {
        "autoscroll": "auto"
      },
      "outputs": [],
      "source": "%pyspark\n\u0027\u0027\u0027from scipy.stats import gaussian_kde\nplt.figure()\ndensity \u003d gaussian_kde(data[0])\nxs \u003d np.linspace(0,8,200)\ndensity.covariance_factor \u003d lambda : .25\ndensity._compute_covariance()\nplt.plot(xs,density(xs))\nplt.show()\nz.show(plt)\n\ndensity \u003d gaussian_kde(data[1])\nxs \u003d np.linspace(0,8,200)\ndensity.covariance_factor \u003d lambda : .25\ndensity._compute_covariance()\nplt.plot(xs,density(xs),\u0027g\u0027)\nplt.xlim([0,2])\nplt.show()\nz.show(plt)\u0027\u0027\u0027"
    },
    {
      "cell_type": "raw",
      "metadata": {
        "format": "text/plain"
      },
      "source": "%pyspark\n"
    },
    {
      "cell_type": "raw",
      "metadata": {
        "format": "text/plain"
      },
      "source": "%pyspark\n"
    }
  ]
}