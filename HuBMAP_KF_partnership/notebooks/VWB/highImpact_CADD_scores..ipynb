﻿{
  "metadata": {
    "name": "highImpact_CADD_scores",
    "kernelspec": {
      "language": "scala",
      "name": "spark2-scala"
    },
    "language_info": {
      "codemirror_mode": "text/x-scala",
      "file_extension": ".scala",
      "mimetype": "text/x-scala",
      "name": "scala",
      "pygments_lexer": "scala"
    }
  },
  "nbformat": 4,
  "nbformat_minor": 2,
  "cells": [
    {
      "cell_type": "code",
      "execution_count": 0,
      "metadata": {
        "autoscroll": "auto"
      },
      "outputs": [],
      "source": "h%pyspark\nimport pandas as pd\npd.set_option(\u0027display.max_columns\u0027, None)\nimport numpy as np\nimport glob\nfrom collections import Counter\nimport matplotlib.pyplot as plt\nimport io\nimport requests\nimport os\nfrom pyspark import SparkFiles\nfrom pyspark.sql import functions as F\nfrom pyspark.sql.functions import col,collect_list, concat, lit, when, monotonically_increasing_id, concat_ws \nfrom pyspark.sql.types import StringType\n"
    },
    {
      "cell_type": "code",
      "execution_count": 1,
      "metadata": {
        "autoscroll": "auto"
      },
      "outputs": [],
      "source": "%pyspark\n\u0027\u0027\u0027t_csq \u003d spark \\\n    .table(\u0027consequences\u0027) \\\n    .withColumnRenamed(\u0027name\u0027, \u0027rsID\u0027)\\\n    .drop(\u0027variant_class\u0027)\\\n    .where( (F.array_contains( F.col(\u0027study_ids\u0027),\u0027SD_PREASA7S\u0027 )) \u0026 (F.col(\u0027original_canonical\u0027) \u003d\u003d \u0027true\u0027)) # \u0026 (F.col(\u0027study_ids\u0027).isin(study_id_list))\n    \nprint(t_csq.count())   # 205504922, 41879789 w/ original_canonical\u003dtrue\nt_csq_select \u003d t_csq.select([\u0027chromosome\u0027,\u0027start\u0027, \u0027reference\u0027,\u0027alternate\u0027,\u0027rsID\u0027,\u0027impact\u0027,\u0027symbol\u0027\n                                ,\u0027biotype\u0027,\u0027hgvsc\u0027,\u0027hgvsg\u0027,\u0027feature_type\u0027,\u0027strand\u0027,\u0027consequences\u0027])\n%pyspark\nhigh_impact \u003d t_csq_select.where(col(\u0027impact\u0027) \u003d\u003d \u0027HIGH\u0027)\n%pyspark\n#high_impact.count()\nhigh_impact \u003d high_impact.withColumn(\u0027unique_variant_id\u0027,concat(col(\"chromosome\"), lit(\":\"),col(\"start\"),lit(\u0027:\u0027),col(\u0027reference\u0027),\n                                                                             lit(\u0027:\u0027),col(\u0027alternate\u0027)))\u0027\u0027\u0027"
    },
    {
      "cell_type": "code",
      "execution_count": 2,
      "metadata": {
        "autoscroll": "auto"
      },
      "outputs": [],
      "source": "%sh\naws s3 cp  ~/cavatica/projects/taylordm/taylor-urbs-r03-kf-cardiac/eqtls_and_high_impact.parquet/     s3://kf-strides-variant-parquet-prd/notebooks/5175e6e3-c3d7-4c19-b51f-6f1ea4dd3700/tables/eqtls_and_high_impact.parquet/  --recursive"
    },
    {
      "cell_type": "code",
      "execution_count": 3,
      "metadata": {
        "autoscroll": "auto"
      },
      "outputs": [],
      "source": "%sh\naws s3 rm s3://kf-strides-variant-parquet-prd/notebooks/5175e6e3-c3d7-4c19-b51f-6f1ea4dd3700/tables/eqtls_and_high_impact.parquet --recursive"
    },
    {
      "cell_type": "code",
      "execution_count": 4,
      "metadata": {
        "autoscroll": "auto"
      },
      "outputs": [],
      "source": "%pyspark\neqtl_highImpact \u003d spark.read.parquet(\u0027s3a://kf-strides-variant-parquet-prd/notebooks/5175e6e3-c3d7-4c19-b51f-6f1ea4dd3700/tables/eqtls_and_high_impact.parquet/\u0027)\nprint(eqtl_highImpact.count())\neqtl_highImpact.show(1)"
    },
    {
      "cell_type": "code",
      "execution_count": 5,
      "metadata": {
        "autoscroll": "auto"
      },
      "outputs": [],
      "source": "%pyspark\neqtls \u003d [row[\u0027unique_variant_id\u0027] for row in eqtl_highImpact.where(col(\u0027eqtl_boolean\u0027) \u003d\u003d 1).select(\u0027unique_variant_id\u0027).collect()]\nhiImpact \u003d [row[\u0027unique_variant_id\u0027] for row in eqtl_highImpact.where(col(\u0027eqtl_boolean\u0027) \u003d\u003d 0).select(\u0027unique_variant_id\u0027).collect()]"
    },
    {
      "cell_type": "code",
      "execution_count": 6,
      "metadata": {
        "autoscroll": "auto"
      },
      "outputs": [],
      "source": "%pyspark\nprint(len(eqtls))\nprint(len(set(eqtls)))"
    },
    {
      "cell_type": "code",
      "execution_count": 7,
      "metadata": {
        "autoscroll": "auto"
      },
      "outputs": [],
      "source": "%pyspark\nset(eqtls).intersection(set(hiImpact))"
    },
    {
      "cell_type": "code",
      "execution_count": 8,
      "metadata": {
        "autoscroll": "auto"
      },
      "outputs": [],
      "source": "%pyspark\ne \u003d eqtl_highImpact.where(col(\u0027eqtl_boolean\u0027) \u003d\u003d 1)\nh \u003d eqtl_highImpact.where(col(\u0027eqtl_boolean\u0027) \u003d\u003d 0)"
    },
    {
      "cell_type": "code",
      "execution_count": 9,
      "metadata": {
        "autoscroll": "auto"
      },
      "outputs": [],
      "source": "%pyspark\ne.sample(1/100).show(10)\nh.show(4,truncate\u003dFalse)"
    },
    {
      "cell_type": "code",
      "execution_count": 10,
      "metadata": {
        "autoscroll": "auto"
      },
      "outputs": [],
      "source": "%pyspark\nh.count()"
    },
    {
      "cell_type": "code",
      "execution_count": 11,
      "metadata": {
        "autoscroll": "auto"
      },
      "outputs": [],
      "source": "%pyspark\nh \u003d h.withColumn(\u0027uniq\u0027,concat(F.split(col(\u0027unique_variant_id\u0027),\u0027:\u0027).getItem(0), lit(\u0027:\u0027),\n                           F.split(col(\u0027unique_variant_id\u0027),\u0027:\u0027).getItem(1), lit(\u0027:\u0027),\n                            F.split(col(\u0027unique_variant_id\u0027),\u0027:\u0027).getItem(3), lit(\u0027:\u0027),\n                             F.split(col(\u0027unique_variant_id\u0027),\u0027:\u0027).getItem(4))).drop(\u0027unique_variant_id\u0027)\n                             \nh \u003d h.withColumn(\u0027unique_variant_id\u0027,col(\u0027uniq\u0027)).drop(\u0027uniq\u0027)\nh.show(1)"
    },
    {
      "cell_type": "code",
      "execution_count": 12,
      "metadata": {
        "autoscroll": "auto"
      },
      "outputs": [],
      "source": "%pyspark\nc \u003d [\u0027start\u0027, \u0027reference\u0027, \u0027alternate\u0027, \u0027rsID\u0027, \u0027symbol\u0027, \u0027eqtl_boolean\u0027, \u0027chromosome\u0027, \u0027unique_variant_id\u0027]\n"
    },
    {
      "cell_type": "code",
      "execution_count": 13,
      "metadata": {
        "autoscroll": "auto"
      },
      "outputs": [],
      "source": "%pyspark\neqtl_highImpact \u003d e.select(c).union(h.select(c))"
    },
    {
      "cell_type": "code",
      "execution_count": 14,
      "metadata": {
        "autoscroll": "auto"
      },
      "outputs": [],
      "source": "%pyspark\nprint(eqtl_highImpact.where(col(\u0027eqtl_boolean\u0027) \u003d\u003d 1).count())\nprint(eqtl_highImpact.where(col(\u0027eqtl_boolean\u0027) \u003d\u003d 0).count())"
    },
    {
      "cell_type": "code",
      "execution_count": 15,
      "metadata": {
        "autoscroll": "auto"
      },
      "outputs": [],
      "source": "%pyspark\nhighImpact_indels \u003d eqtl_highImpact.where(  (F.length(\"reference\") \u003e 1) | (F.length(\"alternate\") \u003e 1)  )\nhighImpact_SNPs \u003d eqtl_highImpact.where(  ~( (F.length(\"reference\") \u003e 1) | (F.length(\"alternate\") \u003e 1) ) )\n"
    },
    {
      "cell_type": "code",
      "execution_count": 16,
      "metadata": {
        "autoscroll": "auto"
      },
      "outputs": [],
      "source": "%pyspark\nprint(highImpact_SNPs.where(col(\u0027eqtl_boolean\u0027) \u003d\u003d 1).count())\nprint(highImpact_SNPs.where(col(\u0027eqtl_boolean\u0027) \u003d\u003d 0).count())\n\nprint(highImpact_indels.where(col(\u0027eqtl_boolean\u0027) \u003d\u003d 1).count())\nprint(highImpact_indels.where(col(\u0027eqtl_boolean\u0027) \u003d\u003d 0).count())"
    },
    {
      "cell_type": "code",
      "execution_count": 17,
      "metadata": {
        "autoscroll": "auto"
      },
      "outputs": [],
      "source": "%pyspark\nhighImpact_indels \u003d highImpact_indels.where(col(\u0027eqtl_boolean\u0027) \u003d\u003d 0)"
    },
    {
      "cell_type": "code",
      "execution_count": 18,
      "metadata": {
        "autoscroll": "auto"
      },
      "outputs": [],
      "source": "%pyspark\n\nhighImpact_indels \u003d highImpact_indels.withColumn(\u0027uniq\u0027,concat(F.split(col(\u0027unique_variant_id\u0027),\u0027:\u0027).getItem(0), lit(\u0027:\u0027),\n                           F.split(col(\u0027unique_variant_id\u0027),\u0027:\u0027).getItem(1), lit(\u0027:\u0027),\n                            F.split(col(\u0027unique_variant_id\u0027),\u0027:\u0027).getItem(3), lit(\u0027:\u0027),\n                             F.split(col(\u0027unique_variant_id\u0027),\u0027:\u0027).getItem(4))).drop(\u0027unique_variant_id\u0027)\n                             \nhighImpact_indels \u003d highImpact_indels.withColumn(\u0027unique_variant_id\u0027,col(\u0027uniq\u0027)).drop(\u0027uniq\u0027)\nprint(highImpact_indels.count())\nhighImpact_indels.show()"
    },
    {
      "cell_type": "code",
      "execution_count": 19,
      "metadata": {
        "autoscroll": "auto"
      },
      "outputs": [],
      "source": "%pyspark\nhighImpact_SNPs \u003d highImpact_SNPs.where(col(\u0027eqtl_boolean\u0027) \u003d\u003d 0)\nhighImpact_SNPs.count()"
    },
    {
      "cell_type": "code",
      "execution_count": 20,
      "metadata": {
        "autoscroll": "auto"
      },
      "outputs": [],
      "source": "%pyspark\nhighImpact_SNPs \u003d highImpact_SNPs.withColumn(\u0027uniq\u0027,concat(F.split(col(\u0027unique_variant_id\u0027),\u0027:\u0027).getItem(0), lit(\u0027:\u0027),\n                           F.split(col(\u0027unique_variant_id\u0027),\u0027:\u0027).getItem(1), lit(\u0027:\u0027),\n                            F.split(col(\u0027unique_variant_id\u0027),\u0027:\u0027).getItem(3), lit(\u0027:\u0027),\n                             F.split(col(\u0027unique_variant_id\u0027),\u0027:\u0027).getItem(4))).drop(\u0027unique_variant_id\u0027)\n                             \nhighImpact_SNPs \u003d highImpact_SNPs.withColumn(\u0027unique_variant_id\u0027,col(\u0027uniq\u0027)).drop(\u0027uniq\u0027)\n"
    },
    {
      "cell_type": "code",
      "execution_count": 21,
      "metadata": {
        "autoscroll": "auto"
      },
      "outputs": [],
      "source": "%pyspark\nprint(highImpact_SNPs.count())\nhighImpact_SNPs.show()"
    },
    {
      "cell_type": "code",
      "execution_count": 22,
      "metadata": {
        "autoscroll": "auto"
      },
      "outputs": [],
      "source": "%pyspark\nchroms \u003d [\u00271\u0027, \u002710\u0027, \u002711\u0027, \u002712\u0027, \u002713\u0027, \u002714\u0027, \u002715\u0027, \u002716\u0027, \u002717\u0027, \u002718\u0027, \u002719\u0027, \u00272\u0027, \u002720\u0027, \u002722\u0027, \u00273\u0027, \u00274\u0027, \u00275\u0027, \u00276\u0027, \u00277\u0027,\u00278\u0027, \u00279\u0027, \u0027X\u0027,\u0027Y\u0027]\n\nfor n,CHROM in enumerate(chroms):\n    cadd_chrom \u003d spark.read.parquet(f\"s3a://kf-strides-variant-parquet-prd/notebooks/5175e6e3-c3d7-4c19-b51f-6f1ea4dd3700/cadd_scores/cadd_chrom_files_parquet/chr{CHROM}\")\n\n    cadd_chrom \u003d cadd_chrom.select(col(\"0\").alias(\"chromosome\"), col(\"1\").alias(\"start\"),col(\"2\").alias(\"reference\"),col(\"3\").alias(\"alternate\"),\n                                   col(\u00275\u0027).alias(\"CADD_score\")).withColumn(\u0027unique_variant_id\u0027,concat(col(\"chromosome\"), lit(\":\"),\n                                   col(\"start\"),lit(\u0027:\u0027),col(\u0027reference\u0027),lit(\u0027:\u0027),col(\u0027alternate\u0027)))\n         \n    highImpact_SNPs_chrom \u003d highImpact_SNPs.where(col(\"chromosome\") \u003d\u003d CHROM)\n    \n    print(f\"Joining CADD scores for chromosome {CHROM} ({highImpact_SNPs_chrom.count()} x {cadd_chrom.count()})...\",end\u003d\"\")\n    \n    highImpact_results_chrom \u003d highImpact_SNPs_chrom.join(cadd_chrom.select(\u0027unique_variant_id\u0027,\u0027cadd_score\u0027), [\u0027unique_variant_id\u0027], \"left\")\n    \n    print(f\"Done...Result is {highImpact_results_chrom.count()} rows long.\")\n    \n    \n    if n \u003d\u003d 0: highImpact_SNPs_full \u003d  highImpact_results_chrom\n    else: highImpact_SNPs_full \u003d highImpact_SNPs_full.union(highImpact_results_chrom)\n    "
    },
    {
      "cell_type": "code",
      "execution_count": 23,
      "metadata": {
        "autoscroll": "auto"
      },
      "outputs": [],
      "source": "%pyspark\nhighImpact_SNPs_full.show()"
    },
    {
      "cell_type": "code",
      "execution_count": 24,
      "metadata": {
        "autoscroll": "auto"
      },
      "outputs": [],
      "source": "%pyspark\nhighImpact_SNPs_full.show(3)\n\nprint(highImpact_SNPs_full.where(col(\u0027eqtl_boolean\u0027) \u003d\u003d 1).count())\nprint(highImpact_SNPs_full.where(col(\u0027eqtl_boolean\u0027) \u003d\u003d 0).count())"
    },
    {
      "cell_type": "code",
      "execution_count": 25,
      "metadata": {
        "autoscroll": "auto"
      },
      "outputs": [],
      "source": "%pyspark\n#9950 + 1071\nhighImpact_SNPs_full.dropDuplicates().count()"
    },
    {
      "cell_type": "code",
      "execution_count": 26,
      "metadata": {
        "autoscroll": "auto"
      },
      "outputs": [],
      "source": "%pyspark\nprint(highImpact_SNPs_full.count())"
    },
    {
      "cell_type": "code",
      "execution_count": 27,
      "metadata": {
        "autoscroll": "auto"
      },
      "outputs": [],
      "source": "%pyspark\ndups \u003d highImpact_SNPs_full.groupBy(highImpact_SNPs_full.columns).count().filter(\"count \u003e 1\").orderBy(col(\u0027count\u0027).desc())\ndups.show()"
    },
    {
      "cell_type": "code",
      "execution_count": 28,
      "metadata": {
        "autoscroll": "auto"
      },
      "outputs": [],
      "source": "%pyspark\nhighImpact_indels.count()"
    },
    {
      "cell_type": "code",
      "execution_count": 29,
      "metadata": {
        "autoscroll": "auto"
      },
      "outputs": [],
      "source": "%pyspark\ncadd_chrom.show(1)"
    },
    {
      "cell_type": "code",
      "execution_count": 30,
      "metadata": {
        "autoscroll": "auto"
      },
      "outputs": [],
      "source": "%pyspark\n%%time\n\ncadd_gnomad_chrom \u003d spark.read.parquet(\u0027s3a://kf-strides-variant-parquet-prd/notebooks/5175e6e3-c3d7-4c19-b51f-6f1ea4dd3700/cadd_scores/cadd_gnomad_all.parquet\u0027)\n#cadd_gnomad_chrom \u003d cadd_gnomad_chrom.withColumn(\u0027unique_variant_id\u0027,concat(col(\"chromosome\"), lit(\":\"),col(\"start\"),lit(\u0027:\u0027),col(\u0027reference\u0027),\n#                                                                             lit(\u0027:\u0027),col(\u0027alternate\u0027)))\nfor n,CHROM in enumerate(chroms):\n\n    cadd_chrom \u003d  cadd_gnomad_chrom.where(col(\u0027chromosome\u0027) \u003d\u003d CHROM)\n    highImpact_indels_chrom \u003d highImpact_indels.where(col(\u0027chromosome\u0027) \u003d\u003d CHROM)\n\n    print(f\u0027Joining CADD scores for chromosome {CHROM} ({cadd_chrom.count()} x {highImpact_indels_chrom.count()})...\u0027,end\u003d\u0027\u0027)\n    \n    highImpact_results_chrom \u003d highImpact_indels_chrom.join(cadd_chrom.select(\u0027unique_variant_id\u0027,\u0027cadd_score\u0027), [\"unique_variant_id\"], \"left\")\n    \n    print(f\u0027Done...Result is {highImpact_results_chrom.count()} rows long.\u0027)\n    \n    if n \u003d\u003d 0: highImpact_indels_full \u003d  highImpact_results_chrom\n    else: highImpact_indels_full \u003d highImpact_indels_full.union(highImpact_results_chrom)\n    \n    #if n \u003d\u003d 2: break"
    },
    {
      "cell_type": "code",
      "execution_count": 31,
      "metadata": {
        "autoscroll": "auto"
      },
      "outputs": [],
      "source": "%pyspark\n#highImpact_indels_full.show()\n\nprint(highImpact_indels_full.where(col(\u0027eqtl_boolean\u0027) \u003d\u003d 1).count())\nprint(highImpact_indels_full.where(col(\u0027eqtl_boolean\u0027) \u003d\u003d 0).count())"
    },
    {
      "cell_type": "code",
      "execution_count": 32,
      "metadata": {
        "autoscroll": "auto"
      },
      "outputs": [],
      "source": "%pyspark\nhigh_joined \u003d highImpact_SNPs_full.union(highImpact_indels_full)\nprint(high_joined.count())\nhigh_joined.show()"
    },
    {
      "cell_type": "code",
      "execution_count": 33,
      "metadata": {
        "autoscroll": "auto"
      },
      "outputs": [],
      "source": "%pyspark\nprint(high_joined.where(col(\u0027eqtl_boolean\u0027) \u003d\u003d 1).count())\nprint(high_joined.where(col(\u0027eqtl_boolean\u0027) \u003d\u003d 0).count())"
    },
    {
      "cell_type": "code",
      "execution_count": 34,
      "metadata": {
        "autoscroll": "auto"
      },
      "outputs": [],
      "source": "%pyspark\nprint(high_joined.where(col(\u0027eqtl_boolean\u0027) \u003d\u003d 0).count())"
    },
    {
      "cell_type": "code",
      "execution_count": 35,
      "metadata": {
        "autoscroll": "auto"
      },
      "outputs": [],
      "source": "%pyspark\nhighimpact_nonNull \u003d high_joined.where( col(\u0027cadd_score\u0027).isNotNull()) \nhighimpact_nonNull.count()"
    },
    {
      "cell_type": "code",
      "execution_count": 36,
      "metadata": {
        "autoscroll": "auto"
      },
      "outputs": [],
      "source": "%pyspark\n#highImpact_CADD_scores \u003d spark.read.parquet(\u0027s3a://kf-strides-variant-parquet-prd/notebooks/5175e6e3-c3d7-4c19-b51f-6f1ea4dd3700/tables/eqtls_and_high_impact.parquet/\u0027)\n\nhighimpact_nonNull.dropDuplicates().repartitionByRange(20, \"chromosome\", \"start\").write.mode(\u0027overwrite\u0027).partitionBy(\"chromosome\").parquet(\u0027s3a://kf-strides-variant-parquet-prd/notebooks/5175e6e3-c3d7-4c19-b51f-6f1ea4dd3700/tables/highImpact_only_scored.parquet\u0027)"
    },
    {
      "cell_type": "code",
      "execution_count": 37,
      "metadata": {
        "autoscroll": "auto"
      },
      "outputs": [],
      "source": "%pyspark\nprint(high_joined.count())"
    },
    {
      "cell_type": "code",
      "execution_count": 38,
      "metadata": {
        "autoscroll": "auto"
      },
      "outputs": [],
      "source": "%pyspark\nhigh_joined_nonnull \u003d high_joined.where(~col(\u0027cadd_score\u0027).isNull())\nhigh_joined_nonnull.count()\n"
    },
    {
      "cell_type": "code",
      "execution_count": 39,
      "metadata": {
        "autoscroll": "auto"
      },
      "outputs": [],
      "source": "%pyspark\nprint(high_joined_nonnull.where(col(\u0027eqtl_boolean\u0027) \u003d\u003d 1).count())\nprint(high_joined_nonnull.where(col(\u0027eqtl_boolean\u0027) \u003d\u003d 0).count())\n"
    },
    {
      "cell_type": "code",
      "execution_count": 40,
      "metadata": {
        "autoscroll": "auto"
      },
      "outputs": [],
      "source": "%pyspark\nhigh_joined_nonnull_dedup \u003d high_joined_nonnull.dropDuplicates().repartitionByRange(20, \"chromosome\", \"start\")\nprint(high_joined_nonnull_dedup.count())\n\nprint(high_joined_nonnull_dedup.where(col(\u0027eqtl_boolean\u0027) \u003d\u003d 1).count())\nprint(high_joined_nonnull_dedup.where(col(\u0027eqtl_boolean\u0027) \u003d\u003d 0).count())"
    },
    {
      "cell_type": "code",
      "execution_count": 41,
      "metadata": {
        "autoscroll": "auto"
      },
      "outputs": [],
      "source": "%pyspark\nhigh_joined_nonnull.coalesce(1).toPandas().to_csv(\u0027eqtl_highImpact_scored.parquet\u0027,index\u003dFalse)"
    },
    {
      "cell_type": "code",
      "execution_count": 42,
      "metadata": {
        "autoscroll": "auto"
      },
      "outputs": [],
      "source": "%pyspark\n#mv highImpact_noDups.parquet cavatica/projects/taylordm/taylor-urbs-r03-kf-cardiac/highImpact_noDups.parquet\n!mv eqtl_highImpact_scored.parquet cavatica/projects/taylordm/taylor-urbs-r03-kf-cardiac/eqtl_highImpact_scored.parquet"
    },
    {
      "cell_type": "code",
      "execution_count": 43,
      "metadata": {
        "autoscroll": "auto"
      },
      "outputs": [],
      "source": "%pyspark\nhigh_joined_nonnull.write.mode(\u0027overwrite\u0027).partitionBy(\"chromosome\").parquet(\u0027s3a://kf-strides-variant-parquet-prd/notebooks/5175e6e3-c3d7-4c19-b51f-6f1ea4dd3700/tables/eqtl_highImpact_scored.parquet\u0027)"
    },
    {
      "cell_type": "code",
      "execution_count": 44,
      "metadata": {
        "autoscroll": "auto"
      },
      "outputs": [],
      "source": "%pyspark\n#high_joined_nonnull.coalesce(1).write.mode(\u0027overwrite\u0027).csv(\u0027s3a://kf-strides-variant-parquet-prd/notebooks/5175e6e3-c3d7-4c19-b51f-6f1ea4dd3700/tables/eqtl_highImpact_scored.csv\u0027)"
    },
    {
      "cell_type": "code",
      "execution_count": 45,
      "metadata": {
        "autoscroll": "auto"
      },
      "outputs": [],
      "source": "%pyspark\ndf  \u003d high_joined_nonnull.toPandas()"
    },
    {
      "cell_type": "code",
      "execution_count": 46,
      "metadata": {
        "autoscroll": "auto"
      },
      "outputs": [],
      "source": "%sh \naws s3 rm s3://kf-strides-variant-parquet-prd/notebooks/5175e6e3-c3d7-4c19-b51f-6f1ea4dd3700/tables/eqtl_highImpact_scored_pandas.csv \n"
    },
    {
      "cell_type": "code",
      "execution_count": 47,
      "metadata": {
        "autoscroll": "auto"
      },
      "outputs": [],
      "source": "%pyspark\ndf.head()"
    },
    {
      "cell_type": "code",
      "execution_count": 48,
      "metadata": {
        "autoscroll": "auto"
      },
      "outputs": [],
      "source": "%pyspark\ndf.to_csv(\u0027eqtl_highImpact_scored_pandas.csv\u0027,index\u003dFalse)"
    },
    {
      "cell_type": "code",
      "execution_count": 49,
      "metadata": {
        "autoscroll": "auto"
      },
      "outputs": [],
      "source": "%sh\nwc -l eqtl_highImpact_scored_pandas.csv\n"
    },
    {
      "cell_type": "code",
      "execution_count": 50,
      "metadata": {
        "autoscroll": "auto"
      },
      "outputs": [],
      "source": "%sh\ncp  eqtl_highImpact_scored_pandas.csv  /home/notebook/cavatica/projects/taylordm/taylor-urbs-r03-kf-cardiac/eqtl_highImpact_scored_pandas.csv "
    },
    {
      "cell_type": "code",
      "execution_count": 51,
      "metadata": {
        "autoscroll": "auto"
      },
      "outputs": [],
      "source": "%sh\naws s3 cp  s3://kf-strides-variant-parquet-prd/notebooks/5175e6e3-c3d7-4c19-b51f-6f1ea4dd3700/tables/eqtl_highImpact_scored.parquet/  ~/cavatica/projects/taylordm/taylor-urbs-r03-kf-cardiac/highImpact_eqtl_scored.parquet --recursive\n"
    },
    {
      "cell_type": "code",
      "execution_count": 52,
      "metadata": {
        "autoscroll": "auto"
      },
      "outputs": [],
      "source": "%sh\naws s3  rm --recursive s3://kf-strides-variant-parquet-prd/notebooks/5175e6e3-c3d7-4c19-b51f-6f1ea4dd3700/tables/eqtl_highImpact_scored.parquet/"
    },
    {
      "cell_type": "code",
      "execution_count": 53,
      "metadata": {
        "autoscroll": "auto"
      },
      "outputs": [],
      "source": "%sh\ncp eqtl_highImpact_scored.parquet   ~/cavatica/projects/taylordm/taylor-urbs-r03-kf-cardiac/highImpact_eqtl_scored_2.parquet  --recursive"
    },
    {
      "cell_type": "code",
      "execution_count": 54,
      "metadata": {
        "autoscroll": "auto"
      },
      "outputs": [],
      "source": "%sh\naws s3 mv s3://kf-strides-variant-parquet-prd/notebooks/5175e6e3-c3d7-4c19-b51f-6f1ea4dd3700/tables/tcsq_variant_gene_mappings_july19.parquet/  ~/cavatica/projects/d3b-bixu/kf-gvcf-merge-dev/tcsq_variant_gene_mappings_july19.parquet/ --recursive"
    },
    {
      "cell_type": "code",
      "execution_count": 55,
      "metadata": {
        "autoscroll": "auto"
      },
      "outputs": [],
      "source": "%sh\naws s3 ls  s3://kf-strides-variant-parquet-prd/notebooks/5175e6e3-c3d7-4c19-b51f-6f1ea4dd3700/tables/"
    },
    {
      "cell_type": "code",
      "execution_count": 56,
      "metadata": {
        "autoscroll": "auto"
      },
      "outputs": [],
      "source": "%pyspark\ntcsq_july19 \u003d spark.read.parquet(\u0027s3a://kf-strides-variant-parquet-prd/notebooks/5175e6e3-c3d7-4c19-b51f-6f1ea4dd3700/tables/tcsq_variant_gene_mappings_july19.parquet/\u0027)\nprint(tcsq_july19.count())\ntcsq_july19.show(1)\n\n"
    },
    {
      "cell_type": "code",
      "execution_count": 57,
      "metadata": {
        "autoscroll": "auto"
      },
      "outputs": [],
      "source": "%pyspark\ntcsq_july19.where(col(\u0027chromosome\u0027) \u003d\u003d \u00271\u0027).write.parquet(\u0027s3a://kf-strides-variant-parquet-prd/notebooks/5175e6e3-c3d7-4c19-b51f-6f1ea4dd3700/tables/tcsq_variant_gene_mappings_july19_chrom1.parquet\u0027)"
    },
    {
      "cell_type": "code",
      "execution_count": 58,
      "metadata": {
        "autoscroll": "auto"
      },
      "outputs": [],
      "source": "%pyspark\ntcsq_july13.write.mode(\u0027overwrite\u0027).partitionBy(\"chromosome\").parquet(\u0027s3a://kf-strides-variant-parquet-prd/notebooks/5175e6e3-c3d7-4c19-b51f-6f1ea4dd3700/tables/tcsq_variant_gene_mappings_july13.parquet\u0027)"
    },
    {
      "cell_type": "raw",
      "metadata": {
        "format": "text/plain"
      },
      "source": "%sh\n"
    },
    {
      "cell_type": "code",
      "execution_count": 60,
      "metadata": {
        "autoscroll": "auto"
      },
      "outputs": [],
      "source": "%pyspark\nprint(highImpact_indels_full.count())\nprint(highImpact_indels_full.dropDuplicates().count())\n\n#highImpact_indels_full.drop(\u0027biotype\u0027,\u0027hgvsc\u0027).show()"
    },
    {
      "cell_type": "markdown",
      "metadata": {},
      "source": "Write code to merge in scored eqtl/highImpact variants to a patients gvcf \n"
    },
    {
      "cell_type": "code",
      "execution_count": 62,
      "metadata": {
        "autoscroll": "auto"
      },
      "outputs": [],
      "source": "%pyspark\neqtl_highImpact_scored \u003d spark.read.parquet(\u0027s3a://kf-strides-variant-parquet-prd/notebooks/5175e6e3-c3d7-4c19-b51f-6f1ea4dd3700/tables/eqtl_highImpact_scored.parquet/\u0027)"
    },
    {
      "cell_type": "code",
      "execution_count": 63,
      "metadata": {
        "autoscroll": "auto"
      },
      "outputs": [],
      "source": "%pyspark\nprint(eqtl_highImpact_scored.count())\neqtl_highImpact_scored.show()\n"
    },
    {
      "cell_type": "code",
      "execution_count": 64,
      "metadata": {
        "autoscroll": "auto"
      },
      "outputs": [],
      "source": "%pyspark\n\neqtl_highImpact_scored \u003d spark.read.parquet(\u0027/home/notebook/cavatica/projects/taylordm/taylor-urbs-r03-kf-cardiac/eqtl_highImpact_scored.parquet\u0027)\nprint(eqtl_highImpact_scored.count())\neqtl_highImpact_scored.show()\n\n"
    },
    {
      "cell_type": "code",
      "execution_count": 65,
      "metadata": {
        "autoscroll": "auto"
      },
      "outputs": [],
      "source": "%pyspark\ndf_join \u003d spark.read.parquet(\u0027/home/notebook/cavatica/projects/d3b-bixu/kf-gvcf-merge-dev/BS_94TFF0PH.parquet\u0027)\ndf_join.show(1)"
    },
    {
      "cell_type": "code",
      "execution_count": 66,
      "metadata": {
        "autoscroll": "auto"
      },
      "outputs": [],
      "source": "%pyspark\nauth_token_input \u003d z.password(\"Your authentication token\")\nz.put(\"auth_token_shell\", auth_token_input)\n"
    },
    {
      "cell_type": "code",
      "execution_count": 67,
      "metadata": {
        "autoscroll": "auto"
      },
      "outputs": [],
      "source": "%sh\ncd ~/.sevenbridges/\nif [[ -e \u0027credentials\u0027 ]]; then mv credentials credentials.bak; fi\ncat \u003c\u003c EOF \u003e credentials\n[default]\napi_endpoint \u003d https://cavatica-api.sbgenomics.com/v2\nauth_token   \u003d {auth_token_shell}\nEOF \n"
    },
    {
      "cell_type": "code",
      "execution_count": 68,
      "metadata": {
        "autoscroll": "auto"
      },
      "outputs": [],
      "source": "%sh\ncd ~\nif ! [[ -x \u0027sbfs\u0027 ]]; then curl https://igor.sbgenomics.com/downloads/sbfs/linux-amd64/sbfs -O; chmod 755 sbfs; fi\nls -l sbfs"
    },
    {
      "cell_type": "code",
      "execution_count": 69,
      "metadata": {
        "autoscroll": "auto"
      },
      "outputs": [],
      "source": "%sh\ncd ~\n! [[ -x \u0027cavatica\u0027 ]] \u0026\u0026 mkdir ~/cavatica\n[[ \"$(ls -A ~/cavatica)\" ]] || ~/sbfs mount ~/cavatica\necho \u0027Wait until mounting is done ...\u0027\nwhile [[ -e ~/cavatica/mount_status ]]; do sleep 1; done\nls -l ~/cavatica/projects/"
    },
    {
      "cell_type": "code",
      "execution_count": 70,
      "metadata": {
        "autoscroll": "auto"
      },
      "outputs": [],
      "source": "%sh\nls ~/cavatica/projects/d3b-bixu/kf-gvcf-merge-dev/"
    },
    {
      "cell_type": "code",
      "execution_count": 71,
      "metadata": {
        "autoscroll": "auto"
      },
      "outputs": [],
      "source": "%sh\n\naws s3 cp ~/cavatica/projects/d3b-bixu/kf-gvcf-merge-dev/BS_94TFF0PH.parquet s3://kf-strides-variant-parquet-prd/notebooks/5175e6e3-c3d7-4c19-b51f-6f1ea4dd3700/tables/BS_94TFF0PH.parquet   --recursive\n"
    },
    {
      "cell_type": "raw",
      "metadata": {
        "format": "text/plain"
      },
      "source": "%sh\n"
    }
  ]
}