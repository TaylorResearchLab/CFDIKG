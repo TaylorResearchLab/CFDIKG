﻿{
  "metadata": {
    "name": "DeNovo_heart",
    "kernelspec": {
      "language": "scala",
      "name": "spark2-scala"
    },
    "language_info": {
      "codemirror_mode": "text/x-scala",
      "file_extension": ".scala",
      "mimetype": "text/x-scala",
      "name": "scala",
      "pygments_lexer": "scala"
    }
  },
  "nbformat": 4,
  "nbformat_minor": 2,
  "cells": [
    {
      "cell_type": "code",
      "execution_count": 0,
      "metadata": {
        "autoscroll": "auto"
      },
      "outputs": [],
      "source": "%pyspark\nimport sys\nimport pandas as pd\npd.set_option(\u0027display.max_columns\u0027, None)\n!pip install joypy\nsys.path.append(\u0027./.local/lib/python3.8/site-packages\u0027)\nsys.path.append(\u0027./.local/lib/python3.8/site-packages/\u0027)\nimport joypy\nimport numpy as np\nimport glob\nfrom collections import Counter\nimport matplotlib.pyplot as plt\nfrom matplotlib_venn import venn2\nfrom matplotlib import cm\nimport io\nimport requests\nimport os\nfrom pyspark import SparkFiles\nfrom pyspark.sql import functions as F\nfrom pyspark.sql.functions import col,collect_list, concat, lit, when, monotonically_increasing_id, concat_ws \nfrom pyspark.sql.types import StringType\nimport seaborn as sns\n"
    },
    {
      "cell_type": "code",
      "execution_count": 1,
      "metadata": {
        "autoscroll": "auto"
      },
      "outputs": [],
      "source": "%sh\naws s3 cp  ~/cavatica/projects/taylordm/taylor-urbs-r03-kf-cardiac/b1ac71625c1aba9d819fae1725c27a42_10perc_cluster_gene_map.csv   s3://kf-strides-variant-parquet-prd/notebooks/5175e6e3-c3d7-4c19-b51f-6f1ea4dd3700/tables/hubmap_heart_cluster_genes/b1ac71625c1aba9d819fae1725c27a42_10perc_cluster_gene_map.csv\n"
    },
    {
      "cell_type": "code",
      "execution_count": 2,
      "metadata": {
        "autoscroll": "auto"
      },
      "outputs": [],
      "source": "%sh\naws s3 cp  ~/cavatica/projects/taylordm/taylor-urbs-r03-kf-cardiac/integrated_kidney_hubmap_10xseq_7samples_markers.csv   s3://kf-strides-variant-parquet-prd/notebooks/5175e6e3-c3d7-4c19-b51f-6f1ea4dd3700/tables/hubmap_heart_cluster_genes/integrated_kidney_hubmap_10xseq_7samples_markers.csv"
    },
    {
      "cell_type": "code",
      "execution_count": 3,
      "metadata": {
        "autoscroll": "auto"
      },
      "outputs": [],
      "source": "%sh\ncp CHD_GTEx_constant_filtering.pdf  ~/cavatica/projects/taylordm/taylor-urbs-r03-kf-cardiac/ \nls\n\n"
    },
    {
      "cell_type": "code",
      "execution_count": 4,
      "metadata": {
        "autoscroll": "auto"
      },
      "outputs": [],
      "source": "%sh\naws s3 cp      s3://kf-strides-variant-parquet-prd/notebooks/5175e6e3-c3d7-4c19-b51f-6f1ea4dd3700/tables/scored_variants_HEART.parquet/ ~/cavatica/projects/taylordm/taylor-urbs-r03-kf-cardiac/scored_variants_HEART.parquet/ --recursive"
    },
    {
      "cell_type": "code",
      "execution_count": 5,
      "metadata": {
        "autoscroll": "auto"
      },
      "outputs": [],
      "source": "%sh\naws s3 cp  ~/cavatica/projects/taylordm/taylor-urbs-r03-kf-cardiac/cadd_gt20_gnomAD_all_chroms.parquet s3://kf-strides-variant-parquet-prd/notebooks/5175e6e3-c3d7-4c19-b51f-6f1ea4dd3700/tables/cadd_scores_gt20/cadd_gt20_gnomAD_all_chroms.parquet    --recursive"
    },
    {
      "cell_type": "code",
      "execution_count": 6,
      "metadata": {
        "autoscroll": "auto"
      },
      "outputs": [],
      "source": "%sh\n#aws s3 rm s3://kf-strides-variant-parquet-prd/notebooks/5175e6e3-c3d7-4c19-b51f-6f1ea4dd3700/tables/scored_variants_HEART_w_eQTLs.parquet/ --recursive\naws s3 ls  s3://kf-strides-variant-parquet-prd/notebooks/5175e6e3-c3d7-4c19-b51f-6f1ea4dd3700/tables/\n"
    },
    {
      "cell_type": "code",
      "execution_count": 7,
      "metadata": {
        "autoscroll": "auto"
      },
      "outputs": [],
      "source": "%pyspark\nt_ocr \u003d spark \\\n    .table(\u0027occurrences\u0027) \\\n    .where((F.col(\u0027study_id\u0027).isin(\u0027SD_PREASA7S\u0027)))\n    \nselect_ocr_cols \u003d [\u0027biospecimen_id\u0027, \u0027chromosome\u0027, \u0027start\u0027, \u0027end\u0027,\u0027reference\u0027, \u0027alternate\u0027, \u0027name\u0027, \u0027hgvsg\u0027,\u0027variant_class\u0027,\u0027is_proband\u0027,\u0027quality\u0027,\u0027info_dp\u0027]\n\nt_ocr_select \u003d t_ocr.select(select_ocr_cols).withColumn(\u0027unique_variant_id\u0027,concat(col(\"chromosome\"), lit(\":\"),\n                                                   col(\"start\"),lit(\u0027:\u0027),col(\u0027reference\u0027),lit(\u0027:\u0027),col(\u0027alternate\u0027)))\nt_ocr_select.count()"
    },
    {
      "cell_type": "code",
      "execution_count": 8,
      "metadata": {
        "autoscroll": "auto"
      },
      "outputs": [],
      "source": "%pyspark\nt_ocr_select.show()"
    },
    {
      "cell_type": "code",
      "execution_count": 9,
      "metadata": {
        "autoscroll": "auto"
      },
      "outputs": [],
      "source": "%pyspark\n#\u0027BS_Q9SEHNMC\u0027 in set(bs_d.select(\u0027biospecimen_id\u0027).toPandas()[\u0027biospecimen_id\u0027])\n#bs_id_CHD \u003d t_ocr_CHD.select(\u0027biospecimen_id\u0027).distinct().toPandas()[\u0027biospecimen_id\u0027]\n#len(bs_id_CHD)"
    },
    {
      "cell_type": "code",
      "execution_count": 10,
      "metadata": {
        "autoscroll": "auto"
      },
      "outputs": [],
      "source": "%pyspark\ndenov \u003d t_ocr.where((col(\u0027is_hi_conf_denovo\u0027) \u003d\u003d True) \u0026 (col(\u0027is_proband\u0027) \u003d\u003d True) )\ndenov.count()"
    },
    {
      "cell_type": "code",
      "execution_count": 11,
      "metadata": {
        "autoscroll": "auto"
      },
      "outputs": [],
      "source": "%pyspark\n#a \u003d Counter(denov.select(\u0027biospecimen_id\u0027).toPandas()[\u0027biospecimen_id\u0027])\nnp.mean(list(a.values()))"
    },
    {
      "cell_type": "code",
      "execution_count": 12,
      "metadata": {
        "autoscroll": "auto"
      },
      "outputs": [],
      "source": "%pyspark\n1101878/297\n"
    },
    {
      "cell_type": "code",
      "execution_count": 13,
      "metadata": {
        "autoscroll": "auto"
      },
      "outputs": [],
      "source": "%pyspark\n#sum([i.startswith(\u0027Im\u0027) for i in np.sort(t_ocr.columns)]\ndenovos \u003d t_ocr_select.where((col(\u0027is_hi_conf_denovo\u0027) \u003d\u003d True) \u0026 (col(\u0027is_proband\u0027) \u003d\u003d True) ) #  | (col(\u0027Impact\u0027) \u003d\u003d \u0027High\u0027)\ndenovos.count()"
    },
    {
      "cell_type": "code",
      "execution_count": 14,
      "metadata": {
        "autoscroll": "auto"
      },
      "outputs": [],
      "source": "%pyspark\nprobands \u003d t_ocr_select.where(col(\u0027is_proband\u0027) \u003d\u003d True).distinct()\npr \u003d probands.toPandas()[\u0027biospecimen_id\u0027]\nlen(pr)"
    },
    {
      "cell_type": "code",
      "execution_count": 15,
      "metadata": {
        "autoscroll": "auto"
      },
      "outputs": [],
      "source": "%pyspark\ndenovos_bs_id \u003d denovos.select(\u0027biospecimen_id\u0027).distinct().toPandas()[\u0027biospecimen_id\u0027]\nlen(denovos_bs_id)"
    },
    {
      "cell_type": "code",
      "execution_count": 16,
      "metadata": {
        "autoscroll": "auto"
      },
      "outputs": [],
      "source": "%pyspark\nnp.mean(list(c.values()))"
    },
    {
      "cell_type": "code",
      "execution_count": 17,
      "metadata": {
        "autoscroll": "auto"
      },
      "outputs": [],
      "source": "%pyspark\nt_csq \u003d spark \\\n    .table(\u0027consequences\u0027) \\\n    .withColumnRenamed(\u0027name\u0027, \u0027rsID\u0027)\\\n    .drop(\u0027variant_class\u0027)\\\n    .where( (F.array_contains( F.col(\u0027study_ids\u0027),\u0027SD_PREASA7S\u0027 )) \u0026 (F.col(\u0027original_canonical\u0027) \u003d\u003d \u0027true\u0027)) \n\nt_csq_select \u003d t_csq.select([\u0027chromosome\u0027,\u0027start\u0027, \u0027reference\u0027,\u0027alternate\u0027,\u0027rsID\u0027,\u0027impact\u0027,\u0027symbol\u0027,\u0027biotype\u0027,\u0027hgvsc\u0027,\u0027hgvsg\u0027,\u0027feature_type\u0027,\u0027strand\u0027,\u0027consequences\u0027])\\\n                                .withColumn(\u0027unique_variant_id\u0027,concat(col(\"chromosome\"), lit(\":\"),col(\"start\"),lit(\u0027:\u0027),col(\u0027reference\u0027),lit(\u0027:\u0027),col(\u0027alternate\u0027)))\n\ngene_var_map \u003d t_csq_select.select(\u0027unique_variant_id\u0027,\u0027symbol\u0027).drop_duplicates([\u0027unique_variant_id\u0027])"
    },
    {
      "cell_type": "code",
      "execution_count": 18,
      "metadata": {
        "autoscroll": "auto"
      },
      "outputs": [],
      "source": "%pyspark\n\n# get all pc vars\nall_pcs \u003d t_csq_select.where(col(\u0027biotype\u0027) \u003d\u003d \u0027protein_coding\u0027)\n    \nall_pcs_snps \u003d all_pcs.where(  ~( (F.length(\"reference\") \u003e 1) | (F.length(\"alternate\") \u003e 1) ) )    \nall_pcs_indels \u003d all_pcs.where(  (F.length(\"reference\") \u003e 1) | (F.length(\"alternate\") \u003e 1)  )\n\n# score snps\ncadd_snps_gt20\u003d spark.read.parquet(\"s3a://kf-strides-variant-parquet-prd/notebooks/5175e6e3-c3d7-4c19-b51f-6f1ea4dd3700/tables/cadd_scores_gt20/cadd_gt20_snps_2.parquet\")\nall_pcs_snps_gt20_scored \u003d all_pcs_snps.join(cadd_snps_gt20.select(\u0027unique_variant_id\u0027,\u0027cadd_score\u0027),\u0027unique_variant_id\u0027,\u0027left\u0027)\nall_pcs_snps_gt20_scored_nonNUll \u003d all_pcs_snps_gt20_scored.where(~col(\u0027cadd_score\u0027).isNull())\n#print(all_pcs_snps_gt20_scored_nonNUll.count())\n\n# score indels\ncadd_indels_gt20\u003d spark.read.parquet(\"s3a://kf-strides-variant-parquet-prd/notebooks/5175e6e3-c3d7-4c19-b51f-6f1ea4dd3700/tables/cadd_scores_gt20/cadd_gt20_gnomAD_all_chroms.parquet\")\nall_pcs_indels_gt20_scored \u003d all_pcs_indels.join(cadd_indels_gt20.select(\u0027unique_variant_id\u0027,\u0027cadd_score\u0027),\u0027unique_variant_id\u0027,\u0027left\u0027)\nall_pcs_indels_gt20_scored_nonNUll \u003d all_pcs_indels_gt20_scored.where(~col(\u0027cadd_score\u0027).isNull())\n#print(all_pcs_indels_gt20_scored_nonNUll.count())\n\n# union\nall_pcs_gt20_scored \u003d all_pcs_snps_gt20_scored_nonNUll.union(all_pcs_indels_gt20_scored_nonNUll)\n\n# get all proband variants\npbs \u003d t_ocr_select.where(col(\u0027is_proband\u0027) \u003d\u003d True).drop(\u0027chromosome\u0027,\u0027start\u0027,\u0027reference\u0027,\u0027alternate\u0027,\u0027hgvsg\u0027)\n\n# join together so we have all proband protein coding variants (not just a unique list of pc vars)\nall_pcs_gt20_perPerson \u003d pbs.join(all_pcs_gt20_scored,\u0027unique_variant_id\u0027,\u0027left\u0027)\n\nall_pcs_gt20_perPerson_nonNull \u003d all_pcs_gt20_perPerson.where(~col(\u0027cadd_score\u0027).isNull())\n#all_pcs_gt20_perPerson_nonNull.show()\n#all_pcs_gt20_perPerson_nonNull.count()\n\n# add identifiier cols\nall_pcs_gt20_perPerson_nonNull \u003d all_pcs_gt20_perPerson_nonNull.withColumn(\u0027High_Impact_boolean\u0027,lit(0))\\\n                                                .withColumn(\u0027DeNovo_boolean\u0027,lit(0))\\\n                                                .withColumn(\u0027gt20_boolean\u0027,lit(1))\n"
    },
    {
      "cell_type": "code",
      "execution_count": 19,
      "metadata": {
        "autoscroll": "auto"
      },
      "outputs": [],
      "source": "%pyspark\ndenovos_hiMod \u003d denovos.join(t_csq_select.select(\u0027unique_variant_id\u0027,\u0027impact\u0027,\u0027biotype\u0027,\u0027consequences\u0027),\u0027unique_variant_id\u0027,\u0027left\u0027)\\\n                                                      .where( (col(\u0027impact\u0027) \u003d\u003d \u0027HIGH\u0027) | (col(\u0027impact\u0027) \u003d\u003d \u0027MODERATE\u0027))\n                                                      \n#denovos_hiMod \u003d denovos_hiMod.drop_duplicates([\u0027unique_variant_id\u0027]) \n#denovos_hiMod.drop_duplicates([\u0027biospecimen_id\u0027,\u0027unique_variant_id\u0027]).count() \nprint(denovos_hiMod.count())\n#denovos_hiMod.show(4)"
    },
    {
      "cell_type": "code",
      "execution_count": 20,
      "metadata": {
        "autoscroll": "auto"
      },
      "outputs": [],
      "source": "%pyspark\nCounter(denovos_hiMod.select(\u0027biospecimen_id\u0027).toPandas()[\u0027biospecimen_id\u0027]).most_common()"
    },
    {
      "cell_type": "code",
      "execution_count": 21,
      "metadata": {
        "autoscroll": "auto"
      },
      "outputs": [],
      "source": "%pyspark\ndenovos_hiMod_SNPs \u003d denovos_hiMod.where(  ~( (F.length(\"reference\") \u003e 1) | (F.length(\"alternate\") \u003e 1) ) )\nchroms \u003d [\u00271\u0027, \u002710\u0027, \u002711\u0027, \u002712\u0027, \u002713\u0027, \u002714\u0027, \u002715\u0027, \u002716\u0027, \u002717\u0027, \u002718\u0027, \u002719\u0027, \u00272\u0027, \u002720\u0027, \u002722\u0027, \u00273\u0027, \u00274\u0027, \u00275\u0027, \u00276\u0027, \u00277\u0027,\u00278\u0027, \u00279\u0027, \u0027X\u0027,\u0027Y\u0027]\n\nfor n,CHROM in enumerate(chroms):\n    cadd_chrom \u003d spark.read.parquet(f\"s3a://kf-strides-variant-parquet-prd/notebooks/5175e6e3-c3d7-4c19-b51f-6f1ea4dd3700/cadd_scores/cadd_chrom_files_parquet/chr{CHROM}\")\n\n    cadd_chrom \u003d cadd_chrom.select(col(\"0\").alias(\"chromosome\"), col(\"1\").alias(\"start\"),col(\"2\").alias(\"reference\"),col(\"3\").alias(\"alternate\"),\n                                   col(\u00275\u0027).alias(\"CADD_score\")).withColumn(\u0027unique_variant_id\u0027,concat(col(\"chromosome\"), lit(\":\"),\n                                   col(\"start\"),lit(\u0027:\u0027),col(\u0027reference\u0027),lit(\u0027:\u0027),col(\u0027alternate\u0027)))\n         \n    denovos_hiMod_SNPs_chrom \u003d denovos_hiMod_SNPs.where(col(\"chromosome\") \u003d\u003d CHROM)\n   # print(f\"Joining CADD scores for chromosome {CHROM} ({denovos_hiMod_SNPs_chrom.count()} x {cadd_chrom.count()})...\",end\u003d\"\")\n    \n    deNovo_results_chrom \u003d denovos_hiMod_SNPs_chrom.join(cadd_chrom.select(\u0027unique_variant_id\u0027,\u0027cadd_score\u0027), [\u0027unique_variant_id\u0027], \"left\")\n    #print(f\"Done...Result is {deNovo_results_chrom.count()} rows long.\")\n    \n    if n \u003d\u003d 0: deNovo_SNPs_full \u003d  deNovo_results_chrom\n    else: deNovo_SNPs_full \u003d deNovo_SNPs_full.union(deNovo_results_chrom)\n    #break\n"
    },
    {
      "cell_type": "code",
      "execution_count": 22,
      "metadata": {
        "autoscroll": "auto"
      },
      "outputs": [],
      "source": "%pyspark\nprint(deNovo_SNPs_full.count())\ndeNovo_SNPs_full.where( col(\u0027cadd_score\u0027).isNull()).count()"
    },
    {
      "cell_type": "code",
      "execution_count": 23,
      "metadata": {
        "autoscroll": "auto"
      },
      "outputs": [],
      "source": "%pyspark\ndeNovo_SNPs_full.repartitionByRange(20, \"chromosome\", \"start\").write.mode(\u0027overwrite\u0027).partitionBy(\"chromosome\").parquet(\u0027s3a://kf-strides-variant-parquet-prd/notebooks/5175e6e3-c3d7-4c19-b51f-6f1ea4dd3700/tables/deNovo_SNPs_full.parquet\u0027)"
    },
    {
      "cell_type": "code",
      "execution_count": 24,
      "metadata": {
        "autoscroll": "auto"
      },
      "outputs": [],
      "source": "%pyspark\ndenovos_hiMod_indels \u003d denovos_hiMod.where(  (F.length(\"reference\") \u003e 1) | (F.length(\"alternate\") \u003e 1)  )\ncadd_gnomad_chrom \u003d spark.read.parquet(\u0027s3a://kf-strides-variant-parquet-prd/notebooks/5175e6e3-c3d7-4c19-b51f-6f1ea4dd3700/cadd_scores/cadd_gnomad_all.parquet\u0027)\n\nfor n,CHROM in enumerate(chroms):\n\n    cadd_chrom \u003d  cadd_gnomad_chrom.where(col(\u0027chromosome\u0027) \u003d\u003d CHROM)\n    denovos_hiMod_indels_chrom \u003d denovos_hiMod_indels.where(col(\u0027chromosome\u0027) \u003d\u003d CHROM)\n\n    #print(f\u0027Joining CADD scores for chromosome {CHROM} ({cadd_chrom.count()} x {denovos_hiMod_indels_chrom.count()})...\u0027,end\u003d\u0027\u0027)\n    \n    deNovo_results_chrom \u003d denovos_hiMod_indels_chrom.join(cadd_chrom.select(\u0027unique_variant_id\u0027,\u0027cadd_score\u0027), [\"unique_variant_id\"], \"left\")\n    \n    #print(f\u0027Done...Result is {deNovo_results_chrom.count()} rows long.\u0027)\n    \n    if n \u003d\u003d 0: deNovo_indels_full \u003d  deNovo_results_chrom\n    else: deNovo_indels_full \u003d deNovo_indels_full.union(deNovo_results_chrom)\n    \n    #if n \u003d\u003d 2: break"
    },
    {
      "cell_type": "code",
      "execution_count": 25,
      "metadata": {
        "autoscroll": "auto"
      },
      "outputs": [],
      "source": "%pyspark\n#deNovo_indels_full_nonNull \u003d deNovo_indels_full.where( col(\u0027cadd_score\u0027).isNotNull())\n\nassert list(deNovo_indels_full.columns) \u003d\u003d list(deNovo_SNPs_full.columns)\n\ndeNovos_scored \u003d deNovo_SNPs_full.union(deNovo_indels_full)\ndeNovos_scored \u003d deNovos_scored.withColumn(\u0027DeNovo_boolean\u0027, lit(1))\n\nprint(deNovos_scored.count())\ndeNovos_scored.show(3)"
    },
    {
      "cell_type": "code",
      "execution_count": 26,
      "metadata": {
        "autoscroll": "auto"
      },
      "outputs": [],
      "source": "%pyspark\n#deNovos_scored \u003d deNovos_scored.drop(\u0027is_denovo\u0027)"
    },
    {
      "cell_type": "code",
      "execution_count": 27,
      "metadata": {
        "autoscroll": "auto"
      },
      "outputs": [],
      "source": "%pyspark\ndeNovos_scored.repartitionByRange(60, \"chromosome\", \"start\").write.mode(\u0027overwrite\u0027).parquet(\u0027s3a://kf-strides-variant-parquet-prd/notebooks/5175e6e3-c3d7-4c19-b51f-6f1ea4dd3700/tables/scored_variants_HEART_denovos_sept_9.parquet/\u0027)"
    },
    {
      "cell_type": "code",
      "execution_count": 28,
      "metadata": {
        "autoscroll": "auto"
      },
      "outputs": [],
      "source": "%pyspark\n\u0027\u0027\u0027\nCHD_variants \u003d spark.table(\u0027variants\u0027)\nCHD_variants \u003d CHD_variants.where(F.array_contains(CHD_variants.studies, \u0027SD_PREASA7S\u0027))\nCHD_variants.count()\u0027\u0027\u0027"
    },
    {
      "cell_type": "code",
      "execution_count": 29,
      "metadata": {
        "autoscroll": "auto"
      },
      "outputs": [],
      "source": "%pyspark\nhighImpact \u003d t_csq_select.where( (col(\u0027impact\u0027) \u003d\u003d \u0027HIGH\u0027)).drop(\u0027hgvsc\u0027,\u0027hgvsg\u0027,\u0027feature_type\u0027,\u0027strand\u0027)\nprint(highImpact.count())\nhighImpact.show(3)"
    },
    {
      "cell_type": "code",
      "execution_count": 30,
      "metadata": {
        "autoscroll": "auto"
      },
      "outputs": [],
      "source": "%pyspark\nhighImpact_perPerson \u003d t_ocr_select.drop(\u0027chromosome\u0027,\u0027start\u0027,\u0027end\u0027,\u0027reference\u0027,\u0027alternate\u0027).join(highImpact,\u0027unique_variant_id\u0027,\u0027right\u0027)\nprint(highImpact_perPerson.count())\n#highImpact_perPerson.show(3)\n"
    },
    {
      "cell_type": "code",
      "execution_count": 31,
      "metadata": {
        "autoscroll": "auto"
      },
      "outputs": [],
      "source": "%pyspark\nhighImpact_perPerson_probands \u003d highImpact_perPerson.where(col(\u0027is_proband\u0027) \u003d\u003d True)\nprint(highImpact_perPerson_probands.count())\n#Counter(highImpact_perPerson_probands.select(\u0027biospecimen_id\u0027).toPandas()[\u0027biospecimen_id\u0027]).most_common()"
    },
    {
      "cell_type": "code",
      "execution_count": 32,
      "metadata": {
        "autoscroll": "auto"
      },
      "outputs": [],
      "source": "%pyspark\n\nhighImpact_CADD_scores \u003d spark.read.parquet(\u0027s3a://kf-strides-variant-parquet-prd/notebooks/5175e6e3-c3d7-4c19-b51f-6f1ea4dd3700/tables/highImpact_only_scored.parquet/\u0027)\n#print(highImpact_CADD_scores.count())\n#highImpact_CADD_scores.show(5)\n"
    },
    {
      "cell_type": "code",
      "execution_count": 33,
      "metadata": {
        "autoscroll": "auto"
      },
      "outputs": [],
      "source": "%pyspark\ndbl_ex \u003d highImpact_perPerson_probands.where((col(\u0027biospecimen_id\u0027) \u003d\u003d \u0027BS_KHNM1Y8T\u0027 ) \u0026 (col(\u0027unique_variant_id\u0027) \u003d\u003d \u002719:44027478:G:T\u0027))\ndbl_ex.show()"
    },
    {
      "cell_type": "code",
      "execution_count": 34,
      "metadata": {
        "autoscroll": "auto"
      },
      "outputs": [],
      "source": "%pyspark\n\n"
    },
    {
      "cell_type": "code",
      "execution_count": 35,
      "metadata": {
        "autoscroll": "auto"
      },
      "outputs": [],
      "source": "%pyspark\ndf1\u003dhighImpact_perPerson_probands_pc.groupBy(\"biospecimen_id\",\"unique_variant_id\").count().filter(\"count \u003e 1\")\nprint(df1.count())\ndf1.drop(\u0027count\u0027).show()"
    },
    {
      "cell_type": "code",
      "execution_count": 36,
      "metadata": {
        "autoscroll": "auto"
      },
      "outputs": [],
      "source": "%pyspark\n\nhighImpact_perPerson_probands_pc \u003d highImpact_perPerson_probands.where( (col(\u0027biotype\u0027) \u003d\u003d \u0027protein_coding\u0027) )\nprint(highImpact_perPerson_probands_pc.count())\n\nhigh_impact_perPerson_scored \u003d highImpact_CADD_scores.select(\u0027unique_variant_id\u0027,\u0027cadd_score\u0027).join(highImpact_perPerson_probands_pc,\u0027unique_variant_id\u0027,\u0027right\u0027)\nprint(high_impact_perPerson_scored.count())\n\n#high_impact_perPerson_scored \u003d high_impact_perPerson_scored.drop_duplicates([\u0027biospecimen_id\u0027,\u0027unique_variant_id\u0027]) # drops ~6k rows\nhigh_impact_perPerson_scored \u003d high_impact_perPerson_scored.withColumn(\u0027High_Impact_boolean\u0027,lit(1))\\\n                                                           .withColumn(\u0027DeNovo_boolean\u0027,lit(0))\\\n                                                           .withColumn(\u0027gt20_boolean\u0027,lit(0))\nhigh_impact_perPerson_scored.show(3)"
    },
    {
      "cell_type": "code",
      "execution_count": 37,
      "metadata": {
        "autoscroll": "auto"
      },
      "outputs": [],
      "source": "%pyspark\n\nhigh_impact_perPerson_scored.repartitionByRange(60, \"chromosome\", \"start\").write.mode(\u0027overwrite\u0027).parquet(\u0027s3a://kf-strides-variant-parquet-prd/notebooks/5175e6e3-c3d7-4c19-b51f-6f1ea4dd3700/tables/high_impact_perPerson_scored_sept_12.parquet/\u0027)"
    },
    {
      "cell_type": "code",
      "execution_count": 38,
      "metadata": {
        "autoscroll": "auto"
      },
      "outputs": [],
      "source": "%pyspark\ndeNovos_scored.repartition(200, \"unique_variant_id\").write.mode(\u0027overwrite\u0027).parquet(\u0027s3a://kf-strides-variant-parquet-prd/notebooks/5175e6e3-c3d7-4c19-b51f-6f1ea4dd3700/tables/denovos_scored_sept_12.parquet/\u0027)"
    },
    {
      "cell_type": "code",
      "execution_count": 39,
      "metadata": {
        "autoscroll": "auto"
      },
      "outputs": [],
      "source": "%pyspark\nhigh_impact_perPerson_scored \u003d spark.read.parquet(\u0027s3a://kf-strides-variant-parquet-prd/notebooks/5175e6e3-c3d7-4c19-b51f-6f1ea4dd3700/tables/high_impact_perPerson_scored_sept_12.parquet/\u0027)\ndeNovos_scored \u003d spark.read.parquet(\u0027s3a://kf-strides-variant-parquet-prd/notebooks/5175e6e3-c3d7-4c19-b51f-6f1ea4dd3700/tables/denovos_scored_sept_12.parquet/\u0027)"
    },
    {
      "cell_type": "code",
      "execution_count": 40,
      "metadata": {
        "autoscroll": "auto"
      },
      "outputs": [],
      "source": "%pyspark\n\ngene_var_map \u003d t_csq_select.select(\u0027unique_variant_id\u0027,\u0027symbol\u0027).drop_duplicates([\u0027unique_variant_id\u0027])\n\ndeNovos_scored_sym \u003d deNovos_scored.join(gene_var_map,\u0027unique_variant_id\u0027,\u0027left\u0027)\nprint(deNovos_scored_sym.count())"
    },
    {
      "cell_type": "code",
      "execution_count": 41,
      "metadata": {
        "autoscroll": "auto"
      },
      "outputs": [],
      "source": "%pyspark\ndeNovos_scored_sym \u003d deNovos_scored_sym.withColumn(\u0027High_Impact_boolean\u0027,lit(0))\\\n                                    .withColumn(\u0027gt20_boolean\u0027,lit(0))\n                                    \n# join rsIDs in\ndeNovos_scored_sym_rsID \u003d deNovos_scored_sym.join(t_csq_select.select(\u0027rsID\u0027,\u0027unique_variant_id\u0027),\u0027unique_variant_id\u0027,\u0027left\u0027)                                    "
    },
    {
      "cell_type": "code",
      "execution_count": 42,
      "metadata": {
        "autoscroll": "auto"
      },
      "outputs": [],
      "source": "%pyspark\nall_pcs_gt20_perPerson_nonNull \u003d all_pcs_gt20_perPerson_nonNull.drop(\u0027end\u0027,\u0027feature_type\u0027, \u0027hgvsc\u0027,\u0027strand\u0027)\ndeNovos_scored_sym_rsID \u003d deNovos_scored_sym_rsID.drop(\u0027end\u0027)"
    },
    {
      "cell_type": "code",
      "execution_count": 43,
      "metadata": {
        "autoscroll": "auto"
      },
      "outputs": [],
      "source": "%pyspark\nset(all_pcs_gt20_perPerson_nonNull.columns) - set(deNovos_scored_sym_rsID.columns)"
    },
    {
      "cell_type": "code",
      "execution_count": 44,
      "metadata": {
        "autoscroll": "auto"
      },
      "outputs": [],
      "source": "%pyspark\nprint(all_pcs_gt20_perPerson_nonNull.count())\nprint(all_pcs_gt20_perPerson_nonNull.drop_duplicates([\u0027biospecimen_id\u0027,\u0027unique_variant_id\u0027]).count())\n\nprint(deNovos_scored_sym_rsID.count())\nprint(deNovos_scored_sym_rsID.drop_duplicates([\u0027biospecimen_id\u0027,\u0027unique_variant_id\u0027]).count())\n\nprint(high_impact_perPerson_scored.count())\nprint(high_impact_perPerson_scored.drop_duplicates([\u0027biospecimen_id\u0027,\u0027unique_variant_id\u0027]).count())\n"
    },
    {
      "cell_type": "code",
      "execution_count": 45,
      "metadata": {
        "autoscroll": "auto"
      },
      "outputs": [],
      "source": "%pyspark\nall_pcs_gt20_perPerson_nonNull \u003d all_pcs_gt20_perPerson_nonNull.drop_duplicates([\u0027biospecimen_id\u0027,\u0027unique_variant_id\u0027])\ndeNovos_scored_sym_rsID \u003d deNovos_scored_sym_rsID.drop_duplicates([\u0027biospecimen_id\u0027,\u0027unique_variant_id\u0027])\nhigh_impact_perPerson_scored \u003d high_impact_perPerson_scored.drop_duplicates([\u0027biospecimen_id\u0027,\u0027unique_variant_id\u0027])"
    },
    {
      "cell_type": "code",
      "execution_count": 46,
      "metadata": {
        "autoscroll": "auto"
      },
      "outputs": [],
      "source": "%pyspark\n\n\n\nhigh_impact_perPerson_scored \u003d high_impact_perPerson_scored.withColumn(\u0027High_Impact_boolean\u0027,lit(1))\\\n                                                           .withColumn(\u0027DeNovo_boolean\u0027,lit(0))\\\n                                                           .withColumn(\u0027gt20_boolean\u0027,lit(0))\\\n                                                           .withColumn(\u0027eqtl_boolean\u0027,lit(0))\nhigh_impact_perPerson_scored.columns"
    },
    {
      "cell_type": "code",
      "execution_count": 47,
      "metadata": {
        "autoscroll": "auto"
      },
      "outputs": [],
      "source": "%pyspark\n\nc \u003d [\u0027unique_variant_id\u0027, \u0027cadd_score\u0027, \u0027biospecimen_id\u0027, \u0027name\u0027, \u0027hgvsg\u0027, \u0027variant_class\u0027, \u0027is_proband\u0027, \u0027quality\u0027, \u0027info_dp\u0027, \u0027chromosome\u0027,\n                     \u0027start\u0027, \u0027reference\u0027, \u0027alternate\u0027, \u0027impact\u0027,\u0027rsID\u0027, \u0027symbol\u0027,\u0027biotype\u0027,\u0027consequences\u0027,\u0027DeNovo_boolean\u0027,\u0027High_Impact_boolean\u0027,\u0027gt20_boolean\u0027] \n                     \nscored_variants \u003d deNovos_scored_sym_rsID.select(c).union(high_impact_perPerson_scored.select(c))\nscored_variants \u003d scored_variants.select(c).union(all_pcs_gt20_perPerson_nonNull.select(c))\nscored_variants.count()"
    },
    {
      "cell_type": "code",
      "execution_count": 48,
      "metadata": {
        "autoscroll": "auto"
      },
      "outputs": [],
      "source": "%pyspark\neqtl_highImpact \u003d spark.read.parquet(\u0027s3a://kf-strides-variant-parquet-prd/notebooks/5175e6e3-c3d7-4c19-b51f-6f1ea4dd3700/tables/eqtl_highImpact_scored_july8.parquet\u0027)\n#print(eqtl_highImpact.count())\neqtls \u003d eqtl_highImpact.where(col(\u0027eqtl_boolean\u0027) \u003d\u003d 1)\n#print(eqtls.count())\n#e \u003d eqtl_highImpact.select(\u0027cadd_score\u0027).toPandas()\n#e.hist(bins\u003d50)\n#z.show(plt)\n\nce \u003d [\u0027unique_variant_id\u0027, \u0027cadd_score\u0027, \u0027biospecimen_id\u0027, \u0027name\u0027, \u0027hgvsg\u0027, \u0027variant_class\u0027, \u0027is_proband\u0027, \u0027quality\u0027, \u0027info_dp\u0027, \u0027chromosome\u0027,\n                     \u0027start\u0027, \u0027reference\u0027, \u0027alternate\u0027, \u0027impact\u0027,\u0027rsID\u0027, \u0027symbol\u0027,\u0027biotype\u0027,\u0027consequences\u0027,\u0027DeNovo_boolean\u0027,\u0027High_Impact_boolean\u0027,\u0027gt20_boolean\u0027,\u0027eqtl_boolean\u0027] \n                     \neqtls_perPerson \u003d eqtls.drop(\u0027alternate\u0027,\u0027reference\u0027,\u0027start\u0027,\u0027chromosome\u0027).join(\n                                    t_ocr_select.where(col(\u0027is_proband\u0027) \u003d\u003d True ),\u0027unique_variant_id\u0027,\u0027left\u0027)\\\n                                    .drop_duplicates([\u0027biospecimen_id\u0027,\u0027unique_variant_id\u0027]).select(c)\nprint(eqtls_perPerson.count())\neqtls_perPerson.show()\n\n#eqtls_perPerson_dropna \u003d eqtls_perPerson.dropna()\n#eqtls_perPerson_dropna.count()"
    },
    {
      "cell_type": "code",
      "execution_count": 49,
      "metadata": {
        "autoscroll": "auto"
      },
      "outputs": [],
      "source": "%pyspark\n# read in variants we already saved\n#scored_variants_dedup \u003d spark.read.parquet(\u0027s3a://kf-strides-variant-parquet-prd/notebooks/5175e6e3-c3d7-4c19-b51f-6f1ea4dd3700/tables/scored_variants_HEART_aug13.parquet/\u0027)\n#scored_variants_dedup.count()"
    },
    {
      "cell_type": "code",
      "execution_count": 50,
      "metadata": {
        "autoscroll": "auto"
      },
      "outputs": [],
      "source": "%pyspark\n#scored_variants_dedup.select(c).show(2)\n#eqtls_perPerson.select(c).show(2)"
    },
    {
      "cell_type": "code",
      "execution_count": 51,
      "metadata": {
        "autoscroll": "auto"
      },
      "outputs": [],
      "source": "%pyspark\neqtls_perPerson_dropna \u003d eqtls_perPerson.where(~col(\u0027biospecimen_id\u0027).isNull())\neqtls_perPerson_dropna.count()\n\n#scored_variants \u003d scored_variants.withColumn(\u0027eqtl_boolean\u0027,lit(0))\n\neqtls_perPerson \u003d eqtls_perPerson.withColumn(\u0027DeNovo_boolean\u0027,lit(0))\\\n                                .withColumn(\u0027High_Impact_boolean\u0027,lit(0))\\\n                                .withColumn(\u0027gt20_boolean\u0027,lit(0)) #\\.withColumn(\u0027eqtl_boolean\u0027,lit(1))\n                                \n\neqtls_perPerson_dropna \u003d  eqtls_perPerson_dropna.withColumn(\u0027biotype\u0027,lit(\u0027NA\u0027))\\\n                                                    .withColumn(\u0027consequences\u0027,F.array([]))\\\n                                                    .withColumn(\u0027impact\u0027,lit(\u0027NA\u0027))"
    },
    {
      "cell_type": "code",
      "execution_count": 52,
      "metadata": {
        "autoscroll": "auto"
      },
      "outputs": [],
      "source": "%pyspark\n#eqtls_perPerson_dropna \u003d  eqtls_perPerson_dropna.withColumn(\u0027eqtl_boolean\u0027,lit(\u00271\u0027))\n\nscored_variants \u003d scored_variants.withColumn(\u0027eqtl_boolean\u0027,lit(\u00270\u0027))\nscored_variants.show()"
    },
    {
      "cell_type": "code",
      "execution_count": 53,
      "metadata": {
        "autoscroll": "auto"
      },
      "outputs": [],
      "source": "%pyspark\neqtls_perPerson_dropna \u003d eqtls_perPerson_dropna.withColumn(\u0027rsID\u0027,lit(\u0027NA\u0027))\n\neqtls_perPerson_dropna \u003d eqtls_perPerson_dropna.drop_duplicates([\u0027biospecimen_id\u0027,\u0027unique_variant_id\u0027])\n\nscored_variants \u003d scored_variants.select(ce).union(eqtls_perPerson_dropna.select(ce))\nscored_variants.count()"
    },
    {
      "cell_type": "code",
      "execution_count": 54,
      "metadata": {
        "autoscroll": "auto"
      },
      "outputs": [],
      "source": "%pyspark\n#scored_variants_dropna \u003d scored_variants.dropna()\nscored_variants_dropna \u003d scored_variants.where(~col(\u0027biospecimen_id\u0027).isNull())\nprint(scored_variants_dropna.count())\n#scored_variants_dropna.show()"
    },
    {
      "cell_type": "code",
      "execution_count": 55,
      "metadata": {
        "autoscroll": "auto"
      },
      "outputs": [],
      "source": "%pyspark\nscored_variants_dropna.sample(1/1000).show()"
    },
    {
      "cell_type": "code",
      "execution_count": 56,
      "metadata": {
        "autoscroll": "auto"
      },
      "outputs": [],
      "source": "%pyspark\n\n# there may be some overlap b/t de novo and high impact variant groups bc some de novo\u0027s may also be high impact,\n# so drop duplicates here\nscored_variants_final \u003d scored_variants_dropna.drop_duplicates([\u0027biospecimen_id\u0027,\u0027unique_variant_id\u0027])\nscored_variants_final.count()"
    },
    {
      "cell_type": "code",
      "execution_count": 57,
      "metadata": {
        "autoscroll": "auto"
      },
      "outputs": [],
      "source": "%pyspark\nprint(\u0027Total De Novo.............\u0027,scored_variants_final.where(col(\u0027DeNovo_boolean\u0027) \u003d\u003d 1).count()) # De Novo High/Moderate\nprint(\u0027Total VEP High Impact.....\u0027,scored_variants_final.where(col(\u0027High_Impact_boolean\u0027) \u003d\u003d 1).count()) # VEP High Impact \nprint(\u0027Total CADD \u003e 20...........\u0027,scored_variants_final.where(col(\u0027gt20_boolean\u0027) \u003d\u003d 1).count()) # CADD greater than 20.0\nprint(\u0027Total eQTL................\u0027,scored_variants_final.where(col(\u0027eqtl_boolean\u0027) \u003d\u003d 1).count()) # eQTLs\n\n"
    },
    {
      "cell_type": "raw",
      "metadata": {
        "format": "text/plain"
      },
      "source": "%pyspark\n"
    },
    {
      "cell_type": "code",
      "execution_count": 59,
      "metadata": {
        "autoscroll": "auto"
      },
      "outputs": [],
      "source": "%pyspark\nscored_variants_final.repartition(200, \"unique_variant_id\").write.mode(\u0027overwrite\u0027).parquet(\u0027s3a://kf-strides-variant-parquet-prd/notebooks/5175e6e3-c3d7-4c19-b51f-6f1ea4dd3700/tables/scored_variants_HEART_w_eQTLs_sept15.parquet/\u0027) #"
    },
    {
      "cell_type": "code",
      "execution_count": 60,
      "metadata": {
        "autoscroll": "auto"
      },
      "outputs": [],
      "source": "%pyspark\nset(scored_variants_dedup.columns) - set(eqtls_perPerson.columns)"
    },
    {
      "cell_type": "code",
      "execution_count": 61,
      "metadata": {
        "autoscroll": "auto"
      },
      "outputs": [],
      "source": "%pyspark\n#scvd \u003d scored_variants_dedup.drop(\u0027impact\u0027).union(eqtls_perPerson).drop_duplicates([\u0027biospecimen_id\u0027,\u0027unique_variant_id\u0027])\n#scvd.count()  # 103496785\n"
    },
    {
      "cell_type": "code",
      "execution_count": 62,
      "metadata": {
        "autoscroll": "auto"
      },
      "outputs": [],
      "source": "%pyspark\n#scvd.write.mode(\u0027overwrite\u0027).parquet(\u0027s3a://kf-strides-variant-parquet-prd/notebooks/5175e6e3-c3d7-4c19-b51f-6f1ea4dd3700/tables/scored_variants_HEART_2.parquet\u0027)"
    },
    {
      "cell_type": "raw",
      "metadata": {
        "format": "text/plain"
      },
      "source": "%pyspark\n"
    },
    {
      "cell_type": "raw",
      "metadata": {
        "format": "text/plain"
      },
      "source": "%pyspark\n"
    },
    {
      "cell_type": "raw",
      "metadata": {
        "format": "text/plain"
      },
      "source": "%pyspark\n"
    },
    {
      "cell_type": "raw",
      "metadata": {
        "format": "text/plain"
      },
      "source": "%pyspark\n"
    },
    {
      "cell_type": "markdown",
      "metadata": {},
      "source": "# some plotting stuff..."
    },
    {
      "cell_type": "code",
      "execution_count": 68,
      "metadata": {
        "autoscroll": "auto"
      },
      "outputs": [],
      "source": "%pyspark\n\n# any SNP CADD scores \u003d null ? \n# why dont we have 711 ids here?"
    },
    {
      "cell_type": "code",
      "execution_count": 69,
      "metadata": {
        "autoscroll": "auto"
      },
      "outputs": [],
      "source": "%sh\nmv *.png HuBMAP_CHD_plots"
    },
    {
      "cell_type": "code",
      "execution_count": 70,
      "metadata": {
        "autoscroll": "auto"
      },
      "outputs": [],
      "source": "%pyspark\n\u0027\u0027\u0027from sklearn import datasets\niris \u003d datasets.load_iris(as_frame\u003dTrue)\nplt.figure(figsize\u003d(3,3))\nfig, axes \u003d joypy.joyplot(iris[\u0027data\u0027]) z.show(plt)\niris[\u0027data\u0027][\u0027name\u0027] \u003d iris[\u0027target\u0027]\nfig, axes \u003d joypy.joyplot(iris[\u0027data\u0027],by\u003d\u0027name\u0027) z.show(plt)\u0027\u0027\u0027"
    },
    {
      "cell_type": "code",
      "execution_count": 71,
      "metadata": {
        "autoscroll": "auto"
      },
      "outputs": [],
      "source": "%pyspark\ncadd_sums_heart_10 \u003d cadd_sums_heart\ncadd_sums_kidney_10 \u003d cadd_sums_kidney"
    },
    {
      "cell_type": "code",
      "execution_count": 72,
      "metadata": {
        "autoscroll": "auto"
      },
      "outputs": [],
      "source": "%pyspark\n\ncadd_sums_heart_20 \u003d cadd_sums_heart\ncadd_sums_kidney_20 \u003d cadd_sums_kidney"
    },
    {
      "cell_type": "code",
      "execution_count": 73,
      "metadata": {
        "autoscroll": "auto"
      },
      "outputs": [],
      "source": "%pyspark\nten_heart \u003d pd.DataFrame(cadd_sums_heart_10)\n#ten_heart[\u0027tissue\u0027] \u003d \u0027heart\u0027\nten_heart[\u0027Percentage\u0027] \u003d \u002710%\u0027\n\nten_kidney \u003d  pd.DataFrame(cadd_sums_kidney_10)\n#ten_kidney[\u0027tissue\u0027] \u003d \u0027kidney\u0027\nten_kidney[\u0027Percentage\u0027] \u003d \u002710%\u0027\n\n#ten \u003d pd.concat([ten_heart,ten_kidney])\nheart_col \u003d pd.concat([ten_heart,twenty_heart])\n#heart_col[\u0027tissue\u0027] \u003d \u0027heart\u0027\nheart_col.columns \u003d [\u0027heart\u0027,\u0027Percentage\u0027]\n#ten[\u0027percent\u0027] \u003d \u002710%\u0027\nheart_col \u003d heart_col.drop(\u0027Percentage\u0027,axis\u003d1).reset_index(drop\u003dTrue)\nheart_col"
    },
    {
      "cell_type": "code",
      "execution_count": 74,
      "metadata": {
        "autoscroll": "auto"
      },
      "outputs": [],
      "source": "%pyspark\ncadd_sums_heart_20 \u003d cadd_sums_heart\ncadd_sums_kidney_20 \u003d cadd_sums_kidney\n\ntwenty_heart \u003d pd.DataFrame(cadd_sums_heart_20)\ntwenty_kidney \u003d pd.DataFrame(cadd_sums_kidney_20)\n\ntwenty_heart[\u0027Percentage\u0027] \u003d \u002720%\u0027\ntwenty_kidney[\u0027Percentage\u0027] \u003d \u002720%\u0027\n\nkidney_col \u003d pd.concat([ten_kidney,twenty_kidney])\nkidney_col.columns \u003d [\u0027kidney\u0027,\u0027Percentage\u0027]\n\nkidney_col \u003d kidney_col.reset_index(drop\u003dTrue)\nkidney_col \u003d kidney_col.iloc[:591,:]\nkidney_col"
    },
    {
      "cell_type": "code",
      "execution_count": 75,
      "metadata": {
        "autoscroll": "auto"
      },
      "outputs": [],
      "source": "%pyspark\nboth \u003d pd.concat([heart_col,kidney_col],axis\u003d1)"
    },
    {
      "cell_type": "raw",
      "metadata": {
        "format": "text/plain"
      },
      "source": "%pyspark\n"
    },
    {
      "cell_type": "raw",
      "metadata": {
        "format": "text/plain"
      },
      "source": "%pyspark\n"
    },
    {
      "cell_type": "raw",
      "metadata": {
        "format": "text/plain"
      },
      "source": "%pyspark\n"
    },
    {
      "cell_type": "raw",
      "metadata": {
        "format": "text/plain"
      },
      "source": "%pyspark\n"
    }
  ]
}