{
 "cells": [
  {
   "cell_type": "code",
   "execution_count": 1,
   "id": "95e08200-e8c1-49a4-ad11-3a0fdd742dc8",
   "metadata": {},
   "outputs": [
    {
     "name": "stderr",
     "output_type": "stream",
     "text": [
      "22/07/25 19:40:56 WARN NativeCodeLoader: Unable to load native-hadoop library for your platform... using builtin-java classes where applicable\n",
      "Using Spark's default log4j profile: org/apache/spark/log4j-defaults.properties\n",
      "Setting default log level to \"WARN\".\n",
      "To adjust logging level use sc.setLogLevel(newLevel). For SparkR, use setLogLevel(newLevel).\n"
     ]
    }
   ],
   "source": [
    "import pandas as pd\n",
    "import glob\n",
    "import numpy as np\n",
    "import scipy.sparse as ss\n",
    "from collections import Counter\n",
    "import time\n",
    "#import pyranges as pr\n",
    "import findspark\n",
    "findspark.init()\n",
    "import pyspark\n",
    "from pyspark.sql import SparkSession\n",
    "from pyspark.sql.functions import col,collect_list, concat, lit, when, monotonically_increasing_id, concat_ws, broadcast\n",
    "import pyspark.sql.functions as F\n",
    "# load in all files at the top, assert all files are correct length\n",
    "# make their name the same as the input arg, minuus 'input'\n",
    "spark = SparkSession.builder.master(\"local\").appName(\"parquet\").getOrCreate()"
   ]
  },
  {
   "cell_type": "code",
   "execution_count": 2,
   "id": "285c9b3c-5781-43fd-8357-3a1c73bab9ad",
   "metadata": {
    "tags": []
   },
   "outputs": [],
   "source": [
    "kutd_cadd_scored_files = glob.glob('/sbgenomics/project-files/KUTD_GF_*')\n",
    "\n",
    "assert len(kutd_cadd_scored_files) == 44"
   ]
  },
  {
   "cell_type": "code",
   "execution_count": 3,
   "id": "a4603e16-ec69-4347-92b4-c8ff7701c991",
   "metadata": {
    "collapsed": true,
    "jupyter": {
     "outputs_hidden": true
    },
    "tags": []
   },
   "outputs": [
    {
     "name": "stdout",
     "output_type": "stream",
     "text": [
      "0 KUTD_GF_0ZR9EDHK_scored_variants.parquet\n"
     ]
    },
    {
     "name": "stderr",
     "output_type": "stream",
     "text": [
      "                                                                                \r"
     ]
    },
    {
     "name": "stdout",
     "output_type": "stream",
     "text": [
      "2\n",
      "1 KUTD_GF_1K2GTEAM_scored_variants.parquet\n",
      "2\n",
      "2 KUTD_GF_3R71VD9D_scored_variants.parquet\n",
      "2\n",
      "3 KUTD_GF_451FYZ8Q_scored_variants.parquet\n",
      "2\n",
      "4 KUTD_GF_594ECSE4_scored_variants.parquet\n",
      "2\n",
      "5 KUTD_GF_65HR1A6Y_scored_variants.parquet\n",
      "2\n",
      "6 KUTD_GF_6S7MYRJ7_scored_variants.parquet\n",
      "2\n",
      "7 KUTD_GF_747J6KJ6_scored_variants.parquet\n",
      "2\n",
      "8 KUTD_GF_7D33NJE4_scored_variants.parquet\n",
      "2\n",
      "9 KUTD_GF_82BRARSA_scored_variants.parquet\n",
      "2\n",
      "10 KUTD_GF_9MAMSN75_scored_variants.parquet\n",
      "2\n",
      "11 KUTD_GF_AYSP3BP3_scored_variants.parquet\n",
      "2\n",
      "12 KUTD_GF_BB8E5PMX_scored_variants.parquet\n",
      "2\n",
      "13 KUTD_GF_DB3NYN22_scored_variants.parquet\n",
      "2\n",
      "14 KUTD_GF_DND6FMS5_scored_variants.parquet\n",
      "2\n",
      "15 KUTD_GF_E38XQY01_scored_variants.parquet\n",
      "2\n",
      "16 KUTD_GF_EF66M6D4_scored_variants.parquet\n",
      "2\n",
      "17 KUTD_GF_FPEYBPFH_scored_variants.parquet\n",
      "2\n",
      "18 KUTD_GF_FVQ9GQC9_scored_variants.parquet\n",
      "2\n",
      "19 KUTD_GF_FYZH55PM_scored_variants.parquet\n",
      "2\n",
      "20 KUTD_GF_H32KXJHW_scored_variants.parquet\n",
      "2\n",
      "21 KUTD_GF_JMAEQX7J_scored_variants.parquet\n",
      "2\n",
      "22 KUTD_GF_MV88VAZ9_scored_variants.parquet\n",
      "2\n",
      "23 KUTD_GF_N97VT03N_scored_variants.parquet\n",
      "2\n",
      "24 KUTD_GF_NSS2S4TY_scored_variants.parquet\n",
      "2\n",
      "25 KUTD_GF_Q8X2X6EN_scored_variants.parquet\n",
      "2\n",
      "26 KUTD_GF_QPJWNPPR_scored_variants.parquet\n",
      "2\n",
      "27 KUTD_GF_R16EETQM_scored_variants.parquet\n",
      "2\n",
      "28 KUTD_GF_R8EQ0B3X_scored_variants.parquet\n",
      "2\n",
      "29 KUTD_GF_RG81JEWG_scored_variants.parquet\n",
      "2\n",
      "30 KUTD_GF_RK4E2EQJ_scored_variants.parquet\n",
      "2\n",
      "31 KUTD_GF_S6018EJG_scored_variants.parquet\n",
      "2\n",
      "32 KUTD_GF_SE02A476_scored_variants.parquet\n",
      "2\n",
      "33 KUTD_GF_SE5JT64G_scored_variants.parquet\n",
      "2\n",
      "34 KUTD_GF_TPGEWKB4_scored_variants.parquet\n",
      "2\n",
      "35 KUTD_GF_VG56KJYS_scored_variants.parquet\n",
      "2\n",
      "36 KUTD_GF_VHZ3JW47_scored_variants.parquet\n",
      "2\n",
      "37 KUTD_GF_W3FHYPHG_scored_variants.parquet\n",
      "2\n",
      "38 KUTD_GF_WAD9HGPX_scored_variants.parquet\n",
      "2\n",
      "39 KUTD_GF_WG18EQ43_scored_variants.parquet\n",
      "2\n",
      "40 KUTD_GF_XFBNR3KR_scored_variants.parquet\n",
      "2\n",
      "41 KUTD_GF_XWZKKXTH_scored_variants.parquet\n",
      "2\n",
      "42 KUTD_GF_Y2EWXRQZ_scored_variants.parquet\n",
      "2\n",
      "43 KUTD_GF_Y6YWZYYK_scored_variants.parquet\n",
      "2\n",
      "CPU times: user 145 ms, sys: 35.4 ms, total: 181 ms\n",
      "Wall time: 41.8 s\n"
     ]
    }
   ],
   "source": [
    "%%time\n",
    "li = []\n",
    "\n",
    "# may need to use dask here, the data from each person is going to be bigger bc of +1 to start position\n",
    "for n,filename in enumerate(kutd_cadd_scored_files):\n",
    "    print(n,filename.split('/')[-1])\n",
    "    #df = pd.read_parquet(filename)\n",
    "    df = spark.read.parquet(filename)\n",
    "    print(df.rdd.getNumPartitions())\n",
    "    #li.append(df)\n",
    "    \n",
    "    if n == 0:\n",
    "        frame = df\n",
    "    else:\n",
    "        frame = frame.union(df)\n",
    "\n",
    "#frame = pd.concat(li, axis=0, ignore_index=True)\n",
    "\n",
    "# join this frame w/ the main cadd snp file chrom by chrom -- possibly parallelize \n",
    "# then combine with the other variants using an app. this way we only need to load the large cadd snp file one time.\n",
    "\n",
    "# get gene names from VWB consequences table\n",
    "\n",
    "# then search for all of these variants (the unique set) in each gvcf/parquet file,\n",
    "# we need to know if its a 0,1,2 or -9. how to do this quickly?"
   ]
  },
  {
   "cell_type": "code",
   "execution_count": 5,
   "id": "98dae071-54f7-4eda-a92b-019b17514f8d",
   "metadata": {},
   "outputs": [
    {
     "name": "stderr",
     "output_type": "stream",
     "text": [
      "                                                                                \r"
     ]
    },
    {
     "data": {
      "text/plain": [
       "6480517"
      ]
     },
     "execution_count": 5,
     "metadata": {},
     "output_type": "execute_result"
    }
   ],
   "source": [
    "frame.count()"
   ]
  },
  {
   "cell_type": "code",
   "execution_count": 4,
   "id": "05d3d22e-d0de-446e-9650-3b1b3cc55943",
   "metadata": {},
   "outputs": [],
   "source": [
    "#frame['unique_location'] = frame['chromosome'] +':'+ frame['start'].astype(str) +':'+ frame['end'].astype(str)\n",
    "frame = frame.withColumn('unique_location',concat(col(\"chromosome\"),\n",
    "                                lit(\":\"),col(\"start\"),lit(\":\"),col(\"end\")))"
   ]
  },
  {
   "cell_type": "code",
   "execution_count": 5,
   "id": "b5533049-5fa8-4cd2-8ba4-7fa9fd13579e",
   "metadata": {},
   "outputs": [
    {
     "name": "stderr",
     "output_type": "stream",
     "text": [
      "                                                                                \r"
     ]
    },
    {
     "data": {
      "text/plain": [
       "472005"
      ]
     },
     "execution_count": 5,
     "metadata": {},
     "output_type": "execute_result"
    }
   ],
   "source": [
    "frame_dedup = frame.drop_duplicates(['unique_location'])\n",
    "frame_dedup.count()"
   ]
  },
  {
   "cell_type": "code",
   "execution_count": 6,
   "id": "7c304206-3f25-4b76-ab99-cf757fd3fee9",
   "metadata": {},
   "outputs": [
    {
     "name": "stderr",
     "output_type": "stream",
     "text": [
      "                                                                                \r"
     ]
    }
   ],
   "source": [
    "frame_dedup.select('chromosome','start','end','unique_variant_id','eqtl_boolean').repartitionByRange(30, \"chromosome\", \"start\").write\\\n",
    "      .mode('overwrite')\\\n",
    "      .partitionBy(\"chromosome\")\\\n",
    "      .parquet(\"KUTD_all_unique_variants.parquet\")"
   ]
  },
  {
   "cell_type": "code",
   "execution_count": 7,
   "id": "8bf904cc-4500-4037-b024-67c68c222521",
   "metadata": {},
   "outputs": [],
   "source": [
    "!mv KUTD_all_unique_variants.parquet/ /sbgenomics/output-files/"
   ]
  },
  {
   "cell_type": "code",
   "execution_count": 13,
   "id": "1b76e09e-940a-498b-afe2-86b42e79868c",
   "metadata": {},
   "outputs": [
    {
     "name": "stderr",
     "output_type": "stream",
     "text": [
      "                                                                                \r"
     ]
    },
    {
     "data": {
      "text/plain": [
       "101189"
      ]
     },
     "execution_count": 13,
     "metadata": {},
     "output_type": "execute_result"
    }
   ],
   "source": [
    "frame_dedup.where(col('eqtl_boolean') == 0).count()"
   ]
  },
  {
   "cell_type": "code",
   "execution_count": null,
   "id": "5ca9c2d9-6bf3-4775-966b-b15b3372a153",
   "metadata": {},
   "outputs": [],
   "source": []
  },
  {
   "cell_type": "code",
   "execution_count": null,
   "id": "95669a77-4fd7-43c7-8eae-ff2e2be73721",
   "metadata": {},
   "outputs": [],
   "source": []
  },
  {
   "cell_type": "markdown",
   "id": "cd565f4a-d7cb-49c7-8a46-6a2082fbe00a",
   "metadata": {},
   "source": [
    "## Concatenate CHD files "
   ]
  },
  {
   "cell_type": "code",
   "execution_count": 2,
   "id": "a579d3f4-ea72-463e-ad9f-c7e72a7bee9f",
   "metadata": {},
   "outputs": [],
   "source": [
    "chd_cadd_scored_files = glob.glob('/sbgenomics/project-files/CHD_BS_*')\n",
    "assert len(chd_cadd_scored_files) == 711"
   ]
  },
  {
   "cell_type": "code",
   "execution_count": 3,
   "id": "15c24135-8be1-4009-9a81-8ebd1b24e79a",
   "metadata": {},
   "outputs": [
    {
     "data": {
      "text/plain": [
       "['/sbgenomics/project-files/CHD_BS_0302Y3N5_scored_variants.parquet',\n",
       " '/sbgenomics/project-files/CHD_BS_03BQSV43_scored_variants.parquet',\n",
       " '/sbgenomics/project-files/CHD_BS_04R6HY6V_scored_variants.parquet']"
      ]
     },
     "execution_count": 3,
     "metadata": {},
     "output_type": "execute_result"
    }
   ],
   "source": [
    "chd_cadd_scored_files[:3]"
   ]
  },
  {
   "cell_type": "code",
   "execution_count": 4,
   "id": "d4a0fb63-4e4f-4766-bb80-26c42c4646d8",
   "metadata": {},
   "outputs": [
    {
     "data": {
      "text/plain": [
       "['/sbgenomics/project-files/CHD_BS_ZXMZDGG6_scored_variants.parquet',\n",
       " '/sbgenomics/project-files/CHD_BS_ZYG3D3D7_scored_variants.parquet',\n",
       " '/sbgenomics/project-files/CHD_BS_ZZNSNDVQ_scored_variants.parquet']"
      ]
     },
     "execution_count": 4,
     "metadata": {},
     "output_type": "execute_result"
    }
   ],
   "source": [
    "chd_cadd_scored_files[-3:]"
   ]
  },
  {
   "cell_type": "code",
   "execution_count": 8,
   "id": "fd56acf1-3cee-442a-8ca8-1f1d047236e3",
   "metadata": {
    "collapsed": true,
    "jupyter": {
     "outputs_hidden": true
    },
    "tags": []
   },
   "outputs": [
    {
     "name": "stdout",
     "output_type": "stream",
     "text": [
      "1 CHD_BS_VR15YKJP_scored_variants.parquet\n",
      "11 CHD_BS_VZ9W1E8S_scored_variants.parquet\n",
      "21 CHD_BS_WDFYJ87C_scored_variants.parquet\n",
      "31 CHD_BS_X1J6GHCV_scored_variants.parquet\n",
      "41 CHD_BS_XDM3YN9Y_scored_variants.parquet\n",
      "51 CHD_BS_XZ4834BN_scored_variants.parquet\n",
      "61 CHD_BS_Y6N9XXAC_scored_variants.parquet\n",
      "71 CHD_BS_YSY0Y7VA_scored_variants.parquet\n",
      "81 CHD_BS_Z4PR01TV_scored_variants.parquet\n",
      "91 CHD_BS_ZF22167H_scored_variants.parquet\n",
      "101 CHD_BS_ZRK11YWW_scored_variants.parquet\n"
     ]
    },
    {
     "name": "stderr",
     "output_type": "stream",
     "text": [
      "[Stage 262:=================================================>     (27 + 1) / 30]\r"
     ]
    },
    {
     "name": "stdout",
     "output_type": "stream",
     "text": [
      "CPU times: user 862 ms, sys: 264 ms, total: 1.13 s\n",
      "Wall time: 23min 57s\n"
     ]
    },
    {
     "name": "stderr",
     "output_type": "stream",
     "text": [
      "                                                                                \r"
     ]
    }
   ],
   "source": [
    "%%time\n",
    "li = []\n",
    "\n",
    "# may need to use dask here, the data from each person is going to be bigger bc of +1 to start position\n",
    "for n,filename in enumerate(chd_cadd_scored_files[600:]):\n",
    "    df = spark.read.parquet(filename)\n",
    "    df = df.withColumn('unique_location',concat(col(\"chromosome\"),lit(\":\"),col(\"start\"),lit(\":\"),col(\"end\")))\n",
    "    unique_vars = df.select('chromosome','start','end','unique_variant_id','unique_location','eqtl_boolean')   \n",
    "    \n",
    "    if n == 0: frame = unique_vars\n",
    "    else: frame = frame.union(unique_vars)\n",
    "        \n",
    "    if (n -1)% 10 == 0:\n",
    "        print(n,filename.split('/')[-1])\n",
    "        #print('DROPPING DUPLICATES')\n",
    "        frame = frame.drop_duplicates(['unique_location'])\n",
    "\n",
    "frame.drop_duplicates(['unique_location']).repartitionByRange(30, \"chromosome\", \"start\").write\\\n",
    "      .mode('overwrite')\\\n",
    "      .partitionBy(\"chromosome\")\\\n",
    "      .parquet(\"sixhundred_711_chd_unique_set.parquet\")"
   ]
  },
  {
   "cell_type": "code",
   "execution_count": 7,
   "id": "e0fb87e9-a04f-47a2-9cfd-bf5a9c1ced76",
   "metadata": {},
   "outputs": [
    {
     "data": {
      "text/plain": [
       "111"
      ]
     },
     "execution_count": 7,
     "metadata": {},
     "output_type": "execute_result"
    }
   ],
   "source": [
    "len(chd_cadd_scored_files[600:])"
   ]
  },
  {
   "cell_type": "code",
   "execution_count": 5,
   "id": "32c2600a-21c6-48df-81c2-1b189e6abe39",
   "metadata": {
    "tags": []
   },
   "outputs": [],
   "source": [
    "!rm -r fivehundred_600_chd_unique_set.parquet/"
   ]
  },
  {
   "cell_type": "code",
   "execution_count": 10,
   "id": "f992e72a-5bc2-4d0d-950b-e9195100bc59",
   "metadata": {},
   "outputs": [],
   "source": [
    "a = spark.read.parquet('onehundred_200_chd_unique_set.parquet/')\n",
    "b = spark.read.parquet('twohundred_300_chd_unique_set.parquet/')\n",
    "c = spark.read.parquet('threehundred_400_chd_unique_set.parquet/')\n",
    "d = spark.read.parquet('fourhundred_500_chd_unique_set.parquet/')\n",
    "e = spark.read.parquet('fivehundred_600_chd_unique_set.parquet/')\n",
    "f = spark.read.parquet('sixhundred_711_chd_unique_set.parquet/')"
   ]
  },
  {
   "cell_type": "code",
   "execution_count": 13,
   "id": "1cece7ba-92cf-4a1c-b24b-b23ee6267788",
   "metadata": {
    "collapsed": true,
    "jupyter": {
     "outputs_hidden": true
    },
    "tags": []
   },
   "outputs": [
    {
     "ename": "AttributeError",
     "evalue": "'list' object has no attribute '_jdf'",
     "output_type": "error",
     "traceback": [
      "\u001b[0;31m---------------------------------------------------------------------------\u001b[0m",
      "\u001b[0;31mAttributeError\u001b[0m                            Traceback (most recent call last)",
      "\u001b[0;32m/tmp/ipykernel_6249/2939251674.py\u001b[0m in \u001b[0;36m<module>\u001b[0;34m\u001b[0m\n\u001b[0;32m----> 1\u001b[0;31m \u001b[0mframe\u001b[0m \u001b[0;34m=\u001b[0m \u001b[0ma\u001b[0m\u001b[0;34m.\u001b[0m\u001b[0munion\u001b[0m\u001b[0;34m(\u001b[0m\u001b[0;34m[\u001b[0m\u001b[0mb\u001b[0m\u001b[0;34m,\u001b[0m\u001b[0mc\u001b[0m\u001b[0;34m,\u001b[0m\u001b[0md\u001b[0m\u001b[0;34m,\u001b[0m\u001b[0me\u001b[0m\u001b[0;34m,\u001b[0m\u001b[0mf\u001b[0m\u001b[0;34m]\u001b[0m\u001b[0;34m)\u001b[0m\u001b[0;34m\u001b[0m\u001b[0;34m\u001b[0m\u001b[0m\n\u001b[0m",
      "\u001b[0;32m/usr/local/spark/python/pyspark/sql/dataframe.py\u001b[0m in \u001b[0;36munion\u001b[0;34m(self, other)\u001b[0m\n\u001b[1;32m   1826\u001b[0m         \u001b[0mAlso\u001b[0m \u001b[0;32mas\u001b[0m \u001b[0mstandard\u001b[0m \u001b[0;32min\u001b[0m \u001b[0mSQL\u001b[0m\u001b[0;34m,\u001b[0m \u001b[0mthis\u001b[0m \u001b[0mfunction\u001b[0m \u001b[0mresolves\u001b[0m \u001b[0mcolumns\u001b[0m \u001b[0mby\u001b[0m \u001b[0mposition\u001b[0m \u001b[0;34m(\u001b[0m\u001b[0;32mnot\u001b[0m \u001b[0mby\u001b[0m \u001b[0mname\u001b[0m\u001b[0;34m)\u001b[0m\u001b[0;34m.\u001b[0m\u001b[0;34m\u001b[0m\u001b[0;34m\u001b[0m\u001b[0m\n\u001b[1;32m   1827\u001b[0m         \"\"\"\n\u001b[0;32m-> 1828\u001b[0;31m         \u001b[0;32mreturn\u001b[0m \u001b[0mDataFrame\u001b[0m\u001b[0;34m(\u001b[0m\u001b[0mself\u001b[0m\u001b[0;34m.\u001b[0m\u001b[0m_jdf\u001b[0m\u001b[0;34m.\u001b[0m\u001b[0munion\u001b[0m\u001b[0;34m(\u001b[0m\u001b[0mother\u001b[0m\u001b[0;34m.\u001b[0m\u001b[0m_jdf\u001b[0m\u001b[0;34m)\u001b[0m\u001b[0;34m,\u001b[0m \u001b[0mself\u001b[0m\u001b[0;34m.\u001b[0m\u001b[0msql_ctx\u001b[0m\u001b[0;34m)\u001b[0m\u001b[0;34m\u001b[0m\u001b[0;34m\u001b[0m\u001b[0m\n\u001b[0m\u001b[1;32m   1829\u001b[0m \u001b[0;34m\u001b[0m\u001b[0m\n\u001b[1;32m   1830\u001b[0m     \u001b[0;34m@\u001b[0m\u001b[0msince\u001b[0m\u001b[0;34m(\u001b[0m\u001b[0;36m1.3\u001b[0m\u001b[0;34m)\u001b[0m\u001b[0;34m\u001b[0m\u001b[0;34m\u001b[0m\u001b[0m\n",
      "\u001b[0;31mAttributeError\u001b[0m: 'list' object has no attribute '_jdf'"
     ]
    }
   ],
   "source": [
    "frame = a.union()"
   ]
  },
  {
   "cell_type": "code",
   "execution_count": 14,
   "id": "01839134-d90f-41f6-8084-e1996efe1b62",
   "metadata": {},
   "outputs": [],
   "source": [
    "from functools import reduce\n",
    "from pyspark.sql import DataFrame\n",
    "\n",
    "dfs = [a,b,c,d,e,f]\n",
    "frame = reduce(DataFrame.unionAll, dfs)"
   ]
  },
  {
   "cell_type": "code",
   "execution_count": 16,
   "id": "6ea31fbc-70c1-4f48-8f33-4432abfa213f",
   "metadata": {},
   "outputs": [
    {
     "name": "stderr",
     "output_type": "stream",
     "text": [
      "                                                                                \r"
     ]
    },
    {
     "data": {
      "text/plain": [
       "1177569"
      ]
     },
     "execution_count": 16,
     "metadata": {},
     "output_type": "execute_result"
    }
   ],
   "source": [
    "frame_dedup = frame.drop_duplicates(['unique_location'])\n",
    "frame_dedup.count()"
   ]
  },
  {
   "cell_type": "code",
   "execution_count": 17,
   "id": "e7da0f49-e0e8-4145-9b6f-10728ae5ae6c",
   "metadata": {},
   "outputs": [
    {
     "name": "stderr",
     "output_type": "stream",
     "text": [
      "                                                                                \r"
     ]
    }
   ],
   "source": [
    "frame_dedup.drop_duplicates(['unique_location']).repartitionByRange(30, \"chromosome\", \"start\").write\\\n",
    "      .mode('overwrite')\\\n",
    "      .partitionBy(\"chromosome\")\\\n",
    "      .parquet(\"CHD_all_unique_variants.parquet\")"
   ]
  },
  {
   "cell_type": "code",
   "execution_count": 18,
   "id": "6929eac5-6a0b-4187-8586-2d248b14cc2f",
   "metadata": {},
   "outputs": [
    {
     "name": "stderr",
     "output_type": "stream",
     "text": [
      "[Stage 280:==================================================>    (11 + 1) / 12]\r"
     ]
    },
    {
     "name": "stdout",
     "output_type": "stream",
     "text": [
      "+---------+---------+-------------------+--------------------+------------+----------+\n",
      "|    start|      end|  unique_variant_id|     unique_location|eqtl_boolean|chromosome|\n",
      "+---------+---------+-------------------+--------------------+------------+----------+\n",
      "|100243666|100243669|10:100243666:CCTT:C|10:100243666:1002...|           1|        10|\n",
      "|100256272|100256272|   10:100256272:C:A|10:100256272:1002...|           0|        10|\n",
      "|100498711|100498711|   10:100498711:T:G|10:100498711:1004...|           0|        10|\n",
      "|100741846|100741846|   10:100741846:A:C|10:100741846:1007...|           0|        10|\n",
      "|100791306|100791306|   10:100791306:C:G|10:100791306:1007...|           1|        10|\n",
      "+---------+---------+-------------------+--------------------+------------+----------+\n",
      "only showing top 5 rows\n",
      "\n"
     ]
    },
    {
     "name": "stderr",
     "output_type": "stream",
     "text": [
      "                                                                                \r"
     ]
    }
   ],
   "source": [
    "frame_dedup.show(5)"
   ]
  },
  {
   "cell_type": "code",
   "execution_count": 19,
   "id": "c68502af-a3b7-4ddf-89b9-4eb883c29d0a",
   "metadata": {},
   "outputs": [
    {
     "name": "stderr",
     "output_type": "stream",
     "text": [
      "                                                                                \r"
     ]
    },
    {
     "data": {
      "text/plain": [
       "1150778"
      ]
     },
     "execution_count": 19,
     "metadata": {},
     "output_type": "execute_result"
    }
   ],
   "source": [
    "frame_dedup.where(col('start')==col('end')).count()"
   ]
  },
  {
   "cell_type": "code",
   "execution_count": 21,
   "id": "11e7143f-e265-4a49-968c-a6c70250c626",
   "metadata": {},
   "outputs": [],
   "source": [
    "!mv CHD_all_unique_variants.parquet/ /sbgenomics/output-files/"
   ]
  },
  {
   "cell_type": "code",
   "execution_count": null,
   "id": "fb3274d5-fd34-4e43-9ba8-fb0ee17299c7",
   "metadata": {},
   "outputs": [],
   "source": []
  }
 ],
 "metadata": {
  "kernelspec": {
   "display_name": "Python 3 (ipykernel)",
   "language": "python",
   "name": "python3"
  },
  "language_info": {
   "codemirror_mode": {
    "name": "ipython",
    "version": 3
   },
   "file_extension": ".py",
   "mimetype": "text/x-python",
   "name": "python",
   "nbconvert_exporter": "python",
   "pygments_lexer": "ipython3",
   "version": "3.9.7"
  }
 },
 "nbformat": 4,
 "nbformat_minor": 5
}
