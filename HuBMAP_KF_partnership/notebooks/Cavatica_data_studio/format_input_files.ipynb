{
 "cells": [
  {
   "cell_type": "code",
   "execution_count": 1,
   "id": "5109daad-f038-4aaf-9845-b8090240f326",
   "metadata": {
    "tags": []
   },
   "outputs": [
    {
     "name": "stderr",
     "output_type": "stream",
     "text": [
      "22/09/09 18:29:44 WARN NativeCodeLoader: Unable to load native-hadoop library for your platform... using builtin-java classes where applicable\n",
      "Using Spark's default log4j profile: org/apache/spark/log4j-defaults.properties\n",
      "Setting default log level to \"WARN\".\n",
      "To adjust logging level use sc.setLogLevel(newLevel). For SparkR, use setLogLevel(newLevel).\n"
     ]
    }
   ],
   "source": [
    "import pandas as pd\n",
    "import glob\n",
    "import numpy as np\n",
    "import scipy.sparse as ss\n",
    "from collections import Counter\n",
    "import time\n",
    "#import pyranges as pr\n",
    "import findspark\n",
    "findspark.init()\n",
    "import pyspark\n",
    "from pyspark.sql import SparkSession\n",
    "from pyspark.sql.functions import col,collect_list, concat, lit, when, monotonically_increasing_id, concat_ws, broadcast\n",
    "import pyspark.sql.functions as F\n",
    "# load in all files at the top, assert all files are correct length\n",
    "# make their name the same as the input arg, minuus 'input'\n",
    "spark = SparkSession.builder.master(\"local[*]\").appName(\"parquet\").getOrCreate()"
   ]
  },
  {
   "cell_type": "code",
   "execution_count": 2,
   "id": "16511e86-c55e-4f63-b01d-d646d9cc9f72",
   "metadata": {},
   "outputs": [
    {
     "name": "stderr",
     "output_type": "stream",
     "text": [
      "                                                                                \r"
     ]
    },
    {
     "name": "stdout",
     "output_type": "stream",
     "text": [
      "87927481\n"
     ]
    },
    {
     "name": "stderr",
     "output_type": "stream",
     "text": [
      "[Stage 3:>                                                          (0 + 1) / 1]\r"
     ]
    },
    {
     "name": "stdout",
     "output_type": "stream",
     "text": [
      "+---------+---------+---------+----------+-----------------+----------+\n",
      "|    start|reference|alternate|cadd_score|unique_variant_id|chromosome|\n",
      "+---------+---------+---------+----------+-----------------+----------+\n",
      "|218201127|        A|        C|      20.0|  1:218201127:A:C|         1|\n",
      "|200949874|        G|        A|      20.3|  1:200949874:G:A|         1|\n",
      "| 49153440|        A|        C|      20.0|   1:49153440:A:C|         1|\n",
      "+---------+---------+---------+----------+-----------------+----------+\n",
      "only showing top 3 rows\n",
      "\n"
     ]
    },
    {
     "name": "stderr",
     "output_type": "stream",
     "text": [
      "                                                                                \r"
     ]
    }
   ],
   "source": [
    "\n",
    "\n",
    "c = spark.read.parquet('/sbgenomics/project-files/cadd_gt20_snps_2.parquet')\n",
    "print(c.count())\n",
    "c.show(3)"
   ]
  },
  {
   "cell_type": "code",
   "execution_count": 3,
   "id": "352e1de5-c0a9-4c58-a440-21ee08e1a01b",
   "metadata": {},
   "outputs": [
    {
     "name": "stderr",
     "output_type": "stream",
     "text": [
      "                                                                                \r"
     ]
    },
    {
     "name": "stdout",
     "output_type": "stream",
     "text": [
      "175854962\n",
      "+---------+---------+---------+----------+-----------------+----------+\n",
      "|    start|reference|alternate|cadd_score|unique_variant_id|chromosome|\n",
      "+---------+---------+---------+----------+-----------------+----------+\n",
      "|   151503|        T|        G|      23.2|     5:151503:T:G|         5|\n",
      "|139833786|        C|        G|      22.6|  5:139833786:C:G|         5|\n",
      "|   151507|        T|        G|      23.2|     5:151507:T:G|         5|\n",
      "+---------+---------+---------+----------+-----------------+----------+\n",
      "only showing top 3 rows\n",
      "\n"
     ]
    },
    {
     "name": "stderr",
     "output_type": "stream",
     "text": [
      "                                                                                \r"
     ]
    }
   ],
   "source": [
    "d = spark.read.parquet('/sbgenomics/project-files/cadd_gt20_snps.parquet')\n",
    "print(d.count())\n",
    "d.show(3)"
   ]
  },
  {
   "cell_type": "code",
   "execution_count": null,
   "id": "29075120-3e62-456b-abb8-1368680085af",
   "metadata": {},
   "outputs": [],
   "source": [
    "!rm -r /sbgenomics/project-files/cadd_gt20_snps.parquet; -y"
   ]
  },
  {
   "cell_type": "code",
   "execution_count": 4,
   "id": "d437067c-a76c-4937-a6ff-553ae7bea634",
   "metadata": {},
   "outputs": [
    {
     "name": "stderr",
     "output_type": "stream",
     "text": [
      "                                                                                \r"
     ]
    },
    {
     "data": {
      "text/plain": [
       "87927481"
      ]
     },
     "execution_count": 4,
     "metadata": {},
     "output_type": "execute_result"
    }
   ],
   "source": [
    "e = d.drop_duplicates()\n",
    "e.count()"
   ]
  },
  {
   "cell_type": "markdown",
   "id": "6b159f60-93e6-48c6-97b9-4e9b096f639b",
   "metadata": {},
   "source": [
    "## make sure im not finding cadd scores for high impact or eqtl variants twice. may need to filte them out of the patients gvcf aafter I find them."
   ]
  },
  {
   "cell_type": "markdown",
   "id": "96e7c647-019e-4d86-b88d-03161deebcf6",
   "metadata": {},
   "source": [
    "### need to fiind frequency matrix prior to filtering by cadd scores. how can I filter out cadd scores from one person and not the next? the variant will have the same cadd score no matter the person\n"
   ]
  },
  {
   "cell_type": "markdown",
   "id": "dd2c6820-56a3-4b80-a706-d9d3f4356f09",
   "metadata": {},
   "source": [
    "### save the variants you find in the eqtl/highImpact df for each person and then concat them all and get cadd scores all at once."
   ]
  },
  {
   "cell_type": "code",
   "execution_count": 2,
   "id": "b2a6f44f-84f6-47c4-bc10-c1bac87bf6b9",
   "metadata": {
    "tags": []
   },
   "outputs": [
    {
     "name": "stderr",
     "output_type": "stream",
     "text": [
      "22/08/08 19:36:53 WARN DataSource: All paths were ignored:\n",
      "  file:/sbgenomics/project-files/_4_jeremy_results_aug7.parquet\n",
      "                                                                                \r"
     ]
    },
    {
     "name": "stdout",
     "output_type": "stream",
     "text": [
      "1178520\n",
      "+---------+---------+---------+---------+--------------------+--------------------+------+---------+---------+----------+---------+---------------------+----------------+----------+\n",
      "|    start|      end|reference|alternate|   unique_variant_id|     unique_location|bucket|var_chrom|var_start|var_bucket|  var_end|var_unique_variant_id|AdditiveGenotype|chromosome|\n",
      "+---------+---------+---------+---------+--------------------+--------------------+------+---------+---------+----------+---------+---------------------+----------------+----------+\n",
      "|211126718|211126718|        C|<NON_REF>|1:211126718:C:<NO...|1:211126718:21112...|   207|        1|211126718|       207|211126718|      1:211126718:C:A|               0|         1|\n",
      "|211128238|211128239|        G|<NON_REF>|1:211128238:G:<NO...|1:211128238:21112...|   207|        1|211128238|       207|211128238|      1:211128238:G:T|               0|         1|\n",
      "|211129443|211129661|        G|<NON_REF>|1:211129443:G:<NO...|1:211129443:21112...|   207|        1|211129564|       207|211129564|      1:211129564:A:T|               0|         1|\n",
      "+---------+---------+---------+---------+--------------------+--------------------+------+---------+---------+----------+---------+---------------------+----------------+----------+\n",
      "only showing top 3 rows\n",
      "\n"
     ]
    },
    {
     "name": "stderr",
     "output_type": "stream",
     "text": [
      "                                                                                \r"
     ]
    },
    {
     "data": {
      "text/plain": [
       "847058"
      ]
     },
     "execution_count": 2,
     "metadata": {},
     "output_type": "execute_result"
    }
   ],
   "source": [
    "c = spark.read.parquet('/sbgenomics/project-files/_4_jeremy_results_aug7.parquet')\n",
    "print(c.count())\n",
    "c.show(3)\n",
    "\n",
    "1177569\n",
    "1177569\n",
    "# c.drop('genotypes','splitFromMultiAllelic','qual','INFO_DP','var_unique_variant_id')\n",
    "c.drop_duplicates(['unique_variant_id']).count()"
   ]
  },
  {
   "cell_type": "code",
   "execution_count": 36,
   "id": "beb0404f-5e2a-4d8a-a5de-17a9376f43b2",
   "metadata": {
    "collapsed": true,
    "jupyter": {
     "outputs_hidden": true
    },
    "tags": []
   },
   "outputs": [
    {
     "name": "stderr",
     "output_type": "stream",
     "text": [
      "[Stage 95:=============================>                            (4 + 4) / 8]\r"
     ]
    },
    {
     "name": "stdout",
     "output_type": "stream",
     "text": [
      "+--------+--------+---------+---------+--------------------+--------------------+------+---------+---------+----------+--------+---------------------+----------------+----------+\n",
      "|   start|     end|reference|alternate|   unique_variant_id|     unique_location|bucket|var_chrom|var_start|var_bucket| var_end|var_unique_variant_id|AdditiveGenotype|chromosome|\n",
      "+--------+--------+---------+---------+--------------------+--------------------+------+---------+---------+----------+--------+---------------------+----------------+----------+\n",
      "|33503509|33503509|        A|<NON_REF>|15:33503509:A:<NO...|15:33503509:33503509|    32|       15| 33503509|        32|33503509|      15:33503509:A:G|              -9|        15|\n",
      "|33449977|33449977|        C|<NON_REF>|15:33449977:C:<NO...|15:33449977:33449977|    32|       15| 33449977|        32|33449977|      15:33449977:C:T|              -9|        15|\n",
      "|32675638|32675638|        G|<NON_REF>|15:32675638:G:<NO...|15:32675638:32675638|    32|       15| 32675638|        32|32675638|      15:32675638:G:A|              -9|        15|\n",
      "|33486923|33486923|        G|<NON_REF>|15:33486923:G:<NO...|15:33486923:33486923|    32|       15| 33486923|        32|33486923|      15:33486923:G:A|              -9|        15|\n",
      "|32680738|32680738|        T|<NON_REF>|15:32680738:T:<NO...|15:32680738:32680738|    32|       15| 32680738|        32|32680738|      15:32680738:T:A|              -9|        15|\n",
      "|32676722|32676722|        A|<NON_REF>|15:32676722:A:<NO...|15:32676722:32676722|    32|       15| 32676722|        32|32676722|      15:32676722:A:C|              -9|        15|\n",
      "|32741824|32741824|        A|<NON_REF>|15:32741824:A:<NO...|15:32741824:32741824|    32|       15| 32741824|        32|32741824|      15:32741824:A:G|              -9|        15|\n",
      "|32962679|32962679|        G|<NON_REF>|15:32962679:G:<NO...|15:32962679:32962679|    32|       15| 32962679|        32|32962679|      15:32962679:G:A|              -9|        15|\n",
      "|32813954|32813954|        T|<NON_REF>|15:32813954:T:<NO...|15:32813954:32813954|    32|       15| 32813954|        32|32813954|      15:32813954:T:C|              -9|        15|\n",
      "|32976274|32976274|        A|<NON_REF>|15:32976274:A:<NO...|15:32976274:32976274|    32|       15| 32976274|        32|32976274|      15:32976274:A:G|              -9|        15|\n",
      "|33572704|33572704|        A|<NON_REF>|15:33572704:A:<NO...|15:33572704:33572704|    32|       15| 33572704|        32|33572704|      15:33572704:A:G|              -9|        15|\n",
      "|33146009|33146009|        T|<NON_REF>|15:33146009:T:<NO...|15:33146009:33146009|    32|       15| 33146009|        32|33146009|      15:33146009:T:G|              -9|        15|\n",
      "|33094894|33094894|        T|<NON_REF>|15:33094894:T:<NO...|15:33094894:33094894|    32|       15| 33094894|        32|33094894|      15:33094894:T:G|              -9|        15|\n",
      "|32908577|32908577|        C|<NON_REF>|15:32908577:C:<NO...|15:32908577:32908577|    32|       15| 32908577|        32|32908577|      15:32908577:C:T|              -9|        15|\n",
      "|33070366|33070366|        G|<NON_REF>|15:33070366:G:<NO...|15:33070366:33070366|    32|       15| 33070366|        32|33070366|      15:33070366:G:A|              -9|        15|\n",
      "|33526140|33526140|        C|<NON_REF>|15:33526140:C:<NO...|15:33526140:33526140|    32|       15| 33526140|        32|33526140|      15:33526140:C:T|              -9|        15|\n",
      "|33162056|33162056|        C|<NON_REF>|15:33162056:C:<NO...|15:33162056:33162056|    32|       15| 33162056|        32|33162056|      15:33162056:C:G|              -9|        15|\n",
      "|32826245|32826245|        C|<NON_REF>|15:32826245:C:<NO...|15:32826245:32826245|    32|       15| 32826245|        32|32826245|      15:32826245:C:T|              -9|        15|\n",
      "|33487036|33487036|        A|<NON_REF>|15:33487036:A:<NO...|15:33487036:33487036|    32|       15| 33487036|        32|33487036|      15:33487036:A:G|              -9|        15|\n",
      "|33055450|33055450|        T|<NON_REF>|15:33055450:T:<NO...|15:33055450:33055450|    32|       15| 33055450|        32|33055450|      15:33055450:T:C|              -9|        15|\n",
      "+--------+--------+---------+---------+--------------------+--------------------+------+---------+---------+----------+--------+---------------------+----------------+----------+\n",
      "only showing top 20 rows\n",
      "\n"
     ]
    },
    {
     "name": "stderr",
     "output_type": "stream",
     "text": [
      "                                                                                \r"
     ]
    }
   ],
   "source": [
    "c.sort('AdditiveGenotype',ascending=True).show()"
   ]
  },
  {
   "cell_type": "code",
   "execution_count": 21,
   "id": "bf53dc82-ba6b-4a0c-8706-49e760c55eab",
   "metadata": {},
   "outputs": [
    {
     "name": "stderr",
     "output_type": "stream",
     "text": [
      "                                                                                \r"
     ]
    },
    {
     "data": {
      "text/plain": [
       "0"
      ]
     },
     "execution_count": 21,
     "metadata": {},
     "output_type": "execute_result"
    }
   ],
   "source": [
    "c.where(col('start') > col('var_start')).count()"
   ]
  },
  {
   "cell_type": "code",
   "execution_count": 4,
   "id": "c43636ad-62b8-46a7-8e3e-c4a6d65c9737",
   "metadata": {},
   "outputs": [
    {
     "name": "stderr",
     "output_type": "stream",
     "text": [
      "                                                                                \r"
     ]
    },
    {
     "data": {
      "text/plain": [
       "1177507"
      ]
     },
     "execution_count": 4,
     "metadata": {},
     "output_type": "execute_result"
    }
   ],
   "source": [
    "c.drop_duplicates(['var_chrom','var_start','var_end']).count()\n",
    "\n",
    "# use var_unique_loc"
   ]
  },
  {
   "cell_type": "code",
   "execution_count": 6,
   "id": "b220234e-a050-4d12-856a-aea85e0cf523",
   "metadata": {
    "tags": []
   },
   "outputs": [
    {
     "name": "stderr",
     "output_type": "stream",
     "text": [
      "[Stage 18:======================================>               (141 + 5) / 200]\r"
     ]
    },
    {
     "name": "stdout",
     "output_type": "stream",
     "text": [
      "+---------+---------+---------+-----+\n",
      "|var_chrom|var_start|var_end  |count|\n",
      "+---------+---------+---------+-----+\n",
      "|3        |195781674|195781674|4    |\n",
      "|3        |195781675|195781686|4    |\n",
      "|15       |20534638 |20534657 |4    |\n",
      "|14       |85557828 |85557828 |4    |\n",
      "|3        |195781678|195781679|4    |\n",
      "|5        |181045889|181045889|4    |\n",
      "|15       |20534635 |20534637 |4    |\n",
      "|17       |80896428 |80896457 |4    |\n",
      "|15       |20534642 |20534642 |4    |\n",
      "|11       |1629998  |1629998  |4    |\n",
      "|3        |195781637|195781669|4    |\n",
      "|11       |1629958  |1629962  |3    |\n",
      "|15       |20534621 |20534621 |3    |\n",
      "|17       |79483446 |79483446 |3    |\n",
      "|10       |97384397 |97384397 |3    |\n",
      "|6        |69304100 |69304100 |3    |\n",
      "|3        |195781619|195781627|3    |\n",
      "|6        |170561963|170561965|3    |\n",
      "|13       |29505458 |29505459 |3    |\n",
      "|9        |91796757 |91796757 |3    |\n",
      "+---------+---------+---------+-----+\n",
      "only showing top 20 rows\n",
      "\n"
     ]
    },
    {
     "name": "stderr",
     "output_type": "stream",
     "text": [
      "                                                                                \r"
     ]
    }
   ],
   "source": [
    "df1 = c.groupBy(['var_chrom','var_start','var_end']).count().filter(\"count > 1\")\n",
    "df1.sort('count',ascending=False).show(truncate=False) # "
   ]
  },
  {
   "cell_type": "code",
   "execution_count": 7,
   "id": "76e0d7e7-3dd4-4ffc-9995-b2d47849337b",
   "metadata": {},
   "outputs": [
    {
     "name": "stderr",
     "output_type": "stream",
     "text": [
      "                                                                                \r"
     ]
    },
    {
     "name": "stdout",
     "output_type": "stream",
     "text": [
      "+---------+---------+--------------------+--------------------+---------+---------+---------------------+----------------+\n",
      "|    start|      end|   unique_variant_id|     unique_location|var_start|  var_end|var_unique_variant_id|AdditiveGenotype|\n",
      "+---------+---------+--------------------+--------------------+---------+---------+---------------------+----------------+\n",
      "|195781592|195781687|3:195781592:GAAGA...|3:195781592:19578...|195781674|195781674|     3:195781674:A:AG|              -9|\n",
      "|195781607|195781703|3:195781607:GACCT...|3:195781607:19578...|195781674|195781674|     3:195781674:A:AG|              -9|\n",
      "|195781614|195781703|3:195781614:GGATG...|3:195781614:19578...|195781674|195781674|     3:195781674:A:AG|              -9|\n",
      "|195781649|195781854|3:195781649:T:<NO...|3:195781649:19578...|195781674|195781674|     3:195781674:A:AG|              -9|\n",
      "+---------+---------+--------------------+--------------------+---------+---------+---------------------+----------------+\n",
      "\n"
     ]
    },
    {
     "name": "stderr",
     "output_type": "stream",
     "text": [
      "                                                                                \r"
     ]
    }
   ],
   "source": [
    "c.where((col('var_chrom') == 3) &\\\n",
    "        (col('var_start') == 195781674) &\\\n",
    "        (col('var_end') == 195781674)).drop('bucket','var_bucket','reference','alternate',\n",
    "                                           'chromosome','var_chrom').show()\n",
    "\n",
    "\n",
    "# if the spanning row is not non_ref, do we want it?\n",
    "# can we break this join into multiple 'cases'?"
   ]
  },
  {
   "cell_type": "code",
   "execution_count": 15,
   "id": "1048e64d-cbc3-4b75-ac0d-9d12082f3b8e",
   "metadata": {},
   "outputs": [
    {
     "name": "stderr",
     "output_type": "stream",
     "text": [
      "                                                                                \r"
     ]
    },
    {
     "name": "stdout",
     "output_type": "stream",
     "text": [
      "+---------+---------+---------+---------+--------------------+--------------------+------+---------+---------+----------+---------+---------------------+----------------+----------+\n",
      "|    start|      end|reference|alternate|   unique_variant_id|     unique_location|bucket|var_chrom|var_start|var_bucket|  var_end|var_unique_variant_id|AdditiveGenotype|chromosome|\n",
      "+---------+---------+---------+---------+--------------------+--------------------+------+---------+---------+----------+---------+---------------------+----------------+----------+\n",
      "|108483089|108483097|        G|<NON_REF>|2:108483089:G:<NO...|2:108483089:10848...|   106|        2|108483092|       106|108483092|      2:108483092:G:T|               0|         2|\n",
      "|108483089|108483097|        G|<NON_REF>|2:108483089:G:<NO...|2:108483089:10848...|   106|        2|108483093|       106|108483093|      2:108483093:A:C|               0|         2|\n",
      "|108483089|108483097|        G|<NON_REF>|2:108483089:G:<NO...|2:108483089:10848...|   106|        2|108483090|       106|108483090|      2:108483090:A:C|               0|         2|\n",
      "+---------+---------+---------+---------+--------------------+--------------------+------+---------+---------+----------+---------+---------------------+----------------+----------+\n",
      "\n"
     ]
    }
   ],
   "source": [
    "c.drop().where(col('unique_variant_id') == '2:108483089:G:<NON_REF>').show()"
   ]
  },
  {
   "cell_type": "code",
   "execution_count": 5,
   "id": "50b2c547-50b5-4c66-8ac8-f3f87e974f4b",
   "metadata": {},
   "outputs": [
    {
     "name": "stderr",
     "output_type": "stream",
     "text": [
      "                                                                                \r"
     ]
    },
    {
     "data": {
      "text/plain": [
       "847058"
      ]
     },
     "execution_count": 5,
     "metadata": {},
     "output_type": "execute_result"
    }
   ],
   "source": [
    "c.drop_duplicates(['unique_variant_id']).count()"
   ]
  },
  {
   "cell_type": "code",
   "execution_count": 5,
   "id": "2f66bfcf-bd84-4a37-8a12-4db1b18a62b4",
   "metadata": {},
   "outputs": [],
   "source": [
    "c = c.na.fill(value=-9,subset=[\"AdditiveGenotype\"])"
   ]
  },
  {
   "cell_type": "code",
   "execution_count": 6,
   "id": "826cae41-dc09-484c-831b-148f67cce6eb",
   "metadata": {},
   "outputs": [
    {
     "name": "stderr",
     "output_type": "stream",
     "text": [
      "                                                                                \r"
     ]
    },
    {
     "data": {
      "text/plain": [
       "Counter({0: 1011622, 1: 91912, -9: 169972, 2: 52849})"
      ]
     },
     "execution_count": 6,
     "metadata": {},
     "output_type": "execute_result"
    }
   ],
   "source": [
    "Counter(c.select('AdditiveGenotype').toPandas()['AdditiveGenotype'])"
   ]
  },
  {
   "cell_type": "code",
   "execution_count": 10,
   "id": "5227a94c-660a-4f56-a6e4-e63a0e10508c",
   "metadata": {
    "tags": []
   },
   "outputs": [
    {
     "data": {
      "text/plain": [
       "['start',\n",
       " 'end',\n",
       " 'reference',\n",
       " 'alternate',\n",
       " 'unique_variant_id',\n",
       " 'unique_location',\n",
       " 'bucket',\n",
       " 'var_chrom',\n",
       " 'var_start',\n",
       " 'var_bucket',\n",
       " 'var_end',\n",
       " 'var_unique_variant_id',\n",
       " 'AdditiveGenotype',\n",
       " 'chromosome']"
      ]
     },
     "execution_count": 10,
     "metadata": {},
     "output_type": "execute_result"
    }
   ],
   "source": [
    "c.columns"
   ]
  },
  {
   "cell_type": "code",
   "execution_count": 8,
   "id": "5322eb69-31de-4e63-b0a1-4d0b19d9c811",
   "metadata": {},
   "outputs": [
    {
     "name": "stdout",
     "output_type": "stream",
     "text": [
      "+--------+--------+---------+---------+----+-------+--------------------+------+----------+----------------+----------+\n",
      "|   start|     end|reference|alternate|qual|INFO_DP|   unique_variant_id|bucket|var_bucket|AdditiveGenotype|chromosome|\n",
      "+--------+--------+---------+---------+----+-------+--------------------+------+----------+----------------+----------+\n",
      "|32770438|32770453|        A|<NON_REF>|  90|     34|1:32770438:A:<NON...|    32|        32|               0|         1|\n",
      "+--------+--------+---------+---------+----+-------+--------------------+------+----------+----------------+----------+\n",
      "only showing top 1 row\n",
      "\n"
     ]
    }
   ],
   "source": [
    "c.sample(1/1000).show(1)"
   ]
  },
  {
   "cell_type": "code",
   "execution_count": null,
   "id": "00561a04-0955-4f7b-90a0-a4425b88f685",
   "metadata": {},
   "outputs": [],
   "source": []
  },
  {
   "cell_type": "code",
   "execution_count": 2,
   "id": "6ef8ab74-5eca-4509-b229-eff71873cc34",
   "metadata": {
    "collapsed": true,
    "jupyter": {
     "outputs_hidden": true
    },
    "tags": []
   },
   "outputs": [
    {
     "name": "stderr",
     "output_type": "stream",
     "text": [
      "                                                                                \r"
     ]
    },
    {
     "name": "stdout",
     "output_type": "stream",
     "text": [
      "107822\n",
      "+------+---------+-------------------+---------+-----------------+-----------+----------+------------+----------------+-----------------+----------+\n",
      "|symbol|frequency|cadd_score_gene_agg|      end|unique_variant_id|       rsID|cadd_score|eqtl_boolean|AdditiveGenotype|normed_CADD_score|chromosome|\n",
      "+------+---------+-------------------+---------+-----------------+-----------+----------+------------+----------------+-----------------+----------+\n",
      "|CAPZA1|       19|             81.615|112709992|  1:112709992:C:A| rs41310100|     13.34|           1|               1|            1.725|         1|\n",
      "|PEX11B|        4|              3.644|145654417|  1:145654417:G:A|rs188800064|     1.097|           1|               1|            0.507|         1|\n",
      "|  RHOC|        6|             17.207|112687772|  1:112687772:A:G|  rs2932537|     0.024|           1|               1|            2.963|         1|\n",
      "+------+---------+-------------------+---------+-----------------+-----------+----------+------------+----------------+-----------------+----------+\n",
      "only showing top 3 rows\n",
      "\n"
     ]
    }
   ],
   "source": [
    "KUTD_GF_0ZR9EDHK_geneBurdenTable.parquet\n",
    "\n",
    "c = spark.read.parquet('/sbgenomics/project-files/CHD_BS_0302Y3N5_geneBurdenTable.parquet')\n",
    "print(c.count())\n",
    "c.show(3)"
   ]
  },
  {
   "cell_type": "code",
   "execution_count": 5,
   "id": "f8e215d7-2843-4565-ab90-498c2d381514",
   "metadata": {
    "collapsed": true,
    "jupyter": {
     "outputs_hidden": true
    },
    "tags": []
   },
   "outputs": [
    {
     "name": "stderr",
     "output_type": "stream",
     "text": [
      "                                                                                \r"
     ]
    },
    {
     "name": "stdout",
     "output_type": "stream",
     "text": [
      "+------+---------+-------------------+---------+-----------------+---------+----------+------------+----------------+-----------------+----------+\n",
      "|symbol|frequency|cadd_score_gene_agg|      end|unique_variant_id|     rsID|cadd_score|eqtl_boolean|AdditiveGenotype|normed_CADD_score|chromosome|\n",
      "+------+---------+-------------------+---------+-----------------+---------+----------+------------+----------------+-----------------+----------+\n",
      "|LGALS8|        4|             58.511|236554626|  1:236554626:T:C|rs2275687|      32.0|           0|               2|            1.683|         1|\n",
      "|LGALS8|        4|             58.511|236556388|  1:236556388:A:G|rs1407518|     0.703|           1|               2|            1.683|         1|\n",
      "|LGALS8|        4|             58.511|236555320|  1:236555320:T:C|rs1126627|      22.8|           0|               2|            1.683|         1|\n",
      "|LGALS8|        4|             58.511|236603879| 1:236603878:AG:A|rs5781902|     3.008|           1|               2|            1.683|         1|\n",
      "+------+---------+-------------------+---------+-----------------+---------+----------+------------+----------------+-----------------+----------+\n",
      "\n"
     ]
    },
    {
     "name": "stderr",
     "output_type": "stream",
     "text": [
      "                                                                                \r"
     ]
    }
   ],
   "source": [
    "#c.groupBy(\"symbol\").count().filter(\"count > 1\").show()\n",
    "c.where(col('symbol') == 'LGALS8').show()"
   ]
  },
  {
   "cell_type": "code",
   "execution_count": 17,
   "id": "d8247e18-33d4-4863-b189-d2b728854c03",
   "metadata": {},
   "outputs": [],
   "source": [
    "tcsq_csvs = spark.read.option('header',True).csv('/sbgenomics/project-files/variant_annotation_csvs/')\n",
    "tcsq_csvs = tcsq_csvs.drop('_c0')\n",
    "tcsq_csvs = tcsq_csvs.dropDuplicates(['chromosome','start', 'reference','alternate'])\n",
    "tcsq_csvs.repartitionByRange(30, \"chromosome\",\"start\").write.mode('overwrite').partitionBy(\"chromosome\")\\\n",
    "      .parquet(\"variant_annotations.parquet\")\n",
    "!mv variant_annotations.parquet /sbgenomics/output-files/"
   ]
  },
  {
   "cell_type": "code",
   "execution_count": 18,
   "id": "93cfea3c-e8d5-4a6b-8701-61984352f602",
   "metadata": {},
   "outputs": [],
   "source": []
  },
  {
   "cell_type": "code",
   "execution_count": 23,
   "id": "7010ed85-73a4-404c-bc31-5b39899fdbc2",
   "metadata": {
    "collapsed": true,
    "jupyter": {
     "outputs_hidden": true
    },
    "tags": []
   },
   "outputs": [
    {
     "name": "stdout",
     "output_type": "stream",
     "text": [
      "+----------+-----+---+---------+---------+----+-------+-----------------+---------------+---------+---------+-------+---------------------+\n",
      "|chromosome|start|end|reference|alternate|qual|INFO_DP|unique_variant_id|unique_location|var_chrom|var_start|var_end|var_unique_variant_id|\n",
      "+----------+-----+---+---------+---------+----+-------+-----------------+---------------+---------+---------+-------+---------------------+\n",
      "|         0|    0|  0|        0|        0|   0|      0|                0|              0|        0|        0|      0|                    0|\n",
      "+----------+-----+---+---------+---------+----+-------+-----------------+---------------+---------+---------+-------+---------------------+\n",
      "\n"
     ]
    }
   ],
   "source": [
    "from pyspark.sql.functions import isnan, when, count, col\n",
    "d.select([count(when(isnan(c) | col(c).isNull(), c)).alias(c) for c in d.columns]).show()"
   ]
  },
  {
   "cell_type": "code",
   "execution_count": null,
   "id": "6a413104-3ef4-4b03-bf0c-e21a1de08fd0",
   "metadata": {},
   "outputs": [],
   "source": []
  },
  {
   "cell_type": "code",
   "execution_count": 3,
   "id": "21341a1e-99b3-4065-b44e-fc0491a120dd",
   "metadata": {
    "tags": []
   },
   "outputs": [
    {
     "name": "stderr",
     "output_type": "stream",
     "text": [
      "                                                                                \r"
     ]
    },
    {
     "name": "stdout",
     "output_type": "stream",
     "text": [
      "1177569\n",
      "+---------+---------+-----------------+--------------------+------------+----------+\n",
      "|    start|      end|unique_variant_id|     unique_location|eqtl_boolean|chromosome|\n",
      "+---------+---------+-----------------+--------------------+------------+----------+\n",
      "|156286325|156286325|  1:156286325:C:T|1:156286325:15628...|           0|         1|\n",
      "|156477127|156477127|  1:156477127:A:C|1:156477127:15647...|           0|         1|\n",
      "|156669969|156669969|  1:156669969:C:A|1:156669969:15666...|           0|         1|\n",
      "+---------+---------+-----------------+--------------------+------------+----------+\n",
      "only showing top 3 rows\n",
      "\n"
     ]
    },
    {
     "name": "stderr",
     "output_type": "stream",
     "text": [
      "                                                                                \r"
     ]
    },
    {
     "data": {
      "text/plain": [
       "1326355"
      ]
     },
     "execution_count": 3,
     "metadata": {},
     "output_type": "execute_result"
    }
   ],
   "source": [
    "u = spark.read.parquet('/sbgenomics/project-files/CHD_all_unique_variants.parquet')\n",
    "print(u.count())\n",
    "u.show(3)\n",
    "u.drop_duplicates(['unique_variant_id']).count()\n",
    "\n",
    "\n",
    "1326355"
   ]
  },
  {
   "cell_type": "code",
   "execution_count": 30,
   "id": "48151cb6-107d-48a7-8d19-e680e51e25b3",
   "metadata": {},
   "outputs": [
    {
     "name": "stderr",
     "output_type": "stream",
     "text": [
      "                                                                                \r"
     ]
    },
    {
     "data": {
      "text/plain": [
       "1177569"
      ]
     },
     "execution_count": 30,
     "metadata": {},
     "output_type": "execute_result"
    }
   ],
   "source": [
    "u.drop_duplicates(['unique_location']).count()"
   ]
  },
  {
   "cell_type": "code",
   "execution_count": 2,
   "id": "575ab585-df84-4730-9ed7-cb884e2b5cf4",
   "metadata": {
    "tags": []
   },
   "outputs": [
    {
     "name": "stderr",
     "output_type": "stream",
     "text": [
      "                                                                                \r"
     ]
    },
    {
     "name": "stdout",
     "output_type": "stream",
     "text": [
      "145593\n",
      "+---------+---------+---------+---------+-----------------+-------+-------+---------------------+--------------------+------------+----------+----------+------------+----------+\n",
      "|    start|      end|reference|alternate|unique_variant_id|   qual|INFO_DP|splitFromMultiAllelic|           genotypes|      symbol|      rsID|cadd_score|eqtl_boolean|chromosome|\n",
      "+---------+---------+---------+---------+-----------------+-------+-------+---------------------+--------------------+------------+----------+----------+------------+----------+\n",
      "|100285499|100285499|        G|        C|  1:100285499:G:C|1489.77|     45|                 true|[{BS_0302Y3N5, 99...|        RTCA|rs10875286|     0.417|           1|         1|\n",
      "|111211500|111211500|        T|        G|  1:111211500:T:G| 101.77|      8|                 true|[{BS_0302Y3N5, 99...|RP11-96K19.4|rs12043624|     0.603|           1|         1|\n",
      "|111613401|111613401|        G|        A|  1:111613401:G:A| 984.77|     30|                 true|[{BS_0302Y3N5, 90...|       KCNA3|  rs576993|     1.394|           1|         1|\n",
      "+---------+---------+---------+---------+-----------------+-------+-------+---------------------+--------------------+------------+----------+----------+------------+----------+\n",
      "only showing top 3 rows\n",
      "\n"
     ]
    }
   ],
   "source": [
    "d = spark.read.parquet('/sbgenomics/project-files/CHD_BS_0302Y3N5_scored_variants.parquet/')\n",
    "print(d.count())\n",
    "d.show(3)"
   ]
  },
  {
   "cell_type": "code",
   "execution_count": 4,
   "id": "4bb3dc90-15eb-455a-8a26-d79ed6ee56cf",
   "metadata": {},
   "outputs": [
    {
     "name": "stderr",
     "output_type": "stream",
     "text": [
      "                                                                                \r"
     ]
    },
    {
     "name": "stdout",
     "output_type": "stream",
     "text": [
      "172809\n",
      "+----+--------------+-----+------+--------+--------+--------+--------+---------+--------------------+--------------------+-----+--------+------------+----------+--------------------+\n",
      "|#bin|          name|chrom|strand| txStart|   txEnd|cdsStart|  cdsEnd|exonCount|          exonStarts|            exonEnds|score|   name2|cdsStartStat|cdsEndStat|          exonFrames|\n",
      "+----+--------------+-----+------+--------+--------+--------+--------+---------+--------------------+--------------------+-----+--------+------------+----------+--------------------+\n",
      "|   0|NM_001276352.2| chr1|     -|67092164|67134970|67093579|67127240|        9|67092164,67096251...|67093604,67096321...|    0|C1orf141|        cmpl|      cmpl|2,1,0,1,2,0,0,-1,-1,|\n",
      "|   0|NM_001276351.2| chr1|     -|67092164|67134970|67093004|67127240|        8|67092164,67095234...|67093604,67095421...|    0|C1orf141|        cmpl|      cmpl|  0,2,1,2,0,0,-1,-1,|\n",
      "|   0|   NR_075077.2| chr1|     -|67092164|67134970|67134970|67134970|       10|67092164,67096251...|67093604,67096321...|    0|C1orf141|        none|      none|-1,-1,-1,-1,-1,-1...|\n",
      "+----+--------------+-----+------+--------+--------+--------+--------+---------+--------------------+--------------------+-----+--------+------------+----------+--------------------+\n",
      "only showing top 3 rows\n",
      "\n"
     ]
    }
   ],
   "source": [
    "d = spark.read.csv('/sbgenomics/project-files/gene_regions_refseq',header=True,sep='\\t')\n",
    "print(d.count())\n",
    "d.show(3)"
   ]
  },
  {
   "cell_type": "code",
   "execution_count": 6,
   "id": "e6a00615-67bf-42c2-90c4-3f201eebc744",
   "metadata": {},
   "outputs": [
    {
     "name": "stderr",
     "output_type": "stream",
     "text": [
      "                                                                                \r"
     ]
    }
   ],
   "source": [
    "d.write.mode('overwrite')\\\n",
    "      .parquet(\"gene_regions_refseq.parquet\")"
   ]
  },
  {
   "cell_type": "code",
   "execution_count": 7,
   "id": "6af7b622-5a7c-4c80-88ce-2f349e2817ba",
   "metadata": {},
   "outputs": [],
   "source": [
    "!mv gene_regions_refseq.parquet /sbgenomics/output-files/"
   ]
  },
  {
   "cell_type": "code",
   "execution_count": 2,
   "id": "da0d26d2-814b-4518-ad90-6e8622fa9258",
   "metadata": {
    "collapsed": true,
    "jupyter": {
     "outputs_hidden": true
    },
    "tags": []
   },
   "outputs": [
    {
     "name": "stderr",
     "output_type": "stream",
     "text": [
      "22/07/19 12:40:52 ERROR Executor: Exception in task 3.0 in stage 1.0 (TID 4) 13]\n",
      "java.lang.RuntimeException: file:/sbgenomics/project-files/tcsq_variant_gene_mappings_july13.parquet/chromosome=11/part-00008-af6512ae-4e61-4bc2-8612-afa4398a2805.c000.snappy.parquet.Ab0bAf0c is not a Parquet file. expected magic number at tail [80, 65, 82, 49] but found [-43, -83, 110, -96]\n",
      "\tat org.apache.parquet.hadoop.ParquetFileReader.readFooter(ParquetFileReader.java:524)\n",
      "\tat org.apache.parquet.hadoop.ParquetFileReader.readFooter(ParquetFileReader.java:505)\n",
      "\tat org.apache.parquet.hadoop.ParquetFileReader.readFooter(ParquetFileReader.java:499)\n",
      "\tat org.apache.parquet.hadoop.ParquetFileReader.readFooter(ParquetFileReader.java:448)\n",
      "\tat org.apache.spark.sql.execution.datasources.parquet.ParquetFileFormat.footerFileMetaData$lzycompute$1(ParquetFileFormat.scala:271)\n",
      "\tat org.apache.spark.sql.execution.datasources.parquet.ParquetFileFormat.footerFileMetaData$1(ParquetFileFormat.scala:270)\n",
      "\tat org.apache.spark.sql.execution.datasources.parquet.ParquetFileFormat.$anonfun$buildReaderWithPartitionValues$2(ParquetFileFormat.scala:274)\n",
      "\tat org.apache.spark.sql.execution.datasources.FileScanRDD$$anon$1.org$apache$spark$sql$execution$datasources$FileScanRDD$$anon$$readCurrentFile(FileScanRDD.scala:116)\n",
      "\tat org.apache.spark.sql.execution.datasources.FileScanRDD$$anon$1.nextIterator(FileScanRDD.scala:169)\n",
      "\tat org.apache.spark.sql.execution.datasources.FileScanRDD$$anon$1.hasNext(FileScanRDD.scala:93)\n",
      "\tat org.apache.spark.sql.execution.FileSourceScanExec$$anon$1.hasNext(DataSourceScanExec.scala:503)\n",
      "\tat org.apache.spark.sql.catalyst.expressions.GeneratedClass$GeneratedIteratorForCodegenStage1.columnartorow_nextBatch_0$(Unknown Source)\n",
      "\tat org.apache.spark.sql.catalyst.expressions.GeneratedClass$GeneratedIteratorForCodegenStage1.agg_doAggregateWithoutKey_0$(Unknown Source)\n",
      "\tat org.apache.spark.sql.catalyst.expressions.GeneratedClass$GeneratedIteratorForCodegenStage1.processNext(Unknown Source)\n",
      "\tat org.apache.spark.sql.execution.BufferedRowIterator.hasNext(BufferedRowIterator.java:43)\n",
      "\tat org.apache.spark.sql.execution.WholeStageCodegenExec$$anon$1.hasNext(WholeStageCodegenExec.scala:755)\n",
      "\tat scala.collection.Iterator$$anon$10.hasNext(Iterator.scala:458)\n",
      "\tat org.apache.spark.shuffle.sort.BypassMergeSortShuffleWriter.write(BypassMergeSortShuffleWriter.java:132)\n",
      "\tat org.apache.spark.shuffle.ShuffleWriteProcessor.write(ShuffleWriteProcessor.scala:59)\n",
      "\tat org.apache.spark.scheduler.ShuffleMapTask.runTask(ShuffleMapTask.scala:99)\n",
      "\tat org.apache.spark.scheduler.ShuffleMapTask.runTask(ShuffleMapTask.scala:52)\n",
      "\tat org.apache.spark.scheduler.Task.run(Task.scala:131)\n",
      "\tat org.apache.spark.executor.Executor$TaskRunner.$anonfun$run$3(Executor.scala:497)\n",
      "\tat org.apache.spark.util.Utils$.tryWithSafeFinally(Utils.scala:1439)\n",
      "\tat org.apache.spark.executor.Executor$TaskRunner.run(Executor.scala:500)\n",
      "\tat java.util.concurrent.ThreadPoolExecutor.runWorker(ThreadPoolExecutor.java:1149)\n",
      "\tat java.util.concurrent.ThreadPoolExecutor$Worker.run(ThreadPoolExecutor.java:624)\n",
      "\tat java.lang.Thread.run(Thread.java:748)\n",
      "22/07/19 12:40:52 WARN TaskSetManager: Lost task 3.0 in stage 1.0 (TID 4) (i-040a3037cd8c11d20 executor driver): java.lang.RuntimeException: file:/sbgenomics/project-files/tcsq_variant_gene_mappings_july13.parquet/chromosome=11/part-00008-af6512ae-4e61-4bc2-8612-afa4398a2805.c000.snappy.parquet.Ab0bAf0c is not a Parquet file. expected magic number at tail [80, 65, 82, 49] but found [-43, -83, 110, -96]\n",
      "\tat org.apache.parquet.hadoop.ParquetFileReader.readFooter(ParquetFileReader.java:524)\n",
      "\tat org.apache.parquet.hadoop.ParquetFileReader.readFooter(ParquetFileReader.java:505)\n",
      "\tat org.apache.parquet.hadoop.ParquetFileReader.readFooter(ParquetFileReader.java:499)\n",
      "\tat org.apache.parquet.hadoop.ParquetFileReader.readFooter(ParquetFileReader.java:448)\n",
      "\tat org.apache.spark.sql.execution.datasources.parquet.ParquetFileFormat.footerFileMetaData$lzycompute$1(ParquetFileFormat.scala:271)\n",
      "\tat org.apache.spark.sql.execution.datasources.parquet.ParquetFileFormat.footerFileMetaData$1(ParquetFileFormat.scala:270)\n",
      "\tat org.apache.spark.sql.execution.datasources.parquet.ParquetFileFormat.$anonfun$buildReaderWithPartitionValues$2(ParquetFileFormat.scala:274)\n",
      "\tat org.apache.spark.sql.execution.datasources.FileScanRDD$$anon$1.org$apache$spark$sql$execution$datasources$FileScanRDD$$anon$$readCurrentFile(FileScanRDD.scala:116)\n",
      "\tat org.apache.spark.sql.execution.datasources.FileScanRDD$$anon$1.nextIterator(FileScanRDD.scala:169)\n",
      "\tat org.apache.spark.sql.execution.datasources.FileScanRDD$$anon$1.hasNext(FileScanRDD.scala:93)\n",
      "\tat org.apache.spark.sql.execution.FileSourceScanExec$$anon$1.hasNext(DataSourceScanExec.scala:503)\n",
      "\tat org.apache.spark.sql.catalyst.expressions.GeneratedClass$GeneratedIteratorForCodegenStage1.columnartorow_nextBatch_0$(Unknown Source)\n",
      "\tat org.apache.spark.sql.catalyst.expressions.GeneratedClass$GeneratedIteratorForCodegenStage1.agg_doAggregateWithoutKey_0$(Unknown Source)\n",
      "\tat org.apache.spark.sql.catalyst.expressions.GeneratedClass$GeneratedIteratorForCodegenStage1.processNext(Unknown Source)\n",
      "\tat org.apache.spark.sql.execution.BufferedRowIterator.hasNext(BufferedRowIterator.java:43)\n",
      "\tat org.apache.spark.sql.execution.WholeStageCodegenExec$$anon$1.hasNext(WholeStageCodegenExec.scala:755)\n",
      "\tat scala.collection.Iterator$$anon$10.hasNext(Iterator.scala:458)\n",
      "\tat org.apache.spark.shuffle.sort.BypassMergeSortShuffleWriter.write(BypassMergeSortShuffleWriter.java:132)\n",
      "\tat org.apache.spark.shuffle.ShuffleWriteProcessor.write(ShuffleWriteProcessor.scala:59)\n",
      "\tat org.apache.spark.scheduler.ShuffleMapTask.runTask(ShuffleMapTask.scala:99)\n",
      "\tat org.apache.spark.scheduler.ShuffleMapTask.runTask(ShuffleMapTask.scala:52)\n",
      "\tat org.apache.spark.scheduler.Task.run(Task.scala:131)\n",
      "\tat org.apache.spark.executor.Executor$TaskRunner.$anonfun$run$3(Executor.scala:497)\n",
      "\tat org.apache.spark.util.Utils$.tryWithSafeFinally(Utils.scala:1439)\n",
      "\tat org.apache.spark.executor.Executor$TaskRunner.run(Executor.scala:500)\n",
      "\tat java.util.concurrent.ThreadPoolExecutor.runWorker(ThreadPoolExecutor.java:1149)\n",
      "\tat java.util.concurrent.ThreadPoolExecutor$Worker.run(ThreadPoolExecutor.java:624)\n",
      "\tat java.lang.Thread.run(Thread.java:748)\n",
      "\n",
      "22/07/19 12:40:52 ERROR TaskSetManager: Task 3 in stage 1.0 failed 1 times; aborting job\n",
      "22/07/19 12:40:52 WARN TaskSetManager: Lost task 4.0 in stage 1.0 (TID 5) (i-040a3037cd8c11d20 executor driver): TaskKilled (Stage cancelled)\n"
     ]
    },
    {
     "ename": "Py4JJavaError",
     "evalue": "An error occurred while calling o48.count.\n: org.apache.spark.SparkException: Job aborted due to stage failure: Task 3 in stage 1.0 failed 1 times, most recent failure: Lost task 3.0 in stage 1.0 (TID 4) (i-040a3037cd8c11d20 executor driver): java.lang.RuntimeException: file:/sbgenomics/project-files/tcsq_variant_gene_mappings_july13.parquet/chromosome=11/part-00008-af6512ae-4e61-4bc2-8612-afa4398a2805.c000.snappy.parquet.Ab0bAf0c is not a Parquet file. expected magic number at tail [80, 65, 82, 49] but found [-43, -83, 110, -96]\n\tat org.apache.parquet.hadoop.ParquetFileReader.readFooter(ParquetFileReader.java:524)\n\tat org.apache.parquet.hadoop.ParquetFileReader.readFooter(ParquetFileReader.java:505)\n\tat org.apache.parquet.hadoop.ParquetFileReader.readFooter(ParquetFileReader.java:499)\n\tat org.apache.parquet.hadoop.ParquetFileReader.readFooter(ParquetFileReader.java:448)\n\tat org.apache.spark.sql.execution.datasources.parquet.ParquetFileFormat.footerFileMetaData$lzycompute$1(ParquetFileFormat.scala:271)\n\tat org.apache.spark.sql.execution.datasources.parquet.ParquetFileFormat.footerFileMetaData$1(ParquetFileFormat.scala:270)\n\tat org.apache.spark.sql.execution.datasources.parquet.ParquetFileFormat.$anonfun$buildReaderWithPartitionValues$2(ParquetFileFormat.scala:274)\n\tat org.apache.spark.sql.execution.datasources.FileScanRDD$$anon$1.org$apache$spark$sql$execution$datasources$FileScanRDD$$anon$$readCurrentFile(FileScanRDD.scala:116)\n\tat org.apache.spark.sql.execution.datasources.FileScanRDD$$anon$1.nextIterator(FileScanRDD.scala:169)\n\tat org.apache.spark.sql.execution.datasources.FileScanRDD$$anon$1.hasNext(FileScanRDD.scala:93)\n\tat org.apache.spark.sql.execution.FileSourceScanExec$$anon$1.hasNext(DataSourceScanExec.scala:503)\n\tat org.apache.spark.sql.catalyst.expressions.GeneratedClass$GeneratedIteratorForCodegenStage1.columnartorow_nextBatch_0$(Unknown Source)\n\tat org.apache.spark.sql.catalyst.expressions.GeneratedClass$GeneratedIteratorForCodegenStage1.agg_doAggregateWithoutKey_0$(Unknown Source)\n\tat org.apache.spark.sql.catalyst.expressions.GeneratedClass$GeneratedIteratorForCodegenStage1.processNext(Unknown Source)\n\tat org.apache.spark.sql.execution.BufferedRowIterator.hasNext(BufferedRowIterator.java:43)\n\tat org.apache.spark.sql.execution.WholeStageCodegenExec$$anon$1.hasNext(WholeStageCodegenExec.scala:755)\n\tat scala.collection.Iterator$$anon$10.hasNext(Iterator.scala:458)\n\tat org.apache.spark.shuffle.sort.BypassMergeSortShuffleWriter.write(BypassMergeSortShuffleWriter.java:132)\n\tat org.apache.spark.shuffle.ShuffleWriteProcessor.write(ShuffleWriteProcessor.scala:59)\n\tat org.apache.spark.scheduler.ShuffleMapTask.runTask(ShuffleMapTask.scala:99)\n\tat org.apache.spark.scheduler.ShuffleMapTask.runTask(ShuffleMapTask.scala:52)\n\tat org.apache.spark.scheduler.Task.run(Task.scala:131)\n\tat org.apache.spark.executor.Executor$TaskRunner.$anonfun$run$3(Executor.scala:497)\n\tat org.apache.spark.util.Utils$.tryWithSafeFinally(Utils.scala:1439)\n\tat org.apache.spark.executor.Executor$TaskRunner.run(Executor.scala:500)\n\tat java.util.concurrent.ThreadPoolExecutor.runWorker(ThreadPoolExecutor.java:1149)\n\tat java.util.concurrent.ThreadPoolExecutor$Worker.run(ThreadPoolExecutor.java:624)\n\tat java.lang.Thread.run(Thread.java:748)\n\nDriver stacktrace:\n\tat org.apache.spark.scheduler.DAGScheduler.failJobAndIndependentStages(DAGScheduler.scala:2258)\n\tat org.apache.spark.scheduler.DAGScheduler.$anonfun$abortStage$2(DAGScheduler.scala:2207)\n\tat org.apache.spark.scheduler.DAGScheduler.$anonfun$abortStage$2$adapted(DAGScheduler.scala:2206)\n\tat scala.collection.mutable.ResizableArray.foreach(ResizableArray.scala:62)\n\tat scala.collection.mutable.ResizableArray.foreach$(ResizableArray.scala:55)\n\tat scala.collection.mutable.ArrayBuffer.foreach(ArrayBuffer.scala:49)\n\tat org.apache.spark.scheduler.DAGScheduler.abortStage(DAGScheduler.scala:2206)\n\tat org.apache.spark.scheduler.DAGScheduler.$anonfun$handleTaskSetFailed$1(DAGScheduler.scala:1079)\n\tat org.apache.spark.scheduler.DAGScheduler.$anonfun$handleTaskSetFailed$1$adapted(DAGScheduler.scala:1079)\n\tat scala.Option.foreach(Option.scala:407)\n\tat org.apache.spark.scheduler.DAGScheduler.handleTaskSetFailed(DAGScheduler.scala:1079)\n\tat org.apache.spark.scheduler.DAGSchedulerEventProcessLoop.doOnReceive(DAGScheduler.scala:2445)\n\tat org.apache.spark.scheduler.DAGSchedulerEventProcessLoop.onReceive(DAGScheduler.scala:2387)\n\tat org.apache.spark.scheduler.DAGSchedulerEventProcessLoop.onReceive(DAGScheduler.scala:2376)\n\tat org.apache.spark.util.EventLoop$$anon$1.run(EventLoop.scala:49)\n\tat org.apache.spark.scheduler.DAGScheduler.runJob(DAGScheduler.scala:868)\n\tat org.apache.spark.SparkContext.runJob(SparkContext.scala:2196)\n\tat org.apache.spark.SparkContext.runJob(SparkContext.scala:2217)\n\tat org.apache.spark.SparkContext.runJob(SparkContext.scala:2236)\n\tat org.apache.spark.SparkContext.runJob(SparkContext.scala:2261)\n\tat org.apache.spark.rdd.RDD.$anonfun$collect$1(RDD.scala:1030)\n\tat org.apache.spark.rdd.RDDOperationScope$.withScope(RDDOperationScope.scala:151)\n\tat org.apache.spark.rdd.RDDOperationScope$.withScope(RDDOperationScope.scala:112)\n\tat org.apache.spark.rdd.RDD.withScope(RDD.scala:414)\n\tat org.apache.spark.rdd.RDD.collect(RDD.scala:1029)\n\tat org.apache.spark.sql.execution.SparkPlan.executeCollect(SparkPlan.scala:390)\n\tat org.apache.spark.sql.Dataset.$anonfun$count$1(Dataset.scala:3006)\n\tat org.apache.spark.sql.Dataset.$anonfun$count$1$adapted(Dataset.scala:3005)\n\tat org.apache.spark.sql.Dataset.$anonfun$withAction$1(Dataset.scala:3687)\n\tat org.apache.spark.sql.execution.SQLExecution$.$anonfun$withNewExecutionId$5(SQLExecution.scala:103)\n\tat org.apache.spark.sql.execution.SQLExecution$.withSQLConfPropagated(SQLExecution.scala:163)\n\tat org.apache.spark.sql.execution.SQLExecution$.$anonfun$withNewExecutionId$1(SQLExecution.scala:90)\n\tat org.apache.spark.sql.SparkSession.withActive(SparkSession.scala:775)\n\tat org.apache.spark.sql.execution.SQLExecution$.withNewExecutionId(SQLExecution.scala:64)\n\tat org.apache.spark.sql.Dataset.withAction(Dataset.scala:3685)\n\tat org.apache.spark.sql.Dataset.count(Dataset.scala:3005)\n\tat sun.reflect.NativeMethodAccessorImpl.invoke0(Native Method)\n\tat sun.reflect.NativeMethodAccessorImpl.invoke(NativeMethodAccessorImpl.java:62)\n\tat sun.reflect.DelegatingMethodAccessorImpl.invoke(DelegatingMethodAccessorImpl.java:43)\n\tat java.lang.reflect.Method.invoke(Method.java:498)\n\tat py4j.reflection.MethodInvoker.invoke(MethodInvoker.java:244)\n\tat py4j.reflection.ReflectionEngine.invoke(ReflectionEngine.java:357)\n\tat py4j.Gateway.invoke(Gateway.java:282)\n\tat py4j.commands.AbstractCommand.invokeMethod(AbstractCommand.java:132)\n\tat py4j.commands.CallCommand.execute(CallCommand.java:79)\n\tat py4j.GatewayConnection.run(GatewayConnection.java:238)\n\tat java.lang.Thread.run(Thread.java:748)\nCaused by: java.lang.RuntimeException: file:/sbgenomics/project-files/tcsq_variant_gene_mappings_july13.parquet/chromosome=11/part-00008-af6512ae-4e61-4bc2-8612-afa4398a2805.c000.snappy.parquet.Ab0bAf0c is not a Parquet file. expected magic number at tail [80, 65, 82, 49] but found [-43, -83, 110, -96]\n\tat org.apache.parquet.hadoop.ParquetFileReader.readFooter(ParquetFileReader.java:524)\n\tat org.apache.parquet.hadoop.ParquetFileReader.readFooter(ParquetFileReader.java:505)\n\tat org.apache.parquet.hadoop.ParquetFileReader.readFooter(ParquetFileReader.java:499)\n\tat org.apache.parquet.hadoop.ParquetFileReader.readFooter(ParquetFileReader.java:448)\n\tat org.apache.spark.sql.execution.datasources.parquet.ParquetFileFormat.footerFileMetaData$lzycompute$1(ParquetFileFormat.scala:271)\n\tat org.apache.spark.sql.execution.datasources.parquet.ParquetFileFormat.footerFileMetaData$1(ParquetFileFormat.scala:270)\n\tat org.apache.spark.sql.execution.datasources.parquet.ParquetFileFormat.$anonfun$buildReaderWithPartitionValues$2(ParquetFileFormat.scala:274)\n\tat org.apache.spark.sql.execution.datasources.FileScanRDD$$anon$1.org$apache$spark$sql$execution$datasources$FileScanRDD$$anon$$readCurrentFile(FileScanRDD.scala:116)\n\tat org.apache.spark.sql.execution.datasources.FileScanRDD$$anon$1.nextIterator(FileScanRDD.scala:169)\n\tat org.apache.spark.sql.execution.datasources.FileScanRDD$$anon$1.hasNext(FileScanRDD.scala:93)\n\tat org.apache.spark.sql.execution.FileSourceScanExec$$anon$1.hasNext(DataSourceScanExec.scala:503)\n\tat org.apache.spark.sql.catalyst.expressions.GeneratedClass$GeneratedIteratorForCodegenStage1.columnartorow_nextBatch_0$(Unknown Source)\n\tat org.apache.spark.sql.catalyst.expressions.GeneratedClass$GeneratedIteratorForCodegenStage1.agg_doAggregateWithoutKey_0$(Unknown Source)\n\tat org.apache.spark.sql.catalyst.expressions.GeneratedClass$GeneratedIteratorForCodegenStage1.processNext(Unknown Source)\n\tat org.apache.spark.sql.execution.BufferedRowIterator.hasNext(BufferedRowIterator.java:43)\n\tat org.apache.spark.sql.execution.WholeStageCodegenExec$$anon$1.hasNext(WholeStageCodegenExec.scala:755)\n\tat scala.collection.Iterator$$anon$10.hasNext(Iterator.scala:458)\n\tat org.apache.spark.shuffle.sort.BypassMergeSortShuffleWriter.write(BypassMergeSortShuffleWriter.java:132)\n\tat org.apache.spark.shuffle.ShuffleWriteProcessor.write(ShuffleWriteProcessor.scala:59)\n\tat org.apache.spark.scheduler.ShuffleMapTask.runTask(ShuffleMapTask.scala:99)\n\tat org.apache.spark.scheduler.ShuffleMapTask.runTask(ShuffleMapTask.scala:52)\n\tat org.apache.spark.scheduler.Task.run(Task.scala:131)\n\tat org.apache.spark.executor.Executor$TaskRunner.$anonfun$run$3(Executor.scala:497)\n\tat org.apache.spark.util.Utils$.tryWithSafeFinally(Utils.scala:1439)\n\tat org.apache.spark.executor.Executor$TaskRunner.run(Executor.scala:500)\n\tat java.util.concurrent.ThreadPoolExecutor.runWorker(ThreadPoolExecutor.java:1149)\n\tat java.util.concurrent.ThreadPoolExecutor$Worker.run(ThreadPoolExecutor.java:624)\n\t... 1 more\n",
     "output_type": "error",
     "traceback": [
      "\u001b[0;31m---------------------------------------------------------------------------\u001b[0m",
      "\u001b[0;31mPy4JJavaError\u001b[0m                             Traceback (most recent call last)",
      "\u001b[0;32m/tmp/ipykernel_489/1523546311.py\u001b[0m in \u001b[0;36m<module>\u001b[0;34m\u001b[0m\n\u001b[1;32m      1\u001b[0m \u001b[0md\u001b[0m \u001b[0;34m=\u001b[0m \u001b[0mspark\u001b[0m\u001b[0;34m.\u001b[0m\u001b[0mread\u001b[0m\u001b[0;34m.\u001b[0m\u001b[0mparquet\u001b[0m\u001b[0;34m(\u001b[0m\u001b[0;34m'/sbgenomics/project-files/tcsq_variant_gene_mappings_july13.parquet'\u001b[0m\u001b[0;34m)\u001b[0m\u001b[0;34m\u001b[0m\u001b[0;34m\u001b[0m\u001b[0m\n\u001b[0;32m----> 2\u001b[0;31m \u001b[0mprint\u001b[0m\u001b[0;34m(\u001b[0m\u001b[0md\u001b[0m\u001b[0;34m.\u001b[0m\u001b[0mcount\u001b[0m\u001b[0;34m(\u001b[0m\u001b[0;34m)\u001b[0m\u001b[0;34m)\u001b[0m\u001b[0;34m\u001b[0m\u001b[0;34m\u001b[0m\u001b[0m\n\u001b[0m\u001b[1;32m      3\u001b[0m \u001b[0md\u001b[0m\u001b[0;34m.\u001b[0m\u001b[0mshow\u001b[0m\u001b[0;34m(\u001b[0m\u001b[0;36m3\u001b[0m\u001b[0;34m)\u001b[0m\u001b[0;34m\u001b[0m\u001b[0;34m\u001b[0m\u001b[0m\n",
      "\u001b[0;32m/usr/local/spark/python/pyspark/sql/dataframe.py\u001b[0m in \u001b[0;36mcount\u001b[0;34m(self)\u001b[0m\n\u001b[1;32m    662\u001b[0m         \u001b[0;36m2\u001b[0m\u001b[0;34m\u001b[0m\u001b[0;34m\u001b[0m\u001b[0m\n\u001b[1;32m    663\u001b[0m         \"\"\"\n\u001b[0;32m--> 664\u001b[0;31m         \u001b[0;32mreturn\u001b[0m \u001b[0mint\u001b[0m\u001b[0;34m(\u001b[0m\u001b[0mself\u001b[0m\u001b[0;34m.\u001b[0m\u001b[0m_jdf\u001b[0m\u001b[0;34m.\u001b[0m\u001b[0mcount\u001b[0m\u001b[0;34m(\u001b[0m\u001b[0;34m)\u001b[0m\u001b[0;34m)\u001b[0m\u001b[0;34m\u001b[0m\u001b[0;34m\u001b[0m\u001b[0m\n\u001b[0m\u001b[1;32m    665\u001b[0m \u001b[0;34m\u001b[0m\u001b[0m\n\u001b[1;32m    666\u001b[0m     \u001b[0;32mdef\u001b[0m \u001b[0mcollect\u001b[0m\u001b[0;34m(\u001b[0m\u001b[0mself\u001b[0m\u001b[0;34m)\u001b[0m\u001b[0;34m:\u001b[0m\u001b[0;34m\u001b[0m\u001b[0;34m\u001b[0m\u001b[0m\n",
      "\u001b[0;32m/usr/local/spark/python/lib/py4j-0.10.9-src.zip/py4j/java_gateway.py\u001b[0m in \u001b[0;36m__call__\u001b[0;34m(self, *args)\u001b[0m\n\u001b[1;32m   1302\u001b[0m \u001b[0;34m\u001b[0m\u001b[0m\n\u001b[1;32m   1303\u001b[0m         \u001b[0manswer\u001b[0m \u001b[0;34m=\u001b[0m \u001b[0mself\u001b[0m\u001b[0;34m.\u001b[0m\u001b[0mgateway_client\u001b[0m\u001b[0;34m.\u001b[0m\u001b[0msend_command\u001b[0m\u001b[0;34m(\u001b[0m\u001b[0mcommand\u001b[0m\u001b[0;34m)\u001b[0m\u001b[0;34m\u001b[0m\u001b[0;34m\u001b[0m\u001b[0m\n\u001b[0;32m-> 1304\u001b[0;31m         return_value = get_return_value(\n\u001b[0m\u001b[1;32m   1305\u001b[0m             answer, self.gateway_client, self.target_id, self.name)\n\u001b[1;32m   1306\u001b[0m \u001b[0;34m\u001b[0m\u001b[0m\n",
      "\u001b[0;32m/usr/local/spark/python/pyspark/sql/utils.py\u001b[0m in \u001b[0;36mdeco\u001b[0;34m(*a, **kw)\u001b[0m\n\u001b[1;32m    109\u001b[0m     \u001b[0;32mdef\u001b[0m \u001b[0mdeco\u001b[0m\u001b[0;34m(\u001b[0m\u001b[0;34m*\u001b[0m\u001b[0ma\u001b[0m\u001b[0;34m,\u001b[0m \u001b[0;34m**\u001b[0m\u001b[0mkw\u001b[0m\u001b[0;34m)\u001b[0m\u001b[0;34m:\u001b[0m\u001b[0;34m\u001b[0m\u001b[0;34m\u001b[0m\u001b[0m\n\u001b[1;32m    110\u001b[0m         \u001b[0;32mtry\u001b[0m\u001b[0;34m:\u001b[0m\u001b[0;34m\u001b[0m\u001b[0;34m\u001b[0m\u001b[0m\n\u001b[0;32m--> 111\u001b[0;31m             \u001b[0;32mreturn\u001b[0m \u001b[0mf\u001b[0m\u001b[0;34m(\u001b[0m\u001b[0;34m*\u001b[0m\u001b[0ma\u001b[0m\u001b[0;34m,\u001b[0m \u001b[0;34m**\u001b[0m\u001b[0mkw\u001b[0m\u001b[0;34m)\u001b[0m\u001b[0;34m\u001b[0m\u001b[0;34m\u001b[0m\u001b[0m\n\u001b[0m\u001b[1;32m    112\u001b[0m         \u001b[0;32mexcept\u001b[0m \u001b[0mpy4j\u001b[0m\u001b[0;34m.\u001b[0m\u001b[0mprotocol\u001b[0m\u001b[0;34m.\u001b[0m\u001b[0mPy4JJavaError\u001b[0m \u001b[0;32mas\u001b[0m \u001b[0me\u001b[0m\u001b[0;34m:\u001b[0m\u001b[0;34m\u001b[0m\u001b[0;34m\u001b[0m\u001b[0m\n\u001b[1;32m    113\u001b[0m             \u001b[0mconverted\u001b[0m \u001b[0;34m=\u001b[0m \u001b[0mconvert_exception\u001b[0m\u001b[0;34m(\u001b[0m\u001b[0me\u001b[0m\u001b[0;34m.\u001b[0m\u001b[0mjava_exception\u001b[0m\u001b[0;34m)\u001b[0m\u001b[0;34m\u001b[0m\u001b[0;34m\u001b[0m\u001b[0m\n",
      "\u001b[0;32m/usr/local/spark/python/lib/py4j-0.10.9-src.zip/py4j/protocol.py\u001b[0m in \u001b[0;36mget_return_value\u001b[0;34m(answer, gateway_client, target_id, name)\u001b[0m\n\u001b[1;32m    324\u001b[0m             \u001b[0mvalue\u001b[0m \u001b[0;34m=\u001b[0m \u001b[0mOUTPUT_CONVERTER\u001b[0m\u001b[0;34m[\u001b[0m\u001b[0mtype\u001b[0m\u001b[0;34m]\u001b[0m\u001b[0;34m(\u001b[0m\u001b[0manswer\u001b[0m\u001b[0;34m[\u001b[0m\u001b[0;36m2\u001b[0m\u001b[0;34m:\u001b[0m\u001b[0;34m]\u001b[0m\u001b[0;34m,\u001b[0m \u001b[0mgateway_client\u001b[0m\u001b[0;34m)\u001b[0m\u001b[0;34m\u001b[0m\u001b[0;34m\u001b[0m\u001b[0m\n\u001b[1;32m    325\u001b[0m             \u001b[0;32mif\u001b[0m \u001b[0manswer\u001b[0m\u001b[0;34m[\u001b[0m\u001b[0;36m1\u001b[0m\u001b[0;34m]\u001b[0m \u001b[0;34m==\u001b[0m \u001b[0mREFERENCE_TYPE\u001b[0m\u001b[0;34m:\u001b[0m\u001b[0;34m\u001b[0m\u001b[0;34m\u001b[0m\u001b[0m\n\u001b[0;32m--> 326\u001b[0;31m                 raise Py4JJavaError(\n\u001b[0m\u001b[1;32m    327\u001b[0m                     \u001b[0;34m\"An error occurred while calling {0}{1}{2}.\\n\"\u001b[0m\u001b[0;34m.\u001b[0m\u001b[0;34m\u001b[0m\u001b[0;34m\u001b[0m\u001b[0m\n\u001b[1;32m    328\u001b[0m                     format(target_id, \".\", name), value)\n",
      "\u001b[0;31mPy4JJavaError\u001b[0m: An error occurred while calling o48.count.\n: org.apache.spark.SparkException: Job aborted due to stage failure: Task 3 in stage 1.0 failed 1 times, most recent failure: Lost task 3.0 in stage 1.0 (TID 4) (i-040a3037cd8c11d20 executor driver): java.lang.RuntimeException: file:/sbgenomics/project-files/tcsq_variant_gene_mappings_july13.parquet/chromosome=11/part-00008-af6512ae-4e61-4bc2-8612-afa4398a2805.c000.snappy.parquet.Ab0bAf0c is not a Parquet file. expected magic number at tail [80, 65, 82, 49] but found [-43, -83, 110, -96]\n\tat org.apache.parquet.hadoop.ParquetFileReader.readFooter(ParquetFileReader.java:524)\n\tat org.apache.parquet.hadoop.ParquetFileReader.readFooter(ParquetFileReader.java:505)\n\tat org.apache.parquet.hadoop.ParquetFileReader.readFooter(ParquetFileReader.java:499)\n\tat org.apache.parquet.hadoop.ParquetFileReader.readFooter(ParquetFileReader.java:448)\n\tat org.apache.spark.sql.execution.datasources.parquet.ParquetFileFormat.footerFileMetaData$lzycompute$1(ParquetFileFormat.scala:271)\n\tat org.apache.spark.sql.execution.datasources.parquet.ParquetFileFormat.footerFileMetaData$1(ParquetFileFormat.scala:270)\n\tat org.apache.spark.sql.execution.datasources.parquet.ParquetFileFormat.$anonfun$buildReaderWithPartitionValues$2(ParquetFileFormat.scala:274)\n\tat org.apache.spark.sql.execution.datasources.FileScanRDD$$anon$1.org$apache$spark$sql$execution$datasources$FileScanRDD$$anon$$readCurrentFile(FileScanRDD.scala:116)\n\tat org.apache.spark.sql.execution.datasources.FileScanRDD$$anon$1.nextIterator(FileScanRDD.scala:169)\n\tat org.apache.spark.sql.execution.datasources.FileScanRDD$$anon$1.hasNext(FileScanRDD.scala:93)\n\tat org.apache.spark.sql.execution.FileSourceScanExec$$anon$1.hasNext(DataSourceScanExec.scala:503)\n\tat org.apache.spark.sql.catalyst.expressions.GeneratedClass$GeneratedIteratorForCodegenStage1.columnartorow_nextBatch_0$(Unknown Source)\n\tat org.apache.spark.sql.catalyst.expressions.GeneratedClass$GeneratedIteratorForCodegenStage1.agg_doAggregateWithoutKey_0$(Unknown Source)\n\tat org.apache.spark.sql.catalyst.expressions.GeneratedClass$GeneratedIteratorForCodegenStage1.processNext(Unknown Source)\n\tat org.apache.spark.sql.execution.BufferedRowIterator.hasNext(BufferedRowIterator.java:43)\n\tat org.apache.spark.sql.execution.WholeStageCodegenExec$$anon$1.hasNext(WholeStageCodegenExec.scala:755)\n\tat scala.collection.Iterator$$anon$10.hasNext(Iterator.scala:458)\n\tat org.apache.spark.shuffle.sort.BypassMergeSortShuffleWriter.write(BypassMergeSortShuffleWriter.java:132)\n\tat org.apache.spark.shuffle.ShuffleWriteProcessor.write(ShuffleWriteProcessor.scala:59)\n\tat org.apache.spark.scheduler.ShuffleMapTask.runTask(ShuffleMapTask.scala:99)\n\tat org.apache.spark.scheduler.ShuffleMapTask.runTask(ShuffleMapTask.scala:52)\n\tat org.apache.spark.scheduler.Task.run(Task.scala:131)\n\tat org.apache.spark.executor.Executor$TaskRunner.$anonfun$run$3(Executor.scala:497)\n\tat org.apache.spark.util.Utils$.tryWithSafeFinally(Utils.scala:1439)\n\tat org.apache.spark.executor.Executor$TaskRunner.run(Executor.scala:500)\n\tat java.util.concurrent.ThreadPoolExecutor.runWorker(ThreadPoolExecutor.java:1149)\n\tat java.util.concurrent.ThreadPoolExecutor$Worker.run(ThreadPoolExecutor.java:624)\n\tat java.lang.Thread.run(Thread.java:748)\n\nDriver stacktrace:\n\tat org.apache.spark.scheduler.DAGScheduler.failJobAndIndependentStages(DAGScheduler.scala:2258)\n\tat org.apache.spark.scheduler.DAGScheduler.$anonfun$abortStage$2(DAGScheduler.scala:2207)\n\tat org.apache.spark.scheduler.DAGScheduler.$anonfun$abortStage$2$adapted(DAGScheduler.scala:2206)\n\tat scala.collection.mutable.ResizableArray.foreach(ResizableArray.scala:62)\n\tat scala.collection.mutable.ResizableArray.foreach$(ResizableArray.scala:55)\n\tat scala.collection.mutable.ArrayBuffer.foreach(ArrayBuffer.scala:49)\n\tat org.apache.spark.scheduler.DAGScheduler.abortStage(DAGScheduler.scala:2206)\n\tat org.apache.spark.scheduler.DAGScheduler.$anonfun$handleTaskSetFailed$1(DAGScheduler.scala:1079)\n\tat org.apache.spark.scheduler.DAGScheduler.$anonfun$handleTaskSetFailed$1$adapted(DAGScheduler.scala:1079)\n\tat scala.Option.foreach(Option.scala:407)\n\tat org.apache.spark.scheduler.DAGScheduler.handleTaskSetFailed(DAGScheduler.scala:1079)\n\tat org.apache.spark.scheduler.DAGSchedulerEventProcessLoop.doOnReceive(DAGScheduler.scala:2445)\n\tat org.apache.spark.scheduler.DAGSchedulerEventProcessLoop.onReceive(DAGScheduler.scala:2387)\n\tat org.apache.spark.scheduler.DAGSchedulerEventProcessLoop.onReceive(DAGScheduler.scala:2376)\n\tat org.apache.spark.util.EventLoop$$anon$1.run(EventLoop.scala:49)\n\tat org.apache.spark.scheduler.DAGScheduler.runJob(DAGScheduler.scala:868)\n\tat org.apache.spark.SparkContext.runJob(SparkContext.scala:2196)\n\tat org.apache.spark.SparkContext.runJob(SparkContext.scala:2217)\n\tat org.apache.spark.SparkContext.runJob(SparkContext.scala:2236)\n\tat org.apache.spark.SparkContext.runJob(SparkContext.scala:2261)\n\tat org.apache.spark.rdd.RDD.$anonfun$collect$1(RDD.scala:1030)\n\tat org.apache.spark.rdd.RDDOperationScope$.withScope(RDDOperationScope.scala:151)\n\tat org.apache.spark.rdd.RDDOperationScope$.withScope(RDDOperationScope.scala:112)\n\tat org.apache.spark.rdd.RDD.withScope(RDD.scala:414)\n\tat org.apache.spark.rdd.RDD.collect(RDD.scala:1029)\n\tat org.apache.spark.sql.execution.SparkPlan.executeCollect(SparkPlan.scala:390)\n\tat org.apache.spark.sql.Dataset.$anonfun$count$1(Dataset.scala:3006)\n\tat org.apache.spark.sql.Dataset.$anonfun$count$1$adapted(Dataset.scala:3005)\n\tat org.apache.spark.sql.Dataset.$anonfun$withAction$1(Dataset.scala:3687)\n\tat org.apache.spark.sql.execution.SQLExecution$.$anonfun$withNewExecutionId$5(SQLExecution.scala:103)\n\tat org.apache.spark.sql.execution.SQLExecution$.withSQLConfPropagated(SQLExecution.scala:163)\n\tat org.apache.spark.sql.execution.SQLExecution$.$anonfun$withNewExecutionId$1(SQLExecution.scala:90)\n\tat org.apache.spark.sql.SparkSession.withActive(SparkSession.scala:775)\n\tat org.apache.spark.sql.execution.SQLExecution$.withNewExecutionId(SQLExecution.scala:64)\n\tat org.apache.spark.sql.Dataset.withAction(Dataset.scala:3685)\n\tat org.apache.spark.sql.Dataset.count(Dataset.scala:3005)\n\tat sun.reflect.NativeMethodAccessorImpl.invoke0(Native Method)\n\tat sun.reflect.NativeMethodAccessorImpl.invoke(NativeMethodAccessorImpl.java:62)\n\tat sun.reflect.DelegatingMethodAccessorImpl.invoke(DelegatingMethodAccessorImpl.java:43)\n\tat java.lang.reflect.Method.invoke(Method.java:498)\n\tat py4j.reflection.MethodInvoker.invoke(MethodInvoker.java:244)\n\tat py4j.reflection.ReflectionEngine.invoke(ReflectionEngine.java:357)\n\tat py4j.Gateway.invoke(Gateway.java:282)\n\tat py4j.commands.AbstractCommand.invokeMethod(AbstractCommand.java:132)\n\tat py4j.commands.CallCommand.execute(CallCommand.java:79)\n\tat py4j.GatewayConnection.run(GatewayConnection.java:238)\n\tat java.lang.Thread.run(Thread.java:748)\nCaused by: java.lang.RuntimeException: file:/sbgenomics/project-files/tcsq_variant_gene_mappings_july13.parquet/chromosome=11/part-00008-af6512ae-4e61-4bc2-8612-afa4398a2805.c000.snappy.parquet.Ab0bAf0c is not a Parquet file. expected magic number at tail [80, 65, 82, 49] but found [-43, -83, 110, -96]\n\tat org.apache.parquet.hadoop.ParquetFileReader.readFooter(ParquetFileReader.java:524)\n\tat org.apache.parquet.hadoop.ParquetFileReader.readFooter(ParquetFileReader.java:505)\n\tat org.apache.parquet.hadoop.ParquetFileReader.readFooter(ParquetFileReader.java:499)\n\tat org.apache.parquet.hadoop.ParquetFileReader.readFooter(ParquetFileReader.java:448)\n\tat org.apache.spark.sql.execution.datasources.parquet.ParquetFileFormat.footerFileMetaData$lzycompute$1(ParquetFileFormat.scala:271)\n\tat org.apache.spark.sql.execution.datasources.parquet.ParquetFileFormat.footerFileMetaData$1(ParquetFileFormat.scala:270)\n\tat org.apache.spark.sql.execution.datasources.parquet.ParquetFileFormat.$anonfun$buildReaderWithPartitionValues$2(ParquetFileFormat.scala:274)\n\tat org.apache.spark.sql.execution.datasources.FileScanRDD$$anon$1.org$apache$spark$sql$execution$datasources$FileScanRDD$$anon$$readCurrentFile(FileScanRDD.scala:116)\n\tat org.apache.spark.sql.execution.datasources.FileScanRDD$$anon$1.nextIterator(FileScanRDD.scala:169)\n\tat org.apache.spark.sql.execution.datasources.FileScanRDD$$anon$1.hasNext(FileScanRDD.scala:93)\n\tat org.apache.spark.sql.execution.FileSourceScanExec$$anon$1.hasNext(DataSourceScanExec.scala:503)\n\tat org.apache.spark.sql.catalyst.expressions.GeneratedClass$GeneratedIteratorForCodegenStage1.columnartorow_nextBatch_0$(Unknown Source)\n\tat org.apache.spark.sql.catalyst.expressions.GeneratedClass$GeneratedIteratorForCodegenStage1.agg_doAggregateWithoutKey_0$(Unknown Source)\n\tat org.apache.spark.sql.catalyst.expressions.GeneratedClass$GeneratedIteratorForCodegenStage1.processNext(Unknown Source)\n\tat org.apache.spark.sql.execution.BufferedRowIterator.hasNext(BufferedRowIterator.java:43)\n\tat org.apache.spark.sql.execution.WholeStageCodegenExec$$anon$1.hasNext(WholeStageCodegenExec.scala:755)\n\tat scala.collection.Iterator$$anon$10.hasNext(Iterator.scala:458)\n\tat org.apache.spark.shuffle.sort.BypassMergeSortShuffleWriter.write(BypassMergeSortShuffleWriter.java:132)\n\tat org.apache.spark.shuffle.ShuffleWriteProcessor.write(ShuffleWriteProcessor.scala:59)\n\tat org.apache.spark.scheduler.ShuffleMapTask.runTask(ShuffleMapTask.scala:99)\n\tat org.apache.spark.scheduler.ShuffleMapTask.runTask(ShuffleMapTask.scala:52)\n\tat org.apache.spark.scheduler.Task.run(Task.scala:131)\n\tat org.apache.spark.executor.Executor$TaskRunner.$anonfun$run$3(Executor.scala:497)\n\tat org.apache.spark.util.Utils$.tryWithSafeFinally(Utils.scala:1439)\n\tat org.apache.spark.executor.Executor$TaskRunner.run(Executor.scala:500)\n\tat java.util.concurrent.ThreadPoolExecutor.runWorker(ThreadPoolExecutor.java:1149)\n\tat java.util.concurrent.ThreadPoolExecutor$Worker.run(ThreadPoolExecutor.java:624)\n\t... 1 more\n"
     ]
    }
   ],
   "source": [
    "\n",
    "d = spark.read.parquet('/sbgenomics/project-files/tcsq_variant_gene_mappings_july13.parquet')\n",
    "print(d.count())\n",
    "d.show(3)"
   ]
  },
  {
   "cell_type": "code",
   "execution_count": 5,
   "id": "2f4d1a7c-401e-4d53-b386-453b7447295c",
   "metadata": {},
   "outputs": [
    {
     "name": "stderr",
     "output_type": "stream",
     "text": [
      "[Stage 11:=============================>                            (1 + 1) / 2]\r"
     ]
    },
    {
     "name": "stdout",
     "output_type": "stream",
     "text": [
      "143484\n",
      "+---------+---------+---------+---------+-----------------+------+-------+---------------------+--------------------+------+-----------+----------+------------+----------+\n",
      "|    start|      end|reference|alternate|unique_variant_id|  qual|INFO_DP|splitFromMultiAllelic|           genotypes|symbol|       rsID|cadd_score|eqtl_boolean|chromosome|\n",
      "+---------+---------+---------+---------+-----------------+------+-------+---------------------+--------------------+------+-----------+----------+------------+----------+\n",
      "| 10170835| 10170835|        G|        A|   3:10170835:G:A|830.77|     25|                 true|[{BS_2829KDBN, 75...|  BRK1|   rs708031|     0.439|           1|         3|\n",
      "|108332657|108332657|        G|        A|  3:108332657:G:A|565.77|     38|                 true|[{BS_2829KDBN, 99...| IFT57| rs17241659|     2.075|           1|         3|\n",
      "|111757169|111757169|        G|        A|  3:111757169:G:A|273.77|     25|                 true|[{BS_2829KDBN, 99...|PHLDB2|rs148588701|     0.943|           1|         3|\n",
      "+---------+---------+---------+---------+-----------------+------+-------+---------------------+--------------------+------+-----------+----------+------------+----------+\n",
      "only showing top 3 rows\n",
      "\n"
     ]
    },
    {
     "name": "stderr",
     "output_type": "stream",
     "text": [
      "                                                                                \r"
     ]
    }
   ],
   "source": [
    "d = spark.read.parquet('/sbgenomics/project-files/CHD_BS_2829KDBN_scored_variants.parquet')\n",
    "print(d.count())\n",
    "d.show(3)"
   ]
  },
  {
   "cell_type": "code",
   "execution_count": 2,
   "id": "30ddf9d6-e312-43bf-b468-c8bbdf397400",
   "metadata": {},
   "outputs": [
    {
     "name": "stderr",
     "output_type": "stream",
     "text": [
      "                                                                                \r"
     ]
    },
    {
     "name": "stdout",
     "output_type": "stream",
     "text": [
      "10021\n",
      "+----------+---------+---------+---------+---------+------+-------+---------------------+--------------------+--------------------+--------------------+---------+---------+---------+---------------------+\n",
      "|chromosome|    start|      end|reference|alternate|  qual|INFO_DP|splitFromMultiAllelic|           genotypes|   unique_variant_id|     unique_location|var_chrom|var_start|  var_end|var_unique_variant_id|\n",
      "+----------+---------+---------+---------+---------+------+-------+---------------------+--------------------+--------------------+--------------------+---------+---------+---------+---------------------+\n",
      "|         1|150755063|150755063|        G|        A|342.77|     27|                 true|[{BS_0302Y3N5, 99...|     1:150755063:G:A|1:150755063:15075...|        1|150755063|150755063|      1:150755063:G:A|\n",
      "|         1|150755063|150755063|        G|<NON_REF>|342.77|     27|                 true|[{BS_0302Y3N5, 99...|1:150755063:G:<NO...|1:150755063:15075...|        1|150755063|150755063|      1:150755063:G:A|\n",
      "|         1| 54329312| 54329312|        T|        C|795.77|     51|                 true|[{BS_0302Y3N5, 99...|      1:54329312:T:C| 1:54329312:54329312|        1| 54329312| 54329312|       1:54329312:T:C|\n",
      "+----------+---------+---------+---------+---------+------+-------+---------------------+--------------------+--------------------+--------------------+---------+---------+---------+---------------------+\n",
      "only showing top 3 rows\n",
      "\n"
     ]
    }
   ],
   "source": [
    "d = spark.read.parquet('/sbgenomics/project-files/find_variants_test.parquet')\n",
    "print(d.count())\n",
    "d.show(3)"
   ]
  },
  {
   "cell_type": "code",
   "execution_count": 3,
   "id": "683488b2-8979-4197-adf4-0be737c5864e",
   "metadata": {
    "collapsed": true,
    "jupyter": {
     "outputs_hidden": true
    },
    "tags": []
   },
   "outputs": [
    {
     "name": "stderr",
     "output_type": "stream",
     "text": [
      "22/07/18 12:42:23 WARN package: Truncated the string representation of a plan since it was too large. This behavior can be adjusted by setting 'spark.sql.debug.maxToStringFields'.\n"
     ]
    },
    {
     "name": "stdout",
     "output_type": "stream",
     "text": [
      "429926698\n",
      "+----------+-----+-----+-----+---------------+----------------+----+-------+---------------------+-------------------+--------------------+-------+--------------------+-----------+-----------------+----------+----------+-------+--------+-------------------+--------------+--------------+-------+---------------------+--------------------+-------------------+\n",
      "|contigName|start|  end|names|referenceAllele|alternateAlleles|qual|filters|splitFromMultiAllelic|INFO_ReadPosRankSum|INFO_InbreedingCoeff|INFO_DP|INFO_ClippingRankSum|INFO_RAW_MQ|INFO_BaseQRankSum|INFO_MLEAF|INFO_MLEAC|INFO_MQ|INFO_END|INFO_HaplotypeScore|INFO_MQRankSum|INFO_ExcessHet|INFO_DS|INFO_OLD_MULTIALLELIC|           genotypes|normalizationStatus|\n",
      "+----------+-----+-----+-----+---------------+----------------+----+-------+---------------------+-------------------+--------------------+-------+--------------------+-----------+-----------------+----------+----------+-------+--------+-------------------+--------------+--------------+-------+---------------------+--------------------+-------------------+\n",
      "|      chr1|10000|10007| null|              T|     [<NON_REF>]|null|   null|                false|               null|                null|   null|                null|       null|             null|      null|      null|   null|    null|               null|          null|          null|  false|                 null|[{BS_0302Y3N5, 0,...|      {false, null}|\n",
      "|      chr1|10007|10009| null|              A|     [<NON_REF>]|null|   null|                false|               null|                null|   null|                null|       null|             null|      null|      null|   null|    null|               null|          null|          null|  false|                 null|[{BS_0302Y3N5, 6,...|      {false, null}|\n",
      "|      chr1|10009|10011| null|              C|     [<NON_REF>]|null|   null|                false|               null|                null|   null|                null|       null|             null|      null|      null|   null|    null|               null|          null|          null|  false|                 null|[{BS_0302Y3N5, 9,...|      {false, null}|\n",
      "+----------+-----+-----+-----+---------------+----------------+----+-------+---------------------+-------------------+--------------------+-------+--------------------+-----------+-----------------+----------+----------+-------+--------+-------------------+--------------+--------------+-------+---------------------+--------------------+-------------------+\n",
      "only showing top 3 rows\n",
      "\n"
     ]
    },
    {
     "name": "stderr",
     "output_type": "stream",
     "text": [
      "                                                                                \r"
     ]
    }
   ],
   "source": [
    "d = spark.read.parquet('/sbgenomics/project-files/BS_0302Y3N5.parquet')\n",
    "print(d.count())\n",
    "d.show(3)"
   ]
  },
  {
   "cell_type": "code",
   "execution_count": 2,
   "id": "5892b6d1-1018-4b73-931c-9000f89d6487",
   "metadata": {},
   "outputs": [
    {
     "name": "stderr",
     "output_type": "stream",
     "text": [
      "                                                                                \r"
     ]
    },
    {
     "name": "stdout",
     "output_type": "stream",
     "text": [
      "147779\n",
      "+--------+--------+---------+---------+-----------------+-------+-------+---------------------+--------------------+-------------+---------+----------+------------+----------+\n",
      "|   start|     end|reference|alternate|unique_variant_id|   qual|INFO_DP|splitFromMultiAllelic|           genotypes|       symbol|     rsID|cadd_score|eqtl_boolean|chromosome|\n",
      "+--------+--------+---------+---------+-----------------+-------+-------+---------------------+--------------------+-------------+---------+----------+------------+----------+\n",
      "|10494652|10494652|        G|        T|   1:10494652:G:T| 356.77|     32|                 true|[{BS_3X3GB3T9, 99...| RP13-15M17.1| rs596537|     5.925|           1|         1|\n",
      "|15359936|15359936|        A|        C|   1:15359936:A:C|1047.77|     33|                 true|[{BS_3X3GB3T9, 99...|       CLCNKB| rs515216|     0.593|           1|         1|\n",
      "|16032190|16032190|        C|        G|   1:16032190:C:G|1510.77|     46|                 true|[{BS_3X3GB3T9, 99...|RP11-169K16.8|rs6669935|     10.53|           1|         1|\n",
      "+--------+--------+---------+---------+-----------------+-------+-------+---------------------+--------------------+-------------+---------+----------+------------+----------+\n",
      "only showing top 3 rows\n",
      "\n"
     ]
    }
   ],
   "source": [
    "\n",
    "d = spark.read.parquet('/sbgenomics/project-files/KUTD_GF_0ZR9EDHK_scored_variants.parquet')\n",
    "print(d.count())\n",
    "d.show(3)"
   ]
  },
  {
   "cell_type": "code",
   "execution_count": 3,
   "id": "3560b809-327e-40bc-821a-a57856eabde7",
   "metadata": {},
   "outputs": [
    {
     "name": "stderr",
     "output_type": "stream",
     "text": [
      "[Stage 5:=============================>                             (1 + 1) / 2]\r"
     ]
    },
    {
     "name": "stdout",
     "output_type": "stream",
     "text": [
      "472005\n",
      "+---------+---------+-----------------+------------+----------+\n",
      "|    start|      end|unique_variant_id|eqtl_boolean|chromosome|\n",
      "+---------+---------+-----------------+------------+----------+\n",
      "|100297193|100297193| 10:100297193:A:C|           0|        10|\n",
      "|100791306|100791306| 10:100791306:C:G|           1|        10|\n",
      "|101004334|101004334| 10:101004334:T:C|           1|        10|\n",
      "+---------+---------+-----------------+------------+----------+\n",
      "only showing top 3 rows\n",
      "\n"
     ]
    },
    {
     "name": "stderr",
     "output_type": "stream",
     "text": [
      "                                                                                \r"
     ]
    }
   ],
   "source": [
    "\n",
    "u = spark.read.parquet('/sbgenomics/project-files/KUTD_all_unique_variants.parquet')\n",
    "print(u.count())\n",
    "u.show(3)"
   ]
  },
  {
   "cell_type": "code",
   "execution_count": 4,
   "id": "108516d8-6ce0-4852-9158-b8af52e0498d",
   "metadata": {},
   "outputs": [
    {
     "name": "stderr",
     "output_type": "stream",
     "text": [
      "                                                                                \r"
     ]
    },
    {
     "data": {
      "text/plain": [
       "454689"
      ]
     },
     "execution_count": 4,
     "metadata": {},
     "output_type": "execute_result"
    }
   ],
   "source": [
    "u.where(col('start') == col('end')).count()  # test this for the vcf?"
   ]
  },
  {
   "cell_type": "code",
   "execution_count": 13,
   "id": "c1cda8ea-fdd2-4625-8b78-a6c3d0df1c6e",
   "metadata": {
    "collapsed": true,
    "jupyter": {
     "outputs_hidden": true
    },
    "tags": []
   },
   "outputs": [
    {
     "name": "stderr",
     "output_type": "stream",
     "text": [
      "22/07/20 16:34:45 WARN DataSource: All paths were ignored:\n",
      "  file:/sbgenomics/project-files/_11_BS_0302Y3N5_chd_scored_variants.parquet\n",
      "[Stage 45:=============================>                            (1 + 1) / 2]\r"
     ]
    },
    {
     "name": "stdout",
     "output_type": "stream",
     "text": [
      "145593\n",
      "+---------+---------+---------+---------+-----------------+-------+-------+---------------------+--------------------+-------+----------+----------+------------+----------+\n",
      "|    start|      end|reference|alternate|unique_variant_id|   qual|INFO_DP|splitFromMultiAllelic|           genotypes| symbol|      rsID|cadd_score|eqtl_boolean|chromosome|\n",
      "+---------+---------+---------+---------+-----------------+-------+-------+---------------------+--------------------+-------+----------+----------+------------+----------+\n",
      "|108332657|108332657|        G|        A|  3:108332657:G:A|1317.77|     39|                 true|[{BS_0302Y3N5, 99...|  IFT57|rs17241659|     2.075|           1|         3|\n",
      "|111871975|111871975|        A|        T|  3:111871975:A:T|1191.77|     36|                 true|[{BS_0302Y3N5, 99...|NECTIN3| rs1282931|     4.746|           1|         3|\n",
      "|114154525|114154525|        A|        G|  3:114154525:A:G|1222.77|     36|                 true|[{BS_0302Y3N5, 99...|ATP6V1A| rs2630349|      16.7|           1|         3|\n",
      "+---------+---------+---------+---------+-----------------+-------+-------+---------------------+--------------------+-------+----------+----------+------------+----------+\n",
      "only showing top 3 rows\n",
      "\n"
     ]
    },
    {
     "name": "stderr",
     "output_type": "stream",
     "text": [
      "                                                                                \r"
     ]
    }
   ],
   "source": [
    "v = spark.read.parquet('/sbgenomics/project-files/_11_BS_0302Y3N5_chd_scored_variants.parquet')\n",
    "print(v.count())\n",
    "v.show(3)"
   ]
  },
  {
   "cell_type": "code",
   "execution_count": 11,
   "id": "0ecc9f7b-12aa-4b73-8a00-22c33dbcb2d7",
   "metadata": {},
   "outputs": [
    {
     "data": {
      "text/plain": [
       "100"
      ]
     },
     "execution_count": 11,
     "metadata": {},
     "output_type": "execute_result"
    }
   ],
   "source": [
    "\n",
    "v = v.repartition(100, \"chromosome\",'start')\n",
    "\n",
    "v.rdd.getNumPartitions()"
   ]
  },
  {
   "cell_type": "code",
   "execution_count": 12,
   "id": "781524ac-556b-4178-a566-05356739be2d",
   "metadata": {
    "collapsed": true,
    "jupyter": {
     "outputs_hidden": true
    },
    "tags": []
   },
   "outputs": [
    {
     "name": "stderr",
     "output_type": "stream",
     "text": [
      "                                                                                \r"
     ]
    },
    {
     "data": {
      "text/plain": [
       "[1821,\n",
       " 1782,\n",
       " 1802,\n",
       " 1866,\n",
       " 1721,\n",
       " 1775,\n",
       " 1693,\n",
       " 1741,\n",
       " 1792,\n",
       " 1826,\n",
       " 1801,\n",
       " 1825,\n",
       " 1822,\n",
       " 1807,\n",
       " 1768,\n",
       " 1728,\n",
       " 1789,\n",
       " 1827,\n",
       " 1809,\n",
       " 1786,\n",
       " 1777,\n",
       " 1807,\n",
       " 1759,\n",
       " 1764,\n",
       " 1823,\n",
       " 1784,\n",
       " 1767,\n",
       " 1746,\n",
       " 1698,\n",
       " 1811,\n",
       " 1825,\n",
       " 1808,\n",
       " 1800,\n",
       " 1745,\n",
       " 1837,\n",
       " 1799,\n",
       " 1725,\n",
       " 1814,\n",
       " 1704,\n",
       " 1718,\n",
       " 1849,\n",
       " 1827,\n",
       " 1797,\n",
       " 1806,\n",
       " 1768,\n",
       " 1837,\n",
       " 1853,\n",
       " 1708,\n",
       " 1704,\n",
       " 1751,\n",
       " 1718,\n",
       " 1808,\n",
       " 1868,\n",
       " 1857,\n",
       " 1699,\n",
       " 1779,\n",
       " 1742,\n",
       " 1812,\n",
       " 1708,\n",
       " 1734,\n",
       " 1729,\n",
       " 1767,\n",
       " 1772,\n",
       " 1775,\n",
       " 1729,\n",
       " 1836,\n",
       " 1797,\n",
       " 1756,\n",
       " 1763,\n",
       " 1739,\n",
       " 1773,\n",
       " 1757,\n",
       " 1769,\n",
       " 1767,\n",
       " 1718,\n",
       " 1795,\n",
       " 1732,\n",
       " 1705,\n",
       " 1806,\n",
       " 1765,\n",
       " 1694,\n",
       " 1739,\n",
       " 1768,\n",
       " 1894,\n",
       " 1705,\n",
       " 1760,\n",
       " 1787,\n",
       " 1777,\n",
       " 1818,\n",
       " 1801,\n",
       " 1750,\n",
       " 1680,\n",
       " 1746,\n",
       " 1870,\n",
       " 1774,\n",
       " 1814,\n",
       " 1727,\n",
       " 1697,\n",
       " 1723,\n",
       " 1791]"
      ]
     },
     "execution_count": 12,
     "metadata": {},
     "output_type": "execute_result"
    }
   ],
   "source": [
    "v.rdd.mapPartitions(lambda it: [sum(1 for _ in it)]).collect()"
   ]
  },
  {
   "cell_type": "code",
   "execution_count": null,
   "id": "c68ea2f6-7724-41ce-aca6-3c35e03cc7e9",
   "metadata": {},
   "outputs": [],
   "source": [
    "v.repartitionByRange(23, \"chromosome\").write\\\n",
    "      .mode('overwrite')\\\n",
    "      .partitionBy(\"chromosome\")\\\n",
    "      .parquet(\"eqtl_highImpact_scored_july8.parquet\")"
   ]
  },
  {
   "cell_type": "code",
   "execution_count": 16,
   "id": "a77bdf92-6d74-467c-bc5e-529dbf4e10c4",
   "metadata": {},
   "outputs": [
    {
     "name": "stderr",
     "output_type": "stream",
     "text": [
      "                                                                                \r"
     ]
    }
   ],
   "source": [
    "v.write.partitionBy(\"chromosome\").parquet(\"temp_eqtl_highImpact_scored_july8.parquet\")"
   ]
  },
  {
   "cell_type": "code",
   "execution_count": 7,
   "id": "fa87b5c0-ff35-40ae-bd19-97ecd49891bd",
   "metadata": {},
   "outputs": [],
   "source": [
    "!rm -r temp_BS_0302Y3N5.parquet"
   ]
  },
  {
   "cell_type": "code",
   "execution_count": 18,
   "id": "67d64909-092d-415e-9cb9-05666a36d776",
   "metadata": {},
   "outputs": [],
   "source": [
    "mv temp_eqtl_highImpact_scored_july8.parquet/  /sbgenomics/output-files/"
   ]
  },
  {
   "cell_type": "code",
   "execution_count": 5,
   "id": "947f4cf7-66db-4e7c-a2f2-be85042d980e",
   "metadata": {},
   "outputs": [
    {
     "name": "stderr",
     "output_type": "stream",
     "text": [
      "                                                                                \r"
     ]
    },
    {
     "name": "stdout",
     "output_type": "stream",
     "text": [
      "145593\n",
      "+---------+---------+---------+---------+-----------------+-------+-------+---------------------+--------------------+------------+----------+----------+------------+----------+\n",
      "|    start|      end|reference|alternate|unique_variant_id|   qual|INFO_DP|splitFromMultiAllelic|           genotypes|      symbol|      rsID|cadd_score|eqtl_boolean|chromosome|\n",
      "+---------+---------+---------+---------+-----------------+-------+-------+---------------------+--------------------+------------+----------+----------+------------+----------+\n",
      "|100285499|100285499|        G|        C|  1:100285499:G:C|1489.77|     45|                 true|[{BS_0302Y3N5, 99...|        RTCA|rs10875286|     0.417|           1|         1|\n",
      "|111211500|111211500|        T|        G|  1:111211500:T:G| 101.77|      8|                 true|[{BS_0302Y3N5, 99...|RP11-96K19.4|rs12043624|     0.603|           1|         1|\n",
      "|111613401|111613401|        G|        A|  1:111613401:G:A| 984.77|     30|                 true|[{BS_0302Y3N5, 90...|       KCNA3|  rs576993|     1.394|           1|         1|\n",
      "+---------+---------+---------+---------+-----------------+-------+-------+---------------------+--------------------+------------+----------+----------+------------+----------+\n",
      "only showing top 3 rows\n",
      "\n"
     ]
    }
   ],
   "source": [
    "\n",
    "a = spark.read.parquet('/sbgenomics/project-files/CHD_BS_0302Y3N5_scored_variants.parquet')\n",
    "print(a.count())\n",
    "a.show(3)"
   ]
  },
  {
   "cell_type": "code",
   "execution_count": 6,
   "id": "917215f8-d79c-485a-b6d9-619c48d20a95",
   "metadata": {},
   "outputs": [
    {
     "name": "stderr",
     "output_type": "stream",
     "text": [
      "                                                                                \r"
     ]
    },
    {
     "data": {
      "text/plain": [
       "4937"
      ]
     },
     "execution_count": 6,
     "metadata": {},
     "output_type": "execute_result"
    }
   ],
   "source": [
    "a.where(col('eqtl_boolean') == 0).count()"
   ]
  },
  {
   "cell_type": "code",
   "execution_count": 7,
   "id": "c1874066-1abf-4d45-9f53-ffcc628a339a",
   "metadata": {},
   "outputs": [
    {
     "name": "stderr",
     "output_type": "stream",
     "text": [
      "                                                                                \r"
     ]
    },
    {
     "data": {
      "text/plain": [
       "4998"
      ]
     },
     "execution_count": 7,
     "metadata": {},
     "output_type": "execute_result"
    }
   ],
   "source": [
    "a.drop_duplicates().count()"
   ]
  },
  {
   "cell_type": "code",
   "execution_count": 6,
   "id": "cbb56a15-ea6d-482f-ac48-c25174dbe688",
   "metadata": {},
   "outputs": [
    {
     "data": {
      "text/plain": [
       "Counter({-9: 326, 2: 1031, 1: 3112, 0: 569})"
      ]
     },
     "execution_count": 6,
     "metadata": {},
     "output_type": "execute_result"
    }
   ],
   "source": [
    "Counter(list(a.select('AdditiveGenotype').toPandas()['AdditiveGenotype']) )"
   ]
  },
  {
   "cell_type": "code",
   "execution_count": null,
   "id": "1409b136-5fcf-45aa-a4bc-7b114975481d",
   "metadata": {},
   "outputs": [],
   "source": []
  },
  {
   "cell_type": "code",
   "execution_count": 3,
   "id": "6cb6e4e8-44d4-424c-95a1-e28bac08adb8",
   "metadata": {
    "tags": []
   },
   "outputs": [
    {
     "name": "stderr",
     "output_type": "stream",
     "text": [
      "22/07/08 18:04:03 WARN package: Truncated the string representation of a plan since it was too large. This behavior can be adjusted by setting 'spark.sql.debug.maxToStringFields'.\n"
     ]
    },
    {
     "name": "stdout",
     "output_type": "stream",
     "text": [
      "429926698\n"
     ]
    },
    {
     "name": "stderr",
     "output_type": "stream",
     "text": [
      "[Stage 3:>                                                          (0 + 1) / 1]\r"
     ]
    },
    {
     "name": "stdout",
     "output_type": "stream",
     "text": [
      "+----------+-----+-----+-----+---------------+----------------+----+-------+---------------------+-------------------+--------------------+-------+--------------------+-----------+-----------------+----------+----------+-------+--------+-------------------+--------------+--------------+-------+---------------------+--------------------+-------------------+\n",
      "|contigName|start|  end|names|referenceAllele|alternateAlleles|qual|filters|splitFromMultiAllelic|INFO_ReadPosRankSum|INFO_InbreedingCoeff|INFO_DP|INFO_ClippingRankSum|INFO_RAW_MQ|INFO_BaseQRankSum|INFO_MLEAF|INFO_MLEAC|INFO_MQ|INFO_END|INFO_HaplotypeScore|INFO_MQRankSum|INFO_ExcessHet|INFO_DS|INFO_OLD_MULTIALLELIC|           genotypes|normalizationStatus|\n",
      "+----------+-----+-----+-----+---------------+----------------+----+-------+---------------------+-------------------+--------------------+-------+--------------------+-----------+-----------------+----------+----------+-------+--------+-------------------+--------------+--------------+-------+---------------------+--------------------+-------------------+\n",
      "|      chr1|10000|10007| null|              T|     [<NON_REF>]|null|   null|                false|               null|                null|   null|                null|       null|             null|      null|      null|   null|    null|               null|          null|          null|  false|                 null|[{BS_0302Y3N5, 0,...|      {false, null}|\n",
      "|      chr1|10007|10009| null|              A|     [<NON_REF>]|null|   null|                false|               null|                null|   null|                null|       null|             null|      null|      null|   null|    null|               null|          null|          null|  false|                 null|[{BS_0302Y3N5, 6,...|      {false, null}|\n",
      "|      chr1|10009|10011| null|              C|     [<NON_REF>]|null|   null|                false|               null|                null|   null|                null|       null|             null|      null|      null|   null|    null|               null|          null|          null|  false|                 null|[{BS_0302Y3N5, 9,...|      {false, null}|\n",
      "+----------+-----+-----+-----+---------------+----------------+----+-------+---------------------+-------------------+--------------------+-------+--------------------+-----------+-----------------+----------+----------+-------+--------+-------------------+--------------+--------------+-------+---------------------+--------------------+-------------------+\n",
      "only showing top 3 rows\n",
      "\n"
     ]
    },
    {
     "name": "stderr",
     "output_type": "stream",
     "text": [
      "                                                                                \r"
     ]
    }
   ],
   "source": [
    "r = spark.read.parquet('/sbgenomics/project-files/BS_0302Y3N5.parquet')\n",
    "print(r.count())\n",
    "r.show(3)"
   ]
  },
  {
   "cell_type": "code",
   "execution_count": 3,
   "id": "1b5e8927-2262-463e-a837-252c91367d6e",
   "metadata": {},
   "outputs": [
    {
     "name": "stderr",
     "output_type": "stream",
     "text": [
      "22/07/13 13:04:32 WARN DataSource: All paths were ignored:\n",
      "  file:/sbgenomics/project-files/_3_BS_0302Y3N5_chd_scored_variants.parquet\n",
      "                                                                                \r"
     ]
    },
    {
     "name": "stdout",
     "output_type": "stream",
     "text": [
      "177482\n",
      "+---------+---------+---------+---------+-----------------+-------+-------+---------------------+--------------------+------+---------+----------+------------+----------+\n",
      "|    start|      end|reference|alternate|unique_variant_id|   qual|INFO_DP|splitFromMultiAllelic|           genotypes|symbol|     rsID|cadd_score|eqtl_boolean|chromosome|\n",
      "+---------+---------+---------+---------+-----------------+-------+-------+---------------------+--------------------+------+---------+----------+------------+----------+\n",
      "|151679984|151679984|        T|        A|  2:151679984:T:A|1290.77|     39|                 true|[{BS_0302Y3N5, 99...|      |         |      22.6|           0|         2|\n",
      "| 30986013| 30986013|        A|        G|   2:30986013:A:G| 516.77|     45|                 true|[{BS_0302Y3N5, 99...|      |         |      20.1|           0|         2|\n",
      "| 68653304| 68653304|        T|        C|   2:68653304:T:C| 399.77|     31|                 true|[{BS_0302Y3N5, 99...|PROKR1|rs4627609|     8.749|           1|         2|\n",
      "+---------+---------+---------+---------+-----------------+-------+-------+---------------------+--------------------+------+---------+----------+------------+----------+\n",
      "only showing top 3 rows\n",
      "\n"
     ]
    }
   ],
   "source": [
    "\n",
    "s = spark.read.parquet('/sbgenomics/project-files/_3_BS_0302Y3N5_chd_scored_variants.parquet')\n",
    "print(s.count())\n",
    "s.show(3)"
   ]
  },
  {
   "cell_type": "code",
   "execution_count": 20,
   "id": "2f048095-a970-4c5f-be28-e9bc87280631",
   "metadata": {},
   "outputs": [
    {
     "name": "stderr",
     "output_type": "stream",
     "text": [
      "                                                                                \r"
     ]
    },
    {
     "name": "stdout",
     "output_type": "stream",
     "text": [
      "4950\n",
      "172532\n"
     ]
    }
   ],
   "source": [
    "print(r.where(col('eqtl_boolean') == 0).count())\n",
    "print(r.where(col('eqtl_boolean') == 1).count())"
   ]
  },
  {
   "cell_type": "code",
   "execution_count": 17,
   "id": "1cc201fe-b809-4c48-966a-eb5da1b3ec3b",
   "metadata": {},
   "outputs": [
    {
     "name": "stdout",
     "output_type": "stream",
     "text": [
      "+--------+--------+---------+---------+-----------------+-------+------+----+----------+------------+----------+\n",
      "|   start|     end|reference|alternate|unique_variant_id|INFO_DP|symbol|rsID|cadd_score|eqtl_boolean|chromosome|\n",
      "+--------+--------+---------+---------+-----------------+-------+------+----+----------+------------+----------+\n",
      "| 3140577| 3140577|        A|        G|    1:3140577:A:G|     40|      |    |      20.7|           0|         1|\n",
      "| 3140577| 3140577|        A|        G|    1:3140577:A:G|     40|      |    |      20.7|           0|         1|\n",
      "|16058547|16058547|        G|        A|   1:16058547:G:A|     72|      |    |      21.1|           0|         1|\n",
      "|16058547|16058547|        G|        A|   1:16058547:G:A|     72|      |    |      21.1|           0|         1|\n",
      "+--------+--------+---------+---------+-----------------+-------+------+----+----------+------------+----------+\n",
      "only showing top 4 rows\n",
      "\n"
     ]
    }
   ],
   "source": [
    "r.where(col('eqtl_boolean') == 0).drop('splitFromMultiAllelic','genotypes','qual').show(4)#.dropDuplicates().count()"
   ]
  },
  {
   "cell_type": "code",
   "execution_count": 16,
   "id": "429eb96a-921c-46c4-a075-1c765116d267",
   "metadata": {},
   "outputs": [
    {
     "name": "stdout",
     "output_type": "stream",
     "text": [
      "+--------+--------+---------+---------+-----------------+-------+-------------+---------+----------+------------+----------+\n",
      "|   start|     end|reference|alternate|unique_variant_id|INFO_DP|       symbol|     rsID|cadd_score|eqtl_boolean|chromosome|\n",
      "+--------+--------+---------+---------+-----------------+-------+-------------+---------+----------+------------+----------+\n",
      "|10494652|10494652|        G|        T|   1:10494652:G:T|     47| RP13-15M17.1| rs596537|     5.925|           1|         1|\n",
      "|15359936|15359936|        A|        C|   1:15359936:A:C|     28|       CLCNKB| rs515216|     0.593|           1|         1|\n",
      "|16032190|16032190|        C|        G|   1:16032190:C:G|     33|RP11-169K16.8|rs6669935|     10.53|           1|         1|\n",
      "|16032190|16032190|        C|        G|   1:16032190:C:G|     33|       CLCNKA|rs6669935|     10.53|           1|         1|\n",
      "+--------+--------+---------+---------+-----------------+-------+-------------+---------+----------+------------+----------+\n",
      "only showing top 4 rows\n",
      "\n"
     ]
    }
   ],
   "source": [
    "r.where(col('eqtl_boolean') == 1).drop('splitFromMultiAllelic','genotypes','qual').show(4)#.dropDuplicates().count()"
   ]
  },
  {
   "cell_type": "code",
   "execution_count": 5,
   "id": "7bfc772b-f1e8-4e66-9a08-5dc34336b385",
   "metadata": {},
   "outputs": [
    {
     "name": "stderr",
     "output_type": "stream",
     "text": [
      "                                                                                \r"
     ]
    },
    {
     "data": {
      "text/plain": [
       "0"
      ]
     },
     "execution_count": 5,
     "metadata": {},
     "output_type": "execute_result"
    }
   ],
   "source": [
    "r.where((col('eqtl_boolean') != 0) & (col('eqtl_boolean') != 1)).count()\n"
   ]
  },
  {
   "cell_type": "code",
   "execution_count": 11,
   "id": "6e06238c-dc54-487c-9712-839736933d02",
   "metadata": {
    "collapsed": true,
    "jupyter": {
     "outputs_hidden": true
    },
    "tags": []
   },
   "outputs": [
    {
     "name": "stdout",
     "output_type": "stream",
     "text": [
      "+---------+---------+---------+---------+-----------------+-------+-------+---------------------+--------------------+-------------+----------+-------------------+----------+\n",
      "|    start|      end|reference|alternate|unique_variant_id|   qual|INFO_DP|splitFromMultiAllelic|           genotypes|       symbol|      rsID|         cadd_score|chromosome|\n",
      "+---------+---------+---------+---------+-----------------+-------+-------+---------------------+--------------------+-------------+----------+-------------------+----------+\n",
      "| 49061855| 49061855|        C|        A|   4:49061855:C:A| 622.77|     38|                 true|[{BS_0302Y3N5, 99...|             |          |               23.6|         4|\n",
      "|181670782|181670782|        A|        C|  4:181670782:A:C|1411.77|     42|                 true|[{BS_0302Y3N5, 99...|             |          |               21.7|         4|\n",
      "| 84038487| 84038487|        T|        C|   4:84038487:T:C| 459.77|     34|                 true|[{BS_0302Y3N5, 99...|             |          |               21.1|         4|\n",
      "| 27344943| 27344943|        T|        A|   4:27344943:T:A| 647.77|     45|                 true|[{BS_0302Y3N5, 99...|             |          |               20.6|         4|\n",
      "| 76724057| 76724057|        T|        G|   4:76724057:T:G| 434.77|     42|                 true|[{BS_0302Y3N5, 99...|      SHROOM3|  rs344094|              10.91|         4|\n",
      "|186085378|186085378|        T|        C|  4:186085378:T:C| 409.77|     45|                 true|[{BS_0302Y3N5, 99...|         TLR3|rs28524783|              0.227|         4|\n",
      "|184687707|184687707|        C|        T|  4:184687707:C:T|1421.77|     42|                 true|[{BS_0302Y3N5, 99...|        CENPU| rs6552800|              2.237|         4|\n",
      "| 82600109| 82600109|        G|        A|   4:82600109:G:A| 661.77|     44|                 true|[{BS_0302Y3N5, 99...|RP11-791G16.2| rs4693465|              0.472|         4|\n",
      "| 11590463| 11590463|        T|        G|   4:11590463:T:G|1261.77|     38|                 true|[{BS_0302Y3N5, 99...|RP11-281P23.2| rs6448794|              8.032|         4|\n",
      "| 22417300| 22417300|        A|        C|   4:22417300:A:C| 403.77|     41|                 true|[{BS_0302Y3N5, 99...|       ADGRA3|rs77570708|              2.872|         4|\n",
      "|  3821605|  3821605|        T|        C|    4:3821605:T:C| 666.77|     44|                 true|[{BS_0302Y3N5, 99...|        STX18|rs28564590|               3.19|         4|\n",
      "|  4322138|  4322138|        G|        A|    4:4322138:G:A| 525.77|     35|                 true|[{BS_0302Y3N5, 99...|         LYAR|  rs894484|              0.159|         4|\n",
      "| 47820797| 47820797|        C|        T|   4:47820797:C:T| 673.77|     49|                 true|[{BS_0302Y3N5, 99...|        CORIN|rs10049713|               2.94|         4|\n",
      "|185258081|185258081|        G|        C|  4:185258081:G:C|1495.77|     45|                 true|[{BS_0302Y3N5, 99...|        SNX25| rs3112855|              0.055|         4|\n",
      "|  6242553|  6242553|        G|        A|    4:6242553:G:A| 479.77|     36|                 true|[{BS_0302Y3N5, 99...|       CCDC96| rs9994029|0.17800000000000002|         4|\n",
      "|170139484|170139484|        G|        A|  4:170139484:G:A| 572.77|     47|                 true|[{BS_0302Y3N5, 99...|        AADAT|  rs530563|              0.056|         4|\n",
      "| 37602431| 37602431|        C|        G|   4:37602431:C:G| 844.77|     27|                 true|[{BS_0302Y3N5, 81...|       TBC1D1| rs2973279|              0.821|         4|\n",
      "|121776263|121776263|        T|        G|  4:121776263:T:G| 752.77|     49|                 true|[{BS_0302Y3N5, 99...|        CCNA2| rs6855269|              12.66|         4|\n",
      "|  6710329|  6710329|        A|        C|    4:6710329:A:C|1088.77|     33|                 true|[{BS_0302Y3N5, 99...|     MRFAP1L1|rs10937751|              1.654|         4|\n",
      "|184830609|184830609|        A|        G|  4:184830609:A:G|1091.77|     39|                 true|[{BS_0302Y3N5, 99...|        ACSL1| rs6828518|              0.298|         4|\n",
      "+---------+---------+---------+---------+-----------------+-------+-------+---------------------+--------------------+-------------+----------+-------------------+----------+\n",
      "only showing top 20 rows\n",
      "\n"
     ]
    }
   ],
   "source": [
    "r.sample(1/100).show()"
   ]
  },
  {
   "cell_type": "code",
   "execution_count": 5,
   "id": "116ce255-3ae4-4442-96e2-575c9dcdd837",
   "metadata": {
    "collapsed": true,
    "jupyter": {
     "outputs_hidden": true
    },
    "tags": []
   },
   "outputs": [
    {
     "name": "stdout",
     "output_type": "stream",
     "text": [
      "+-------+-------+---------+---------+-----------------+-------+-------+---------------------+--------------------+------+----+----------+----------+\n",
      "|  start|    end|reference|alternate|unique_variant_id|   qual|INFO_DP|splitFromMultiAllelic|           genotypes|symbol|rsID|cadd_score|chromosome|\n",
      "+-------+-------+---------+---------+-----------------+-------+-------+---------------------+--------------------+------+----+----------+----------+\n",
      "|6935535|6935535|        A|        G|    1:6935535:A:G|1445.77|     44|                 true|[{BS_0302Y3N5, 99...|      |    |      21.4|         1|\n",
      "|6935535|6935535|        A|        G|    1:6935535:A:G|1445.77|     44|                 true|[{BS_0302Y3N5, 99...|      |    |      21.4|         1|\n",
      "+-------+-------+---------+---------+-----------------+-------+-------+---------------------+--------------------+------+----+----------+----------+\n",
      "\n"
     ]
    }
   ],
   "source": [
    "r.where(col('unique_variant_id') == '1:6935535:A:G').show()"
   ]
  },
  {
   "cell_type": "code",
   "execution_count": 4,
   "id": "42eff51a-206b-40a3-af17-25c9970c0b40",
   "metadata": {
    "collapsed": true,
    "jupyter": {
     "outputs_hidden": true
    },
    "tags": []
   },
   "outputs": [
    {
     "name": "stderr",
     "output_type": "stream",
     "text": [
      "[Stage 6:=============================>                             (1 + 1) / 2]\r"
     ]
    },
    {
     "name": "stdout",
     "output_type": "stream",
     "text": [
      "+---------+---------+---------+---------+-----------------+-------+--------------------+------+----+----------+----------+-----+\n",
      "|    start|      end|reference|alternate|unique_variant_id|INFO_DP|           genotypes|symbol|rsID|cadd_score|chromosome|count|\n",
      "+---------+---------+---------+---------+-----------------+-------+--------------------+------+----+----------+----------+-----+\n",
      "|  6935535|  6935535|        A|        G|    1:6935535:A:G|     44|[{BS_0302Y3N5, 99...|      |    |      21.4|         1|    2|\n",
      "| 57329846| 57329846|        A|        G|   1:57329846:A:G|     47|[{BS_0302Y3N5, 99...|      |    |      20.8|         1|    2|\n",
      "| 60211060| 60211060|        C|        T|  17:60211060:C:T|     51|[{BS_0302Y3N5, 35...|      |    |      24.3|        17|    2|\n",
      "| 18120952| 18120952|        T|        G|  17:18120952:T:G|     24|[{BS_0302Y3N5, 99...|      |    |      22.4|        17|    2|\n",
      "| 53654807| 53654807|        C|        T|   6:53654807:C:T|     44|[{BS_0302Y3N5, 99...|      |    |      20.3|         6|    2|\n",
      "| 40721582| 40721582|        G|        T|   6:40721582:G:T|     43|[{BS_0302Y3N5, 99...|      |    |      20.1|         6|    2|\n",
      "|114714160|114714160|        A|        G|  6:114714160:A:G|     35|[{BS_0302Y3N5, 99...|      |    |      20.7|         6|    2|\n",
      "|141464781|141464781|        C|        G|  6:141464781:C:G|     43|[{BS_0302Y3N5, 99...|      |    |      20.6|         6|    2|\n",
      "|125519958|125519958|        A|        G|  6:125519958:A:G|     37|[{BS_0302Y3N5, 99...|      |    |      20.8|         6|    2|\n",
      "|150562658|150562658|        C|        G|  3:150562658:C:G|     32|[{BS_0302Y3N5, 96...|      |    |      20.8|         3|    2|\n",
      "|194341178|194341178|        G|        A|  3:194341178:G:A|     27|[{BS_0302Y3N5, 81...|      |    |        35|         3|    2|\n",
      "| 60154518| 60154518|        G|        C|   3:60154518:G:C|     41|[{BS_0302Y3N5, 99...|      |    |      20.5|         3|    2|\n",
      "|161503917|161503917|        A|        C|  3:161503917:A:C|     35|[{BS_0302Y3N5, 99...|      |    |      25.4|         3|    2|\n",
      "|147695510|147695510|        G|        A|  2:147695510:G:A|     39|[{BS_0302Y3N5, 99...|      |    |      20.6|         2|    2|\n",
      "|170680435|170680435|        T|        C|  2:170680435:T:C|     45|[{BS_0302Y3N5, 99...|      |    |      20.3|         2|    2|\n",
      "|157790184|157790184|        G|        A|  2:157790184:G:A|     40|[{BS_0302Y3N5, 99...|      |    |      20.7|         2|    2|\n",
      "|177219496|177219496|        T|        C|  1:177219496:T:C|     42|[{BS_0302Y3N5, 99...|      |    |      21.4|         1|    2|\n",
      "| 41439915| 41439915|        G|        C|  12:41439915:G:C|     49|[{BS_0302Y3N5, 99...|      |    |      20.6|        12|    2|\n",
      "| 98788375| 98788375|        A|        C|  14:98788375:A:C|     48|[{BS_0302Y3N5, 99...|      |    |      20.9|        14|    2|\n",
      "| 76314108| 76314108|        A|        C|  14:76314108:A:C|     32|[{BS_0302Y3N5, 86...|      |    |      22.6|        14|    2|\n",
      "+---------+---------+---------+---------+-----------------+-------+--------------------+------+----+----------+----------+-----+\n",
      "only showing top 20 rows\n",
      "\n"
     ]
    },
    {
     "name": "stderr",
     "output_type": "stream",
     "text": [
      "                                                                                \r"
     ]
    }
   ],
   "source": [
    "d = r.groupBy(r.columns).count().filter(\"count > 1\")\n",
    "#d.drop('count')\n",
    "d.drop('splitFromMultiAllelic','qual').show()"
   ]
  },
  {
   "cell_type": "code",
   "execution_count": 41,
   "id": "87dbb6fb-7440-4b8c-946d-0b4fea476e77",
   "metadata": {},
   "outputs": [
    {
     "name": "stderr",
     "output_type": "stream",
     "text": [
      "                                                                                \r"
     ]
    },
    {
     "data": {
      "text/plain": [
       "18419"
      ]
     },
     "execution_count": 41,
     "metadata": {},
     "output_type": "execute_result"
    }
   ],
   "source": [
    "has_genes = r.where(col('symbol') != '')\n",
    "no_genes = r.where(col('symbol') == '')\n",
    "no_genes.count()"
   ]
  },
  {
   "cell_type": "code",
   "execution_count": 2,
   "id": "80ac2264-feec-450d-8dc8-8e6479e01af9",
   "metadata": {},
   "outputs": [
    {
     "name": "stderr",
     "output_type": "stream",
     "text": [
      "                                                                                \r"
     ]
    },
    {
     "name": "stdout",
     "output_type": "stream",
     "text": [
      "3842291\n",
      "+----------+-------+---------+---------+-----------+------+\n",
      "|chromosome|  start|reference|alternate|       rsID|symbol|\n",
      "+----------+-------+---------+---------+-----------+------+\n",
      "|        10|1041549|        T|        A|rs139754347|  IDI1|\n",
      "|        10|1246418|        T|        A|rs376467079|ADARB2|\n",
      "|        10|1355210|        C|      CTT| rs55913100|ADARB2|\n",
      "+----------+-------+---------+---------+-----------+------+\n",
      "only showing top 3 rows\n",
      "\n"
     ]
    }
   ],
   "source": [
    "gene_map = spark.read.parquet('/sbgenomics/project-files/tcsq_variant_gene_mappings_july13.parquet')\n",
    "print(gene_map.count())\n",
    "gene_map.show(3)"
   ]
  },
  {
   "cell_type": "code",
   "execution_count": null,
   "id": "e71a0673-956b-4040-bf88-177d1d862a88",
   "metadata": {},
   "outputs": [],
   "source": [
    "gene_map = spark.read.option(\"mode\", \"DROPMALFORMED\").parquet('/sbgenomics/project-files/tcsq_variant_gene_mappings_july4_3.parquet')\n",
    "print(gene_map.count())\n",
    "gene_map.show(3)"
   ]
  },
  {
   "cell_type": "code",
   "execution_count": 37,
   "id": "78fcc3d2-8abd-4f80-836d-342b8b8d799c",
   "metadata": {},
   "outputs": [],
   "source": [
    "gene_map = gene_map.withColumn('unique_variant_id',concat(col(\"chromosome\"), lit(\":\"),\n",
    "                                                   col(\"start\"),lit(':'),col('reference'),\n",
    "                                                   lit(':'),col('alternate')))"
   ]
  },
  {
   "cell_type": "code",
   "execution_count": 42,
   "id": "35e9af23-88e9-40a2-9bc1-66d0c168e5f5",
   "metadata": {
    "collapsed": true,
    "jupyter": {
     "outputs_hidden": true
    },
    "tags": []
   },
   "outputs": [
    {
     "name": "stderr",
     "output_type": "stream",
     "text": [
      "                                                                                \r"
     ]
    },
    {
     "name": "stdout",
     "output_type": "stream",
     "text": [
      "3703\n"
     ]
    },
    {
     "name": "stderr",
     "output_type": "stream",
     "text": [
      "[Stage 48:=============================>                            (1 + 1) / 2]\r"
     ]
    },
    {
     "name": "stdout",
     "output_type": "stream",
     "text": [
      "+-----------------+--------+--------+---------+---------+------+-------+--------------------+----------+----------+-------+--------+\n",
      "|unique_variant_id|   start|     end|reference|alternate|  qual|INFO_DP|           genotypes|cadd_score|chromosome| symbol|    rsID|\n",
      "+-----------------+--------+--------+---------+---------+------+-------+--------------------+----------+----------+-------+--------+\n",
      "|   6:32828974:T:C|32828974|32828974|        T|        C|255.77|     23|[{BS_0302Y3N5, 99...|      22.6|         6|   TAP2|rs241447|\n",
      "|   6:32828974:T:C|32828974|32828974|        T|        C|255.77|     23|[{BS_0302Y3N5, 99...|      22.6|         6|   TAP2|rs241447|\n",
      "|   6:31636814:C:T|31636814|31636814|        C|        T|327.77|     37|[{BS_0302Y3N5, 99...|      23.5|         6|MIR6832| rs10885|\n",
      "+-----------------+--------+--------+---------+---------+------+-------+--------------------+----------+----------+-------+--------+\n",
      "only showing top 3 rows\n",
      "\n"
     ]
    },
    {
     "name": "stderr",
     "output_type": "stream",
     "text": [
      "                                                                                \r"
     ]
    }
   ],
   "source": [
    "genes_added = no_genes.drop('symbol','rsID').join(gene_map.select('unique_variant_id','symbol','rsID'),['unique_variant_id'],'inner')\n",
    "print(genes_added.count())\n",
    "genes_added.drop('splitFromMultiAllelic').show(3)"
   ]
  },
  {
   "cell_type": "code",
   "execution_count": 43,
   "id": "3afca05a-7f8c-494d-973e-f7ada0b87ee8",
   "metadata": {},
   "outputs": [
    {
     "name": "stderr",
     "output_type": "stream",
     "text": [
      "                                                                                \r"
     ]
    },
    {
     "data": {
      "text/plain": [
       "15862"
      ]
     },
     "execution_count": 43,
     "metadata": {},
     "output_type": "execute_result"
    }
   ],
   "source": [
    "missing_genes = no_genes.drop('symbol','rsID').join(gene_map.select('unique_variant_id','symbol','rsID'),\n",
    "                                                  ['unique_variant_id'],'left_anti')\n",
    "missing_genes.count()"
   ]
  },
  {
   "cell_type": "code",
   "execution_count": 14,
   "id": "6e01481b-313d-496c-b174-548e8f42311b",
   "metadata": {},
   "outputs": [
    {
     "name": "stderr",
     "output_type": "stream",
     "text": [
      "                                                                                \r"
     ]
    }
   ],
   "source": [
    "eqtl_highImpact_scored"
   ]
  },
  {
   "cell_type": "code",
   "execution_count": 15,
   "id": "aed498b2-06e4-4b56-8ef8-74066378a7bd",
   "metadata": {
    "tags": []
   },
   "outputs": [
    {
     "name": "stderr",
     "output_type": "stream",
     "text": [
      "/opt/conda/lib/python3.9/site-packages/IPython/core/interactiveshell.py:3172: DtypeWarning: Columns (7) have mixed types.Specify dtype option on import or set low_memory=False.\n",
      "  has_raised = await self.run_ast_nodes(code_ast.body, cell_name,\n"
     ]
    },
    {
     "data": {
      "text/plain": [
       "1205593"
      ]
     },
     "execution_count": 15,
     "metadata": {},
     "output_type": "execute_result"
    }
   ],
   "source": [
    "eqtl_highImpact_scored_pandas = pd.read_csv('/sbgenomics/project-files/eqtl_highImpact_scored.parquet')\n",
    "len(eqtl_highImpact_scored_pandas)"
   ]
  },
  {
   "cell_type": "code",
   "execution_count": 16,
   "id": "488ab71f-9b02-429e-80a7-30921ee87233",
   "metadata": {},
   "outputs": [
    {
     "data": {
      "text/html": [
       "<div>\n",
       "<style scoped>\n",
       "    .dataframe tbody tr th:only-of-type {\n",
       "        vertical-align: middle;\n",
       "    }\n",
       "\n",
       "    .dataframe tbody tr th {\n",
       "        vertical-align: top;\n",
       "    }\n",
       "\n",
       "    .dataframe thead th {\n",
       "        text-align: right;\n",
       "    }\n",
       "</style>\n",
       "<table border=\"1\" class=\"dataframe\">\n",
       "  <thead>\n",
       "    <tr style=\"text-align: right;\">\n",
       "      <th></th>\n",
       "      <th>unique_variant_id</th>\n",
       "      <th>start</th>\n",
       "      <th>reference</th>\n",
       "      <th>alternate</th>\n",
       "      <th>rsID</th>\n",
       "      <th>symbol</th>\n",
       "      <th>eqtl_boolean</th>\n",
       "      <th>chromosome</th>\n",
       "      <th>cadd_score</th>\n",
       "    </tr>\n",
       "  </thead>\n",
       "  <tbody>\n",
       "    <tr>\n",
       "      <th>0</th>\n",
       "      <td>1:100285499:G:C</td>\n",
       "      <td>100285499</td>\n",
       "      <td>G</td>\n",
       "      <td>C</td>\n",
       "      <td>rs10875286</td>\n",
       "      <td>RTCA</td>\n",
       "      <td>1</td>\n",
       "      <td>1</td>\n",
       "      <td>0.417</td>\n",
       "    </tr>\n",
       "    <tr>\n",
       "      <th>1</th>\n",
       "      <td>1:100285499:G:C</td>\n",
       "      <td>100285499</td>\n",
       "      <td>G</td>\n",
       "      <td>C</td>\n",
       "      <td>rs10875286</td>\n",
       "      <td>DBT</td>\n",
       "      <td>1</td>\n",
       "      <td>1</td>\n",
       "      <td>0.417</td>\n",
       "    </tr>\n",
       "    <tr>\n",
       "      <th>2</th>\n",
       "      <td>1:100298312:T:A</td>\n",
       "      <td>100298312</td>\n",
       "      <td>T</td>\n",
       "      <td>A</td>\n",
       "      <td>rs4908058</td>\n",
       "      <td>RTCA</td>\n",
       "      <td>1</td>\n",
       "      <td>1</td>\n",
       "      <td>6.385</td>\n",
       "    </tr>\n",
       "    <tr>\n",
       "      <th>3</th>\n",
       "      <td>1:100298312:T:A</td>\n",
       "      <td>100298312</td>\n",
       "      <td>T</td>\n",
       "      <td>A</td>\n",
       "      <td>rs4908058</td>\n",
       "      <td>RTCA</td>\n",
       "      <td>1</td>\n",
       "      <td>1</td>\n",
       "      <td>6.385</td>\n",
       "    </tr>\n",
       "    <tr>\n",
       "      <th>4</th>\n",
       "      <td>1:100298312:T:A</td>\n",
       "      <td>100298312</td>\n",
       "      <td>T</td>\n",
       "      <td>A</td>\n",
       "      <td>rs4908058</td>\n",
       "      <td>RTCA</td>\n",
       "      <td>1</td>\n",
       "      <td>1</td>\n",
       "      <td>6.385</td>\n",
       "    </tr>\n",
       "    <tr>\n",
       "      <th>...</th>\n",
       "      <td>...</td>\n",
       "      <td>...</td>\n",
       "      <td>...</td>\n",
       "      <td>...</td>\n",
       "      <td>...</td>\n",
       "      <td>...</td>\n",
       "      <td>...</td>\n",
       "      <td>...</td>\n",
       "      <td>...</td>\n",
       "    </tr>\n",
       "    <tr>\n",
       "      <th>1205588</th>\n",
       "      <td>X:49263852:G:GC</td>\n",
       "      <td>49263852</td>\n",
       "      <td>G</td>\n",
       "      <td>GC</td>\n",
       "      <td>rs200204594</td>\n",
       "      <td>LL0XNC01-36H8.1</td>\n",
       "      <td>1</td>\n",
       "      <td>X</td>\n",
       "      <td>0.410</td>\n",
       "    </tr>\n",
       "    <tr>\n",
       "      <th>1205589</th>\n",
       "      <td>X:76462963:AG:A</td>\n",
       "      <td>76462963</td>\n",
       "      <td>AG</td>\n",
       "      <td>A</td>\n",
       "      <td>rs201251952</td>\n",
       "      <td>MAGEE2</td>\n",
       "      <td>1</td>\n",
       "      <td>X</td>\n",
       "      <td>2.162</td>\n",
       "    </tr>\n",
       "    <tr>\n",
       "      <th>1205590</th>\n",
       "      <td>X:98410587:A:AC</td>\n",
       "      <td>98410587</td>\n",
       "      <td>A</td>\n",
       "      <td>AC</td>\n",
       "      <td>rs200579237</td>\n",
       "      <td>DIAPH2-AS1</td>\n",
       "      <td>1</td>\n",
       "      <td>X</td>\n",
       "      <td>0.462</td>\n",
       "    </tr>\n",
       "    <tr>\n",
       "      <th>1205591</th>\n",
       "      <td>Y:13160117:C:CTA</td>\n",
       "      <td>13160117</td>\n",
       "      <td>C</td>\n",
       "      <td>CTA</td>\n",
       "      <td>None</td>\n",
       "      <td>TAB3P1</td>\n",
       "      <td>0</td>\n",
       "      <td>Y</td>\n",
       "      <td>15.230</td>\n",
       "    </tr>\n",
       "    <tr>\n",
       "      <th>1205592</th>\n",
       "      <td>Y:13160117:CTA:C</td>\n",
       "      <td>13160117</td>\n",
       "      <td>CTA</td>\n",
       "      <td>C</td>\n",
       "      <td>None</td>\n",
       "      <td>TAB3P1</td>\n",
       "      <td>0</td>\n",
       "      <td>Y</td>\n",
       "      <td>15.030</td>\n",
       "    </tr>\n",
       "  </tbody>\n",
       "</table>\n",
       "<p>1205593 rows × 9 columns</p>\n",
       "</div>"
      ],
      "text/plain": [
       "        unique_variant_id      start reference alternate         rsID  \\\n",
       "0         1:100285499:G:C  100285499         G         C   rs10875286   \n",
       "1         1:100285499:G:C  100285499         G         C   rs10875286   \n",
       "2         1:100298312:T:A  100298312         T         A    rs4908058   \n",
       "3         1:100298312:T:A  100298312         T         A    rs4908058   \n",
       "4         1:100298312:T:A  100298312         T         A    rs4908058   \n",
       "...                   ...        ...       ...       ...          ...   \n",
       "1205588   X:49263852:G:GC   49263852         G        GC  rs200204594   \n",
       "1205589   X:76462963:AG:A   76462963        AG         A  rs201251952   \n",
       "1205590   X:98410587:A:AC   98410587         A        AC  rs200579237   \n",
       "1205591  Y:13160117:C:CTA   13160117         C       CTA         None   \n",
       "1205592  Y:13160117:CTA:C   13160117       CTA         C         None   \n",
       "\n",
       "                  symbol  eqtl_boolean chromosome  cadd_score  \n",
       "0                   RTCA             1          1       0.417  \n",
       "1                    DBT             1          1       0.417  \n",
       "2                   RTCA             1          1       6.385  \n",
       "3                   RTCA             1          1       6.385  \n",
       "4                   RTCA             1          1       6.385  \n",
       "...                  ...           ...        ...         ...  \n",
       "1205588  LL0XNC01-36H8.1             1          X       0.410  \n",
       "1205589           MAGEE2             1          X       2.162  \n",
       "1205590       DIAPH2-AS1             1          X       0.462  \n",
       "1205591           TAB3P1             0          Y      15.230  \n",
       "1205592           TAB3P1             0          Y      15.030  \n",
       "\n",
       "[1205593 rows x 9 columns]"
      ]
     },
     "execution_count": 16,
     "metadata": {},
     "output_type": "execute_result"
    }
   ],
   "source": [
    "eqtl_highImpact_scored_pandas.fillna(value='None',inplace=True)\n",
    "eqtl_highImpact_scored_pandas"
   ]
  },
  {
   "cell_type": "code",
   "execution_count": 17,
   "id": "d2a00f69-1fd0-4224-a557-5ed9720ad255",
   "metadata": {},
   "outputs": [],
   "source": [
    "eqtl_highImpact_scored_pandas['chromosome'] = eqtl_highImpact_scored_pandas['chromosome'].astype(str)\n",
    "\n",
    "eqtl_highImpact_scored = spark.createDataFrame(eqtl_highImpact_scored_pandas)"
   ]
  },
  {
   "cell_type": "code",
   "execution_count": 22,
   "id": "58c09ee5-3684-4c75-83b0-c827945e3494",
   "metadata": {},
   "outputs": [
    {
     "name": "stderr",
     "output_type": "stream",
     "text": [
      "22/07/08 12:23:26 WARN TaskSetManager: Stage 2 contains a task of very large size (70597 KiB). The maximum recommended task size is 1000 KiB.\n",
      "                                                                                \r"
     ]
    },
    {
     "data": {
      "text/plain": [
       "1188307"
      ]
     },
     "execution_count": 22,
     "metadata": {},
     "output_type": "execute_result"
    }
   ],
   "source": [
    "eqtl_highImpact_scored.count()"
   ]
  },
  {
   "cell_type": "code",
   "execution_count": 27,
   "id": "d2d17629-5c81-424c-bec8-718f4bfea7b9",
   "metadata": {},
   "outputs": [],
   "source": [
    "!rm -r eqtl_highImpact_scored_july8.parquet"
   ]
  },
  {
   "cell_type": "code",
   "execution_count": 21,
   "id": "5c56eb15-8d22-4b68-9583-3dd9507d1257",
   "metadata": {},
   "outputs": [],
   "source": [
    "# DONT WANT TO DO THIS, INDELs may not be represented in the other file\n",
    "eqtl_highImpact_scored = eqtl_highImpact_scored.where(col('cadd_score') < 20.0)\n"
   ]
  },
  {
   "cell_type": "code",
   "execution_count": 28,
   "id": "66f668c5-0095-4aba-ade9-65e294e813f2",
   "metadata": {},
   "outputs": [
    {
     "name": "stderr",
     "output_type": "stream",
     "text": [
      "22/07/08 12:28:31 WARN TaskSetManager: Stage 12 contains a task of very large size (70597 KiB). The maximum recommended task size is 1000 KiB.\n",
      "22/07/08 12:28:33 WARN TaskSetManager: Stage 13 contains a task of very large size (70597 KiB). The maximum recommended task size is 1000 KiB.\n",
      "                                                                                \r"
     ]
    }
   ],
   "source": [
    "eqtl_highImpact_scored.repartitionByRange(60, \"chromosome\", \"start\").write\\\n",
    "      .mode('overwrite')\\\n",
    "      .partitionBy(\"chromosome\")\\\n",
    "      .parquet(\"eqtl_highImpact_scored_july8.parquet\")"
   ]
  },
  {
   "cell_type": "code",
   "execution_count": 7,
   "id": "72fc1018-eb11-4bd8-a41f-840ffab5927d",
   "metadata": {
    "tags": []
   },
   "outputs": [
    {
     "name": "stderr",
     "output_type": "stream",
     "text": [
      "[Stage 11:======================================>                   (2 + 1) / 3]\r"
     ]
    },
    {
     "name": "stdout",
     "output_type": "stream",
     "text": [
      "1188307\n",
      "+-----------------+---------+---------+---------+-----------+--------+------------+------------------+----------+\n",
      "|unique_variant_id|    start|reference|alternate|       rsID|  symbol|eqtl_boolean|        cadd_score|chromosome|\n",
      "+-----------------+---------+---------+---------+-----------+--------+------------+------------------+----------+\n",
      "|  4:101774057:T:C|101774057|        T|        C| rs60252511|   NFKB1|           1|3.4930000000000003|         4|\n",
      "|  4:105638442:T:A|105638442|        T|        A| rs10034172|    NPNT|           1|             1.903|         4|\n",
      "|  4:105676491:A:T|105676491|        A|        T|rs189503664|EEF1A1P9|           1|             0.014|         4|\n",
      "+-----------------+---------+---------+---------+-----------+--------+------------+------------------+----------+\n",
      "only showing top 3 rows\n",
      "\n"
     ]
    },
    {
     "name": "stderr",
     "output_type": "stream",
     "text": [
      "                                                                                \r"
     ]
    }
   ],
   "source": [
    "highImpact_eqtl_scored = spark.read.parquet('/sbgenomics/project-files/eqtl_highImpact_scored_july8.parquet')\n",
    "print(highImpact_eqtl_scored.count())\n",
    "highImpact_eqtl_scored.show(3)"
   ]
  },
  {
   "cell_type": "code",
   "execution_count": null,
   "id": "65e80fba-b21e-4380-b7c4-8e3b9c6d394b",
   "metadata": {},
   "outputs": [],
   "source": []
  },
  {
   "cell_type": "code",
   "execution_count": 8,
   "id": "5b2d18bb-a9bf-457f-9858-bd73127bb4e3",
   "metadata": {},
   "outputs": [
    {
     "name": "stderr",
     "output_type": "stream",
     "text": [
      "                                                                                \r"
     ]
    },
    {
     "data": {
      "text/plain": [
       "1184601"
      ]
     },
     "execution_count": 8,
     "metadata": {},
     "output_type": "execute_result"
    }
   ],
   "source": [
    "highImpact_eqtl_scored.where(col('eqtl_boolean') == 1).count()"
   ]
  },
  {
   "cell_type": "code",
   "execution_count": 9,
   "id": "1a521a0a-98f0-4989-9abb-048824b82caf",
   "metadata": {},
   "outputs": [
    {
     "name": "stderr",
     "output_type": "stream",
     "text": [
      "                                                                                \r"
     ]
    },
    {
     "data": {
      "text/plain": [
       "3706"
      ]
     },
     "execution_count": 9,
     "metadata": {},
     "output_type": "execute_result"
    }
   ],
   "source": [
    "highImpact_eqtl_scored.where(col('eqtl_boolean') == 0).count()"
   ]
  },
  {
   "cell_type": "code",
   "execution_count": 13,
   "id": "88c17a8c-980a-4b2f-8ee1-ed77035409b3",
   "metadata": {},
   "outputs": [
    {
     "data": {
      "text/plain": [
       "991688"
      ]
     },
     "execution_count": 13,
     "metadata": {},
     "output_type": "execute_result"
    }
   ],
   "source": [
    "highImpact_eqtl_scored.count()"
   ]
  },
  {
   "cell_type": "code",
   "execution_count": 4,
   "id": "87c3c880-4580-48a8-9c3f-9dd7b18d598d",
   "metadata": {
    "collapsed": true,
    "jupyter": {
     "outputs_hidden": true
    },
    "tags": []
   },
   "outputs": [
    {
     "name": "stderr",
     "output_type": "stream",
     "text": [
      "                                                                                \r"
     ]
    },
    {
     "name": "stdout",
     "output_type": "stream",
     "text": [
      "5815\n",
      "+----------+---------+---------+---------+---------+-----------------+-------+-------+---------------------+--------------------+------+----+----------+\n",
      "|chromosome|    start|      end|reference|alternate|unique_variant_id|   qual|INFO_DP|splitFromMultiAllelic|           genotypes|symbol|rsID|cadd_score|\n",
      "+----------+---------+---------+---------+---------+-----------------+-------+-------+---------------------+--------------------+------+----+----------+\n",
      "|        11|120956900|120956900|        A|        G| 11:120956899:A:G|1389.77|     44|                 true|[{BS_0302Y3N5, 99...|      |    |      27.3|\n",
      "|        11|120956900|120956900|        A|        G| 11:120956899:A:G|1389.77|     44|                 true|[{BS_0302Y3N5, 99...|      |    |      27.3|\n",
      "|        11|130910120|130910120|        C|        T| 11:130910119:C:T| 463.77|     33|                 true|[{BS_0302Y3N5, 99...|      |    |        31|\n",
      "+----------+---------+---------+---------+---------+-----------------+-------+-------+---------------------+--------------------+------+----+----------+\n",
      "only showing top 3 rows\n",
      "\n"
     ]
    }
   ],
   "source": [
    "plus1 = spark.read.parquet('/sbgenomics/project-files/df_scored_full_workflow_plus1.parquet')\n",
    "print(plus1.count())\n",
    "plus1.show(3)"
   ]
  },
  {
   "cell_type": "code",
   "execution_count": 5,
   "id": "df37b96c-4481-4788-8fd9-6a0524ecbedb",
   "metadata": {},
   "outputs": [
    {
     "name": "stderr",
     "output_type": "stream",
     "text": [
      "[Stage 5:===================================================>     (10 + 1) / 11]\r"
     ]
    },
    {
     "name": "stdout",
     "output_type": "stream",
     "text": [
      "5815\n",
      "+----------+---------+---------+---------+---------+-----------------+-------+-------+---------------------+--------------------+------+----+----------+\n",
      "|chromosome|    start|      end|reference|alternate|unique_variant_id|   qual|INFO_DP|splitFromMultiAllelic|           genotypes|symbol|rsID|cadd_score|\n",
      "+----------+---------+---------+---------+---------+-----------------+-------+-------+---------------------+--------------------+------+----+----------+\n",
      "|        11|120956899|120956900|        A|        G| 11:120956899:A:G|1389.77|     44|                 true|[{BS_0302Y3N5, 99...|      |    |      27.3|\n",
      "|        11|120956899|120956900|        A|        G| 11:120956899:A:G|1389.77|     44|                 true|[{BS_0302Y3N5, 99...|      |    |      27.3|\n",
      "|        11|130910119|130910120|        C|        T| 11:130910119:C:T| 463.77|     33|                 true|[{BS_0302Y3N5, 99...|      |    |        31|\n",
      "+----------+---------+---------+---------+---------+-----------------+-------+-------+---------------------+--------------------+------+----+----------+\n",
      "only showing top 3 rows\n",
      "\n"
     ]
    },
    {
     "name": "stderr",
     "output_type": "stream",
     "text": [
      "                                                                                \r"
     ]
    }
   ],
   "source": [
    "reg = spark.read.parquet('/sbgenomics/project-files/df_scored_full_workflow.parquet')\n",
    "print(reg.count())\n",
    "reg.show(3)"
   ]
  },
  {
   "cell_type": "code",
   "execution_count": 12,
   "id": "bcdafbeb-08c7-4209-ae11-e7362a7f0380",
   "metadata": {
    "collapsed": true,
    "jupyter": {
     "outputs_hidden": true
    },
    "tags": []
   },
   "outputs": [
    {
     "ename": "AnalysisException",
     "evalue": "Path does not exist: file:/sbgenomics/project-files/tcsq_variant_gene_mappings.parquet",
     "output_type": "error",
     "traceback": [
      "\u001b[0;31m---------------------------------------------------------------------------\u001b[0m",
      "\u001b[0;31mAnalysisException\u001b[0m                         Traceback (most recent call last)",
      "\u001b[0;32m/tmp/ipykernel_130/2883947221.py\u001b[0m in \u001b[0;36m<module>\u001b[0;34m\u001b[0m\n\u001b[0;32m----> 1\u001b[0;31m \u001b[0mgene_mappings\u001b[0m \u001b[0;34m=\u001b[0m \u001b[0mspark\u001b[0m\u001b[0;34m.\u001b[0m\u001b[0mread\u001b[0m\u001b[0;34m.\u001b[0m\u001b[0mparquet\u001b[0m\u001b[0;34m(\u001b[0m\u001b[0;34m'/sbgenomics/project-files/tcsq_variant_gene_mappings.parquet'\u001b[0m\u001b[0;34m)\u001b[0m\u001b[0;34m\u001b[0m\u001b[0;34m\u001b[0m\u001b[0m\n\u001b[0m",
      "\u001b[0;32m/usr/local/spark/python/pyspark/sql/readwriter.py\u001b[0m in \u001b[0;36mparquet\u001b[0;34m(self, *paths, **options)\u001b[0m\n\u001b[1;32m    456\u001b[0m                        modifiedAfter=modifiedAfter)\n\u001b[1;32m    457\u001b[0m \u001b[0;34m\u001b[0m\u001b[0m\n\u001b[0;32m--> 458\u001b[0;31m         \u001b[0;32mreturn\u001b[0m \u001b[0mself\u001b[0m\u001b[0;34m.\u001b[0m\u001b[0m_df\u001b[0m\u001b[0;34m(\u001b[0m\u001b[0mself\u001b[0m\u001b[0;34m.\u001b[0m\u001b[0m_jreader\u001b[0m\u001b[0;34m.\u001b[0m\u001b[0mparquet\u001b[0m\u001b[0;34m(\u001b[0m\u001b[0m_to_seq\u001b[0m\u001b[0;34m(\u001b[0m\u001b[0mself\u001b[0m\u001b[0;34m.\u001b[0m\u001b[0m_spark\u001b[0m\u001b[0;34m.\u001b[0m\u001b[0m_sc\u001b[0m\u001b[0;34m,\u001b[0m \u001b[0mpaths\u001b[0m\u001b[0;34m)\u001b[0m\u001b[0;34m)\u001b[0m\u001b[0;34m)\u001b[0m\u001b[0;34m\u001b[0m\u001b[0;34m\u001b[0m\u001b[0m\n\u001b[0m\u001b[1;32m    459\u001b[0m \u001b[0;34m\u001b[0m\u001b[0m\n\u001b[1;32m    460\u001b[0m     def text(self, paths, wholetext=False, lineSep=None, pathGlobFilter=None,\n",
      "\u001b[0;32m/usr/local/spark/python/lib/py4j-0.10.9-src.zip/py4j/java_gateway.py\u001b[0m in \u001b[0;36m__call__\u001b[0;34m(self, *args)\u001b[0m\n\u001b[1;32m   1302\u001b[0m \u001b[0;34m\u001b[0m\u001b[0m\n\u001b[1;32m   1303\u001b[0m         \u001b[0manswer\u001b[0m \u001b[0;34m=\u001b[0m \u001b[0mself\u001b[0m\u001b[0;34m.\u001b[0m\u001b[0mgateway_client\u001b[0m\u001b[0;34m.\u001b[0m\u001b[0msend_command\u001b[0m\u001b[0;34m(\u001b[0m\u001b[0mcommand\u001b[0m\u001b[0;34m)\u001b[0m\u001b[0;34m\u001b[0m\u001b[0;34m\u001b[0m\u001b[0m\n\u001b[0;32m-> 1304\u001b[0;31m         return_value = get_return_value(\n\u001b[0m\u001b[1;32m   1305\u001b[0m             answer, self.gateway_client, self.target_id, self.name)\n\u001b[1;32m   1306\u001b[0m \u001b[0;34m\u001b[0m\u001b[0m\n",
      "\u001b[0;32m/usr/local/spark/python/pyspark/sql/utils.py\u001b[0m in \u001b[0;36mdeco\u001b[0;34m(*a, **kw)\u001b[0m\n\u001b[1;32m    115\u001b[0m                 \u001b[0;31m# Hide where the exception came from that shows a non-Pythonic\u001b[0m\u001b[0;34m\u001b[0m\u001b[0;34m\u001b[0m\u001b[0m\n\u001b[1;32m    116\u001b[0m                 \u001b[0;31m# JVM exception message.\u001b[0m\u001b[0;34m\u001b[0m\u001b[0;34m\u001b[0m\u001b[0m\n\u001b[0;32m--> 117\u001b[0;31m                 \u001b[0;32mraise\u001b[0m \u001b[0mconverted\u001b[0m \u001b[0;32mfrom\u001b[0m \u001b[0;32mNone\u001b[0m\u001b[0;34m\u001b[0m\u001b[0;34m\u001b[0m\u001b[0m\n\u001b[0m\u001b[1;32m    118\u001b[0m             \u001b[0;32melse\u001b[0m\u001b[0;34m:\u001b[0m\u001b[0;34m\u001b[0m\u001b[0;34m\u001b[0m\u001b[0m\n\u001b[1;32m    119\u001b[0m                 \u001b[0;32mraise\u001b[0m\u001b[0;34m\u001b[0m\u001b[0;34m\u001b[0m\u001b[0m\n",
      "\u001b[0;31mAnalysisException\u001b[0m: Path does not exist: file:/sbgenomics/project-files/tcsq_variant_gene_mappings.parquet"
     ]
    }
   ],
   "source": [
    "\n",
    "\n",
    "gene_mappings = spark.read.parquet('/sbgenomics/project-files/tcsq_variant_gene_mappings.parquet')"
   ]
  },
  {
   "cell_type": "code",
   "execution_count": 5,
   "id": "13886785-84fc-42a2-93f9-697c9e94457e",
   "metadata": {},
   "outputs": [
    {
     "name": "stderr",
     "output_type": "stream",
     "text": [
      "[Stage 3:===================================================>       (7 + 1) / 8]\r"
     ]
    },
    {
     "name": "stdout",
     "output_type": "stream",
     "text": [
      "5619\n",
      "+----------+---------+---------+---------+---------+-----------------+-------+-------+---------------------+--------------------+------+----+----------+\n",
      "|chromosome|    start|      end|reference|alternate|unique_variant_id|   qual|INFO_DP|splitFromMultiAllelic|           genotypes|symbol|rsID|cadd_score|\n",
      "+----------+---------+---------+---------+---------+-----------------+-------+-------+---------------------+--------------------+------+----+----------+\n",
      "|        11|120956899|120956900|        A|        G| 11:120956899:A:G|1389.77|     44|                 true|[{BS_0302Y3N5, 99...|      |    |      27.3|\n",
      "|        11|120956899|120956900|        A|        G| 11:120956899:A:G|1389.77|     44|                 true|[{BS_0302Y3N5, 99...|      |    |      27.3|\n",
      "|        11|130910119|130910120|        C|        T| 11:130910119:C:T| 463.77|     33|                 true|[{BS_0302Y3N5, 99...|      |    |        31|\n",
      "|        11|130910119|130910120|        C|        T| 11:130910119:C:T| 463.77|     33|                 true|[{BS_0302Y3N5, 99...|      |    |        31|\n",
      "|        14| 33308195| 33308196|        G|        A|  14:33308195:G:A| 488.77|     42|                 true|[{BS_0302Y3N5, 99...|      |    |      21.2|\n",
      "+----------+---------+---------+---------+---------+-----------------+-------+-------+---------------------+--------------------+------+----+----------+\n",
      "only showing top 5 rows\n",
      "\n"
     ]
    },
    {
     "name": "stderr",
     "output_type": "stream",
     "text": [
      "                                                                                \r"
     ]
    }
   ],
   "source": [
    "df_scored = spark.read.parquet('/sbgenomics/project-files/df_scored.parquet')\n",
    "print(df_scored.count())\n",
    "df_scored.show(5)"
   ]
  },
  {
   "cell_type": "code",
   "execution_count": 9,
   "id": "ee27ce5c-5306-4a0f-bc99-3a95a6a4447c",
   "metadata": {},
   "outputs": [
    {
     "name": "stderr",
     "output_type": "stream",
     "text": [
      "                                                                                \r"
     ]
    },
    {
     "data": {
      "text/plain": [
       "4897"
      ]
     },
     "execution_count": 9,
     "metadata": {},
     "output_type": "execute_result"
    }
   ],
   "source": [
    "df_scored.where((col('INFO_DP') > 25) & (col('qual') > 15))"
   ]
  },
  {
   "cell_type": "code",
   "execution_count": 8,
   "id": "aa281239-e92f-44f7-a5b2-666975b033bf",
   "metadata": {},
   "outputs": [
    {
     "name": "stderr",
     "output_type": "stream",
     "text": [
      "                                                                                \r"
     ]
    },
    {
     "data": {
      "text/plain": [
       "5211"
      ]
     },
     "execution_count": 8,
     "metadata": {},
     "output_type": "execute_result"
    }
   ],
   "source": [
    "df_scored.where().count()"
   ]
  },
  {
   "cell_type": "code",
   "execution_count": 7,
   "id": "204cc2ac-4f23-4468-a524-b55c3570459e",
   "metadata": {},
   "outputs": [
    {
     "name": "stderr",
     "output_type": "stream",
     "text": [
      "[Stage 2:>                                                          (0 + 1) / 1]\r"
     ]
    },
    {
     "name": "stdout",
     "output_type": "stream",
     "text": [
      "+--------+---------+---------+----------+--------------------+----------+\n",
      "|   start|reference|alternate|cadd_score|   unique_variant_id|chromosome|\n",
      "+--------+---------+---------+----------+--------------------+----------+\n",
      "|36449839|        A|AAAAAAAAC|     0.513|1:36449839:A:AAAA...|         1|\n",
      "+--------+---------+---------+----------+--------------------+----------+\n",
      "only showing top 1 row\n",
      "\n"
     ]
    },
    {
     "name": "stderr",
     "output_type": "stream",
     "text": [
      "                                                                                \r"
     ]
    }
   ],
   "source": [
    "indel_all = spark.read.parquet('/sbgenomics/project-files/cadd_gnomad_all.parquet/')\n",
    "indel_all.show(1)"
   ]
  },
  {
   "cell_type": "code",
   "execution_count": 8,
   "id": "b6bdadd4-706a-4847-bf77-63e0a2e6d2e4",
   "metadata": {},
   "outputs": [
    {
     "name": "stderr",
     "output_type": "stream",
     "text": [
      "[Stage 4:>                                                          (0 + 1) / 1]\r"
     ]
    },
    {
     "name": "stdout",
     "output_type": "stream",
     "text": [
      "+------+---------+---------+----------+-----------------+----------+\n",
      "| start|reference|alternate|cadd_score|unique_variant_id|chromosome|\n",
      "+------+---------+---------+----------+-----------------+----------+\n",
      "|151503|        T|        G|      23.2|     5:151503:T:G|         5|\n",
      "+------+---------+---------+----------+-----------------+----------+\n",
      "only showing top 1 row\n",
      "\n"
     ]
    },
    {
     "name": "stderr",
     "output_type": "stream",
     "text": [
      "                                                                                \r"
     ]
    }
   ],
   "source": [
    "\n",
    "snp_gt20 = spark.read.parquet('/sbgenomics/project-files/cadd_gt20_snps.parquet')\n",
    "snp_gt20.show(1)"
   ]
  },
  {
   "cell_type": "code",
   "execution_count": 12,
   "id": "6a9cd767-65d0-4712-a10f-44ae5c691bc6",
   "metadata": {},
   "outputs": [
    {
     "name": "stderr",
     "output_type": "stream",
     "text": [
      "                                                                                \r"
     ]
    }
   ],
   "source": [
    "\n",
    "indels_gt20 = spark.read.parquet('/sbgenomics/project-files/cadd_gt20_gnomAD_all_chroms.parquet')\n",
    "indels_gt20 = indels_gt20.withColumn('unique_variant_id',concat(col(\"chromosome\"), lit(\":\"),\n",
    "                                                   col(\"start\"),lit(':'),col('reference'),\n",
    "                                                   lit(':'),col('alternate')))\n",
    "\n",
    "indels_gt20.write.parquet('cadd_gt20_gnomAD_all_chroms.parquet')"
   ]
  },
  {
   "cell_type": "code",
   "execution_count": 30,
   "id": "e7da9c37-15cc-4ea1-8455-9395ff152483",
   "metadata": {},
   "outputs": [],
   "source": [
    "!mv eqtl_highImpact_scored_july8.parquet /sbgenomics/output-files/"
   ]
  },
  {
   "cell_type": "code",
   "execution_count": 5,
   "id": "354aa498-1f9e-47dd-aaf8-b9d183416a4a",
   "metadata": {
    "collapsed": true,
    "jupyter": {
     "outputs_hidden": true
    },
    "tags": []
   },
   "outputs": [
    {
     "name": "stderr",
     "output_type": "stream",
     "text": [
      "[Stage 1:>                                                          (0 + 1) / 1]\r"
     ]
    },
    {
     "name": "stdout",
     "output_type": "stream",
     "text": [
      "+----------+---------+---------+---------+-----------------+---------+-------+-------+---------------------+--------------------+------------------+\n",
      "|chromosome|    start|reference|alternate|unique_variant_id|      end|   qual|INFO_DP|splitFromMultiAllelic|           genotypes|        CADD_score|\n",
      "+----------+---------+---------+---------+-----------------+---------+-------+-------+---------------------+--------------------+------------------+\n",
      "|         1|109670294|        G|        A|  1:109670294:G:A|109670295|    0.0|     43|                 true|[{BS_0302Y3N5, 99...|             2.735|\n",
      "|         1|212875774|        A|        G|  1:212875774:A:G|212875775| 826.77|     19|                 true|[{BS_0302Y3N5, 57...|             2.362|\n",
      "|         1|170957955|        C|        T|  1:170957955:C:T|170957956|1716.77|     40|                 true|[{BS_0302Y3N5, 99...| 6.007999999999999|\n",
      "|         1|202887341|        A|        T|  1:202887341:A:T|202887342|1712.77|     46|                 true|[{BS_0302Y3N5, 99...|             1.676|\n",
      "|         1|207093373|        G|        T|  1:207093373:G:T|207093374|1545.77|     35|                 true|[{BS_0302Y3N5, 99...|               5.1|\n",
      "|         1| 34065293|        T|        C|   1:34065293:T:C| 34065294|1546.77|     35|                 true|[{BS_0302Y3N5, 99...|             0.958|\n",
      "|         1|167491425|        G|        A|  1:167491425:G:A|167491426| 357.77|     28|                 true|[{BS_0302Y3N5, 99...|             0.261|\n",
      "|         1|161829709|        A|        G|  1:161829709:A:G|161829710|1040.77|     34|                 true|[{BS_0302Y3N5, 99...|             2.242|\n",
      "|         1|  2364657|        A|        T|    1:2364657:A:T|  2364658| 382.77|     29|                 true|[{BS_0302Y3N5, 99...|5.0360000000000005|\n",
      "|         1|224499044|        G|        A|  1:224499044:G:A|224499045| 510.77|     42|                 true|[{BS_0302Y3N5, 99...|2.7510000000000003|\n",
      "|         1| 16015154|        C|        T|   1:16015154:C:T| 16015155| 355.77|     37|                 true|[{BS_0302Y3N5, 99...|1.6569999999999998|\n",
      "|         1| 16454951|        A|        G|   1:16454951:A:G| 16454952| 519.77|     34|                 true|[{BS_0302Y3N5, 99...|             4.023|\n",
      "+----------+---------+---------+---------+-----------------+---------+-------+-------+---------------------+--------------------+------------------+\n",
      "\n"
     ]
    },
    {
     "name": "stderr",
     "output_type": "stream",
     "text": [
      "                                                                                \r"
     ]
    }
   ],
   "source": [
    "a = spark.read.parquet('/sbgenomics/project-files/highImpact_eqtl_lt20_cadd.parquet')\n",
    "a.show()\n"
   ]
  },
  {
   "cell_type": "code",
   "execution_count": 5,
   "id": "fe788c61-afd8-4b5a-99f0-67a4ec15f1ff",
   "metadata": {},
   "outputs": [
    {
     "name": "stderr",
     "output_type": "stream",
     "text": [
      "                                                                                \r"
     ]
    },
    {
     "data": {
      "text/plain": [
       "['start',\n",
       " 'reference',\n",
       " 'alternate',\n",
       " 'cadd_score',\n",
       " 'unique_variant_id',\n",
       " 'chromosome']"
      ]
     },
     "execution_count": 5,
     "metadata": {},
     "output_type": "execute_result"
    }
   ],
   "source": [
    "df = spark.read.parquet('/sbgenomics/project-files/cadd_gnomad_all.parquet')\n",
    "df.columns"
   ]
  },
  {
   "cell_type": "code",
   "execution_count": null,
   "id": "5b00f9d7-eab9-49a1-a575-31b17a658b98",
   "metadata": {},
   "outputs": [],
   "source": []
  },
  {
   "cell_type": "code",
   "execution_count": 4,
   "id": "d2acde10-8e09-4dc7-856c-a5d4553e712e",
   "metadata": {},
   "outputs": [
    {
     "name": "stderr",
     "output_type": "stream",
     "text": [
      "                                                                                \r"
     ]
    },
    {
     "name": "stdout",
     "output_type": "stream",
     "text": [
      "429926698\n"
     ]
    },
    {
     "name": "stderr",
     "output_type": "stream",
     "text": [
      "[Stage 3:>                                                          (0 + 1) / 1]\r"
     ]
    },
    {
     "name": "stdout",
     "output_type": "stream",
     "text": [
      "+----------+-----+-----+---------+---------+----+-------+---------------------+--------------------+\n",
      "|chromosome|start|  end|reference|alternate|qual|INFO_DP|splitFromMultiAllelic|           genotypes|\n",
      "+----------+-----+-----+---------+---------+----+-------+---------------------+--------------------+\n",
      "|      chr1|10000|10007|        T|<NON_REF>|null|   null|                false|[{BS_0302Y3N5, 0,...|\n",
      "+----------+-----+-----+---------+---------+----+-------+---------------------+--------------------+\n",
      "only showing top 1 row\n",
      "\n"
     ]
    },
    {
     "name": "stderr",
     "output_type": "stream",
     "text": [
      "                                                                                \r"
     ]
    }
   ],
   "source": [
    "df = spark.read.parquet('/sbgenomics/project-files/BS_0302Y3N5.parquet/')\n",
    "\n",
    "df_ = df.select(['contigName','start', 'end', 'names', 'referenceAllele', \\\n",
    "                 'alternateAlleles', 'qual', 'INFO_DP', 'splitFromMultiAllelic','genotypes'])\n",
    "print(df_.count())\n",
    "\n",
    "df_ = df_.select(col('contigName').alias('chromosome'),'start','end',col('referenceAllele').alias('reference'),\n",
    "         col('alternateAlleles').alias('alternate'),'qual','INFO_DP', 'splitFromMultiAllelic','genotypes')\n",
    "df_ = df_.withColumn('alternate',F.explode('alternate'))\n",
    "df_.show(1)"
   ]
  },
  {
   "cell_type": "code",
   "execution_count": 13,
   "id": "f809dea7-1781-4252-8126-1bf27cc82f0b",
   "metadata": {},
   "outputs": [
    {
     "data": {
      "text/plain": [
       "list"
      ]
     },
     "execution_count": 13,
     "metadata": {},
     "output_type": "execute_result"
    }
   ],
   "source": [
    "#df.select('genotypes').schema\n",
    "#StructType(\n",
    "from pyspark.sql.types import StructType,StructField, StringType,IntegerType, FloatType, BooleanType, ArrayType\n",
    "\n",
    "genotype_subschema  =[StructField('genotypes',ArrayType(StructType([StructField('0',StringType(),'true'),\n",
    "                                                                StructField('1',IntegerType(),'true'),\n",
    "                                                                StructField('2',ArrayType(IntegerType(),'true'),'true'),\n",
    "                                                                StructField('3',ArrayType(IntegerType(),'true'),'true'),\n",
    "                                                                StructField('4',StringType(),'true'),\n",
    "                                                               StructField('5',BooleanType(),'true'),\n",
    "                                                               StructField('6',ArrayType(IntegerType(),'true'),'true'),\n",
    "                                                               StructField('7',IntegerType(),'true'),\n",
    "                                                                StructField('8',StringType(),'true'),\n",
    "                                                               StructField('9',ArrayType(IntegerType(),'true'),'true'),\n",
    "                                                                StructField('10',IntegerType(),'true')]),'true'),'true')]\n",
    "type(a)"
   ]
  },
  {
   "cell_type": "code",
   "execution_count": 5,
   "id": "ef8c94f2-ce5e-4857-bb52-f3182769f8b2",
   "metadata": {},
   "outputs": [
    {
     "name": "stdout",
     "output_type": "stream",
     "text": [
      "+----------+-----+-----+---------+---------+----+-------+---------------------+--------------------+\n",
      "|chromosome|start|  end|reference|alternate|qual|INFO_DP|splitFromMultiAllelic|           genotypes|\n",
      "+----------+-----+-----+---------+---------+----+-------+---------------------+--------------------+\n",
      "|      chr1|10000|10007|        T|<NON_REF>|   0|      3|                false|[{BS_0302Y3N5, 0,...|\n",
      "|      chr1|10007|10009|        A|<NON_REF>|   6|      7|                false|[{BS_0302Y3N5, 6,...|\n",
      "|      chr1|10009|10011|        C|<NON_REF>|   9|     12|                false|[{BS_0302Y3N5, 9,...|\n",
      "|      chr1|10011|10013|        C|<NON_REF>|   1|     12|                false|[{BS_0302Y3N5, 1,...|\n",
      "+----------+-----+-----+---------+---------+----+-------+---------------------+--------------------+\n",
      "only showing top 4 rows\n",
      "\n"
     ]
    }
   ],
   "source": [
    "df_ = df_.withColumn('INFO_DP',col('genotypes').getItem(0).getItem('10'))\n",
    "df_ = df_.withColumn('qual',col('genotypes').getItem(0).getItem('1'))\n",
    "df_.show(4)"
   ]
  },
  {
   "cell_type": "code",
   "execution_count": 6,
   "id": "560a1af7-af86-41a0-a437-22434a554447",
   "metadata": {},
   "outputs": [],
   "source": [
    "filt = df_.where((df.INFO_DP > 15) | (df.qual > 25))\n",
    "#df_noNonRef = \n",
    "\n",
    "#filt.where(~ (col('alternate') == '<NON_REF>')).count()\n"
   ]
  },
  {
   "cell_type": "code",
   "execution_count": 8,
   "id": "47b89717-db2a-43d4-8516-dfaeb59c9dd8",
   "metadata": {
    "collapsed": true,
    "jupyter": {
     "outputs_hidden": true
    },
    "tags": []
   },
   "outputs": [
    {
     "name": "stdout",
     "output_type": "stream",
     "text": [
      "+----------+-----+-----+---------+---------+----+-------+---------------------+--------------------+------+----+\n",
      "|chromosome|start|  end|reference|alternate|qual|INFO_DP|splitFromMultiAllelic|           genotypes|symbol|rsID|\n",
      "+----------+-----+-----+---------+---------+----+-------+---------------------+--------------------+------+----+\n",
      "|      chr1|13272|13273|        G|        C|  66|     22|                 true|[{BS_0302Y3N5, 66...|      |    |\n",
      "|      chr1|13272|13273|        G|<NON_REF>|  66|     22|                 true|[{BS_0302Y3N5, 66...|      |    |\n",
      "|      chr1|13416|13417|        C|    CGAGA|  45|     15|                 true|[{BS_0302Y3N5, 45...|      |    |\n",
      "|      chr1|13416|13417|        C|<NON_REF>|  45|     15|                 true|[{BS_0302Y3N5, 45...|      |    |\n",
      "|      chr1|13612|13613|        T|        A|  86|     16|                 true|[{BS_0302Y3N5, 86...|      |    |\n",
      "|      chr1|13612|13613|        T|<NON_REF>|  86|     16|                 true|[{BS_0302Y3N5, 86...|      |    |\n",
      "|      chr1|13683|13684|        C|        T|  71|     12|                 true|[{BS_0302Y3N5, 71...|      |    |\n",
      "|      chr1|13683|13684|        C|<NON_REF>|  71|     12|                 true|[{BS_0302Y3N5, 71...|      |    |\n",
      "|      chr1|13812|13813|        T|        G|  99|      7|                 true|[{BS_0302Y3N5, 99...|      |    |\n",
      "|      chr1|13812|13813|        T|<NON_REF>|  99|      7|                 true|[{BS_0302Y3N5, 99...|      |    |\n",
      "|      chr1|13837|13838|        C|        T|  99|      8|                 true|[{BS_0302Y3N5, 99...|      |    |\n",
      "|      chr1|13837|13838|        C|<NON_REF>|  99|      8|                 true|[{BS_0302Y3N5, 99...|      |    |\n",
      "|      chr1|13911|13912|        G|        A|  45|      5|                 true|[{BS_0302Y3N5, 45...|      |    |\n",
      "|      chr1|13911|13912|        G|<NON_REF>|  45|      5|                 true|[{BS_0302Y3N5, 45...|      |    |\n",
      "|      chr1|14353|14354|        C|        A|  61|      9|                 true|[{BS_0302Y3N5, 61...|      |    |\n",
      "|      chr1|14353|14354|        C|<NON_REF>|  61|      9|                 true|[{BS_0302Y3N5, 61...|      |    |\n",
      "|      chr1|14573|14574|        A|        G|   2|     17|                 true|[{BS_0302Y3N5, 2,...|      |    |\n",
      "|      chr1|14573|14574|        A|<NON_REF>|   2|     17|                 true|[{BS_0302Y3N5, 2,...|      |    |\n",
      "|      chr1|14589|14590|        G|        A|  36|     18|                 true|[{BS_0302Y3N5, 36...|      |    |\n",
      "|      chr1|14589|14590|        G|<NON_REF>|  36|     18|                 true|[{BS_0302Y3N5, 36...|      |    |\n",
      "+----------+-----+-----+---------+---------+----+-------+---------------------+--------------------+------+----+\n",
      "only showing top 20 rows\n",
      "\n"
     ]
    }
   ],
   "source": [
    "filt.select(filt.columns+[lit('').alias(\"symbol\"),lit('').alias(\"rsID\")]).show()"
   ]
  },
  {
   "cell_type": "code",
   "execution_count": 4,
   "id": "acde1c8e-b853-4d59-af07-bc49dc0e7c60",
   "metadata": {
    "tags": []
   },
   "outputs": [],
   "source": [
    "#multi_alt = df_noNonRef.where(F.size('alternateAlleles') != 1)\n",
    "#multi_alt.count()"
   ]
  },
  {
   "cell_type": "code",
   "execution_count": 6,
   "id": "5cf0a06d-0cb2-40c0-8ed3-61d2743e4c65",
   "metadata": {
    "collapsed": true,
    "jupyter": {
     "outputs_hidden": true
    },
    "tags": []
   },
   "outputs": [
    {
     "name": "stderr",
     "output_type": "stream",
     "text": [
      "                                                                                \r"
     ]
    },
    {
     "name": "stdout",
     "output_type": "stream",
     "text": [
      "284\n",
      "+-------------------+----------+--------+--------+---------+---------+------+-------+---------------------+--------------------+\n",
      "|  unique_variant_id|chromosome|   start|     end|reference|alternate|  qual|INFO_DP|splitFromMultiAllelic|           genotypes|\n",
      "+-------------------+----------+--------+--------+---------+---------+------+-------+---------------------+--------------------+\n",
      "|chr17:74957611:A:T:|     chr17|74957611|74957612|        A|        T|473.77|     23|                 true|[{BS_0302Y3N5, 99...|\n",
      "| chr2:65444642:G:C:|      chr2|65444642|65444643|        G|        C|656.77|     20|                 true|[{BS_0302Y3N5, 60...|\n",
      "+-------------------+----------+--------+--------+---------+---------+------+-------+---------------------+--------------------+\n",
      "only showing top 2 rows\n",
      "\n"
     ]
    }
   ],
   "source": [
    "e = spark.read.parquet('/sbgenomics/project-files/eqtl_BS_leftsemi.parquet/')\n",
    "print(e.count())\n",
    "e.show(2)"
   ]
  },
  {
   "cell_type": "code",
   "execution_count": 11,
   "id": "94977e9b-c9bb-408f-b685-4deb2705c5a7",
   "metadata": {},
   "outputs": [],
   "source": [
    "#e2 = spark.read.parquet('/sbgenomics/project-files/eqtl_BS.parquet/')\n",
    "#print(e2.count())\n",
    "#e2.show(2)"
   ]
  },
  {
   "cell_type": "code",
   "execution_count": 4,
   "id": "4eb132f1-af6f-48ad-81da-32f7b958d5eb",
   "metadata": {
    "collapsed": true,
    "jupyter": {
     "outputs_hidden": true
    },
    "tags": []
   },
   "outputs": [
    {
     "name": "stderr",
     "output_type": "stream",
     "text": [
      "[Stage 5:=======================================>                   (2 + 1) / 3]\r"
     ]
    },
    {
     "name": "stdout",
     "output_type": "stream",
     "text": [
      "1207976\n",
      "+-----------------+-------------+--------+----------+--------+------+-------+-----------+-----------+-------+------------+--------------------+------------+----+-----------+---+---+----------------+-----------------------+--------------------+------------------+---------+----------+------------+---------+--------+---------+---------+---------+----------------------+---------+--------------+--------------+--------------------+\n",
      "|          gene_id|    gene_name|gene_chr|gene_start|gene_end|strand|num_var|beta_shape1|beta_shape2|true_df|pval_true_df|          variant_id|tss_distance| chr|variant_pos|ref|alt|num_alt_per_site|rs_id_dbSNP151_GRCh38p7|minor_allele_samples|minor_allele_count|      maf|ref_factor|pval_nominal|    slope|slope_se|pval_perm|pval_beta|     qval|pval_nominal_threshold| log2_aFC|log2_aFC_lower|log2_aFC_upper|              tissue|\n",
      "+-----------------+-------------+--------+----------+--------+------+-------+-----------+-----------+-------+------------+--------------------+------------+----+-----------+---+---+----------------+-----------------------+--------------------+------------------+---------+----------+------------+---------+--------+---------+---------+---------+----------------------+---------+--------------+--------------+--------------------+\n",
      "|ENSG00000227232.5|       WASH7P|    chr1|     14410|   29553|     -|   1364|    1.03475|    293.915| 270.93| 0.000377596|chr1_1011654_G_A_b38|      982101|chr1|    1011654|  G|  A|               1|              rs2465126|                  54|                61|0.0819892|        -1| 0.000174071|-0.395935|0.104156|0.0932907|0.0957948|0.0657375|           0.000267585|-0.449017|     -0.668612|     -0.227412|Heart Atrial Appe...|\n",
      "|ENSG00000268903.1|RP11-34P13.15|    chr1|    135141|  135895|     -|   1863|    1.05722|    324.465|263.454| 0.000645316|chr1_1134748_T_G_b38|      998853|chr1|    1134748|  T|  G|               1|              rs9442378|                  34|                37|0.0572755|        -1| 0.000258857| 0.447251| 0.12097| 0.173393| 0.168014| 0.100856|           0.000259089| 1.880925|      0.714829|      2.554907|Heart Atrial Appe...|\n",
      "+-----------------+-------------+--------+----------+--------+------+-------+-----------+-----------+-------+------------+--------------------+------------+----+-----------+---+---+----------------+-----------------------+--------------------+------------------+---------+----------+------------+---------+--------+---------+---------+---------+----------------------+---------+--------------+--------------+--------------------+\n",
      "only showing top 2 rows\n",
      "\n"
     ]
    },
    {
     "name": "stderr",
     "output_type": "stream",
     "text": [
      "                                                                                \r"
     ]
    }
   ],
   "source": []
  },
  {
   "cell_type": "markdown",
   "id": "ee19902a-ea54-411d-be8c-c057e97a85d3",
   "metadata": {},
   "source": [
    "## Filter on depth/quality?"
   ]
  },
  {
   "cell_type": "code",
   "execution_count": 5,
   "id": "63be4c2c-bc85-4d5d-ae50-d9032231e851",
   "metadata": {
    "tags": []
   },
   "outputs": [
    {
     "name": "stderr",
     "output_type": "stream",
     "text": [
      "                                                                                \r"
     ]
    },
    {
     "name": "stdout",
     "output_type": "stream",
     "text": [
      "5760994\n",
      "+----------+-----+-----+---------+---------+------+-------+---------------------+--------------------+\n",
      "|chromosome|start|  end|reference|alternate|  qual|INFO_DP|splitFromMultiAllelic|           genotypes|\n",
      "+----------+-----+-----+---------+---------+------+-------+---------------------+--------------------+\n",
      "|      chr1|10438|10440|       AC|        A|  0.31|     12|                 true|[{BS_0302Y3N5, 26...|\n",
      "|      chr1|10443|10445|       TA|        T|  0.31|     10|                 true|[{BS_0302Y3N5, 26...|\n",
      "|      chr1|13272|13273|        G|        C|680.77|     22|                 true|[{BS_0302Y3N5, 66...|\n",
      "|      chr1|13416|13417|        C|    CGAGA|634.73|     18|                 true|[{BS_0302Y3N5, 45...|\n",
      "|      chr1|13612|13613|        T|        A| 57.77|     16|                 true|[{BS_0302Y3N5, 86...|\n",
      "+----------+-----+-----+---------+---------+------+-------+---------------------+--------------------+\n",
      "only showing top 5 rows\n",
      "\n"
     ]
    }
   ],
   "source": [
    "df_noNonRef = df_.where(~ (col('alternate') == '<NON_REF>')) \n",
    "print(df_noNonRef.count())\n",
    "df_noNonRef.show(5)"
   ]
  },
  {
   "cell_type": "code",
   "execution_count": 6,
   "id": "dd056aa3-f826-445f-8f7c-bc5b179f7159",
   "metadata": {
    "tags": []
   },
   "outputs": [
    {
     "name": "stderr",
     "output_type": "stream",
     "text": [
      "                                                                                \r"
     ]
    },
    {
     "data": {
      "text/plain": [
       "4464"
      ]
     },
     "execution_count": 6,
     "metadata": {},
     "output_type": "execute_result"
    }
   ],
   "source": [
    "df_snps_sample = df_noNonRef.sample(1/1000).where((F.length(\"reference\") == 1) & (F.length(\"alternate\") == 1))\n",
    "df_snps_sample.count()"
   ]
  },
  {
   "cell_type": "code",
   "execution_count": 16,
   "id": "48242b74-98da-44c0-9509-0df968dbb32c",
   "metadata": {},
   "outputs": [
    {
     "name": "stderr",
     "output_type": "stream",
     "text": [
      "                                                                                \r"
     ]
    },
    {
     "data": {
      "text/plain": [
       "4475351"
      ]
     },
     "execution_count": 16,
     "metadata": {},
     "output_type": "execute_result"
    }
   ],
   "source": [
    "df_snps.dropDuplicates(['chromosome','start','end','reference','alternate']).count()"
   ]
  },
  {
   "cell_type": "code",
   "execution_count": 25,
   "id": "fa3988f1-6ceb-4b2d-b02d-c422aa7f907f",
   "metadata": {
    "collapsed": true,
    "jupyter": {
     "outputs_hidden": true
    },
    "tags": []
   },
   "outputs": [
    {
     "data": {
      "text/plain": [
       "[('chromosome', 'string'),\n",
       " ('start', 'bigint'),\n",
       " ('end', 'bigint'),\n",
       " ('reference', 'string'),\n",
       " ('alternate', 'string'),\n",
       " ('qual', 'double'),\n",
       " ('INFO_DP', 'int'),\n",
       " ('splitFromMultiAllelic', 'boolean'),\n",
       " ('genotypes',\n",
       "  'array<struct<0:string,1:int,2:array<int>,3:array<int>,4:string,5:boolean,6:array<int>,7:int,8:string,9:array<int>,10:int>>')]"
      ]
     },
     "execution_count": 25,
     "metadata": {},
     "output_type": "execute_result"
    }
   ],
   "source": [
    "df_snps.dtypes"
   ]
  },
  {
   "cell_type": "code",
   "execution_count": 7,
   "id": "908d69eb-4d74-4f00-a890-67ec6ffabe95",
   "metadata": {
    "tags": []
   },
   "outputs": [
    {
     "name": "stdout",
     "output_type": "stream",
     "text": [
      "+----------+------+---------+---------+----------+\n",
      "|chromosome| start|reference|alternate|cadd_score|\n",
      "+----------+------+---------+---------+----------+\n",
      "|     chr11|106595|        A|        C|      20.2|\n",
      "+----------+------+---------+---------+----------+\n",
      "only showing top 1 row\n",
      "\n"
     ]
    }
   ],
   "source": [
    "cadd = spark.read.option('sep','\\t').csv('/sbgenomics/project-files/cadd_chrom_files_gt20/')\n",
    "cadd = cadd.select(col('_c0').alias('chromosome'),col('_c1').alias('start'),col('_c2').alias('reference'),\n",
    "            col('_c3').alias('alternate'),col('_c5').alias('cadd_score'))\n",
    "cadd = cadd.withColumn('chromosome',concat(lit('chr'),col('chromosome')))\n",
    "cadd.show(1)"
   ]
  },
  {
   "cell_type": "code",
   "execution_count": 18,
   "id": "126b6c38-634d-4ec1-91f7-130ab9d8ae57",
   "metadata": {},
   "outputs": [
    {
     "name": "stderr",
     "output_type": "stream",
     "text": [
      "                                                                                \r"
     ]
    },
    {
     "data": {
      "text/plain": [
       "87927481"
      ]
     },
     "execution_count": 18,
     "metadata": {},
     "output_type": "execute_result"
    }
   ],
   "source": [
    "cadd.count()"
   ]
  },
  {
   "cell_type": "code",
   "execution_count": 8,
   "id": "b44306d4-291f-44d6-ac5d-25743cbb44bf",
   "metadata": {},
   "outputs": [],
   "source": [
    "cadd = cadd.withColumn(\"start\", col('start').cast('int'))"
   ]
  },
  {
   "cell_type": "code",
   "execution_count": 29,
   "id": "3b5b9919-2364-4783-857b-3fc04414136e",
   "metadata": {
    "collapsed": true,
    "jupyter": {
     "outputs_hidden": true
    },
    "tags": []
   },
   "outputs": [
    {
     "data": {
      "text/plain": [
       "[('chromosome', 'string'),\n",
       " ('start', 'int'),\n",
       " ('reference', 'string'),\n",
       " ('alternate', 'string'),\n",
       " ('cadd_score', 'string')]"
      ]
     },
     "execution_count": 29,
     "metadata": {},
     "output_type": "execute_result"
    }
   ],
   "source": [
    "cadd.dtypes"
   ]
  },
  {
   "cell_type": "code",
   "execution_count": 20,
   "id": "71579706-a0d0-4aa1-abe6-8c384e732b71",
   "metadata": {},
   "outputs": [
    {
     "name": "stderr",
     "output_type": "stream",
     "text": [
      "                                                                                \r"
     ]
    },
    {
     "data": {
      "text/plain": [
       "87927481"
      ]
     },
     "execution_count": 20,
     "metadata": {},
     "output_type": "execute_result"
    }
   ],
   "source": [
    "cadd.drop_duplicates(['chromosome','start','reference','alternate']).count()"
   ]
  },
  {
   "cell_type": "code",
   "execution_count": null,
   "id": "d8fe4770-62cf-4aea-ba20-81bf6de4f0a9",
   "metadata": {},
   "outputs": [],
   "source": []
  },
  {
   "cell_type": "code",
   "execution_count": null,
   "id": "880024d0-9d8a-439c-a70f-68c31c91989f",
   "metadata": {},
   "outputs": [
    {
     "name": "stderr",
     "output_type": "stream",
     "text": [
      "                                                                                \r"
     ]
    },
    {
     "name": "stdout",
     "output_type": "stream",
     "text": [
      "4464\n"
     ]
    },
    {
     "name": "stderr",
     "output_type": "stream",
     "text": [
      "[Stage 16:================>                                       (15 + 1) / 52]\r"
     ]
    }
   ],
   "source": [
    "j = df_snps_sample.join(cadd,['chromosome','start','reference','alternate'],'left')\n",
    "print(j.count())\n",
    "j.show()"
   ]
  },
  {
   "cell_type": "code",
   "execution_count": null,
   "id": "114c19df-fa81-42c8-a52d-386fe956cc79",
   "metadata": {},
   "outputs": [],
   "source": [
    "lst=[]\n",
    "eqtl_BS_cols=eqtl_BS.columns\n",
    "for i in eqtl_BS_cols:\n",
    "    if eqtl_BS_cols.count(i)==2:\n",
    "        ind=eqtl_BS_cols.index(i)\n",
    "        lst.append(ind)\n",
    "lst1=list(set(lst))\n",
    "for i in lst1:eqtl_BS_cols[i]=eqtl_BS_cols[i]+'_0'\n",
    "eqtl_BS=eqtl_BS.toDF(*eqtl_BS_cols)"
   ]
  },
  {
   "cell_type": "code",
   "execution_count": null,
   "id": "b359712c-d222-4f90-8b93-34b44b6815a9",
   "metadata": {},
   "outputs": [],
   "source": []
  },
  {
   "cell_type": "code",
   "execution_count": 1,
   "id": "0d37b434-31e2-4e7d-bf0d-999b0fc940ca",
   "metadata": {},
   "outputs": [],
   "source": [
    "!mv cadd_gnomad_all.parquet /sbgenomics/output-files/"
   ]
  },
  {
   "cell_type": "code",
   "execution_count": 35,
   "id": "ff4e2cf1-e506-48ec-84b4-7d7b5abe3cb9",
   "metadata": {},
   "outputs": [
    {
     "name": "stdout",
     "output_type": "stream",
     "text": [
      "273946\n",
      "+------+------+------+---+--------+-----+\n",
      "|#Chrom|   Pos|   Ref|Alt|RawScore|PHRED|\n",
      "+------+------+------+---+--------+-----+\n",
      "|     1| 16855|    TA|  T|2.374888| 22.0|\n",
      "|     1| 69159|     G| GT|3.633615| 25.2|\n",
      "|     1| 69469|ACAATT|  A|3.295503| 24.1|\n",
      "|     1| 69745|     C| CA|2.731050| 22.9|\n",
      "|     1|183128|  CCAG|  C|3.568688| 24.9|\n",
      "+------+------+------+---+--------+-----+\n",
      "only showing top 5 rows\n",
      "\n"
     ]
    }
   ],
   "source": [
    "cadd_indels = spark.read.option(\"header\",\"true\").option('sep','\\t').csv('/sbgenomics/project-files/cadd_gnomad_gt_20.tsv')\n",
    "print(cadd_indels.count())\n",
    "cadd_indels.show(5)"
   ]
  },
  {
   "cell_type": "code",
   "execution_count": 36,
   "id": "2e7119e5-c253-4f2a-9933-6add0780d242",
   "metadata": {},
   "outputs": [
    {
     "name": "stdout",
     "output_type": "stream",
     "text": [
      "+----------+-----+---------+---------+----------+\n",
      "|chromosome|start|reference|alternate|cadd_score|\n",
      "+----------+-----+---------+---------+----------+\n",
      "|         1|16855|       TA|        T|      22.0|\n",
      "+----------+-----+---------+---------+----------+\n",
      "only showing top 1 row\n",
      "\n"
     ]
    }
   ],
   "source": [
    "cadd_indels = cadd_indels.select(col('#Chrom').alias('chromosome'),col('Pos').alias('start'),col('Ref').alias('reference'),\n",
    "            col('Alt').alias('alternate'),col('PHRED').alias('cadd_score'))\n",
    "cadd_indels.show(1)"
   ]
  },
  {
   "cell_type": "code",
   "execution_count": 37,
   "id": "2106ebdb-d7f3-408f-a053-fd6073d9d4bb",
   "metadata": {},
   "outputs": [
    {
     "name": "stderr",
     "output_type": "stream",
     "text": [
      "                                                                                \r"
     ]
    }
   ],
   "source": [
    "cadd_indels.repartitionByRange(50, \"chromosome\", \"start\").write\\\n",
    "      .mode('overwrite')\\\n",
    "      .partitionBy(\"chromosome\")\\\n",
    "      .parquet(\"cadd_gt20_gnomAD_all_chroms.parquet\")"
   ]
  },
  {
   "cell_type": "code",
   "execution_count": 38,
   "id": "d9b0a899-a453-4b5a-90fc-8f1e83a5c8df",
   "metadata": {},
   "outputs": [],
   "source": [
    "cadd_indels = spark.read.option(\"header\",\"true\").parquet('cadd_gt20_gnomAD_all_chroms.parquet')\n"
   ]
  },
  {
   "cell_type": "code",
   "execution_count": 43,
   "id": "5082adbc-d83b-4bcb-a6ef-a4cc6837f0c1",
   "metadata": {},
   "outputs": [
    {
     "name": "stderr",
     "output_type": "stream",
     "text": [
      "                                                                                \r"
     ]
    },
    {
     "data": {
      "text/plain": [
       "1285643"
      ]
     },
     "execution_count": 43,
     "metadata": {},
     "output_type": "execute_result"
    }
   ],
   "source": [
    "df_indels = df_noNonRef.where(~ ((F.length(\"reference\") == 1) & (F.length(\"alternate\") == 1)))\n",
    "df_indels.count()"
   ]
  },
  {
   "cell_type": "code",
   "execution_count": null,
   "id": "61b3c2bb-b3e3-44f7-bb10-0dbe4e75daa8",
   "metadata": {},
   "outputs": [],
   "source": []
  },
  {
   "cell_type": "markdown",
   "id": "8fe9ec6a-01a3-4efa-a6a8-600e3ebbac75",
   "metadata": {},
   "source": [
    "## Getting High Impact and eQTL CADD scores"
   ]
  },
  {
   "cell_type": "code",
   "execution_count": null,
   "id": "66ee5676-e4e9-4db9-a91b-c56dd5dd306d",
   "metadata": {},
   "outputs": [],
   "source": [
    "# Need to merge High Impact and eQTL variants w/ each patients parquet gVCF file\n",
    "# so we have a dataframe of each patients high Impact and eQTL variants. Then combine them \n",
    "# and then split by snp/indel\n",
    "\n",
    "# we want to add the high impact and eqtl SNPs to the master SNPs dataframe before we merge it w/ CADD scores, \n",
    "# same thing w/ indels"
   ]
  },
  {
   "cell_type": "code",
   "execution_count": 4,
   "id": "56dcbafd-f75d-4932-b0be-3e108ec1b0d7",
   "metadata": {},
   "outputs": [
    {
     "name": "stderr",
     "output_type": "stream",
     "text": [
      "[Stage 1:>                                                          (0 + 1) / 1]\r"
     ]
    },
    {
     "name": "stdout",
     "output_type": "stream",
     "text": [
      "+---+------+---+---+--------+-----+\n",
      "|  0|     1|  2|  3|       4|    5|\n",
      "+---+------+---+---+--------+-----+\n",
      "| 11|426388|  A|  G|0.243482|3.628|\n",
      "+---+------+---+---+--------+-----+\n",
      "only showing top 1 row\n",
      "\n"
     ]
    },
    {
     "name": "stderr",
     "output_type": "stream",
     "text": [
      "                                                                                \r"
     ]
    }
   ],
   "source": [
    "# full snp CADD scores\n",
    "chr11 = spark.read.option(\"header\",\"true\").parquet('/sbgenomics/project-files/cadd_chrom_files_parquet/chr11')\n",
    "chr11.show(1)"
   ]
  },
  {
   "cell_type": "code",
   "execution_count": 5,
   "id": "896d1a97-8622-4f84-b10e-08968bb5d93e",
   "metadata": {},
   "outputs": [
    {
     "name": "stderr",
     "output_type": "stream",
     "text": [
      "                                                                                \r"
     ]
    },
    {
     "data": {
      "text/plain": [
       "399413448"
      ]
     },
     "execution_count": 5,
     "metadata": {},
     "output_type": "execute_result"
    }
   ],
   "source": [
    "chr12 = spark.read.option(\"header\",\"true\").parquet('/sbgenomics/project-files/cadd_chrom_files_parquet/chr12')\n",
    "chr12.count()"
   ]
  },
  {
   "cell_type": "code",
   "execution_count": null,
   "id": "ab877dbc-6660-4f4f-8605-d9e5da3adac2",
   "metadata": {},
   "outputs": [],
   "source": []
  },
  {
   "cell_type": "code",
   "execution_count": null,
   "id": "9411791a-5865-4c3f-81d7-49041735c403",
   "metadata": {},
   "outputs": [],
   "source": [
    "---------------\n",
    "chr11 load took 0.08305475314458212 minutes\n",
    "chr11 has : 403601226 rows\n",
    "---------------\n",
    "chr12 load took 0.090668519337972 minutes\n",
    "chr12 has : 399413448 rows"
   ]
  },
  {
   "cell_type": "code",
   "execution_count": 6,
   "id": "43d51718-40c6-4f51-ad4b-ba79c71109f9",
   "metadata": {},
   "outputs": [
    {
     "name": "stderr",
     "output_type": "stream",
     "text": [
      "                                                                                \r"
     ]
    },
    {
     "data": {
      "text/plain": [
       "403601226"
      ]
     },
     "execution_count": 6,
     "metadata": {},
     "output_type": "execute_result"
    }
   ],
   "source": [
    "# full indel CADD scores\n",
    "chr11 = spark.read.option(\"header\",\"true\").parquet('/sbgenomics/project-files/cadd_gnomad_all.parquet')"
   ]
  },
  {
   "cell_type": "code",
   "execution_count": null,
   "id": "a4ffcc20-a8e9-417b-9ce1-9a502f9ece3a",
   "metadata": {},
   "outputs": [],
   "source": []
  },
  {
   "cell_type": "code",
   "execution_count": 7,
   "id": "06e7ee76-5c7d-43ac-afbc-83a99f8bec18",
   "metadata": {},
   "outputs": [],
   "source": [
    "# High Impact data\n"
   ]
  },
  {
   "cell_type": "code",
   "execution_count": 8,
   "id": "ecf1ac94-8248-4198-8ed1-d7f346049020",
   "metadata": {},
   "outputs": [],
   "source": [
    "# eQTL data\n",
    "eqtls = spark.read.csv('/sbgenomics/project-files/eqtls_gtexV8.csv',header=True)\n",
    "\n",
    "eqtls_select = eqtls.select(col(\"chr\").alias(\"chromosome\"), col(\"variant_pos\").alias(\"start\"),\n",
    "                             col(\"ref\").alias(\"reference\"),col(\"alt\").alias(\"alternate\"),col('gene_name'),col('rs_id_dbSNP151_GRCh38p7'))\n",
    "\n",
    "eqtls_select = eqtls_select.withColumn('unique_variant_id',concat(col(\"chromosome\"), lit(\":\"),\n",
    "                                                   col(\"start\"),lit(':'),col('reference'),\n",
    "                                                   lit(':'),col('alternate'))) \n",
    "\n",
    "#eqtls_select = eqtls_select.withColumn('chromosome',F.regexp_replace(col(\"chromosome\"), \"[chr,]\", \"\") )\n",
    "\n",
    "#eqtls_indels = eqtls_select.where(  (F.length(\"reference\") > 1) | (F.length(\"alternate\") > 1)  )\n",
    "#eqtls_SNPs = eqtls_select.where(  ~( (F.length(\"reference\") > 1) | (F.length(\"alternate\") > 1) ) )\n"
   ]
  },
  {
   "cell_type": "code",
   "execution_count": 15,
   "id": "4d56fe85-43b8-4f60-b9af-b1d41cafded4",
   "metadata": {},
   "outputs": [
    {
     "name": "stderr",
     "output_type": "stream",
     "text": [
      "                                                                                \r"
     ]
    },
    {
     "data": {
      "text/plain": [
       "430592"
      ]
     },
     "execution_count": 15,
     "metadata": {},
     "output_type": "execute_result"
    }
   ],
   "source": [
    "df_.sample(1/10000).count()"
   ]
  },
  {
   "cell_type": "code",
   "execution_count": 11,
   "id": "386b22c1-4370-4d9e-bb3f-dd2a4db726bf",
   "metadata": {},
   "outputs": [],
   "source": [
    "df_ = df_.withColumn('unique_variant_id',concat(col(\"chromosome\"), lit(\":\"),\n",
    "                                                   col(\"start\"),lit(':'),col('reference'),\n",
    "                                                   lit(':'),col('alternate'))) "
   ]
  },
  {
   "cell_type": "code",
   "execution_count": 16,
   "id": "77e674e8-b638-40c3-9ae3-ed72e33897ff",
   "metadata": {
    "collapsed": true,
    "jupyter": {
     "outputs_hidden": true
    },
    "tags": []
   },
   "outputs": [
    {
     "name": "stderr",
     "output_type": "stream",
     "text": [
      "                                                                                \r"
     ]
    },
    {
     "name": "stdout",
     "output_type": "stream",
     "text": [
      "43174\n"
     ]
    },
    {
     "name": "stderr",
     "output_type": "stream",
     "text": [
      "[Stage 17:>                                                         (0 + 1) / 1]\r"
     ]
    },
    {
     "name": "stdout",
     "output_type": "stream",
     "text": [
      "+----------+-------+-------+---------+---------+----+-------+---------------------+--------------------+--------------------+\n",
      "|chromosome|  start|    end|reference|alternate|qual|INFO_DP|splitFromMultiAllelic|           genotypes|   unique_variant_id|\n",
      "+----------+-------+-------+---------+---------+----+-------+---------------------+--------------------+--------------------+\n",
      "|      chr1|  67280|  67289|        C|<NON_REF>|null|   null|                false|[{BS_0302Y3N5, 30...|chr1:67280:C:<NON...|\n",
      "|      chr1| 260130| 260131|        A|<NON_REF>|null|   null|                false|[{BS_0302Y3N5, 50...|chr1:260130:A:<NO...|\n",
      "|      chr1| 262220| 262229|        C|<NON_REF>|null|   null|                false|[{BS_0302Y3N5, 45...|chr1:262220:C:<NO...|\n",
      "|      chr1| 362098| 362099|        C|<NON_REF>|null|   null|                false|[{BS_0302Y3N5, 27...|chr1:362098:C:<NO...|\n",
      "|      chr1| 635359| 635364|        G|<NON_REF>|null|   null|                false|[{BS_0302Y3N5, 74...|chr1:635359:G:<NO...|\n",
      "|      chr1| 649257| 649258|        G|<NON_REF>|null|   null|                false|[{BS_0302Y3N5, 42...|chr1:649257:G:<NO...|\n",
      "|      chr1| 673987| 673988|        A|<NON_REF>|null|   null|                false|[{BS_0302Y3N5, 21...|chr1:673987:A:<NO...|\n",
      "|      chr1| 924681| 924683|        A|<NON_REF>|null|   null|                false|[{BS_0302Y3N5, 60...|chr1:924681:A:<NO...|\n",
      "|      chr1| 927009| 927011|        G|<NON_REF>|null|   null|                false|[{BS_0302Y3N5, 78...|chr1:927009:G:<NO...|\n",
      "|      chr1|1007984|1007985|        A|<NON_REF>|null|   null|                false|[{BS_0302Y3N5, 59...|chr1:1007984:A:<N...|\n",
      "|      chr1|1031935|1031937|        T|<NON_REF>|null|   null|                false|[{BS_0302Y3N5, 99...|chr1:1031935:T:<N...|\n",
      "|      chr1|1065161|1065162|        G|<NON_REF>|null|   null|                false|[{BS_0302Y3N5, 15...|chr1:1065161:G:<N...|\n",
      "|      chr1|1076348|1076349|        G|<NON_REF>|null|   null|                false|[{BS_0302Y3N5, 10...|chr1:1076348:G:<N...|\n",
      "|      chr1|1081630|1081631|        A|<NON_REF>|null|   null|                false|[{BS_0302Y3N5, 99...|chr1:1081630:A:<N...|\n",
      "|      chr1|1086184|1086185|        G|<NON_REF>|null|   null|                false|[{BS_0302Y3N5, 77...|chr1:1086184:G:<N...|\n",
      "|      chr1|1087907|1087908|        C|<NON_REF>|null|   null|                false|[{BS_0302Y3N5, 90...|chr1:1087907:C:<N...|\n",
      "|      chr1|1139782|1139796|        G|<NON_REF>|null|   null|                false|[{BS_0302Y3N5, 3,...|chr1:1139782:G:<N...|\n",
      "|      chr1|1149595|1149596|        C|<NON_REF>|null|   null|                false|[{BS_0302Y3N5, 59...|chr1:1149595:C:<N...|\n",
      "|      chr1|1179005|1179006|        G|<NON_REF>|null|   null|                false|[{BS_0302Y3N5, 89...|chr1:1179005:G:<N...|\n",
      "|      chr1|1259381|1259382|        G|<NON_REF>|null|   null|                false|[{BS_0302Y3N5, 96...|chr1:1259381:G:<N...|\n",
      "+----------+-------+-------+---------+---------+----+-------+---------------------+--------------------+--------------------+\n",
      "only showing top 20 rows\n",
      "\n"
     ]
    },
    {
     "name": "stderr",
     "output_type": "stream",
     "text": [
      "                                                                                \r"
     ]
    }
   ],
   "source": [
    "sample = df_.sample(1/10000)\n",
    "print(sample.count())\n",
    "sample.show()"
   ]
  },
  {
   "cell_type": "code",
   "execution_count": null,
   "id": "90a13f10-5b94-4046-b1a9-811388c83e65",
   "metadata": {},
   "outputs": [],
   "source": []
  },
  {
   "cell_type": "code",
   "execution_count": 17,
   "id": "03930a58-21ee-4fa6-bc2c-4e780938df72",
   "metadata": {},
   "outputs": [],
   "source": [
    "eqtl_bs = sample.join(eqtls_select,['unique_variant_id'],'leftsemi')"
   ]
  },
  {
   "cell_type": "code",
   "execution_count": null,
   "id": "1d31c1e5-66bd-4ea5-b038-274223c23dd8",
   "metadata": {},
   "outputs": [
    {
     "name": "stderr",
     "output_type": "stream",
     "text": [
      "[Stage 18:====>           (13 + 1) / 52][Stage 19:>                 (0 + 0) / 3]\r"
     ]
    }
   ],
   "source": [
    "eqtl_bs.count()"
   ]
  },
  {
   "cell_type": "code",
   "execution_count": 9,
   "id": "642b1b5c-e72e-40fc-9594-e25ccb57102b",
   "metadata": {},
   "outputs": [],
   "source": []
  },
  {
   "cell_type": "code",
   "execution_count": 15,
   "id": "0e16ce4e-6635-4a33-b196-ff09edca7e50",
   "metadata": {
    "collapsed": true,
    "jupyter": {
     "outputs_hidden": true
    },
    "tags": []
   },
   "outputs": [
    {
     "name": "stderr",
     "output_type": "stream",
     "text": [
      "[Stage 13:======================================================> (51 + 1) / 52]\r"
     ]
    },
    {
     "name": "stdout",
     "output_type": "stream",
     "text": [
      "+--------------------+----------+---------+---------+---------+---------+----+-------+---------------------+--------------------+----------+-----+---------+---------+---------+-----------------------+\n",
      "|   unique_variant_id|chromosome|    start|      end|reference|alternate|qual|INFO_DP|splitFromMultiAllelic|           genotypes|chromosome|start|reference|alternate|gene_name|rs_id_dbSNP151_GRCh38p7|\n",
      "+--------------------+----------+---------+---------+---------+---------+----+-------+---------------------+--------------------+----------+-----+---------+---------+---------+-----------------------+\n",
      "|chr10:13235225:T:...|     chr10| 13235225| 13235226|        T|<NON_REF>|null|   null|                false|[{BS_0302Y3N5, 33...|      null| null|     null|     null|     null|                   null|\n",
      "|chr10:132991055:G...|     chr10|132991055|132991061|        G|<NON_REF>|null|   null|                false|[{BS_0302Y3N5, 90...|      null| null|     null|     null|     null|                   null|\n",
      "|chr10:21763994:T:...|     chr10| 21763994| 21763995|        T|<NON_REF>|null|   null|                false|[{BS_0302Y3N5, 96...|      null| null|     null|     null|     null|                   null|\n",
      "|chr10:29274239:A:...|     chr10| 29274239| 29274246|        A|<NON_REF>|null|   null|                false|[{BS_0302Y3N5, 93...|      null| null|     null|     null|     null|                   null|\n",
      "|chr10:35508995:C:...|     chr10| 35508995| 35508996|        C|<NON_REF>|null|   null|                false|[{BS_0302Y3N5, 73...|      null| null|     null|     null|     null|                   null|\n",
      "|chr10:4894920:A:<...|     chr10|  4894920|  4894922|        A|<NON_REF>|null|   null|                false|[{BS_0302Y3N5, 75...|      null| null|     null|     null|     null|                   null|\n",
      "|chr10:60866572:C:...|     chr10| 60866572| 60866580|        C|<NON_REF>|null|   null|                false|[{BS_0302Y3N5, 93...|      null| null|     null|     null|     null|                   null|\n",
      "|chr10:99471622:G:...|     chr10| 99471622| 99471623|        G|<NON_REF>|null|   null|                false|[{BS_0302Y3N5, 28...|      null| null|     null|     null|     null|                   null|\n",
      "|chr11:103376814:G...|     chr11|103376814|103376816|        G|<NON_REF>|null|   null|                false|[{BS_0302Y3N5, 84...|      null| null|     null|     null|     null|                   null|\n",
      "|chr11:126982950:T...|     chr11|126982950|126982951|        T|<NON_REF>|null|   null|                false|[{BS_0302Y3N5, 91...|      null| null|     null|     null|     null|                   null|\n",
      "|chr11:13017387:C:...|     chr11| 13017387| 13017388|        C|<NON_REF>|null|   null|                false|[{BS_0302Y3N5, 48...|      null| null|     null|     null|     null|                   null|\n",
      "|chr11:33407336:G:...|     chr11| 33407336| 33407337|        G|<NON_REF>|null|   null|                false|[{BS_0302Y3N5, 90...|      null| null|     null|     null|     null|                   null|\n",
      "|chr11:65237696:G:...|     chr11| 65237696| 65237697|        G|<NON_REF>|null|   null|                false|[{BS_0302Y3N5, 57...|      null| null|     null|     null|     null|                   null|\n",
      "|chr11:81531076:T:...|     chr11| 81531076| 81531078|        T|<NON_REF>|null|   null|                false|[{BS_0302Y3N5, 99...|      null| null|     null|     null|     null|                   null|\n",
      "|chr12:106397882:A...|     chr12|106397882|106397930|        A|<NON_REF>|null|   null|                false|[{BS_0302Y3N5, 99...|      null| null|     null|     null|     null|                   null|\n",
      "|chr12:108876495:A...|     chr12|108876495|108876498|        A|<NON_REF>|null|   null|                false|[{BS_0302Y3N5, 75...|      null| null|     null|     null|     null|                   null|\n",
      "|chr12:122101521:C...|     chr12|122101521|122101522|        C|<NON_REF>|null|   null|                false|[{BS_0302Y3N5, 57...|      null| null|     null|     null|     null|                   null|\n",
      "|chr12:12873591:A:...|     chr12| 12873591| 12873614|        A|<NON_REF>|null|   null|                false|[{BS_0302Y3N5, 90...|      null| null|     null|     null|     null|                   null|\n",
      "|chr12:131435032:T...|     chr12|131435032|131435033|        T|<NON_REF>|null|   null|                false|[{BS_0302Y3N5, 98...|      null| null|     null|     null|     null|                   null|\n",
      "|chr12:131688440:T...|     chr12|131688440|131688441|        T|<NON_REF>|null|   null|                false|[{BS_0302Y3N5, 45...|      null| null|     null|     null|     null|                   null|\n",
      "+--------------------+----------+---------+---------+---------+---------+----+-------+---------------------+--------------------+----------+-----+---------+---------+---------+-----------------------+\n",
      "only showing top 20 rows\n",
      "\n"
     ]
    },
    {
     "name": "stderr",
     "output_type": "stream",
     "text": [
      "                                                                                \r"
     ]
    }
   ],
   "source": [
    "eqtl_bs.show()"
   ]
  },
  {
   "cell_type": "code",
   "execution_count": 4,
   "id": "127647f6-d805-42b5-b769-a1ed7843d2f2",
   "metadata": {
    "collapsed": true,
    "jupyter": {
     "outputs_hidden": true
    },
    "tags": []
   },
   "outputs": [
    {
     "name": "stderr",
     "output_type": "stream",
     "text": [
      "[Stage 1:>                                                          (0 + 1) / 1]\r"
     ]
    },
    {
     "name": "stdout",
     "output_type": "stream",
     "text": [
      "+----------+------+---------+---------+------------------+\n",
      "|chromosome| start|reference|alternate|        cadd_score|\n",
      "+----------+------+---------+---------+------------------+\n",
      "|         1|491144|        T|        C|             5.115|\n",
      "|         1|491144|        T|        G|             4.758|\n",
      "|         1|491145|        G|        A|              4.98|\n",
      "|         1|491145|        G|        C|              4.56|\n",
      "|         1|491145|        G|        T|              4.42|\n",
      "|         1|491146|        C|        A|               5.9|\n",
      "|         1|491146|        C|        G|             6.086|\n",
      "|         1|491146|        C|        T|6.5329999999999995|\n",
      "|         1|491147|        T|        A|             4.989|\n",
      "|         1|491147|        T|        C| 5.531000000000001|\n",
      "|         1|491147|        T|        G|             5.181|\n",
      "|         1|491148|        G|        A|             4.695|\n",
      "|         1|491148|        G|        C|             4.271|\n",
      "|         1|491148|        G|        T|             4.129|\n",
      "|         1|491149|        T|        A|             1.501|\n",
      "|         1|491149|        T|        C|             1.865|\n",
      "|         1|491149|        T|        G|1.6219999999999999|\n",
      "|         1|491150|        G|        A|             5.931|\n",
      "|         1|491150|        G|        C| 5.531000000000001|\n",
      "|         1|491150|        G|        T|             5.396|\n",
      "+----------+------+---------+---------+------------------+\n",
      "only showing top 20 rows\n",
      "\n"
     ]
    },
    {
     "name": "stderr",
     "output_type": "stream",
     "text": [
      "                                                                                \r"
     ]
    }
   ],
   "source": [
    "\n",
    "cadd_snps = spark.read.option(\"header\",\"true\").parquet('/sbgenomics/project-files/cadd_chrom_files_parquet/chr1')\n",
    "\n",
    "cadd_snps.select(col('0').alias('chromosome'),col('1').alias('start'),col('2').alias('reference'),\n",
    "            col('3').alias('alternate'),col('5').alias('cadd_score')).show()"
   ]
  },
  {
   "cell_type": "code",
   "execution_count": 8,
   "id": "7a1df3cb-181a-4ccc-be0e-1fea7fa8f714",
   "metadata": {
    "collapsed": true,
    "jupyter": {
     "outputs_hidden": true
    },
    "tags": []
   },
   "outputs": [
    {
     "name": "stderr",
     "output_type": "stream",
     "text": [
      "[Stage 2:>                                                          (0 + 1) / 1]\r"
     ]
    },
    {
     "name": "stdout",
     "output_type": "stream",
     "text": [
      "+---+------+---+---+-------------------+-----+\n",
      "|  0|     1|  2|  3|                  4|    5|\n",
      "+---+------+---+---+-------------------+-----+\n",
      "|  1|491144|  T|  C|0.37209200000000003|5.115|\n",
      "+---+------+---+---+-------------------+-----+\n",
      "only showing top 1 row\n",
      "\n"
     ]
    },
    {
     "name": "stderr",
     "output_type": "stream",
     "text": [
      "                                                                                \r"
     ]
    }
   ],
   "source": [
    "cadd_snps.show(1)"
   ]
  },
  {
   "cell_type": "markdown",
   "id": "6f239554-f4d2-4f3e-a4dc-78abb6235e54",
   "metadata": {},
   "source": [
    "### Create the eQTL/High Impact dataset"
   ]
  },
  {
   "cell_type": "code",
   "execution_count": 4,
   "id": "581d7447-2975-489e-9711-8d4f4d94784f",
   "metadata": {
    "tags": []
   },
   "outputs": [
    {
     "name": "stdout",
     "output_type": "stream",
     "text": [
      "1207976\n"
     ]
    },
    {
     "name": "stderr",
     "output_type": "stream",
     "text": [
      "[Stage 11:=========================================>                (5 + 1) / 7]\r"
     ]
    },
    {
     "name": "stdout",
     "output_type": "stream",
     "text": [
      "13921\n"
     ]
    },
    {
     "name": "stderr",
     "output_type": "stream",
     "text": [
      "                                                                                \r"
     ]
    }
   ],
   "source": [
    "eqtls_gtexV8_select = spark.read.option(\"header\",\"true\").parquet('eqtls_gtexV8_formatted.parquet')\n",
    "print(eqtls_gtexV8_select.count())\n",
    "#eqtls_gtexV8_select.show(2)\n",
    "\n",
    "highImpact = spark.read.option(\"header\",\"true\").parquet('/sbgenomics/project-files/highImpact_noDups.parquet')\n",
    "print(highImpact.count() )\n",
    "#highImpact.show(3)\n",
    "\n",
    "cols = ['chromosome', 'start', 'reference', 'alternate', 'rsID', 'symbol', 'unique_variant_id','eqtl_boolean']"
   ]
  },
  {
   "cell_type": "code",
   "execution_count": 3,
   "id": "f95078d2-aaaa-45f1-b913-91819e4dbc80",
   "metadata": {
    "tags": []
   },
   "outputs": [
    {
     "name": "stdout",
     "output_type": "stream",
     "text": [
      "+----------+---------+---------+---------+-----------+----------+--------------------+\n",
      "|chromosome|    start|reference|alternate|       rsID|    symbol|   unique_variant_id|\n",
      "+----------+---------+---------+---------+-----------+----------+--------------------+\n",
      "|         1|176218532|        A|        G|rs184258717|AL359265.3|1:176218532:17621...|\n",
      "|        15| 51037682|        G|        C|       null| MIR4713HG|15:51037682:51037...|\n",
      "|         7|123452801|        C|        T|       null|      IQUB|7:123452801:12345...|\n",
      "|         7|117480144|       TC|        T|       null|      CFTR|7:117480144:11748...|\n",
      "|        15| 84884752|        G|        A|       null|   SLC28A1|15:84884752:84884...|\n",
      "|        17| 18778544|       AG|        A|rs201275430|    FBXW10|17:18778544:18778...|\n",
      "|         2| 54359066|        C|        T|       null|   C2orf73|2:54359066:543590...|\n",
      "|         1| 52375501|       GC|        G|       null|      ORC1|1:52375501:523755...|\n",
      "|         8|143577353|        C|        A|rs375685835|     NAPRT|8:143577353:14357...|\n",
      "|        11| 56819580|        C|        A| rs61108658|    OR5G5P|11:56819580:56819...|\n",
      "|        11| 61963147|        T|        C|rs150166752|     BEST1|11:61963147:61963...|\n",
      "|        11| 60095557|        G|        A| rs17860459|     MS4A2|11:60095557:60095...|\n",
      "|        13| 43919384|        G|        A|       null|AL512506.3|13:43919384:43919...|\n",
      "|         2| 94873571|        C|        T|       null|     TEKT4|2:94873571:948735...|\n",
      "|        17|  5033332|       AG|        A|       null|   SLC52A1|17:5033332:503333...|\n",
      "|        17|  3610775|        G|        A|       null|AC027796.3|17:3610775:361077...|\n",
      "|        17|  3729538|       GA|        G|       null|     ITGAE|17:3729538:372954...|\n",
      "|         4|167083237|        C|        T|       null|    SPOCK3|4:167083237:16708...|\n",
      "|         9|108855929|        A|        G| rs17728850|    ACTL7B|9:108855929:10885...|\n",
      "|         2|226914348|        C|        T|rs147605304|    RHBDD1|2:226914348:22691...|\n",
      "+----------+---------+---------+---------+-----------+----------+--------------------+\n",
      "only showing top 20 rows\n",
      "\n"
     ]
    }
   ],
   "source": [
    "highImpact.show()"
   ]
  },
  {
   "cell_type": "code",
   "execution_count": 13,
   "id": "ccfe905e-400b-41df-bd56-2ba4f5655ade",
   "metadata": {},
   "outputs": [],
   "source": [
    "eqtls_gtexV8_select = eqtls_gtexV8_select.withColumn('eqtl_boolean',lit(1))\n",
    "\n",
    "highImpact = highImpact.withColumn('eqtl_boolean',lit(0))"
   ]
  },
  {
   "cell_type": "code",
   "execution_count": 20,
   "id": "58ee6ecf-c33f-4415-9283-6e15eaa9d87b",
   "metadata": {
    "tags": []
   },
   "outputs": [],
   "source": [
    "\n",
    "#both = eqtls_gtexV8_select.select(cols).union(highImpact.select(cols))\n",
    "#both.show(2)\n",
    "\n",
    "#both.repartitionByRange(50, \"chromosome\", \"start\").write\\\n",
    "#      .mode('overwrite')\\\n",
    "#      .partitionBy(\"chromosome\").parquet('eqtls_and_high_impact.parquet')\n",
    "!mv eqtls_and_high_impact.parquet /sbgenomics/output-files/\n"
   ]
  },
  {
   "cell_type": "code",
   "execution_count": 7,
   "id": "4c428292-543c-4d95-8539-4e9de62c171e",
   "metadata": {},
   "outputs": [
    {
     "name": "stderr",
     "output_type": "stream",
     "text": [
      "                                                                                \r"
     ]
    },
    {
     "data": {
      "text/plain": [
       "13921"
      ]
     },
     "execution_count": 7,
     "metadata": {},
     "output_type": "execute_result"
    }
   ],
   "source": [
    "both.where(col('eqtl_boolean') == 0).count()"
   ]
  },
  {
   "cell_type": "code",
   "execution_count": 18,
   "id": "cb68c61e-6139-469d-9aeb-30d34a80604d",
   "metadata": {
    "collapsed": true,
    "jupyter": {
     "outputs_hidden": true
    },
    "tags": []
   },
   "outputs": [
    {
     "name": "stdout",
     "output_type": "stream",
     "text": [
      "+----------+---------+---------+---------+-----------+------------+------------------+------------+\n",
      "|chromosome|    start|reference|alternate|       rsID|      symbol| unique_variant_id|eqtl_boolean|\n",
      "+----------+---------+---------+---------+-----------+------------+------------------+------------+\n",
      "|         1| 21265440|        A|        G|   rs785193|RP5-1071N3.1|    1:21265440:A:G|           1|\n",
      "|         1| 21240588|    CAAGA|        C| rs34170976|        ECE1|1:21240588:CAAGA:C|           1|\n",
      "|         1|210468094|        A|        G|   rs981754|      CAMK1G|   1:210468094:A:G|           1|\n",
      "|         1|210358956|        C|        T| rs17016026|     C1orf74|   1:210358956:C:T|           1|\n",
      "|         1|210223447|        G|        A| rs74156109|     SERTAD4|   1:210223447:G:A|           1|\n",
      "|         1|210280593|        T|        C|   rs646512| SERTAD4-AS1|   1:210280593:T:C|           1|\n",
      "|         1|210527081|        A|        G|  rs4303076|     ST13P19|   1:210527081:A:G|           1|\n",
      "|         1|210401602|        T|        A|  rs3765862|        HHAT|   1:210401602:T:A|           1|\n",
      "|         1|211490807|        C|        T| rs12144174|       RCOR3|   1:211490807:C:T|           1|\n",
      "|         1|212264401|        G|        A| rs78936222|       TRAF5|   1:212264401:G:A|           1|\n",
      "|         1|211382789|        C|        G| rs41303051|   LINC00467|   1:211382789:C:G|           1|\n",
      "|         1|211397661|        A|        G|   rs784385|     SNX25P1|   1:211397661:A:G|           1|\n",
      "|         1|211045773|        A|        G| rs80040329|         RD3|   1:211045773:A:G|           1|\n",
      "|         1|210633824|        G|        A|rs151211549|     SLC30A1|   1:210633824:G:A|           1|\n",
      "|         1|211630824|        T|        C| rs12087826|RP11-354K1.2|   1:211630824:T:C|           1|\n",
      "|         1|210900130|        G|        C| rs73071545|        NEK2|   1:210900130:G:C|           1|\n",
      "|         1|211741245|        G|        A|  rs3862952|      LPGAT1|   1:211741245:G:A|           1|\n",
      "|         1|211553633|        T|        C|  rs9430069|       INTS7|   1:211553633:T:C|           1|\n",
      "|         1|211701021|        A|        G| rs59220491|         DTL|   1:211701021:A:G|           1|\n",
      "|         1|211357987|        G|        A| rs11119729|    RPL21P28|   1:211357987:G:A|           1|\n",
      "+----------+---------+---------+---------+-----------+------------+------------------+------------+\n",
      "only showing top 20 rows\n",
      "\n",
      "+-------+---------+---------+------------+-------------+-----------------+------------+----------+\n",
      "|  start|reference|alternate|        rsID|       symbol|unique_variant_id|eqtl_boolean|chromosome|\n",
      "+-------+---------+---------+------------+-------------+-----------------+------------+----------+\n",
      "| 173022|        A|        T|   rs7678326|       ZNF718|     4:173022:A:T|           1|         4|\n",
      "| 207285|        T|        C|  rs28716466| CH17-262A2.1|     4:207285:T:C|           1|         4|\n",
      "| 305470|        A|        T|   rs6852858|       ZNF732|     4:305470:A:T|           1|         4|\n",
      "| 328140|        A|        C|  rs73791830|       ZNF141|     4:328140:A:C|           1|         4|\n",
      "| 522796|        C|        T| rs114314362|   RP11-2H3.7|     4:522796:C:T|           1|         4|\n",
      "| 509615|        G|        A|  rs76393672|   RP11-2H3.6|     4:509615:G:A|           1|         4|\n",
      "| 474151|        G|        A|  rs78633268|      ABCA11P|     4:474151:G:A|           1|         4|\n",
      "| 474151|        G|        A|  rs78633268|       ZNF721|     4:474151:G:A|           1|         4|\n",
      "| 536142|        G|        T|  rs11934538|         PIGG|     4:536142:G:T|           1|         4|\n",
      "|1448775|        G|        T| rs952080165|        ATP5I|    4:1448775:G:T|           1|         4|\n",
      "|1148530|        A|        T|  rs28569895| RP11-20I20.1|    4:1148530:A:T|           1|         4|\n",
      "|1135137|        C|        T|   rs2127908|       RNF212|    4:1135137:C:T|           1|         4|\n",
      "|1166101|        C|        T|  rs17164380| RP11-20I20.4|    4:1166101:C:T|           1|         4|\n",
      "|1625712|        A|      ACG|rs1162557654|        SPON2|  4:1625712:A:ACG|           1|         4|\n",
      "|1334509|        G|        A|  rs10024996|        CTBP1|    4:1334509:G:A|           1|         4|\n",
      "|1250089|        C|        T|   rs2878539|    CTBP1-AS2|    4:1250089:C:T|           1|         4|\n",
      "|1330529|        C|        A|  rs11721372|         MAEA|    4:1330529:C:A|           1|         4|\n",
      "|1198987|        T|        C| rs113963956|        UVSSA|    4:1198987:T:C|           1|         4|\n",
      "|1198987|        T|        C| rs113963956|       CRIPAK|    4:1198987:T:C|           1|         4|\n",
      "|1548531|        A|        G|  rs62287850|RP13-1016M1.2|    4:1548531:A:G|           1|         4|\n",
      "+-------+---------+---------+------------+-------------+-----------------+------------+----------+\n",
      "only showing top 20 rows\n",
      "\n"
     ]
    }
   ],
   "source": [
    "## remove cadd gt20, these will be picked\n",
    "\n",
    "both.show() #= both.where(col('cadd_score') < 20.0)\n",
    "\n",
    "b= spark.read.option(\"header\",\"true\").parquet('eqtls_and_high_impact.parquet/')\n",
    "b.show()"
   ]
  },
  {
   "cell_type": "code",
   "execution_count": null,
   "id": "9c6e41ed-aec6-43e0-90da-cd1d135c24f1",
   "metadata": {},
   "outputs": [],
   "source": [
    "# chr1 or 1 for chromosome column?\n",
    "# patients parquet file -- chr1\n",
    "# high impact -- 1\n",
    "# eqtls -- 1\n",
    "\n",
    "# cadd snps big file -- 1\n",
    "# cadd indels big file -- 1\n",
    "\n",
    "# cadd snps gt20 -- chr1\n",
    "# cadd indels gt20 -- 1"
   ]
  },
  {
   "cell_type": "code",
   "execution_count": 4,
   "id": "c7d3d8a6-7021-4aed-b64f-6a4a2bc0b6f9",
   "metadata": {
    "collapsed": true,
    "jupyter": {
     "outputs_hidden": true
    },
    "tags": []
   },
   "outputs": [
    {
     "name": "stderr",
     "output_type": "stream",
     "text": [
      "22/06/23 12:55:30 WARN package: Truncated the string representation of a plan since it was too large. This behavior can be adjusted by setting 'spark.sql.debug.maxToStringFields'.\n"
     ]
    },
    {
     "name": "stdout",
     "output_type": "stream",
     "text": [
      "1207976\n",
      "+-----------------+-------------+--------+----------+--------+------+-------+-----------+-----------+-------+------------+--------------------+------------+----+-----------+---+---+----------------+-----------------------+--------------------+------------------+---------+----------+------------+---------+--------+---------+---------+---------+----------------------+---------+--------------+--------------+--------------------+\n",
      "|          gene_id|    gene_name|gene_chr|gene_start|gene_end|strand|num_var|beta_shape1|beta_shape2|true_df|pval_true_df|          variant_id|tss_distance| chr|variant_pos|ref|alt|num_alt_per_site|rs_id_dbSNP151_GRCh38p7|minor_allele_samples|minor_allele_count|      maf|ref_factor|pval_nominal|    slope|slope_se|pval_perm|pval_beta|     qval|pval_nominal_threshold| log2_aFC|log2_aFC_lower|log2_aFC_upper|              tissue|\n",
      "+-----------------+-------------+--------+----------+--------+------+-------+-----------+-----------+-------+------------+--------------------+------------+----+-----------+---+---+----------------+-----------------------+--------------------+------------------+---------+----------+------------+---------+--------+---------+---------+---------+----------------------+---------+--------------+--------------+--------------------+\n",
      "|ENSG00000227232.5|       WASH7P|    chr1|     14410|   29553|     -|   1364|    1.03475|    293.915| 270.93| 0.000377596|chr1_1011654_G_A_b38|      982101|chr1|    1011654|  G|  A|               1|              rs2465126|                  54|                61|0.0819892|        -1| 0.000174071|-0.395935|0.104156|0.0932907|0.0957948|0.0657375|           0.000267585|-0.449017|     -0.668612|     -0.227412|Heart Atrial Appe...|\n",
      "|ENSG00000268903.1|RP11-34P13.15|    chr1|    135141|  135895|     -|   1863|    1.05722|    324.465|263.454| 0.000645316|chr1_1134748_T_G_b38|      998853|chr1|    1134748|  T|  G|               1|              rs9442378|                  34|                37|0.0572755|        -1| 0.000258857| 0.447251| 0.12097| 0.173393| 0.168014| 0.100856|           0.000259089| 1.880925|      0.714829|      2.554907|Heart Atrial Appe...|\n",
      "+-----------------+-------------+--------+----------+--------+------+-------+-----------+-----------+-------+------------+--------------------+------------+----+-----------+---+---+----------------+-----------------------+--------------------+------------------+---------+----------+------------+---------+--------+---------+---------+---------+----------------------+---------+--------------+--------------+--------------------+\n",
      "only showing top 2 rows\n",
      "\n",
      "+----------+-------+---------+---------+-------------+-----------------------+\n",
      "|chromosome|  start|reference|alternate|    gene_name|rs_id_dbSNP151_GRCh38p7|\n",
      "+----------+-------+---------+---------+-------------+-----------------------+\n",
      "|      chr1|1011654|        G|        A|       WASH7P|              rs2465126|\n",
      "|      chr1|1134748|        T|        G|RP11-34P13.15|              rs9442378|\n",
      "|      chr1| 108826|        G|        C|RP11-34P13.16|             rs62642117|\n",
      "+----------+-------+---------+---------+-------------+-----------------------+\n",
      "only showing top 3 rows\n",
      "\n",
      "+----------+-------+---------+---------+-------------+-----------------------+-----------------+\n",
      "|chromosome|  start|reference|alternate|    gene_name|rs_id_dbSNP151_GRCh38p7|unique_variant_id|\n",
      "+----------+-------+---------+---------+-------------+-----------------------+-----------------+\n",
      "|      chr1|1011654|        G|        A|       WASH7P|              rs2465126| chr1:1011654:G:A|\n",
      "|      chr1|1134748|        T|        G|RP11-34P13.15|              rs9442378| chr1:1134748:T:G|\n",
      "+----------+-------+---------+---------+-------------+-----------------------+-----------------+\n",
      "only showing top 2 rows\n",
      "\n"
     ]
    },
    {
     "name": "stderr",
     "output_type": "stream",
     "text": [
      "                                                                                \r"
     ]
    },
    {
     "name": "stdout",
     "output_type": "stream",
     "text": [
      "1207976\n",
      "+------+---------+---------+---------+-----------------------+-----------------+----------+\n",
      "| start|reference|alternate|gene_name|rs_id_dbSNP151_GRCh38p7|unique_variant_id|chromosome|\n",
      "+------+---------+---------+---------+-----------------------+-----------------+----------+\n",
      "|618188|        A|        G|  FAM110C|              rs7575617|  chr2:618188:A:G|      chr2|\n",
      "|242793|        G|        C|     ACP1|             rs62114506|  chr2:242793:G:C|      chr2|\n",
      "+------+---------+---------+---------+-----------------------+-----------------+----------+\n",
      "only showing top 2 rows\n",
      "\n"
     ]
    },
    {
     "data": {
      "text/plain": [
       "'\\n!mv eqtls_gtexV8_select.parquet /sbgenomics/output-files/\\n\\n##############################\\nall_indels_cadd = spark.read.parquet(\\'/sbgenomics/project-files/cadd_gnomad_all.parquet/\\')\\nprint(all_indels_cadd.count())\\nall_indels_cadd.show(2)\\n\\nall_indels_cadd = all_indels_cadd.withColumn(\\'unique_variant_id\\',concat(col(\"chromosome\"), lit(\":\"),\\n                                                   col(\"start\"),lit(\\':\\'),col(\\'reference\\'),\\n                                                   lit(\\':\\'),col(\\'alternate\\')))\\n\\n\\nall_indels_cadd.repartitionByRange(50, \"chromosome\", \"start\").write      .mode(\\'overwrite\\')      .partitionBy(\"chromosome\").parquet(\\'cadd_gnomad_all.parquet\\')\\n\\n\\nall_indels_cadd2 = spark.read.option(\"header\",\"true\").parquet(\\'cadd_gnomad_all.parquet\\')\\nprint(all_indels_cadd2.count())\\nall_indels_cadd2.show(2)'"
      ]
     },
     "execution_count": 4,
     "metadata": {},
     "output_type": "execute_result"
    }
   ],
   "source": [
    " \n",
    "eqtls_gtexV8 = spark.read.option(\"header\",\"true\").csv('/sbgenomics/project-files/eqtls_gtexV8.csv')\n",
    "print(eqtls_gtexV8.count())\n",
    "eqtls_gtexV8.show(2)\n",
    "\n",
    "eqtls_select = eqtls_gtexV8.select(col(\"chr\").alias(\"chromosome\"), col(\"variant_pos\").alias(\"start\"),\n",
    "                             col(\"ref\").alias(\"reference\"),col(\"alt\").alias(\"alternate\"),\n",
    "                              col('gene_name'),col('rs_id_dbSNP151_GRCh38p7'))\n",
    "eqtls_select.show(3)\n",
    "eqtls_select = eqtls_select.withColumn('unique_variant_id',concat(col(\"chromosome\"), lit(\":\"),\n",
    "                                                   col(\"start\"),lit(':'),col('reference'),\n",
    "                                                   lit(':'),col('alternate')))\n",
    "eqtls_select.show(2)\n",
    "\n",
    "eqtls_select.repartitionByRange(20, \"chromosome\", \"start\").write\\\n",
    "      .mode('overwrite')\\\n",
    "      .partitionBy(\"chromosome\").parquet('eqtls_gtexV8_select.parquet')\n",
    "\n",
    "eqtls_gtexV8_select = spark.read.option(\"header\",\"true\").parquet('eqtls_gtexV8_select.parquet')\n",
    "print(eqtls_gtexV8_select.count())\n",
    "eqtls_gtexV8_select.show(2)\n",
    "\n",
    "eqtls_FORMATTED = eqtls_gtexV8_select.withColumn('chromosome',F.regexp_replace(col(\"chromosome\"), \"[chr,]\", \"\") )\\\n",
    "                    .withColumn('unique_variant_id',F.regexp_replace(col(\"unique_variant_id\"), \"[chr,]\", \"\") )\\\n",
    "                    .select(['chromosome','start','reference','alternate',\n",
    "                             col('rs_id_dbSNP151_GRCh38p7').alias('rsID'),\n",
    "                             col('gene_name').alias('symbol'),'unique_variant_id'])\n",
    "eqtls_FORMATTED.show(1)\n",
    "eqtls_FORMATTED.repartitionByRange(20, \"chromosome\", \"start\").write\\\n",
    "      .mode('overwrite')\\\n",
    "      .partitionBy(\"chromosome\").parquet('eqtls_gtexV8_formatted.parquet')\n",
    "\n",
    "'''\n",
    "!mv eqtls_gtexV8_select.parquet /sbgenomics/output-files/\n",
    "\n",
    "##############################\n",
    "all_indels_cadd = spark.read.parquet('/sbgenomics/project-files/cadd_gnomad_all.parquet/')\n",
    "print(all_indels_cadd.count())\n",
    "all_indels_cadd.show(2)\n",
    "\n",
    "all_indels_cadd = all_indels_cadd.withColumn('unique_variant_id',concat(col(\"chromosome\"), lit(\":\"),\n",
    "                                                   col(\"start\"),lit(':'),col('reference'),\n",
    "                                                   lit(':'),col('alternate')))\n",
    "\n",
    "\n",
    "all_indels_cadd.repartitionByRange(50, \"chromosome\", \"start\").write\\\n",
    "      .mode('overwrite')\\\n",
    "      .partitionBy(\"chromosome\").parquet('cadd_gnomad_all.parquet')\n",
    "\n",
    "\n",
    "all_indels_cadd2 = spark.read.option(\"header\",\"true\").parquet('cadd_gnomad_all.parquet')\n",
    "print(all_indels_cadd2.count())\n",
    "all_indels_cadd2.show(2)'''"
   ]
  },
  {
   "cell_type": "code",
   "execution_count": 8,
   "id": "924fcce6-89b7-479a-9207-4d9bf10c4e7b",
   "metadata": {},
   "outputs": [
    {
     "name": "stderr",
     "output_type": "stream",
     "text": [
      "                                                                                \r"
     ]
    }
   ],
   "source": [
    "!mv eqtls_gtexV8_formatted.parquet /sbgenomics/output-files/\n"
   ]
  },
  {
   "cell_type": "code",
   "execution_count": null,
   "id": "94c1ce8d-3907-477d-8df3-c1211ecb356a",
   "metadata": {},
   "outputs": [],
   "source": []
  },
  {
   "cell_type": "code",
   "execution_count": 5,
   "id": "40b72711-76e2-4af4-997b-308a1608896c",
   "metadata": {
    "collapsed": true,
    "jupyter": {
     "outputs_hidden": true
    },
    "tags": []
   },
   "outputs": [
    {
     "name": "stderr",
     "output_type": "stream",
     "text": [
      "[Stage 5:>                                                          (0 + 1) / 1]\r"
     ]
    },
    {
     "name": "stdout",
     "output_type": "stream",
     "text": [
      "+--------+---------+----------+----------+--------------------+----------+\n",
      "|   start|reference| alternate|cadd_score|   unique_variant_id|chromosome|\n",
      "+--------+---------+----------+----------+--------------------+----------+\n",
      "|36449839|        A| AAAAAAAAC|     0.513|1:36449839:A:AAAA...|         1|\n",
      "|36449842|        A|AAAAAAAAAC|     1.297|1:36449842:A:AAAA...|         1|\n",
      "|36449843|        A|AAAAAAAAAT|     0.402|1:36449843:A:AAAA...|         1|\n",
      "+--------+---------+----------+----------+--------------------+----------+\n",
      "only showing top 3 rows\n",
      "\n"
     ]
    },
    {
     "name": "stderr",
     "output_type": "stream",
     "text": [
      "                                                                                \r"
     ]
    }
   ],
   "source": [
    "all_indels_cadd2 = spark.read.option(\"header\",\"true\").parquet('/sbgenomics/project-files/cadd_gnomad_all.parquet')\n",
    "all_indels_cadd2.show(3)"
   ]
  },
  {
   "cell_type": "code",
   "execution_count": 5,
   "id": "452e0e57-e80e-4eca-849b-ca4312ed3e7d",
   "metadata": {
    "collapsed": true,
    "jupyter": {
     "outputs_hidden": true
    },
    "tags": []
   },
   "outputs": [
    {
     "name": "stdout",
     "output_type": "stream",
     "text": [
      "+-----+---------+---------+----------+----------+\n",
      "|start|reference|alternate|cadd_score|chromosome|\n",
      "+-----+---------+---------+----------+----------+\n",
      "|47070|        T|       TC|      23.2|        10|\n",
      "|47085|        T|       TC|      23.0|        10|\n",
      "|47091|        T|       TC|      23.3|        10|\n",
      "+-----+---------+---------+----------+----------+\n",
      "only showing top 3 rows\n",
      "\n"
     ]
    }
   ],
   "source": [
    "cadd_indels_gt20= spark.read.option(\"header\",\"true\").parquet('/sbgenomics/project-files/cadd_gt20_gnomAD_all_chroms.parquet')\n",
    "cadd_indels_gt20.show(3)"
   ]
  },
  {
   "cell_type": "code",
   "execution_count": null,
   "id": "d89f6283-390f-4a8f-9ac8-79c0d2188d65",
   "metadata": {},
   "outputs": [],
   "source": []
  },
  {
   "cell_type": "code",
   "execution_count": 12,
   "id": "a368e61b-6ba5-4643-9400-d8fa21786cb3",
   "metadata": {},
   "outputs": [],
   "source": [
    "cadd_snps_gt20= spark.read.option(\"header\",\"true\").parquet('/sbgenomics/project-files/cadd_gt20_all_chroms.parquet')\n",
    "cadd_snps_gt20.show(3)\n",
    "\n",
    "cadd_snps_gt20 = cadd_snps_gt20.withColumn('unique_variant_id',concat(col(\"chromosome\"), lit(\":\"),\n",
    "                    col(\"start\"),lit(':'),col('reference'),lit(':'),col('alternate')))\\\n",
    "                    .withColumn('chromosome',F.regexp_replace(col(\"chromosome\"), \"[chr,]\", \"\") )\\\n",
    "            .withColumn('unique_variant_id',F.regexp_replace(col(\"unique_variant_id\"), \"[chr,]\", \"\") )\n",
    "\n",
    "cadd_snps_gt20.repartitionByRange(50, \"chromosome\", \"start\").write\\\n",
    "      .mode('overwrite')\\\n",
    "      .partitionBy(\"chromosome\").parquet('cadd_gt20_snps.parquet') \n",
    "\n",
    "cadd_gt20_snps = spark.read.option(\"header\",\"true\").parquet('cadd_gt20_snps.parquet')\n",
    "cadd_snps_gt20.show()"
   ]
  },
  {
   "cell_type": "code",
   "execution_count": 40,
   "id": "e045f44f-ffed-4cc3-b9e3-7aa82eb49585",
   "metadata": {},
   "outputs": [],
   "source": [
    "!mv cadd_gt20_snps.parquet /sbgenomics/output-files/\n"
   ]
  },
  {
   "cell_type": "code",
   "execution_count": 33,
   "id": "1423c773-514b-48bb-aada-e966b88b9b66",
   "metadata": {},
   "outputs": [],
   "source": [
    "'''bed = spark.read.\\\n",
    "        option(\"header\",\"true\").\\\n",
    "        parquet('/sbgenomics/project-files/bed_protein_coding_coords_only.parquet')\n",
    "bed.show(1)\n",
    "\n",
    "whole_genome_bed = bed.withColumn('chromosome',F.regexp_replace(col(\"chromosome\"), \"[chr,]\", \"\") )\\\n",
    "                        .select(col('chromosome').alias('chromosome_bed'),\n",
    "                                col('start').alias('start_bed'),\n",
    "                                col('end').alias('end_bed'))\n",
    "\n",
    "\n",
    "whole_genome_bed.repartitionByRange(20, \"chromosome_bed\", \"start_bed\").write\\\n",
    "      .mode('overwrite')\\\n",
    "      .partitionBy(\"chromosome_bed\").parquet('bed_protein_coding_coords_only.parquet') \n",
    "\n",
    "bed = spark.read.option(\"header\",\"true\").parquet('bed_protein_coding_coords_only.parquet')\n",
    "bed.show(1)\n",
    "\n",
    "#!mv bed_protein_coding_coords_only.parquet /sbgenomics/output-files/'''\n"
   ]
  },
  {
   "cell_type": "code",
   "execution_count": 5,
   "id": "dda3f694-6cec-4643-8203-6278c35a033b",
   "metadata": {},
   "outputs": [
    {
     "name": "stderr",
     "output_type": "stream",
     "text": [
      "                                                                                \r"
     ]
    }
   ],
   "source": [
    "bed = spark.read.option(\"header\",\"true\").parquet('/sbgenomics/project-files/bed_protein_coding_coords_only.parquet')\n"
   ]
  },
  {
   "cell_type": "code",
   "execution_count": null,
   "id": "38e3c573-383c-4c26-b748-027b11ad5b36",
   "metadata": {},
   "outputs": [],
   "source": []
  },
  {
   "cell_type": "code",
   "execution_count": null,
   "id": "1dd01e70-3692-4d40-bf71-ccc270707da0",
   "metadata": {},
   "outputs": [],
   "source": [
    "# eqtls/highImpact indels columns:\n",
    "# ['unique_variant_id', 'start', 'reference', 'alternate', 'cadd_score', 'chromosome']\n",
    "\n",
    "\n",
    "# results_gt20 columns\n",
    "['chromosome', 'start', 'end','reference', 'alternate', , 'qual', 'INFO_DP', 'splitFromMultiAllelic', 'genotypes', \n",
    " 'unique_variant_id', 'start_bed', 'end_bed', 'chromosome_bed', 'symbol', 'rsID']\n",
    "\n",
    "\n",
    "# df_nonref columns:\n",
    "['chromosome','start', 'end', 'reference', 'alternate', 'qual', 'INFO_DP', 'splitFromMultiAllelic', 'genotypes',\n",
    " 'unique_variant_id', 'start_bed', 'end_bed', 'chromosome_bed']"
   ]
  },
  {
   "cell_type": "markdown",
   "id": "0da46201-5827-4474-8479-cfee7ccd1c94",
   "metadata": {},
   "source": [
    "# Not the right count?"
   ]
  },
  {
   "cell_type": "code",
   "execution_count": 8,
   "id": "e5b8e18f-6cbd-44da-93b7-1366da642ee5",
   "metadata": {},
   "outputs": [
    {
     "name": "stderr",
     "output_type": "stream",
     "text": [
      "                                                                                \r"
     ]
    },
    {
     "data": {
      "text/plain": [
       "175854962"
      ]
     },
     "execution_count": 8,
     "metadata": {},
     "output_type": "execute_result"
    }
   ],
   "source": [
    "cadd_snps_gt20.count()"
   ]
  },
  {
   "cell_type": "code",
   "execution_count": null,
   "id": "928f919f-e2a2-4b62-ba77-ae008449a022",
   "metadata": {},
   "outputs": [],
   "source": []
  },
  {
   "cell_type": "code",
   "execution_count": null,
   "id": "4e771e03-bc08-4398-9c48-2f57dc7ff062",
   "metadata": {},
   "outputs": [],
   "source": []
  },
  {
   "cell_type": "markdown",
   "id": "47522f2a-88d2-4a8f-b6ef-7a158282eb5c",
   "metadata": {},
   "source": [
    "# Logger for cavatica app"
   ]
  },
  {
   "cell_type": "code",
   "execution_count": null,
   "id": "9d9acbee-006b-4219-ae32-5d7757534d9c",
   "metadata": {},
   "outputs": [],
   "source": [
    "'''\n",
    "with open('stats.txt', 'w') as f:\n",
    "    f.write('\\n--------BED filtering-------\\n')\n",
    "    f.write('BED join took '+str(elapsed_bed_join/60)+' minutes\\n')\n",
    "    f.write('dataframe diff after bed filtering: '+str(df_cnt-cnt)+'\\n')\n",
    "\n",
    "    f.write('\\n--------CADD SNP filtering-------\\n')\n",
    "    f.write('result_snps is '+str(result_snps.count())+ ' rows long\\n')\n",
    "    f.write('NonNull CADD scores: '+str(result_snps.where(col('cadd_score').isNotNull()).count())+'\\n')\n",
    "    f.write('join took ' +str(elapsed_snp_join/60)+ ' minutes'+'\\n')\n",
    "\n",
    "    f.write('\\n--------CADD INDEL filtering-------\\n')\n",
    "    f.write('This patient has '+str(df_indels.count())+' indel rows\\n')\n",
    "    f.write('result_indels is '+str(result_indels.count())+ ' rows long\\n')\n",
    "    f.write('NonNull indel CADD scores: '+str(result_indels.where(col('cadd_score').isNotNull()).count())+'\\n')\n",
    "    f.write('join took ' +str(elapsed_indel_join/60)+ ' minutes\\n')'''"
   ]
  },
  {
   "cell_type": "code",
   "execution_count": null,
   "id": "7b2344cb-63c4-4f15-899d-e95489b164bd",
   "metadata": {},
   "outputs": [],
   "source": [
    "'''\n",
    "genotype_subschema  =[StructField('genotypes',ArrayType(StructType([StructField('0',StringType(),'true'),\n",
    "                                                StructField('1',IntegerType(),'true'),\n",
    "                                                StructField('2',ArrayType(IntegerType(),'true'),'true'),\n",
    "                                                StructField('3',ArrayType(IntegerType(),'true'),'true'),\n",
    "                                                StructField('4',StringType(),'true'),\n",
    "                                               StructField('5',BooleanType(),'true'),\n",
    "                                               StructField('6',ArrayType(IntegerType(),'true'),'true'),\n",
    "                                               StructField('7',IntegerType(),'true'),\n",
    "                                                StructField('8',StringType(),'true'),\n",
    "                                               StructField('9',ArrayType(IntegerType(),'true'),'true'),\n",
    "                                                StructField('10',IntegerType(),'true')]),'true'),'true')]\n",
    "schema = StructType([\n",
    "  StructField('unique_variant_id', StringType(), True),\n",
    "  StructField('start', IntegerType(), True),\n",
    "  StructField('end', IntegerType(), True),\n",
    "  StructField('reference', StringType(), True), \n",
    "  StructField('alternate', StringType(), True),\n",
    "  StructField('qual', IntegerType(), True),\n",
    "  StructField('INFO_DP', IntegerType(), True), \n",
    "  StructField('splitFromMultiAllelic',  BooleanType(), True), \n",
    "  genotype_subschema, \n",
    "  StructField('chromosome', StringType(), True), \n",
    "  ]) '''"
   ]
  },
  {
   "cell_type": "code",
   "execution_count": null,
   "id": "7f2daf8f-63e5-4049-88fb-e61cf07f8260",
   "metadata": {},
   "outputs": [],
   "source": [
    "'''\n",
    "with open('stats.txt', 'w') as f:\n",
    "    f.write('chr11 load took '+str(elapsed_time_readAllSNPs/60)+' minutes\\n')\n",
    "    f.write('chr11 has : '+str(cadd_ALL_SNPs_chr11.count())+' rows')\n",
    "    f.write('chr12 load took '+str(elapsed_time_readAllSNPs_12/60)+' minutes\\n')\n",
    "    f.write('chr12 has : '+str(cadd_ALL_SNPs_chr12.count())+' rows')\n",
    "#sys.exit() '''"
   ]
  },
  {
   "cell_type": "code",
   "execution_count": null,
   "id": "fd5c5c3b-6e00-4938-82c2-77a940aea07f",
   "metadata": {},
   "outputs": [],
   "source": [
    "'''print('reading in main CADD file...');  time.sleep(5); t0 = time.time()    \n",
    "cadd_ALL_SNPs_chr11 = spark.read.option(\"header\",\"true\").parquet(input_ALL_snp_cadd_scores+'/chr11') \n",
    "print(cadd_ALL_SNPs_chr11.count())\n",
    "elapsed_time_readAllSNPs = time.time() - t0\n",
    "cadd_ALL_SNPs_chr12 = spark.read.option(\"header\",\"true\").parquet(input_ALL_snp_cadd_scores+'/chr12') \n",
    "print(cadd_ALL_SNPs_chr12.count()); elapsed_time_readAllSNPs_12 = time.time() - t0\n",
    "cadd_ALL_SNPs = cadd_ALL_SNPs.select(col('0').alias('chromosome'),col('1').alias('start'),\n",
    "                        col('2').alias('reference'),col('3').alias('alternate'),col('5').alias('cadd_score'))\n",
    "cadd_ALL_SNPs = cadd_ALL_SNPs.withColumn('unique_variant_id',concat(col(\"chromosome\"), lit(\":\"),\n",
    "                                    col(\"start\"),lit(':'),col('reference'), lit(':'),col('alternate'))) \n",
    "print('elapsed_time to read All CADD SNPs took '+str(elapsed_time_readAllSNPs/60)+' minutes\\n') '''"
   ]
  },
  {
   "cell_type": "code",
   "execution_count": null,
   "id": "d6408f87-fe67-41f8-aff8-46805e4e392d",
   "metadata": {},
   "outputs": [],
   "source": [
    "'''  FINDING SNPs for highImpact and eqtl variants less than 20 using the big 80BG CADD file\n",
    "t0 = time.time()\n",
    "chroms = [row['chromosome'] for row in eqtl_highImpact_BS_snps.select('chromosome').distinct().collect()]\n",
    "for n,CHROM in enumerate(chroms):\n",
    "    #for n,CHROM in enumerate(['1']):\n",
    "    cadd_chrom =   spark.read.parquet(input_ALL_snp_cadd_scores+'/chr'+CHROM) \n",
    "    #print('path is:  '+input_ALL_snp_cadd_scores+'/chr'+CHROM)\n",
    "    #cadd_chrom = spark.read.parquet(input_cadd_snp_chr1)\n",
    "    cadd_chrom = cadd_chrom.select(col(\"0\").alias(\"chromosome\"), col(\"1\").alias(\"start\"),\n",
    "                    col(\"2\").alias(\"reference\"),col(\"3\").alias(\"alternate\"),col('5').alias('cadd_score'))\n",
    "\n",
    "    cadd_chrom = cadd_chrom.withColumn('unique_variant_id',concat(col(\"chromosome\"),\n",
    "                        lit(\":\"),col(\"start\"),lit(':'),col('reference'),lit(':'),col('alternate')))\n",
    "\n",
    "    eqtls_SNPs_chrom  = eqtl_highImpact_BS_snps.where(col('chromosome') == CHROM).withColumn('unique_variant_id',concat(col(\"chromosome\"), lit(\":\"),col(\"start\"),lit(':'),col('reference'),\n",
    "                                                                             lit(':'),col('alternate')))\n",
    "\n",
    "    print(f'Joining CADD scores for chromosome {CHROM} ({eqtls_SNPs_chrom.count()} x {cadd_chrom.count()})...')\n",
    "    #time.sleep(3)\n",
    "    eqtls_results_chrom = eqtls_SNPs_chrom.join(cadd_chrom.select('unique_variant_id','cadd_score'), [\"unique_variant_id\"], \"inner\")\n",
    "\n",
    "    print(f'Done...Results from chrom {CHROM} is {eqtls_results_chrom.count()} rows long.'); #time.sleep(3)\n",
    "\n",
    "    if n == 0: eqtl_highImpact_snps_scored = eqtls_results_chrom\n",
    "    else: eqtl_highImpact_snps_scored = eqtl_highImpact_snps_scored.union(eqtls_results_chrom)\n",
    "\n",
    "t_elapsed_big_join = time.time() - t0\n",
    "#eqtls_results_chrom.write.parquet('highImpact_eqtl_lt20_cadd_FULL.parquet') #sys.exit()\n",
    "'''"
   ]
  },
  {
   "cell_type": "code",
   "execution_count": null,
   "id": "ba54b85b-6d08-4f17-a2ae-467d6da5ca74",
   "metadata": {},
   "outputs": [],
   "source": [
    "# from the (new) asd_filter_parquet tool\n",
    "\n",
    "    \n",
    "    '''\n",
    "    with open('stats.txt', 'w') as f:\n",
    "        f.write(f'Original df has {df_multiallelic} multiallelic rows\\n')\n",
    "        f.write(f'df_noNonRef df has {df_noNonRef_multiallelic} multiallelic rows\\n')\n",
    "        f.write(f'After join df_join has {df_join_multiallelic} multiallelic rows\\n')\n",
    "        f.write(f'snps has {snps_multi} multiallelic rows\\n')\n",
    "        f.write(f'indels has {indels_multi} multiallelic rows\\n')\n",
    "        f.write(f'After dedup there are {dedup_multi} multiallelic rows\\n')\n",
    "        \n",
    "        #f.write('BED join took '+str(elapsed_bed_join/60)+' minutes\\n')\n",
    "        #f.write('simple joins took '+str(t_elapsed_simple_joins/60)+' minutes\\n')\n",
    "    #t_elapsed_save = time.time() - t0\n",
    "    '''\n",
    "    \n",
    "    '''\n",
    "    with open('stats.txt', 'w') as f:\n",
    "        #f.write('Reading/formatting data took '+str(t_elapsed_read_data/60)+' minutes\\n')\n",
    "        #f.write('BED join took '+str(elapsed_bed_join/60)+' minutes\\n')\n",
    "        #f.write('simple joins took '+str(t_elapsed_simple_joins/60)+' minutes\\n')\n",
    "        #f.write('Main join took '+str(t_elapsed_big_join/60)+' minutes\\n')\n",
    "        #f.write('Concatenating took '+str(t_elapsed_concat/60)+' minutes\\n')\n",
    "        #f.write('Saving took '+str(t_elapsed_save/60)+' minutes\\n')\n",
    "        #total = t_elapsed_read_data + elapsed_bed_join +\\ \n",
    "        #             t_elapsed_concat + t_elapsed_save # t_elapsed_big_join +t_elapsed_simple_joins +\\\n",
    "        #f.write('\\nTotal runtime took '+str(total/60)+' minutes\\n\\n')\n",
    "        \n",
    "        #f.write(f'Length of df after removing NON_REFs: {dfNoNonRefLen}\\n')\n",
    "        f.write(f'After BED filtering we have {df_join_len} rows which consist of {df_snps.count()} SNPs and {df_indels.count()} indels.\\n')\n",
    "        f.write(f'Results gt20 length: {results_gt20.count()} which consist of {result_snps.count()} snps and {result_indels.count()} indels\\n')\n",
    "        #f.write(f'scored eqtl/hiImpact we imported length: {eqtlhiImpactLen}\\n')\n",
    "        f.write(f'we found {eqtl_highImpact_scored_BS.count()} eqtl/hiImpct vars in this patient (already scored).\\n')\n",
    "        f.write(f'after concat of results_gt20 and eqtl/HiImpact, df_scored is {df_scored.count()} long\\n')\n",
    "        f.write(f'and after dropping duplcates variants, its {df_scored_dedup.count()} long')\n",
    "    \n",
    "    '''\n",
    "\n",
    "\n",
    "\n",
    "    '''\n",
    "    ### Load in scored daata here for testing and skip everything above ####\n",
    "    print('Reading in df_scored dataframe...')\n",
    "    df_scored = spark.read.option(\"header\",\"true\").parquet(input_fake_df_scored)\n",
    "\n",
    "    df_scored_filt = df_scored.where((col('INFO_DP') > 25) & (col('qual') > 15))\n",
    "    \n",
    "    dfp = df_scored_filt.toPandas()\n",
    "    \n",
    "    symbol_freqs = dict(Counter(dfp['symbol']))\n",
    "    symbol_freq_df = pd.DataFrame.from_dict(symbol_freqs,orient='index',columns=['frequency']) \n",
    "    symbol_freq_df.index.name = 'symbol'\n",
    "    \n",
    "    \n",
    "    gene_scores = dfp[['symbol','CADD_score']].groupby('symbol').sum()\n",
    "    print(gene_scores.head())\n",
    "    #df_NonRef = df_NonRef.select(df_NonRef.columns+[lit('').alias(\"symbol\"),lit('').alias(\"rsID\"),lit('').alias(\"cadd_score\")]) # create null cols here so we can concat w/ the no-nonref df\n",
    "    #df = df_scored.union(df_NonRef.select(c))\n",
    "    '''\n",
    "    \n",
    "    \n",
    "\n",
    "    '''\n",
    "    print('###############################\\n#### Beginning Phase Two #####\\n###############################')\n",
    "    \n",
    "    #df = df_join; \n",
    "    \n",
    "    bed = whole_genome_bed; time.sleep(5)\n",
    "    \n",
    "    bs_name = df.withColumn('bs_id',df.genotypes.getItem(0).getItem('0')).select('bs_id').take(1)[0][0]\n",
    "    df = df.withColumn('calls', df.genotypes.getItem(0).getItem('6'))\n",
    "    df = df.withColumn('calls_str',concat(df.calls.getItem(0), lit(\":\"), df.calls.getItem(1) ))\n",
    "    df = df.withColumn('AdditiveGenotype',when(df.calls_str.contains('-')  ,-9)\\\n",
    "                          .otherwise(df.calls.getItem(0) + df.calls.getItem(1)))\n",
    "    \n",
    "    # Create Participant ID column (should just be one participant per file)\n",
    "    df = df.withColumn('participant_id', df.genotypes.getItem(0).getItem('0'))\n",
    "    df = df.withColumn('INFO_DP',df.genotypes.getItem(0).getItem('10'))\n",
    "    df = df.withColumn('qual',df.genotypes.getItem(0).getItem('1'))\n",
    "    df = df.withColumn('PL',df.genotypes.getItem(0).getItem('9'))\n",
    "    \n",
    "    select_cols = ['chromosome','start','end','participant_id','unique_variant_id','reference','alternate','calls','AdditiveGenotype','splitFromMultiAllelic','PL',  'qual','INFO_DP']\n",
    "    \n",
    "    print('df columns are already filtered correctly? --',str(set(df.columns) == select_cols))\n",
    "    df = df.select(select_cols)  # need this?\n",
    "    print('Finished creating starter cols'); time.sleep(3)\n",
    "    \n",
    "    df = df.withColumn('AdditiveGenotype',when((df.INFO_DP < 15) | (df.qual < 25) ,-9)\\\n",
    "                          .otherwise(df.AdditiveGenotype))\n",
    "                          \n",
    "    print('Labeled low qual variants...'); time.sleep(3)\n",
    "    \n",
    "    df = df.where(~ ((df.splitFromMultiAllelic == 'true') & (df.alternate == '<NON_REF>') ))\n",
    "    \n",
    "    print('Sorting...'); df = df.sort(['chromosome','start']); print('Done sorting'); time.sleep(2)\n",
    "    \n",
    "    df = df.drop(*(\"splitFromMultiAllelic\")).dropDuplicates(['unique_variant_id','AdditiveGenotype'])\n",
    "\n",
    "    print('Labeling ambiguous PL scored variants as unknown...'); time.sleep(2)\n",
    "    df = df.withColumn('PL_00',df.PL.getItem(0))\n",
    "    df = df.withColumn('PL_01',df.PL.getItem(1))\n",
    "    df = df.withColumn('PL_11',df.PL.getItem(2))\n",
    "    df = df.select(['unique_variant_id','chromosome','start','end','reference','alternate','PL','PL_00',\n",
    "                                   'PL_01','PL_11','AdditiveGenotype'])\n",
    "    \n",
    "    df = df.withColumn('AdditiveGenotype',when((df.PL_00 == 0) & (df.PL_01 == 0) &\\\n",
    "                                               (col('AdditiveGenotype') == 0 ),-9).otherwise(df.AdditiveGenotype))\n",
    "    \n",
    "    df = df.withColumn('AdditiveGenotype',when(((df.PL_00 == 0) & (df.PL_01 == 0) &\\\n",
    "                         (df.PL_11 == 0)) & (col('AdditiveGenotype') == 0 ) ,-9).otherwise(df.AdditiveGenotype))\n",
    "                                                  \n",
    "    df = df.drop(*(\"PL\",\"PL_00\",\"PL_01\",\"PL_11\"))\n",
    "    \n",
    "    ########################################################\n",
    "    bed = bed.rdd.map(lambda x: (x['start_bed'],x['end_bed'],\n",
    "                                        x['chromosome_bed'],list(range(x['start_bed'],x['end_bed']))))\n",
    "\n",
    "\n",
    "    print('Converting RDD to DF...');time.sleep(3)\n",
    "    bed = bed.toDF(['start_bed','end_bed','chromosome_bed','expanded_int'])\n",
    "    print(bed.columns)\n",
    "    bed.write.mode('overwrite').parquet(\"bed_expanded_gvcf.parquet\")\n",
    "\n",
    "    \n",
    "    #for n,row in bed.iterrows():\n",
    "    #    exp_int = list(range(row['start_bed'],row['end_bed']))\n",
    "    #    expanded_gene_intervals.append(exp_int)\n",
    "    #    unique_id = row['chromosome_bed'] +':'+ pd.Series(exp_int).astype(str) +':'+\\\n",
    "    #                                   pd.Series([i + 1 for i in exp_int]).astype(str)\n",
    "    #    genes_unq_var_ids.append(unique_id.values)\n",
    "    '''\n",
    "\n",
    "\n",
    "\n",
    "\n",
    "'''\n",
    "print('###############################\\n#### Beginning Phase Three #####\\n###############################')\n",
    "\n",
    "print('\\n\\n\\nStarting expansion process...\\n\\n\\n')\n",
    "\n",
    "def flatten_list(ls,end=False):\n",
    "    if end: return [str(int(item) + 1) for sublist in ls for item in sublist]\n",
    "    else: return [str(item) for sublist in ls for item in sublist]\n",
    "    \n",
    "df = df.toPandas()\n",
    "\n",
    "df['extra_info'] =[[i,j,k] for i,j,k in zip(df['referenceAllele'], df['alternateAlleles'], df['AdditiveGenotype'])]\n",
    "df['expand_bool'] =(df['start']!=df['end'])  & (df['start']!=df['start']+1) &\\\n",
    "                    (df['AdditiveGenotype'] != 1) & (df['AdditiveGenotype'] != 2)\n",
    "\n",
    "\n",
    "cols = ['unique_variant_id', 'chromosome', 'start', 'end', 'AdditiveGenotype'] \n",
    "\n",
    "missing_variants = []\n",
    "unknown_GTs = []\n",
    "\n",
    "chroms = [row['chromosome'] for row in eqtl_highImpact_BS_snps.select('chromosome').distinct().collect()]\n",
    "\n",
    "for CHROM in bed.chrom.unique(): \n",
    "    t0=  time.time()\n",
    "\n",
    "    df_chrom = df[df['contigName'] == CHROM]   # df.where(col('chromosome') == CHROM)\n",
    "    df_chrom_filt = df_chrom[df_chrom['expand_bool']]   # df_chrom_filt = df_chrom.where(col('expanded_bool') != 1)\n",
    "\n",
    "    locations_to_add = []\n",
    "    extra_info = []\n",
    "        \n",
    "    for row in df_chrom_filt.itertuples():\n",
    "        locations_to_add.extend(list(range(int(row[3]),int(row[4]))))\n",
    "        extra_info.append(row[8] + [int(row[4]) - int(row[3])]) \n",
    "\n",
    "    df_new_pos = pd.DataFrame(locations_to_add); df_new_pos.columns = ['start']\n",
    "    df_new_pos['end'] = [int(i)+1 for i in locations_to_add] \n",
    "    df_new_pos['AdditiveGenotype'] = flatten_list([[i[2]]*i[3] for i in extra_info])\n",
    "    df_new_pos['referenceAllele'] = flatten_list([[i[0]]*i[3] for i in extra_info])\n",
    "    df_new_pos['alternateAlleles'] = flatten_list([[i[1]]*i[3] for i in extra_info])\n",
    "    df_new_pos['contigName'] = CHROM\n",
    "    \n",
    "    df_new_pos['unique_variant_id'] =  df_new_pos['chromosome'] +\":\"+ df_new_pos['start'].astype(str) +\":\"+ df_new_pos['end'].astype(str) +\":\"+\\\n",
    "                    df_new_pos['reference'] +\":\"+ df_new_pos['alternate']\n",
    "\n",
    "\n",
    "    df_chrom_expanded = pd.concat([df_chrom[cols], df_new_pos[cols]]) \n",
    "\n",
    "    unknown_GTs.extend(df_chrom_expanded[df_chrom_expanded['AdditiveGenotype'] == -9]['unique_variant_id'].values)\n",
    "\n",
    "    df_chrom_expanded['id2match']= [':'.join(i[:3]) for i in df_chrom_expanded['unique_variant_id'].str.split(':')]    \n",
    "    missing = set(np.concatenate(bed[bed['chrom'] == CHROM].unique_variant_id.values)) - set(df_chrom_expanded['id2match'])\n",
    "    \n",
    "    missing_variants.extend(list(missing))\n",
    "    print(f'Found {len(missing)} missing variants in ',np.round(time.time()-t0,2),f' seconds for {CHROM}')\n",
    "    \n",
    "\n",
    "\n",
    "print('Found a total of',len(missing_variants),'missing variants.') \n",
    "print('Found a total of',len(unknown_GTs),'unknown variants.')\n",
    "\n",
    "assert 0 == len(set(missing_variants).intersection(set(df_chrom['unique_variant_id'])))\n",
    "print('Creating dfs and joining them...')\n",
    "\n",
    "df_missing = pd.DataFrame(missing_variants,columns=['unique_variant_id'])\n",
    "df_missing['Chromosome'] = [i.split(':')[0] for i in df_missing['unique_variant_id'] ]\n",
    "df_missing['Start'] = [i.split(':')[1] for i in df_missing['unique_variant_id'] ]\n",
    "df_missing['End'] = [i.split(':')[2] for i in df_missing['unique_variant_id'] ]\n",
    "df_missing['AdditiveGenotype'] = -9\n",
    "\n",
    "df_unknown = pd.DataFrame(unknown_GTs,columns=['unique_variant_id'])\n",
    "df_unknown['Chromosome'] = [i.split(':')[0] for i in df_unknown['unique_variant_id'] ]\n",
    "df_unknown['Start'] = [i.split(':')[1] for i in df_unknown['unique_variant_id'] ]\n",
    "df_unknown['End'] = [i.split(':')[2] for i in df_unknown['unique_variant_id'] ]\n",
    "df_unknown['AdditiveGenotype'] = -9\n",
    "\n",
    "df_missing = df_missing.drop_duplicates()\n",
    "df_unknown = df_unknown.drop_duplicates()\n",
    "\n",
    "df_1_2s = df[ (df['AdditiveGenotype'] == 1) | (df['AdditiveGenotype'] == 2)]\\\n",
    "                    [['unique_variant_id','contigName','start','end','AdditiveGenotype']]\n",
    "\n",
    "df_1_2s = df_1_2s.rename(columns={'contigName': 'Chromosome', 'start': 'Start','end':'End'})\n",
    "\n",
    "df_result = pd.concat([df_missing,df_unknown, df_1_2s]).sort_values(['Chromosome','Start'])\n",
    "'''\n"
   ]
  },
  {
   "cell_type": "code",
   "execution_count": null,
   "id": "02ec2152-2e6e-4544-8ae3-23c7980a20ab",
   "metadata": {},
   "outputs": [],
   "source": [
    "# From the find_variants tool\n",
    "\n",
    "'''\n",
    "# Find variants that we already have genotypes for \n",
    "# must use entire df, bc we are matching locations here not variants\n",
    "t0  = time.time()\n",
    "print('Finding direct matches...'); #time.sleep(3)\n",
    "direct_matches = variants_noneqtl.join(df,['unique_location'],'inner')  # .select('unique_location','unique_variant_id','AdditiveGenotype')\n",
    "dmatch_cnt = direct_matches.count()\n",
    "print(f'Direct matches found: {dmatch_cnt}');time.sleep(5)\n",
    "t_direct_matches = time.time() - t0\n",
    "\n",
    "direct_matches_dedp = direct_matches.dropDuplicates()\n",
    "#print('Dups: ', direct_matches.count(),direct_matches.dropDuplicates().count()); time.sleep(3)\n",
    "\n",
    "print('Getting list of locations from direct match results'); time.sleep(3)\n",
    "t=time.time()\n",
    "uniq_locs = [row['unique_location'] for row in direct_matches_dedp.select('unique_location').collect()]\n",
    "t_direct_locs = time.time() - t0\n",
    "\n",
    "with open('stats.txt', 'w') as f:\n",
    "    f.write('Removing eqtls took '+str(t_var_noneqtl/60)+' minutes\\n')\n",
    "    f.write('Finding direct matches took '+str(t_var_noneqtl/60)+' minutes (largest join)\\n')\n",
    "    f.write(f'Found {vnon_cnt} non-eqtls out of {variants.count()} variants\\n')\n",
    "    f.write(f'Found {dmatch_cnt} direct matches out of {vnon_cnt} variants\\n')\n",
    "    #f.write('first part took '+str(tend/60)+' minutes\\n')\n",
    "    f.write('Dups: ' + str(dmatch_cnt) + str(direct_matches_dedp.count()))\n",
    "    f.write(f'Extracting direct match locations took: {t_direct_locs/60}')\n",
    "    #f.write('Variants file # of partitions: ',str(variants.rdd.getNumPartitions()))\n",
    "'''  "
   ]
  },
  {
   "cell_type": "code",
   "execution_count": null,
   "id": "02bc3dd3-dd26-4f84-82e1-aa9cec07daa8",
   "metadata": {},
   "outputs": [],
   "source": [
    "# from the (new) asd_parquet_filter tool\n",
    "\n",
    "'''\n",
    "print('Joining eQTLs/highImpact variants with patient variants...',end=''); #time.sleep(2)\n",
    "eqtl_highImpact_BS = eqtls_high_impact.join(df_noNonRef.drop('start','chromosome','reference','alternate'),['unique_variant_id'],'inner')\n",
    "print(f'Found {eqtl_highImpact_BS.count()} eQTL/HighImpacts variations in this patients data.');#time.sleep(3)\n",
    "\n",
    "eqtl_highImpact_BS_snps = eqtl_highImpact_BS.where(((F.length(\"reference\")==1) & (F.length(\"alternate\") == 1)))\n",
    "eqtl_highImpact_BS_indels= eqtl_highImpact_BS.where(~((F.length(\"reference\")==1)& (F.length(\"alternate\")== 1)))\n",
    "print(f'For eQTL/High_Impacts: Found {eqtl_highImpact_BS_snps.count()} SNPs and {eqtl_highImpact_BS_indels.count()} indels in this patients variants');# time.sleep(3)\n",
    "\n",
    "############# Fetch CADD scores for the eQTLs and High Impact Variants ##################\n",
    "#if eqtl_highImpact_BS_indels.count() > 0:\n",
    "eqtl_highImpact_indels_scored = eqtl_highImpact_BS_indels.join(cadd_ALL_indels.select('unique_variant_id','cadd_score'),['unique_variant_id'],'inner') \n",
    "print('Found '+str(eqtl_highImpact_indels_scored.count())+' eQTLs in the CADD indels list');# time.sleep(5)  \n",
    "#else:eqtl_highImpact_indels_scored = spark.createDataFrame([], schema)\n",
    "t_elapsed_simple_joins = time.time() - t0 '''\n",
    "\n",
    "#result_indels = result_indels.select(result_indels.columns+[lit('').alias(\"symbol\"),lit('').alias(\"rsID\")])\n",
    "#assert eqtl_highImpact_snps_scored.columns == eqtl_highImpact_indels_scored.columns\n",
    "#assert set(results_gt20.columns) == set(eqtl_highImpact_scored_BS.columns)\n"
   ]
  },
  {
   "cell_type": "code",
   "execution_count": null,
   "id": "ea3f92ee-8157-4187-a202-0e874e3604c4",
   "metadata": {},
   "outputs": [],
   "source": [
    "\n",
    "    '''\n",
    "    df_join = df_join.withColumn('calls', df_join.genotypes.getItem(0).getItem('6'))\n",
    "    df_join = df_join.withColumn('calls_str',concat(df_join.calls.getItem(0), lit(\":\"), df_join.calls.getItem(1) ))\n",
    "    df_join = df_join.withColumn('AdditiveGenotype',when(df_join.calls_str.contains('-')  ,-9)\\\n",
    "                          .otherwise(df_join.calls.getItem(0) + df_join.calls.getItem(1)))\n",
    "    \n",
    "    # Create Participant ID column (should just be one participant per file)\n",
    "    df_join = df_join.withColumn('participant_id', df_join.genotypes.getItem(0).getItem('0'))\n",
    "    df_join = df_join.withColumn('INFO_DP',df_join.genotypes.getItem(0).getItem('10'))\n",
    "    df_join = df_join.withColumn('qual',df_join.genotypes.getItem(0).getItem('1'))\n",
    "    df_join = df_join.withColumn('PL',df_join.genotypes.getItem(0).getItem('9'))\n",
    "\n",
    "    df_join = df_join.withColumn('AdditiveGenotype',when((df_join.INFO_DP < 15) | (df_join.qual < 25) ,-9)\\\n",
    "                          .otherwise(df_join.AdditiveGenotype))\n",
    "    df_join = df_join.where(~ ((df_join.splitFromMultiAllelic == 'true') & (df_join.alternate == '<NON_REF>') ))\n",
    "    \n",
    "    #df_join = df_join.sort(['chromosome','start'])\n",
    "    #df_join = df_join.drop(*(\"splitFromMultiAllelic\")).dropDuplicates(['unique_variant_id','AdditiveGenotype'])\n",
    "    \n",
    "    df_join = df_join.withColumn('PL_00',df_join.PL.getItem(0)).withColumn('PL_01',df_join.PL.getItem(1)).withColumn('PL_11',df_join.PL.getItem(2))\n",
    "\n",
    "    df_join = df_join.withColumn('AdditiveGenotype',when((df_join.PL_00 == 0) & (df_join.PL_01 == 0) &\\\n",
    "                                               (col('AdditiveGenotype') == 0 ),-9).otherwise(df_join.AdditiveGenotype))\n",
    "                                               \n",
    "    df_join = df_join.withColumn('AdditiveGenotype',when(((df_join.PL_00 == 0) & (df_join.PL_01 == 0) &\\\n",
    "                         (df_join.PL_11 == 0)) & (col('AdditiveGenotype') == 0 ) ,-9).otherwise(df_join.AdditiveGenotype))\n",
    "    \n",
    "    df_join = df_join.drop(*(\"PL\",\"PL_00\",\"PL_01\",\"PL_11\"))\n",
    "    \n",
    "    # Maybe drop all -9's bc if its not found its -9 anyway? what % of -9's do we have?\n",
    "    df_cnt2 = df_join.count()\n",
    "    '''"
   ]
  }
 ],
 "metadata": {
  "kernelspec": {
   "display_name": "Python 3 (ipykernel)",
   "language": "python",
   "name": "python3"
  },
  "language_info": {
   "codemirror_mode": {
    "name": "ipython",
    "version": 3
   },
   "file_extension": ".py",
   "mimetype": "text/x-python",
   "name": "python",
   "nbconvert_exporter": "python",
   "pygments_lexer": "ipython3",
   "version": "3.9.7"
  }
 },
 "nbformat": 4,
 "nbformat_minor": 5
}
