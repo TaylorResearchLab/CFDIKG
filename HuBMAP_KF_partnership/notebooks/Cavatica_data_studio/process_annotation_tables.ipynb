{
 "cells": [
  {
   "cell_type": "code",
   "execution_count": 1,
   "id": "1d9f5ceb-20d7-4697-bca1-095041a38679",
   "metadata": {},
   "outputs": [
    {
     "name": "stderr",
     "output_type": "stream",
     "text": [
      "22/08/01 17:27:19 WARN NativeCodeLoader: Unable to load native-hadoop library for your platform... using builtin-java classes where applicable\n",
      "Using Spark's default log4j profile: org/apache/spark/log4j-defaults.properties\n",
      "Setting default log level to \"WARN\".\n",
      "To adjust logging level use sc.setLogLevel(newLevel). For SparkR, use setLogLevel(newLevel).\n"
     ]
    }
   ],
   "source": [
    "import pandas as pd\n",
    "import glob\n",
    "import numpy as np\n",
    "import scipy.sparse as ss\n",
    "from collections import Counter\n",
    "import matplotlib.pyplot as plt\n",
    "import time\n",
    "#import pyranges as pr\n",
    "#import findspark\n",
    "#findspark.init()\n",
    "import pyspark\n",
    "from pyspark.sql import SparkSession\n",
    "from pyspark.sql.functions import col,collect_list, concat, lit, when, monotonically_increasing_id, concat_ws, broadcast\n",
    "import pyspark.sql.functions as F\n",
    "# load in all files at the top, assert all files are correct length\n",
    "# make their name the same as the input arg, minuus 'input'\n",
    "spark = SparkSession.builder.master(\"local\").appName(\"parquet\").getOrCreate()"
   ]
  },
  {
   "cell_type": "code",
   "execution_count": 2,
   "id": "5595c162-ca00-47e0-ac33-7445780c88cc",
   "metadata": {},
   "outputs": [
    {
     "name": "stderr",
     "output_type": "stream",
     "text": [
      "                                                                                \r"
     ]
    }
   ],
   "source": [
    "gene_lengths = spark.read.parquet('/sbgenomics/project-files/gene_regions_refseq.parquet')\n",
    "gene_lengths = gene_lengths.withColumn('txDiff',col('txEnd') - col('txStart'))\n",
    "all_gene_names = gene_lengths.select(col('name2').alias('symbol')).drop_duplicates(['symbol'])\n",
    "all_gene_names_df = all_gene_names.toPandas()\n"
   ]
  },
  {
   "cell_type": "code",
   "execution_count": 26,
   "id": "21a2895a-1428-45ad-b57f-d9fa7d0ba8f3",
   "metadata": {
    "collapsed": true,
    "jupyter": {
     "outputs_hidden": true
    },
    "tags": []
   },
   "outputs": [
    {
     "name": "stdout",
     "output_type": "stream",
     "text": [
      "+-----+------+--------+--------+--------+--------+---------+-----+-------+\n",
      "|chrom|strand| txStart|   txEnd|cdsStart|  cdsEnd|exonCount|name2| txDiff|\n",
      "+-----+------+--------+--------+--------+--------+---------+-----+-------+\n",
      "|chr16|     +|27203485|27222305|27210123|27220730|        7| KDM8|18820.0|\n",
      "|chr16|     +|27203503|27222305|27213737|27220730|        9| KDM8|18802.0|\n",
      "|chr16|     +|27203518|27222305|27213737|27220730|        9| KDM8|18787.0|\n",
      "|chr16|     +|27203518|27222305|27213737|27220730|        9| KDM8|18787.0|\n",
      "|chr16|     +|27203525|27221768|27210123|27220730|        8| KDM8|18243.0|\n",
      "|chr16|     +|27203974|27221768|27204092|27220730|        8| KDM8|17794.0|\n",
      "|chr16|     +|27210092|27222305|27222305|27222305|        7| KDM8|12213.0|\n",
      "|chr16|     +|27210182|27222305|27214966|27220730|        6| KDM8|12123.0|\n",
      "+-----+------+--------+--------+--------+--------+---------+-----+-------+\n",
      "\n"
     ]
    }
   ],
   "source": [
    "gene_lengths.drop('#bin','name','exonStarts','exonEnds','cdsStartStat','cdsEndStat','exonFrames','score')\\\n",
    "            .where(col('name2') == 'KDM8').show()"
   ]
  },
  {
   "cell_type": "code",
   "execution_count": 3,
   "id": "8909451a-1de4-40f9-bd3b-c680d231605b",
   "metadata": {},
   "outputs": [],
   "source": [
    "kutd_annotation_tables = glob.glob('/sbgenomics/project-files/KUTD_GF_*_gene*')"
   ]
  },
  {
   "cell_type": "code",
   "execution_count": 4,
   "id": "00280c62-c6d1-4ee1-b90a-ed7fc6989d29",
   "metadata": {},
   "outputs": [
    {
     "data": {
      "text/plain": [
       "711"
      ]
     },
     "execution_count": 4,
     "metadata": {},
     "output_type": "execute_result"
    }
   ],
   "source": [
    "annotation_tables = glob.glob('/sbgenomics/project-files/gene_Burden_Table_CHD_BS_*')\n",
    "len(annotation_tables)"
   ]
  },
  {
   "cell_type": "code",
   "execution_count": 6,
   "id": "8d0e5b79-12ce-42cb-9ac8-e1b5e718bcf9",
   "metadata": {},
   "outputs": [],
   "source": [
    "file_ids = [f.split('/')[-1] for f in annotation_tables]\n",
    "\n",
    "pd.DataFrame(file_ids).to_csv('CHD_annotation_table_filenames.csv',index=False)"
   ]
  },
  {
   "cell_type": "code",
   "execution_count": 12,
   "id": "733eff2b-535c-41fe-8a03-8cd354d81307",
   "metadata": {},
   "outputs": [],
   "source": [
    "file_ids = pd.read_csv('CHD_annotation_table_filenames.csv').values\n",
    "file_ids = [i[0] for i in file_ids]"
   ]
  },
  {
   "cell_type": "code",
   "execution_count": 14,
   "id": "2ea4d826-59c7-4aae-ae19-6fae4d169d82",
   "metadata": {},
   "outputs": [],
   "source": [
    "mv CHD_annotation_table_filenames.csv /sbgenomics/output-files/"
   ]
  },
  {
   "cell_type": "code",
   "execution_count": 5,
   "id": "8e4c2be9-f526-4255-8c9c-2fb52cd5ce9d",
   "metadata": {},
   "outputs": [
    {
     "data": {
      "text/plain": [
       "'BS_0302Y3N5'"
      ]
     },
     "execution_count": 5,
     "metadata": {},
     "output_type": "execute_result"
    }
   ],
   "source": [
    "file = annotation_tables[0]\n",
    "file_id = file.split('/')[-1].split('.')[0].replace('gene_Burden_Table_CHD_','')\n",
    "file_id"
   ]
  },
  {
   "cell_type": "code",
   "execution_count": 11,
   "id": "afd18fba-13a5-4f47-bead-047a1382626a",
   "metadata": {
    "tags": []
   },
   "outputs": [
    {
     "name": "stdout",
     "output_type": "stream",
     "text": [
      "0 BS_0302Y3N5\n",
      "CPU times: user 160 µs, sys: 2.99 ms, total: 3.15 ms\n",
      "Wall time: 575 ms\n"
     ]
    }
   ],
   "source": [
    "%%time\n",
    "\n",
    "gene_score_row_list = []\n",
    "\n",
    "for n,file in enumerate(annotation_tables):\n",
    "    df = spark.read.parquet(file)\n",
    "    \n",
    "    if file.startswith('KUTD_'): \n",
    "        file_id = file.split('/')[-1].replace('KUTD_','').replace('_geneBurdenTable.parquet','')\n",
    "    elif file.startswith('gene_burden_Table_CHD_'):\n",
    "        file_id = file.split('/')[-1].split('.')[0].replace('gene_Burden_Table_CHD_','')\n",
    "\n",
    "    print(n,file_id)\n",
    "    \n",
    "    # drop duplicate genes. we have multiple variants in the same gene here, but \n",
    "    # for now all we want is the overall CADD score for the gene.\n",
    "    patient_genes = df.select('symbol','normed_CADD_score').drop_duplicates(['symbol'])\n",
    "    joined = all_gene_names.join(patient_genes,'symbol','left')\n",
    "    gene_score_col = joined.na.fill(value=0,subset=[\"normed_CADD_score\"]).sort('symbol')\\\n",
    "                                    .select(col('normed_CADD_score').alias(file_id))\n",
    "        \n",
    "    gene_score_row_list.append(gene_score_col.toPandas().T.values[0])\n",
    "    '''\n",
    "    if n == 0:\n",
    "        matrix = gene_score_row  #spark.createDataFrame()\n",
    "    else: \n",
    "        matrix = matrix.union(gene_score_row)\n",
    "    if n==3:\n",
    "        break'''\n",
    "    \n",
    "#df.drop('cadd_score_gene_agg','end','cadd_score','AdditiveGenotype').show(2)"
   ]
  },
  {
   "cell_type": "code",
   "execution_count": 54,
   "id": "14c31d5a-8414-4e1a-97b8-3b8edfeb2379",
   "metadata": {},
   "outputs": [],
   "source": [
    "pandas_df = pd.DataFrame(gene_score_row_list,columns=[i[0] for i in list(all_gene_names_df.values)])\n",
    "pandas_df.to_csv('pandas_matrix.csv',index=False)"
   ]
  },
  {
   "cell_type": "code",
   "execution_count": null,
   "id": "0b2dd392-a2f7-4135-ac19-5e75e8e31cf4",
   "metadata": {},
   "outputs": [],
   "source": []
  },
  {
   "cell_type": "code",
   "execution_count": 6,
   "id": "339b29a7-ae06-45cc-adb6-05baa90ce9a3",
   "metadata": {
    "tags": []
   },
   "outputs": [],
   "source": [
    "m = pd.read_csv('pandas_matrix.csv')"
   ]
  },
  {
   "cell_type": "code",
   "execution_count": 7,
   "id": "fdc70aac-bf90-45ae-b305-4cf9a633cb15",
   "metadata": {
    "tags": []
   },
   "outputs": [],
   "source": [
    "m.index = [file.split('/')[-1].replace('KUTD_','').replace('_geneBurdenTable.parquet','') for \n",
    "           file in kutd_annotation_tables]"
   ]
  },
  {
   "cell_type": "code",
   "execution_count": 8,
   "id": "1669c4c5-c739-47d3-99ba-aafd90e9783a",
   "metadata": {},
   "outputs": [],
   "source": [
    "mr = m.loc[:, (m.sum(axis=0) != 0)]"
   ]
  },
  {
   "cell_type": "code",
   "execution_count": 11,
   "id": "59f7cb7f-0663-4380-9dcc-ae80fb6cac7b",
   "metadata": {},
   "outputs": [
    {
     "data": {
      "text/plain": [
       "(44, 20329)"
      ]
     },
     "execution_count": 11,
     "metadata": {},
     "output_type": "execute_result"
    }
   ],
   "source": [
    "mr.shape"
   ]
  },
  {
   "cell_type": "code",
   "execution_count": null,
   "id": "b940f82d-2bf3-4a9d-afcd-e1c63ed860a4",
   "metadata": {},
   "outputs": [],
   "source": []
  },
  {
   "cell_type": "code",
   "execution_count": 12,
   "id": "534efbff-b4d4-4816-b131-3fd33062ddf5",
   "metadata": {},
   "outputs": [
    {
     "data": {
      "text/plain": [
       "'BS_0302Y3N5.parquet'"
      ]
     },
     "execution_count": 12,
     "metadata": {},
     "output_type": "execute_result"
    }
   ],
   "source": [
    "input_patient_variants = annotation_tables[0]\n",
    "file_id = input_patient_variants.split('/')[-1].replace('gene_Burden_Table_CHD_','')\n",
    "file_id"
   ]
  },
  {
   "cell_type": "code",
   "execution_count": 4,
   "id": "d8ecf814-42a3-465e-9a60-747a9896640c",
   "metadata": {
    "collapsed": true,
    "jupyter": {
     "outputs_hidden": true
    },
    "tags": []
   },
   "outputs": [
    {
     "ename": "NameError",
     "evalue": "name 'file_id' is not defined",
     "output_type": "error",
     "traceback": [
      "\u001b[0;31m---------------------------------------------------------------------------\u001b[0m",
      "\u001b[0;31mNameError\u001b[0m                                 Traceback (most recent call last)",
      "\u001b[0;32m/tmp/ipykernel_127/2288425942.py\u001b[0m in \u001b[0;36m<module>\u001b[0;34m\u001b[0m\n\u001b[1;32m      4\u001b[0m \u001b[0mjoined\u001b[0m \u001b[0;34m=\u001b[0m \u001b[0mall_gene_names\u001b[0m\u001b[0;34m.\u001b[0m\u001b[0mjoin\u001b[0m\u001b[0;34m(\u001b[0m\u001b[0mpatient_genes\u001b[0m\u001b[0;34m,\u001b[0m\u001b[0;34m'symbol'\u001b[0m\u001b[0;34m,\u001b[0m\u001b[0;34m'left'\u001b[0m\u001b[0;34m)\u001b[0m\u001b[0;34m\u001b[0m\u001b[0;34m\u001b[0m\u001b[0m\n\u001b[1;32m      5\u001b[0m \u001b[0mgene_score_col\u001b[0m \u001b[0;34m=\u001b[0m \u001b[0mjoined\u001b[0m\u001b[0;34m.\u001b[0m\u001b[0mna\u001b[0m\u001b[0;34m.\u001b[0m\u001b[0mfill\u001b[0m\u001b[0;34m(\u001b[0m\u001b[0mvalue\u001b[0m\u001b[0;34m=\u001b[0m\u001b[0;36m0\u001b[0m\u001b[0;34m,\u001b[0m\u001b[0msubset\u001b[0m\u001b[0;34m=\u001b[0m\u001b[0;34m[\u001b[0m\u001b[0;34m\"normed_CADD_score\"\u001b[0m\u001b[0;34m]\u001b[0m\u001b[0;34m)\u001b[0m\u001b[0;34m.\u001b[0m\u001b[0msort\u001b[0m\u001b[0;34m(\u001b[0m\u001b[0;34m'symbol'\u001b[0m\u001b[0;34m)\u001b[0m\u001b[0;31m\\\u001b[0m\u001b[0;34m\u001b[0m\u001b[0;34m\u001b[0m\u001b[0m\n\u001b[0;32m----> 6\u001b[0;31m                                 \u001b[0;34m.\u001b[0m\u001b[0mselect\u001b[0m\u001b[0;34m(\u001b[0m\u001b[0mcol\u001b[0m\u001b[0;34m(\u001b[0m\u001b[0;34m'normed_CADD_score'\u001b[0m\u001b[0;34m)\u001b[0m\u001b[0;34m.\u001b[0m\u001b[0malias\u001b[0m\u001b[0;34m(\u001b[0m\u001b[0mfile_id\u001b[0m\u001b[0;34m)\u001b[0m\u001b[0;34m)\u001b[0m\u001b[0;34m\u001b[0m\u001b[0;34m\u001b[0m\u001b[0m\n\u001b[0m",
      "\u001b[0;31mNameError\u001b[0m: name 'file_id' is not defined"
     ]
    }
   ],
   "source": [
    "df = spark.read.parquet(annotation_tables[0])\n",
    "\n",
    "patient_genes = df.select('symbol','normed_CADD_score').drop_duplicates(['symbol'])\n",
    "joined = all_gene_names.join(patient_genes,'symbol','left')\n",
    "gene_score_col = joined.na.fill(value=0,subset=[\"normed_CADD_score\"]).sort('symbol')\\\n",
    "                                .select(col('normed_CADD_score').alias(file_id))\n"
   ]
  },
  {
   "cell_type": "code",
   "execution_count": 33,
   "id": "796c537c-a583-40a6-82ab-f0854606df45",
   "metadata": {
    "collapsed": true,
    "jupyter": {
     "outputs_hidden": true
    },
    "tags": []
   },
   "outputs": [
    {
     "data": {
      "text/plain": [
       "{'whiskers': [<matplotlib.lines.Line2D at 0x7f851cf042b0>,\n",
       "  <matplotlib.lines.Line2D at 0x7f851cf046a0>],\n",
       " 'caps': [<matplotlib.lines.Line2D at 0x7f851cf04850>,\n",
       "  <matplotlib.lines.Line2D at 0x7f851cf04550>],\n",
       " 'boxes': [<matplotlib.lines.Line2D at 0x7f851c99d730>],\n",
       " 'medians': [<matplotlib.lines.Line2D at 0x7f852408a280>],\n",
       " 'fliers': [<matplotlib.lines.Line2D at 0x7f852408a640>],\n",
       " 'means': []}"
      ]
     },
     "execution_count": 33,
     "metadata": {},
     "output_type": "execute_result"
    },
    {
     "data": {
      "image/png": "[encoded data removed]",
      "text/plain": [
       "<Figure size 432x288 with 1 Axes>"
      ]
     },
     "metadata": {
      "needs_background": "light"
     },
     "output_type": "display_data"
    }
   ],
   "source": [
    "plt.boxplot(gene_sums)"
   ]
  },
  {
   "cell_type": "code",
   "execution_count": 11,
   "id": "2f722290-c2d9-4752-bc5e-12bd5ad7800b",
   "metadata": {},
   "outputs": [
    {
     "name": "stdout",
     "output_type": "stream",
     "text": [
      "27054.822999999997 0.002\n"
     ]
    },
    {
     "data": {
      "image/png": "[encoded data removed]",
      "text/plain": [
       "<Figure size 648x432 with 1 Axes>"
      ]
     },
     "metadata": {
      "needs_background": "light"
     },
     "output_type": "display_data"
    }
   ],
   "source": [
    "gene_sums = mr.sum().values\n",
    "print(max(gene_sums),min(gene_sums))\n",
    "plt.figure(figsize=(9,6))\n",
    "plt.hist(gene_sums,bins=30,range=[0,10000])\n",
    "plt.yscale('log')\n",
    "plt.grid()\n",
    "plt.savefig('KUTD_CADD_gene_score_dist.png')\n",
    "plt.show()    "
   ]
  },
  {
   "cell_type": "code",
   "execution_count": 12,
   "id": "5aebf205-a73b-4c45-a20d-9bfe6f991006",
   "metadata": {},
   "outputs": [],
   "source": [
    "mv KUTD_CADD_gene_score_dist.png /sbgenomics/output-files/"
   ]
  },
  {
   "cell_type": "code",
   "execution_count": 18,
   "id": "8342f652-acdd-466d-baad-32fd703866d7",
   "metadata": {},
   "outputs": [
    {
     "data": {
      "text/plain": [
       "527"
      ]
     },
     "execution_count": 18,
     "metadata": {},
     "output_type": "execute_result"
    }
   ],
   "source": [
    "sum(gene_sums > 500)"
   ]
  },
  {
   "cell_type": "code",
   "execution_count": 30,
   "id": "4de89cd6-a524-4571-9ba8-a279adbfb182",
   "metadata": {},
   "outputs": [
    {
     "data": {
      "text/plain": [
       "False"
      ]
     },
     "execution_count": 30,
     "metadata": {},
     "output_type": "execute_result"
    }
   ],
   "source": [
    "(mr.sum() > 500).values"
   ]
  },
  {
   "cell_type": "code",
   "execution_count": 69,
   "id": "4bac2f6c-126b-4651-9914-418c36938e8b",
   "metadata": {},
   "outputs": [
    {
     "data": {
      "text/plain": [
       "(44, 2085)"
      ]
     },
     "execution_count": 69,
     "metadata": {},
     "output_type": "execute_result"
    }
   ],
   "source": [
    "mr.loc[:,(mr.sum() > 180)].shape"
   ]
  },
  {
   "cell_type": "code",
   "execution_count": 70,
   "id": "6765ee1a-7ce2-4584-93bc-86494403263a",
   "metadata": {},
   "outputs": [
    {
     "data": {
      "text/plain": [
       "10.256284126125239"
      ]
     },
     "execution_count": 70,
     "metadata": {},
     "output_type": "execute_result"
    }
   ],
   "source": [
    "100*(2085/mr.shape[1])"
   ]
  },
  {
   "cell_type": "markdown",
   "id": "5af60021-87f6-48b5-b3c1-0fb6d0f1a29d",
   "metadata": {},
   "source": [
    "### Are any of the highest genes VERY common or VERY short?"
   ]
  },
  {
   "cell_type": "code",
   "execution_count": 49,
   "id": "50fa1f11-e65c-495a-9699-9879a952a822",
   "metadata": {},
   "outputs": [
    {
     "data": {
      "text/plain": [
       "3732"
      ]
     },
     "execution_count": 49,
     "metadata": {},
     "output_type": "execute_result"
    }
   ],
   "source": [
    "sum(s >100)"
   ]
  },
  {
   "cell_type": "code",
   "execution_count": 44,
   "id": "a58a78ac-eff0-4374-931b-bbd3da891d42",
   "metadata": {},
   "outputs": [
    {
     "data": {
      "text/plain": [
       "71.241"
      ]
     },
     "execution_count": 44,
     "metadata": {},
     "output_type": "execute_result"
    }
   ],
   "source": [
    "s['IFI30']"
   ]
  },
  {
   "cell_type": "code",
   "execution_count": 53,
   "id": "07647048-707a-4932-8618-1bb942ec5aea",
   "metadata": {
    "collapsed": true,
    "jupyter": {
     "outputs_hidden": true
    },
    "tags": []
   },
   "outputs": [
    {
     "data": {
      "text/html": [
       "<div>\n",
       "<style scoped>\n",
       "    .dataframe tbody tr th:only-of-type {\n",
       "        vertical-align: middle;\n",
       "    }\n",
       "\n",
       "    .dataframe tbody tr th {\n",
       "        vertical-align: top;\n",
       "    }\n",
       "\n",
       "    .dataframe thead th {\n",
       "        text-align: right;\n",
       "    }\n",
       "</style>\n",
       "<table border=\"1\" class=\"dataframe\">\n",
       "  <thead>\n",
       "    <tr style=\"text-align: right;\">\n",
       "      <th></th>\n",
       "      <th>LOC105372220</th>\n",
       "      <th>KDM8</th>\n",
       "      <th>MIR10A</th>\n",
       "      <th>LINC02301</th>\n",
       "      <th>LINC01504</th>\n",
       "      <th>LOC105374862</th>\n",
       "      <th>LOC101929759</th>\n",
       "      <th>NIBAN1</th>\n",
       "      <th>ADAM22</th>\n",
       "      <th>ZNF410</th>\n",
       "      <th>...</th>\n",
       "      <th>SCARNA9</th>\n",
       "      <th>LOC105369955</th>\n",
       "      <th>DRAXIN</th>\n",
       "      <th>TPM4</th>\n",
       "      <th>LOC105375938</th>\n",
       "      <th>LOC101928419</th>\n",
       "      <th>SULT1C3</th>\n",
       "      <th>NINJ1</th>\n",
       "      <th>GPR34</th>\n",
       "      <th>IFI30</th>\n",
       "    </tr>\n",
       "  </thead>\n",
       "  <tbody>\n",
       "    <tr>\n",
       "      <th>GF_0ZR9EDHK</th>\n",
       "      <td>519.467</td>\n",
       "      <td>336.986</td>\n",
       "      <td>252.361</td>\n",
       "      <td>336.255</td>\n",
       "      <td>218.813</td>\n",
       "      <td>305.000</td>\n",
       "      <td>219.071</td>\n",
       "      <td>297.930</td>\n",
       "      <td>184.864</td>\n",
       "      <td>300.511</td>\n",
       "      <td>...</td>\n",
       "      <td>1.336</td>\n",
       "      <td>1.747</td>\n",
       "      <td>1.415</td>\n",
       "      <td>2.334</td>\n",
       "      <td>1.685</td>\n",
       "      <td>0.0</td>\n",
       "      <td>2.097</td>\n",
       "      <td>1.732</td>\n",
       "      <td>2.366</td>\n",
       "      <td>0.930</td>\n",
       "    </tr>\n",
       "    <tr>\n",
       "      <th>GF_1K2GTEAM</th>\n",
       "      <td>519.970</td>\n",
       "      <td>971.233</td>\n",
       "      <td>384.917</td>\n",
       "      <td>166.693</td>\n",
       "      <td>362.159</td>\n",
       "      <td>128.593</td>\n",
       "      <td>248.461</td>\n",
       "      <td>297.930</td>\n",
       "      <td>231.545</td>\n",
       "      <td>313.763</td>\n",
       "      <td>...</td>\n",
       "      <td>1.670</td>\n",
       "      <td>1.709</td>\n",
       "      <td>1.678</td>\n",
       "      <td>0.000</td>\n",
       "      <td>0.253</td>\n",
       "      <td>0.0</td>\n",
       "      <td>2.115</td>\n",
       "      <td>1.213</td>\n",
       "      <td>1.845</td>\n",
       "      <td>0.574</td>\n",
       "    </tr>\n",
       "    <tr>\n",
       "      <th>GF_3R71VD9D</th>\n",
       "      <td>630.793</td>\n",
       "      <td>971.233</td>\n",
       "      <td>434.931</td>\n",
       "      <td>130.613</td>\n",
       "      <td>166.458</td>\n",
       "      <td>255.231</td>\n",
       "      <td>183.858</td>\n",
       "      <td>41.123</td>\n",
       "      <td>157.291</td>\n",
       "      <td>70.076</td>\n",
       "      <td>...</td>\n",
       "      <td>1.694</td>\n",
       "      <td>1.622</td>\n",
       "      <td>1.678</td>\n",
       "      <td>0.000</td>\n",
       "      <td>0.450</td>\n",
       "      <td>0.0</td>\n",
       "      <td>1.026</td>\n",
       "      <td>1.523</td>\n",
       "      <td>2.248</td>\n",
       "      <td>0.444</td>\n",
       "    </tr>\n",
       "    <tr>\n",
       "      <th>GF_451FYZ8Q</th>\n",
       "      <td>670.607</td>\n",
       "      <td>660.274</td>\n",
       "      <td>340.306</td>\n",
       "      <td>129.015</td>\n",
       "      <td>196.000</td>\n",
       "      <td>130.242</td>\n",
       "      <td>239.404</td>\n",
       "      <td>297.930</td>\n",
       "      <td>170.455</td>\n",
       "      <td>120.794</td>\n",
       "      <td>...</td>\n",
       "      <td>1.337</td>\n",
       "      <td>1.751</td>\n",
       "      <td>0.718</td>\n",
       "      <td>2.334</td>\n",
       "      <td>0.253</td>\n",
       "      <td>0.0</td>\n",
       "      <td>2.115</td>\n",
       "      <td>2.696</td>\n",
       "      <td>2.338</td>\n",
       "      <td>0.870</td>\n",
       "    </tr>\n",
       "    <tr>\n",
       "      <th>GF_594ECSE4</th>\n",
       "      <td>755.230</td>\n",
       "      <td>660.274</td>\n",
       "      <td>807.097</td>\n",
       "      <td>131.467</td>\n",
       "      <td>346.710</td>\n",
       "      <td>90.582</td>\n",
       "      <td>152.929</td>\n",
       "      <td>297.930</td>\n",
       "      <td>188.064</td>\n",
       "      <td>140.618</td>\n",
       "      <td>...</td>\n",
       "      <td>0.955</td>\n",
       "      <td>1.632</td>\n",
       "      <td>1.945</td>\n",
       "      <td>4.579</td>\n",
       "      <td>1.270</td>\n",
       "      <td>0.0</td>\n",
       "      <td>1.089</td>\n",
       "      <td>1.832</td>\n",
       "      <td>2.448</td>\n",
       "      <td>2.600</td>\n",
       "    </tr>\n",
       "  </tbody>\n",
       "</table>\n",
       "<p>5 rows × 5082 columns</p>\n",
       "</div>"
      ],
      "text/plain": [
       "             LOC105372220     KDM8   MIR10A  LINC02301  LINC01504  \\\n",
       "GF_0ZR9EDHK       519.467  336.986  252.361    336.255    218.813   \n",
       "GF_1K2GTEAM       519.970  971.233  384.917    166.693    362.159   \n",
       "GF_3R71VD9D       630.793  971.233  434.931    130.613    166.458   \n",
       "GF_451FYZ8Q       670.607  660.274  340.306    129.015    196.000   \n",
       "GF_594ECSE4       755.230  660.274  807.097    131.467    346.710   \n",
       "\n",
       "             LOC105374862  LOC101929759   NIBAN1   ADAM22   ZNF410  ...  \\\n",
       "GF_0ZR9EDHK       305.000       219.071  297.930  184.864  300.511  ...   \n",
       "GF_1K2GTEAM       128.593       248.461  297.930  231.545  313.763  ...   \n",
       "GF_3R71VD9D       255.231       183.858   41.123  157.291   70.076  ...   \n",
       "GF_451FYZ8Q       130.242       239.404  297.930  170.455  120.794  ...   \n",
       "GF_594ECSE4        90.582       152.929  297.930  188.064  140.618  ...   \n",
       "\n",
       "             SCARNA9  LOC105369955  DRAXIN   TPM4  LOC105375938  LOC101928419  \\\n",
       "GF_0ZR9EDHK    1.336         1.747   1.415  2.334         1.685           0.0   \n",
       "GF_1K2GTEAM    1.670         1.709   1.678  0.000         0.253           0.0   \n",
       "GF_3R71VD9D    1.694         1.622   1.678  0.000         0.450           0.0   \n",
       "GF_451FYZ8Q    1.337         1.751   0.718  2.334         0.253           0.0   \n",
       "GF_594ECSE4    0.955         1.632   1.945  4.579         1.270           0.0   \n",
       "\n",
       "             SULT1C3  NINJ1  GPR34  IFI30  \n",
       "GF_0ZR9EDHK    2.097  1.732  2.366  0.930  \n",
       "GF_1K2GTEAM    2.115  1.213  1.845  0.574  \n",
       "GF_3R71VD9D    1.026  1.523  2.248  0.444  \n",
       "GF_451FYZ8Q    2.115  2.696  2.338  0.870  \n",
       "GF_594ECSE4    1.089  1.832  2.448  2.600  \n",
       "\n",
       "[5 rows x 5082 columns]"
      ]
     },
     "execution_count": 53,
     "metadata": {},
     "output_type": "execute_result"
    }
   ],
   "source": [
    "s = mr.sum()\n",
    "\n",
    "percentage = .25\n",
    "INDEX = int(len(mr.columns)*percentage)\n",
    "\n",
    "mr[s.sort_values(ascending=False).index[:INDEX]].head(5)"
   ]
  },
  {
   "cell_type": "markdown",
   "id": "211c3609-46e9-4497-8ced-de5dbd5f6ce5",
   "metadata": {},
   "source": [
    "# Build CHD gene score matrix from files"
   ]
  },
  {
   "cell_type": "code",
   "execution_count": 13,
   "id": "60b2d596-f794-4bdd-8f6d-7c9ab5e09961",
   "metadata": {},
   "outputs": [
    {
     "data": {
      "text/plain": [
       "711"
      ]
     },
     "execution_count": 13,
     "metadata": {},
     "output_type": "execute_result"
    }
   ],
   "source": [
    "chd_columns = glob.glob('/sbgenomics/project-files/column_*_CHD_gene_score_matrix.csv')\n",
    "len(chd_columns)"
   ]
  },
  {
   "cell_type": "code",
   "execution_count": 14,
   "id": "d8272aa9-b068-4f34-b867-b2a39ae0fffb",
   "metadata": {},
   "outputs": [
    {
     "name": "stdout",
     "output_type": "stream",
     "text": [
      "CPU times: user 3.58 s, sys: 496 ms, total: 4.07 s\n",
      "Wall time: 1min 32s\n"
     ]
    }
   ],
   "source": [
    "%%time\n",
    "for n,file in enumerate(chd_columns):\n",
    "    \n",
    "    df = pd.read_csv(file)\n",
    "    #print(len(df))\n",
    "    if n==0:\n",
    "        full_df = df\n",
    "    else:\n",
    "        full_df[df.columns[0]] = df\n",
    "    #if n>50: break"
   ]
  },
  {
   "cell_type": "code",
   "execution_count": 15,
   "id": "cd3bba08-5d9c-4726-8d1a-4a0b413d92f9",
   "metadata": {},
   "outputs": [],
   "source": [
    "assert full_df.isna().sum().sum() == 0"
   ]
  },
  {
   "cell_type": "code",
   "execution_count": 97,
   "id": "93f53ba4-949b-4d45-a1a2-3a007b6853ea",
   "metadata": {},
   "outputs": [
    {
     "data": {
      "text/plain": [
       "array([['ALDH4A1'],\n",
       "       ['CACNA1E'],\n",
       "       ['CFAP57'],\n",
       "       ...,\n",
       "       ['LOC112268327'],\n",
       "       ['LOC112268341'],\n",
       "       ['LOC107987381']], dtype=object)"
      ]
     },
     "execution_count": 97,
     "metadata": {},
     "output_type": "execute_result"
    }
   ],
   "source": [
    "np.sort(gene_lengths.dropDuplicates(['name2']).select('name2').toPandas())"
   ]
  },
  {
   "cell_type": "code",
   "execution_count": 18,
   "id": "20d78ef5-212f-48c3-b191-1bc42a49d3a6",
   "metadata": {},
   "outputs": [],
   "source": [
    "full_df = full_df.T"
   ]
  },
  {
   "cell_type": "code",
   "execution_count": 19,
   "id": "d83efffb-7ef9-4602-b37c-2bdd218079ba",
   "metadata": {},
   "outputs": [],
   "source": [
    "full_df.columns = [i[0] for i in all_gene_names_df.values]"
   ]
  },
  {
   "cell_type": "code",
   "execution_count": 27,
   "id": "73604fc3-d4af-423c-80ca-3268bb3e5f22",
   "metadata": {},
   "outputs": [],
   "source": [
    "chd_matrix  = full_df.loc[:, (full_df.sum(axis=0) != 0)]"
   ]
  },
  {
   "cell_type": "code",
   "execution_count": 35,
   "id": "a3355ba5-6a15-4888-8be9-6b0688162c19",
   "metadata": {},
   "outputs": [],
   "source": [
    "chd_matrix.to_csv('chd_cadd_matrix.csv',index=False)"
   ]
  },
  {
   "cell_type": "code",
   "execution_count": 38,
   "id": "9a7038c4-7eba-46ef-bf9f-52e7dd34466f",
   "metadata": {},
   "outputs": [],
   "source": [
    "cp pandas_matrix.csv /sbgenomics/output-files/"
   ]
  },
  {
   "cell_type": "code",
   "execution_count": 29,
   "id": "232ae273-5211-4dc3-bc73-9e3324f13670",
   "metadata": {},
   "outputs": [
    {
     "name": "stdout",
     "output_type": "stream",
     "text": [
      "469053.4570000001 0.0\n"
     ]
    },
    {
     "data": {
      "image/png": "[encoded data removed]",
      "text/plain": [
       "<Figure size 648x432 with 1 Axes>"
      ]
     },
     "metadata": {
      "needs_background": "light"
     },
     "output_type": "display_data"
    }
   ],
   "source": [
    "gene_sums = full_df.sum().values\n",
    "print(max(gene_sums),min(gene_sums))\n",
    "plt.figure(figsize=(9,6))\n",
    "plt.hist(gene_sums,bins=30,range=[0,21000])\n",
    "plt.yscale('log')\n",
    "plt.grid()\n",
    "plt.savefig('CHD_CADD_gene_score_dist.png')\n",
    "plt.show()    "
   ]
  },
  {
   "cell_type": "code",
   "execution_count": 26,
   "id": "35afcbf4-d93e-462f-abf7-50a3d8959d87",
   "metadata": {},
   "outputs": [],
   "source": [
    "mv CHD_CADD_gene_score_dist.png /sbgenomics/output-files/"
   ]
  },
  {
   "cell_type": "code",
   "execution_count": 33,
   "id": "ccd49583-9ba6-4442-bc1c-4ffbdf79e9f4",
   "metadata": {},
   "outputs": [
    {
     "data": {
      "text/html": [
       "<div>\n",
       "<style scoped>\n",
       "    .dataframe tbody tr th:only-of-type {\n",
       "        vertical-align: middle;\n",
       "    }\n",
       "\n",
       "    .dataframe tbody tr th {\n",
       "        vertical-align: top;\n",
       "    }\n",
       "\n",
       "    .dataframe thead th {\n",
       "        text-align: right;\n",
       "    }\n",
       "</style>\n",
       "<table border=\"1\" class=\"dataframe\">\n",
       "  <thead>\n",
       "    <tr style=\"text-align: right;\">\n",
       "      <th></th>\n",
       "      <th>KDM8</th>\n",
       "      <th>LOC105372220</th>\n",
       "    </tr>\n",
       "  </thead>\n",
       "  <tbody>\n",
       "    <tr>\n",
       "      <th>BS_0302Y3N5</th>\n",
       "      <td>660.274</td>\n",
       "      <td>671.822</td>\n",
       "    </tr>\n",
       "    <tr>\n",
       "      <th>BS_03BQSV43</th>\n",
       "      <td>0.000</td>\n",
       "      <td>519.378</td>\n",
       "    </tr>\n",
       "    <tr>\n",
       "      <th>BS_04R6HY6V</th>\n",
       "      <td>971.233</td>\n",
       "      <td>627.726</td>\n",
       "    </tr>\n",
       "    <tr>\n",
       "      <th>BS_08CXN5PS</th>\n",
       "      <td>660.274</td>\n",
       "      <td>741.044</td>\n",
       "    </tr>\n",
       "    <tr>\n",
       "      <th>BS_0G4PAK2X</th>\n",
       "      <td>0.000</td>\n",
       "      <td>561.756</td>\n",
       "    </tr>\n",
       "    <tr>\n",
       "      <th>...</th>\n",
       "      <td>...</td>\n",
       "      <td>...</td>\n",
       "    </tr>\n",
       "    <tr>\n",
       "      <th>BS_ZWFRN4MA</th>\n",
       "      <td>0.000</td>\n",
       "      <td>580.244</td>\n",
       "    </tr>\n",
       "    <tr>\n",
       "      <th>BS_ZX99PGHS</th>\n",
       "      <td>647.945</td>\n",
       "      <td>445.585</td>\n",
       "    </tr>\n",
       "    <tr>\n",
       "      <th>BS_ZXMZDGG6</th>\n",
       "      <td>971.233</td>\n",
       "      <td>625.430</td>\n",
       "    </tr>\n",
       "    <tr>\n",
       "      <th>BS_ZYG3D3D7</th>\n",
       "      <td>0.000</td>\n",
       "      <td>729.170</td>\n",
       "    </tr>\n",
       "    <tr>\n",
       "      <th>BS_ZZNSNDVQ</th>\n",
       "      <td>0.000</td>\n",
       "      <td>644.296</td>\n",
       "    </tr>\n",
       "  </tbody>\n",
       "</table>\n",
       "<p>711 rows × 2 columns</p>\n",
       "</div>"
      ],
      "text/plain": [
       "                KDM8  LOC105372220\n",
       "BS_0302Y3N5  660.274       671.822\n",
       "BS_03BQSV43    0.000       519.378\n",
       "BS_04R6HY6V  971.233       627.726\n",
       "BS_08CXN5PS  660.274       741.044\n",
       "BS_0G4PAK2X    0.000       561.756\n",
       "...              ...           ...\n",
       "BS_ZWFRN4MA    0.000       580.244\n",
       "BS_ZX99PGHS  647.945       445.585\n",
       "BS_ZXMZDGG6  971.233       625.430\n",
       "BS_ZYG3D3D7    0.000       729.170\n",
       "BS_ZZNSNDVQ    0.000       644.296\n",
       "\n",
       "[711 rows x 2 columns]"
      ]
     },
     "execution_count": 33,
     "metadata": {},
     "output_type": "execute_result"
    }
   ],
   "source": [
    "s = chd_matrix.sum()\n",
    "\n",
    "#percentage = .25\n",
    "#INDEX = int(len(mr.columns)*percentage)\n",
    "\n",
    "chd_matrix[s.sort_values(ascending=False).index[:2]].head()"
   ]
  },
  {
   "cell_type": "code",
   "execution_count": 86,
   "id": "7a3d355d-979e-4bf5-82aa-a450c016b5fd",
   "metadata": {},
   "outputs": [
    {
     "data": {
      "text/plain": [
       "59.07172995780591"
      ]
     },
     "execution_count": 86,
     "metadata": {},
     "output_type": "execute_result"
    }
   ],
   "source": [
    "42000/711    # mean gene score = ~59"
   ]
  },
  {
   "cell_type": "code",
   "execution_count": 88,
   "id": "0186444b-f1ee-46e1-b69d-e86cf4f9701d",
   "metadata": {},
   "outputs": [
    {
     "data": {
      "text/plain": [
       "174"
      ]
     },
     "execution_count": 88,
     "metadata": {},
     "output_type": "execute_result"
    }
   ],
   "source": [
    "sum(chd_matrix.sum() >44000)"
   ]
  },
  {
   "cell_type": "code",
   "execution_count": 109,
   "id": "2e11507a-6c09-4e69-a63e-023bbca6ce66",
   "metadata": {},
   "outputs": [
    {
     "data": {
      "text/html": [
       "<div>\n",
       "<style scoped>\n",
       "    .dataframe tbody tr th:only-of-type {\n",
       "        vertical-align: middle;\n",
       "    }\n",
       "\n",
       "    .dataframe tbody tr th {\n",
       "        vertical-align: top;\n",
       "    }\n",
       "\n",
       "    .dataframe thead th {\n",
       "        text-align: right;\n",
       "    }\n",
       "</style>\n",
       "<table border=\"1\" class=\"dataframe\">\n",
       "  <thead>\n",
       "    <tr style=\"text-align: right;\">\n",
       "      <th></th>\n",
       "      <th>KDM8</th>\n",
       "      <th>LOC105372220</th>\n",
       "      <th>MIR10A</th>\n",
       "      <th>LINC02301</th>\n",
       "      <th>LOC105374862</th>\n",
       "      <th>LINC01504</th>\n",
       "      <th>LOC101929759</th>\n",
       "      <th>NIBAN1</th>\n",
       "      <th>CACNG8</th>\n",
       "      <th>ZNF410</th>\n",
       "      <th>...</th>\n",
       "      <th>TMEM74B</th>\n",
       "      <th>LOC105374139</th>\n",
       "      <th>LINC01013</th>\n",
       "      <th>MROH3P</th>\n",
       "      <th>C17orf97</th>\n",
       "      <th>SMCHD1</th>\n",
       "      <th>DAOA</th>\n",
       "      <th>DPRX</th>\n",
       "      <th>LINC01445</th>\n",
       "      <th>LOC105375669</th>\n",
       "    </tr>\n",
       "  </thead>\n",
       "  <tbody>\n",
       "    <tr>\n",
       "      <th>BS_0302Y3N5</th>\n",
       "      <td>660.274</td>\n",
       "      <td>671.822</td>\n",
       "      <td>436.111</td>\n",
       "      <td>250.796</td>\n",
       "      <td>262.934</td>\n",
       "      <td>161.196</td>\n",
       "      <td>246.447</td>\n",
       "      <td>297.930</td>\n",
       "      <td>185.228</td>\n",
       "      <td>206.008</td>\n",
       "      <td>...</td>\n",
       "      <td>1.321</td>\n",
       "      <td>1.308</td>\n",
       "      <td>2.169</td>\n",
       "      <td>1.567</td>\n",
       "      <td>0.264</td>\n",
       "      <td>0.0</td>\n",
       "      <td>0.000</td>\n",
       "      <td>1.700</td>\n",
       "      <td>1.458</td>\n",
       "      <td>1.586</td>\n",
       "    </tr>\n",
       "    <tr>\n",
       "      <th>BS_03BQSV43</th>\n",
       "      <td>0.000</td>\n",
       "      <td>519.378</td>\n",
       "      <td>243.597</td>\n",
       "      <td>130.131</td>\n",
       "      <td>120.758</td>\n",
       "      <td>165.308</td>\n",
       "      <td>286.624</td>\n",
       "      <td>297.930</td>\n",
       "      <td>265.007</td>\n",
       "      <td>253.534</td>\n",
       "      <td>...</td>\n",
       "      <td>1.679</td>\n",
       "      <td>1.303</td>\n",
       "      <td>0.351</td>\n",
       "      <td>0.963</td>\n",
       "      <td>1.255</td>\n",
       "      <td>0.0</td>\n",
       "      <td>1.745</td>\n",
       "      <td>1.700</td>\n",
       "      <td>1.251</td>\n",
       "      <td>0.569</td>\n",
       "    </tr>\n",
       "    <tr>\n",
       "      <th>BS_04R6HY6V</th>\n",
       "      <td>971.233</td>\n",
       "      <td>627.726</td>\n",
       "      <td>324.806</td>\n",
       "      <td>222.759</td>\n",
       "      <td>349.956</td>\n",
       "      <td>188.215</td>\n",
       "      <td>251.348</td>\n",
       "      <td>39.956</td>\n",
       "      <td>263.485</td>\n",
       "      <td>214.588</td>\n",
       "      <td>...</td>\n",
       "      <td>1.052</td>\n",
       "      <td>1.308</td>\n",
       "      <td>2.823</td>\n",
       "      <td>1.879</td>\n",
       "      <td>1.591</td>\n",
       "      <td>0.0</td>\n",
       "      <td>1.745</td>\n",
       "      <td>0.738</td>\n",
       "      <td>1.501</td>\n",
       "      <td>1.121</td>\n",
       "    </tr>\n",
       "    <tr>\n",
       "      <th>BS_08CXN5PS</th>\n",
       "      <td>660.274</td>\n",
       "      <td>741.044</td>\n",
       "      <td>334.153</td>\n",
       "      <td>70.504</td>\n",
       "      <td>95.780</td>\n",
       "      <td>257.495</td>\n",
       "      <td>286.624</td>\n",
       "      <td>297.930</td>\n",
       "      <td>59.051</td>\n",
       "      <td>266.786</td>\n",
       "      <td>...</td>\n",
       "      <td>0.281</td>\n",
       "      <td>1.308</td>\n",
       "      <td>2.770</td>\n",
       "      <td>0.802</td>\n",
       "      <td>2.058</td>\n",
       "      <td>0.0</td>\n",
       "      <td>1.745</td>\n",
       "      <td>0.004</td>\n",
       "      <td>1.370</td>\n",
       "      <td>1.121</td>\n",
       "    </tr>\n",
       "    <tr>\n",
       "      <th>BS_0G4PAK2X</th>\n",
       "      <td>0.000</td>\n",
       "      <td>561.756</td>\n",
       "      <td>445.528</td>\n",
       "      <td>242.657</td>\n",
       "      <td>269.154</td>\n",
       "      <td>57.897</td>\n",
       "      <td>107.461</td>\n",
       "      <td>297.930</td>\n",
       "      <td>263.529</td>\n",
       "      <td>179.046</td>\n",
       "      <td>...</td>\n",
       "      <td>1.710</td>\n",
       "      <td>1.312</td>\n",
       "      <td>1.929</td>\n",
       "      <td>0.802</td>\n",
       "      <td>2.749</td>\n",
       "      <td>0.0</td>\n",
       "      <td>1.745</td>\n",
       "      <td>1.875</td>\n",
       "      <td>0.872</td>\n",
       "      <td>2.908</td>\n",
       "    </tr>\n",
       "  </tbody>\n",
       "</table>\n",
       "<p>5 rows × 5309 columns</p>\n",
       "</div>"
      ],
      "text/plain": [
       "                KDM8  LOC105372220   MIR10A  LINC02301  LOC105374862  \\\n",
       "BS_0302Y3N5  660.274       671.822  436.111    250.796       262.934   \n",
       "BS_03BQSV43    0.000       519.378  243.597    130.131       120.758   \n",
       "BS_04R6HY6V  971.233       627.726  324.806    222.759       349.956   \n",
       "BS_08CXN5PS  660.274       741.044  334.153     70.504        95.780   \n",
       "BS_0G4PAK2X    0.000       561.756  445.528    242.657       269.154   \n",
       "\n",
       "             LINC01504  LOC101929759   NIBAN1   CACNG8   ZNF410  ...  TMEM74B  \\\n",
       "BS_0302Y3N5    161.196       246.447  297.930  185.228  206.008  ...    1.321   \n",
       "BS_03BQSV43    165.308       286.624  297.930  265.007  253.534  ...    1.679   \n",
       "BS_04R6HY6V    188.215       251.348   39.956  263.485  214.588  ...    1.052   \n",
       "BS_08CXN5PS    257.495       286.624  297.930   59.051  266.786  ...    0.281   \n",
       "BS_0G4PAK2X     57.897       107.461  297.930  263.529  179.046  ...    1.710   \n",
       "\n",
       "             LOC105374139  LINC01013  MROH3P  C17orf97  SMCHD1   DAOA   DPRX  \\\n",
       "BS_0302Y3N5         1.308      2.169   1.567     0.264     0.0  0.000  1.700   \n",
       "BS_03BQSV43         1.303      0.351   0.963     1.255     0.0  1.745  1.700   \n",
       "BS_04R6HY6V         1.308      2.823   1.879     1.591     0.0  1.745  0.738   \n",
       "BS_08CXN5PS         1.308      2.770   0.802     2.058     0.0  1.745  0.004   \n",
       "BS_0G4PAK2X         1.312      1.929   0.802     2.749     0.0  1.745  1.875   \n",
       "\n",
       "             LINC01445  LOC105375669  \n",
       "BS_0302Y3N5      1.458         1.586  \n",
       "BS_03BQSV43      1.251         0.569  \n",
       "BS_04R6HY6V      1.501         1.121  \n",
       "BS_08CXN5PS      1.370         1.121  \n",
       "BS_0G4PAK2X      0.872         2.908  \n",
       "\n",
       "[5 rows x 5309 columns]"
      ]
     },
     "execution_count": 109,
     "metadata": {},
     "output_type": "execute_result"
    }
   ],
   "source": [
    "s = chd_matrix.sum()\n",
    "\n",
    "percentage = .25\n",
    "INDEX = int(len(chd_matrix.columns)*percentage)\n",
    "\n",
    "chd_matrix[s.sort_values(ascending=False).index[:INDEX]].head(5)"
   ]
  },
  {
   "cell_type": "code",
   "execution_count": null,
   "id": "0088c41a-ad37-4de5-891c-064782498851",
   "metadata": {},
   "outputs": [],
   "source": []
  }
 ],
 "metadata": {
  "kernelspec": {
   "display_name": "Python 3 (ipykernel)",
   "language": "python",
   "name": "python3"
  },
  "language_info": {
   "codemirror_mode": {
    "name": "ipython",
    "version": 3
   },
   "file_extension": ".py",
   "mimetype": "text/x-python",
   "name": "python",
   "nbconvert_exporter": "python",
   "pygments_lexer": "ipython3",
   "version": "3.9.7"
  }
 },
 "nbformat": 4,
 "nbformat_minor": 5
}
