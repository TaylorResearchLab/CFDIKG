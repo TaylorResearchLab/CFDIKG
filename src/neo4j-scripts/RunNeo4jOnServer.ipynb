{
 "cells": [
  {
   "cell_type": "markdown",
   "metadata": {},
   "source": [
    "# Instructions for runnning queries with cypher-shell on the server"
   ]
  },
  {
   "cell_type": "markdown",
   "metadata": {},
   "source": [
    "### Server: reslngenes01.research.chop.edu"
   ]
  },
  {
   "cell_type": "markdown",
   "metadata": {},
   "source": [
    "1. First ssh onto server\n",
    "    * ssh stearb@reslngenes01.research.chop.edu\n",
    "    \n",
    "    \n",
    "2. Then cd into directory\n",
    "    * cd /data/bens_neo4j_dir/neo4j\n",
    "    \n",
    "    \n",
    "3. Use Neo4j command line tool to start up database\n",
    "    * bin/neo4j start\n",
    "\n",
    "\n",
    "4. Wait 10-20 seconds and enter cypher shell (Authentication is disabled so you shouldn't have to pass any user name or password but if it asks you the username is neo4j and the password is neo4j2020).\n",
    "    * bin/cypher-shell\n",
    "    \n",
    "    \n",
    "5. Now you can type in cypher queries just like in the desktop app. Make sure all queries end with a semicolon ';'. Also make sure you have the correct quotes, like these: ''''''. The curly ones dont work in the cypher-shell.\n",
    "    "
   ]
  },
  {
   "cell_type": "markdown",
   "metadata": {},
   "source": [
    "# Running graph algorithms"
   ]
  },
  {
   "cell_type": "markdown",
   "metadata": {},
   "source": [
    "1. Use Graph Data Science (GDS) function to create a graph projection, this query creates a graph projection of the Concept space (takes a few minutes)\n",
    "\n",
    "    * CALL gds.graph.create.cypher('g1', 'MATCH (n:Concept)  \n",
    "      RETURN id(n) AS id', 'MATCH (n:Concept)-[e]-(m:Concept) RETURN id(n) AS source, id(m) AS target' );\n",
    "      \n",
    "      \n",
    "2. Run an algorithm on the projection\n",
    "\n",
    "    * CALL gds.pageRank.stream('g1') yield nodeId, score\n",
    "    \n",
    "    \n",
    "3. If you want to save the results use the APOC export to csv function (file will be in neo4j/import/)\n",
    "\n",
    "    * WITH \"CALL gds.pageRank.stream('g1') yield nodeId, score\" AS query  \n",
    "      CALL apoc.export.csv.query(query, \"pageRank_concepts.csv\", {})  \n",
    "      YIELD  done, RETURN done;"
   ]
  },
  {
   "cell_type": "markdown",
   "metadata": {},
   "source": [
    "Algorithm Examples\n",
    "\n",
    "CALL gds.louvain.stream('g1') yield nodeId,communityId,intermediateCommunityIds  \n",
    "CALL gds.pageRank.stream('g1') yield nodeId, score  \n",
    "CALL gds.localClusteringCoefficient.stream('g1') yield nodeId, localClusteringCoefficient  \n",
    "CALL gds.betweenness.stream('g1') YIELD nodeId, score  "
   ]
  },
  {
   "cell_type": "markdown",
   "metadata": {},
   "source": [
    "GDS docs: https://neo4j.com/docs/graph-data-science/current/"
   ]
  },
  {
   "cell_type": "markdown",
   "metadata": {},
   "source": [
    "### If you are trying to find/visualize paths Then you might want to use the desktop app because you can't really visualize anything in the Cypher shell"
   ]
  },
  {
   "cell_type": "markdown",
   "metadata": {},
   "source": [
    "A bunch of queries Ive written. Some of them we don't need though, https://github.com/TaylorResearchLab/CFDIKG/blob/master/src/neo4j-scripts/graph_algos"
   ]
  },
  {
   "cell_type": "code",
   "execution_count": null,
   "metadata": {},
   "outputs": [],
   "source": []
  },
  {
   "cell_type": "code",
   "execution_count": null,
   "metadata": {},
   "outputs": [],
   "source": []
  }
 ],
 "metadata": {
  "kernelspec": {
   "display_name": "Python 3",
   "language": "python",
   "name": "python3"
  },
  "language_info": {
   "codemirror_mode": {
    "name": "ipython",
    "version": 3
   },
   "file_extension": ".py",
   "mimetype": "text/x-python",
   "name": "python",
   "nbconvert_exporter": "python",
   "pygments_lexer": "ipython3",
   "version": "3.7.4"
  }
 },
 "nbformat": 4,
 "nbformat_minor": 2
}
