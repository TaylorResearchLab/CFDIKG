{
 "cells": [
  {
   "cell_type": "code",
   "execution_count": 2,
   "metadata": {},
   "outputs": [],
   "source": [
    "import pandas as pd\n",
    "import numpy as np\n",
    "from collections import Counter\n",
    "import os\n",
    "from umls_utils import get_paths, CUIbase64"
   ]
  },
  {
   "cell_type": "code",
   "execution_count": 4,
   "metadata": {},
   "outputs": [],
   "source": [
    "# Get paths from config file\n",
    "config_path = '/Users/stearb/Dropbox/CHOP/R03/code/neo4j_build_CFDIKG/build_scripts/'\n",
    "data_dir,helper_data_dir,output_dir,LOCAL_CPU, umls_dir, umls_out_dir = get_paths(config_path)\n",
    "\n",
    "\n",
    "if not  os.path.isdir(output_dir+'kf_phenotypes'):\n",
    "    os.mkdir(output_dir+'kf_phenotypes')\n",
    "    print('Creating kf_phenotypes directory...')\n",
    "\n"
   ]
  },
  {
   "cell_type": "code",
   "execution_count": 5,
   "metadata": {},
   "outputs": [
    {
     "data": {
      "text/plain": [
       "'/Users/stearb/Desktop/R03_local/data/use_config/OUTPUT_FILES/'"
      ]
     },
     "execution_count": 5,
     "metadata": {},
     "output_type": "execute_result"
    }
   ],
   "source": [
    "output_dir"
   ]
  },
  {
   "cell_type": "code",
   "execution_count": 11,
   "metadata": {},
   "outputs": [
    {
     "name": "stdout",
     "output_type": "stream",
     "text": [
      "\u001b[34mGTEx\u001b[m\u001b[m           \u001b[34mgenopheno\u001b[m\u001b[m      \u001b[34mhpo_mp_mapping\u001b[m\u001b[m \u001b[34morthologs\u001b[m\u001b[m\r\n",
      "\u001b[34mMPO\u001b[m\u001b[m            \u001b[34mhgnc_annos\u001b[m\u001b[m     \u001b[34mkf_phenotypes\u001b[m\u001b[m\r\n"
     ]
    }
   ],
   "source": [
    "!ls '/Users/stearb/Desktop/R03_local/data/use_config/OUTPUT_FILES/'"
   ]
  },
  {
   "cell_type": "code",
   "execution_count": 3,
   "metadata": {},
   "outputs": [
    {
     "name": "stdout",
     "output_type": "stream",
     "text": [
      "(12031, 8)\n"
     ]
    },
    {
     "data": {
      "text/html": [
       "<div>\n",
       "<style scoped>\n",
       "    .dataframe tbody tr th:only-of-type {\n",
       "        vertical-align: middle;\n",
       "    }\n",
       "\n",
       "    .dataframe tbody tr th {\n",
       "        vertical-align: top;\n",
       "    }\n",
       "\n",
       "    .dataframe thead th {\n",
       "        text-align: right;\n",
       "    }\n",
       "</style>\n",
       "<table border=\"1\" class=\"dataframe\">\n",
       "  <thead>\n",
       "    <tr style=\"text-align: right;\">\n",
       "      <th></th>\n",
       "      <th>Project Name</th>\n",
       "      <th>participant_id</th>\n",
       "      <th>source_text_phenotype</th>\n",
       "      <th>hpo_id_phenotype</th>\n",
       "      <th>observed</th>\n",
       "      <th>Label</th>\n",
       "      <th>Synonyms</th>\n",
       "      <th>Description</th>\n",
       "    </tr>\n",
       "  </thead>\n",
       "  <tbody>\n",
       "    <tr>\n",
       "      <th>0</th>\n",
       "      <td>National Heart, Lung, and Blood Institute (NHL...</td>\n",
       "      <td>PT_GD9D1VNT</td>\n",
       "      <td>neurogenic bladder</td>\n",
       "      <td>HP:0000011</td>\n",
       "      <td>Positive</td>\n",
       "      <td>Neurogenic bladder</td>\n",
       "      <td>Lack of bladder control due to nervous system ...</td>\n",
       "      <td>A type of bladder dysfunction caused by neurol...</td>\n",
       "    </tr>\n",
       "    <tr>\n",
       "      <th>1</th>\n",
       "      <td>Genomic Analysis of Congenital Diaphragmatic H...</td>\n",
       "      <td>PT_VG1P6Z4G</td>\n",
       "      <td>inguinal hernia</td>\n",
       "      <td>HP:0000023</td>\n",
       "      <td>Positive</td>\n",
       "      <td>Inguinal hernia</td>\n",
       "      <td></td>\n",
       "      <td>Protrusion of the contents of the abdominal ca...</td>\n",
       "    </tr>\n",
       "    <tr>\n",
       "      <th>2</th>\n",
       "      <td>National Heart, Lung, and Blood Institute (NHL...</td>\n",
       "      <td>PT_0YBD5Z93</td>\n",
       "      <td>Inguinal Hernia</td>\n",
       "      <td>HP:0000023</td>\n",
       "      <td>Positive</td>\n",
       "      <td>Inguinal hernia</td>\n",
       "      <td></td>\n",
       "      <td>Protrusion of the contents of the abdominal ca...</td>\n",
       "    </tr>\n",
       "  </tbody>\n",
       "</table>\n",
       "</div>"
      ],
      "text/plain": [
       "                                        Project Name participant_id  \\\n",
       "0  National Heart, Lung, and Blood Institute (NHL...    PT_GD9D1VNT   \n",
       "1  Genomic Analysis of Congenital Diaphragmatic H...    PT_VG1P6Z4G   \n",
       "2  National Heart, Lung, and Blood Institute (NHL...    PT_0YBD5Z93   \n",
       "\n",
       "  source_text_phenotype hpo_id_phenotype  observed               Label  \\\n",
       "0    neurogenic bladder       HP:0000011  Positive  Neurogenic bladder   \n",
       "1       inguinal hernia       HP:0000023  Positive     Inguinal hernia   \n",
       "2       Inguinal Hernia       HP:0000023  Positive     Inguinal hernia   \n",
       "\n",
       "                                            Synonyms  \\\n",
       "0  Lack of bladder control due to nervous system ...   \n",
       "1                                                      \n",
       "2                                                      \n",
       "\n",
       "                                         Description  \n",
       "0  A type of bladder dysfunction caused by neurol...  \n",
       "1  Protrusion of the contents of the abdominal ca...  \n",
       "2  Protrusion of the contents of the abdominal ca...  "
      ]
     },
     "execution_count": 3,
     "metadata": {},
     "output_type": "execute_result"
    }
   ],
   "source": [
    "\n",
    "kf = pd.read_excel(data_dir'KF_April2020_PosPhenos_HPO_Taylor.xlsx',\n",
    "                   sheet_name='PositivePhenotypes')\n",
    "print(kf.shape)\n",
    "kf.head(3)"
   ]
  },
  {
   "cell_type": "code",
   "execution_count": 4,
   "metadata": {},
   "outputs": [
    {
     "data": {
      "text/plain": [
       "Project Name               13\n",
       "participant_id           4266\n",
       "source_text_phenotype    1338\n",
       "hpo_id_phenotype          787\n",
       "observed                    3\n",
       "Label                     787\n",
       "Synonyms                  590\n",
       "Description               722\n",
       "dtype: int64"
      ]
     },
     "execution_count": 4,
     "metadata": {},
     "output_type": "execute_result"
    }
   ],
   "source": [
    "kf.nunique()"
   ]
  },
  {
   "cell_type": "code",
   "execution_count": 5,
   "metadata": {},
   "outputs": [],
   "source": [
    "df = kf[['participant_id','hpo_id_phenotype']].rename(\n",
    "                    columns={'participant_id':'KF_CODE','hpo_id_phenotype':'HPO_CODE'})\n",
    "\n",
    "df['KF_CodeID'] = ['KF ' + i for i in df['KF_CODE']]\n",
    "df['HPO_CodeID'] = ['HPO ' + i for i in df['HPO_CODE']]\n"
   ]
  },
  {
   "cell_type": "code",
   "execution_count": 7,
   "metadata": {},
   "outputs": [
    {
     "data": {
      "text/plain": [
       "'/Users/stearb/Desktop/hubmap-kg/new_build_csv_data/'"
      ]
     },
     "execution_count": 7,
     "metadata": {},
     "output_type": "execute_result"
    }
   ],
   "source": [
    "umls_dir #'/Users/stearb/Desktop/R03_local/data/use_config/HELPER_FILES/'"
   ]
  },
  {
   "cell_type": "code",
   "execution_count": 6,
   "metadata": {},
   "outputs": [
    {
     "data": {
      "text/html": [
       "<div>\n",
       "<style scoped>\n",
       "    .dataframe tbody tr th:only-of-type {\n",
       "        vertical-align: middle;\n",
       "    }\n",
       "\n",
       "    .dataframe tbody tr th {\n",
       "        vertical-align: top;\n",
       "    }\n",
       "\n",
       "    .dataframe thead th {\n",
       "        text-align: right;\n",
       "    }\n",
       "</style>\n",
       "<table border=\"1\" class=\"dataframe\">\n",
       "  <thead>\n",
       "    <tr style=\"text-align: right;\">\n",
       "      <th></th>\n",
       "      <th>HPO_CUI</th>\n",
       "      <th>HPO_CodeID</th>\n",
       "    </tr>\n",
       "  </thead>\n",
       "  <tbody>\n",
       "    <tr>\n",
       "      <th>16</th>\n",
       "      <td>C0000778</td>\n",
       "      <td>HPO HP:0032224</td>\n",
       "    </tr>\n",
       "    <tr>\n",
       "      <th>107</th>\n",
       "      <td>C0002447</td>\n",
       "      <td>HPO HP:0009827</td>\n",
       "    </tr>\n",
       "    <tr>\n",
       "      <th>188</th>\n",
       "      <td>C0003463</td>\n",
       "      <td>HPO HP:0032186</td>\n",
       "    </tr>\n",
       "  </tbody>\n",
       "</table>\n",
       "</div>"
      ],
      "text/plain": [
       "      HPO_CUI      HPO_CodeID\n",
       "16   C0000778  HPO HP:0032224\n",
       "107  C0002447  HPO HP:0009827\n",
       "188  C0003463  HPO HP:0032186"
      ]
     },
     "execution_count": 6,
     "metadata": {},
     "output_type": "execute_result"
    }
   ],
   "source": [
    "\n",
    "# From CSVs\n",
    "UMLS_CUI_CODE = pd.read_csv(umls_dir+'CUI-CODEs.csv')\n",
    "\n",
    "umls_hpo = UMLS_CUI_CODE[UMLS_CUI_CODE[':END_ID'].str.startswith('HPO')].rename(\n",
    "                    columns={':END_ID':'HPO_CODE',':START_ID':'HPO_CUI'})\n",
    "\n",
    "umls_hpo.rename(columns={'HPO_CODE':'HPO_CodeID','HPO_CONCEPT':'CUI_HPO'},inplace=True)\n",
    "\n",
    "#umls_hpo['CODE_HPO'] = [i.split(' ')[1] for i in umls_hpo['CODE_HPO']]\n",
    "\n",
    "umls_hpo.head(3)"
   ]
  },
  {
   "cell_type": "code",
   "execution_count": 7,
   "metadata": {},
   "outputs": [
    {
     "data": {
      "text/html": [
       "<div>\n",
       "<style scoped>\n",
       "    .dataframe tbody tr th:only-of-type {\n",
       "        vertical-align: middle;\n",
       "    }\n",
       "\n",
       "    .dataframe tbody tr th {\n",
       "        vertical-align: top;\n",
       "    }\n",
       "\n",
       "    .dataframe thead th {\n",
       "        text-align: right;\n",
       "    }\n",
       "</style>\n",
       "<table border=\"1\" class=\"dataframe\">\n",
       "  <thead>\n",
       "    <tr style=\"text-align: right;\">\n",
       "      <th></th>\n",
       "      <th>KF_CODE</th>\n",
       "      <th>HPO_CODE</th>\n",
       "      <th>KF_CodeID</th>\n",
       "      <th>HPO_CodeID</th>\n",
       "      <th>KF_CUI</th>\n",
       "    </tr>\n",
       "  </thead>\n",
       "  <tbody>\n",
       "    <tr>\n",
       "      <th>0</th>\n",
       "      <td>PT_GD9D1VNT</td>\n",
       "      <td>HP:0000011</td>\n",
       "      <td>KF PT_GD9D1VNT</td>\n",
       "      <td>HPO HP:0000011</td>\n",
       "      <td>S0YgUFRfR0Q5RDFWTlQ=</td>\n",
       "    </tr>\n",
       "    <tr>\n",
       "      <th>1</th>\n",
       "      <td>PT_VG1P6Z4G</td>\n",
       "      <td>HP:0000023</td>\n",
       "      <td>KF PT_VG1P6Z4G</td>\n",
       "      <td>HPO HP:0000023</td>\n",
       "      <td>S0YgUFRfVkcxUDZaNEc=</td>\n",
       "    </tr>\n",
       "    <tr>\n",
       "      <th>2</th>\n",
       "      <td>PT_0YBD5Z93</td>\n",
       "      <td>HP:0000023</td>\n",
       "      <td>KF PT_0YBD5Z93</td>\n",
       "      <td>HPO HP:0000023</td>\n",
       "      <td>S0YgUFRfMFlCRDVaOTM=</td>\n",
       "    </tr>\n",
       "  </tbody>\n",
       "</table>\n",
       "</div>"
      ],
      "text/plain": [
       "       KF_CODE    HPO_CODE       KF_CodeID      HPO_CodeID  \\\n",
       "0  PT_GD9D1VNT  HP:0000011  KF PT_GD9D1VNT  HPO HP:0000011   \n",
       "1  PT_VG1P6Z4G  HP:0000023  KF PT_VG1P6Z4G  HPO HP:0000023   \n",
       "2  PT_0YBD5Z93  HP:0000023  KF PT_0YBD5Z93  HPO HP:0000023   \n",
       "\n",
       "                 KF_CUI  \n",
       "0  S0YgUFRfR0Q5RDFWTlQ=  \n",
       "1  S0YgUFRfVkcxUDZaNEc=  \n",
       "2  S0YgUFRfMFlCRDVaOTM=  "
      ]
     },
     "execution_count": 7,
     "metadata": {},
     "output_type": "execute_result"
    }
   ],
   "source": [
    "df['KF_CUI'] = CUIbase64(df['KF_CodeID'])\n",
    "\n",
    "df.head(3)"
   ]
  },
  {
   "cell_type": "code",
   "execution_count": 19,
   "metadata": {},
   "outputs": [
    {
     "data": {
      "text/plain": [
       "KF_CODE       4265\n",
       "HPO_CODE       784\n",
       "KF_CodeID     4265\n",
       "HPO_CodeID     784\n",
       "KF_CUI        4265\n",
       "HPO_CUI       1002\n",
       "dtype: int64"
      ]
     },
     "execution_count": 19,
     "metadata": {},
     "output_type": "execute_result"
    }
   ],
   "source": [
    "df_merge = pd.merge(df,umls_hpo)\n",
    "df_merge.nunique()"
   ]
  },
  {
   "cell_type": "markdown",
   "metadata": {},
   "source": [
    "CUIs"
   ]
  },
  {
   "cell_type": "code",
   "execution_count": 56,
   "metadata": {},
   "outputs": [],
   "source": [
    "CUIs = df_merge['KF_CUI'].rename('CUI:ID')\n",
    "CUIs.to_csv(output_dir+'kf_phenotypes/CUIs_kf.csv',index=False)"
   ]
  },
  {
   "cell_type": "markdown",
   "metadata": {},
   "source": [
    "CUI-CUIs"
   ]
  },
  {
   "cell_type": "code",
   "execution_count": 22,
   "metadata": {},
   "outputs": [],
   "source": [
    "CUI_CUIs = df_merge[['KF_CUI','HPO_CUI']].rename(columns={'KF_CUI':':START_ID','HPO_CUI':':END_ID'})\n",
    "\n",
    "CUI_CUIs[':TYPE'] = 'patient_has_phenotype'\n",
    "CUI_CUIs['SAB'] = 'KF_HPO'\n",
    "\n",
    "CUI_CUIs_inverse = CUI_CUIs.rename(columns={':END_ID':':START_ID',':START_ID':':END_ID'})\n",
    "CUI_CUIs_inverse = CUI_CUIs_inverse[[':START_ID',':END_ID',':TYPE','SAB']]\n",
    "CUI_CUIs_inverse[':TYPE'] = 'phenotype_of_patient'\n",
    "CUI_CUIs_inverse['SAB'] = 'KF_HPO'\n",
    "\n",
    "CUI_CUIs_all = pd.concat([CUI_CUIs,CUI_CUIs_inverse])\n",
    "\n",
    "CUI_CUIs_all.to_csv(output_dir+'kf_phenotypes/CUI_CUIs_kf.csv',index=False)"
   ]
  },
  {
   "cell_type": "code",
   "execution_count": 23,
   "metadata": {},
   "outputs": [
    {
     "data": {
      "text/html": [
       "<div>\n",
       "<style scoped>\n",
       "    .dataframe tbody tr th:only-of-type {\n",
       "        vertical-align: middle;\n",
       "    }\n",
       "\n",
       "    .dataframe tbody tr th {\n",
       "        vertical-align: top;\n",
       "    }\n",
       "\n",
       "    .dataframe thead th {\n",
       "        text-align: right;\n",
       "    }\n",
       "</style>\n",
       "<table border=\"1\" class=\"dataframe\">\n",
       "  <thead>\n",
       "    <tr style=\"text-align: right;\">\n",
       "      <th></th>\n",
       "      <th>KF_CODE</th>\n",
       "      <th>HPO_CODE</th>\n",
       "      <th>KF_CodeID</th>\n",
       "      <th>HPO_CodeID</th>\n",
       "      <th>KF_CUI</th>\n",
       "      <th>HPO_CUI</th>\n",
       "    </tr>\n",
       "  </thead>\n",
       "  <tbody>\n",
       "    <tr>\n",
       "      <th>0</th>\n",
       "      <td>PT_GD9D1VNT</td>\n",
       "      <td>HP:0000011</td>\n",
       "      <td>KF PT_GD9D1VNT</td>\n",
       "      <td>HPO HP:0000011</td>\n",
       "      <td>S0YgUFRfR0Q5RDFWTlQ=</td>\n",
       "      <td>C0005697</td>\n",
       "    </tr>\n",
       "    <tr>\n",
       "      <th>1</th>\n",
       "      <td>PT_VG1P6Z4G</td>\n",
       "      <td>HP:0000023</td>\n",
       "      <td>KF PT_VG1P6Z4G</td>\n",
       "      <td>HPO HP:0000023</td>\n",
       "      <td>S0YgUFRfVkcxUDZaNEc=</td>\n",
       "      <td>C0019294</td>\n",
       "    </tr>\n",
       "    <tr>\n",
       "      <th>2</th>\n",
       "      <td>PT_0YBD5Z93</td>\n",
       "      <td>HP:0000023</td>\n",
       "      <td>KF PT_0YBD5Z93</td>\n",
       "      <td>HPO HP:0000023</td>\n",
       "      <td>S0YgUFRfMFlCRDVaOTM=</td>\n",
       "      <td>C0019294</td>\n",
       "    </tr>\n",
       "  </tbody>\n",
       "</table>\n",
       "</div>"
      ],
      "text/plain": [
       "       KF_CODE    HPO_CODE       KF_CodeID      HPO_CodeID  \\\n",
       "0  PT_GD9D1VNT  HP:0000011  KF PT_GD9D1VNT  HPO HP:0000011   \n",
       "1  PT_VG1P6Z4G  HP:0000023  KF PT_VG1P6Z4G  HPO HP:0000023   \n",
       "2  PT_0YBD5Z93  HP:0000023  KF PT_0YBD5Z93  HPO HP:0000023   \n",
       "\n",
       "                 KF_CUI   HPO_CUI  \n",
       "0  S0YgUFRfR0Q5RDFWTlQ=  C0005697  \n",
       "1  S0YgUFRfVkcxUDZaNEc=  C0019294  \n",
       "2  S0YgUFRfMFlCRDVaOTM=  C0019294  "
      ]
     },
     "execution_count": 23,
     "metadata": {},
     "output_type": "execute_result"
    }
   ],
   "source": [
    "df_merge.head(3)"
   ]
  },
  {
   "cell_type": "markdown",
   "metadata": {},
   "source": [
    "CODEs"
   ]
  },
  {
   "cell_type": "code",
   "execution_count": 24,
   "metadata": {},
   "outputs": [
    {
     "name": "stderr",
     "output_type": "stream",
     "text": [
      "/Users/stearb/opt/anaconda3/lib/python3.7/site-packages/ipykernel_launcher.py:3: SettingWithCopyWarning: \n",
      "A value is trying to be set on a copy of a slice from a DataFrame.\n",
      "Try using .loc[row_indexer,col_indexer] = value instead\n",
      "\n",
      "See the caveats in the documentation: https://pandas.pydata.org/pandas-docs/stable/user_guide/indexing.html#returning-a-view-versus-a-copy\n",
      "  This is separate from the ipykernel package so we can avoid doing imports until\n"
     ]
    }
   ],
   "source": [
    "CODEs = df_merge[['KF_CodeID','KF_CODE']]\n",
    "\n",
    "CODEs['SAB'] = 'KF'\n",
    "CODEs = CODEs[['KF_CodeID','SAB','KF_CODE']]\n",
    "\n",
    "CODEs.to_csv(output_dir+'kf_phenotypes/CODEs_kf.csv',index=False)"
   ]
  },
  {
   "cell_type": "markdown",
   "metadata": {},
   "source": [
    "CUI-CODEs"
   ]
  },
  {
   "cell_type": "code",
   "execution_count": 81,
   "metadata": {},
   "outputs": [],
   "source": [
    "CUI_CODEs = df_merge[['KF_CUI','KF_CodeID']].rename(columns={'KF_CUI':':START_ID','KF_CODE':':END_ID'})\n",
    "\n",
    "CUI_CODEs.to_csv(outpath+'kf_phenotypes/CUI_CODEs_kf.csv',index=False)"
   ]
  },
  {
   "cell_type": "code",
   "execution_count": 33,
   "metadata": {},
   "outputs": [],
   "source": [
    "\n",
    "a=pd.concat([CUI_CUIs[':START_ID'],CUI_CUIs[':END_ID']])\n",
    "a= pd.DataFrame(a,columns=['CUI'])"
   ]
  },
  {
   "cell_type": "code",
   "execution_count": 61,
   "metadata": {},
   "outputs": [],
   "source": [
    "b= pd.DataFrame(CUIs.values,columns=['CUI'])"
   ]
  },
  {
   "cell_type": "code",
   "execution_count": 57,
   "metadata": {},
   "outputs": [
    {
     "data": {
      "text/plain": [
       "array(['S0YgUFRfR0Q5RDFWTlQ=', 'S0YgUFRfVkcxUDZaNEc=',\n",
       "       'S0YgUFRfMFlCRDVaOTM=', ..., 'S0YgUFRfWVZOR0I3UzE=',\n",
       "       'S0YgUFRfMldKUTRYWFY=', 'S0YgUFRfSDEzUTdTNjQ='], dtype=object)"
      ]
     },
     "execution_count": 57,
     "metadata": {},
     "output_type": "execute_result"
    }
   ],
   "source": [
    "CUIs.values"
   ]
  },
  {
   "cell_type": "code",
   "execution_count": 58,
   "metadata": {},
   "outputs": [],
   "source": [
    "cuis_in = a[~a['CUI'].isin(b['CUI'])]"
   ]
  },
  {
   "cell_type": "code",
   "execution_count": 59,
   "metadata": {},
   "outputs": [
    {
     "data": {
      "text/plain": [
       "True"
      ]
     },
     "execution_count": 59,
     "metadata": {},
     "output_type": "execute_result"
    }
   ],
   "source": [
    "sum(cuis_in['CUI'].str.startswith('C')) == len(cuis_in)"
   ]
  },
  {
   "cell_type": "code",
   "execution_count": 63,
   "metadata": {},
   "outputs": [
    {
     "data": {
      "text/plain": [
       "CUI    4265\n",
       "dtype: int64"
      ]
     },
     "execution_count": 63,
     "metadata": {},
     "output_type": "execute_result"
    }
   ],
   "source": [
    "b.nunique()"
   ]
  },
  {
   "cell_type": "code",
   "execution_count": 78,
   "metadata": {},
   "outputs": [
    {
     "data": {
      "text/plain": [
       "CUI    4265\n",
       "dtype: int64"
      ]
     },
     "execution_count": 78,
     "metadata": {},
     "output_type": "execute_result"
    }
   ],
   "source": [
    "\n",
    "a_noC = [i if not i.startswith('C')==True else np.nan for i  in a['CUI']]\n",
    "#Counter(a_noC).most_common()\n",
    "a_noC = pd.DataFrame(a_noC,columns=['CUI']).dropna()\n",
    "a_noC.nunique()"
   ]
  },
  {
   "cell_type": "code",
   "execution_count": null,
   "metadata": {},
   "outputs": [],
   "source": []
  }
 ],
 "metadata": {
  "kernelspec": {
   "display_name": "Python 3",
   "language": "python",
   "name": "python3"
  },
  "language_info": {
   "codemirror_mode": {
    "name": "ipython",
    "version": 3
   },
   "file_extension": ".py",
   "mimetype": "text/x-python",
   "name": "python",
   "nbconvert_exporter": "python",
   "pygments_lexer": "ipython3",
   "version": "3.7.4"
  }
 },
 "nbformat": 4,
 "nbformat_minor": 2
}
