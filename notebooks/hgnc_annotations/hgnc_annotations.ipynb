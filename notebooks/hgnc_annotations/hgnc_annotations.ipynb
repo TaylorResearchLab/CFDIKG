{
 "cells": [
  {
   "cell_type": "code",
   "execution_count": 1,
   "metadata": {},
   "outputs": [],
   "source": [
    "import warnings\n",
    "warnings.filterwarnings('ignore')\n",
    "\n",
    "import pandas as pd\n",
    "import numpy as np\n",
    "import os\n",
    "from collections import Counter\n",
    "import hashlib\n",
    "from gtfparse import read_gtf\n",
    "import base64\n",
    "from matplotlib_venn import venn2\n",
    "from IPython.display import Image\n",
    "import  matplotlib.pyplot as plt\n",
    "from umls_utils import get_paths, CUIbase64\n",
    "\n",
    "pd.set_option('display.max_columns', None)"
   ]
  },
  {
   "cell_type": "code",
   "execution_count": 1,
   "metadata": {},
   "outputs": [
    {
     "name": "stdout",
     "output_type": "stream",
     "text": [
      "[NbConvertApp] Converting notebook hgnc_annos_GENCODE.ipynb to script\n",
      "[NbConvertApp] Writing 9851 bytes to hgnc_annos_GENCODE.py\n"
     ]
    }
   ],
   "source": [
    "!jupyter nbconvert --to script hgnc_annos_GENCODE.ipynb\n",
    "!sed -i '' '/.head(/d' hgnc_annos_GENCODE.py\n",
    "!sed -i '' '/^# /d' hgnc_annos_GENCODE.py\n",
    "!sed -i '' '/get_ipython()/d' hgnc_annos_GENCODE.py\n",
    "!sed -i '' '/print/d' hgnc_annos_GENCODE.py"
   ]
  },
  {
   "cell_type": "markdown",
   "metadata": {},
   "source": [
    "# This notebook loads gene annotation data from GENCODE (chr/start/end positions and strand) "
   ]
  },
  {
   "cell_type": "code",
   "execution_count": 2,
   "metadata": {},
   "outputs": [],
   "source": [
    "# Get paths from config file\n",
    "config_path = '/Users/stearb/Dropbox/CHOP/R03/code/neo4j_build_CFDIKG/build_scripts/'\n",
    "\n",
    "data_dir,helper_data_dir,output_dir,LOCAL_CPU,umls_dir,umls_out_dir = get_paths(config_path)\n",
    "\n",
    "\n",
    "if not  os.path.isdir(output_dir+'hgnc_annos'):\n",
    "    os.mkdir(output_dir+'hgnc_annos')\n",
    "    print('Creating hgnc_annos directory...')\n",
    "\n"
   ]
  },
  {
   "cell_type": "code",
   "execution_count": 4,
   "metadata": {},
   "outputs": [
    {
     "data": {
      "text/plain": [
       "'/Users/stearb/Desktop/R03_local/data/use_config/R03_DATA/'"
      ]
     },
     "execution_count": 4,
     "metadata": {},
     "output_type": "execute_result"
    }
   ],
   "source": [
    "data_dir"
   ]
  },
  {
   "cell_type": "markdown",
   "metadata": {},
   "source": [
    "# Load data from GENCODE (https://www.gencodegenes.org/human/)"
   ]
  },
  {
   "cell_type": "code",
   "execution_count": 3,
   "metadata": {},
   "outputs": [
    {
     "name": "stderr",
     "output_type": "stream",
     "text": [
      "INFO:root:Extracted GTF attributes: ['gene_id', 'gene_type', 'gene_name', 'level', 'hgnc_id', 'havana_gene', 'transcript_id', 'transcript_type', 'transcript_name', 'transcript_support_level', 'tag', 'havana_transcript', 'exon_number', 'exon_id', 'ont', 'protein_id', 'ccdsid']\n"
     ]
    },
    {
     "data": {
      "text/html": [
       "<div>\n",
       "<style scoped>\n",
       "    .dataframe tbody tr th:only-of-type {\n",
       "        vertical-align: middle;\n",
       "    }\n",
       "\n",
       "    .dataframe tbody tr th {\n",
       "        vertical-align: top;\n",
       "    }\n",
       "\n",
       "    .dataframe thead th {\n",
       "        text-align: right;\n",
       "    }\n",
       "</style>\n",
       "<table border=\"1\" class=\"dataframe\">\n",
       "  <thead>\n",
       "    <tr style=\"text-align: right;\">\n",
       "      <th></th>\n",
       "      <th>seqname</th>\n",
       "      <th>source</th>\n",
       "      <th>feature</th>\n",
       "      <th>start</th>\n",
       "      <th>end</th>\n",
       "      <th>score</th>\n",
       "      <th>strand</th>\n",
       "      <th>frame</th>\n",
       "      <th>gene_id</th>\n",
       "      <th>gene_type</th>\n",
       "      <th>gene_name</th>\n",
       "      <th>level</th>\n",
       "      <th>hgnc_id</th>\n",
       "      <th>havana_gene</th>\n",
       "      <th>transcript_id</th>\n",
       "      <th>transcript_type</th>\n",
       "      <th>transcript_name</th>\n",
       "      <th>transcript_support_level</th>\n",
       "      <th>tag</th>\n",
       "      <th>havana_transcript</th>\n",
       "      <th>exon_number</th>\n",
       "      <th>exon_id</th>\n",
       "      <th>ont</th>\n",
       "      <th>protein_id</th>\n",
       "      <th>ccdsid</th>\n",
       "    </tr>\n",
       "  </thead>\n",
       "  <tbody>\n",
       "    <tr>\n",
       "      <th>0</th>\n",
       "      <td>chr1</td>\n",
       "      <td>HAVANA</td>\n",
       "      <td>gene</td>\n",
       "      <td>11869</td>\n",
       "      <td>14409</td>\n",
       "      <td>NaN</td>\n",
       "      <td>+</td>\n",
       "      <td>0</td>\n",
       "      <td>ENSG00000223972.5</td>\n",
       "      <td>transcribed_unprocessed_pseudogene</td>\n",
       "      <td>DDX11L1</td>\n",
       "      <td>2</td>\n",
       "      <td>HGNC:37102</td>\n",
       "      <td>OTTHUMG00000000961.2</td>\n",
       "      <td></td>\n",
       "      <td></td>\n",
       "      <td></td>\n",
       "      <td></td>\n",
       "      <td></td>\n",
       "      <td></td>\n",
       "      <td></td>\n",
       "      <td></td>\n",
       "      <td></td>\n",
       "      <td></td>\n",
       "      <td></td>\n",
       "    </tr>\n",
       "    <tr>\n",
       "      <th>1</th>\n",
       "      <td>chr1</td>\n",
       "      <td>HAVANA</td>\n",
       "      <td>transcript</td>\n",
       "      <td>11869</td>\n",
       "      <td>14409</td>\n",
       "      <td>NaN</td>\n",
       "      <td>+</td>\n",
       "      <td>0</td>\n",
       "      <td>ENSG00000223972.5</td>\n",
       "      <td>transcribed_unprocessed_pseudogene</td>\n",
       "      <td>DDX11L1</td>\n",
       "      <td>2</td>\n",
       "      <td>HGNC:37102</td>\n",
       "      <td>OTTHUMG00000000961.2</td>\n",
       "      <td>ENST00000456328.2</td>\n",
       "      <td>processed_transcript</td>\n",
       "      <td>DDX11L1-202</td>\n",
       "      <td>1</td>\n",
       "      <td>basic</td>\n",
       "      <td>OTTHUMT00000362751.1</td>\n",
       "      <td></td>\n",
       "      <td></td>\n",
       "      <td></td>\n",
       "      <td></td>\n",
       "      <td></td>\n",
       "    </tr>\n",
       "    <tr>\n",
       "      <th>2</th>\n",
       "      <td>chr1</td>\n",
       "      <td>HAVANA</td>\n",
       "      <td>exon</td>\n",
       "      <td>11869</td>\n",
       "      <td>12227</td>\n",
       "      <td>NaN</td>\n",
       "      <td>+</td>\n",
       "      <td>0</td>\n",
       "      <td>ENSG00000223972.5</td>\n",
       "      <td>transcribed_unprocessed_pseudogene</td>\n",
       "      <td>DDX11L1</td>\n",
       "      <td>2</td>\n",
       "      <td>HGNC:37102</td>\n",
       "      <td>OTTHUMG00000000961.2</td>\n",
       "      <td>ENST00000456328.2</td>\n",
       "      <td>processed_transcript</td>\n",
       "      <td>DDX11L1-202</td>\n",
       "      <td>1</td>\n",
       "      <td>basic</td>\n",
       "      <td>OTTHUMT00000362751.1</td>\n",
       "      <td>1</td>\n",
       "      <td>ENSE00002234944.1</td>\n",
       "      <td></td>\n",
       "      <td></td>\n",
       "      <td></td>\n",
       "    </tr>\n",
       "  </tbody>\n",
       "</table>\n",
       "</div>"
      ],
      "text/plain": [
       "  seqname  source     feature  start    end  score strand frame  \\\n",
       "0    chr1  HAVANA        gene  11869  14409    NaN      +     0   \n",
       "1    chr1  HAVANA  transcript  11869  14409    NaN      +     0   \n",
       "2    chr1  HAVANA        exon  11869  12227    NaN      +     0   \n",
       "\n",
       "             gene_id                           gene_type gene_name level  \\\n",
       "0  ENSG00000223972.5  transcribed_unprocessed_pseudogene   DDX11L1     2   \n",
       "1  ENSG00000223972.5  transcribed_unprocessed_pseudogene   DDX11L1     2   \n",
       "2  ENSG00000223972.5  transcribed_unprocessed_pseudogene   DDX11L1     2   \n",
       "\n",
       "      hgnc_id           havana_gene      transcript_id       transcript_type  \\\n",
       "0  HGNC:37102  OTTHUMG00000000961.2                                            \n",
       "1  HGNC:37102  OTTHUMG00000000961.2  ENST00000456328.2  processed_transcript   \n",
       "2  HGNC:37102  OTTHUMG00000000961.2  ENST00000456328.2  processed_transcript   \n",
       "\n",
       "  transcript_name transcript_support_level    tag     havana_transcript  \\\n",
       "0                                                                         \n",
       "1     DDX11L1-202                        1  basic  OTTHUMT00000362751.1   \n",
       "2     DDX11L1-202                        1  basic  OTTHUMT00000362751.1   \n",
       "\n",
       "  exon_number            exon_id ont protein_id ccdsid  \n",
       "0                                                       \n",
       "1                                                       \n",
       "2           1  ENSE00002234944.1                        "
      ]
     },
     "execution_count": 3,
     "metadata": {},
     "output_type": "execute_result"
    }
   ],
   "source": [
    "#genecode_annos_path = '/Users/stearb/Desktop/R03_local/data/hgnc_annotations/gencode.v38.chr_patch_hapl_scaff.basic.annotation.gtf'\n",
    "df=read_gtf(data_dir+'gencode.v38.chr_patch_hapl_scaff.basic.annotation.gtf')\n",
    "df.head(3)"
   ]
  },
  {
   "cell_type": "code",
   "execution_count": 4,
   "metadata": {},
   "outputs": [],
   "source": [
    "#a=df[df['gene_name'] == 'SNORA70']\n",
    "#b = a[a['seqname'].str.startswith('chr')]\n",
    "#c = b[b['feature'] == 'gene']"
   ]
  },
  {
   "cell_type": "code",
   "execution_count": 5,
   "metadata": {},
   "outputs": [
    {
     "data": {
      "text/html": [
       "<div>\n",
       "<style scoped>\n",
       "    .dataframe tbody tr th:only-of-type {\n",
       "        vertical-align: middle;\n",
       "    }\n",
       "\n",
       "    .dataframe tbody tr th {\n",
       "        vertical-align: top;\n",
       "    }\n",
       "\n",
       "    .dataframe thead th {\n",
       "        text-align: right;\n",
       "    }\n",
       "</style>\n",
       "<table border=\"1\" class=\"dataframe\">\n",
       "  <thead>\n",
       "    <tr style=\"text-align: right;\">\n",
       "      <th></th>\n",
       "      <th>seqname</th>\n",
       "      <th>start</th>\n",
       "      <th>end</th>\n",
       "      <th>strand</th>\n",
       "      <th>symbol</th>\n",
       "    </tr>\n",
       "  </thead>\n",
       "  <tbody>\n",
       "    <tr>\n",
       "      <th>0</th>\n",
       "      <td>chr1</td>\n",
       "      <td>11869</td>\n",
       "      <td>14409</td>\n",
       "      <td>+</td>\n",
       "      <td>DDX11L1</td>\n",
       "    </tr>\n",
       "    <tr>\n",
       "      <th>12</th>\n",
       "      <td>chr1</td>\n",
       "      <td>14404</td>\n",
       "      <td>29570</td>\n",
       "      <td>-</td>\n",
       "      <td>WASH7P</td>\n",
       "    </tr>\n",
       "    <tr>\n",
       "      <th>25</th>\n",
       "      <td>chr1</td>\n",
       "      <td>17369</td>\n",
       "      <td>17436</td>\n",
       "      <td>-</td>\n",
       "      <td>MIR6859-1</td>\n",
       "    </tr>\n",
       "  </tbody>\n",
       "</table>\n",
       "</div>"
      ],
      "text/plain": [
       "   seqname  start    end strand     symbol\n",
       "0     chr1  11869  14409      +    DDX11L1\n",
       "12    chr1  14404  29570      -     WASH7P\n",
       "25    chr1  17369  17436      -  MIR6859-1"
      ]
     },
     "execution_count": 5,
     "metadata": {},
     "output_type": "execute_result"
    }
   ],
   "source": [
    "cols = ['seqname','feature','start','end','strand','gene_name']\n",
    "df = df[cols]\n",
    "\n",
    "# Only take gene annotations (drop rows where feature != gene)\n",
    "genecode = df[df['feature'] == 'gene'].drop('feature',axis=1)\n",
    "\n",
    "# Take only rows that are mapped to chromosomes\n",
    "genecode = genecode[genecode['seqname'].str.startswith('chr')]\n",
    "\n",
    "genecode.rename(columns={'gene_name':'symbol'},inplace=True)\n",
    "\n",
    "genecode.head(3)"
   ]
  },
  {
   "cell_type": "code",
   "execution_count": 6,
   "metadata": {},
   "outputs": [
    {
     "name": "stdout",
     "output_type": "stream",
     "text": [
      "(60649, 5)\n"
     ]
    },
    {
     "data": {
      "text/plain": [
       "59385"
      ]
     },
     "execution_count": 6,
     "metadata": {},
     "output_type": "execute_result"
    }
   ],
   "source": [
    "print(genecode.shape)\n",
    "genecode['symbol'].nunique()"
   ]
  },
  {
   "cell_type": "markdown",
   "metadata": {},
   "source": [
    "### Load UMLS_HGNC_CUIs -to- HGNC_ID  mappings\n",
    "Need to get these from the CSVs not the graph"
   ]
  },
  {
   "cell_type": "code",
   "execution_count": 7,
   "metadata": {},
   "outputs": [
    {
     "data": {
      "text/html": [
       "<div>\n",
       "<style scoped>\n",
       "    .dataframe tbody tr th:only-of-type {\n",
       "        vertical-align: middle;\n",
       "    }\n",
       "\n",
       "    .dataframe tbody tr th {\n",
       "        vertical-align: top;\n",
       "    }\n",
       "\n",
       "    .dataframe thead th {\n",
       "        text-align: right;\n",
       "    }\n",
       "</style>\n",
       "<table border=\"1\" class=\"dataframe\">\n",
       "  <thead>\n",
       "    <tr style=\"text-align: right;\">\n",
       "      <th></th>\n",
       "      <th>CUI_hgnc</th>\n",
       "      <th>HGNC_ID</th>\n",
       "    </tr>\n",
       "  </thead>\n",
       "  <tbody>\n",
       "    <tr>\n",
       "      <th>14900</th>\n",
       "      <td>C0694879</td>\n",
       "      <td>HGNC HGNC:3513</td>\n",
       "    </tr>\n",
       "    <tr>\n",
       "      <th>25633</th>\n",
       "      <td>C1332096</td>\n",
       "      <td>HGNC HGNC:546</td>\n",
       "    </tr>\n",
       "    <tr>\n",
       "      <th>25636</th>\n",
       "      <td>C1332123</td>\n",
       "      <td>HGNC HGNC:896</td>\n",
       "    </tr>\n",
       "  </tbody>\n",
       "</table>\n",
       "</div>"
      ],
      "text/plain": [
       "       CUI_hgnc         HGNC_ID\n",
       "14900  C0694879  HGNC HGNC:3513\n",
       "25633  C1332096   HGNC HGNC:546\n",
       "25636  C1332123   HGNC HGNC:896"
      ]
     },
     "execution_count": 7,
     "metadata": {},
     "output_type": "execute_result"
    }
   ],
   "source": [
    "\n",
    "UMLS_CUI_CODEs = pd.read_csv(umls_dir+'CUI-CODEs.csv')\n",
    "\n",
    "umls_genes = UMLS_CUI_CODEs[UMLS_CUI_CODEs[':END_ID'].str.startswith('HGNC')].rename(\n",
    "                                    columns={':START_ID':'CUI_hgnc',':END_ID':'HGNC_ID'})\n",
    "umls_genes.head(3)"
   ]
  },
  {
   "cell_type": "markdown",
   "metadata": {},
   "source": [
    "### Load HGNC_ID--Gene_name mappings and then merge in HGNC_IDs \n",
    "\n",
    "We are Getting these mappings (hgnc CodeID to gene symbol/name) directly from the UMLS CSVs now.  "
   ]
  },
  {
   "cell_type": "code",
   "execution_count": 10,
   "metadata": {},
   "outputs": [
    {
     "data": {
      "text/html": [
       "<div>\n",
       "<style scoped>\n",
       "    .dataframe tbody tr th:only-of-type {\n",
       "        vertical-align: middle;\n",
       "    }\n",
       "\n",
       "    .dataframe tbody tr th {\n",
       "        vertical-align: top;\n",
       "    }\n",
       "\n",
       "    .dataframe thead th {\n",
       "        text-align: right;\n",
       "    }\n",
       "</style>\n",
       "<table border=\"1\" class=\"dataframe\">\n",
       "  <thead>\n",
       "    <tr style=\"text-align: right;\">\n",
       "      <th></th>\n",
       "      <th>symbol</th>\n",
       "      <th>HGNC_ID</th>\n",
       "    </tr>\n",
       "  </thead>\n",
       "  <tbody>\n",
       "    <tr>\n",
       "      <th>0</th>\n",
       "      <td>MTHFR</td>\n",
       "      <td>HGNC:7436</td>\n",
       "    </tr>\n",
       "    <tr>\n",
       "      <th>1</th>\n",
       "      <td>ADRA1A</td>\n",
       "      <td>HGNC:277</td>\n",
       "    </tr>\n",
       "    <tr>\n",
       "      <th>2</th>\n",
       "      <td>CSF1</td>\n",
       "      <td>HGNC:2432</td>\n",
       "    </tr>\n",
       "  </tbody>\n",
       "</table>\n",
       "</div>"
      ],
      "text/plain": [
       "   symbol    HGNC_ID\n",
       "0   MTHFR  HGNC:7436\n",
       "1  ADRA1A   HGNC:277\n",
       "2    CSF1  HGNC:2432"
      ]
     },
     "execution_count": 10,
     "metadata": {},
     "output_type": "execute_result"
    }
   ],
   "source": [
    "UMLS_CODE_SUIs = pd.read_csv(umls_dir+'CODE-SUIs.csv')\n",
    "\n",
    "# Filter for just the HGNC CodeID rows\n",
    "umls_hgnc = UMLS_CODE_SUIs[UMLS_CODE_SUIs[':START_ID'].isin(umls_genes['HGNC_ID'])]\n",
    "\n",
    "# Get just the rows that contain relationship type 'ACR', this is where the gene symbol/name is.\n",
    "umls_hgnc_acr = umls_hgnc[umls_hgnc[':TYPE'] == 'ACR']\n",
    "\n",
    "umls_hgnc_acr.rename(columns={':START_ID':'CodeID',':END_ID':'SUI:ID'},inplace=True) \n",
    "\n",
    "# Read in UMLS SUIs so we can map the name property (where the gene symbol/name is) to the HGNC CodeID, merge on SUI:ID\n",
    "UMLS_SUIs = pd.read_csv(umls_dir+'SUIs.csv')\n",
    "\n",
    "# Merge in the names of the HGNC IDs, merge on SUI:ID\n",
    "umls_hgnc_ids2codes = pd.merge(umls_hgnc_acr,UMLS_SUIs,on='SUI:ID')\n",
    "\n",
    "# Get just the HGNC CODE, not CodeID\n",
    "umls_hgnc_ids2codes['HGNC_ID'] = [i.split(' ')[1] for i in umls_hgnc_ids2codes['CodeID']]\n",
    "\n",
    "# Drop cols we dont need and change col names to match ucsc dataframe so we can merge in the HGNC gene names\n",
    "umls_hgnc_ids2codes = umls_hgnc_ids2codes.drop(['CodeID','SUI:ID',':TYPE','CUI'],axis=1).rename(\n",
    "                                                                    columns={'name':'symbol'})\n",
    "umls_hgnc_ids2codes.head(3)"
   ]
  },
  {
   "cell_type": "code",
   "execution_count": 11,
   "metadata": {},
   "outputs": [
    {
     "data": {
      "text/plain": [
       "(41998, 2)"
      ]
     },
     "execution_count": 11,
     "metadata": {},
     "output_type": "execute_result"
    }
   ],
   "source": [
    "umls_hgnc_ids2codes.shape"
   ]
  },
  {
   "cell_type": "code",
   "execution_count": 12,
   "metadata": {},
   "outputs": [
    {
     "data": {
      "text/html": [
       "<div>\n",
       "<style scoped>\n",
       "    .dataframe tbody tr th:only-of-type {\n",
       "        vertical-align: middle;\n",
       "    }\n",
       "\n",
       "    .dataframe tbody tr th {\n",
       "        vertical-align: top;\n",
       "    }\n",
       "\n",
       "    .dataframe thead th {\n",
       "        text-align: right;\n",
       "    }\n",
       "</style>\n",
       "<table border=\"1\" class=\"dataframe\">\n",
       "  <thead>\n",
       "    <tr style=\"text-align: right;\">\n",
       "      <th></th>\n",
       "      <th>seqname</th>\n",
       "      <th>start</th>\n",
       "      <th>end</th>\n",
       "      <th>strand</th>\n",
       "      <th>symbol</th>\n",
       "      <th>HGNC_ID</th>\n",
       "    </tr>\n",
       "  </thead>\n",
       "  <tbody>\n",
       "    <tr>\n",
       "      <th>0</th>\n",
       "      <td>chr1</td>\n",
       "      <td>11869</td>\n",
       "      <td>14409</td>\n",
       "      <td>+</td>\n",
       "      <td>DDX11L1</td>\n",
       "      <td>HGNC:37102</td>\n",
       "    </tr>\n",
       "    <tr>\n",
       "      <th>1</th>\n",
       "      <td>chr1</td>\n",
       "      <td>14404</td>\n",
       "      <td>29570</td>\n",
       "      <td>-</td>\n",
       "      <td>WASH7P</td>\n",
       "      <td>HGNC:38034</td>\n",
       "    </tr>\n",
       "    <tr>\n",
       "      <th>2</th>\n",
       "      <td>chr1</td>\n",
       "      <td>17369</td>\n",
       "      <td>17436</td>\n",
       "      <td>-</td>\n",
       "      <td>MIR6859-1</td>\n",
       "      <td>HGNC:50039</td>\n",
       "    </tr>\n",
       "  </tbody>\n",
       "</table>\n",
       "</div>"
      ],
      "text/plain": [
       "  seqname  start    end strand     symbol     HGNC_ID\n",
       "0    chr1  11869  14409      +    DDX11L1  HGNC:37102\n",
       "1    chr1  14404  29570      -     WASH7P  HGNC:38034\n",
       "2    chr1  17369  17436      -  MIR6859-1  HGNC:50039"
      ]
     },
     "execution_count": 12,
     "metadata": {},
     "output_type": "execute_result"
    }
   ],
   "source": [
    "# Merge in gene names (merge on symbol)\n",
    "ucsc_hgnc = pd.merge(left=genecode,right=umls_hgnc_ids2codes,how='left',on='symbol').dropna()\n",
    "ucsc_hgnc.head(3)"
   ]
  },
  {
   "cell_type": "code",
   "execution_count": 13,
   "metadata": {},
   "outputs": [
    {
     "data": {
      "text/plain": [
       "(39102, 6)"
      ]
     },
     "execution_count": 13,
     "metadata": {},
     "output_type": "execute_result"
    }
   ],
   "source": [
    "ucsc_hgnc.shape"
   ]
  },
  {
   "cell_type": "code",
   "execution_count": 14,
   "metadata": {},
   "outputs": [
    {
     "data": {
      "text/plain": [
       "seqname       25\n",
       "start      39028\n",
       "end        38976\n",
       "strand         2\n",
       "symbol     38941\n",
       "HGNC_ID    38941\n",
       "dtype: int64"
      ]
     },
     "execution_count": 14,
     "metadata": {},
     "output_type": "execute_result"
    }
   ],
   "source": [
    "ucsc_hgnc.nunique()"
   ]
  },
  {
   "cell_type": "code",
   "execution_count": 15,
   "metadata": {},
   "outputs": [],
   "source": [
    "#ucsc_hgnc[ucsc_hgnc['symbol'].duplicated()]"
   ]
  },
  {
   "cell_type": "code",
   "execution_count": 16,
   "metadata": {},
   "outputs": [],
   "source": [
    "#ucsc_hgnc[ucsc_hgnc['symbol'] == 'SNORA70']"
   ]
  },
  {
   "cell_type": "code",
   "execution_count": 17,
   "metadata": {},
   "outputs": [],
   "source": [
    "#Counter(ucsc_hgnc['symbol']).most_common()\n",
    "#dict(Counter(ucsc_hgnc['symbol']).most_common())"
   ]
  },
  {
   "cell_type": "code",
   "execution_count": 18,
   "metadata": {},
   "outputs": [],
   "source": [
    "#Counter(ucsc_hgnc['symbol']).most_common()"
   ]
  },
  {
   "cell_type": "markdown",
   "metadata": {},
   "source": [
    "# For now just drop rows that have duplicates for 'symbol'"
   ]
  },
  {
   "cell_type": "code",
   "execution_count": 19,
   "metadata": {},
   "outputs": [],
   "source": [
    "ucsc_hgnc.drop_duplicates('symbol',inplace=True)"
   ]
  },
  {
   "cell_type": "code",
   "execution_count": 20,
   "metadata": {},
   "outputs": [],
   "source": [
    "# Get just the hgnc code, not the code id\n",
    "umls_genes['HGNC_ID'] = [i.split(' ')[1] for i in umls_genes['HGNC_ID']]\n",
    "\n",
    "ucsc_hgnc_umls = pd.merge(left=ucsc_hgnc,right=umls_genes,how='left',on='HGNC_ID')"
   ]
  },
  {
   "cell_type": "code",
   "execution_count": 21,
   "metadata": {},
   "outputs": [],
   "source": [
    "assert ucsc_hgnc_umls.isna().sum().sum() == 0"
   ]
  },
  {
   "cell_type": "code",
   "execution_count": 22,
   "metadata": {},
   "outputs": [
    {
     "data": {
      "text/html": [
       "<div>\n",
       "<style scoped>\n",
       "    .dataframe tbody tr th:only-of-type {\n",
       "        vertical-align: middle;\n",
       "    }\n",
       "\n",
       "    .dataframe tbody tr th {\n",
       "        vertical-align: top;\n",
       "    }\n",
       "\n",
       "    .dataframe thead th {\n",
       "        text-align: right;\n",
       "    }\n",
       "</style>\n",
       "<table border=\"1\" class=\"dataframe\">\n",
       "  <thead>\n",
       "    <tr style=\"text-align: right;\">\n",
       "      <th></th>\n",
       "      <th>seqname</th>\n",
       "      <th>start</th>\n",
       "      <th>end</th>\n",
       "      <th>strand</th>\n",
       "      <th>symbol</th>\n",
       "      <th>HGNC_ID</th>\n",
       "      <th>CUI_hgnc</th>\n",
       "      <th>CodeID_hgnc</th>\n",
       "    </tr>\n",
       "  </thead>\n",
       "  <tbody>\n",
       "    <tr>\n",
       "      <th>0</th>\n",
       "      <td>chr1</td>\n",
       "      <td>11869</td>\n",
       "      <td>14409</td>\n",
       "      <td>+</td>\n",
       "      <td>DDX11L1</td>\n",
       "      <td>HGNC:37102</td>\n",
       "      <td>C2239334</td>\n",
       "      <td>HGNC HGNC:37102</td>\n",
       "    </tr>\n",
       "    <tr>\n",
       "      <th>1</th>\n",
       "      <td>chr1</td>\n",
       "      <td>14404</td>\n",
       "      <td>29570</td>\n",
       "      <td>-</td>\n",
       "      <td>WASH7P</td>\n",
       "      <td>HGNC:38034</td>\n",
       "      <td>C2829144</td>\n",
       "      <td>HGNC HGNC:38034</td>\n",
       "    </tr>\n",
       "    <tr>\n",
       "      <th>2</th>\n",
       "      <td>chr1</td>\n",
       "      <td>17369</td>\n",
       "      <td>17436</td>\n",
       "      <td>-</td>\n",
       "      <td>MIR6859-1</td>\n",
       "      <td>HGNC:50039</td>\n",
       "      <td>C3815338</td>\n",
       "      <td>HGNC HGNC:50039</td>\n",
       "    </tr>\n",
       "  </tbody>\n",
       "</table>\n",
       "</div>"
      ],
      "text/plain": [
       "  seqname  start    end strand     symbol     HGNC_ID  CUI_hgnc  \\\n",
       "0    chr1  11869  14409      +    DDX11L1  HGNC:37102  C2239334   \n",
       "1    chr1  14404  29570      -     WASH7P  HGNC:38034  C2829144   \n",
       "2    chr1  17369  17436      -  MIR6859-1  HGNC:50039  C3815338   \n",
       "\n",
       "       CodeID_hgnc  \n",
       "0  HGNC HGNC:37102  \n",
       "1  HGNC HGNC:38034  \n",
       "2  HGNC HGNC:50039  "
      ]
     },
     "execution_count": 22,
     "metadata": {},
     "output_type": "execute_result"
    }
   ],
   "source": [
    "\n",
    "ucsc_hgnc_umls.rename(columns={'HGNC_ID':'CodeID_hgnc'})\n",
    "\n",
    "ucsc_hgnc_umls['CodeID_hgnc'] = ['HGNC ' + i for i in ucsc_hgnc_umls['HGNC_ID']]\n",
    "\n",
    "ucsc_hgnc_umls.head(3)"
   ]
  },
  {
   "cell_type": "code",
   "execution_count": 23,
   "metadata": {},
   "outputs": [],
   "source": [
    "# Lets just do '+ strand' and '- strand'\n",
    "ucsc_hgnc_umls['strand'] = [i+' strand' for i in ucsc_hgnc_umls['strand']]\n",
    "\n",
    "ucsc_hgnc_umls.rename(columns={'seqname':'chrom'},inplace=True)"
   ]
  },
  {
   "cell_type": "markdown",
   "metadata": {},
   "source": [
    "### We need to create a 'GENE_LOCATION' Code node for every HGNC Concept node. Instead of having all these gene location Terms (and chromosome and strand Terms)  attached to the HGNC Code node, we want them to come off of this new 'GENE_LOCATION' Code node"
   ]
  },
  {
   "cell_type": "code",
   "execution_count": 24,
   "metadata": {},
   "outputs": [
    {
     "data": {
      "text/html": [
       "<div>\n",
       "<style scoped>\n",
       "    .dataframe tbody tr th:only-of-type {\n",
       "        vertical-align: middle;\n",
       "    }\n",
       "\n",
       "    .dataframe tbody tr th {\n",
       "        vertical-align: top;\n",
       "    }\n",
       "\n",
       "    .dataframe thead th {\n",
       "        text-align: right;\n",
       "    }\n",
       "</style>\n",
       "<table border=\"1\" class=\"dataframe\">\n",
       "  <thead>\n",
       "    <tr style=\"text-align: right;\">\n",
       "      <th></th>\n",
       "      <th>chrom</th>\n",
       "      <th>start</th>\n",
       "      <th>end</th>\n",
       "      <th>strand</th>\n",
       "      <th>symbol</th>\n",
       "      <th>HGNC_ID</th>\n",
       "      <th>CUI_hgnc</th>\n",
       "      <th>CodeID_hgnc</th>\n",
       "      <th>GL_Code</th>\n",
       "      <th>GL_SAB</th>\n",
       "      <th>GL_CodeID</th>\n",
       "    </tr>\n",
       "  </thead>\n",
       "  <tbody>\n",
       "    <tr>\n",
       "      <th>0</th>\n",
       "      <td>chr1</td>\n",
       "      <td>11869</td>\n",
       "      <td>14409</td>\n",
       "      <td>+ strand</td>\n",
       "      <td>DDX11L1</td>\n",
       "      <td>HGNC:37102</td>\n",
       "      <td>C2239334</td>\n",
       "      <td>HGNC HGNC:37102</td>\n",
       "      <td>GL_HGNC:37102</td>\n",
       "      <td>GENE_LOCATION</td>\n",
       "      <td>GL GL_HGNC:37102</td>\n",
       "    </tr>\n",
       "    <tr>\n",
       "      <th>1</th>\n",
       "      <td>chr1</td>\n",
       "      <td>14404</td>\n",
       "      <td>29570</td>\n",
       "      <td>- strand</td>\n",
       "      <td>WASH7P</td>\n",
       "      <td>HGNC:38034</td>\n",
       "      <td>C2829144</td>\n",
       "      <td>HGNC HGNC:38034</td>\n",
       "      <td>GL_HGNC:38034</td>\n",
       "      <td>GENE_LOCATION</td>\n",
       "      <td>GL GL_HGNC:38034</td>\n",
       "    </tr>\n",
       "    <tr>\n",
       "      <th>2</th>\n",
       "      <td>chr1</td>\n",
       "      <td>17369</td>\n",
       "      <td>17436</td>\n",
       "      <td>- strand</td>\n",
       "      <td>MIR6859-1</td>\n",
       "      <td>HGNC:50039</td>\n",
       "      <td>C3815338</td>\n",
       "      <td>HGNC HGNC:50039</td>\n",
       "      <td>GL_HGNC:50039</td>\n",
       "      <td>GENE_LOCATION</td>\n",
       "      <td>GL GL_HGNC:50039</td>\n",
       "    </tr>\n",
       "  </tbody>\n",
       "</table>\n",
       "</div>"
      ],
      "text/plain": [
       "  chrom  start    end    strand     symbol     HGNC_ID  CUI_hgnc  \\\n",
       "0  chr1  11869  14409  + strand    DDX11L1  HGNC:37102  C2239334   \n",
       "1  chr1  14404  29570  - strand     WASH7P  HGNC:38034  C2829144   \n",
       "2  chr1  17369  17436  - strand  MIR6859-1  HGNC:50039  C3815338   \n",
       "\n",
       "       CodeID_hgnc        GL_Code         GL_SAB         GL_CodeID  \n",
       "0  HGNC HGNC:37102  GL_HGNC:37102  GENE_LOCATION  GL GL_HGNC:37102  \n",
       "1  HGNC HGNC:38034  GL_HGNC:38034  GENE_LOCATION  GL GL_HGNC:38034  \n",
       "2  HGNC HGNC:50039  GL_HGNC:50039  GENE_LOCATION  GL GL_HGNC:50039  "
      ]
     },
     "execution_count": 24,
     "metadata": {},
     "output_type": "execute_result"
    }
   ],
   "source": [
    "ucsc_hgnc_umls['GL_Code'] = ['GL_' + i.split(' ')[1] for i in ucsc_hgnc_umls['CodeID_hgnc']]\n",
    "ucsc_hgnc_umls['GL_SAB'] = 'GENE_LOCATION'\n",
    "ucsc_hgnc_umls['GL_CodeID'] = ['GL '+ i for i in ucsc_hgnc_umls['GL_Code']]\n",
    "ucsc_hgnc_umls.head(3)"
   ]
  },
  {
   "cell_type": "markdown",
   "metadata": {},
   "source": [
    "### CUI - CODE (CUI_HGNC - GL_Code)"
   ]
  },
  {
   "cell_type": "code",
   "execution_count": 25,
   "metadata": {},
   "outputs": [],
   "source": [
    "CUI_CODEs = ucsc_hgnc_umls[['CUI_hgnc','GL_CodeID']].rename(\n",
    "                        columns={'CUI_hgnc':':START_ID','GL_Code':':END_ID'}).drop_duplicates()\n",
    "\n",
    "CUI_CODEs.to_csv(output_dir+'hgnc_annos/CUI_CODEs_hgncAnno.csv',index=False)"
   ]
  },
  {
   "cell_type": "markdown",
   "metadata": {},
   "source": [
    "# CODEs"
   ]
  },
  {
   "cell_type": "code",
   "execution_count": 26,
   "metadata": {},
   "outputs": [],
   "source": [
    "CODEs = ucsc_hgnc_umls[['GL_CodeID','GL_SAB','GL_Code']].drop_duplicates()\n",
    "\n",
    "CODEs.to_csv(output_dir+'hgnc_annos/CODEs_hgncAnno.csv',index=False)"
   ]
  },
  {
   "cell_type": "markdown",
   "metadata": {},
   "source": [
    "### FORMAT CODE-SUIs\n",
    "Get chromosome SUIs direcrtly from UMLS CSVs"
   ]
  },
  {
   "cell_type": "code",
   "execution_count": 27,
   "metadata": {},
   "outputs": [],
   "source": [
    "# Filter UMLS SUIs for the chromosome SUIs\n",
    "chrom_SUIs = UMLS_SUIs.loc[(UMLS_SUIs['name'].str.startswith('chromosome').astype(bool)) & \\\n",
    "                           (UMLS_SUIs['name'].str.len() < 15) & (UMLS_SUIs['name'].str.len() > 10)]\n",
    "\n",
    "# Drop row if it contains any of these chars/strings\n",
    "chrom_SUIs = chrom_SUIs[~chrom_SUIs['name'].str.contains('q|p|chromosomes|chromosome g')]\n",
    "\n",
    "# Just get MT chrom seperately\n",
    "chrom_SUIs_mito = UMLS_SUIs[UMLS_SUIs['name'] == 'mitochondrial chromosome']\n",
    "\n",
    "chrom_SUIs = pd.concat([chrom_SUIs,chrom_SUIs_mito]).reset_index(drop=True).rename(columns={'name':'chrom'})"
   ]
  },
  {
   "cell_type": "markdown",
   "metadata": {},
   "source": [
    "# MUST get Chrom SUIs from CSVs not from file"
   ]
  },
  {
   "cell_type": "code",
   "execution_count": 28,
   "metadata": {},
   "outputs": [],
   "source": [
    "#### There are already chromosome Terms in UMLS, import there names/SUIs here and merge.\n",
    "#### MUST GET THIS DATA FROM THE CSVs and not the graph.\n",
    "chrom_SUIs = pd.read_csv('/Users/stearb/Desktop/R03_local/data/gtex/UMLS_chromosome_SUIs.csv')\n",
    "chrom_SUIs.rename(columns={'chrom':'chrom'},inplace=True)\n",
    "\n",
    "chrom = ucsc_hgnc_umls[['chrom','GL_CodeID']]\n",
    "\n",
    "# Reformat our chromosome strings to match the ones from UMLS so we can merge the SUIs in \n",
    "chrom['chrom'] = ['chromosome '+ i.split('chr')[1] for i in chrom['chrom'].str.lower()]\n",
    "chrom['chrom'].replace('chromosome m','mitochondrial chromosome',inplace=True)\n",
    "\n",
    "chrom_terms = pd.merge(chrom,chrom_SUIs)\n",
    "\n",
    "chrom_terms.rename(columns={'chrom':'Term'},inplace=True)\n",
    "\n",
    "chrom_terms['rel'] = 'on_chromosome'\n",
    "\n",
    "#assert len(chrom) == len(chrom_terms)\n",
    "assert chrom_terms.nunique()['Term'] == chrom_terms.nunique()['SUI']"
   ]
  },
  {
   "cell_type": "code",
   "execution_count": 29,
   "metadata": {},
   "outputs": [],
   "source": [
    "ucsc_hgnc_umls['start'] =ucsc_hgnc_umls['start'].astype(str)\n",
    "ucsc_hgnc_umls['end'] =ucsc_hgnc_umls['end'].astype(str)"
   ]
  },
  {
   "cell_type": "code",
   "execution_count": 30,
   "metadata": {},
   "outputs": [],
   "source": [
    "chromstart = ucsc_hgnc_umls[['start','GL_CodeID']]\n",
    "\n",
    "chromstart['SUI'] = CUIbase64(chromstart['start'])\n",
    "\n",
    "chromstart['rel'] = 'gene_start_position'\n",
    "\n",
    "assert chromstart.nunique()['start'] == chromstart.nunique()['SUI']\n",
    "chromstart.rename(columns={'start':'Term'},inplace=True)"
   ]
  },
  {
   "cell_type": "code",
   "execution_count": 31,
   "metadata": {},
   "outputs": [],
   "source": [
    "chromend = ucsc_hgnc_umls[['end','GL_CodeID']]\n",
    "\n",
    "chromend['SUI'] = CUIbase64(chromend['end'])\n",
    "\n",
    "chromend['rel'] = 'gene_end_position'\n",
    "\n",
    "assert chromend.nunique()['end'] == chromend.nunique()['SUI']\n",
    "chromend.rename(columns={'end':'Term'},inplace=True)"
   ]
  },
  {
   "cell_type": "code",
   "execution_count": 32,
   "metadata": {},
   "outputs": [],
   "source": [
    "strand = ucsc_hgnc_umls[['strand','GL_CodeID']]\n",
    "\n",
    "strand['SUI'] = CUIbase64(strand['strand'])\n",
    "strand['rel'] = 'strand'\n",
    "\n",
    "assert strand.nunique()['strand'] == strand.nunique()['SUI']\n",
    "strand.rename(columns={'strand':'Term'},inplace=True)"
   ]
  },
  {
   "cell_type": "code",
   "execution_count": 33,
   "metadata": {},
   "outputs": [],
   "source": [
    "CODE_SUIs = pd.concat([chrom_terms,chromstart,chromend,strand])\n",
    "\n",
    "assert CODE_SUIs.nunique()['Term'] == CODE_SUIs.nunique()['SUI']"
   ]
  },
  {
   "cell_type": "markdown",
   "metadata": {},
   "source": [
    "# CODE-SUIs"
   ]
  },
  {
   "cell_type": "code",
   "execution_count": 34,
   "metadata": {},
   "outputs": [
    {
     "data": {
      "text/html": [
       "<div>\n",
       "<style scoped>\n",
       "    .dataframe tbody tr th:only-of-type {\n",
       "        vertical-align: middle;\n",
       "    }\n",
       "\n",
       "    .dataframe tbody tr th {\n",
       "        vertical-align: top;\n",
       "    }\n",
       "\n",
       "    .dataframe thead th {\n",
       "        text-align: right;\n",
       "    }\n",
       "</style>\n",
       "<table border=\"1\" class=\"dataframe\">\n",
       "  <thead>\n",
       "    <tr style=\"text-align: right;\">\n",
       "      <th></th>\n",
       "      <th>Term</th>\n",
       "      <th>GL_CodeID</th>\n",
       "      <th>SUI</th>\n",
       "      <th>rel</th>\n",
       "      <th>CUI_hgnc</th>\n",
       "    </tr>\n",
       "  </thead>\n",
       "  <tbody>\n",
       "    <tr>\n",
       "      <th>0</th>\n",
       "      <td>chromosome 1</td>\n",
       "      <td>GL GL_HGNC:37102</td>\n",
       "      <td>S1744963</td>\n",
       "      <td>on_chromosome</td>\n",
       "      <td>C2239334</td>\n",
       "    </tr>\n",
       "    <tr>\n",
       "      <th>1</th>\n",
       "      <td>11869</td>\n",
       "      <td>GL GL_HGNC:37102</td>\n",
       "      <td>MTE4Njk=</td>\n",
       "      <td>gene_start_position</td>\n",
       "      <td>C2239334</td>\n",
       "    </tr>\n",
       "    <tr>\n",
       "      <th>2</th>\n",
       "      <td>14409</td>\n",
       "      <td>GL GL_HGNC:37102</td>\n",
       "      <td>MTQ0MDk=</td>\n",
       "      <td>gene_end_position</td>\n",
       "      <td>C2239334</td>\n",
       "    </tr>\n",
       "  </tbody>\n",
       "</table>\n",
       "</div>"
      ],
      "text/plain": [
       "           Term         GL_CodeID       SUI                  rel  CUI_hgnc\n",
       "0  chromosome 1  GL GL_HGNC:37102  S1744963        on_chromosome  C2239334\n",
       "1         11869  GL GL_HGNC:37102  MTE4Njk=  gene_start_position  C2239334\n",
       "2         14409  GL GL_HGNC:37102  MTQ0MDk=    gene_end_position  C2239334"
      ]
     },
     "execution_count": 34,
     "metadata": {},
     "output_type": "execute_result"
    }
   ],
   "source": [
    "# Merge in CUIs to the CODE_SUIs file above\n",
    "\n",
    "CODE_SUIs_merge = pd.merge(left=CODE_SUIs,\n",
    "              right=ucsc_hgnc_umls[['GL_CodeID','CUI_hgnc']],\n",
    "              how='inner',\n",
    "              on='GL_CodeID').drop_duplicates()\n",
    "CODE_SUIs_merge.head(3)"
   ]
  },
  {
   "cell_type": "code",
   "execution_count": 35,
   "metadata": {},
   "outputs": [],
   "source": [
    "CODE_SUIs_merge.rename(columns={'GL_CodeID':':START_ID','SUI':':END_ID','rel':':TYPE','CUI_hgnc':'CUI'},inplace=True)\n",
    "\n",
    "CODE_SUIs_2 = CODE_SUIs_merge[[':START_ID',':END_ID','CUI',':TYPE']]\n",
    "\n",
    "CODE_SUIs_2.to_csv(output_dir+'hgnc_annos/CODE_SUIs_hgncAnnos.csv',index=False)"
   ]
  },
  {
   "cell_type": "code",
   "execution_count": 55,
   "metadata": {},
   "outputs": [],
   "source": [
    "SUIs = CODE_SUIs_merge[[':END_ID','Term']].rename(columns={':END_ID':'SUI:ID','Term':'name'}).drop_duplicates()\n",
    "\n",
    "# Remove SUIs that are already in the UMLS SUIs file, (that start with 'S'), we dont need to save them.\n",
    "SUIs = SUIs[~(SUIs['SUI:ID'].str.startswith('S')  & (SUIs['name'].str.contains('chrom')))]\n",
    "\n",
    "SUIs.to_csv(output_dir+'hgnc_annos/SUIs_hgncAnnos.csv',index=False)"
   ]
  },
  {
   "cell_type": "code",
   "execution_count": null,
   "metadata": {},
   "outputs": [],
   "source": []
  }
 ],
 "metadata": {
  "kernelspec": {
   "display_name": "Python 3",
   "language": "python",
   "name": "python3"
  },
  "language_info": {
   "codemirror_mode": {
    "name": "ipython",
    "version": 3
   },
   "file_extension": ".py",
   "mimetype": "text/x-python",
   "name": "python",
   "nbconvert_exporter": "python",
   "pygments_lexer": "ipython3",
   "version": "3.7.4"
  }
 },
 "nbformat": 4,
 "nbformat_minor": 2
}
