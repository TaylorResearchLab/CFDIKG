{
 "cells": [
  {
   "cell_type": "code",
   "execution_count": 1,
   "metadata": {},
   "outputs": [],
   "source": [
    "import numpy as np\n",
    "import os\n",
    "import pandas as pd\n",
    "#from matplotlib_venn import venn2,venn3\n",
    "from collections import Counter\n",
    "from umls_utils import get_paths, CUIbase64\n",
    "import warnings\n",
    "warnings.filterwarnings('ignore')"
   ]
  },
  {
   "cell_type": "code",
   "execution_count": 3,
   "metadata": {},
   "outputs": [
    {
     "name": "stdout",
     "output_type": "stream",
     "text": [
      "[NbConvertApp] Converting notebook orthologs-Copy1.ipynb to script\n",
      "[NbConvertApp] Writing 11004 bytes to orthologs-Copy1.py\n"
     ]
    }
   ],
   "source": [
    "!jupyter nbconvert --to script orthologs-Copy1.ipynb\n",
    "!sed -i '' '/.head(/d' orthologs-Copy1.py\n",
    "!sed -i '' '/^#/d' orthologs-Copy1.py\n",
    "!sed -i '' '/get_ipython()/d' orthologs-Copy1.py\n",
    "!sed -i '' '/print/d' orthologs-Copy1.py"
   ]
  },
  {
   "cell_type": "code",
   "execution_count": 6,
   "metadata": {},
   "outputs": [],
   "source": [
    "# Get paths from config file\n",
    "config_path = '/Users/stearb/Dropbox/CHOP/R03/code/neo4j_build_CFDIKG/build_scripts/'\n",
    "\n",
    "data_dir,helper_data_dir,output_dir,LOCAL_CPU, umls_dir,\\\n",
    "            umls_out_dir = get_paths('/Users/stearb/Dropbox/CHOP/R03/code/neo4j_build_CFDIKG/build_scripts/')\n",
    "\n",
    " \n",
    "if not os.path.isdir(output_dir+'orthologs'):\n",
    "    os.mkdir(output_dir+'orthologs')\n",
    "    print('Creating orthologs directory...')\n",
    "   "
   ]
  },
  {
   "cell_type": "markdown",
   "metadata": {},
   "source": [
    "## Notebook for downloading/cleaning human-mouse ortholog genes from HGNC HCOP for ingest into a Neo4j instance\n",
    "From HGNC website: https://www.genenames.org/tools/hcop/   (select bulk download at the bottom)\n",
    "The SAB (source ontology) for the mouse gene concept nodes is HGNC Comparison of Orthology Predictions (HCOP),so I will make the SAB attribute on the mouse gene Code nodes 'HGNC HCOP'"
   ]
  },
  {
   "cell_type": "code",
   "execution_count": 7,
   "metadata": {},
   "outputs": [
    {
     "name": "stdout",
     "output_type": "stream",
     "text": [
      "(69937, 15)\n",
      "Index(['human_entrez_gene', 'human_ensembl_gene', 'hgnc_id', 'human_name',\n",
      "       'human_symbol', 'human_chr', 'human_assert_ids', 'mouse_entrez_gene',\n",
      "       'mouse_ensembl_gene', 'mgi_id', 'mouse_name', 'mouse_symbol',\n",
      "       'mouse_chr', 'mouse_assert_ids', 'support'],\n",
      "      dtype='object')\n"
     ]
    },
    {
     "data": {
      "text/html": [
       "<div>\n",
       "<style scoped>\n",
       "    .dataframe tbody tr th:only-of-type {\n",
       "        vertical-align: middle;\n",
       "    }\n",
       "\n",
       "    .dataframe tbody tr th {\n",
       "        vertical-align: top;\n",
       "    }\n",
       "\n",
       "    .dataframe thead th {\n",
       "        text-align: right;\n",
       "    }\n",
       "</style>\n",
       "<table border=\"1\" class=\"dataframe\">\n",
       "  <thead>\n",
       "    <tr style=\"text-align: right;\">\n",
       "      <th></th>\n",
       "      <th>human_entrez_gene</th>\n",
       "      <th>human_ensembl_gene</th>\n",
       "      <th>hgnc_id</th>\n",
       "      <th>human_name</th>\n",
       "      <th>human_symbol</th>\n",
       "      <th>human_chr</th>\n",
       "      <th>human_assert_ids</th>\n",
       "      <th>mouse_entrez_gene</th>\n",
       "      <th>mouse_ensembl_gene</th>\n",
       "      <th>mgi_id</th>\n",
       "      <th>mouse_name</th>\n",
       "      <th>mouse_symbol</th>\n",
       "      <th>mouse_chr</th>\n",
       "      <th>mouse_assert_ids</th>\n",
       "      <th>support</th>\n",
       "    </tr>\n",
       "  </thead>\n",
       "  <tbody>\n",
       "    <tr>\n",
       "      <th>0</th>\n",
       "      <td>1</td>\n",
       "      <td>ENSG00000121410</td>\n",
       "      <td>HGNC:5</td>\n",
       "      <td>alpha-1-B glycoprotein</td>\n",
       "      <td>A1BG</td>\n",
       "      <td>19q13.43</td>\n",
       "      <td>ENOG5035G3W,P04217,11167,Phy00089XY_HUMAN,1,HG...</td>\n",
       "      <td>117586</td>\n",
       "      <td>ENSMUSG00000022347</td>\n",
       "      <td>MGI:2152878</td>\n",
       "      <td>alpha-1-B glycoprotein</td>\n",
       "      <td>A1bg</td>\n",
       "      <td>15</td>\n",
       "      <td>ENOG5035G3W,Q19LI2,11167,Phy001S3S6_MOUSE,1175...</td>\n",
       "      <td>EggNOG,Inparanoid,HomoloGene,PhylomeDB,NCBI,HG...</td>\n",
       "    </tr>\n",
       "    <tr>\n",
       "      <th>1</th>\n",
       "      <td>29974</td>\n",
       "      <td>ENSG00000148584</td>\n",
       "      <td>HGNC:24086</td>\n",
       "      <td>APOBEC1 complementation factor</td>\n",
       "      <td>A1CF</td>\n",
       "      <td>10q11.23</td>\n",
       "      <td>Q9NQ94,ENOG5035F4P,16363,HGNC:24086,29974,ENSP...</td>\n",
       "      <td>69865</td>\n",
       "      <td>ENSMUSG00000052595</td>\n",
       "      <td>MGI:1917115</td>\n",
       "      <td>APOBEC1 complementation factor</td>\n",
       "      <td>A1cf</td>\n",
       "      <td>19</td>\n",
       "      <td>Q5YD48,ENOG5035F4P,16363,MGI:1917115,69865,ENS...</td>\n",
       "      <td>Inparanoid,EggNOG,HomoloGene,HGNC,NCBI,Treefam...</td>\n",
       "    </tr>\n",
       "    <tr>\n",
       "      <th>2</th>\n",
       "      <td>2</td>\n",
       "      <td>ENSG00000175899</td>\n",
       "      <td>HGNC:7</td>\n",
       "      <td>alpha-2-macroglobulin</td>\n",
       "      <td>A2M</td>\n",
       "      <td>12p13.31</td>\n",
       "      <td>P01023,ENOG5035HJM,37248,HGNC:7,ENSP0000032392...</td>\n",
       "      <td>232345</td>\n",
       "      <td>ENSMUSG00000030111</td>\n",
       "      <td>MGI:2449119</td>\n",
       "      <td>alpha-2-macroglobulin</td>\n",
       "      <td>A2m</td>\n",
       "      <td>6</td>\n",
       "      <td>Q6GQT1,ENOG5035HJM,37248,MGI:2449119,ENSMUSP00...</td>\n",
       "      <td>Inparanoid,EggNOG,HomoloGene,HGNC,Treefam,Orth...</td>\n",
       "    </tr>\n",
       "  </tbody>\n",
       "</table>\n",
       "</div>"
      ],
      "text/plain": [
       "  human_entrez_gene human_ensembl_gene     hgnc_id  \\\n",
       "0                 1    ENSG00000121410      HGNC:5   \n",
       "1             29974    ENSG00000148584  HGNC:24086   \n",
       "2                 2    ENSG00000175899      HGNC:7   \n",
       "\n",
       "                       human_name human_symbol human_chr  \\\n",
       "0          alpha-1-B glycoprotein         A1BG  19q13.43   \n",
       "1  APOBEC1 complementation factor         A1CF  10q11.23   \n",
       "2           alpha-2-macroglobulin          A2M  12p13.31   \n",
       "\n",
       "                                    human_assert_ids mouse_entrez_gene  \\\n",
       "0  ENOG5035G3W,P04217,11167,Phy00089XY_HUMAN,1,HG...            117586   \n",
       "1  Q9NQ94,ENOG5035F4P,16363,HGNC:24086,29974,ENSP...             69865   \n",
       "2  P01023,ENOG5035HJM,37248,HGNC:7,ENSP0000032392...            232345   \n",
       "\n",
       "   mouse_ensembl_gene       mgi_id                      mouse_name  \\\n",
       "0  ENSMUSG00000022347  MGI:2152878          alpha-1-B glycoprotein   \n",
       "1  ENSMUSG00000052595  MGI:1917115  APOBEC1 complementation factor   \n",
       "2  ENSMUSG00000030111  MGI:2449119           alpha-2-macroglobulin   \n",
       "\n",
       "  mouse_symbol mouse_chr                                   mouse_assert_ids  \\\n",
       "0         A1bg        15  ENOG5035G3W,Q19LI2,11167,Phy001S3S6_MOUSE,1175...   \n",
       "1         A1cf        19  Q5YD48,ENOG5035F4P,16363,MGI:1917115,69865,ENS...   \n",
       "2          A2m         6  Q6GQT1,ENOG5035HJM,37248,MGI:2449119,ENSMUSP00...   \n",
       "\n",
       "                                             support  \n",
       "0  EggNOG,Inparanoid,HomoloGene,PhylomeDB,NCBI,HG...  \n",
       "1  Inparanoid,EggNOG,HomoloGene,HGNC,NCBI,Treefam...  \n",
       "2  Inparanoid,EggNOG,HomoloGene,HGNC,Treefam,Orth...  "
      ]
     },
     "execution_count": 7,
     "metadata": {},
     "output_type": "execute_result"
    }
   ],
   "source": [
    "\n",
    "if LOCAL_CPU:\n",
    "    hgnc_bulk = pd.read_csv('/Users/stearb/downloads/human_mouse_hcop_fifteen_column.txt',sep='\\t')\n",
    "else:\n",
    "    hgnc_bulk = pd.read_csv(data_dir+'human_mouse_hcop_fifteen_column.txt',sep='\\t')\n",
    "\n",
    "\n",
    "assert hgnc_bulk.isna().sum().sum() == 0\n",
    "\n",
    "print(hgnc_bulk.shape)\n",
    "print(hgnc_bulk.columns)\n",
    "hgnc_bulk.head(3)"
   ]
  },
  {
   "cell_type": "markdown",
   "metadata": {},
   "source": [
    "## **** Need to decide what to do with the genes that don't have HGNC IDs."
   ]
  },
  {
   "cell_type": "code",
   "execution_count": 8,
   "metadata": {},
   "outputs": [
    {
     "name": "stdout",
     "output_type": "stream",
     "text": [
      "1618 rows dropped because of no HGNC ID.\n"
     ]
    }
   ],
   "source": [
    "# Remove rows where there is no hgnc_id (represented by '-')\n",
    "predrop_len = len(hgnc_bulk)\n",
    "\n",
    "hgnc_bulk = hgnc_bulk[hgnc_bulk['hgnc_id'] != '-']\n",
    "\n",
    "print(str(predrop_len-len(hgnc_bulk)) + ' rows dropped because of no HGNC ID.')"
   ]
  },
  {
   "cell_type": "code",
   "execution_count": 9,
   "metadata": {},
   "outputs": [],
   "source": [
    "#hgnc_bulk[['human_ensembl_gene','hgnc_id','human_symbol']].to_csv('hgnc_ensembl_genes.csv')"
   ]
  },
  {
   "cell_type": "code",
   "execution_count": 10,
   "metadata": {},
   "outputs": [
    {
     "data": {
      "text/plain": [
       "20988"
      ]
     },
     "execution_count": 10,
     "metadata": {},
     "output_type": "execute_result"
    }
   ],
   "source": [
    "nunique = hgnc_bulk.nunique()\n",
    "#nunique['hgnc_id']"
   ]
  },
  {
   "cell_type": "code",
   "execution_count": 11,
   "metadata": {},
   "outputs": [
    {
     "name": "stdout",
     "output_type": "stream",
     "text": [
      "There are 20988 unique hgnc ids in the df.\n",
      "There are 20988 unique human genes in the df.\n",
      "There are 22448 unique mouse genes in the df.\n"
     ]
    }
   ],
   "source": [
    "#unq_hgnc = hgnc_bulk['hgnc_id'].nunique()\n",
    "#unq_human = hgnc_bulk['human_symbol'].nunique()\n",
    "#unq_mouse = hgnc_bulk['mouse_symbol'].nunique()\n",
    "nunique = hgnc_bulk.nunique()\n",
    "\n",
    "print(f\"There are {nunique['hgnc_id']} unique hgnc ids in the df.\")\n",
    "print(f\"There are {nunique['human_symbol']} unique human genes in the df.\")\n",
    "print(f\"There are {nunique['mouse_symbol']} unique mouse genes in the df.\")"
   ]
  },
  {
   "cell_type": "code",
   "execution_count": 12,
   "metadata": {},
   "outputs": [
    {
     "name": "stdout",
     "output_type": "stream",
     "text": [
      "126 duplicate rows dropped.\n"
     ]
    }
   ],
   "source": [
    "# Drop duplicates rows only if hgnc_id,human_symbol and mouse_symbol are all the same.\n",
    "pre_drop_len = len(hgnc_bulk)\n",
    "hgnc_bulk.drop_duplicates(['hgnc_id','human_symbol','mouse_symbol'],inplace=True)\n",
    "print(str(pre_drop_len-len(hgnc_bulk)) + ' duplicate rows dropped.')"
   ]
  },
  {
   "cell_type": "code",
   "execution_count": 13,
   "metadata": {},
   "outputs": [],
   "source": [
    "# match(n:Code {SAB:'HGNC'}) return count(n)   ---> 41,638 HGNC nodes in UMLS\n",
    "\n",
    "# select just the columns we need.\n",
    "df=hgnc_bulk[['hgnc_id','mouse_symbol','mouse_ensembl_gene','mgi_id','mouse_name']]"
   ]
  },
  {
   "cell_type": "code",
   "execution_count": 14,
   "metadata": {},
   "outputs": [
    {
     "name": "stdout",
     "output_type": "stream",
     "text": [
      "1999 rows dropped because of \"-\".\n"
     ]
    }
   ],
   "source": [
    "# Drop rows if any of these values are '-' \n",
    "pre_drop_len = len(df)\n",
    "\n",
    "df = df[(df != '-').all(axis=1)]\n",
    "\n",
    "print(str(pre_drop_len-len(df)) + ' rows dropped because of \"-\".')"
   ]
  },
  {
   "cell_type": "markdown",
   "metadata": {},
   "source": [
    "### Create CodeID and CUI properties for the mouse gene nodes, using the same format as UMLS "
   ]
  },
  {
   "cell_type": "code",
   "execution_count": 15,
   "metadata": {},
   "outputs": [],
   "source": [
    "\n",
    "df['CODE_mouse'] = ['HCOP:'+i for i in df['mouse_symbol']]\n",
    "df['CodeID_mouse']  = ['HCOP '+i for i in df['CODE_mouse']]\n",
    "\n",
    "#CUI_LEN = 14\n",
    "#df['CUI_mouse']  = ['KC' + str(int(hashlib.sha256(uid.encode('utf8')).hexdigest(),base=16))[:CUI_LEN]for uid in df['mouse_symbol']]\n",
    "\n",
    "df['CUI_mouse'] =  CUIbase64(df['CodeID_mouse'])\n",
    "\n",
    "assert len(df['mouse_symbol'].unique())  ==  len(df['CUI_mouse'].unique()) \n",
    "assert len(df['mouse_symbol'].unique())  ==  len(df['CODE_mouse'].unique()) \n",
    "\n",
    "reorder_cols  = ['CUI_mouse','CODE_mouse', 'CodeID_mouse','hgnc_id','mouse_symbol',\n",
    "                                         'mouse_ensembl_gene','mgi_id', 'mouse_name']\n",
    "df = df[reorder_cols]"
   ]
  },
  {
   "cell_type": "markdown",
   "metadata": {},
   "source": [
    "### Load HGNC CUI/CodeIDs \n",
    "\n",
    "We need to connect the gene nodes at the concept level and not at the code level. \n",
    "we can just line up the 'HGNC' CUIs with the 'HCOP HGNC' CUIs.\n",
    "To do this we need the 'HGNC' CUIs from UMLS, with their corresponding 'HGNC' Code \n",
    "(Because the HGNC CUIs have no information attached to them so we need to bring the HGNC code along with it)\n",
    "\n",
    "Cypher Query used: match (n:Code)--(m:Concept) where n.SAB = 'HGNC' return n.CODE as HGNC_CODE,m.CUI AS HGNC_CONCEPT "
   ]
  },
  {
   "cell_type": "code",
   "execution_count": 16,
   "metadata": {},
   "outputs": [
    {
     "data": {
      "text/html": [
       "<div>\n",
       "<style scoped>\n",
       "    .dataframe tbody tr th:only-of-type {\n",
       "        vertical-align: middle;\n",
       "    }\n",
       "\n",
       "    .dataframe tbody tr th {\n",
       "        vertical-align: top;\n",
       "    }\n",
       "\n",
       "    .dataframe thead th {\n",
       "        text-align: right;\n",
       "    }\n",
       "</style>\n",
       "<table border=\"1\" class=\"dataframe\">\n",
       "  <thead>\n",
       "    <tr style=\"text-align: right;\">\n",
       "      <th></th>\n",
       "      <th>CUI_human</th>\n",
       "      <th>hgnc_id</th>\n",
       "    </tr>\n",
       "  </thead>\n",
       "  <tbody>\n",
       "    <tr>\n",
       "      <th>14900</th>\n",
       "      <td>C0694879</td>\n",
       "      <td>HGNC:3513</td>\n",
       "    </tr>\n",
       "    <tr>\n",
       "      <th>25633</th>\n",
       "      <td>C1332096</td>\n",
       "      <td>HGNC:546</td>\n",
       "    </tr>\n",
       "    <tr>\n",
       "      <th>25636</th>\n",
       "      <td>C1332123</td>\n",
       "      <td>HGNC:896</td>\n",
       "    </tr>\n",
       "  </tbody>\n",
       "</table>\n",
       "</div>"
      ],
      "text/plain": [
       "      CUI_human    hgnc_id\n",
       "14900  C0694879  HGNC:3513\n",
       "25633  C1332096   HGNC:546\n",
       "25636  C1332123   HGNC:896"
      ]
     },
     "execution_count": 16,
     "metadata": {},
     "output_type": "execute_result"
    }
   ],
   "source": [
    "# OLD WAY OF GETTING UMLS HGNC CUI-CODE mappings \n",
    "#if LOCAL_CPU: umls_genes  = pd.read_csv('/Users/stearb/desktop/R03_local/data/umls-genes-concepts-codes.csv')\n",
    "#else: umls_genes  = pd.read_csv(helper_data_dir+'umls-genes-concepts-codes.csv') \n",
    "#umls_genes.rename(columns={'Concept':'CUI_human','Code':'hgnc_id'},inplace=True)\n",
    "\n",
    "# Get them straight from CSVs\n",
    "UMLS_CUI_CODEs = pd.read_pickle(umls_dir+'CUI-CODEs.pickle')\n",
    "\n",
    "umls_genes = UMLS_CUI_CODEs[UMLS_CUI_CODEs[':END_ID'].str.startswith('HGNC')].rename(\n",
    "                                                    columns={':START_ID':'CUI_human',':END_ID':'hgnc_id'})\n",
    "\n",
    "umls_genes['hgnc_id'] = [i.split(' ')[1] for i in umls_genes['hgnc_id']]\n",
    "\n",
    "umls_genes.head(3)"
   ]
  },
  {
   "cell_type": "code",
   "execution_count": 2,
   "metadata": {},
   "outputs": [],
   "source": [
    "#venn2([set(umls_genes['hgnc_id']),set(df['hgnc_id'])],set_labels=('umls hgnc ids','hgnc-hcop coverage'))"
   ]
  },
  {
   "cell_type": "code",
   "execution_count": 17,
   "metadata": {},
   "outputs": [
    {
     "name": "stdout",
     "output_type": "stream",
     "text": [
      "CUI_human             20739\n",
      "CODE_human            20741\n",
      "CUI_mouse             21973\n",
      "CODE_mouse            21973\n",
      "CodeID_mouse          21973\n",
      "mouse_symbol          21973\n",
      "mouse_ensembl_gene    21963\n",
      "mgi_id                21973\n",
      "mouse_name            21962\n",
      "dtype: int64\n"
     ]
    }
   ],
   "source": [
    "# Select just the shared hgnc_ids from the umls dataframe\n",
    "umls_genes_shared  = umls_genes[umls_genes['hgnc_id'].isin(df['hgnc_id'])]\n",
    "\n",
    "# Select all col's except 'mouse_ensembl_gene'\n",
    "#df_select = df[['CUI_mouse','CODE_mouse','CodeID_mouse','hgnc_id','mouse_symbol','mgi_id','mouse_name']]\n",
    "\n",
    "# Merge in HGNC CUIs \n",
    "CUI2CUI_genes = pd.merge(left=umls_genes_shared,right=df,on='hgnc_id')\n",
    "\n",
    "\n",
    "CUI2CUI_genes.rename(columns={'hgnc_id':'CODE_human'},inplace=True)#,'CodeID_mouse':'CODE_mouse'\n",
    "\n",
    "#reorder_cols = ['CUI_human', 'CUI_mouse','CODE_human', 'CODE_mouse']\n",
    "#CUI2CUI_genes = CUI2CUI_genes[reorder_cols]\n",
    "print(CUI2CUI_genes.nunique())\n"
   ]
  },
  {
   "cell_type": "code",
   "execution_count": 18,
   "metadata": {},
   "outputs": [
    {
     "data": {
      "text/html": [
       "<div>\n",
       "<style scoped>\n",
       "    .dataframe tbody tr th:only-of-type {\n",
       "        vertical-align: middle;\n",
       "    }\n",
       "\n",
       "    .dataframe tbody tr th {\n",
       "        vertical-align: top;\n",
       "    }\n",
       "\n",
       "    .dataframe thead th {\n",
       "        text-align: right;\n",
       "    }\n",
       "</style>\n",
       "<table border=\"1\" class=\"dataframe\">\n",
       "  <thead>\n",
       "    <tr style=\"text-align: right;\">\n",
       "      <th></th>\n",
       "      <th>CODE_human</th>\n",
       "      <th>CUI_human</th>\n",
       "      <th>CUI_mouse</th>\n",
       "      <th>CODE_mouse</th>\n",
       "      <th>CodeID_mouse</th>\n",
       "      <th>mouse_symbol</th>\n",
       "    </tr>\n",
       "  </thead>\n",
       "  <tbody>\n",
       "    <tr>\n",
       "      <th>0</th>\n",
       "      <td>HGNC:3513</td>\n",
       "      <td>C0694879</td>\n",
       "      <td>SENPUCBIQ09QOkV4dDI=</td>\n",
       "      <td>HCOP:Ext2</td>\n",
       "      <td>HCOP HCOP:Ext2</td>\n",
       "      <td>Ext2</td>\n",
       "    </tr>\n",
       "    <tr>\n",
       "      <th>1</th>\n",
       "      <td>HGNC:546</td>\n",
       "      <td>C1332096</td>\n",
       "      <td>SENPUCBIQ09QOkFueGE4</td>\n",
       "      <td>HCOP:Anxa8</td>\n",
       "      <td>HCOP HCOP:Anxa8</td>\n",
       "      <td>Anxa8</td>\n",
       "    </tr>\n",
       "  </tbody>\n",
       "</table>\n",
       "</div>"
      ],
      "text/plain": [
       "  CODE_human CUI_human             CUI_mouse  CODE_mouse     CodeID_mouse  \\\n",
       "0  HGNC:3513  C0694879  SENPUCBIQ09QOkV4dDI=   HCOP:Ext2   HCOP HCOP:Ext2   \n",
       "1   HGNC:546  C1332096  SENPUCBIQ09QOkFueGE4  HCOP:Anxa8  HCOP HCOP:Anxa8   \n",
       "\n",
       "  mouse_symbol  \n",
       "0         Ext2  \n",
       "1        Anxa8  "
      ]
     },
     "execution_count": 18,
     "metadata": {},
     "output_type": "execute_result"
    }
   ],
   "source": [
    "#CUI2CUI_genes[['CODE_human', 'CUI_human', 'CUI_mouse', 'CODE_mouse', 'CodeID_mouse',\n",
    "#       'mouse_symbol']].head(2)"
   ]
  },
  {
   "cell_type": "code",
   "execution_count": 19,
   "metadata": {},
   "outputs": [],
   "source": [
    "# save this just once, the glygen needs thiis data when ingesting glycans and glycotransferases for mouse genes.\n",
    "# this data is not in the database yet when were ingesting the glygen data so we need to create a helper file.\n",
    "\n",
    "#CUI2CUI_genes[['CUI_mouse','CODE_mouse','CodeID_mouse','mouse_symbol']\n",
    "#             ].to_csv('mouse_symbol_cui_codes.csv',index=False)"
   ]
  },
  {
   "cell_type": "markdown",
   "metadata": {},
   "source": [
    "### Add inverse ortholog relationships human_ortholog, mouse_ortholog"
   ]
  },
  {
   "cell_type": "markdown",
   "metadata": {},
   "source": [
    "#### Save CUIs"
   ]
  },
  {
   "cell_type": "code",
   "execution_count": 17,
   "metadata": {},
   "outputs": [],
   "source": [
    "CUIs_mouse = pd.DataFrame(CUI2CUI_genes['CUI_mouse'].unique(),columns=['CUI_mouse'])\n",
    "\n",
    "\n",
    "CUIs_mouse.to_pickle(output_dir+'orthologs/CUI_mouse_ortho.pickle')"
   ]
  },
  {
   "cell_type": "markdown",
   "metadata": {},
   "source": [
    "#### Save CUI-CUIs"
   ]
  },
  {
   "cell_type": "code",
   "execution_count": 20,
   "metadata": {},
   "outputs": [],
   "source": [
    "CUI2CUI  = CUI2CUI_genes[['CUI_human','CUI_mouse']].rename(columns={'CUI_human':':START_ID','CUI_mouse':':END_ID'})\n",
    "CUI2CUI[':TYPE'] = 'has_mouse_ortholog'\n",
    "\n",
    "# Create inverse CUI-CUIC relationship ('has_human_ortholog')\n",
    "CUI2CUI_inverse = CUI2CUI_genes[['CUI_mouse','CUI_human']].rename(columns={'CUI_mouse':':START_ID','CUI_human':':END_ID'})\n",
    "CUI2CUI_inverse[':TYPE'] = 'has_human_ortholog'\n",
    "\n",
    "# Join them together and create SAB\n",
    "CUI2CUI_all = pd.concat([CUI2CUI,CUI2CUI_inverse])\n",
    "CUI2CUI_all['SAB'] = 'HGNC__HGNC_HCOP' \n",
    "CUI2CUI_all.to_pickle(output_dir+'orthologs/CUI_CUI_ortho.pickle')"
   ]
  },
  {
   "cell_type": "markdown",
   "metadata": {},
   "source": [
    "#### Save CODEs   "
   ]
  },
  {
   "cell_type": "code",
   "execution_count": 21,
   "metadata": {},
   "outputs": [],
   "source": [
    "CODEs = CUI2CUI_genes[['CodeID_mouse','CODE_mouse']].drop_duplicates() \n",
    "CODEs['SAB'] = 'HGNC_HCOP'\n",
    "CODEs = CODEs[['CodeID_mouse','SAB','CODE_mouse']] \n",
    "CODEs.to_pickle(output_dir+'orthologs/CODE_mouse_ortho.pickle')"
   ]
  },
  {
   "cell_type": "markdown",
   "metadata": {},
   "source": [
    "#### Save (mouse) CUI-CODE"
   ]
  },
  {
   "cell_type": "code",
   "execution_count": 22,
   "metadata": {},
   "outputs": [],
   "source": [
    "CUI_CODEs = CUI2CUI_genes[['CUI_mouse','CodeID_mouse']].drop_duplicates()\n",
    "CUI_CODEs.to_pickle(output_dir+'orthologs/CUI_CODE_ortho.pickle')"
   ]
  },
  {
   "cell_type": "markdown",
   "metadata": {},
   "source": [
    "### Create SUIs and Save CODE-SUI   (Terms for mouse_name, mouse_symbol and mgi_id columns)\n",
    "\n",
    "### Need mgi ID or no?"
   ]
  },
  {
   "cell_type": "code",
   "execution_count": 23,
   "metadata": {},
   "outputs": [],
   "source": [
    "\n",
    "CUI2CUI_genes['SUI_mouse_symbol'] = CUIbase64(CUI2CUI_genes['mouse_symbol'])\n",
    "CUI2CUI_genes['SUI_mouse_name']  = CUIbase64( CUI2CUI_genes['mouse_name'])\n",
    "CUI2CUI_genes['SUI_mgi_id'] = CUIbase64(CUI2CUI_genes['mgi_id'])\n",
    "\n",
    "assert len(CUI2CUI_genes['SUI_mouse_symbol'].unique())  ==  len(CUI2CUI_genes['mouse_symbol'].unique()) \n",
    "assert len(CUI2CUI_genes['SUI_mouse_name'].unique())  ==  len(CUI2CUI_genes['mouse_name'].unique()) \n",
    "assert len(CUI2CUI_genes['SUI_mgi_id'].unique())  ==  len(CUI2CUI_genes['mgi_id'].unique()) "
   ]
  },
  {
   "cell_type": "markdown",
   "metadata": {},
   "source": [
    "Save SUIs"
   ]
  },
  {
   "cell_type": "code",
   "execution_count": 24,
   "metadata": {},
   "outputs": [],
   "source": [
    "SUI_mouse_symbol = CUI2CUI_genes[['SUI_mouse_symbol','mouse_symbol']].rename(columns={\n",
    "                                            'SUI_mouse_symbol':'SUI:ID','mouse_symbol':'name'})\n",
    "\n",
    "SUI_mouse_name = CUI2CUI_genes[['SUI_mouse_name','mouse_name']].rename(columns={\n",
    "                                            'SUI_mouse_name':'SUI:ID','mouse_name':'name'})\n",
    "\n",
    "SUI_mgi_id = CUI2CUI_genes[['SUI_mgi_id','mgi_id']].rename(columns={\n",
    "                                            'SUI_mgi_id':'SUI:ID','mgi_id':'name'})\n",
    "\n",
    "SUIs_all = pd.concat([SUI_mgi_id,SUI_mouse_name,SUI_mouse_symbol])\n",
    "\n",
    "\n",
    "SUIs_all.to_pickle(output_dir+'orthologs/SUIs_ortho.pickle')"
   ]
  },
  {
   "cell_type": "markdown",
   "metadata": {},
   "source": [
    "###  Create and Save CODE-SUIs\n",
    "\n",
    "columns = :START_ID,:END_ID, :TYPE, CUI  \n",
    ":START_ID = CUI\n",
    ":END_ID = SUI"
   ]
  },
  {
   "cell_type": "code",
   "execution_count": 25,
   "metadata": {},
   "outputs": [],
   "source": [
    "CODE_SUI_mouse_symbol = CUI2CUI_genes[['CodeID_mouse','SUI_mouse_symbol','CUI_mouse']].rename(columns={\n",
    "                                            'CodeID_mouse':':START_ID','SUI_mouse_symbol':':END_ID','CUI_mouse':'CUI'})\n",
    "CODE_SUI_mouse_symbol[':TYPE'] = 'gene_symbol'\n",
    "\n",
    "\n",
    "\n",
    "CODE_SUI_mouse_name = CUI2CUI_genes[['CodeID_mouse','SUI_mouse_name','CUI_mouse']].rename(columns={\n",
    "                                            'CodeID_mouse':':START_ID','SUI_mouse_name':':END_ID','CUI_mouse':'CUI'})\n",
    "CODE_SUI_mouse_name[':TYPE'] = 'gene_name'\n",
    "\n",
    "\n",
    "\n",
    "CODE_SUI_mgi_id = CUI2CUI_genes[['CodeID_mouse','SUI_mgi_id','CUI_mouse']].rename(columns={\n",
    "                                            'CodeID_mouse':':START_ID','SUI_mgi_id':':END_ID','CUI_mouse':'CUI'})\n",
    "CODE_SUI_mgi_id[':TYPE'] = 'mgi_id'\n",
    "\n",
    "\n",
    "CODE_SUI = pd.concat([CODE_SUI_mgi_id,CODE_SUI_mouse_name,CODE_SUI_mouse_symbol])\n",
    "\n",
    "\n",
    "# Assert that the number of unique values  in 3 columns, when added together have the same number of unique values\n",
    "#  Subtract 1 bc there is one instance where the gene  name and symbol  are the same, (Taf7l2)\n",
    "assert  CUI2CUI_genes.nunique()['mouse_name'] + CUI2CUI_genes.nunique()['mouse_symbol'] + \\\n",
    "                                      CUI2CUI_genes.nunique()['mgi_id'] -  1  == CODE_SUI.nunique()[':END_ID']\n",
    "\n",
    "\n",
    "CODE_SUI = CODE_SUI.drop_duplicates()\n",
    "\n",
    "\n",
    "CODE_SUI.to_pickle(output_dir+'orthologs/CODE_SUI_ortho.pickle')"
   ]
  },
  {
   "cell_type": "markdown",
   "metadata": {},
   "source": [
    "#### Save whole df so we can check that there are no collisions with these CUIs and CUIs from the other steps"
   ]
  },
  {
   "cell_type": "code",
   "execution_count": 32,
   "metadata": {},
   "outputs": [],
   "source": [
    "#CUI2CUI_genes.to_csv('/Users/stearb/desktop/R03_local/data/UI_check/orthologs_uicheck.csv',index=False)"
   ]
  },
  {
   "cell_type": "code",
   "execution_count": null,
   "metadata": {},
   "outputs": [],
   "source": []
  }
 ],
 "metadata": {
  "kernelspec": {
   "display_name": "Python 3",
   "language": "python",
   "name": "python3"
  },
  "language_info": {
   "codemirror_mode": {
    "name": "ipython",
    "version": 3
   },
   "file_extension": ".py",
   "mimetype": "text/x-python",
   "name": "python",
   "nbconvert_exporter": "python",
   "pygments_lexer": "ipython3",
   "version": "3.7.4"
  }
 },
 "nbformat": 4,
 "nbformat_minor": 2
}
