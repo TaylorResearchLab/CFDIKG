{
 "cells": [
  {
   "cell_type": "code",
   "execution_count": 2,
   "metadata": {},
   "outputs": [],
   "source": [
    "import pandas as pd\n",
    "import numpy as np\n",
    "import warnings\n",
    "#import base64\n",
    "from umls_utils import get_paths, CUIbase64\n",
    "\n",
    "import os\n",
    "from collections import Counter\n",
    "\n",
    "warnings.filterwarnings('ignore')\n",
    "pd.set_option('display.max_columns', None)\n"
   ]
  },
  {
   "cell_type": "code",
   "execution_count": 1,
   "metadata": {},
   "outputs": [
    {
     "name": "stdout",
     "output_type": "stream",
     "text": [
      "[NbConvertApp] Converting notebook MP_n10s-Copy1.ipynb to script\n",
      "[NbConvertApp] Writing 14465 bytes to MP_n10s-Copy1.py\n"
     ]
    }
   ],
   "source": [
    "!jupyter nbconvert --to script --no-prompt MP_n10s-Copy1.ipynb\n",
    "!sed -i '' '/.head(/d' MP_n10s-Copy1.py\n",
    "!sed -i '' '/^#/d' MP_n10s-Copy1.py\n",
    "!sed -i '' '/get_ipython()/d' MP_n10s-Copy1.py"
   ]
  },
  {
   "cell_type": "code",
   "execution_count": 3,
   "metadata": {},
   "outputs": [],
   "source": [
    "# Path to config file\n",
    "config_path = '/Users/stearb/Dropbox/CHOP/R03/code/neo4j_build_CFDIKG/build_scripts/'\n",
    "\n",
    "# Get paths from config file\n",
    "data_dir,helper_data_dir,output_dir,LOCAL_CPU, umls_dir, umls_out_dir = get_paths(config_path)\n",
    "\n",
    "if not  os.path.isdir(output_dir+'MPO'):\n",
    "    os.mkdir(output_dir+'MPO')\n",
    "    print('Creating MPO directory...')"
   ]
  },
  {
   "cell_type": "code",
   "execution_count": 4,
   "metadata": {},
   "outputs": [],
   "source": [
    "# check the CSV for duplicates instead of the graph\n",
    "# check which nbs depend on output data from other nbs\n",
    "#check that no output files have the same name."
   ]
  },
  {
   "cell_type": "code",
   "execution_count": 5,
   "metadata": {},
   "outputs": [],
   "source": [
    "############ Helper files ###########\n",
    "\n",
    "##### orthologs DONE\n",
    "# (4) umls_genes  = pd.read_csv('/Users/stearb/desktop/R03_local/data/umls-genes-concepts-codes.csv')\n",
    "\n",
    "##### MP DONE\n",
    "# (3) /Users/stearb/Desktop/R03_local/data/ontologies/MP_term_name_overlap.csv  terms from MP that already exist in UMLS\n",
    "\n",
    "#### GTEX\n",
    "# (1) samp_annos = pd.read_csv('gtex_sample_annotations.txt',sep='\\t') # sample annotations ub-tissue mappings,,, #!curl --insecure https://storage.googleapis.com/gtex_analysis_v8/annotations/GTEx_Analysis_v8_Annotations_SampleAttributesDS.txt > gtex_sample_annotations.txt\n",
    "# (2) we need the original file in gtex , SAME AS IN HGNC ANNOS hgnc_master = pd.read_csv('hgnc_master.txt',sep='\\t') # maps gene names to hgnc ids ,,,!curl ftp://ftp.ebi.ac.uk/pub/databases/genenames/hgnc/tsv/non_alt_loci_set.txt > hgnc_master.txt\n",
    "# SAME AS IN ORTHOLOGS: umls_genes  = pd.read_csv('/Users/stearb/desktop/R03_local/data/umls-genes-concepts-codes.csv'),,, hgnc ids mapped to their CUIs\n",
    "# (6) umls_uberon  = pd.read_csv('/Users/stearb/desktop/R03_local/data/umls-uberon-code-concept.txt', dtype = dtype_dic), UB codes to their CUIs\n",
    "# (7) chrom_SUIs, SUIs corresponding to the chromosome Terms\n",
    "\n",
    "#### IMPC/MGI DONE \n",
    "# None\n",
    "\n",
    "#### HPO-MP DONE\n",
    "# (5) umls_hpo = pd.read_csv('/Users/stearb/desktop/R03_local/data/umls-hpo-code-concepts.csv')\n",
    "\n",
    "### HGNC Annos DONE\n",
    "# SAME AS IN GTEX/ORTHOLOGS: umls_genes  = pd.read_csv('/Users/stearb/desktop/R03_local/data/umls-genes-concepts-codes.csv')\n",
    "# same as in gtex: hgnc_master = pd.read_csv('/Users/stearb/Dropbox/CHOP/R03/code/dbSNP/hgnc_master.txt',sep='\\t')\n",
    "\n",
    "\n",
    "\n",
    "###############################\n",
    "####### DATA files ############\n",
    "\n",
    "##### orthologs\n",
    "# hgnc_bulk = pd.read_csv('/Users/stearb/downloads/human_mouse_hcop_fifteen_column.txt',sep='\\t')\n",
    "\n",
    "\n",
    "##### MP\n",
    "# /Users/stearb/Desktop/R03_local/data/ontologies/MP_n10s_directional.csv  load in n10s graph dump\n",
    "\n",
    "##### GTEX\n",
    "# eqtl files '/Users/stearb/desktop/R03_local/data/gtex/GTEx_Analysis_v8_eQTL/egenes/'\n",
    "# gene_median_tpm = '/Users/stearb/desktop/R03_local/data/gtex/GTEx_Analysis_2017-06-05_v8_RNASeQCv1.1.9_gene_median_tpm.gct'\n",
    "\n",
    "\n",
    "##### IMPC/MGI\n",
    "# '/Users/stearb/dropbox/CHOP/R03/code/genotype_phenotype/geno2pheno_MGI_table5.csv'\n",
    "# stats_file = '/Users/stearb/desktop/R03_local/impc_ftp/statistical-results-ALL.csv'\n",
    "# gno_phno = '/Users/stearb/desktop/R03_local/impc_ftp/genotype-phenotype-assertions-ALL.csv'\n",
    "# mgi_master_list = pd.read_csv('mgi_master_geno2pheno.csv') \n",
    "## MGI: table_2 = 'http://www.informatics.jax.org/downloads/reports/HMD_HumanPhenotype.rpt'\n",
    "## MGI: table_5 = 'http://www.informatics.jax.org/downloads/reports/MGI_PhenoGenoMP.rpt'\n",
    "## MGI: table_9 = 'http://www.informatics.jax.org/downloads/reports/MGI_GenePheno.rpt'\n",
    "## MGI: table10 = 'http://www.informatics.jax.org/downloads/reports/MGI_Geno_DiseaseDO.rpt'\n",
    "\n",
    "\n",
    "#### HPO-MP mappings\n",
    "# (from IMPC_ftp) hpo2mp = pd.read_csv('/Users/stearb/dropbox/CHOP/R03/code/phenotype_mapping/tiffs_mappings_ravel.csv',index_col=0)\n",
    "# actual data: df=pd.read_excel('/Users/stearb/desktop/R03_local/data/tiffany_mappings/KF_HPO_OBO2OBOMappings_Aggregated_20DEC2020.xlsx',                                                            sheet_name='KF_OMOP2OBMappings_20Dec2020')\n",
    "\n",
    "#### HGNC_annos\n",
    "# ucsc = pd.read_csv('/Users/stearb/Desktop/R03_local/data/hgnc_annotations/hgnc_annotations.txt',sep='\\t')\n",
    "\n"
   ]
  },
  {
   "cell_type": "markdown",
   "metadata": {},
   "source": [
    "Definition of Ontology\n",
    "Purl\n"
   ]
  },
  {
   "cell_type": "markdown",
   "metadata": {},
   "source": [
    "# This notebook is for importing/parsing/formatting a Neo4j database dump of the Mammalian Phenotype Ontology (MPO). The MPO graph was created using the the Neosemantics Plugin for Neo4j.\n",
    "\n",
    "We are parsing/formatting the data so it can be uploaded into the UMLS knowledge graph."
   ]
  },
  {
   "cell_type": "markdown",
   "metadata": {},
   "source": [
    "##  Cypher commands to produce MPO graph and export it to Desktop:\n",
    "\n",
    "CALL n10s.onto.import.fetch('file:///Users/stearb/Desktop/R03_local/data/ontologies/mp.owl','RDF/XML');\n",
    "\n",
    "WITH \"match(n)-[r]->(m) return n.name as start_code,n.label as start_name,type(r) as rel,m.name as end_code, m.label as end_name\"  as query\n",
    "CALL apoc.export.csv.query(query, \"MP_n10s.csv\", {})\n",
    "YIELD done RETURN done;"
   ]
  },
  {
   "cell_type": "markdown",
   "metadata": {},
   "source": [
    "### Load in just the single SCO relationship by specifying direction in the cypher query, before we were not specifying direction and we were getting relationships and their reciprocals "
   ]
  },
  {
   "cell_type": "markdown",
   "metadata": {},
   "source": [
    "# Need to Complete this with the external references..."
   ]
  },
  {
   "cell_type": "code",
   "execution_count": 6,
   "metadata": {},
   "outputs": [
    {
     "name": "stdout",
     "output_type": "stream",
     "text": [
      "(79560, 5)\n"
     ]
    },
    {
     "data": {
      "text/html": [
       "<div>\n",
       "<style scoped>\n",
       "    .dataframe tbody tr th:only-of-type {\n",
       "        vertical-align: middle;\n",
       "    }\n",
       "\n",
       "    .dataframe tbody tr th {\n",
       "        vertical-align: top;\n",
       "    }\n",
       "\n",
       "    .dataframe thead th {\n",
       "        text-align: right;\n",
       "    }\n",
       "</style>\n",
       "<table border=\"1\" class=\"dataframe\">\n",
       "  <thead>\n",
       "    <tr style=\"text-align: right;\">\n",
       "      <th></th>\n",
       "      <th>start_code</th>\n",
       "      <th>start_name</th>\n",
       "      <th>rel</th>\n",
       "      <th>end_code</th>\n",
       "      <th>end_name</th>\n",
       "    </tr>\n",
       "  </thead>\n",
       "  <tbody>\n",
       "    <tr>\n",
       "      <th>74476</th>\n",
       "      <td>UBERON_0006241</td>\n",
       "      <td>future spinal cord</td>\n",
       "      <td>SCO</td>\n",
       "      <td>UBERON_0006598</td>\n",
       "      <td>presumptive structure</td>\n",
       "    </tr>\n",
       "    <tr>\n",
       "      <th>26855</th>\n",
       "      <td>GO_0051345</td>\n",
       "      <td>positive regulation of hydrolase activity</td>\n",
       "      <td>SCO</td>\n",
       "      <td>GO_0051336</td>\n",
       "      <td>regulation of hydrolase activity</td>\n",
       "    </tr>\n",
       "    <tr>\n",
       "      <th>27638</th>\n",
       "      <td>GO_0035545</td>\n",
       "      <td>determination of left/right asymmetry in nervo...</td>\n",
       "      <td>SCO</td>\n",
       "      <td>GO_0007368</td>\n",
       "      <td>determination of left/right symmetry</td>\n",
       "    </tr>\n",
       "    <tr>\n",
       "      <th>33515</th>\n",
       "      <td>GO_1905333</td>\n",
       "      <td>regulation of gastric motility</td>\n",
       "      <td>SCO</td>\n",
       "      <td>GO_0044058</td>\n",
       "      <td>regulation of digestive system process</td>\n",
       "    </tr>\n",
       "    <tr>\n",
       "      <th>12970</th>\n",
       "      <td>GO_0099054</td>\n",
       "      <td>presynapse assembly</td>\n",
       "      <td>SCO_RESTRICTION</td>\n",
       "      <td>GO_0007416</td>\n",
       "      <td>synapse assembly</td>\n",
       "    </tr>\n",
       "  </tbody>\n",
       "</table>\n",
       "</div>"
      ],
      "text/plain": [
       "           start_code                                         start_name  \\\n",
       "74476  UBERON_0006241                                 future spinal cord   \n",
       "26855      GO_0051345          positive regulation of hydrolase activity   \n",
       "27638      GO_0035545  determination of left/right asymmetry in nervo...   \n",
       "33515      GO_1905333                     regulation of gastric motility   \n",
       "12970      GO_0099054                                presynapse assembly   \n",
       "\n",
       "                   rel        end_code                                end_name  \n",
       "74476              SCO  UBERON_0006598                   presumptive structure  \n",
       "26855              SCO      GO_0051336        regulation of hydrolase activity  \n",
       "27638              SCO      GO_0007368    determination of left/right symmetry  \n",
       "33515              SCO      GO_0044058  regulation of digestive system process  \n",
       "12970  SCO_RESTRICTION      GO_0007416                        synapse assembly  "
      ]
     },
     "execution_count": 6,
     "metadata": {},
     "output_type": "execute_result"
    }
   ],
   "source": [
    "if LOCAL_CPU:\n",
    "    mp = pd.read_csv('/Users/stearb/Desktop/R03_local/data/ontologies/MP_n10s_directional.csv')\n",
    "else:\n",
    "    mp = pd.read_csv(data_dir+'MP_n10s_directional.csv')\n",
    "\n",
    "    \n",
    "print(mp.shape)\n",
    "mp.sample(5)"
   ]
  },
  {
   "cell_type": "code",
   "execution_count": 7,
   "metadata": {},
   "outputs": [
    {
     "name": "stdout",
     "output_type": "stream",
     "text": [
      "start_code     0\n",
      "start_name    66\n",
      "rel            0\n",
      "end_code       0\n",
      "end_name      14\n",
      "dtype: int64\n"
     ]
    },
    {
     "data": {
      "text/html": [
       "<div>\n",
       "<style scoped>\n",
       "    .dataframe tbody tr th:only-of-type {\n",
       "        vertical-align: middle;\n",
       "    }\n",
       "\n",
       "    .dataframe tbody tr th {\n",
       "        vertical-align: top;\n",
       "    }\n",
       "\n",
       "    .dataframe thead th {\n",
       "        text-align: right;\n",
       "    }\n",
       "</style>\n",
       "<table border=\"1\" class=\"dataframe\">\n",
       "  <thead>\n",
       "    <tr style=\"text-align: right;\">\n",
       "      <th></th>\n",
       "      <th>start_code</th>\n",
       "      <th>start_name</th>\n",
       "      <th>rel</th>\n",
       "      <th>end_code</th>\n",
       "      <th>end_name</th>\n",
       "    </tr>\n",
       "  </thead>\n",
       "  <tbody>\n",
       "    <tr>\n",
       "      <th>700</th>\n",
       "      <td>UBERON_0008817</td>\n",
       "      <td>NaN</td>\n",
       "      <td>SCO</td>\n",
       "      <td>UBERON_0000925</td>\n",
       "      <td>endoderm</td>\n",
       "    </tr>\n",
       "    <tr>\n",
       "      <th>2157</th>\n",
       "      <td>UBERON_0000086</td>\n",
       "      <td>NaN</td>\n",
       "      <td>SCO_RESTRICTION</td>\n",
       "      <td>UBERON_0000992</td>\n",
       "      <td>ovary</td>\n",
       "    </tr>\n",
       "    <tr>\n",
       "      <th>8842</th>\n",
       "      <td>CvDC_Terms</td>\n",
       "      <td>NaN</td>\n",
       "      <td>SPO</td>\n",
       "      <td>SubsetProperty</td>\n",
       "      <td>subset_property</td>\n",
       "    </tr>\n",
       "  </tbody>\n",
       "</table>\n",
       "</div>"
      ],
      "text/plain": [
       "          start_code start_name              rel        end_code  \\\n",
       "700   UBERON_0008817        NaN              SCO  UBERON_0000925   \n",
       "2157  UBERON_0000086        NaN  SCO_RESTRICTION  UBERON_0000992   \n",
       "8842      CvDC_Terms        NaN              SPO  SubsetProperty   \n",
       "\n",
       "             end_name  \n",
       "700          endoderm  \n",
       "2157            ovary  \n",
       "8842  subset_property  "
      ]
     },
     "execution_count": 7,
     "metadata": {},
     "output_type": "execute_result"
    }
   ],
   "source": [
    "print(mp.isna().sum())\n",
    "mp[mp['start_name'].isna()].head(3)"
   ]
  },
  {
   "cell_type": "code",
   "execution_count": 8,
   "metadata": {},
   "outputs": [
    {
     "data": {
      "text/html": [
       "<div>\n",
       "<style scoped>\n",
       "    .dataframe tbody tr th:only-of-type {\n",
       "        vertical-align: middle;\n",
       "    }\n",
       "\n",
       "    .dataframe tbody tr th {\n",
       "        vertical-align: top;\n",
       "    }\n",
       "\n",
       "    .dataframe thead th {\n",
       "        text-align: right;\n",
       "    }\n",
       "</style>\n",
       "<table border=\"1\" class=\"dataframe\">\n",
       "  <thead>\n",
       "    <tr style=\"text-align: right;\">\n",
       "      <th></th>\n",
       "      <th>start_code</th>\n",
       "      <th>start_name</th>\n",
       "      <th>rel</th>\n",
       "      <th>end_code</th>\n",
       "      <th>end_name</th>\n",
       "    </tr>\n",
       "  </thead>\n",
       "  <tbody>\n",
       "    <tr>\n",
       "      <th>10419</th>\n",
       "      <td>MGI:97753</td>\n",
       "      <td>Ppy (mouse)</td>\n",
       "      <td>SCO</td>\n",
       "      <td>SO_0001217</td>\n",
       "      <td>protein_coding_gene</td>\n",
       "    </tr>\n",
       "    <tr>\n",
       "      <th>10762</th>\n",
       "      <td>MGI:97753</td>\n",
       "      <td>Ppy (mouse)</td>\n",
       "      <td>SCO_RESTRICTION</td>\n",
       "      <td>NCBITaxon_10090</td>\n",
       "      <td>Mus musculus</td>\n",
       "    </tr>\n",
       "  </tbody>\n",
       "</table>\n",
       "</div>"
      ],
      "text/plain": [
       "      start_code   start_name              rel         end_code  \\\n",
       "10419  MGI:97753  Ppy (mouse)              SCO       SO_0001217   \n",
       "10762  MGI:97753  Ppy (mouse)  SCO_RESTRICTION  NCBITaxon_10090   \n",
       "\n",
       "                  end_name  \n",
       "10419  protein_coding_gene  \n",
       "10762         Mus musculus  "
      ]
     },
     "execution_count": 8,
     "metadata": {},
     "output_type": "execute_result"
    }
   ],
   "source": [
    "#Why are these here?\n",
    "mp[mp['start_code'] ==  'MGI:97753']"
   ]
  },
  {
   "cell_type": "code",
   "execution_count": 9,
   "metadata": {},
   "outputs": [
    {
     "data": {
      "text/plain": [
       "[('MP', 13205),\n",
       " ('GO', 9883),\n",
       " ('UBERON', 8830),\n",
       " ('CHEBI', 2130),\n",
       " ('CL', 1410),\n",
       " ('PATO', 1036),\n",
       " ('PR', 961),\n",
       " ('NBO', 400),\n",
       " ('MPATH', 209),\n",
       " ('RO', 203)]"
      ]
     },
     "execution_count": 9,
     "metadata": {},
     "output_type": "execute_result"
    }
   ],
   "source": [
    "# See what the most common Ontologies (SAB) are in MPO\n",
    "all_codes = pd.concat([mp['start_code'],mp['end_code']])\n",
    "\n",
    "Counter([i.split('_')[0] for i in np.unique(all_codes)]).most_common(10)"
   ]
  },
  {
   "cell_type": "markdown",
   "metadata": {},
   "source": [
    "## We need to load the CUI-CODE mappings in for the ontologies that are already in  UMLS because we dont want to recreate the CUIs if theyre  already there. \n",
    "\n",
    "\n",
    "### MUST add these to the use_config/helper_data/ file if we want to include them."
   ]
  },
  {
   "cell_type": "code",
   "execution_count": 10,
   "metadata": {},
   "outputs": [],
   "source": [
    "# THESE ARE NOT CURRENTLY BEING ADDED, WE ARE DOING MP ONLY.\n",
    "\n",
    "# MUST GET THESE FROM CSVs (this way we dont need to build the graph in order to build the graph!) \n",
    "# and preferably on the fly \n",
    "GO = pd.read_csv('/Users/stearb/Desktop/R03_local/data/ontologies/GO_CUI_CODEs.csv')\n",
    "UB = pd.read_csv('/Users/stearb/Desktop/R03_local/data/ontologies/UBERON_CUI_CODEs.csv')\n",
    "CL = pd.read_csv('/Users/stearb/Desktop/R03_local/data/ontologies/CL_CUI_CODEs.csv')"
   ]
  },
  {
   "cell_type": "code",
   "execution_count": 11,
   "metadata": {},
   "outputs": [
    {
     "data": {
      "text/plain": [
       "Counter({'SCO': 56020,\n",
       "         'SCO_RESTRICTION': 23064,\n",
       "         'SPO': 339,\n",
       "         'DOMAIN': 64,\n",
       "         'RANGE': 59,\n",
       "         'EQC_RESTRICTION': 14})"
      ]
     },
     "execution_count": 11,
     "metadata": {},
     "output_type": "execute_result"
    }
   ],
   "source": [
    "# See what the most common relationships are in MPO\n",
    "Counter(mp['rel'])"
   ]
  },
  {
   "cell_type": "code",
   "execution_count": 10,
   "metadata": {},
   "outputs": [],
   "source": [
    "# Define start and end SABs (just take the first string split by '_', so well get MP, GO, etc.)\n",
    "mp['start_SAB']  = [i[0] for i in mp['start_code'].str.split('_')]\n",
    "mp['end_SAB']  = [i[0] for i in mp['end_code'].str.split('_')]"
   ]
  },
  {
   "cell_type": "code",
   "execution_count": 11,
   "metadata": {},
   "outputs": [],
   "source": [
    "# Format UBERON and CL Codes so they match UMLS UBERON and CL Code format (just the number)\n",
    "\n",
    "#mp['start_code'] = [i.split('_')[1] if i.startswith('UBERON') else i for i in mp['start_code']]\n",
    "#mp['end_code'] = [i.split('_')[1] if i.startswith('UBERON') else i for i in mp['end_code']]\n",
    "\n",
    "#mp['start_code'] = [i.split('_')[1] if i.startswith('CL_') else i for i in mp['start_code']]\n",
    "#mp['end_code'] = [i.split('_')[1] if i.startswith('CL_') else i for i in mp['end_code']]\n",
    "\n",
    "\n",
    "# Replace '_' with ':'\n",
    "#mp['start_code'] = [i.replace('_',':') if i.startswith('GO_') else i for i in mp['start_code']]\n",
    "#mp['end_code'] = [i.replace('_',':') if i.startswith('GO_') else i for i in mp['end_code']]\n",
    "\n",
    "# Replace _ with :\n",
    "mp['start_code'] = [i.replace('_',':') if i.startswith('MP_') else i for i in mp['start_code']]\n",
    "mp['end_code'] = [i.replace('_',':') if i.startswith('MP_') else i for i in mp['end_code']]"
   ]
  },
  {
   "cell_type": "code",
   "execution_count": 12,
   "metadata": {},
   "outputs": [
    {
     "name": "stdout",
     "output_type": "stream",
     "text": [
      "start_code    0\n",
      "start_name    2\n",
      "rel           0\n",
      "end_code      0\n",
      "end_name      0\n",
      "start_SAB     0\n",
      "end_SAB       0\n",
      "dtype: int64\n"
     ]
    },
    {
     "data": {
      "text/html": [
       "<div>\n",
       "<style scoped>\n",
       "    .dataframe tbody tr th:only-of-type {\n",
       "        vertical-align: middle;\n",
       "    }\n",
       "\n",
       "    .dataframe tbody tr th {\n",
       "        vertical-align: top;\n",
       "    }\n",
       "\n",
       "    .dataframe thead th {\n",
       "        text-align: right;\n",
       "    }\n",
       "</style>\n",
       "<table border=\"1\" class=\"dataframe\">\n",
       "  <thead>\n",
       "    <tr style=\"text-align: right;\">\n",
       "      <th></th>\n",
       "      <th>start_code</th>\n",
       "      <th>start_name</th>\n",
       "      <th>rel</th>\n",
       "      <th>end_code</th>\n",
       "      <th>end_name</th>\n",
       "      <th>start_SAB</th>\n",
       "      <th>end_SAB</th>\n",
       "    </tr>\n",
       "  </thead>\n",
       "  <tbody>\n",
       "    <tr>\n",
       "      <th>42316</th>\n",
       "      <td>MP:0003254</td>\n",
       "      <td>bile duct inflammation</td>\n",
       "      <td>SCO</td>\n",
       "      <td>MP:0003252</td>\n",
       "      <td>abnormal bile duct physiology</td>\n",
       "      <td>MP</td>\n",
       "      <td>MP</td>\n",
       "    </tr>\n",
       "    <tr>\n",
       "      <th>46336</th>\n",
       "      <td>MP:0012278</td>\n",
       "      <td>abnormal cardiogenic mesoderm morphology</td>\n",
       "      <td>SCO</td>\n",
       "      <td>MP:0014141</td>\n",
       "      <td>abnormal mesoderm morphology</td>\n",
       "      <td>MP</td>\n",
       "      <td>MP</td>\n",
       "    </tr>\n",
       "    <tr>\n",
       "      <th>53386</th>\n",
       "      <td>MP:0004286</td>\n",
       "      <td>abnormal internal auditory canal morphology</td>\n",
       "      <td>SCO</td>\n",
       "      <td>MP:0030309</td>\n",
       "      <td>abnormal posterior cranial fossa morphology</td>\n",
       "      <td>MP</td>\n",
       "      <td>MP</td>\n",
       "    </tr>\n",
       "    <tr>\n",
       "      <th>40528</th>\n",
       "      <td>MP:0030316</td>\n",
       "      <td>enlarged neurocranium</td>\n",
       "      <td>SCO</td>\n",
       "      <td>MP:0000074</td>\n",
       "      <td>abnormal neurocranium morphology</td>\n",
       "      <td>MP</td>\n",
       "      <td>MP</td>\n",
       "    </tr>\n",
       "    <tr>\n",
       "      <th>45721</th>\n",
       "      <td>MP:0008396</td>\n",
       "      <td>abnormal osteoclast differentiation</td>\n",
       "      <td>SCO</td>\n",
       "      <td>MP:0002113</td>\n",
       "      <td>abnormal skeleton development</td>\n",
       "      <td>MP</td>\n",
       "      <td>MP</td>\n",
       "    </tr>\n",
       "  </tbody>\n",
       "</table>\n",
       "</div>"
      ],
      "text/plain": [
       "       start_code                                   start_name  rel  \\\n",
       "42316  MP:0003254                       bile duct inflammation  SCO   \n",
       "46336  MP:0012278     abnormal cardiogenic mesoderm morphology  SCO   \n",
       "53386  MP:0004286  abnormal internal auditory canal morphology  SCO   \n",
       "40528  MP:0030316                        enlarged neurocranium  SCO   \n",
       "45721  MP:0008396          abnormal osteoclast differentiation  SCO   \n",
       "\n",
       "         end_code                                     end_name start_SAB  \\\n",
       "42316  MP:0003252                abnormal bile duct physiology        MP   \n",
       "46336  MP:0014141                 abnormal mesoderm morphology        MP   \n",
       "53386  MP:0030309  abnormal posterior cranial fossa morphology        MP   \n",
       "40528  MP:0000074             abnormal neurocranium morphology        MP   \n",
       "45721  MP:0002113                abnormal skeleton development        MP   \n",
       "\n",
       "      end_SAB  \n",
       "42316      MP  \n",
       "46336      MP  \n",
       "53386      MP  \n",
       "40528      MP  \n",
       "45721      MP  "
      ]
     },
     "execution_count": 12,
     "metadata": {},
     "output_type": "execute_result"
    }
   ],
   "source": [
    "# Filter out everything but the rows that contain MP/UBERON/CL/GO\n",
    "\n",
    "#mp_import = mp.loc[((mp['start_SAB'] == 'MP') & (mp['end_SAB'] == 'MP')) | \\\n",
    "#                      ((mp['start_SAB'] == 'GO') & (mp['end_SAB'] == 'GO')) | \\\n",
    "#                      ((mp['start_SAB'] == 'UBERON') & (mp['end_SAB'] == 'UBERON')) | \\\n",
    "#                      ((mp['start_SAB'] == 'CL') & (mp['end_SAB'] == 'CL')) \n",
    "#                    ]\n",
    "\n",
    "\n",
    "# Just get MP terms for not\n",
    "mp_only = mp.loc[((mp['start_SAB'] == 'MP') & (mp['end_SAB'] == 'MP'))]\n",
    "\n",
    "print(mp_only.isna().sum())\n",
    "\n",
    "mp_only.dropna(inplace=True) \n",
    "\n",
    "mp_only.sample(5)"
   ]
  },
  {
   "cell_type": "code",
   "execution_count": 13,
   "metadata": {},
   "outputs": [
    {
     "data": {
      "text/html": [
       "<div>\n",
       "<style scoped>\n",
       "    .dataframe tbody tr th:only-of-type {\n",
       "        vertical-align: middle;\n",
       "    }\n",
       "\n",
       "    .dataframe tbody tr th {\n",
       "        vertical-align: top;\n",
       "    }\n",
       "\n",
       "    .dataframe thead th {\n",
       "        text-align: right;\n",
       "    }\n",
       "</style>\n",
       "<table border=\"1\" class=\"dataframe\">\n",
       "  <thead>\n",
       "    <tr style=\"text-align: right;\">\n",
       "      <th></th>\n",
       "      <th>start_code</th>\n",
       "      <th>start_name</th>\n",
       "      <th>rel</th>\n",
       "      <th>end_code</th>\n",
       "      <th>end_name</th>\n",
       "      <th>start_SAB</th>\n",
       "      <th>end_SAB</th>\n",
       "    </tr>\n",
       "  </thead>\n",
       "  <tbody>\n",
       "  </tbody>\n",
       "</table>\n",
       "</div>"
      ],
      "text/plain": [
       "Empty DataFrame\n",
       "Columns: [start_code, start_name, rel, end_code, end_name, start_SAB, end_SAB]\n",
       "Index: []"
      ]
     },
     "execution_count": 13,
     "metadata": {},
     "output_type": "execute_result"
    }
   ],
   "source": [
    "# Why is this like this?  No xref in MP \n",
    "mp.loc[((mp['start_SAB'] == 'UBERON') & (mp['end_SAB'] == 'MP'))]"
   ]
  },
  {
   "cell_type": "code",
   "execution_count": 14,
   "metadata": {},
   "outputs": [
    {
     "data": {
      "text/html": [
       "<div>\n",
       "<style scoped>\n",
       "    .dataframe tbody tr th:only-of-type {\n",
       "        vertical-align: middle;\n",
       "    }\n",
       "\n",
       "    .dataframe tbody tr th {\n",
       "        vertical-align: top;\n",
       "    }\n",
       "\n",
       "    .dataframe thead th {\n",
       "        text-align: right;\n",
       "    }\n",
       "</style>\n",
       "<table border=\"1\" class=\"dataframe\">\n",
       "  <thead>\n",
       "    <tr style=\"text-align: right;\">\n",
       "      <th></th>\n",
       "      <th>start_code</th>\n",
       "      <th>start_name</th>\n",
       "      <th>rel</th>\n",
       "      <th>end_code</th>\n",
       "      <th>end_name</th>\n",
       "      <th>start_SAB</th>\n",
       "      <th>end_SAB</th>\n",
       "    </tr>\n",
       "  </thead>\n",
       "  <tbody>\n",
       "    <tr>\n",
       "      <th>48400</th>\n",
       "      <td>MP:0001544</td>\n",
       "      <td>abnormal cardiovascular system physiology</td>\n",
       "      <td>SCO</td>\n",
       "      <td>MP:0005385</td>\n",
       "      <td>cardiovascular system phenotype</td>\n",
       "      <td>MP</td>\n",
       "      <td>MP</td>\n",
       "    </tr>\n",
       "    <tr>\n",
       "      <th>48401</th>\n",
       "      <td>MP:0002127</td>\n",
       "      <td>abnormal cardiovascular system morphology</td>\n",
       "      <td>SCO</td>\n",
       "      <td>MP:0005385</td>\n",
       "      <td>cardiovascular system phenotype</td>\n",
       "      <td>MP</td>\n",
       "      <td>MP</td>\n",
       "    </tr>\n",
       "  </tbody>\n",
       "</table>\n",
       "</div>"
      ],
      "text/plain": [
       "       start_code                                 start_name  rel    end_code  \\\n",
       "48400  MP:0001544  abnormal cardiovascular system physiology  SCO  MP:0005385   \n",
       "48401  MP:0002127  abnormal cardiovascular system morphology  SCO  MP:0005385   \n",
       "\n",
       "                              end_name start_SAB end_SAB  \n",
       "48400  cardiovascular system phenotype        MP      MP  \n",
       "48401  cardiovascular system phenotype        MP      MP  "
      ]
     },
     "execution_count": 14,
     "metadata": {},
     "output_type": "execute_result"
    }
   ],
   "source": [
    "mp_only[mp_only['end_code'] == 'MP:0005385'] # same term mapped to 2 different MP codes"
   ]
  },
  {
   "cell_type": "code",
   "execution_count": 15,
   "metadata": {},
   "outputs": [],
   "source": [
    "# No codes are mapped to themselves which makes sense.\n",
    "#for n,row in mp_only.iterrows():\n",
    "#    if row['start_code'] == row['end_code']:\n",
    "#        print(row['start_code'])"
   ]
  },
  {
   "cell_type": "code",
   "execution_count": 16,
   "metadata": {},
   "outputs": [],
   "source": [
    "# Drop these 2 cols, Dont need them anymore if were just doing MP\n",
    "mp_only.drop(['start_SAB','end_SAB'],axis=1,inplace=True)\n",
    "\n",
    "mp_only.reset_index(drop=True,inplace=True)"
   ]
  },
  {
   "cell_type": "markdown",
   "metadata": {},
   "source": [
    "Create CodeIDs"
   ]
  },
  {
   "cell_type": "code",
   "execution_count": 17,
   "metadata": {},
   "outputs": [],
   "source": [
    "\n",
    "#mp['start_CodeID'] = ['MP ' + i for i in mp['start_code']]\n",
    "#mp['end_CodeID'] = ['MP ' + i for i in mp['end_code']]\n",
    "\n",
    "mp_only['start_CodeID']  = [i.split(':')[0] + ' '+i for i in mp_only['start_code']]\n",
    "mp_only['end_CodeID'] = [i.split(':')[0] + ' '+i for i in mp_only['end_code']]"
   ]
  },
  {
   "cell_type": "markdown",
   "metadata": {},
   "source": [
    "Create and Save CUIs"
   ]
  },
  {
   "cell_type": "code",
   "execution_count": 18,
   "metadata": {},
   "outputs": [],
   "source": [
    "\n",
    "mp_only['start_CUI'] = [i for i in CUIbase64(mp_only['start_CodeID'])]\n",
    "mp_only['end_CUI'] = [i for i in CUIbase64(mp_only['end_CodeID'])]\n",
    "\n",
    "assert len(np.unique(mp_only['start_CUI'])) == mp_only.nunique()['start_CUI']\n",
    "assert len(np.unique(mp_only['end_CUI'])) == mp_only.nunique()['end_CUI']\n",
    "\n",
    "CUIs = pd.DataFrame(pd.concat([mp_only['start_CUI'],mp_only['end_CUI']]),columns=['CUI:ID'])\n",
    "\n",
    "#assert CUIs.duplicated().sum() == 0\n",
    "\n",
    "# We already checked for collisions, there are duplicates because we are adding the start column and end column \n",
    "# together we need to add the end column so we don't miss any of the leaves on the MP tree (because the \n",
    "# leaves will only be in the end column)\n",
    "CUIs.drop_duplicates(inplace=True)\n",
    "\n",
    "\n",
    "CUIs.to_pickle(output_dir+'MPO/CUIs_mp_ont.pickle')"
   ]
  },
  {
   "cell_type": "code",
   "execution_count": null,
   "metadata": {},
   "outputs": [],
   "source": []
  },
  {
   "cell_type": "markdown",
   "metadata": {},
   "source": [
    "Create and Save CUI-CUIs"
   ]
  },
  {
   "cell_type": "code",
   "execution_count": 19,
   "metadata": {},
   "outputs": [],
   "source": [
    "CUI_CUIs = mp_only[['start_CUI','end_CUI','rel']].rename(\n",
    "                        columns={'start_CUI':':START_ID','end_CUI':':END_ID','rel':':TYPE'})\n",
    "\n",
    "# change from SCO to isa to match what jonathan did\n",
    "CUI_CUIs[':TYPE'] = 'isa' \n",
    "\n",
    "# Add SAB column\n",
    "CUI_CUIs['SAB'] = 'MP'\n",
    "\n",
    "# Create inverse CUI-CUIs \n",
    "\n",
    "# Add inverse relationships\n",
    "CUI_CUIs_inverse = CUI_CUIs.rename(columns={':START_ID':':END_ID',':END_ID':':START_ID'})\n",
    "\n",
    "CUI_CUIs_inverse[':TYPE'] = 'inverse_isa'\n",
    "\n",
    "# Combine them.\n",
    "CUI_CUIs_all = pd.concat([CUI_CUIs,CUI_CUIs_inverse])\n",
    "\n",
    "CUI_CUIs_all.drop_duplicates(inplace=True)\n",
    "\n",
    "\n",
    "CUI_CUIs_all.to_pickle(output_dir+'MPO/CUI_CUIs_mp_ont.pickle')"
   ]
  },
  {
   "cell_type": "markdown",
   "metadata": {},
   "source": [
    "Save CUI-CODEs"
   ]
  },
  {
   "cell_type": "code",
   "execution_count": 20,
   "metadata": {},
   "outputs": [],
   "source": [
    "\n",
    "CUI_CODEs_array = np.concatenate([mp_only[['start_CUI','start_CodeID']].values,\n",
    "                                  mp_only[['end_CUI','end_CodeID']].values])\n",
    "\n",
    "CUI_CODEs = pd.DataFrame(CUI_CODEs_array,columns=[':START_ID',':END_ID'])\n",
    "\n",
    "CUI_CODEs.drop_duplicates(inplace=True)\n",
    "\n",
    "CUI_CODEs.to_pickle(output_dir+'MPO/CUI_CODEs_mp_ont.pickle')"
   ]
  },
  {
   "cell_type": "markdown",
   "metadata": {},
   "source": [
    "Save CODEs"
   ]
  },
  {
   "cell_type": "code",
   "execution_count": 21,
   "metadata": {},
   "outputs": [],
   "source": [
    "\n",
    "CODEs_array = np.concatenate([mp_only[['start_code','start_CodeID']].values,\n",
    "                              mp_only[['end_code','end_CodeID']].values])\n",
    "\n",
    "CODEs = pd.DataFrame(CODEs_array,columns=['CODE','CodeID:ID'])\n",
    "\n",
    "CODEs['SAB'] = 'MP'\n",
    "\n",
    "# Reorder\n",
    "CODEs = CODEs[['CodeID:ID','SAB','CODE']]\n",
    "\n",
    "CODEs.drop_duplicates(inplace=True)\n",
    "\n",
    "CODEs.to_pickle(output_dir+'MPO/CODEs_mp_ont.pickle')"
   ]
  },
  {
   "cell_type": "markdown",
   "metadata": {},
   "source": [
    "Create and Save SUIs\n",
    "\n",
    "\n",
    "MUST GET THE OVERLAPPING TERMS FROM CSVs (this way we dont need to build the graph in order to build the graph!) and preferably on the fly "
   ]
  },
  {
   "cell_type": "code",
   "execution_count": 22,
   "metadata": {},
   "outputs": [],
   "source": [
    "# Read in UMLS SUI CSV\n",
    "UMLS_SUIs = pd.read_pickle(umls_dir+'SUIs.pickle')\n",
    "UMLS_SUIs.head(3)\n",
    "\n",
    "\n",
    "mp_only['start_SUI'] = CUIbase64(mp_only['start_name'])\n",
    "\n",
    "mp_only['end_SUI'] = CUIbase64(mp_only['end_name'])\n",
    "\n",
    "\n",
    "SUIs_array = np.concatenate([mp_only[['start_SUI','start_name']].values,mp_only[['end_SUI','end_name']].values])\n",
    "\n",
    "SUIs = pd.DataFrame(SUIs_array,columns=['SUI:ID','name'])\n",
    "\n",
    "SUIs.drop_duplicates(inplace=True)\n",
    "\n",
    "# OLD WAY, when we used cypher to query/save dups\n",
    "# Only save the Terms that are NOT already in UMLS\n",
    "#SUIs = SUIs[~SUIs['name'].isin(term_overlap['Term'])] \n",
    "### Need to check which Terms are already in UMLS. Load them in first then find duplicates.\n",
    "#Cypher query to find nodes with duplicate Term names:  \n",
    "#    -  WITH \"match (t:Term)--(c:Code) where not c.SAB = 'MP' with t,c match (x:Term)--(c2:Code) where c2.SAB = 'MP' with t,x,c,c2 where t.name = x.name and t.SUI <> x.SUI  return t.SUI as SUI, t.name as Term, c.SAB as SAB ,x.SUI as SUI_2, x.name as Term_2, c2.SAB as SAB_2\" AS query CALL apoc.export.csv.query(query, '/Users/stearb/Desktop/R03_local/data/MP_term_name_overlap.csv', {}) YIELD done RETURN done;\n",
    "\n",
    "\n",
    "SUIs = SUIs[~SUIs['name'].isin(UMLS_SUIs['name'])] # new way, where we query umls csvs directly\n",
    "\n",
    "SUIs.to_pickle(output_dir+'MPO/SUIs_mp_ont.pickle')"
   ]
  },
  {
   "cell_type": "markdown",
   "metadata": {},
   "source": [
    "Save CODE-SUIs (Terms)\n",
    "Merge in the existing SUIs (for the Terms that were already in UMLS)"
   ]
  },
  {
   "cell_type": "code",
   "execution_count": 23,
   "metadata": {},
   "outputs": [],
   "source": [
    "\n",
    "# Include the SUI name here for the purpose of merging in the existing SUIs, we can remove them before saving\n",
    "CODE_SUIs_array = np.concatenate([mp_only[['start_CodeID','start_SUI','start_CUI','start_name']].values,\n",
    "                                  mp_only[['end_CodeID','end_SUI','end_CUI','end_name']].values])\n",
    "\n",
    "CODE_SUIs = pd.DataFrame(CODE_SUIs_array,columns=[':START_ID',':END_ID','CUI','name'])\n",
    "\n",
    "CODE_SUIs[':TYPE']  = 'Term'\n",
    "\n",
    "CODE_SUIs.drop_duplicates(inplace=True)\n",
    "\n",
    "\n",
    "# Split CODE_SUIs into 2 df's, one with Terms that were already in UMLS and one that doesnt.\n",
    "CODE_SUIs_overlap = CODE_SUIs[CODE_SUIs['name'].isin(UMLS_SUIs['name'])]\n",
    "\n",
    "CODE_SUIs_ok = CODE_SUIs[~CODE_SUIs['name'].isin(UMLS_SUIs['name'])]\n",
    "\n",
    "# Rename column so we can merge on it\n",
    "#term_overlap.rename(columns={'Term':'name'},inplace=True)\n",
    "\n",
    "\n",
    "# Drop ':END_ID' column (aka the old SUIs) \n",
    "# and MERGE in the correct SUIs\n",
    "CODE_SUIs_overlap_fixed = pd.merge(CODE_SUIs_overlap.drop(':END_ID',axis=1),UMLS_SUIs[['SUI:ID','name']],on='name')\n",
    "\n",
    "\n",
    "# These SUIs will now be the new ':END_ID' column\n",
    "CODE_SUIs_overlap_fixed.rename(columns={'SUI:ID':':END_ID'},inplace=True)\n",
    "\n",
    "\n",
    "# Drop 'name' from both df's now  \n",
    "CODE_SUIs_overlap_fixed.drop('name',axis=1,inplace=True)\n",
    "CODE_SUIs_ok.drop('name',axis=1,inplace=True)\n",
    "\n",
    "# Concatenate them back together.\n",
    "CODE_SUIs_final = pd.concat([CODE_SUIs_ok,CODE_SUIs_overlap_fixed])\n",
    "\n",
    "# Save\n",
    "CODE_SUIs_final.to_pickle(output_dir+'MPO/CODE_SUIs_mp_ont.pickle')"
   ]
  },
  {
   "cell_type": "code",
   "execution_count": 83,
   "metadata": {},
   "outputs": [],
   "source": []
  }
 ],
 "metadata": {
  "kernelspec": {
   "display_name": "Python 3",
   "language": "python",
   "name": "python3"
  },
  "language_info": {
   "codemirror_mode": {
    "name": "ipython",
    "version": 3
   },
   "file_extension": ".py",
   "mimetype": "text/x-python",
   "name": "python",
   "nbconvert_exporter": "python",
   "pygments_lexer": "ipython3",
   "version": "3.7.4"
  }
 },
 "nbformat": 4,
 "nbformat_minor": 2
}
