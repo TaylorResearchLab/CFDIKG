{
 "cells": [
  {
   "cell_type": "code",
   "execution_count": 87,
   "metadata": {},
   "outputs": [],
   "source": [
    "import pandas as pd\n",
    "import numpy as np\n",
    "import os\n",
    "from collections import Counter\n",
    "from umls_utils import get_paths"
   ]
  },
  {
   "cell_type": "code",
   "execution_count": 86,
   "metadata": {},
   "outputs": [
    {
     "name": "stdout",
     "output_type": "stream",
     "text": [
      "[NbConvertApp] Converting notebook HGNC-HPO.ipynb to script\n",
      "[NbConvertApp] Writing 3171 bytes to HGNC-HPO.py\n"
     ]
    }
   ],
   "source": [
    "!jupyter nbconvert --to script --no-prompt HGNC-HPO.ipynb"
   ]
  },
  {
   "cell_type": "code",
   "execution_count": 88,
   "metadata": {},
   "outputs": [],
   "source": [
    "# Get paths from config file\n",
    "config_path = '/Users/stearb/Dropbox/CHOP/R03/code/neo4j_build_CFDIKG/build_scripts/'\n",
    "\n",
    "data_dir,helper_data_dir,output_dir,LOCAL_CPU,umls_dir,umls_out_dir = get_paths(config_path)\n",
    "\n",
    "if not  os.path.isdir(output_dir+'HGNC_HPO'):\n",
    "    os.mkdir(output_dir+'HGNC_HPO')\n",
    "    print('Creating HGNC_HPO directory...')"
   ]
  },
  {
   "cell_type": "code",
   "execution_count": 89,
   "metadata": {},
   "outputs": [
    {
     "data": {
      "text/html": [
       "<div>\n",
       "<style scoped>\n",
       "    .dataframe tbody tr th:only-of-type {\n",
       "        vertical-align: middle;\n",
       "    }\n",
       "\n",
       "    .dataframe tbody tr th {\n",
       "        vertical-align: top;\n",
       "    }\n",
       "\n",
       "    .dataframe thead th {\n",
       "        text-align: right;\n",
       "    }\n",
       "</style>\n",
       "<table border=\"1\" class=\"dataframe\">\n",
       "  <thead>\n",
       "    <tr style=\"text-align: right;\">\n",
       "      <th></th>\n",
       "      <th>HPO-id</th>\n",
       "      <th>symbol</th>\n",
       "    </tr>\n",
       "  </thead>\n",
       "  <tbody>\n",
       "    <tr>\n",
       "      <th>0</th>\n",
       "      <td>HP:0000002</td>\n",
       "      <td>COX1</td>\n",
       "    </tr>\n",
       "    <tr>\n",
       "      <th>1</th>\n",
       "      <td>HP:0000002</td>\n",
       "      <td>AFF2</td>\n",
       "    </tr>\n",
       "    <tr>\n",
       "      <th>2</th>\n",
       "      <td>HP:0000002</td>\n",
       "      <td>ANAPC1</td>\n",
       "    </tr>\n",
       "    <tr>\n",
       "      <th>3</th>\n",
       "      <td>HP:0000002</td>\n",
       "      <td>MAP2K1</td>\n",
       "    </tr>\n",
       "    <tr>\n",
       "      <th>4</th>\n",
       "      <td>HP:0000002</td>\n",
       "      <td>KDM6A</td>\n",
       "    </tr>\n",
       "  </tbody>\n",
       "</table>\n",
       "</div>"
      ],
      "text/plain": [
       "       HPO-id  symbol\n",
       "0  HP:0000002    COX1\n",
       "1  HP:0000002    AFF2\n",
       "2  HP:0000002  ANAPC1\n",
       "3  HP:0000002  MAP2K1\n",
       "4  HP:0000002   KDM6A"
      ]
     },
     "execution_count": 89,
     "metadata": {},
     "output_type": "execute_result"
    }
   ],
   "source": [
    "hgnc_hpo = pd.read_csv(data_dir+'hgnc_hpo_mappings.txt',\n",
    "                       sep='\\t',skiprows=1,header=None)\n",
    "\n",
    "hgnc_hpo.columns = ['HPO-id','HPO label','entrez-gene-id','entrez-gene-symbol',\n",
    "                            'Additional Info from G-D source','G-D source','disease-ID for link']\n",
    "\n",
    "hgnc_hpo = hgnc_hpo[['HPO-id','entrez-gene-symbol']]\n",
    "hgnc_hpo.rename(columns={'entrez-gene-symbol':'symbol'},inplace=True)\n",
    "hgnc_hpo.head(5)"
   ]
  },
  {
   "cell_type": "markdown",
   "metadata": {},
   "source": [
    "### Load in hgnc_master, which contains the gene_symbol - hgnc_code mappings"
   ]
  },
  {
   "cell_type": "code",
   "execution_count": 90,
   "metadata": {},
   "outputs": [
    {
     "data": {
      "text/html": [
       "<div>\n",
       "<style scoped>\n",
       "    .dataframe tbody tr th:only-of-type {\n",
       "        vertical-align: middle;\n",
       "    }\n",
       "\n",
       "    .dataframe tbody tr th {\n",
       "        vertical-align: top;\n",
       "    }\n",
       "\n",
       "    .dataframe thead th {\n",
       "        text-align: right;\n",
       "    }\n",
       "</style>\n",
       "<table border=\"1\" class=\"dataframe\">\n",
       "  <thead>\n",
       "    <tr style=\"text-align: right;\">\n",
       "      <th></th>\n",
       "      <th>hgnc_id</th>\n",
       "      <th>symbol</th>\n",
       "    </tr>\n",
       "  </thead>\n",
       "  <tbody>\n",
       "    <tr>\n",
       "      <th>0</th>\n",
       "      <td>HGNC:5</td>\n",
       "      <td>A1BG</td>\n",
       "    </tr>\n",
       "    <tr>\n",
       "      <th>1</th>\n",
       "      <td>HGNC:37133</td>\n",
       "      <td>A1BG-AS1</td>\n",
       "    </tr>\n",
       "    <tr>\n",
       "      <th>2</th>\n",
       "      <td>HGNC:24086</td>\n",
       "      <td>A1CF</td>\n",
       "    </tr>\n",
       "  </tbody>\n",
       "</table>\n",
       "</div>"
      ],
      "text/plain": [
       "      hgnc_id    symbol\n",
       "0      HGNC:5      A1BG\n",
       "1  HGNC:37133  A1BG-AS1\n",
       "2  HGNC:24086      A1CF"
      ]
     },
     "execution_count": 90,
     "metadata": {},
     "output_type": "execute_result"
    }
   ],
   "source": [
    "hgnc_master = pd.read_csv(helper_data_dir+'hgnc_master_2cols.txt')\n",
    "hgnc_master.drop('Unnamed: 0',axis=1,inplace=True)\n",
    "hgnc_master.head(3)"
   ]
  },
  {
   "cell_type": "markdown",
   "metadata": {},
   "source": [
    "### Merge in HGNC Codes"
   ]
  },
  {
   "cell_type": "code",
   "execution_count": 91,
   "metadata": {},
   "outputs": [
    {
     "data": {
      "text/html": [
       "<div>\n",
       "<style scoped>\n",
       "    .dataframe tbody tr th:only-of-type {\n",
       "        vertical-align: middle;\n",
       "    }\n",
       "\n",
       "    .dataframe tbody tr th {\n",
       "        vertical-align: top;\n",
       "    }\n",
       "\n",
       "    .dataframe thead th {\n",
       "        text-align: right;\n",
       "    }\n",
       "</style>\n",
       "<table border=\"1\" class=\"dataframe\">\n",
       "  <thead>\n",
       "    <tr style=\"text-align: right;\">\n",
       "      <th></th>\n",
       "      <th>HPO-id</th>\n",
       "      <th>HGNC_ID</th>\n",
       "    </tr>\n",
       "  </thead>\n",
       "  <tbody>\n",
       "    <tr>\n",
       "      <th>0</th>\n",
       "      <td>HP:0000002</td>\n",
       "      <td>HGNC:3776</td>\n",
       "    </tr>\n",
       "    <tr>\n",
       "      <th>1</th>\n",
       "      <td>HP:0000152</td>\n",
       "      <td>HGNC:3776</td>\n",
       "    </tr>\n",
       "    <tr>\n",
       "      <th>3</th>\n",
       "      <td>HP:0000153</td>\n",
       "      <td>HGNC:3776</td>\n",
       "    </tr>\n",
       "  </tbody>\n",
       "</table>\n",
       "</div>"
      ],
      "text/plain": [
       "       HPO-id    HGNC_ID\n",
       "0  HP:0000002  HGNC:3776\n",
       "1  HP:0000152  HGNC:3776\n",
       "3  HP:0000153  HGNC:3776"
      ]
     },
     "execution_count": 91,
     "metadata": {},
     "output_type": "execute_result"
    }
   ],
   "source": [
    "hgnc_hpo.head(1)\n",
    "\n",
    "hgnc_hpo_mappings = pd.merge(hgnc_hpo,hgnc_master,on='symbol')\n",
    "\n",
    "hgnc_hpo_mappings.drop('symbol',axis=1,inplace=True)\n",
    "hgnc_hpo_mappings.rename(columns={'hgnc_id':'HGNC_ID'},inplace=True)\n",
    "\n",
    "hgnc_hpo_mappings.drop_duplicates(inplace=True)\n",
    "hgnc_hpo_mappings.head(3)"
   ]
  },
  {
   "cell_type": "markdown",
   "metadata": {},
   "source": [
    "### Merge in HGNC CUIs"
   ]
  },
  {
   "cell_type": "code",
   "execution_count": 92,
   "metadata": {},
   "outputs": [
    {
     "data": {
      "text/html": [
       "<div>\n",
       "<style scoped>\n",
       "    .dataframe tbody tr th:only-of-type {\n",
       "        vertical-align: middle;\n",
       "    }\n",
       "\n",
       "    .dataframe tbody tr th {\n",
       "        vertical-align: top;\n",
       "    }\n",
       "\n",
       "    .dataframe thead th {\n",
       "        text-align: right;\n",
       "    }\n",
       "</style>\n",
       "<table border=\"1\" class=\"dataframe\">\n",
       "  <thead>\n",
       "    <tr style=\"text-align: right;\">\n",
       "      <th></th>\n",
       "      <th>CUI_hgnc</th>\n",
       "      <th>HGNC_ID</th>\n",
       "    </tr>\n",
       "  </thead>\n",
       "  <tbody>\n",
       "    <tr>\n",
       "      <th>14067</th>\n",
       "      <td>C0694879</td>\n",
       "      <td>HGNC:3513</td>\n",
       "    </tr>\n",
       "    <tr>\n",
       "      <th>24230</th>\n",
       "      <td>C1332096</td>\n",
       "      <td>HGNC:546</td>\n",
       "    </tr>\n",
       "    <tr>\n",
       "      <th>24231</th>\n",
       "      <td>C1332123</td>\n",
       "      <td>HGNC:896</td>\n",
       "    </tr>\n",
       "  </tbody>\n",
       "</table>\n",
       "</div>"
      ],
      "text/plain": [
       "       CUI_hgnc    HGNC_ID\n",
       "14067  C0694879  HGNC:3513\n",
       "24230  C1332096   HGNC:546\n",
       "24231  C1332123   HGNC:896"
      ]
     },
     "execution_count": 92,
     "metadata": {},
     "output_type": "execute_result"
    }
   ],
   "source": [
    "# GET CUI - HGNC CODE MAPPINGS STRAIGHT FROM CSVs\n",
    "# UMLS_CUI_CODEs = pd.read_csv(umls_dir+'CUI-CODEs.csv')\n",
    "UMLS_CUI_CODEs = pd.read_pickle(umls_dir+'CUI-CODEs.pickle')\n",
    "\n",
    "umls_genes = UMLS_CUI_CODEs[UMLS_CUI_CODEs[':END_ID'].str.startswith('HGNC')].rename(\n",
    "                                    columns={':START_ID':'CUI_hgnc',':END_ID':'HGNC_ID'})\n",
    "\n",
    "umls_genes['HGNC_ID'] = [i.split(' ')[1] for i in umls_genes['HGNC_ID']]\n",
    "umls_genes.head(3)"
   ]
  },
  {
   "cell_type": "code",
   "execution_count": 93,
   "metadata": {},
   "outputs": [
    {
     "data": {
      "text/html": [
       "<div>\n",
       "<style scoped>\n",
       "    .dataframe tbody tr th:only-of-type {\n",
       "        vertical-align: middle;\n",
       "    }\n",
       "\n",
       "    .dataframe tbody tr th {\n",
       "        vertical-align: top;\n",
       "    }\n",
       "\n",
       "    .dataframe thead th {\n",
       "        text-align: right;\n",
       "    }\n",
       "</style>\n",
       "<table border=\"1\" class=\"dataframe\">\n",
       "  <thead>\n",
       "    <tr style=\"text-align: right;\">\n",
       "      <th></th>\n",
       "      <th>HPO-id</th>\n",
       "      <th>HGNC_ID</th>\n",
       "      <th>CUI_hgnc</th>\n",
       "    </tr>\n",
       "  </thead>\n",
       "  <tbody>\n",
       "    <tr>\n",
       "      <th>0</th>\n",
       "      <td>HP:0000002</td>\n",
       "      <td>HGNC:3776</td>\n",
       "      <td>C1826605</td>\n",
       "    </tr>\n",
       "    <tr>\n",
       "      <th>1</th>\n",
       "      <td>HP:0000152</td>\n",
       "      <td>HGNC:3776</td>\n",
       "      <td>C1826605</td>\n",
       "    </tr>\n",
       "    <tr>\n",
       "      <th>2</th>\n",
       "      <td>HP:0000153</td>\n",
       "      <td>HGNC:3776</td>\n",
       "      <td>C1826605</td>\n",
       "    </tr>\n",
       "  </tbody>\n",
       "</table>\n",
       "</div>"
      ],
      "text/plain": [
       "       HPO-id    HGNC_ID  CUI_hgnc\n",
       "0  HP:0000002  HGNC:3776  C1826605\n",
       "1  HP:0000152  HGNC:3776  C1826605\n",
       "2  HP:0000153  HGNC:3776  C1826605"
      ]
     },
     "execution_count": 93,
     "metadata": {},
     "output_type": "execute_result"
    }
   ],
   "source": [
    "df = pd.merge(hgnc_hpo_mappings,umls_genes,on='HGNC_ID')\n",
    "df.head(3)"
   ]
  },
  {
   "cell_type": "markdown",
   "metadata": {},
   "source": [
    "### Merge in HPO CUIs"
   ]
  },
  {
   "cell_type": "code",
   "execution_count": 94,
   "metadata": {},
   "outputs": [
    {
     "data": {
      "text/html": [
       "<div>\n",
       "<style scoped>\n",
       "    .dataframe tbody tr th:only-of-type {\n",
       "        vertical-align: middle;\n",
       "    }\n",
       "\n",
       "    .dataframe tbody tr th {\n",
       "        vertical-align: top;\n",
       "    }\n",
       "\n",
       "    .dataframe thead th {\n",
       "        text-align: right;\n",
       "    }\n",
       "</style>\n",
       "<table border=\"1\" class=\"dataframe\">\n",
       "  <thead>\n",
       "    <tr style=\"text-align: right;\">\n",
       "      <th></th>\n",
       "      <th>CUI_hgnc</th>\n",
       "      <th>CUI_hpo</th>\n",
       "    </tr>\n",
       "  </thead>\n",
       "  <tbody>\n",
       "    <tr>\n",
       "      <th>0</th>\n",
       "      <td>C1826605</td>\n",
       "      <td>C4025901</td>\n",
       "    </tr>\n",
       "    <tr>\n",
       "      <th>1</th>\n",
       "      <td>C1426585</td>\n",
       "      <td>C4025901</td>\n",
       "    </tr>\n",
       "    <tr>\n",
       "      <th>2</th>\n",
       "      <td>C1334474</td>\n",
       "      <td>C4025901</td>\n",
       "    </tr>\n",
       "  </tbody>\n",
       "</table>\n",
       "</div>"
      ],
      "text/plain": [
       "   CUI_hgnc   CUI_hpo\n",
       "0  C1826605  C4025901\n",
       "1  C1426585  C4025901\n",
       "2  C1334474  C4025901"
      ]
     },
     "execution_count": 94,
     "metadata": {},
     "output_type": "execute_result"
    }
   ],
   "source": [
    "hpo_cuis = UMLS_CUI_CODEs[UMLS_CUI_CODEs[':END_ID'].str.startswith('HPO')].rename(\n",
    "                                    columns={':START_ID':'CUI_hpo',':END_ID':'HPO-id'})\n",
    "\n",
    "hpo_cuis['HPO-id'] = [i.split(' ')[1] for i in hpo_cuis['HPO-id']]\n",
    "\n",
    "hpo_cuis.head(2)\n",
    "\n",
    "final = pd.merge(df,hpo_cuis,on='HPO-id')\n",
    "final.drop(['HPO-id','HGNC_ID'],axis=1,inplace=True)\n",
    "final.drop_duplicates(inplace=True)\n",
    "final.head(3)"
   ]
  },
  {
   "cell_type": "markdown",
   "metadata": {},
   "source": [
    "### CUI-CUIs (Create forwards and reverse relationships)"
   ]
  },
  {
   "cell_type": "code",
   "execution_count": 95,
   "metadata": {},
   "outputs": [],
   "source": [
    "forwards = final.rename(columns={'CUI_hgnc':':START_ID','CUI_hpo':':END_ID'})\n",
    "forwards[':TYPE'] = 'gene_associated_with_phenotype'\n",
    "\n",
    "\n",
    "reverse = final.rename(columns={'CUI_hgnc':':END_ID','CUI_hpo':':START_ID'})\n",
    "reverse = reverse[[':START_ID',':END_ID']]\n",
    "reverse[':TYPE'] = 'phenotype_associated_with_gene'\n",
    "\n",
    "CUI_CUIs = pd.concat([forwards,reverse])\n",
    "CUI_CUIs['SAB'] = 'HGNC__HPO'\n",
    "\n",
    "CUI_CUIs.to_pickle(output_dir+'HGNC_HPO/CUI_CUIs_hgnc_hpo.pickle')\n"
   ]
  },
  {
   "cell_type": "code",
   "execution_count": 98,
   "metadata": {},
   "outputs": [
    {
     "data": {
      "text/plain": [
       ":START_ID     4545\n",
       ":END_ID      10896\n",
       ":TYPE            1\n",
       "dtype: int64"
      ]
     },
     "execution_count": 98,
     "metadata": {},
     "output_type": "execute_result"
    }
   ],
   "source": [
    "forwards.nunique()"
   ]
  },
  {
   "cell_type": "code",
   "execution_count": null,
   "metadata": {},
   "outputs": [],
   "source": []
  }
 ],
 "metadata": {
  "kernelspec": {
   "display_name": "Python 3",
   "language": "python",
   "name": "python3"
  },
  "language_info": {
   "codemirror_mode": {
    "name": "ipython",
    "version": 3
   },
   "file_extension": ".py",
   "mimetype": "text/x-python",
   "name": "python",
   "nbconvert_exporter": "python",
   "pygments_lexer": "ipython3",
   "version": "3.7.4"
  }
 },
 "nbformat": 4,
 "nbformat_minor": 2
}
