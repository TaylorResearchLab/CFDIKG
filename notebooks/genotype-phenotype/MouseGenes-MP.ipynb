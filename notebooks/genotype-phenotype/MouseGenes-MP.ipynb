{
 "cells": [
  {
   "cell_type": "code",
   "execution_count": 1,
   "metadata": {},
   "outputs": [
    {
     "name": "stderr",
     "output_type": "stream",
     "text": [
      "In /Users/stearb/opt/anaconda3/lib/python3.7/site-packages/matplotlib/mpl-data/stylelib/_classic_test.mplstyle: \n",
      "The text.latex.preview rcparam was deprecated in Matplotlib 3.3 and will be removed two minor releases later.\n",
      "In /Users/stearb/opt/anaconda3/lib/python3.7/site-packages/matplotlib/mpl-data/stylelib/_classic_test.mplstyle: \n",
      "The mathtext.fallback_to_cm rcparam was deprecated in Matplotlib 3.3 and will be removed two minor releases later.\n",
      "In /Users/stearb/opt/anaconda3/lib/python3.7/site-packages/matplotlib/mpl-data/stylelib/_classic_test.mplstyle: Support for setting the 'mathtext.fallback_to_cm' rcParam is deprecated since 3.3 and will be removed two minor releases later; use 'mathtext.fallback : 'cm' instead.\n",
      "In /Users/stearb/opt/anaconda3/lib/python3.7/site-packages/matplotlib/mpl-data/stylelib/_classic_test.mplstyle: \n",
      "The validate_bool_maybe_none function was deprecated in Matplotlib 3.3 and will be removed two minor releases later.\n",
      "In /Users/stearb/opt/anaconda3/lib/python3.7/site-packages/matplotlib/mpl-data/stylelib/_classic_test.mplstyle: \n",
      "The savefig.jpeg_quality rcparam was deprecated in Matplotlib 3.3 and will be removed two minor releases later.\n",
      "In /Users/stearb/opt/anaconda3/lib/python3.7/site-packages/matplotlib/mpl-data/stylelib/_classic_test.mplstyle: \n",
      "The keymap.all_axes rcparam was deprecated in Matplotlib 3.3 and will be removed two minor releases later.\n",
      "In /Users/stearb/opt/anaconda3/lib/python3.7/site-packages/matplotlib/mpl-data/stylelib/_classic_test.mplstyle: \n",
      "The animation.avconv_path rcparam was deprecated in Matplotlib 3.3 and will be removed two minor releases later.\n",
      "In /Users/stearb/opt/anaconda3/lib/python3.7/site-packages/matplotlib/mpl-data/stylelib/_classic_test.mplstyle: \n",
      "The animation.avconv_args rcparam was deprecated in Matplotlib 3.3 and will be removed two minor releases later.\n"
     ]
    }
   ],
   "source": [
    "import pandas as pd\n",
    "import numpy as np\n",
    "import os\n",
    "import re\n",
    "import matplotlib.pyplot  as plt\n",
    "from collections import Counter\n",
    "from umls_utils import get_paths, CUIbase64\n",
    "\n",
    "pd.options.display.max_columns = None\n",
    "import warnings\n",
    "warnings.filterwarnings('ignore')"
   ]
  },
  {
   "cell_type": "code",
   "execution_count": 10,
   "metadata": {},
   "outputs": [
    {
     "name": "stdout",
     "output_type": "stream",
     "text": [
      "[NbConvertApp] Converting notebook IMPC_ftp-Copy1.ipynb to script\n",
      "[NbConvertApp] Writing 26156 bytes to IMPC_ftp-Copy1.py\n"
     ]
    }
   ],
   "source": [
    "!jupyter nbconvert --to script IMPC_ftp-Copy1.ipynb\n",
    "!sed -i '' '/.head(/d' IMPC_ftp-Copy1.py\n",
    "!sed -i '' '/^#/d' IMPC_ftp-Copy1.py\n",
    "!sed -i '' '/get_ipython()/d' IMPC_ftp-Copy1.py\n",
    "!sed -i '' '/print/d' IMPC_ftp-Copy1.py"
   ]
  },
  {
   "cell_type": "code",
   "execution_count": 4,
   "metadata": {},
   "outputs": [],
   "source": [
    "# Get paths from config file\n",
    "\n",
    "config_path = '/Users/stearb/Dropbox/CHOP/R03/code/neo4j_build_CFDIKG/build_scripts/'\n",
    "data_dir,helper_data_dir,output_dir,LOCAL_CPU, umls_dir, umls_out_dir = get_paths('/Users/stearb/Dropbox/CHOP/R03/code/neo4j_build_CFDIKG/build_scripts/')\n",
    "\n",
    "if not  os.path.isdir(output_dir+'genopheno'):\n",
    "    os.mkdir(output_dir+'genopheno')\n",
    "    print('Creating genopheno directory...')"
   ]
  },
  {
   "cell_type": "markdown",
   "metadata": {},
   "source": [
    "# Main notebook for IMPC data cleaning"
   ]
  },
  {
   "cell_type": "markdown",
   "metadata": {},
   "source": [
    "### Input files:\n",
    "    * IMPC\n",
    "        - genotype-phenotype-assertions-ALL.csv\n",
    "        - statistical-results-ALL.csv\n",
    "    * MGI\n",
    "        - MGI_PhenoGenoMP.rpt (Table 5)\n",
    "        - mgi_master_geno2pheno.csv\n",
    "\n",
    "### Output  files:\n",
    "    * UMLS-KF\n",
    "        - CUI-CUI.csv\n",
    "        - CODEs.csv"
   ]
  },
  {
   "cell_type": "markdown",
   "metadata": {},
   "source": [
    "# IPMC README.txt\n",
    "http://ftp.ebi.ac.uk/pub/databases/impc/all-data-releases/latest/results/README.txt"
   ]
  },
  {
   "cell_type": "markdown",
   "metadata": {},
   "source": [
    "## Download and clean genotype-phenotype data from IMPC\n",
    "### First look at just the genotype-phenotype-assertions-ALL.csv file"
   ]
  },
  {
   "cell_type": "code",
   "execution_count": 5,
   "metadata": {},
   "outputs": [
    {
     "name": "stdout",
     "output_type": "stream",
     "text": [
      "(60174, 7)\n"
     ]
    },
    {
     "data": {
      "text/html": [
       "<div>\n",
       "<style scoped>\n",
       "    .dataframe tbody tr th:only-of-type {\n",
       "        vertical-align: middle;\n",
       "    }\n",
       "\n",
       "    .dataframe tbody tr th {\n",
       "        vertical-align: top;\n",
       "    }\n",
       "\n",
       "    .dataframe thead th {\n",
       "        text-align: right;\n",
       "    }\n",
       "</style>\n",
       "<table border=\"1\" class=\"dataframe\">\n",
       "  <thead>\n",
       "    <tr style=\"text-align: right;\">\n",
       "      <th></th>\n",
       "      <th>marker_symbol</th>\n",
       "      <th>allele_accession_id</th>\n",
       "      <th>parameter_name</th>\n",
       "      <th>top_level_mp_term_id</th>\n",
       "      <th>top_level_mp_term_name</th>\n",
       "      <th>mp_term_id</th>\n",
       "      <th>mp_term_name</th>\n",
       "    </tr>\n",
       "  </thead>\n",
       "  <tbody>\n",
       "    <tr>\n",
       "      <th>0</th>\n",
       "      <td>Gimap3</td>\n",
       "      <td>MGI:5883410</td>\n",
       "      <td>Cornea</td>\n",
       "      <td>MP:0005391</td>\n",
       "      <td>vision/eye phenotype</td>\n",
       "      <td>MP:0001312</td>\n",
       "      <td>abnormal cornea morphology</td>\n",
       "    </tr>\n",
       "    <tr>\n",
       "      <th>1</th>\n",
       "      <td>Prss8</td>\n",
       "      <td>MGI:5646004</td>\n",
       "      <td>Embryo Size</td>\n",
       "      <td>MP:0005380,MP:0005378</td>\n",
       "      <td>embryo phenotype,growth/size/body region pheno...</td>\n",
       "      <td>MP:0001697</td>\n",
       "      <td>abnormal embryo size</td>\n",
       "    </tr>\n",
       "    <tr>\n",
       "      <th>2</th>\n",
       "      <td>Pstpip2</td>\n",
       "      <td>MGI:5755044</td>\n",
       "      <td>Seminal vesicle</td>\n",
       "      <td>MP:0005389,MP:0005379</td>\n",
       "      <td>reproductive system phenotype,endocrine/exocri...</td>\n",
       "      <td>MP:0002059</td>\n",
       "      <td>abnormal seminal vesicle morphology</td>\n",
       "    </tr>\n",
       "  </tbody>\n",
       "</table>\n",
       "</div>"
      ],
      "text/plain": [
       "  marker_symbol allele_accession_id   parameter_name   top_level_mp_term_id  \\\n",
       "0        Gimap3         MGI:5883410           Cornea             MP:0005391   \n",
       "1         Prss8         MGI:5646004      Embryo Size  MP:0005380,MP:0005378   \n",
       "2       Pstpip2         MGI:5755044  Seminal vesicle  MP:0005389,MP:0005379   \n",
       "\n",
       "                              top_level_mp_term_name  mp_term_id  \\\n",
       "0                               vision/eye phenotype  MP:0001312   \n",
       "1  embryo phenotype,growth/size/body region pheno...  MP:0001697   \n",
       "2  reproductive system phenotype,endocrine/exocri...  MP:0002059   \n",
       "\n",
       "                          mp_term_name  \n",
       "0           abnormal cornea morphology  \n",
       "1                 abnormal embryo size  \n",
       "2  abnormal seminal vesicle morphology  "
      ]
     },
     "execution_count": 5,
     "metadata": {},
     "output_type": "execute_result"
    }
   ],
   "source": [
    "gno_phno = data_dir+'genotype-phenotype-assertions-ALL.csv'\n",
    "\n",
    "\n",
    "cols_to_drop = ['phenotyping_center','colony_id','sex','zygosity','strain_name','project_name',\n",
    "                'project_fullname','pipeline_name','pipeline_stable_id','procedure_stable_id',\n",
    "                'parameter_stable_id','p_value','percentage_change','effect_size','statistical_method',\n",
    "                   'resource_name','strain_accession_id','allele_name','procedure_name','marker_accession_id',\n",
    "               'allele_symbol']\n",
    "\n",
    "df=pd.read_csv(gno_phno).drop(cols_to_drop,axis=1)\n",
    "\n",
    "print(df.shape)\n",
    "df.head(3)"
   ]
  },
  {
   "cell_type": "code",
   "execution_count": 4,
   "metadata": {},
   "outputs": [
    {
     "data": {
      "text/html": [
       "<div>\n",
       "<style scoped>\n",
       "    .dataframe tbody tr th:only-of-type {\n",
       "        vertical-align: middle;\n",
       "    }\n",
       "\n",
       "    .dataframe tbody tr th {\n",
       "        vertical-align: top;\n",
       "    }\n",
       "\n",
       "    .dataframe thead th {\n",
       "        text-align: right;\n",
       "    }\n",
       "</style>\n",
       "<table border=\"1\" class=\"dataframe\">\n",
       "  <thead>\n",
       "    <tr style=\"text-align: right;\">\n",
       "      <th></th>\n",
       "      <th>marker_symbol</th>\n",
       "      <th>allele_accession_id</th>\n",
       "      <th>parameter_name</th>\n",
       "      <th>top_level_mp_term_id</th>\n",
       "      <th>top_level_mp_term_name</th>\n",
       "      <th>mp_term_id</th>\n",
       "      <th>mp_term_name</th>\n",
       "    </tr>\n",
       "  </thead>\n",
       "  <tbody>\n",
       "    <tr>\n",
       "      <th>0</th>\n",
       "      <td>6007</td>\n",
       "      <td>6235</td>\n",
       "      <td>972</td>\n",
       "      <td>59</td>\n",
       "      <td>59</td>\n",
       "      <td>746</td>\n",
       "      <td>746</td>\n",
       "    </tr>\n",
       "  </tbody>\n",
       "</table>\n",
       "</div>"
      ],
      "text/plain": [
       "   marker_symbol  allele_accession_id  parameter_name  top_level_mp_term_id  \\\n",
       "0           6007                 6235             972                    59   \n",
       "\n",
       "   top_level_mp_term_name  mp_term_id  mp_term_name  \n",
       "0                      59         746           746  "
      ]
     },
     "execution_count": 4,
     "metadata": {},
     "output_type": "execute_result"
    }
   ],
   "source": [
    "# Show number of unique values in each column\n",
    "df.nunique().to_frame().T"
   ]
  },
  {
   "cell_type": "code",
   "execution_count": 5,
   "metadata": {},
   "outputs": [
    {
     "data": {
      "text/plain": [
       "marker_symbol                2\n",
       "allele_accession_id          2\n",
       "parameter_name               0\n",
       "top_level_mp_term_id      1150\n",
       "top_level_mp_term_name    1150\n",
       "mp_term_id                 877\n",
       "mp_term_name               877\n",
       "dtype: int64"
      ]
     },
     "execution_count": 5,
     "metadata": {},
     "output_type": "execute_result"
    }
   ],
   "source": [
    "# How many nulls in each col?\n",
    "df.isna().sum()"
   ]
  },
  {
   "cell_type": "code",
   "execution_count": 6,
   "metadata": {},
   "outputs": [
    {
     "name": "stdout",
     "output_type": "stream",
     "text": [
      "Dropped 1150 rows after getting rid of Nan\n"
     ]
    }
   ],
   "source": [
    "rows_w_na = df.shape[0]\n",
    "df.dropna(inplace=True)\n",
    "print(f'Dropped {rows_w_na-df.shape[0]} rows after getting rid of Nan')"
   ]
  },
  {
   "cell_type": "code",
   "execution_count": 2,
   "metadata": {},
   "outputs": [],
   "source": [
    "# Save to check consistency later\n",
    "#df[['marker_symbol','parameter_name',\n",
    "#    'allele_accession_id','mp_term_id',\n",
    "#    'mp_term_name','top_level_mp_term_id']].to_csv(\n",
    "#    '/Users/stearb/desktop/R03_local/data/ingest_files/genopheno/geno2pheno_mapping.csv')"
   ]
  },
  {
   "cell_type": "code",
   "execution_count": 8,
   "metadata": {},
   "outputs": [
    {
     "data": {
      "text/plain": [
       "(36671, 7)"
      ]
     },
     "execution_count": 8,
     "metadata": {},
     "output_type": "execute_result"
    }
   ],
   "source": [
    "df_dropdup = df.drop_duplicates(['marker_symbol','mp_term_id','mp_term_name','allele_accession_id','parameter_name'])\n",
    "df_dropdup.shape"
   ]
  },
  {
   "cell_type": "code",
   "execution_count": 9,
   "metadata": {},
   "outputs": [
    {
     "name": "stdout",
     "output_type": "stream",
     "text": [
      "There are 24 unique top level MP terms in this dataset.\n"
     ]
    }
   ],
   "source": [
    "# Seperate the 'top_level_mp_term_id'  column by '|'\n",
    "all_top_level_mp_terms = np.ravel(list(df['top_level_mp_term_id'].apply(lambda x: x.split('|')).values))\n",
    "\n",
    "# Split results by ','\n",
    "all_top_level_mp_terms_ = list([i.split(',') for i in all_top_level_mp_terms])\n",
    "\n",
    "# Flatten it.\n",
    "flat_list = [item for sublist in all_top_level_mp_terms_ for item in sublist]\n",
    "\n",
    "print('There are '+str(len(np.unique(flat_list))) + ' unique top level MP terms in this dataset.')"
   ]
  },
  {
   "cell_type": "code",
   "execution_count": 10,
   "metadata": {},
   "outputs": [
    {
     "name": "stdout",
     "output_type": "stream",
     "text": [
      "There are 740 unique MP terms in this dataset.\n"
     ]
    }
   ],
   "source": [
    "print('There are '+str(len(df['mp_term_id'].unique()))+' unique MP terms in this dataset.')"
   ]
  },
  {
   "cell_type": "code",
   "execution_count": 11,
   "metadata": {},
   "outputs": [
    {
     "name": "stdout",
     "output_type": "stream",
     "text": [
      "There are 5966 unique genes in this dataset.\n"
     ]
    }
   ],
   "source": [
    "print('There are '+str(df['marker_symbol'].unique().shape[0])+' unique genes in this dataset.')"
   ]
  },
  {
   "cell_type": "markdown",
   "metadata": {},
   "source": [
    "## Now look at another IMPC file called statistical-results-ALL.csv file"
   ]
  },
  {
   "cell_type": "code",
   "execution_count": 12,
   "metadata": {},
   "outputs": [
    {
     "name": "stdout",
     "output_type": "stream",
     "text": [
      "(1905809, 87)\n"
     ]
    },
    {
     "data": {
      "text/html": [
       "<div>\n",
       "<style scoped>\n",
       "    .dataframe tbody tr th:only-of-type {\n",
       "        vertical-align: middle;\n",
       "    }\n",
       "\n",
       "    .dataframe tbody tr th {\n",
       "        vertical-align: top;\n",
       "    }\n",
       "\n",
       "    .dataframe thead th {\n",
       "        text-align: right;\n",
       "    }\n",
       "</style>\n",
       "<table border=\"1\" class=\"dataframe\">\n",
       "  <thead>\n",
       "    <tr style=\"text-align: right;\">\n",
       "      <th></th>\n",
       "      <th>marker_symbol</th>\n",
       "      <th>parameter_name</th>\n",
       "      <th>allele_name</th>\n",
       "      <th>marker_accession_id</th>\n",
       "      <th>mp_term_id</th>\n",
       "      <th>mp_term_name</th>\n",
       "      <th>top_level_mp_term_id</th>\n",
       "      <th>top_level_mp_term_name</th>\n",
       "      <th>allele_symbol</th>\n",
       "      <th>allele_accession_id</th>\n",
       "    </tr>\n",
       "  </thead>\n",
       "  <tbody>\n",
       "    <tr>\n",
       "      <th>0</th>\n",
       "      <td>Gpank1</td>\n",
       "      <td>Skeletal muscle</td>\n",
       "      <td>tm1.1(KOMP)Vlcg</td>\n",
       "      <td>MGI:2148975</td>\n",
       "      <td>NaN</td>\n",
       "      <td>NaN</td>\n",
       "      <td>NaN</td>\n",
       "      <td>NaN</td>\n",
       "      <td>Gpank1&lt;tm1.1(KOMP)Vlcg&gt;</td>\n",
       "      <td>MGI:5574607</td>\n",
       "    </tr>\n",
       "    <tr>\n",
       "      <th>1</th>\n",
       "      <td>Prrc2c</td>\n",
       "      <td>Tail Morphology</td>\n",
       "      <td>em1(IMPC)J</td>\n",
       "      <td>MGI:1913754</td>\n",
       "      <td>NaN</td>\n",
       "      <td>NaN</td>\n",
       "      <td>MP:0005371</td>\n",
       "      <td>limbs/digits/tail phenotype</td>\n",
       "      <td>Prrc2c&lt;em1(IMPC)J&gt;</td>\n",
       "      <td>MGI:6143826</td>\n",
       "    </tr>\n",
       "    <tr>\n",
       "      <th>2</th>\n",
       "      <td>Adh5</td>\n",
       "      <td>Thyroid</td>\n",
       "      <td>tm1b(EUCOMM)Wtsi</td>\n",
       "      <td>MGI:87929</td>\n",
       "      <td>NaN</td>\n",
       "      <td>NaN</td>\n",
       "      <td>NaN</td>\n",
       "      <td>NaN</td>\n",
       "      <td>Adh5&lt;tm1b(EUCOMM)Wtsi&gt;</td>\n",
       "      <td>MGI:5548916</td>\n",
       "    </tr>\n",
       "  </tbody>\n",
       "</table>\n",
       "</div>"
      ],
      "text/plain": [
       "  marker_symbol   parameter_name       allele_name marker_accession_id  \\\n",
       "0        Gpank1  Skeletal muscle   tm1.1(KOMP)Vlcg         MGI:2148975   \n",
       "1        Prrc2c  Tail Morphology        em1(IMPC)J         MGI:1913754   \n",
       "2          Adh5          Thyroid  tm1b(EUCOMM)Wtsi           MGI:87929   \n",
       "\n",
       "  mp_term_id mp_term_name top_level_mp_term_id       top_level_mp_term_name  \\\n",
       "0        NaN          NaN                  NaN                          NaN   \n",
       "1        NaN          NaN           MP:0005371  limbs/digits/tail phenotype   \n",
       "2        NaN          NaN                  NaN                          NaN   \n",
       "\n",
       "             allele_symbol allele_accession_id  \n",
       "0  Gpank1<tm1.1(KOMP)Vlcg>         MGI:5574607  \n",
       "1       Prrc2c<em1(IMPC)J>         MGI:6143826  \n",
       "2   Adh5<tm1b(EUCOMM)Wtsi>         MGI:5548916  "
      ]
     },
     "execution_count": 12,
     "metadata": {},
     "output_type": "execute_result"
    }
   ],
   "source": [
    "# This is a larger file, slighlty over 1 GB\n",
    "\n",
    "#stats = pd.read_csv(data_dir+'statistical-results-ALL.csv')\n",
    "stats = pd.read_pickle(data_dir+'statistical-results-ALL.pickle')\n",
    "\n",
    "#list(stats.columns)  # See all available columns,  there are 87 columns\n",
    "\n",
    "# Just select the most important columns right now.\n",
    "stats_cols_to_include = ['marker_symbol','parameter_name','allele_name','marker_accession_id',\n",
    "                         'mp_term_id','mp_term_name','top_level_mp_term_id','top_level_mp_term_name',\n",
    "                         'allele_symbol','allele_accession_id']\n",
    "\n",
    "stats_slct = stats[stats_cols_to_include]\n",
    "\n",
    "print(stats.shape)\n",
    "stats_slct.head(3) "
   ]
  },
  {
   "cell_type": "code",
   "execution_count": 13,
   "metadata": {},
   "outputs": [
    {
     "data": {
      "text/html": [
       "<div>\n",
       "<style scoped>\n",
       "    .dataframe tbody tr th:only-of-type {\n",
       "        vertical-align: middle;\n",
       "    }\n",
       "\n",
       "    .dataframe tbody tr th {\n",
       "        vertical-align: top;\n",
       "    }\n",
       "\n",
       "    .dataframe thead th {\n",
       "        text-align: right;\n",
       "    }\n",
       "</style>\n",
       "<table border=\"1\" class=\"dataframe\">\n",
       "  <thead>\n",
       "    <tr style=\"text-align: right;\">\n",
       "      <th></th>\n",
       "      <th>marker_symbol</th>\n",
       "      <th>parameter_name</th>\n",
       "      <th>allele_name</th>\n",
       "      <th>marker_accession_id</th>\n",
       "      <th>mp_term_id</th>\n",
       "      <th>mp_term_name</th>\n",
       "      <th>top_level_mp_term_id</th>\n",
       "      <th>top_level_mp_term_name</th>\n",
       "      <th>allele_symbol</th>\n",
       "      <th>allele_accession_id</th>\n",
       "    </tr>\n",
       "  </thead>\n",
       "  <tbody>\n",
       "    <tr>\n",
       "      <th>0</th>\n",
       "      <td>1</td>\n",
       "      <td>0</td>\n",
       "      <td>42155</td>\n",
       "      <td>1</td>\n",
       "      <td>1871375</td>\n",
       "      <td>1871376</td>\n",
       "      <td>770079</td>\n",
       "      <td>770079</td>\n",
       "      <td>1</td>\n",
       "      <td>1</td>\n",
       "    </tr>\n",
       "  </tbody>\n",
       "</table>\n",
       "</div>"
      ],
      "text/plain": [
       "   marker_symbol  parameter_name  allele_name  marker_accession_id  \\\n",
       "0              1               0        42155                    1   \n",
       "\n",
       "   mp_term_id  mp_term_name  top_level_mp_term_id  top_level_mp_term_name  \\\n",
       "0     1871375       1871376                770079                  770079   \n",
       "\n",
       "   allele_symbol  allele_accession_id  \n",
       "0              1                    1  "
      ]
     },
     "execution_count": 13,
     "metadata": {},
     "output_type": "execute_result"
    }
   ],
   "source": [
    "# How many nans per column?\n",
    "stats_slct.isna().sum().to_frame().T"
   ]
  },
  {
   "cell_type": "code",
   "execution_count": 14,
   "metadata": {},
   "outputs": [
    {
     "name": "stdout",
     "output_type": "stream",
     "text": [
      "(33157, 10)\n"
     ]
    },
    {
     "data": {
      "text/html": [
       "<div>\n",
       "<style scoped>\n",
       "    .dataframe tbody tr th:only-of-type {\n",
       "        vertical-align: middle;\n",
       "    }\n",
       "\n",
       "    .dataframe tbody tr th {\n",
       "        vertical-align: top;\n",
       "    }\n",
       "\n",
       "    .dataframe thead th {\n",
       "        text-align: right;\n",
       "    }\n",
       "</style>\n",
       "<table border=\"1\" class=\"dataframe\">\n",
       "  <thead>\n",
       "    <tr style=\"text-align: right;\">\n",
       "      <th></th>\n",
       "      <th>marker_symbol</th>\n",
       "      <th>parameter_name</th>\n",
       "      <th>allele_name</th>\n",
       "      <th>marker_accession_id</th>\n",
       "      <th>mp_term_id</th>\n",
       "      <th>mp_term_name</th>\n",
       "      <th>top_level_mp_term_id</th>\n",
       "      <th>top_level_mp_term_name</th>\n",
       "      <th>allele_symbol</th>\n",
       "      <th>allele_accession_id</th>\n",
       "    </tr>\n",
       "  </thead>\n",
       "  <tbody>\n",
       "    <tr>\n",
       "      <th>23</th>\n",
       "      <td>Cd3eap</td>\n",
       "      <td>Limb Plate Morphology</td>\n",
       "      <td>tm1b(KOMP)Wtsi</td>\n",
       "      <td>MGI:1917583</td>\n",
       "      <td>MP:0004576</td>\n",
       "      <td>abnormal embryonic autopod plate morphology</td>\n",
       "      <td>MP:0005371</td>\n",
       "      <td>limbs/digits/tail phenotype</td>\n",
       "      <td>Cd3eap&lt;tm1b(KOMP)Wtsi&gt;</td>\n",
       "      <td>MGI:5692700</td>\n",
       "    </tr>\n",
       "    <tr>\n",
       "      <th>73</th>\n",
       "      <td>Pxdn</td>\n",
       "      <td>Whole arena average speed</td>\n",
       "      <td>em1(IMPC)J</td>\n",
       "      <td>MGI:1916925</td>\n",
       "      <td>MP:0003313</td>\n",
       "      <td>abnormal locomotor activation</td>\n",
       "      <td>MP:0005386</td>\n",
       "      <td>behavior/neurological phenotype</td>\n",
       "      <td>Pxdn&lt;em1(IMPC)J&gt;</td>\n",
       "      <td>MGI:5829376</td>\n",
       "    </tr>\n",
       "    <tr>\n",
       "      <th>110</th>\n",
       "      <td>Mkrn3</td>\n",
       "      <td>Fasted blood glucose concentration</td>\n",
       "      <td>em1(IMPC)Tcp</td>\n",
       "      <td>MGI:2181178</td>\n",
       "      <td>MP:0013277</td>\n",
       "      <td>abnormal fasting circulating glucose level</td>\n",
       "      <td>MP:0005376</td>\n",
       "      <td>homeostasis/metabolism phenotype</td>\n",
       "      <td>Mkrn3&lt;em1(IMPC)Tcp&gt;</td>\n",
       "      <td>MGI:6156558</td>\n",
       "    </tr>\n",
       "  </tbody>\n",
       "</table>\n",
       "</div>"
      ],
      "text/plain": [
       "    marker_symbol                      parameter_name     allele_name  \\\n",
       "23         Cd3eap               Limb Plate Morphology  tm1b(KOMP)Wtsi   \n",
       "73           Pxdn           Whole arena average speed      em1(IMPC)J   \n",
       "110         Mkrn3  Fasted blood glucose concentration    em1(IMPC)Tcp   \n",
       "\n",
       "    marker_accession_id  mp_term_id  \\\n",
       "23          MGI:1917583  MP:0004576   \n",
       "73          MGI:1916925  MP:0003313   \n",
       "110         MGI:2181178  MP:0013277   \n",
       "\n",
       "                                    mp_term_name top_level_mp_term_id  \\\n",
       "23   abnormal embryonic autopod plate morphology           MP:0005371   \n",
       "73                 abnormal locomotor activation           MP:0005386   \n",
       "110   abnormal fasting circulating glucose level           MP:0005376   \n",
       "\n",
       "               top_level_mp_term_name           allele_symbol  \\\n",
       "23        limbs/digits/tail phenotype  Cd3eap<tm1b(KOMP)Wtsi>   \n",
       "73    behavior/neurological phenotype        Pxdn<em1(IMPC)J>   \n",
       "110  homeostasis/metabolism phenotype     Mkrn3<em1(IMPC)Tcp>   \n",
       "\n",
       "    allele_accession_id  \n",
       "23          MGI:5692700  \n",
       "73          MGI:5829376  \n",
       "110         MGI:6156558  "
      ]
     },
     "execution_count": 14,
     "metadata": {},
     "output_type": "execute_result"
    }
   ],
   "source": [
    "stats_slct.dropna(inplace=True) \n",
    "print(stats_slct.shape)\n",
    "stats_slct.head(3)"
   ]
  },
  {
   "cell_type": "code",
   "execution_count": 15,
   "metadata": {},
   "outputs": [
    {
     "data": {
      "text/plain": [
       "(694,)"
      ]
     },
     "execution_count": 15,
     "metadata": {},
     "output_type": "execute_result"
    }
   ],
   "source": [
    "# There are only 694 unique MP terms in the statistical-results-ALL.csv dataset.\n",
    "stats_slct['mp_term_id'].unique().shape"
   ]
  },
  {
   "cell_type": "code",
   "execution_count": 16,
   "metadata": {},
   "outputs": [
    {
     "data": {
      "text/plain": [
       "[('MP:0003313', 2014),\n",
       " ('MP:0011100', 1790),\n",
       " ('MP:0001515', 698),\n",
       " ('MP:0011110', 663),\n",
       " ('MP:0001697', 651)]"
      ]
     },
     "execution_count": 16,
     "metadata": {},
     "output_type": "execute_result"
    }
   ],
   "source": [
    "# Lets see the most common MP terms in this dataset.\n",
    "Counter(stats_slct['mp_term_id'].values).most_common(5)"
   ]
  },
  {
   "cell_type": "code",
   "execution_count": 17,
   "metadata": {},
   "outputs": [
    {
     "name": "stdout",
     "output_type": "stream",
     "text": [
      "abnormal locomotor activation\n",
      "preweaning lethality, complete penetrance\n",
      "abnormal grip strength\n"
     ]
    }
   ],
   "source": [
    "# Top 3 most common MP terms\n",
    "print(stats_slct[stats_slct['mp_term_id'] == 'MP:0003313']['mp_term_name'].unique()[0])\n",
    "print(stats_slct[stats_slct['mp_term_id'] == 'MP:0011100']['mp_term_name'].unique()[0])\n",
    "print(stats_slct[stats_slct['mp_term_id'] == 'MP:0001515']['mp_term_name'].unique()[0])"
   ]
  },
  {
   "cell_type": "code",
   "execution_count": 18,
   "metadata": {},
   "outputs": [],
   "source": [
    "########## Can exclude the following code in the .py script ###########\n",
    "\n",
    "## Now lets compare the first genotype-phenotype IMPC dataset we looked at \n",
    "# (genotype-phenotype-assertions-ALL.csv) with genotype-phenotype datasets from \n",
    "# MGI from http://www.informatics.jax.org/downloads/reports/index.html#pheno\n",
    "# Lets look at the MGI Table 5 Dataset \n",
    "### All Genotypes and Mammalian Phenotype Annotations (tab-delimited)\n",
    "\n",
    "#if LOCAL_CPU: mgi_table5_extracted_geno_pheno_data = '/Users/stearb/dropbox/CHOP/R03/code/genotype_phenotype/geno2pheno_MGI_table5.csv'\n",
    "#else: mgi_table5_extracted_geno_pheno_data = data_dir+'geno2pheno_MGI_table5.csv'\n",
    "\n",
    "\n",
    "#mgi5 =pd.read_csv(mgi_table5_extracted_geno_pheno_data,sep='\\t',index_col=0)\n",
    "#print(mgi5.shape)\n",
    "#mgi5.head(3)  \n",
    "\n",
    "### Lets see the overlap in MP terms \n",
    "#### All of  the MP terms in the genotype-phenotype-assertions-ALL IMPC dataset are in the MGI Table 5 dataset.\n",
    "\n",
    "#print('Total unique MP terms in IMPC dataset: ' + str(len(df['mp_term_id'].unique())))\n",
    "#print('Total unique MP terms in MGI Table 5 dataset: ' + str(len(mgi5['Mammalian Phenotype ID'].unique())))\n",
    "#o = len(set(mgi5['Mammalian Phenotype ID']).intersection(set(df['mp_term_id'])))\n",
    "#print(f'Overlap in MP terms between the 2 datasets: {o}')\n",
    "\n",
    "\n",
    "#### Side Note: Most (97%; 5825/5966) of the genes in both datasets overlap, so we still might want to include data set in the master phenotype to genotype list to get those 3% of genes. \n",
    "#print('There are '+str(df['marker_symbol'].unique().shape[0])+' unique genes in the IMPC dataset.')\n",
    "#print('There are '+str(mgi5['Gene'].unique().shape[0])+ ' unique genes in the  MGI Table 5 dataset.')\n",
    "#g = len(set(mgi5['Gene']).intersection(set(df['marker_symbol'])))\n",
    "#print(f'Overlap in genes between the 2 datasets: {g}')\n",
    "\n",
    "\n",
    "### So, by including the MGI Table 5 dataset, we increase the number of MP terms (that are mapped to at least one gene) from 740 to 10,525. Lets see if there is more overlap between these MP terms and the MP terms that were cross-linked from HPO by Tiffany. This is where the bottleneck in the graph was when we were using just the 740 MP terms from the IMPC dataset.\n",
    "#if LOCAL_CPU: hpo2mp = pd.read_csv('/Users/stearb/dropbox/CHOP/R03/code/phenotype_mapping/tiffs_mappings_ravel.csv',index_col=0)\n",
    "#else: hpo2mp = pd.read_csv(helper_data_dir+'tiffs_mappings_ravel.csv',index_col=0)\n",
    "\n",
    "    \n",
    "#print(hpo2mp.shape)\n",
    "#hpo2mp.head(3)\n",
    "\n",
    "#len(set(hpo2mp['MPO_URI'].unique()).intersection(set(mgi5['Mammalian Phenotype ID'].unique())))\n",
    "# About 9x better coverage, there were only ~50 MP terms overlapping in Tiffanys dataset (hpo--mp mappings) and the MP terms in the genotype-phenotype-assertions-ALL.csv IMPC dataset. \n",
    "# By Including the MGI Table 5 dataset we increase our coverage to 436!  Meaning we have 436 (of the ~462 unique Kids First phenotypes) fully connected in our graph. Fully connected means we have HP--MP--Mouse_genes-Human_genes. The MP--Mouse_genes connections are what we are examining in this notebook. \n",
    "\n",
    "# Extract rows from Tiffs hpo-mp mapping file that overlap so we can see the names of the 276 MP terms.\n",
    "#overlapping_mp = hpo2mp[hpo2mp['MPO_URI'].isin(mgi5['Mammalian Phenotype ID'].unique())]\n",
    "#overlap = overlapping_mp.drop_duplicates(['MPO_URI'])\n",
    "#overlap.head(3)\n",
    "\n",
    "########## END of exclude ##########"
   ]
  },
  {
   "cell_type": "markdown",
   "metadata": {},
   "source": [
    "# Create a master list of MP--mouseGene relationships from the 2 IMPC datasets "
   ]
  },
  {
   "cell_type": "code",
   "execution_count": 19,
   "metadata": {},
   "outputs": [],
   "source": [
    "# Lets get the MP terms and the associated mouse genes from each of the 2 IMPC datasets. Add the MGI table 5 \n",
    "# data to the master MGI list\n",
    "\n",
    "# 1st IMPC dataset ( genotype-phenotype-assertions-ALL.csv)\n",
    "impc_1 = df[['mp_term_id','marker_symbol']]\n",
    "\n",
    "# 2nd IMPC dataset (statistical-resultsabs-ALL.csv)\n",
    "impc_2 = stats_slct[['mp_term_id','marker_symbol']].dropna() # There are only 34,434 rows here where mp_term_id is NOT NAN  \n",
    "\n",
    "# This is already included in the MGI master list, MGI Table 5 dataset\n",
    "#mgi_5 = mgi5[['Mammalian Phenotype ID','Gene']]"
   ]
  },
  {
   "cell_type": "code",
   "execution_count": 20,
   "metadata": {},
   "outputs": [],
   "source": [
    "# Rename the columns in each dataframe to 'MP_term'  and 'Gene'\n",
    "impc_1.columns = ['MP_term','Gene']\n",
    "impc_2.columns = ['MP_term','Gene']\n",
    "#mgi_5.columns = ['MP_term','Gene']\n",
    "\n",
    "# Rename the columns in each dataframe to 'MP_term'  and 'Gene'\n",
    "impc_1.columns = impc_2.columns = ['MP_term','Gene']"
   ]
  },
  {
   "cell_type": "code",
   "execution_count": 21,
   "metadata": {},
   "outputs": [
    {
     "data": {
      "text/plain": [
       "(92181, 2)"
      ]
     },
     "execution_count": 21,
     "metadata": {},
     "output_type": "execute_result"
    }
   ],
   "source": [
    "# Combine just impc_1 and impc_2\n",
    "# Dont include mgi_5 here, put it in the master_mgi list with mgi table 9 and 10.\n",
    "master_impc_list = pd.concat([impc_1,impc_2])#,mgi_5])\n",
    "master_impc_list.shape"
   ]
  },
  {
   "cell_type": "code",
   "execution_count": 22,
   "metadata": {},
   "outputs": [
    {
     "data": {
      "text/plain": [
       "(30757, 2)"
      ]
     },
     "execution_count": 22,
     "metadata": {},
     "output_type": "execute_result"
    }
   ],
   "source": [
    "# Only drop if the row is a duplicate of both MP term and gene \n",
    "master_impc_filt = master_impc_list.drop_duplicates() # .drop_duplicates(['MP_term','Gene'])  \n",
    "master_impc_filt.shape"
   ]
  },
  {
   "cell_type": "code",
   "execution_count": 23,
   "metadata": {},
   "outputs": [
    {
     "data": {
      "text/plain": [
       "MP_term     740\n",
       "Gene       5966\n",
       "dtype: int64"
      ]
     },
     "execution_count": 23,
     "metadata": {},
     "output_type": "execute_result"
    }
   ],
   "source": [
    "# How many unique mp terms and genes?\n",
    "master_impc_filt.nunique()"
   ]
  },
  {
   "cell_type": "code",
   "execution_count": null,
   "metadata": {},
   "outputs": [],
   "source": []
  },
  {
   "cell_type": "markdown",
   "metadata": {},
   "source": [
    "## Load MGI Datasets"
   ]
  },
  {
   "cell_type": "code",
   "execution_count": 24,
   "metadata": {},
   "outputs": [],
   "source": [
    "#if LOCAL_CPU:\n",
    "#    mgi_master_list = pd.read_csv('mgi_master_geno2pheno.csv') # this file is from the MGI.ipynb\n",
    "#else:\n",
    "#    mgi_master_list = pd.read_csv(data_dir+'mgi_master_geno2pheno.csv') # this file is from the MGI.ipynb\n",
    "#\n",
    "\n",
    "#print(mgi_master_list.shape)\n",
    "#mgi_master_list.columns = ['MP_term','Gene']\n",
    "#mgi_master_list.head(3)"
   ]
  },
  {
   "cell_type": "markdown",
   "metadata": {},
   "source": [
    "### Load in MGI Table 2"
   ]
  },
  {
   "cell_type": "code",
   "execution_count": 25,
   "metadata": {},
   "outputs": [
    {
     "data": {
      "text/plain": [
       "\"\\ntable_2 = 'http://www.informatics.jax.org/downloads/reports/HMD_HumanPhenotype.rpt'\\n\\ndf2=pd.read_csv(table_2,sep='\\t',header=None)\\n\\nnew_cols = ['Human Marker Symbol','Human Entrez Gene ID','Mouse Marker Symbol','MGI Marker Accession ID',\\n            'High-level Mammalian Phenotype ID (space-delimited)']\\n\\ndf2.drop(5,axis=1,inplace=True)\\ndf2.columns = new_cols\\n###########\\n\\n\\nprint(df2.shape)\\ndf2.head()\\n\\ndf2.dropna(inplace=True)\\n\\nmp_terms = df2['High-level Mammalian Phenotype ID (space-delimited)'].apply(lambda x: x.split(',')).values \\nflat_list = [item.strip() for sublist in mp_terms for item in sublist]\\ntable_2_mp_terms = pd.Series(flat_list) \\nlen(table_2_mp_terms.unique())\""
      ]
     },
     "execution_count": 25,
     "metadata": {},
     "output_type": "execute_result"
    }
   ],
   "source": [
    "### HMD_HumanPhenotype.rpt (Table 2.) \n",
    "#Mouse/Human Orthology with Phenotype Annotations (tab-delimited)  \n",
    "#Contains HumanGene, MouseGene,MP_terms\n",
    "'''\n",
    "table_2 = 'http://www.informatics.jax.org/downloads/reports/HMD_HumanPhenotype.rpt'\n",
    "\n",
    "df2=pd.read_csv(table_2,sep='\\t',header=None)\n",
    "\n",
    "new_cols = ['Human Marker Symbol','Human Entrez Gene ID','Mouse Marker Symbol','MGI Marker Accession ID',\n",
    "            'High-level Mammalian Phenotype ID (space-delimited)']\n",
    "\n",
    "df2.drop(5,axis=1,inplace=True)\n",
    "df2.columns = new_cols\n",
    "###########\n",
    "\n",
    "\n",
    "print(df2.shape)\n",
    "df2.head()\n",
    "\n",
    "df2.dropna(inplace=True)\n",
    "\n",
    "mp_terms = df2['High-level Mammalian Phenotype ID (space-delimited)'].apply(lambda x: x.split(',')).values \n",
    "flat_list = [item.strip() for sublist in mp_terms for item in sublist]\n",
    "table_2_mp_terms = pd.Series(flat_list) \n",
    "len(table_2_mp_terms.unique())'''"
   ]
  },
  {
   "cell_type": "markdown",
   "metadata": {},
   "source": [
    "### Load in MGI Table 5"
   ]
  },
  {
   "cell_type": "code",
   "execution_count": 26,
   "metadata": {},
   "outputs": [
    {
     "name": "stdout",
     "output_type": "stream",
     "text": [
      "This dataset has 10619 unique MP terms.\n",
      "This dataset has 24297 unique mouse genes.\n"
     ]
    },
    {
     "data": {
      "text/plain": [
       "(278411, 2)"
      ]
     },
     "execution_count": 26,
     "metadata": {},
     "output_type": "execute_result"
    }
   ],
   "source": [
    "### Table 5. All Genotypes and Mammalian Phenotype Annotations (tab-delimited)\n",
    "\n",
    "table_5 = 'http://www.informatics.jax.org/downloads/reports/MGI_PhenoGenoMP.rpt'\n",
    "\n",
    "df5=pd.read_csv(table_5,sep='\\t',header=None)\n",
    "\n",
    "df5.columns = ['Allelic Composition','Allele Symbol(s)','Genetic Background',\n",
    "                     'Mammalian Phenotype ID','PubMed ID',\n",
    "                     'MGI Marker Accession ID (comma-delimited)']\n",
    "\n",
    "\n",
    "# Extract gene name from Allele symbol\n",
    "df5['Gene'] = [ i.split('<')[0] for i in df5['Allele Symbol(s)']]\n",
    "\n",
    "unique_pheno_df5 = df5['Mammalian Phenotype ID'].nunique()\n",
    "print(f'This dataset has {unique_pheno_df5} unique MP terms.')\n",
    "\n",
    "unique_genes = df5['Gene'].nunique()\n",
    "print(f'This dataset has {unique_genes} unique mouse genes.')\n",
    "\n",
    "df5_ = df5[['Mammalian Phenotype ID','Gene']]\n",
    "df5_.shape\n",
    "\n",
    "# Drop duplicates (based on both rows)\n",
    "df5_dedup = df5_.drop_duplicates(['Mammalian Phenotype ID','Gene'])\n",
    "df5_dedup.shape\n",
    "\n",
    "#df5_dedup.to_csv('geno2pheno_MGI_table5.csv',sep='\\t')"
   ]
  },
  {
   "cell_type": "markdown",
   "metadata": {},
   "source": [
    "### Load in MGI Table 9"
   ]
  },
  {
   "cell_type": "code",
   "execution_count": 27,
   "metadata": {},
   "outputs": [
    {
     "name": "stdout",
     "output_type": "stream",
     "text": [
      "(251868, 8)\n",
      "10008 unique MP terms in Table 9\n"
     ]
    },
    {
     "data": {
      "text/plain": [
       "True"
      ]
     },
     "execution_count": 27,
     "metadata": {},
     "output_type": "execute_result"
    }
   ],
   "source": [
    "## Table 9. Genotypes and Mammalian Phenotype Annotations for Marker Type Genes excluding conditional mutations\n",
    "\n",
    "table_9 = 'http://www.informatics.jax.org/downloads/reports/MGI_GenePheno.rpt'\n",
    "\n",
    "df9=pd.read_csv(table_9,sep='\\t',header=None)\n",
    "\n",
    "df9.columns = ['Allelic Composition','Allele Symbol(s)','Allele IDs','Genetic Background','Mammalian Phenotype ID',\n",
    "              'PubMed ID', 'MGI Marker Accession ID','MGI Genotype Accession ID']\n",
    "print(df9.shape)\n",
    "df9.head()\n",
    "\n",
    "# Extract gene name from Allele symbol\n",
    "df9['Gene'] = [ i.split('<')[0] for i in df9['Allele Symbol(s)']]\n",
    "df9.shape\n",
    "\n",
    "df9_dedup = df9[['Mammalian Phenotype ID','Gene']].drop_duplicates(['Mammalian Phenotype ID','Gene'])\n",
    "df9_dedup.shape\n",
    "\n",
    "unique_mp_terms = len(df9['Mammalian Phenotype ID'].unique())\n",
    "print(f'{unique_mp_terms} unique MP terms in Table 9') \n",
    "\n",
    "# Lets see if there are any MP terms in Table 9 that werent in Table 5, do set.issubset\n",
    "set(df9['Mammalian Phenotype ID']).issubset(df5['Mammalian Phenotype ID'])\n",
    "\n",
    "\n",
    "# All mp terms in table 9 are in table 5"
   ]
  },
  {
   "cell_type": "markdown",
   "metadata": {},
   "source": [
    "### Load in MGI Table 10"
   ]
  },
  {
   "cell_type": "code",
   "execution_count": 28,
   "metadata": {},
   "outputs": [
    {
     "name": "stdout",
     "output_type": "stream",
     "text": [
      "(37078, 9)\n",
      "(37078, 10)\n"
     ]
    },
    {
     "data": {
      "text/plain": [
       "True"
      ]
     },
     "execution_count": 28,
     "metadata": {},
     "output_type": "execute_result"
    },
    {
     "data": {
      "image/png": "[encoded data removed]",
      "text/plain": [
       "<Figure size 864x288 with 1 Axes>"
      ]
     },
     "metadata": {
      "needs_background": "light"
     },
     "output_type": "display_data"
    }
   ],
   "source": [
    "## Table 10.Genotypes with both Phenotype and Disease Annotations for Marker Type Genes, excluding conditional mutations\n",
    "\n",
    "table10 = 'http://www.informatics.jax.org/downloads/reports/MGI_Geno_DiseaseDO.rpt'\n",
    "\n",
    "df10 = pd.read_csv(table10,sep='\\t')\n",
    "\n",
    "df10.columns = ['Allelic Composition','Allele Symbol(s)','Allele IDs','Genetic Background','Mammalian Phenotype ID',\n",
    "              'PubMed ID', 'MGI Marker Accession ID','DO ID','OMIM ID']\n",
    "print(df10.shape)\n",
    "df10.head(4)\n",
    "\n",
    "\n",
    "# Extract gene name from Allele symbol\n",
    "df10['Gene'] = [ i.split('<')[0] for i in df10['Allele Symbol(s)']]\n",
    "\n",
    "# See how many unique values we have per column\n",
    "df10.nunique().plot(kind='barh',grid=True,figsize=(12,4))\n",
    "\n",
    "\n",
    "print(df10.shape)\n",
    "df10_dedup = df10[['Mammalian Phenotype ID','Gene']].drop_duplicates(['Mammalian Phenotype ID','Gene'])\n",
    "df10_dedup.shape\n",
    "\n",
    "\n",
    "# See overlap in MP terms in Table 10 with Table 5\n",
    "set(df10['Mammalian Phenotype ID']).issubset(df5['Mammalian Phenotype ID'])\n",
    "\n",
    "# See overlap in MP terms in Table 10 with Table 5\n",
    "set(df10['Mammalian Phenotype ID']).issubset(df9['Mammalian Phenotype ID'])"
   ]
  },
  {
   "cell_type": "code",
   "execution_count": 29,
   "metadata": {},
   "outputs": [
    {
     "name": "stdout",
     "output_type": "stream",
     "text": [
      "(278411,)\n",
      "(278411,)\n",
      "----------\n",
      "(201282,)\n",
      "(201282,)\n",
      "----------\n",
      "(30493,)\n",
      "(30493,)\n"
     ]
    }
   ],
   "source": [
    "# Both Table 5 and Table 9 MP terms are supersets of Table 10's MP terms, so dont worry about Table 10 right now.\n",
    "\n",
    "### Lets join the mp term and gene columns together and see if there are any unique mappings in table 9 that arent in table 5 or table 10 or vica-versa \n",
    "\n",
    "df5_fused  = df5_dedup['Mammalian Phenotype ID'] +'_'+ df5_dedup['Gene']\n",
    "print(df5_fused.shape)\n",
    "print(df5_fused.drop_duplicates().shape);print('-'*10)\n",
    "\n",
    "df9_fused = df9_dedup['Mammalian Phenotype ID'] +'_'+ df9_dedup['Gene']\n",
    "print(df9_fused.shape)\n",
    "print(df9_fused.drop_duplicates().shape);print('-'*10)\n",
    "\n",
    "df10_fused = df10_dedup['Mammalian Phenotype ID'] +'_'+ df10_dedup['Gene']\n",
    "print(df10_fused.shape)\n",
    "print(df10_fused.drop_duplicates().shape)"
   ]
  },
  {
   "cell_type": "code",
   "execution_count": 30,
   "metadata": {},
   "outputs": [
    {
     "name": "stdout",
     "output_type": "stream",
     "text": [
      "278411\n",
      "201282\n",
      "30493\n"
     ]
    },
    {
     "data": {
      "text/plain": [
       "30280"
      ]
     },
     "execution_count": 30,
     "metadata": {},
     "output_type": "execute_result"
    }
   ],
   "source": [
    "# Now we have unique gene-phenotype 'mapping strings' for all 3 datasets\n",
    "df10_fused.head(3)\n",
    "\n",
    "print(len(df5_fused))\n",
    "print(len(df9_fused))\n",
    "print(len(df10_fused))\n",
    "\n",
    "# if all terms in df9 are in df5 then their intersection should be the length  of df9, which is 194,416\n",
    "len((set(df5_fused).intersection(set(df9_fused))))\n",
    "\n",
    "# Unique mp-gene mappings that dont overlap between df5 and df9\n",
    "194416 - 193126\n",
    "\n",
    "# if all terms in df9 are in df10 then their intersection should be the length  of df10, which is 30,175\n",
    "len((set(df5_fused).intersection(set(df10_fused))))\n",
    "\n",
    "30175 -  29928  # Unique mp-gene mappings that dont overlap between df5 and df10\n",
    "\n",
    "len((set(df9_fused).intersection(set(df10_fused))))\n",
    "\n",
    "# 3 way intersection\n",
    "len(set(df5_fused) & set(df9_fused) & set(df10_fused))"
   ]
  },
  {
   "cell_type": "markdown",
   "metadata": {},
   "source": [
    "### Create master MGI dataframe"
   ]
  },
  {
   "cell_type": "code",
   "execution_count": 31,
   "metadata": {
    "collapsed": true
   },
   "outputs": [
    {
     "name": "stdout",
     "output_type": "stream",
     "text": [
      "(510186, 2)\n",
      "241033\n",
      "(2209, 2)\n"
     ]
    },
    {
     "data": {
      "text/plain": [
       "array(['Ftl2-ps', 'H2-Aa', 'H2-Ab1', 'H2-D1', 'H2-DMa', 'H2-Eb1',\n",
       "       'H2-Eb2', 'H2-K', 'H2-K1', 'H2-M3', 'H2-M5', 'H2-Oa', 'H2-Ob',\n",
       "       'H2-Q10', 'H2-T23', 'H2-T24', 'H2-T3', 'Hba-a1', 'Hba-x', 'Hbb-ar',\n",
       "       'Hbb-b1', 'Hbb-b2', 'Hbb-bh1', 'Hbb-bh2', 'Idd16.1', 'Idd21.1',\n",
       "       'Idd21.2', 'Idd21.3', 'Idd4.3', 'Idd5.1', 'Idd5.2', 'Idd5.3',\n",
       "       'Idd5.4', 'Idd6.1', 'Idd6.2', 'Idd6.3', 'Idd9.1', 'Idd9.2',\n",
       "       'Idd9.3', 'Igh-7', 'Igh-8', 'Igh-J', 'Igh-V', 'Igk-Eik', 'Igk-J',\n",
       "       'Krtap17-1', 'Krtap8-1', 'M10.17.7Djba', 'M2.8.3Djba',\n",
       "       'M3.8.6Djba', 'M4.8.4Djba', 'M5.37.5Djba', 'M6.5.3Djba',\n",
       "       'M6.5.5Djba', 'M6.9.5Djba', 'Mir124a-1hg', 'Mir128-1', 'Mir128-2',\n",
       "       'Mir133a-1', 'Mir133a-2', 'Mir196a-1', 'Mir196a-2', 'Mir199a-2',\n",
       "       'Mir1a-1', 'Mir1a-2', 'Mir218-1', 'Mir24-2', 'Mir26a-1', 'Mir7-1',\n",
       "       'Mir9-2', 'Mir9-3', 'Mir92-1', 'Nkx1-1', 'Nkx2-1', 'Nkx2-2',\n",
       "       'Nkx2-3', 'Nkx2-5', 'Nkx2-6', 'Nkx2-9', 'Nkx3-1', 'Nkx3-2',\n",
       "       'Nkx6-1', 'Nkx6-2', 'Nkx6-3', 'Pbwg1.1', 'Pbwg1.2', 'Pbwg1.3',\n",
       "       'Pbwg1.4', 'Pbwg1.5', 'Pbwg1.6', 'Pbwg1.7', 'Pbwg1.8', 'Pbwg1.9',\n",
       "       'Penk-rs', 'Rnu2-8', 'Skts-fp3', 'Speer6-ps1', 'Tcra-J', 'Tcrd-V1',\n",
       "       'Tcrd-V5', 'Tex19.1', 'Tex19.2', 'Trbv13-2', 'Tspy-ps',\n",
       "       'b2b1117.1Clo', 'b2b1117.2Clo', 'b2b1163.2Clo', 'b2b1200.2Clo',\n",
       "       'b2b1291.2Clo', 'b2b1511.1Clo', 'b2b1511.2Clo', 'b2b1801.2Clo',\n",
       "       'b2b1879.2Clo', 'b2b2012.1Clo', 'b2b2012.2Clo', 'b2b2025.2Clo',\n",
       "       'b2b2110.1Clo', 'b2b2110.2Clo', 'b2b2153.1Clo', 'b2b2153.2Clo',\n",
       "       'b2b2187.2Clo', 'b2b227.2Clo', 'b2b2362.2Clo', 'b2b243.1Clo',\n",
       "       'b2b243.2Clo', 'b2b2696.1Clo', 'b2b2696.2Clo', 'b2b2736.2Clo',\n",
       "       'b2b3077.2Clo', 'b2b3121.2Clo', 'b2b3260.2Clo', 'b2b370.1Clo',\n",
       "       'b2b386.1Clo', 'b2b386.2Clo', 'b2b508.2Clo', 'b2b811.2Clo',\n",
       "       'b2b904.1Clo', 'b2b904.2Clo', 'd-100H', 'd-58H', 'e9.58a',\n",
       "       'e9.5a19c', 'm10.6.6Djba', 'm128-7Tpo', 'm174-16Tpo', 'm183-15Tpo',\n",
       "       'm2.10.5Djba', 'm2.8.6Djba', 'm251-2Tpo', 'm289-5Tpo',\n",
       "       'm5.27.7Djba', 'm6.11.6Djba', 'mei2-7', 'mt-Atp8', 'mt-Co1',\n",
       "       'mt-Nd2', 'mt-Nd6', 'mt-Rnr2', 'mt-Ta', 'mt-Tk', 'mt-Tr',\n",
       "       'n-TRtct5', 'n-TUtca2', 'p23-ST1'], dtype='<U12')"
      ]
     },
     "execution_count": 31,
     "metadata": {},
     "output_type": "execute_result"
    }
   ],
   "source": [
    "#### Create a master MGI gene-phenotype list\n",
    "\n",
    "master = pd.concat([df5_dedup,df9_dedup,df10_dedup])\n",
    "\n",
    "print(master.shape)\n",
    "master_dedup = master.drop_duplicates()\n",
    "\n",
    "master_dedup.shape\n",
    "\n",
    "master_dedup.sample(12)\n",
    "\n",
    "# Remove rows that contain anything but a single gene in the Gene column  \n",
    "# For example, some genes look like: Tg(Thy1-MAPT*)1Avil \n",
    "# Remove rows if gene contains '(' or ')' or an asterik,\n",
    "\n",
    "# Tg(Thy1-MAPT*)1Avil = transgene insertion 1, J Avila,  MGI ID: MGI:3813500\n",
    "\n",
    "m2 = master_dedup[~master_dedup[\"Gene\"].str.contains(pat='\\/|\\)|\\(|\\*',regex=True)] # \"[^a-zA-Z0-9 -]\"\n",
    "print(len(m2))\n",
    "\n",
    "\n",
    "#Now look at genes that look like Lta|Lta.  \n",
    "#Only keep them if genes on either side of '|' are the same\n",
    "\n",
    "# split up list inTO rows that contain '|' and rows that don't\n",
    "\n",
    "m2_bar = m2[m2['Gene'].str.contains('\\|')]\n",
    "m2_nobar = m2[~m2['Gene'].str.contains('\\|')]\n",
    "\n",
    "\n",
    "\n",
    "a = [i.split('|') for i in m2_bar['Gene']]\n",
    "\n",
    "bar_mask = []\n",
    "\n",
    "for i in a:\n",
    "    if i[0]==i[1]:\n",
    "        bar_mask.append(True)\n",
    "    else:\n",
    "        bar_mask.append(False)\n",
    "        \n",
    "        \n",
    "# Now we have just the rows where the gene is the same on either side on the bar. \n",
    "# I don't want gene values where the genes are different on either side of the bar \n",
    "# because I'm not sure what that means in reference to the allele?. Need to go back and check.\n",
    "m2_bar_fixed = m2_bar[bar_mask]\n",
    "\n",
    "m2_bar_fixed['Gene'] = [i.split('|')[0] for i in m2_bar_fixed['Gene']]\n",
    "\n",
    "print(m2_bar_fixed.shape)\n",
    "m2_bar_fixed.drop_duplicates().shape # No duplicates\n",
    "\n",
    "# Lets add it back to the master list that did not contain genes with bars\n",
    "MASTER_LIST_FIXED = pd.concat([m2_nobar,m2_bar_fixed])\n",
    "\n",
    "# Take a look at genes with non-alhpanumeric characters\n",
    "non_alphanum = [i for i in MASTER_LIST_FIXED['Gene'] if not i.isalnum()]\n",
    "np.unique(non_alphanum)"
   ]
  },
  {
   "cell_type": "code",
   "execution_count": 32,
   "metadata": {},
   "outputs": [],
   "source": [
    "MASTER_LIST_FIXED.rename(columns= {'Mammalian Phenotype ID' : 'MP_term'},inplace=True)"
   ]
  },
  {
   "cell_type": "code",
   "execution_count": 33,
   "metadata": {},
   "outputs": [
    {
     "data": {
      "text/plain": [
       "MP_term    10392\n",
       "Gene       17951\n",
       "dtype: int64"
      ]
     },
     "execution_count": 33,
     "metadata": {},
     "output_type": "execute_result"
    }
   ],
   "source": [
    "MASTER_LIST_FIXED.nunique()"
   ]
  },
  {
   "cell_type": "code",
   "execution_count": null,
   "metadata": {},
   "outputs": [],
   "source": []
  },
  {
   "cell_type": "code",
   "execution_count": 34,
   "metadata": {},
   "outputs": [
    {
     "name": "stdout",
     "output_type": "stream",
     "text": [
      "(271362, 2)\n"
     ]
    },
    {
     "data": {
      "text/html": [
       "<div>\n",
       "<style scoped>\n",
       "    .dataframe tbody tr th:only-of-type {\n",
       "        vertical-align: middle;\n",
       "    }\n",
       "\n",
       "    .dataframe tbody tr th {\n",
       "        vertical-align: top;\n",
       "    }\n",
       "\n",
       "    .dataframe thead th {\n",
       "        text-align: right;\n",
       "    }\n",
       "</style>\n",
       "<table border=\"1\" class=\"dataframe\">\n",
       "  <thead>\n",
       "    <tr style=\"text-align: right;\">\n",
       "      <th></th>\n",
       "      <th>MP_term</th>\n",
       "      <th>Gene</th>\n",
       "    </tr>\n",
       "  </thead>\n",
       "  <tbody>\n",
       "    <tr>\n",
       "      <th>0</th>\n",
       "      <td>MP:0001312</td>\n",
       "      <td>Gimap3</td>\n",
       "    </tr>\n",
       "    <tr>\n",
       "      <th>1</th>\n",
       "      <td>MP:0001697</td>\n",
       "      <td>Prss8</td>\n",
       "    </tr>\n",
       "    <tr>\n",
       "      <th>2</th>\n",
       "      <td>MP:0002059</td>\n",
       "      <td>Pstpip2</td>\n",
       "    </tr>\n",
       "  </tbody>\n",
       "</table>\n",
       "</div>"
      ],
      "text/plain": [
       "      MP_term     Gene\n",
       "0  MP:0001312   Gimap3\n",
       "1  MP:0001697    Prss8\n",
       "2  MP:0002059  Pstpip2"
      ]
     },
     "execution_count": 34,
     "metadata": {},
     "output_type": "execute_result"
    }
   ],
   "source": [
    "# Create the master genotype-phenotype (gene - phenotype term)\n",
    "MASTER_G2P = pd.concat([master_impc_filt,MASTER_LIST_FIXED])\n",
    "print(MASTER_G2P.shape)\n",
    "MASTER_G2P.head(3)"
   ]
  },
  {
   "cell_type": "code",
   "execution_count": 35,
   "metadata": {},
   "outputs": [
    {
     "name": "stdout",
     "output_type": "stream",
     "text": [
      "(253280, 2)\n"
     ]
    },
    {
     "data": {
      "text/plain": [
       "(253268, 2)"
      ]
     },
     "execution_count": 35,
     "metadata": {},
     "output_type": "execute_result"
    }
   ],
   "source": [
    "MASTER_G2P.drop_duplicates(inplace=True)\n",
    "print(MASTER_G2P.shape)\n",
    "\n",
    "# Before saving, check for the weird gene entries again (we already did for the MGI master list in MGI.ipynb)\n",
    "# ie. Tg(Thy1-MAPT*)1Avil, bc we are not including them right now\n",
    "MASTER_G2P_fixed = MASTER_G2P[~MASTER_G2P[\"Gene\"].str.contains(pat='\\/|\\)|\\(|\\*',regex=True)]\n",
    "MASTER_G2P_fixed.shape"
   ]
  },
  {
   "cell_type": "code",
   "execution_count": 36,
   "metadata": {},
   "outputs": [],
   "source": [
    "#MASTER_G2P_fixed.to_csv('mouse_genes2phenotype.csv',index=False)"
   ]
  },
  {
   "cell_type": "markdown",
   "metadata": {},
   "source": [
    "## Need to add CUIs, CODEs and  CodeIDs\n",
    "Just recreating the HCOP and MP CUIs and  CodeIDs here?"
   ]
  },
  {
   "cell_type": "markdown",
   "metadata": {},
   "source": [
    "Add CUIs, CODEs and CodeIDs for mouse genes"
   ]
  },
  {
   "cell_type": "code",
   "execution_count": 37,
   "metadata": {},
   "outputs": [],
   "source": [
    "MASTER_G2P_fixed['CODE_mouse_gene'] = ['HCOP:'+i for i in MASTER_G2P_fixed['Gene']]\n",
    "MASTER_G2P_fixed['CodeID_mouse_gene'] = ['HCOP '+i for i in MASTER_G2P_fixed['CODE_mouse_gene']]\n",
    "\n",
    "#CUI_LEN = 14\n",
    "#MASTER_G2P_fixed['CUI_mouse_gene']  = ['KC' + str(int(hashlib.sha256(uid.encode('utf8')).hexdigest(),\n",
    "#                                                      base=16))[:CUI_LEN] for uid in MASTER_G2P_fixed['Gene']]\n",
    "\n",
    "\n",
    "# THIS  SHOULD ACTUALLY BE CREATED FROM THE CODE ID not the 'Gene', like below\n",
    "# CUI_mouse_genes = CUIbase64(MASTER_G2P_fixed['Gene'])    \n",
    "\n",
    "MASTER_G2P_fixed['CUI_mouse_gene'] = CUIbase64(MASTER_G2P_fixed['CodeID_mouse_gene'])\n",
    "\n",
    "assert MASTER_G2P_fixed['CodeID_mouse_gene'].nunique()  ==  MASTER_G2P_fixed['CUI_mouse_gene'].nunique() \n",
    "assert MASTER_G2P_fixed['Gene'].nunique()  ==  MASTER_G2P_fixed['CODE_mouse_gene'].nunique()\n",
    "assert MASTER_G2P_fixed.isna().sum().sum() == 0"
   ]
  },
  {
   "cell_type": "markdown",
   "metadata": {},
   "source": [
    "Add CUIs, CODEs and CodeIDs for MP terms"
   ]
  },
  {
   "cell_type": "code",
   "execution_count": 38,
   "metadata": {},
   "outputs": [],
   "source": [
    "MASTER_G2P_fixed.rename(columns={'MP_term':'CODE_mp_term'},inplace=True)\n",
    "\n",
    "MASTER_G2P_fixed['CodeID_mp_term'] = ['MP '+i for i in MASTER_G2P_fixed['CODE_mp_term']]\n",
    "\n",
    "#MASTER_G2P_fixed['CUI_mp_term']  = ['KC' + str(int(hashlib.sha256(uid.encode('utf8')).hexdigest(),\n",
    "#                                                      base=16))[:CUI_LEN] for uid in MASTER_G2P_fixed['CODE_mp_term']]\n",
    "\n",
    "MASTER_G2P_fixed['CUI_mp_term'] = CUIbase64(MASTER_G2P_fixed['CodeID_mp_term'])\n",
    "\n",
    "\n",
    "assert MASTER_G2P_fixed['CodeID_mp_term'].nunique()  ==  MASTER_G2P_fixed['CUI_mp_term'].nunique()\n",
    "assert MASTER_G2P_fixed['CODE_mp_term'].nunique()  ==  MASTER_G2P_fixed['CodeID_mp_term'].nunique()"
   ]
  },
  {
   "cell_type": "markdown",
   "metadata": {},
   "source": [
    "### Save CUI-CUI, CODEs and CUI-CODE files."
   ]
  },
  {
   "cell_type": "markdown",
   "metadata": {},
   "source": [
    "Save CUIs"
   ]
  },
  {
   "cell_type": "code",
   "execution_count": 39,
   "metadata": {},
   "outputs": [],
   "source": [
    "# The two columns in the CUI-CUI data frame should be combined into a single CUIs file.\n",
    "CUIs = pd.DataFrame(MASTER_G2P_fixed['CUI_mouse_gene'].append(\n",
    "            MASTER_G2P_fixed['CUI_mp_term']).drop_duplicates(),columns=['CUI'])\n",
    "\n",
    "CUIs.to_pickle(output_dir+'genopheno/CUIs_genotype.pickle')"
   ]
  },
  {
   "cell_type": "markdown",
   "metadata": {},
   "source": [
    "Save CUI-CUIs\n",
    "\n",
    "What SAB for CUI-CUI relationships?  - IMPC  \n",
    "What relationship for gene -- phenotype?  - gene_associated_with_disease and disease_has_associated_gene"
   ]
  },
  {
   "cell_type": "code",
   "execution_count": 40,
   "metadata": {},
   "outputs": [],
   "source": [
    "# Connect CUIs\n",
    "CUI_CUI = MASTER_G2P_fixed[['CUI_mouse_gene','CUI_mp_term']].rename(columns={'CUI_mouse_gene':':START_ID',\n",
    "                                                                             'CUI_mp_term':':END_ID'})\n",
    "\n",
    "# Add relationship type and  sab to match format of umls CUI-CUI import file\n",
    "CUI_CUI[':TYPE'] = 'gene_associated_with_phenotype'\n",
    "\n",
    "# Add inverse relationship (phenotype to gene). Just reverse names of columns,  then concatenate \n",
    "CUI_CUI_inverse = MASTER_G2P_fixed[['CUI_mouse_gene','CUI_mp_term']].rename(columns={'CUI_mouse_gene':':END_ID',\n",
    "                                                                             'CUI_mp_term':':START_ID'})\n",
    "\n",
    "CUI_CUI_inverse[':TYPE'] = 'phenotype_has_associated_gene'\n",
    "\n",
    "CUI_CUI_all =  pd.concat([CUI_CUI,CUI_CUI_inverse])\n",
    "\n",
    "CUI_CUI_all['SAB'] = 'IMPC'\n",
    "\n",
    "CUI_CUI_all.to_pickle(output_dir+'genopheno/CUI_CUI_genotype.pickle')"
   ]
  },
  {
   "cell_type": "markdown",
   "metadata": {},
   "source": [
    "Save CODEs"
   ]
  },
  {
   "cell_type": "code",
   "execution_count": 41,
   "metadata": {},
   "outputs": [],
   "source": [
    "# Create MP Codes and create gene Codes \n",
    "# Combine these two files ^^^ to create just one CODEs file. (rename cols and add SAB)\n",
    "codes_mouse_genes = MASTER_G2P_fixed[['CodeID_mouse_gene','CODE_mouse_gene']]\n",
    "codes_mp_terms = MASTER_G2P_fixed[['CodeID_mp_term','CODE_mp_term']]\n",
    "codes_mouse_genes['SAB'] = 'HGNC_HCOP'\n",
    "codes_mp_terms['SAB']  = 'MP'\n",
    "\n",
    "CODEs = pd.DataFrame(np.concatenate([codes_mouse_genes.values,codes_mp_terms.values], axis=0),columns=['CodeID',\n",
    "                      'CODE','SAB'])\n",
    "\n",
    "CODEs = CODEs[['CodeID','SAB', 'CODE']] # Reorder\n",
    "\n",
    "CODES = CODEs.drop_duplicates(['CODE','CodeID'])\n",
    "\n",
    "CODES.to_pickle(output_dir+'genopheno/CODEs_genotype.pickle')"
   ]
  },
  {
   "cell_type": "markdown",
   "metadata": {},
   "source": [
    "Save CUI-CODEs"
   ]
  },
  {
   "cell_type": "code",
   "execution_count": 42,
   "metadata": {},
   "outputs": [],
   "source": [
    "# Connect MP Concept to Codes and Connect mouse gene Concepts to CODEs\n",
    "# Combine these two files ^^^ to create just one CUI-CODEs file. \n",
    "code_cui_genes = MASTER_G2P_fixed[['CUI_mouse_gene','CodeID_mouse_gene']]\n",
    "code_cui_mp = MASTER_G2P_fixed[['CUI_mp_term','CodeID_mp_term']]\n",
    "\n",
    "CUI_CODEs = pd.DataFrame(np.concatenate([code_cui_genes.values,code_cui_mp.values]),\n",
    "             columns=['CUI','CODE']).drop_duplicates(['CODE','CUI'])\n",
    "\n",
    "CUI_CODEs.to_pickle(output_dir+'genopheno/CUI_CODE_genotype.pickle')"
   ]
  },
  {
   "cell_type": "markdown",
   "metadata": {},
   "source": [
    "### Save whole df so we can check that there are no collisions with these CUIs and CUIs from the other steps"
   ]
  },
  {
   "cell_type": "code",
   "execution_count": 9,
   "metadata": {},
   "outputs": [],
   "source": [
    "#MASTER_G2P_fixed.to_csv('/Users/stearb/desktop/R03_local/data/UI_check/MASTER_G2P.csv',index=False)"
   ]
  },
  {
   "cell_type": "code",
   "execution_count": null,
   "metadata": {},
   "outputs": [],
   "source": []
  },
  {
   "cell_type": "code",
   "execution_count": null,
   "metadata": {},
   "outputs": [],
   "source": []
  },
  {
   "cell_type": "code",
   "execution_count": null,
   "metadata": {},
   "outputs": [],
   "source": []
  },
  {
   "cell_type": "code",
   "execution_count": null,
   "metadata": {},
   "outputs": [],
   "source": []
  },
  {
   "cell_type": "code",
   "execution_count": null,
   "metadata": {},
   "outputs": [],
   "source": []
  },
  {
   "cell_type": "code",
   "execution_count": null,
   "metadata": {},
   "outputs": [],
   "source": []
  },
  {
   "cell_type": "code",
   "execution_count": null,
   "metadata": {},
   "outputs": [],
   "source": []
  },
  {
   "cell_type": "markdown",
   "metadata": {},
   "source": [
    "### Extra Code"
   ]
  },
  {
   "cell_type": "markdown",
   "metadata": {},
   "source": [
    "#### After adding MGI Tables 5, 9 and 10 mappings we increased the number of unique mp terms and genes greatly.\n",
    "####  Although the number of mp-hp mappings we gain is only 2. Maybe add tables 5,9,10 when we have more complete mp-hp mappings "
   ]
  },
  {
   "cell_type": "code",
   "execution_count": 44,
   "metadata": {},
   "outputs": [
    {
     "name": "stdout",
     "output_type": "stream",
     "text": [
      "\n",
      "---- IMPC and MGI (Tables 5,9 and 10) data -----\n",
      "CODE_mp_term         10297\n",
      "Gene                 17391\n",
      "CODE_mouse_gene      17391\n",
      "CodeID_mouse_gene    17391\n",
      "CUI_mouse_gene       17391\n",
      "CodeID_mp_term       10297\n",
      "CUI_mp_term          10297\n",
      "dtype: int64\n",
      "\n",
      "---- IMPC data only -----\n",
      "MP_term     740\n",
      "Gene       5966\n",
      "dtype: int64\n"
     ]
    }
   ],
   "source": [
    "print('\\n---- IMPC and MGI (Tables 5,9 and 10) data -----')\n",
    "print(MASTER_G2P_fixed.nunique())\n",
    "print('\\n---- IMPC data only -----')\n",
    "print(master_impc_filt.nunique())"
   ]
  },
  {
   "cell_type": "markdown",
   "metadata": {},
   "source": [
    "### Lets see if we have anymore coverage with Tiffanys mp-hp mappings"
   ]
  },
  {
   "cell_type": "code",
   "execution_count": 45,
   "metadata": {
    "collapsed": true
   },
   "outputs": [
    {
     "ename": "KeyError",
     "evalue": "'MP_term'",
     "output_type": "error",
     "traceback": [
      "\u001b[0;31m---------------------------------------------------------------------------\u001b[0m",
      "\u001b[0;31mKeyError\u001b[0m                                  Traceback (most recent call last)",
      "\u001b[0;32m~/opt/anaconda3/lib/python3.7/site-packages/pandas/core/indexes/base.py\u001b[0m in \u001b[0;36mget_loc\u001b[0;34m(self, key, method, tolerance)\u001b[0m\n\u001b[1;32m   2645\u001b[0m             \u001b[0;32mtry\u001b[0m\u001b[0;34m:\u001b[0m\u001b[0;34m\u001b[0m\u001b[0;34m\u001b[0m\u001b[0m\n\u001b[0;32m-> 2646\u001b[0;31m                 \u001b[0;32mreturn\u001b[0m \u001b[0mself\u001b[0m\u001b[0;34m.\u001b[0m\u001b[0m_engine\u001b[0m\u001b[0;34m.\u001b[0m\u001b[0mget_loc\u001b[0m\u001b[0;34m(\u001b[0m\u001b[0mkey\u001b[0m\u001b[0;34m)\u001b[0m\u001b[0;34m\u001b[0m\u001b[0;34m\u001b[0m\u001b[0m\n\u001b[0m\u001b[1;32m   2647\u001b[0m             \u001b[0;32mexcept\u001b[0m \u001b[0mKeyError\u001b[0m\u001b[0;34m:\u001b[0m\u001b[0;34m\u001b[0m\u001b[0;34m\u001b[0m\u001b[0m\n",
      "\u001b[0;32mpandas/_libs/index.pyx\u001b[0m in \u001b[0;36mpandas._libs.index.IndexEngine.get_loc\u001b[0;34m()\u001b[0m\n",
      "\u001b[0;32mpandas/_libs/index.pyx\u001b[0m in \u001b[0;36mpandas._libs.index.IndexEngine.get_loc\u001b[0;34m()\u001b[0m\n",
      "\u001b[0;32mpandas/_libs/hashtable_class_helper.pxi\u001b[0m in \u001b[0;36mpandas._libs.hashtable.PyObjectHashTable.get_item\u001b[0;34m()\u001b[0m\n",
      "\u001b[0;32mpandas/_libs/hashtable_class_helper.pxi\u001b[0m in \u001b[0;36mpandas._libs.hashtable.PyObjectHashTable.get_item\u001b[0;34m()\u001b[0m\n",
      "\u001b[0;31mKeyError\u001b[0m: 'MP_term'",
      "\nDuring handling of the above exception, another exception occurred:\n",
      "\u001b[0;31mKeyError\u001b[0m                                  Traceback (most recent call last)",
      "\u001b[0;32m<ipython-input-45-a333be6c85ae>\u001b[0m in \u001b[0;36m<module>\u001b[0;34m\u001b[0m\n\u001b[1;32m      1\u001b[0m len(set(hpo2mp['MPO_URI'].values).intersection(\n\u001b[0;32m----> 2\u001b[0;31m                                 set(MASTER_G2P_fixed['MP_term'].values)))\n\u001b[0m",
      "\u001b[0;32m~/opt/anaconda3/lib/python3.7/site-packages/pandas/core/frame.py\u001b[0m in \u001b[0;36m__getitem__\u001b[0;34m(self, key)\u001b[0m\n\u001b[1;32m   2798\u001b[0m             \u001b[0;32mif\u001b[0m \u001b[0mself\u001b[0m\u001b[0;34m.\u001b[0m\u001b[0mcolumns\u001b[0m\u001b[0;34m.\u001b[0m\u001b[0mnlevels\u001b[0m \u001b[0;34m>\u001b[0m \u001b[0;36m1\u001b[0m\u001b[0;34m:\u001b[0m\u001b[0;34m\u001b[0m\u001b[0;34m\u001b[0m\u001b[0m\n\u001b[1;32m   2799\u001b[0m                 \u001b[0;32mreturn\u001b[0m \u001b[0mself\u001b[0m\u001b[0;34m.\u001b[0m\u001b[0m_getitem_multilevel\u001b[0m\u001b[0;34m(\u001b[0m\u001b[0mkey\u001b[0m\u001b[0;34m)\u001b[0m\u001b[0;34m\u001b[0m\u001b[0;34m\u001b[0m\u001b[0m\n\u001b[0;32m-> 2800\u001b[0;31m             \u001b[0mindexer\u001b[0m \u001b[0;34m=\u001b[0m \u001b[0mself\u001b[0m\u001b[0;34m.\u001b[0m\u001b[0mcolumns\u001b[0m\u001b[0;34m.\u001b[0m\u001b[0mget_loc\u001b[0m\u001b[0;34m(\u001b[0m\u001b[0mkey\u001b[0m\u001b[0;34m)\u001b[0m\u001b[0;34m\u001b[0m\u001b[0;34m\u001b[0m\u001b[0m\n\u001b[0m\u001b[1;32m   2801\u001b[0m             \u001b[0;32mif\u001b[0m \u001b[0mis_integer\u001b[0m\u001b[0;34m(\u001b[0m\u001b[0mindexer\u001b[0m\u001b[0;34m)\u001b[0m\u001b[0;34m:\u001b[0m\u001b[0;34m\u001b[0m\u001b[0;34m\u001b[0m\u001b[0m\n\u001b[1;32m   2802\u001b[0m                 \u001b[0mindexer\u001b[0m \u001b[0;34m=\u001b[0m \u001b[0;34m[\u001b[0m\u001b[0mindexer\u001b[0m\u001b[0;34m]\u001b[0m\u001b[0;34m\u001b[0m\u001b[0;34m\u001b[0m\u001b[0m\n",
      "\u001b[0;32m~/opt/anaconda3/lib/python3.7/site-packages/pandas/core/indexes/base.py\u001b[0m in \u001b[0;36mget_loc\u001b[0;34m(self, key, method, tolerance)\u001b[0m\n\u001b[1;32m   2646\u001b[0m                 \u001b[0;32mreturn\u001b[0m \u001b[0mself\u001b[0m\u001b[0;34m.\u001b[0m\u001b[0m_engine\u001b[0m\u001b[0;34m.\u001b[0m\u001b[0mget_loc\u001b[0m\u001b[0;34m(\u001b[0m\u001b[0mkey\u001b[0m\u001b[0;34m)\u001b[0m\u001b[0;34m\u001b[0m\u001b[0;34m\u001b[0m\u001b[0m\n\u001b[1;32m   2647\u001b[0m             \u001b[0;32mexcept\u001b[0m \u001b[0mKeyError\u001b[0m\u001b[0;34m:\u001b[0m\u001b[0;34m\u001b[0m\u001b[0;34m\u001b[0m\u001b[0m\n\u001b[0;32m-> 2648\u001b[0;31m                 \u001b[0;32mreturn\u001b[0m \u001b[0mself\u001b[0m\u001b[0;34m.\u001b[0m\u001b[0m_engine\u001b[0m\u001b[0;34m.\u001b[0m\u001b[0mget_loc\u001b[0m\u001b[0;34m(\u001b[0m\u001b[0mself\u001b[0m\u001b[0;34m.\u001b[0m\u001b[0m_maybe_cast_indexer\u001b[0m\u001b[0;34m(\u001b[0m\u001b[0mkey\u001b[0m\u001b[0;34m)\u001b[0m\u001b[0;34m)\u001b[0m\u001b[0;34m\u001b[0m\u001b[0;34m\u001b[0m\u001b[0m\n\u001b[0m\u001b[1;32m   2649\u001b[0m         \u001b[0mindexer\u001b[0m \u001b[0;34m=\u001b[0m \u001b[0mself\u001b[0m\u001b[0;34m.\u001b[0m\u001b[0mget_indexer\u001b[0m\u001b[0;34m(\u001b[0m\u001b[0;34m[\u001b[0m\u001b[0mkey\u001b[0m\u001b[0;34m]\u001b[0m\u001b[0;34m,\u001b[0m \u001b[0mmethod\u001b[0m\u001b[0;34m=\u001b[0m\u001b[0mmethod\u001b[0m\u001b[0;34m,\u001b[0m \u001b[0mtolerance\u001b[0m\u001b[0;34m=\u001b[0m\u001b[0mtolerance\u001b[0m\u001b[0;34m)\u001b[0m\u001b[0;34m\u001b[0m\u001b[0;34m\u001b[0m\u001b[0m\n\u001b[1;32m   2650\u001b[0m         \u001b[0;32mif\u001b[0m \u001b[0mindexer\u001b[0m\u001b[0;34m.\u001b[0m\u001b[0mndim\u001b[0m \u001b[0;34m>\u001b[0m \u001b[0;36m1\u001b[0m \u001b[0;32mor\u001b[0m \u001b[0mindexer\u001b[0m\u001b[0;34m.\u001b[0m\u001b[0msize\u001b[0m \u001b[0;34m>\u001b[0m \u001b[0;36m1\u001b[0m\u001b[0;34m:\u001b[0m\u001b[0;34m\u001b[0m\u001b[0;34m\u001b[0m\u001b[0m\n",
      "\u001b[0;32mpandas/_libs/index.pyx\u001b[0m in \u001b[0;36mpandas._libs.index.IndexEngine.get_loc\u001b[0;34m()\u001b[0m\n",
      "\u001b[0;32mpandas/_libs/index.pyx\u001b[0m in \u001b[0;36mpandas._libs.index.IndexEngine.get_loc\u001b[0;34m()\u001b[0m\n",
      "\u001b[0;32mpandas/_libs/hashtable_class_helper.pxi\u001b[0m in \u001b[0;36mpandas._libs.hashtable.PyObjectHashTable.get_item\u001b[0;34m()\u001b[0m\n",
      "\u001b[0;32mpandas/_libs/hashtable_class_helper.pxi\u001b[0m in \u001b[0;36mpandas._libs.hashtable.PyObjectHashTable.get_item\u001b[0;34m()\u001b[0m\n",
      "\u001b[0;31mKeyError\u001b[0m: 'MP_term'"
     ]
    }
   ],
   "source": [
    "len(set(hpo2mp['MPO_URI'].values).intersection(\n",
    "                                set(MASTER_G2P_fixed['MP_term'].values)))"
   ]
  },
  {
   "cell_type": "code",
   "execution_count": 46,
   "metadata": {},
   "outputs": [
    {
     "data": {
      "text/plain": [
       "(462,)"
      ]
     },
     "execution_count": 46,
     "metadata": {},
     "output_type": "execute_result"
    }
   ],
   "source": [
    "hpo2mp['MPO_URI'].unique().shape"
   ]
  },
  {
   "cell_type": "code",
   "execution_count": 47,
   "metadata": {},
   "outputs": [
    {
     "data": {
      "text/plain": [
       "[]"
      ]
     },
     "execution_count": 47,
     "metadata": {},
     "output_type": "execute_result"
    }
   ],
   "source": [
    "[i for i in hpo2mp['MPO_URI'].unique() if ':' not in i]"
   ]
  },
  {
   "cell_type": "code",
   "execution_count": 101,
   "metadata": {},
   "outputs": [
    {
     "data": {
      "text/plain": [
       "429"
      ]
     },
     "execution_count": 101,
     "metadata": {},
     "output_type": "execute_result"
    }
   ],
   "source": [
    "both = []\n",
    "\n",
    "for i in hpo2mp['MPO_URI'].unique():\n",
    "    if i in MASTER_G2P_fixed['MP_term'].unique():\n",
    "        both.append(i)\n",
    "\n",
    "len(both)"
   ]
  },
  {
   "cell_type": "markdown",
   "metadata": {},
   "source": [
    "Not really...only 2 more"
   ]
  },
  {
   "cell_type": "code",
   "execution_count": 117,
   "metadata": {},
   "outputs": [
    {
     "data": {
      "text/plain": [
       "(234054, 2)"
      ]
     },
     "execution_count": 117,
     "metadata": {},
     "output_type": "execute_result"
    }
   ],
   "source": [
    "MASTER_G2P_fixed['Gene'].isna().sum()"
   ]
  },
  {
   "cell_type": "code",
   "execution_count": null,
   "metadata": {},
   "outputs": [],
   "source": []
  },
  {
   "cell_type": "code",
   "execution_count": null,
   "metadata": {},
   "outputs": [],
   "source": [
    "x=dict(Counter(df['marker_symbol'].values))\n",
    "\n",
    "allele_freq = {k: v for k, v in sorted(x.items(), key=lambda item: item[1], reverse=True)}\n",
    "\n",
    "n=16\n",
    "keys = list(allele_freq.keys())[:n]\n",
    "values = list(allele_freq.values())[:n]\n",
    "plt.figure(figsize=(10,4))\n",
    "plt.bar(keys, values)\n",
    "plt.xticks(fontsize=15,rotation=40)\n",
    "plt.grid(alpha=.3)\n",
    "plt.title('Genes with the most Allele Entries in IMPC')"
   ]
  },
  {
   "cell_type": "code",
   "execution_count": null,
   "metadata": {},
   "outputs": [],
   "source": [
    "#### Use Regex to search for specific phenotype groups so we can see which phenotypes we have\n",
    "HEART_QUERY = 'heart|cardiac'\n",
    "KIDNEY_QUERY = 'kidney'\n",
    "BRAIN_QUERY = 'brain|nervous'\n",
    "STRUCTURAL_QUERY = 'structural'\n",
    "CANCER_QUERY = 'cancer|neoplasm|neoplasia'\n",
    "BONE_QUERY = 'bone'\n",
    "LUNG_QUERY = 'lung|pulmonary'\n",
    "DEVELOPMENT_QUERY = 'development|embryo|gestation|fetus|fetal'\n",
    "\n",
    "heart_mask = pd.DataFrame(overlap['MPO_LABEL']).apply(lambda x: x.str.contains(HEART_QUERY,regex=True,flags=re.IGNORECASE)).any(axis=1)\n",
    "kidney_mask = pd.DataFrame(overlap['MPO_LABEL']).apply(lambda x: x.str.contains(KIDNEY_QUERY,regex=True,flags=re.IGNORECASE)).any(axis=1)\n",
    "brain_mask = pd.DataFrame(overlap['MPO_LABEL']).apply(lambda x: x.str.contains(BRAIN_QUERY,regex=True,flags=re.IGNORECASE)).any(axis=1)\n",
    "struct_mask = pd.DataFrame(overlap['MPO_LABEL']).apply(lambda x: x.str.contains(STRUCTURAL_QUERY,regex=True,flags=re.IGNORECASE)).any(axis=1)\n",
    "cancer_mask = pd.DataFrame(overlap['MPO_LABEL']).apply(lambda x: x.str.contains(CANCER_QUERY,regex=True,flags=re.IGNORECASE)).any(axis=1)\n",
    "bone_mask = pd.DataFrame(overlap['MPO_LABEL']).apply(lambda x: x.str.contains(BONE_QUERY,regex=True,flags=re.IGNORECASE)).any(axis=1)\n",
    "lung_mask = pd.DataFrame(overlap['MPO_LABEL']).apply(lambda x: x.str.contains(LUNG_QUERY,regex=True,flags=re.IGNORECASE)).any(axis=1)\n",
    "dev_mask =  pd.DataFrame(overlap['MPO_LABEL']).apply(lambda x: x.str.contains(DEVELOPMENT_QUERY,regex=True,flags=re.IGNORECASE)).any(axis=1)\n",
    "\n",
    "#list(overlap['MPO_LABEL'][heart_mask])\n",
    "#list(overlap['MPO_LABEL'][kidney_mask])\n",
    "#list(overlap['MPO_LABEL'][brain_mask])\n",
    "\n"
   ]
  }
 ],
 "metadata": {
  "kernelspec": {
   "display_name": "Python 3",
   "language": "python",
   "name": "python3"
  },
  "language_info": {
   "codemirror_mode": {
    "name": "ipython",
    "version": 3
   },
   "file_extension": ".py",
   "mimetype": "text/x-python",
   "name": "python",
   "nbconvert_exporter": "python",
   "pygments_lexer": "ipython3",
   "version": "3.7.4"
  }
 },
 "nbformat": 4,
 "nbformat_minor": 2
}
