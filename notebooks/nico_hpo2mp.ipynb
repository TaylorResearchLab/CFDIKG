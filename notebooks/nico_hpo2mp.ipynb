{
 "cells": [
  {
   "cell_type": "code",
   "execution_count": 1,
   "metadata": {},
   "outputs": [],
   "source": [
    "import pandas as pd\n",
    "import numpy as np\n",
    "pd.options.display.max_columns = None"
   ]
  },
  {
   "cell_type": "code",
   "execution_count": 2,
   "metadata": {},
   "outputs": [],
   "source": [
    "hpo_mp  = pd.read_csv('/Users/stearb/downloads/upheno_mapping_all.csv').drop('cat',axis=1)"
   ]
  },
  {
   "cell_type": "code",
   "execution_count": 3,
   "metadata": {},
   "outputs": [
    {
     "data": {
      "text/html": [
       "<div>\n",
       "<style scoped>\n",
       "    .dataframe tbody tr th:only-of-type {\n",
       "        vertical-align: middle;\n",
       "    }\n",
       "\n",
       "    .dataframe tbody tr th {\n",
       "        vertical-align: top;\n",
       "    }\n",
       "\n",
       "    .dataframe thead th {\n",
       "        text-align: right;\n",
       "    }\n",
       "</style>\n",
       "<table border=\"1\" class=\"dataframe\">\n",
       "  <thead>\n",
       "    <tr style=\"text-align: right;\">\n",
       "      <th></th>\n",
       "      <th>p1</th>\n",
       "      <th>p2</th>\n",
       "      <th>label_x</th>\n",
       "      <th>label_y</th>\n",
       "    </tr>\n",
       "  </thead>\n",
       "  <tbody>\n",
       "    <tr>\n",
       "      <th>0</th>\n",
       "      <td>http://purl.obolibrary.org/obo/HP_0000347</td>\n",
       "      <td>http://purl.obolibrary.org/obo/MP_0002639</td>\n",
       "      <td>Micrognathia (HPO)</td>\n",
       "      <td>micrognathia (MPO)</td>\n",
       "    </tr>\n",
       "    <tr>\n",
       "      <th>1</th>\n",
       "      <td>http://purl.obolibrary.org/obo/MP_0002639</td>\n",
       "      <td>http://purl.obolibrary.org/obo/HP_0000347</td>\n",
       "      <td>micrognathia (MPO)</td>\n",
       "      <td>Micrognathia (HPO)</td>\n",
       "    </tr>\n",
       "    <tr>\n",
       "      <th>2</th>\n",
       "      <td>http://purl.obolibrary.org/obo/HP_0000347</td>\n",
       "      <td>http://purl.obolibrary.org/obo/MP_0004592</td>\n",
       "      <td>Micrognathia (HPO)</td>\n",
       "      <td>small mandible (MPO)</td>\n",
       "    </tr>\n",
       "    <tr>\n",
       "      <th>3</th>\n",
       "      <td>http://purl.obolibrary.org/obo/MP_0004592</td>\n",
       "      <td>http://purl.obolibrary.org/obo/HP_0000347</td>\n",
       "      <td>small mandible (MPO)</td>\n",
       "      <td>Micrognathia (HPO)</td>\n",
       "    </tr>\n",
       "    <tr>\n",
       "      <th>4</th>\n",
       "      <td>http://purl.obolibrary.org/obo/MP_0004540</td>\n",
       "      <td>http://purl.obolibrary.org/obo/HP_0000327</td>\n",
       "      <td>small maxilla (MPO)</td>\n",
       "      <td>Hypoplasia of the maxilla (HPO)</td>\n",
       "    </tr>\n",
       "  </tbody>\n",
       "</table>\n",
       "</div>"
      ],
      "text/plain": [
       "                                          p1  \\\n",
       "0  http://purl.obolibrary.org/obo/HP_0000347   \n",
       "1  http://purl.obolibrary.org/obo/MP_0002639   \n",
       "2  http://purl.obolibrary.org/obo/HP_0000347   \n",
       "3  http://purl.obolibrary.org/obo/MP_0004592   \n",
       "4  http://purl.obolibrary.org/obo/MP_0004540   \n",
       "\n",
       "                                          p2               label_x  \\\n",
       "0  http://purl.obolibrary.org/obo/MP_0002639    Micrognathia (HPO)   \n",
       "1  http://purl.obolibrary.org/obo/HP_0000347    micrognathia (MPO)   \n",
       "2  http://purl.obolibrary.org/obo/MP_0004592    Micrognathia (HPO)   \n",
       "3  http://purl.obolibrary.org/obo/HP_0000347  small mandible (MPO)   \n",
       "4  http://purl.obolibrary.org/obo/HP_0000327   small maxilla (MPO)   \n",
       "\n",
       "                           label_y  \n",
       "0               micrognathia (MPO)  \n",
       "1               Micrognathia (HPO)  \n",
       "2             small mandible (MPO)  \n",
       "3               Micrognathia (HPO)  \n",
       "4  Hypoplasia of the maxilla (HPO)  "
      ]
     },
     "execution_count": 3,
     "metadata": {},
     "output_type": "execute_result"
    }
   ],
   "source": [
    "hpo_mp.head()  # includes FB (flybase) and ZP (zebrafish) terms, and a few other ontologies..."
   ]
  },
  {
   "cell_type": "code",
   "execution_count": 4,
   "metadata": {},
   "outputs": [
    {
     "data": {
      "text/plain": [
       "True"
      ]
     },
     "execution_count": 4,
     "metadata": {},
     "output_type": "execute_result"
    }
   ],
   "source": [
    "hpo_mp['label_x'].unique().shape == hpo_mp['label_y'].unique().shape"
   ]
  },
  {
   "cell_type": "code",
   "execution_count": 5,
   "metadata": {},
   "outputs": [
    {
     "data": {
      "text/html": [
       "<div>\n",
       "<style scoped>\n",
       "    .dataframe tbody tr th:only-of-type {\n",
       "        vertical-align: middle;\n",
       "    }\n",
       "\n",
       "    .dataframe tbody tr th {\n",
       "        vertical-align: top;\n",
       "    }\n",
       "\n",
       "    .dataframe thead th {\n",
       "        text-align: right;\n",
       "    }\n",
       "</style>\n",
       "<table border=\"1\" class=\"dataframe\">\n",
       "  <thead>\n",
       "    <tr style=\"text-align: right;\">\n",
       "      <th></th>\n",
       "      <th>p1</th>\n",
       "      <th>p2</th>\n",
       "      <th>label_x</th>\n",
       "      <th>label_y</th>\n",
       "      <th>p1_TERM</th>\n",
       "      <th>p2_TERM</th>\n",
       "    </tr>\n",
       "  </thead>\n",
       "  <tbody>\n",
       "    <tr>\n",
       "      <th>0</th>\n",
       "      <td>http://purl.obolibrary.org/obo/HP_0000347</td>\n",
       "      <td>http://purl.obolibrary.org/obo/MP_0002639</td>\n",
       "      <td>Micrognathia (HPO)</td>\n",
       "      <td>micrognathia (MPO)</td>\n",
       "      <td>HP_0000347</td>\n",
       "      <td>MP_0002639</td>\n",
       "    </tr>\n",
       "    <tr>\n",
       "      <th>1</th>\n",
       "      <td>http://purl.obolibrary.org/obo/MP_0002639</td>\n",
       "      <td>http://purl.obolibrary.org/obo/HP_0000347</td>\n",
       "      <td>micrognathia (MPO)</td>\n",
       "      <td>Micrognathia (HPO)</td>\n",
       "      <td>MP_0002639</td>\n",
       "      <td>HP_0000347</td>\n",
       "    </tr>\n",
       "    <tr>\n",
       "      <th>2</th>\n",
       "      <td>http://purl.obolibrary.org/obo/HP_0000347</td>\n",
       "      <td>http://purl.obolibrary.org/obo/MP_0004592</td>\n",
       "      <td>Micrognathia (HPO)</td>\n",
       "      <td>small mandible (MPO)</td>\n",
       "      <td>HP_0000347</td>\n",
       "      <td>MP_0004592</td>\n",
       "    </tr>\n",
       "    <tr>\n",
       "      <th>3</th>\n",
       "      <td>http://purl.obolibrary.org/obo/MP_0004592</td>\n",
       "      <td>http://purl.obolibrary.org/obo/HP_0000347</td>\n",
       "      <td>small mandible (MPO)</td>\n",
       "      <td>Micrognathia (HPO)</td>\n",
       "      <td>MP_0004592</td>\n",
       "      <td>HP_0000347</td>\n",
       "    </tr>\n",
       "    <tr>\n",
       "      <th>4</th>\n",
       "      <td>http://purl.obolibrary.org/obo/MP_0004540</td>\n",
       "      <td>http://purl.obolibrary.org/obo/HP_0000327</td>\n",
       "      <td>small maxilla (MPO)</td>\n",
       "      <td>Hypoplasia of the maxilla (HPO)</td>\n",
       "      <td>MP_0004540</td>\n",
       "      <td>HP_0000327</td>\n",
       "    </tr>\n",
       "  </tbody>\n",
       "</table>\n",
       "</div>"
      ],
      "text/plain": [
       "                                          p1  \\\n",
       "0  http://purl.obolibrary.org/obo/HP_0000347   \n",
       "1  http://purl.obolibrary.org/obo/MP_0002639   \n",
       "2  http://purl.obolibrary.org/obo/HP_0000347   \n",
       "3  http://purl.obolibrary.org/obo/MP_0004592   \n",
       "4  http://purl.obolibrary.org/obo/MP_0004540   \n",
       "\n",
       "                                          p2               label_x  \\\n",
       "0  http://purl.obolibrary.org/obo/MP_0002639    Micrognathia (HPO)   \n",
       "1  http://purl.obolibrary.org/obo/HP_0000347    micrognathia (MPO)   \n",
       "2  http://purl.obolibrary.org/obo/MP_0004592    Micrognathia (HPO)   \n",
       "3  http://purl.obolibrary.org/obo/HP_0000347  small mandible (MPO)   \n",
       "4  http://purl.obolibrary.org/obo/HP_0000327   small maxilla (MPO)   \n",
       "\n",
       "                           label_y     p1_TERM     p2_TERM  \n",
       "0               micrognathia (MPO)  HP_0000347  MP_0002639  \n",
       "1               Micrognathia (HPO)  MP_0002639  HP_0000347  \n",
       "2             small mandible (MPO)  HP_0000347  MP_0004592  \n",
       "3               Micrognathia (HPO)  MP_0004592  HP_0000347  \n",
       "4  Hypoplasia of the maxilla (HPO)  MP_0004540  HP_0000327  "
      ]
     },
     "execution_count": 5,
     "metadata": {},
     "output_type": "execute_result"
    }
   ],
   "source": [
    "# Get just the actual phenotype terms in columns p1 and p2 and add them as p1_TERM and p2_TERM \n",
    "# We will use the  purl.obo links as metadata on the MP and HP nodes\n",
    "\n",
    "hpo_mp['p1_TERM'] = [x.split('/')[-1] for x in hpo_mp['p1']] \n",
    "hpo_mp['p2_TERM'] = [x.split('/')[-1] for x in hpo_mp['p2']] \n",
    "\n",
    "hpo_mp.head()"
   ]
  },
  {
   "cell_type": "code",
   "execution_count": 6,
   "metadata": {},
   "outputs": [
    {
     "data": {
      "text/plain": [
       "(8554, 6)"
      ]
     },
     "execution_count": 6,
     "metadata": {},
     "output_type": "execute_result"
    }
   ],
   "source": [
    "hpo_mp.shape"
   ]
  },
  {
   "cell_type": "code",
   "execution_count": 7,
   "metadata": {},
   "outputs": [
    {
     "data": {
      "text/plain": [
       "['APO',\n",
       " 'DDPHENO',\n",
       " 'FBcv',\n",
       " 'FYPO',\n",
       " 'HP',\n",
       " 'MGPO',\n",
       " 'MP',\n",
       " 'PHIPO',\n",
       " 'PLANP',\n",
       " 'WBPhenotype',\n",
       " 'XPO',\n",
       " 'ZP']"
      ]
     },
     "execution_count": 7,
     "metadata": {},
     "output_type": "execute_result"
    }
   ],
   "source": [
    "# Remove the numbers and the '-' from the list of ontology terms and see how many unique ontologies we have\n",
    "ontologies = hpo_mp['p1_TERM'].str.replace('\\d+', '')\n",
    "ontologies = ontologies.str.replace('_', '')\n",
    "list(np.unique(ontologies))"
   ]
  },
  {
   "cell_type": "code",
   "execution_count": 10,
   "metadata": {},
   "outputs": [
    {
     "name": "stdout",
     "output_type": "stream",
     "text": [
      "['HP' 'MP'] 5203\n"
     ]
    }
   ],
   "source": [
    "o = pd.DataFrame(ontologies)\n",
    "\n",
    "#o[o!='APO' ]\n",
    "of = o.loc[(o['p1_TERM']!='APO') & (o['p1_TERM']!='DDPHENO') & (o['p1_TERM']!='FBcv') & (o['p1_TERM']!='FYPO') &\n",
    "     (o['p1_TERM']!='MGPO') & (o['p1_TERM']!='PHIPO') & (o['p1_TERM']!='PLANP') & (o['p1_TERM']!='WBPhenotype')\n",
    "     &  (o['p1_TERM']!='XPO') & (o['p1_TERM']!='ZP')]\n",
    "print(np.unique(of),len(of))"
   ]
  },
  {
   "cell_type": "code",
   "execution_count": 11,
   "metadata": {},
   "outputs": [],
   "source": [
    "of_full = hpo_mp.loc[(o['p1_TERM']!='APO') & (o['p1_TERM']!='DDPHENO') & (o['p1_TERM']!='FBcv') & (o['p1_TERM']!='FYPO') &\n",
    "     (o['p1_TERM']!='MGPO') & (o['p1_TERM']!='PHIPO') & (o['p1_TERM']!='PLANP') & (o['p1_TERM']!='WBPhenotype')\n",
    "     &  (o['p1_TERM']!='XPO') & (o['p1_TERM']!='ZP')]\n",
    "\n",
    "of_full_2 =   of_full.loc[(of_full['p2_TERM']!='APO') & (of_full['p2_TERM']!='DDPHENO') & (of_full['p2_TERM']!='FBcv') & (of_full['p2_TERM']!='FYPO') &\n",
    "     (of_full['p2_TERM']!='MGPO') & (of_full['p2_TERM']!='PHIPO') & (of_full['p2_TERM']!='PLANP') & (of_full['p2_TERM']!='WBPhenotype')\n",
    "     &  (of_full['p2_TERM']!='XPO') & (of_full['p2_TERM']!='ZP')]"
   ]
  },
  {
   "cell_type": "code",
   "execution_count": 16,
   "metadata": {},
   "outputs": [
    {
     "data": {
      "text/html": [
       "<div>\n",
       "<style scoped>\n",
       "    .dataframe tbody tr th:only-of-type {\n",
       "        vertical-align: middle;\n",
       "    }\n",
       "\n",
       "    .dataframe tbody tr th {\n",
       "        vertical-align: top;\n",
       "    }\n",
       "\n",
       "    .dataframe thead th {\n",
       "        text-align: right;\n",
       "    }\n",
       "</style>\n",
       "<table border=\"1\" class=\"dataframe\">\n",
       "  <thead>\n",
       "    <tr style=\"text-align: right;\">\n",
       "      <th></th>\n",
       "      <th>p1</th>\n",
       "      <th>p2</th>\n",
       "      <th>label_x</th>\n",
       "      <th>label_y</th>\n",
       "      <th>p1_TERM</th>\n",
       "      <th>p2_TERM</th>\n",
       "    </tr>\n",
       "  </thead>\n",
       "  <tbody>\n",
       "    <tr>\n",
       "      <th>12</th>\n",
       "      <td>http://purl.obolibrary.org/obo/MP_0002766</td>\n",
       "      <td>http://purl.obolibrary.org/obo/HP_0003363</td>\n",
       "      <td>situs inversus (MPO)</td>\n",
       "      <td>Abdominal situs inversus (HPO)</td>\n",
       "      <td>MP_0002766</td>\n",
       "      <td>HP_0003363</td>\n",
       "    </tr>\n",
       "    <tr>\n",
       "      <th>13</th>\n",
       "      <td>http://purl.obolibrary.org/obo/HP_0003363</td>\n",
       "      <td>http://purl.obolibrary.org/obo/MP_0002766</td>\n",
       "      <td>Abdominal situs inversus (HPO)</td>\n",
       "      <td>situs inversus (MPO)</td>\n",
       "      <td>HP_0003363</td>\n",
       "      <td>MP_0002766</td>\n",
       "    </tr>\n",
       "    <tr>\n",
       "      <th>14</th>\n",
       "      <td>http://purl.obolibrary.org/obo/HP_0007384</td>\n",
       "      <td>http://purl.obolibrary.org/obo/MP_0030915</td>\n",
       "      <td>Aberrant melanosome maturation (HPO)</td>\n",
       "      <td>abnormal melanosome maturation (MPO)</td>\n",
       "      <td>HP_0007384</td>\n",
       "      <td>MP_0030915</td>\n",
       "    </tr>\n",
       "    <tr>\n",
       "      <th>15</th>\n",
       "      <td>http://purl.obolibrary.org/obo/MP_0030915</td>\n",
       "      <td>http://purl.obolibrary.org/obo/HP_0007384</td>\n",
       "      <td>abnormal melanosome maturation (MPO)</td>\n",
       "      <td>Aberrant melanosome maturation (HPO)</td>\n",
       "      <td>MP_0030915</td>\n",
       "      <td>HP_0007384</td>\n",
       "    </tr>\n",
       "    <tr>\n",
       "      <th>16</th>\n",
       "      <td>http://purl.obolibrary.org/obo/MP_0001341</td>\n",
       "      <td>http://purl.obolibrary.org/obo/HP_0011224</td>\n",
       "      <td>absent eyelids (MPO)</td>\n",
       "      <td>Ablepharon (HPO)</td>\n",
       "      <td>MP_0001341</td>\n",
       "      <td>HP_0011224</td>\n",
       "    </tr>\n",
       "    <tr>\n",
       "      <th>17</th>\n",
       "      <td>http://purl.obolibrary.org/obo/HP_0011224</td>\n",
       "      <td>http://purl.obolibrary.org/obo/MP_0001341</td>\n",
       "      <td>Ablepharon (HPO)</td>\n",
       "      <td>absent eyelids (MPO)</td>\n",
       "      <td>HP_0011224</td>\n",
       "      <td>MP_0001341</td>\n",
       "    </tr>\n",
       "    <tr>\n",
       "      <th>19</th>\n",
       "      <td>http://purl.obolibrary.org/obo/HP_0002846</td>\n",
       "      <td>http://purl.obolibrary.org/obo/XPO_0103150</td>\n",
       "      <td>Abnormal B cell morphology (HPO)</td>\n",
       "      <td>abnormal B cell morphology (XPO)</td>\n",
       "      <td>HP_0002846</td>\n",
       "      <td>XPO_0103150</td>\n",
       "    </tr>\n",
       "    <tr>\n",
       "      <th>20</th>\n",
       "      <td>http://purl.obolibrary.org/obo/HP_0031380</td>\n",
       "      <td>http://purl.obolibrary.org/obo/MP_0005153</td>\n",
       "      <td>Abnormal B cell proliferation (HPO)</td>\n",
       "      <td>abnormal B cell proliferation (MPO)</td>\n",
       "      <td>HP_0031380</td>\n",
       "      <td>MP_0005153</td>\n",
       "    </tr>\n",
       "    <tr>\n",
       "      <th>21</th>\n",
       "      <td>http://purl.obolibrary.org/obo/MP_0005153</td>\n",
       "      <td>http://purl.obolibrary.org/obo/HP_0031380</td>\n",
       "      <td>abnormal B cell proliferation (MPO)</td>\n",
       "      <td>Abnormal B cell proliferation (HPO)</td>\n",
       "      <td>MP_0005153</td>\n",
       "      <td>HP_0031380</td>\n",
       "    </tr>\n",
       "    <tr>\n",
       "      <th>22</th>\n",
       "      <td>http://purl.obolibrary.org/obo/MP_0008397</td>\n",
       "      <td>http://purl.obolibrary.org/obo/HP_0030334</td>\n",
       "      <td>abnormal CD4-positive, CD25-positive, alpha-be...</td>\n",
       "      <td>Abnormal CD4-positive, CD25-positive, alpha-be...</td>\n",
       "      <td>MP_0008397</td>\n",
       "      <td>HP_0030334</td>\n",
       "    </tr>\n",
       "  </tbody>\n",
       "</table>\n",
       "</div>"
      ],
      "text/plain": [
       "                                           p1  \\\n",
       "12  http://purl.obolibrary.org/obo/MP_0002766   \n",
       "13  http://purl.obolibrary.org/obo/HP_0003363   \n",
       "14  http://purl.obolibrary.org/obo/HP_0007384   \n",
       "15  http://purl.obolibrary.org/obo/MP_0030915   \n",
       "16  http://purl.obolibrary.org/obo/MP_0001341   \n",
       "17  http://purl.obolibrary.org/obo/HP_0011224   \n",
       "19  http://purl.obolibrary.org/obo/HP_0002846   \n",
       "20  http://purl.obolibrary.org/obo/HP_0031380   \n",
       "21  http://purl.obolibrary.org/obo/MP_0005153   \n",
       "22  http://purl.obolibrary.org/obo/MP_0008397   \n",
       "\n",
       "                                            p2  \\\n",
       "12   http://purl.obolibrary.org/obo/HP_0003363   \n",
       "13   http://purl.obolibrary.org/obo/MP_0002766   \n",
       "14   http://purl.obolibrary.org/obo/MP_0030915   \n",
       "15   http://purl.obolibrary.org/obo/HP_0007384   \n",
       "16   http://purl.obolibrary.org/obo/HP_0011224   \n",
       "17   http://purl.obolibrary.org/obo/MP_0001341   \n",
       "19  http://purl.obolibrary.org/obo/XPO_0103150   \n",
       "20   http://purl.obolibrary.org/obo/MP_0005153   \n",
       "21   http://purl.obolibrary.org/obo/HP_0031380   \n",
       "22   http://purl.obolibrary.org/obo/HP_0030334   \n",
       "\n",
       "                                              label_x  \\\n",
       "12                               situs inversus (MPO)   \n",
       "13                     Abdominal situs inversus (HPO)   \n",
       "14               Aberrant melanosome maturation (HPO)   \n",
       "15               abnormal melanosome maturation (MPO)   \n",
       "16                               absent eyelids (MPO)   \n",
       "17                                   Ablepharon (HPO)   \n",
       "19                   Abnormal B cell morphology (HPO)   \n",
       "20                Abnormal B cell proliferation (HPO)   \n",
       "21                abnormal B cell proliferation (MPO)   \n",
       "22  abnormal CD4-positive, CD25-positive, alpha-be...   \n",
       "\n",
       "                                              label_y     p1_TERM      p2_TERM  \n",
       "12                     Abdominal situs inversus (HPO)  MP_0002766   HP_0003363  \n",
       "13                               situs inversus (MPO)  HP_0003363   MP_0002766  \n",
       "14               abnormal melanosome maturation (MPO)  HP_0007384   MP_0030915  \n",
       "15               Aberrant melanosome maturation (HPO)  MP_0030915   HP_0007384  \n",
       "16                                   Ablepharon (HPO)  MP_0001341   HP_0011224  \n",
       "17                               absent eyelids (MPO)  HP_0011224   MP_0001341  \n",
       "19                   abnormal B cell morphology (XPO)  HP_0002846  XPO_0103150  \n",
       "20                abnormal B cell proliferation (MPO)  HP_0031380   MP_0005153  \n",
       "21                Abnormal B cell proliferation (HPO)  MP_0005153   HP_0031380  \n",
       "22  Abnormal CD4-positive, CD25-positive, alpha-be...  MP_0008397   HP_0030334  "
      ]
     },
     "execution_count": 16,
     "metadata": {},
     "output_type": "execute_result"
    }
   ],
   "source": [
    "of_full_2.iloc[12:22,:]"
   ]
  },
  {
   "cell_type": "code",
   "execution_count": 14,
   "metadata": {},
   "outputs": [
    {
     "data": {
      "text/plain": [
       "1045"
      ]
     },
     "execution_count": 14,
     "metadata": {},
     "output_type": "execute_result"
    }
   ],
   "source": [
    "others =[]\n",
    "for i,j in zip(of_full['p2_TERM'],of_full['p2_TERM'].index):\n",
    "    if (\"HP\" not in i)  and (\"MP\" not in i): \n",
    "        #print(i,j)\n",
    "        others.append((i,j))\n",
    "        \n",
    "len(others)"
   ]
  },
  {
   "cell_type": "code",
   "execution_count": 8,
   "metadata": {},
   "outputs": [],
   "source": [
    "# Get just the rows that contain HP or MP \n",
    "\n",
    "# From:  https://stackoverflow.com/questions/41719259/how-to-remove-numbers-from-string-terms-in-a-pandas-dataframe\n",
    "#hpo_mp_filtered = hpo_mp[hpo_mp.stack().str.contains('HP|MP').any(level=0)]\n",
    "#dropped_rows = hpo_mp.shape[0] - hpo_mp_filtered.shape[0]\n",
    "#print(f'Filtering for only HP or MP terms removes {dropped_rows} from the dataset.')"
   ]
  },
  {
   "cell_type": "code",
   "execution_count": null,
   "metadata": {},
   "outputs": [],
   "source": []
  },
  {
   "cell_type": "code",
   "execution_count": 17,
   "metadata": {},
   "outputs": [],
   "source": [
    "# Filter p1_TERM  column for HP or MP terms only\n",
    "hpo_mp1 = hpo_mp[hpo_mp.p1_TERM.str.contains(\"HP|MP\")]   \n",
    "\n",
    "# Filter the new dataframe, hpo_mp1, on column p2_TERM for HP or MP terms only\n",
    "hpo_mp_filtered = hpo_mp1[hpo_mp1.p2_TERM.str.contains(\"HP|MP\")]\n",
    "\n",
    "assert np.all(np.unique([x[:2] for x in hpo_mp_filtered['p1_TERM']]) == ['HP','MP'])"
   ]
  },
  {
   "cell_type": "code",
   "execution_count": null,
   "metadata": {},
   "outputs": [],
   "source": []
  },
  {
   "cell_type": "code",
   "execution_count": 18,
   "metadata": {},
   "outputs": [],
   "source": [
    "hpo_mp_filtered = hpo_mp_filtered.rename(columns={'label_x': \"p1_label\", 'label_y': \"p2_label\"})\n"
   ]
  },
  {
   "cell_type": "code",
   "execution_count": 19,
   "metadata": {},
   "outputs": [],
   "source": [
    "# To import into Neo4j we need each column to contain only one type of node,\n",
    "# right now HP and MP terms are both in cols p1 and p2\n",
    "\n",
    "# Get all rows where HP term is in p1\n",
    "HP_terms = hpo_mp_filtered[hpo_mp_filtered['p1'].str.contains('HP')]\n",
    "\n",
    "# Get all  rows where MP term is  in p1\n",
    "MP_terms = hpo_mp_filtered[~hpo_mp_filtered['p1'].str.contains('HP')]"
   ]
  },
  {
   "cell_type": "code",
   "execution_count": 20,
   "metadata": {},
   "outputs": [],
   "source": [
    "# Just switch column names and reorder\n",
    "MP_terms_corrected = MP_terms.rename(columns={'p1':'p2',\n",
    "                                                  'p2':'p1',\n",
    "                                                  'p1_label': \"p2_label\", \n",
    "                                                  'p2_label': \"p1_label\",\n",
    "                                                  'p1_TERM':'p2_TERM',\n",
    "                                                  'p2_TERM':'p1_TERM'})"
   ]
  },
  {
   "cell_type": "code",
   "execution_count": 21,
   "metadata": {},
   "outputs": [],
   "source": [
    "MP_terms_corrected = MP_terms_corrected[hpo_mp_filtered.columns]"
   ]
  },
  {
   "cell_type": "code",
   "execution_count": 22,
   "metadata": {},
   "outputs": [],
   "source": [
    "corrected_terms = pd.concat([HP_terms,MP_terms_corrected])"
   ]
  },
  {
   "cell_type": "code",
   "execution_count": 23,
   "metadata": {},
   "outputs": [],
   "source": [
    "assert corrected_terms.shape == hpo_mp_filtered.shape  # 4,158 rows "
   ]
  },
  {
   "cell_type": "code",
   "execution_count": 24,
   "metadata": {},
   "outputs": [],
   "source": [
    "# See if we have any duplicates based on p1 AND p2\n",
    "corrected_terms_2 = corrected_terms.drop_duplicates(['p1','p2'],keep= 'last') # 2,079, so we removed all inverse mappings "
   ]
  },
  {
   "cell_type": "code",
   "execution_count": 25,
   "metadata": {},
   "outputs": [
    {
     "data": {
      "text/html": [
       "<div>\n",
       "<style scoped>\n",
       "    .dataframe tbody tr th:only-of-type {\n",
       "        vertical-align: middle;\n",
       "    }\n",
       "\n",
       "    .dataframe tbody tr th {\n",
       "        vertical-align: top;\n",
       "    }\n",
       "\n",
       "    .dataframe thead th {\n",
       "        text-align: right;\n",
       "    }\n",
       "</style>\n",
       "<table border=\"1\" class=\"dataframe\">\n",
       "  <thead>\n",
       "    <tr style=\"text-align: right;\">\n",
       "      <th></th>\n",
       "      <th>p1</th>\n",
       "      <th>p2</th>\n",
       "      <th>p1_label</th>\n",
       "      <th>p2_label</th>\n",
       "      <th>p1_TERM</th>\n",
       "      <th>p2_TERM</th>\n",
       "    </tr>\n",
       "  </thead>\n",
       "  <tbody>\n",
       "    <tr>\n",
       "      <th>1</th>\n",
       "      <td>http://purl.obolibrary.org/obo/HP_0000347</td>\n",
       "      <td>http://purl.obolibrary.org/obo/MP_0002639</td>\n",
       "      <td>Micrognathia (HPO)</td>\n",
       "      <td>micrognathia (MPO)</td>\n",
       "      <td>HP_0000347</td>\n",
       "      <td>MP_0002639</td>\n",
       "    </tr>\n",
       "    <tr>\n",
       "      <th>3</th>\n",
       "      <td>http://purl.obolibrary.org/obo/HP_0000347</td>\n",
       "      <td>http://purl.obolibrary.org/obo/MP_0004592</td>\n",
       "      <td>Micrognathia (HPO)</td>\n",
       "      <td>small mandible (MPO)</td>\n",
       "      <td>HP_0000347</td>\n",
       "      <td>MP_0004592</td>\n",
       "    </tr>\n",
       "    <tr>\n",
       "      <th>4</th>\n",
       "      <td>http://purl.obolibrary.org/obo/HP_0000327</td>\n",
       "      <td>http://purl.obolibrary.org/obo/MP_0004540</td>\n",
       "      <td>Hypoplasia of the maxilla (HPO)</td>\n",
       "      <td>small maxilla (MPO)</td>\n",
       "      <td>HP_0000327</td>\n",
       "      <td>MP_0004540</td>\n",
       "    </tr>\n",
       "    <tr>\n",
       "      <th>7</th>\n",
       "      <td>http://purl.obolibrary.org/obo/HP_0005736</td>\n",
       "      <td>http://purl.obolibrary.org/obo/MP_0002764</td>\n",
       "      <td>Short tibia (HPO)</td>\n",
       "      <td>short tibia (MPO)</td>\n",
       "      <td>HP_0005736</td>\n",
       "      <td>MP_0002764</td>\n",
       "    </tr>\n",
       "    <tr>\n",
       "      <th>8</th>\n",
       "      <td>http://purl.obolibrary.org/obo/HP_0003270</td>\n",
       "      <td>http://purl.obolibrary.org/obo/MP_0009247</td>\n",
       "      <td>Abdominal distention (HPO)</td>\n",
       "      <td>meteorism (MPO)</td>\n",
       "      <td>HP_0003270</td>\n",
       "      <td>MP_0009247</td>\n",
       "    </tr>\n",
       "    <tr>\n",
       "      <th>...</th>\n",
       "      <td>...</td>\n",
       "      <td>...</td>\n",
       "      <td>...</td>\n",
       "      <td>...</td>\n",
       "      <td>...</td>\n",
       "      <td>...</td>\n",
       "    </tr>\n",
       "    <tr>\n",
       "      <th>8543</th>\n",
       "      <td>http://purl.obolibrary.org/obo/HP_0012675</td>\n",
       "      <td>http://purl.obolibrary.org/obo/MP_0020365</td>\n",
       "      <td>Iron accumulation in brain (HPO)</td>\n",
       "      <td>increased brain iron level (MPO)</td>\n",
       "      <td>HP_0012675</td>\n",
       "      <td>MP_0020365</td>\n",
       "    </tr>\n",
       "    <tr>\n",
       "      <th>8544</th>\n",
       "      <td>http://purl.obolibrary.org/obo/HP_0000369</td>\n",
       "      <td>http://purl.obolibrary.org/obo/MP_0000024</td>\n",
       "      <td>Low-set ears (HPO)</td>\n",
       "      <td>lowered ear position (MPO)</td>\n",
       "      <td>HP_0000369</td>\n",
       "      <td>MP_0000024</td>\n",
       "    </tr>\n",
       "    <tr>\n",
       "      <th>8545</th>\n",
       "      <td>http://purl.obolibrary.org/obo/HP_0011990</td>\n",
       "      <td>http://purl.obolibrary.org/obo/MP_0002463</td>\n",
       "      <td>Abnormality of neutrophil physiology (HPO)</td>\n",
       "      <td>abnormal neutrophil physiology (MPO)</td>\n",
       "      <td>HP_0011990</td>\n",
       "      <td>MP_0002463</td>\n",
       "    </tr>\n",
       "    <tr>\n",
       "      <th>8548</th>\n",
       "      <td>http://purl.obolibrary.org/obo/HP_0004510</td>\n",
       "      <td>http://purl.obolibrary.org/obo/MP_0009171</td>\n",
       "      <td>Pancreatic islet-cell hyperplasia (HPO)</td>\n",
       "      <td>enlarged pancreatic islets (MPO)</td>\n",
       "      <td>HP_0004510</td>\n",
       "      <td>MP_0009171</td>\n",
       "    </tr>\n",
       "    <tr>\n",
       "      <th>8553</th>\n",
       "      <td>http://purl.obolibrary.org/obo/HP_0011377</td>\n",
       "      <td>http://purl.obolibrary.org/obo/MP_0004314</td>\n",
       "      <td>Aplasia of the vestibule (HPO)</td>\n",
       "      <td>absent inner ear vestibule (MPO)</td>\n",
       "      <td>HP_0011377</td>\n",
       "      <td>MP_0004314</td>\n",
       "    </tr>\n",
       "  </tbody>\n",
       "</table>\n",
       "<p>2079 rows × 6 columns</p>\n",
       "</div>"
      ],
      "text/plain": [
       "                                             p1  \\\n",
       "1     http://purl.obolibrary.org/obo/HP_0000347   \n",
       "3     http://purl.obolibrary.org/obo/HP_0000347   \n",
       "4     http://purl.obolibrary.org/obo/HP_0000327   \n",
       "7     http://purl.obolibrary.org/obo/HP_0005736   \n",
       "8     http://purl.obolibrary.org/obo/HP_0003270   \n",
       "...                                         ...   \n",
       "8543  http://purl.obolibrary.org/obo/HP_0012675   \n",
       "8544  http://purl.obolibrary.org/obo/HP_0000369   \n",
       "8545  http://purl.obolibrary.org/obo/HP_0011990   \n",
       "8548  http://purl.obolibrary.org/obo/HP_0004510   \n",
       "8553  http://purl.obolibrary.org/obo/HP_0011377   \n",
       "\n",
       "                                             p2  \\\n",
       "1     http://purl.obolibrary.org/obo/MP_0002639   \n",
       "3     http://purl.obolibrary.org/obo/MP_0004592   \n",
       "4     http://purl.obolibrary.org/obo/MP_0004540   \n",
       "7     http://purl.obolibrary.org/obo/MP_0002764   \n",
       "8     http://purl.obolibrary.org/obo/MP_0009247   \n",
       "...                                         ...   \n",
       "8543  http://purl.obolibrary.org/obo/MP_0020365   \n",
       "8544  http://purl.obolibrary.org/obo/MP_0000024   \n",
       "8545  http://purl.obolibrary.org/obo/MP_0002463   \n",
       "8548  http://purl.obolibrary.org/obo/MP_0009171   \n",
       "8553  http://purl.obolibrary.org/obo/MP_0004314   \n",
       "\n",
       "                                        p1_label  \\\n",
       "1                             Micrognathia (HPO)   \n",
       "3                             Micrognathia (HPO)   \n",
       "4                Hypoplasia of the maxilla (HPO)   \n",
       "7                              Short tibia (HPO)   \n",
       "8                     Abdominal distention (HPO)   \n",
       "...                                          ...   \n",
       "8543            Iron accumulation in brain (HPO)   \n",
       "8544                          Low-set ears (HPO)   \n",
       "8545  Abnormality of neutrophil physiology (HPO)   \n",
       "8548     Pancreatic islet-cell hyperplasia (HPO)   \n",
       "8553              Aplasia of the vestibule (HPO)   \n",
       "\n",
       "                                  p2_label     p1_TERM     p2_TERM  \n",
       "1                       micrognathia (MPO)  HP_0000347  MP_0002639  \n",
       "3                     small mandible (MPO)  HP_0000347  MP_0004592  \n",
       "4                      small maxilla (MPO)  HP_0000327  MP_0004540  \n",
       "7                        short tibia (MPO)  HP_0005736  MP_0002764  \n",
       "8                          meteorism (MPO)  HP_0003270  MP_0009247  \n",
       "...                                    ...         ...         ...  \n",
       "8543      increased brain iron level (MPO)  HP_0012675  MP_0020365  \n",
       "8544            lowered ear position (MPO)  HP_0000369  MP_0000024  \n",
       "8545  abnormal neutrophil physiology (MPO)  HP_0011990  MP_0002463  \n",
       "8548      enlarged pancreatic islets (MPO)  HP_0004510  MP_0009171  \n",
       "8553      absent inner ear vestibule (MPO)  HP_0011377  MP_0004314  \n",
       "\n",
       "[2079 rows x 6 columns]"
      ]
     },
     "execution_count": 25,
     "metadata": {},
     "output_type": "execute_result"
    }
   ],
   "source": [
    "corrected_terms_2"
   ]
  },
  {
   "cell_type": "code",
   "execution_count": 101,
   "metadata": {},
   "outputs": [
    {
     "data": {
      "text/plain": [
       "2079"
      ]
     },
     "execution_count": 101,
     "metadata": {},
     "output_type": "execute_result"
    }
   ],
   "source": [
    "# Double check .drop_duplicates works the  way  I expect it to.\n",
    "a = [i+j for i,j in zip(corrected_terms['p1_TERM'],corrected_terms['p2_TERM'])]\n",
    "len(np.unique(a))"
   ]
  },
  {
   "cell_type": "code",
   "execution_count": 102,
   "metadata": {},
   "outputs": [],
   "source": [
    "corrected_terms_2.to_csv('hpo2mp_mappings.csv')"
   ]
  },
  {
   "cell_type": "markdown",
   "metadata": {},
   "source": [
    "### See what kind of overlap there is between MP terms in Nico's list and the IMPC geno2pheno dataset"
   ]
  },
  {
   "cell_type": "code",
   "execution_count": 49,
   "metadata": {
    "scrolled": false
   },
   "outputs": [
    {
     "data": {
      "text/html": [
       "<div>\n",
       "<style scoped>\n",
       "    .dataframe tbody tr th:only-of-type {\n",
       "        vertical-align: middle;\n",
       "    }\n",
       "\n",
       "    .dataframe tbody tr th {\n",
       "        vertical-align: top;\n",
       "    }\n",
       "\n",
       "    .dataframe thead th {\n",
       "        text-align: right;\n",
       "    }\n",
       "</style>\n",
       "<table border=\"1\" class=\"dataframe\">\n",
       "  <thead>\n",
       "    <tr style=\"text-align: right;\">\n",
       "      <th></th>\n",
       "      <th>marker_symbol</th>\n",
       "      <th>parameter_name</th>\n",
       "      <th>allele_accession_id</th>\n",
       "      <th>mp_term_id</th>\n",
       "      <th>mp_term_name</th>\n",
       "      <th>top_level_mp_term_id</th>\n",
       "    </tr>\n",
       "  </thead>\n",
       "  <tbody>\n",
       "    <tr>\n",
       "      <th>0</th>\n",
       "      <td>Gimap3</td>\n",
       "      <td>Cornea</td>\n",
       "      <td>MGI:5883410</td>\n",
       "      <td>MP:0001312</td>\n",
       "      <td>abnormal cornea morphology</td>\n",
       "      <td>MP:0005391</td>\n",
       "    </tr>\n",
       "    <tr>\n",
       "      <th>1</th>\n",
       "      <td>Prss8</td>\n",
       "      <td>Embryo Size</td>\n",
       "      <td>MGI:5646004</td>\n",
       "      <td>MP:0001697</td>\n",
       "      <td>abnormal embryo size</td>\n",
       "      <td>MP:0005380,MP:0005378</td>\n",
       "    </tr>\n",
       "    <tr>\n",
       "      <th>2</th>\n",
       "      <td>Pstpip2</td>\n",
       "      <td>Seminal vesicle</td>\n",
       "      <td>MGI:5755044</td>\n",
       "      <td>MP:0002059</td>\n",
       "      <td>abnormal seminal vesicle morphology</td>\n",
       "      <td>MP:0005389,MP:0005379</td>\n",
       "    </tr>\n",
       "    <tr>\n",
       "      <th>3</th>\n",
       "      <td>Ap4e1</td>\n",
       "      <td>Response amplitude - S</td>\n",
       "      <td>MGI:5548434</td>\n",
       "      <td>MP:0001486</td>\n",
       "      <td>abnormal startle reflex</td>\n",
       "      <td>MP:0005386</td>\n",
       "    </tr>\n",
       "    <tr>\n",
       "      <th>4</th>\n",
       "      <td>S100a14</td>\n",
       "      <td>Monocyte differential count</td>\n",
       "      <td>MGI:5513816</td>\n",
       "      <td>MP:0012441</td>\n",
       "      <td>abnormal monocyte cell number</td>\n",
       "      <td>MP:0005387,MP:0005397</td>\n",
       "    </tr>\n",
       "    <tr>\n",
       "      <th>...</th>\n",
       "      <td>...</td>\n",
       "      <td>...</td>\n",
       "      <td>...</td>\n",
       "      <td>...</td>\n",
       "      <td>...</td>\n",
       "      <td>...</td>\n",
       "    </tr>\n",
       "    <tr>\n",
       "      <th>60169</th>\n",
       "      <td>Rtl10</td>\n",
       "      <td>HRV</td>\n",
       "      <td>MGI:5825309</td>\n",
       "      <td>MP:0003928</td>\n",
       "      <td>increased heart rate variability</td>\n",
       "      <td>MP:0005385</td>\n",
       "    </tr>\n",
       "    <tr>\n",
       "      <th>60170</th>\n",
       "      <td>Abi2</td>\n",
       "      <td>Periphery resting time</td>\n",
       "      <td>MGI:5760383</td>\n",
       "      <td>MP:0003313</td>\n",
       "      <td>abnormal locomotor activation</td>\n",
       "      <td>MP:0005386</td>\n",
       "    </tr>\n",
       "    <tr>\n",
       "      <th>60171</th>\n",
       "      <td>Brwd1</td>\n",
       "      <td>Seminal vesicle</td>\n",
       "      <td>MGI:6156470</td>\n",
       "      <td>MP:0002059</td>\n",
       "      <td>abnormal seminal vesicle morphology</td>\n",
       "      <td>MP:0005389,MP:0005379</td>\n",
       "    </tr>\n",
       "    <tr>\n",
       "      <th>60172</th>\n",
       "      <td>Mecom</td>\n",
       "      <td>Fat/Body weight</td>\n",
       "      <td>MGI:2158381</td>\n",
       "      <td>MP:0010024</td>\n",
       "      <td>increased total body fat amount</td>\n",
       "      <td>MP:0005375</td>\n",
       "    </tr>\n",
       "    <tr>\n",
       "      <th>60173</th>\n",
       "      <td>Upf3a</td>\n",
       "      <td>Alanine aminotransferase</td>\n",
       "      <td>MGI:6152673</td>\n",
       "      <td>MP:0002942</td>\n",
       "      <td>decreased circulating alanine transaminase level</td>\n",
       "      <td>MP:0005376</td>\n",
       "    </tr>\n",
       "  </tbody>\n",
       "</table>\n",
       "<p>60172 rows × 6 columns</p>\n",
       "</div>"
      ],
      "text/plain": [
       "      marker_symbol               parameter_name allele_accession_id  \\\n",
       "0            Gimap3                       Cornea         MGI:5883410   \n",
       "1             Prss8                  Embryo Size         MGI:5646004   \n",
       "2           Pstpip2              Seminal vesicle         MGI:5755044   \n",
       "3             Ap4e1       Response amplitude - S         MGI:5548434   \n",
       "4           S100a14  Monocyte differential count         MGI:5513816   \n",
       "...             ...                          ...                 ...   \n",
       "60169         Rtl10                          HRV         MGI:5825309   \n",
       "60170          Abi2       Periphery resting time         MGI:5760383   \n",
       "60171         Brwd1              Seminal vesicle         MGI:6156470   \n",
       "60172         Mecom              Fat/Body weight         MGI:2158381   \n",
       "60173         Upf3a     Alanine aminotransferase         MGI:6152673   \n",
       "\n",
       "       mp_term_id                                      mp_term_name  \\\n",
       "0      MP:0001312                        abnormal cornea morphology   \n",
       "1      MP:0001697                              abnormal embryo size   \n",
       "2      MP:0002059               abnormal seminal vesicle morphology   \n",
       "3      MP:0001486                           abnormal startle reflex   \n",
       "4      MP:0012441                     abnormal monocyte cell number   \n",
       "...           ...                                               ...   \n",
       "60169  MP:0003928                  increased heart rate variability   \n",
       "60170  MP:0003313                     abnormal locomotor activation   \n",
       "60171  MP:0002059               abnormal seminal vesicle morphology   \n",
       "60172  MP:0010024                   increased total body fat amount   \n",
       "60173  MP:0002942  decreased circulating alanine transaminase level   \n",
       "\n",
       "        top_level_mp_term_id  \n",
       "0                 MP:0005391  \n",
       "1      MP:0005380,MP:0005378  \n",
       "2      MP:0005389,MP:0005379  \n",
       "3                 MP:0005386  \n",
       "4      MP:0005387,MP:0005397  \n",
       "...                      ...  \n",
       "60169             MP:0005385  \n",
       "60170             MP:0005386  \n",
       "60171  MP:0005389,MP:0005379  \n",
       "60172             MP:0005375  \n",
       "60173             MP:0005376  \n",
       "\n",
       "[60172 rows x 6 columns]"
      ]
     },
     "execution_count": 49,
     "metadata": {},
     "output_type": "execute_result"
    }
   ],
   "source": [
    "geno2pheno = pd.read_csv('/Users/stearb/desktop/R03_local/data/geno2pheno_mapping.csv',index_col=0)\n",
    "geno2pheno"
   ]
  },
  {
   "cell_type": "code",
   "execution_count": 52,
   "metadata": {},
   "outputs": [],
   "source": [
    "geno2pheno = geno2pheno.dropna()"
   ]
  },
  {
   "cell_type": "code",
   "execution_count": 54,
   "metadata": {},
   "outputs": [],
   "source": [
    "g2p_mp_terms = [i.replace(':','_') for i in geno2pheno['mp_term_id'].values]"
   ]
  },
  {
   "cell_type": "code",
   "execution_count": 89,
   "metadata": {},
   "outputs": [
    {
     "data": {
      "text/plain": [
       "255"
      ]
     },
     "execution_count": 89,
     "metadata": {},
     "output_type": "execute_result"
    }
   ],
   "source": [
    "len(set(g2p_mp_terms).intersection(set(corrected_terms['p2_TERM'].values)))"
   ]
  },
  {
   "cell_type": "code",
   "execution_count": 64,
   "metadata": {},
   "outputs": [],
   "source": [
    "all_top_level_mp_terms = np.ravel(list(geno2pheno['top_level_mp_term_id'].apply(lambda x: x.split('|')).values))"
   ]
  },
  {
   "cell_type": "code",
   "execution_count": 77,
   "metadata": {
    "scrolled": true
   },
   "outputs": [],
   "source": [
    "all_top_level_mp_terms = [i.replace(':','_') for i in all_top_level_mp_terms]\n",
    "\n",
    "all_top_level_mp_terms_ = list([i.split(',') for i in all_top_level_mp_terms])\n",
    "\n",
    "flat_list = [item for sublist in all_top_level_mp_terms_ for item in sublist]"
   ]
  },
  {
   "cell_type": "code",
   "execution_count": 83,
   "metadata": {},
   "outputs": [
    {
     "data": {
      "text/plain": [
       "255"
      ]
     },
     "execution_count": 83,
     "metadata": {},
     "output_type": "execute_result"
    }
   ],
   "source": [
    "len(set(g2p_mp_terms).intersection(corrected_terms['p2_TERM'].values))\n",
    "\n",
    "# No top level terms in nicos mappings ? "
   ]
  },
  {
   "cell_type": "markdown",
   "metadata": {},
   "source": [
    "### How much overlap is there bt the  mouse genes from the homologs list and the genotpye to phenotype list?"
   ]
  },
  {
   "cell_type": "code",
   "execution_count": 103,
   "metadata": {},
   "outputs": [
    {
     "data": {
      "text/plain": [
       "5777"
      ]
     },
     "execution_count": 103,
     "metadata": {},
     "output_type": "execute_result"
    }
   ],
   "source": [
    "len(set(pd.read_csv('homologous_genes.csv')['Mouse'].values).intersection(geno2pheno['marker_symbol']))"
   ]
  },
  {
   "cell_type": "code",
   "execution_count": null,
   "metadata": {},
   "outputs": [],
   "source": [
    "\n",
    "# load homologous genes\n",
    "\"\"\"\n",
    ":auto USING PERIODIC COMMIT 10000\n",
    "LOAD CSV WITH HEADERS FROM \n",
    "\"file:///Users/stearb/desktop/R03_local/data/homologous_genes.csv\" AS row\n",
    " MERGE (h:Human_gene {gene_id: row.Human})\n",
    " MERGE (m:Mouse_gene {gene_id: row.Mouse})\n",
    " MERGE (h)-[:HOMOLOGOUS]->(m)\n",
    " MERGE (m)-[:HOMOLOGOUS_mouse]->(h) \"\"\"\n",
    "\n",
    "# load hpo <--> mp mappings\n",
    "\"\"\" :auto USING PERIODIC COMMIT 10000\n",
    "LOAD CSV WITH HEADERS FROM \n",
    "\"file:///Users/stearb/desktop/R03_local/data/hpo2mp_mappings.csv\" AS row\n",
    "\n",
    " CREATE (hp:HP {hp_term_id: row.p1_TERM, purl: row.p1,name: row.p1_label})\n",
    " CREATE (mp:MP {mp_term: row.p2_TERM, purl: row.p2, name: row.p2_label})\n",
    " CREATE (hp)-[:hp2mp]->(mp)\n",
    " CREATE (mp)-[:mp2hp]->(hp)  \"\"\"\n",
    "\n",
    "\n",
    "# Connect mouse genes to mp terms\n",
    "\"\"\":auto USING PERIODIC COMMIT 10000\n",
    "LOAD CSV WITH HEADERS FROM \n",
    "\"file:///Users/stearb/desktop/R03_local/data/geno2pheno_mapping.csv\" AS row\n",
    "WITH row WHERE NOT row.mp_term_id IS null\n",
    "MATCH (m:Mouse_gene{gene_id:row.marker_symbol}), (mp:MP {mp_term: row.mp_term_id})\n",
    "with m,mp,row\n",
    "CREATE (m)-[:CAUSES]->(mp)\n",
    " \"\"\"\n",
    "\n",
    "# IMPORT MP.OWL\n",
    "\"\"\"\n",
    "CREATE CONSTRAINT n10s_unique_uri ON (r:Resource) ASSERT r.uri IS UNIQUE\n",
    "CALL n10s.graphconfig.init()\n",
    "CALL n10s.onto.import.fetch(\"file:///Users/stearb/desktop/R03_local/data/mp.owl\",\n",
    "                        \"RDF/XML\",{addResourceLabels : TRUE})\"\"\""
   ]
  }
 ],
 "metadata": {
  "kernelspec": {
   "display_name": "Python 3",
   "language": "python",
   "name": "python3"
  },
  "language_info": {
   "codemirror_mode": {
    "name": "ipython",
    "version": 3
   },
   "file_extension": ".py",
   "mimetype": "text/x-python",
   "name": "python",
   "nbconvert_exporter": "python",
   "pygments_lexer": "ipython3",
   "version": "3.7.4"
  }
 },
 "nbformat": 4,
 "nbformat_minor": 2
}
