{
 "cells": [
  {
   "cell_type": "code",
   "execution_count": 1,
   "metadata": {},
   "outputs": [],
   "source": [
    "import warnings\n",
    "warnings.filterwarnings('ignore')\n",
    "\n",
    "import pandas as pd\n",
    "import numpy as np\n",
    "import os\n",
    "from collections import Counter\n",
    "import hashlib\n",
    "import base64\n",
    "from umls_utils import get_paths, CUIbase64\n",
    "\n",
    "pd.set_option('display.max_columns', None)"
   ]
  },
  {
   "cell_type": "code",
   "execution_count": 67,
   "metadata": {},
   "outputs": [
    {
     "name": "stdout",
     "output_type": "stream",
     "text": [
      "[NbConvertApp] Converting notebook Glygen.ipynb to script\n",
      "[NbConvertApp] Writing 8851 bytes to Glygen.py\n"
     ]
    }
   ],
   "source": [
    "!jupyter nbconvert --to script Glygen.ipynb \n",
    "!sed -i '' '/.head(/d' Glygen.py\n",
    "!sed -i '' '/^#/d' Glygen.py\n",
    "!sed -i '' '/get_ipython()/d' Glygen.py\n",
    "!sed -i '' '/print/d' Glygen.py"
   ]
  },
  {
   "cell_type": "markdown",
   "metadata": {},
   "source": [
    "# Glygen annotations workflow notebook\n",
    "\n",
    "# Add 3 Glygen datasets, glycosyltransferases for human and mouse (2 datasets), and the glycans for human and mouse (1 dataset)\n",
    "\n",
    "### This data relies on the HCOP HGNC data (mouse genes) which is not in the base UMLS graph database, its added in by me. I created a 'helper' file that contains the CUI-CODE-Term mappings for the mouse gene data so that if this glygen data is ingested before the mouse gene data it will not break the script"
   ]
  },
  {
   "cell_type": "code",
   "execution_count": null,
   "metadata": {},
   "outputs": [],
   "source": []
  },
  {
   "cell_type": "code",
   "execution_count": 2,
   "metadata": {},
   "outputs": [],
   "source": [
    "# Get paths from config file\n",
    "config_path = '/Users/stearb/Dropbox/CHOP/R03/code/neo4j_build_CFDIKG/build_scripts/'\n",
    "\n",
    "data_dir,helper_data_dir,output_dir,LOCAL_CPU,umls_dir,umls_out_dir = get_paths(config_path)\n",
    "\n",
    "\n",
    "if not  os.path.isdir(output_dir+'glygen_annos'):\n",
    "    os.mkdir(output_dir+'glygen_annos')\n",
    "    print('Creating glygen_annos directory...')\n"
   ]
  },
  {
   "cell_type": "markdown",
   "metadata": {},
   "source": [
    "### Load in some of the graph CSVs"
   ]
  },
  {
   "cell_type": "code",
   "execution_count": 3,
   "metadata": {},
   "outputs": [
    {
     "data": {
      "text/html": [
       "<div>\n",
       "<style scoped>\n",
       "    .dataframe tbody tr th:only-of-type {\n",
       "        vertical-align: middle;\n",
       "    }\n",
       "\n",
       "    .dataframe tbody tr th {\n",
       "        vertical-align: top;\n",
       "    }\n",
       "\n",
       "    .dataframe thead th {\n",
       "        text-align: right;\n",
       "    }\n",
       "</style>\n",
       "<table border=\"1\" class=\"dataframe\">\n",
       "  <thead>\n",
       "    <tr style=\"text-align: right;\">\n",
       "      <th></th>\n",
       "      <th>CodeID</th>\n",
       "      <th>CUI</th>\n",
       "      <th>symbol</th>\n",
       "      <th>HGNC_ID</th>\n",
       "    </tr>\n",
       "  </thead>\n",
       "  <tbody>\n",
       "    <tr>\n",
       "      <th>0</th>\n",
       "      <td>HGNC HGNC:7436</td>\n",
       "      <td>C0919427</td>\n",
       "      <td>MTHFR</td>\n",
       "      <td>HGNC:7436</td>\n",
       "    </tr>\n",
       "    <tr>\n",
       "      <th>1</th>\n",
       "      <td>HGNC HGNC:277</td>\n",
       "      <td>C1332026</td>\n",
       "      <td>ADRA1A</td>\n",
       "      <td>HGNC:277</td>\n",
       "    </tr>\n",
       "    <tr>\n",
       "      <th>2</th>\n",
       "      <td>HGNC HGNC:2432</td>\n",
       "      <td>C1332789</td>\n",
       "      <td>CSF1</td>\n",
       "      <td>HGNC:2432</td>\n",
       "    </tr>\n",
       "  </tbody>\n",
       "</table>\n",
       "</div>"
      ],
      "text/plain": [
       "           CodeID       CUI  symbol    HGNC_ID\n",
       "0  HGNC HGNC:7436  C0919427   MTHFR  HGNC:7436\n",
       "1   HGNC HGNC:277  C1332026  ADRA1A   HGNC:277\n",
       "2  HGNC HGNC:2432  C1332789    CSF1  HGNC:2432"
      ]
     },
     "execution_count": 3,
     "metadata": {},
     "output_type": "execute_result"
    }
   ],
   "source": [
    "UMLS_CUI_CODEs = pd.read_csv(umls_dir+'CUI-CODEs.csv')\n",
    "\n",
    "umls_genes = UMLS_CUI_CODEs[UMLS_CUI_CODEs[':END_ID'].str.startswith('HGNC')].rename(\n",
    "                                    columns={':START_ID':'CUI_hgnc',':END_ID':'HGNC_ID'})\n",
    "\n",
    "UMLS_CODE_SUIs = pd.read_csv(umls_dir+'CODE-SUIs.csv')\n",
    "\n",
    "# Filter for just the HGNC CodeID rows\n",
    "umls_hgnc = UMLS_CODE_SUIs[UMLS_CODE_SUIs[':START_ID'].isin(umls_genes['HGNC_ID'])]\n",
    "\n",
    "\n",
    "# Get just the rows that contain relationship type 'ACR', this is where the gene symbol/name is.\n",
    "umls_hgnc_acr = umls_hgnc[umls_hgnc[':TYPE'] == 'ACR']\n",
    "\n",
    "umls_hgnc_acr.rename(columns={':START_ID':'CodeID',':END_ID':'SUI:ID'},inplace=True) \n",
    "\n",
    "# Read in UMLS SUIs so we can map the name property (where the gene symbol/name is) to the HGNC CodeID, merge on SUI:ID\n",
    "UMLS_SUIs = pd.read_csv(umls_dir+'SUIs.csv')\n",
    "\n",
    "# Merge in the names of the HGNC IDs, merge on SUI:ID\n",
    "umls_hgnc_ids2codes = pd.merge(umls_hgnc_acr,UMLS_SUIs,on='SUI:ID')\n",
    "\n",
    "# Get just the HGNC CODE, not CodeID\n",
    "umls_hgnc_ids2codes['HGNC_ID'] = [i.split(' ')[1] for i in umls_hgnc_ids2codes['CodeID']]\n",
    "\n",
    "\n",
    "# Drop cols we dont need and change col names to match ucsc dataframe so we can merge in the HGNC gene names\n",
    "umls_hgnc_ids2codes = umls_hgnc_ids2codes.drop(['SUI:ID',':TYPE'],axis=1).rename(\n",
    "                                                                    columns={'name':'symbol'})\n",
    "umls_hgnc_ids2codes.head(3)"
   ]
  },
  {
   "cell_type": "markdown",
   "metadata": {},
   "source": [
    "# Add in Human Glycosyltransferases data\n",
    "### https://data.glygen.org/GLY_000004"
   ]
  },
  {
   "cell_type": "code",
   "execution_count": 4,
   "metadata": {},
   "outputs": [
    {
     "data": {
      "text/html": [
       "<div>\n",
       "<style scoped>\n",
       "    .dataframe tbody tr th:only-of-type {\n",
       "        vertical-align: middle;\n",
       "    }\n",
       "\n",
       "    .dataframe tbody tr th {\n",
       "        vertical-align: top;\n",
       "    }\n",
       "\n",
       "    .dataframe thead th {\n",
       "        text-align: right;\n",
       "    }\n",
       "</style>\n",
       "<table border=\"1\" class=\"dataframe\">\n",
       "  <thead>\n",
       "    <tr style=\"text-align: right;\">\n",
       "      <th></th>\n",
       "      <th>uniprotkb_canonical_ac</th>\n",
       "      <th>species</th>\n",
       "      <th>status</th>\n",
       "      <th>gene_symbol</th>\n",
       "      <th>uniprotkb_protein_name</th>\n",
       "      <th>ec_number</th>\n",
       "      <th>brenda_ec_number</th>\n",
       "      <th>cazy_gt_family</th>\n",
       "      <th>interpro_id</th>\n",
       "      <th>pfam_ac</th>\n",
       "      <th>go_molecular_function</th>\n",
       "    </tr>\n",
       "  </thead>\n",
       "  <tbody>\n",
       "    <tr>\n",
       "      <th>0</th>\n",
       "      <td>A0PJZ3-1</td>\n",
       "      <td>Homo sapiens (Human)</td>\n",
       "      <td>reviewed</td>\n",
       "      <td>GXYLT2</td>\n",
       "      <td>Glucoside xylosyltransferase 2 (EC 2.4.2.42) (...</td>\n",
       "      <td>2.4.2.42</td>\n",
       "      <td>NaN</td>\n",
       "      <td>GT8</td>\n",
       "      <td>IPR002495|IPR029044</td>\n",
       "      <td>PF01501</td>\n",
       "      <td>UDP-xylosyltransferase activity [GO:0035252]</td>\n",
       "    </tr>\n",
       "    <tr>\n",
       "      <th>1</th>\n",
       "      <td>A6NG13-1</td>\n",
       "      <td>Homo sapiens (Human)</td>\n",
       "      <td>reviewed</td>\n",
       "      <td>MGAT4D</td>\n",
       "      <td>Alpha-1,3-mannosyl-glycoprotein 4-beta-N-acety...</td>\n",
       "      <td>NaN</td>\n",
       "      <td>NaN</td>\n",
       "      <td>NaN</td>\n",
       "      <td>IPR006759</td>\n",
       "      <td>NaN</td>\n",
       "      <td>acetylglucosaminyltransferase activity [GO:000...</td>\n",
       "    </tr>\n",
       "    <tr>\n",
       "      <th>2</th>\n",
       "      <td>A8MXE2-1</td>\n",
       "      <td>Homo sapiens (Human)</td>\n",
       "      <td>reviewed</td>\n",
       "      <td>NaN</td>\n",
       "      <td>Putative UDP-GlcNAc:betaGal beta-1,3-N-acetylg...</td>\n",
       "      <td>2.4.1.-</td>\n",
       "      <td>NaN</td>\n",
       "      <td>NaN</td>\n",
       "      <td>IPR002659</td>\n",
       "      <td>PF01762</td>\n",
       "      <td>acetylgalactosaminyltransferase activity [GO:0...</td>\n",
       "    </tr>\n",
       "  </tbody>\n",
       "</table>\n",
       "</div>"
      ],
      "text/plain": [
       "  uniprotkb_canonical_ac               species    status gene_symbol  \\\n",
       "0               A0PJZ3-1  Homo sapiens (Human)  reviewed      GXYLT2   \n",
       "1               A6NG13-1  Homo sapiens (Human)  reviewed      MGAT4D   \n",
       "2               A8MXE2-1  Homo sapiens (Human)  reviewed         NaN   \n",
       "\n",
       "                              uniprotkb_protein_name ec_number  \\\n",
       "0  Glucoside xylosyltransferase 2 (EC 2.4.2.42) (...  2.4.2.42   \n",
       "1  Alpha-1,3-mannosyl-glycoprotein 4-beta-N-acety...       NaN   \n",
       "2  Putative UDP-GlcNAc:betaGal beta-1,3-N-acetylg...   2.4.1.-   \n",
       "\n",
       "  brenda_ec_number cazy_gt_family          interpro_id  pfam_ac  \\\n",
       "0              NaN            GT8  IPR002495|IPR029044  PF01501   \n",
       "1              NaN            NaN            IPR006759      NaN   \n",
       "2              NaN            NaN            IPR002659  PF01762   \n",
       "\n",
       "                               go_molecular_function  \n",
       "0       UDP-xylosyltransferase activity [GO:0035252]  \n",
       "1  acetylglucosaminyltransferase activity [GO:000...  \n",
       "2  acetylgalactosaminyltransferase activity [GO:0...  "
      ]
     },
     "execution_count": 4,
     "metadata": {},
     "output_type": "execute_result"
    }
   ],
   "source": [
    "df_GT = pd.read_csv(data_dir+'glycosyltransferase_and_glycans/human/human_protein_glycosyltransferase.csv')\n",
    "df_GT.head(3)"
   ]
  },
  {
   "cell_type": "code",
   "execution_count": 5,
   "metadata": {},
   "outputs": [
    {
     "data": {
      "text/html": [
       "<div>\n",
       "<style scoped>\n",
       "    .dataframe tbody tr th:only-of-type {\n",
       "        vertical-align: middle;\n",
       "    }\n",
       "\n",
       "    .dataframe tbody tr th {\n",
       "        vertical-align: top;\n",
       "    }\n",
       "\n",
       "    .dataframe thead th {\n",
       "        text-align: right;\n",
       "    }\n",
       "</style>\n",
       "<table border=\"1\" class=\"dataframe\">\n",
       "  <thead>\n",
       "    <tr style=\"text-align: right;\">\n",
       "      <th></th>\n",
       "      <th>symbol</th>\n",
       "    </tr>\n",
       "  </thead>\n",
       "  <tbody>\n",
       "    <tr>\n",
       "      <th>0</th>\n",
       "      <td>GXYLT2</td>\n",
       "    </tr>\n",
       "    <tr>\n",
       "      <th>1</th>\n",
       "      <td>MGAT4D</td>\n",
       "    </tr>\n",
       "    <tr>\n",
       "      <th>2</th>\n",
       "      <td>NaN</td>\n",
       "    </tr>\n",
       "  </tbody>\n",
       "</table>\n",
       "</div>"
      ],
      "text/plain": [
       "   symbol\n",
       "0  GXYLT2\n",
       "1  MGAT4D\n",
       "2     NaN"
      ]
     },
     "execution_count": 5,
     "metadata": {},
     "output_type": "execute_result"
    }
   ],
   "source": [
    "cols = ['gene_symbol']#,'uniprotkb_canonical_ac','uniprotkb_protein_name','go_molecular_function']\n",
    "\n",
    "df_GT_select = df_GT[cols].drop_duplicates('gene_symbol').rename(columns={'gene_symbol':'symbol'})\n",
    "\n",
    "df_GT_select.head(3)"
   ]
  },
  {
   "cell_type": "code",
   "execution_count": 6,
   "metadata": {},
   "outputs": [
    {
     "data": {
      "text/html": [
       "<div>\n",
       "<style scoped>\n",
       "    .dataframe tbody tr th:only-of-type {\n",
       "        vertical-align: middle;\n",
       "    }\n",
       "\n",
       "    .dataframe tbody tr th {\n",
       "        vertical-align: top;\n",
       "    }\n",
       "\n",
       "    .dataframe thead th {\n",
       "        text-align: right;\n",
       "    }\n",
       "</style>\n",
       "<table border=\"1\" class=\"dataframe\">\n",
       "  <thead>\n",
       "    <tr style=\"text-align: right;\">\n",
       "      <th></th>\n",
       "      <th>symbol</th>\n",
       "      <th>CodeID</th>\n",
       "      <th>CUI</th>\n",
       "      <th>HGNC_ID</th>\n",
       "    </tr>\n",
       "  </thead>\n",
       "  <tbody>\n",
       "    <tr>\n",
       "      <th>0</th>\n",
       "      <td>GXYLT2</td>\n",
       "      <td>HGNC HGNC:33383</td>\n",
       "      <td>C2239497</td>\n",
       "      <td>HGNC:33383</td>\n",
       "    </tr>\n",
       "    <tr>\n",
       "      <th>1</th>\n",
       "      <td>MGAT4D</td>\n",
       "      <td>HGNC HGNC:43619</td>\n",
       "      <td>C1853199</td>\n",
       "      <td>HGNC:43619</td>\n",
       "    </tr>\n",
       "  </tbody>\n",
       "</table>\n",
       "</div>"
      ],
      "text/plain": [
       "   symbol           CodeID       CUI     HGNC_ID\n",
       "0  GXYLT2  HGNC HGNC:33383  C2239497  HGNC:33383\n",
       "1  MGAT4D  HGNC HGNC:43619  C1853199  HGNC:43619"
      ]
     },
     "execution_count": 6,
     "metadata": {},
     "output_type": "execute_result"
    }
   ],
   "source": [
    "# we only lose 1 gene in the merge, its the 1 NaN gene_symbol entry in the df_GT df\n",
    "glyco_df = pd.merge(df_GT_select,umls_hgnc_ids2codes)#.isna().sum()\n",
    "glyco_df.head(2)"
   ]
  },
  {
   "cell_type": "code",
   "execution_count": 7,
   "metadata": {},
   "outputs": [],
   "source": [
    "#umls_genes['HGNC_ID'] = [i.split(' ')[1] for i in umls_genes['HGNC_ID']]"
   ]
  },
  {
   "cell_type": "code",
   "execution_count": 8,
   "metadata": {},
   "outputs": [],
   "source": [
    "# Create the HGNC CodeIDs manually, just add 'HGNC ' to the front of the HGNC ID\n",
    "#glyco_df['CodeID_hgnc'] = ['HGNC ' + i for i in glyco_df['HGNC_ID']]\n",
    "\n",
    "#glyco_df.head(2)"
   ]
  },
  {
   "cell_type": "code",
   "execution_count": 9,
   "metadata": {},
   "outputs": [],
   "source": [
    "# Create the actual Term 'name'\n",
    "glyco_df['name'] =  'Glycosyltransferase'    # pd.Series(glyco_term_name*len(glyco_df))\n",
    "glyco_df[':TYPE'] = 'is_protein_type'\n",
    "\n",
    "# Create the Tem unique ID, aka SUI\n",
    "glyco_df['SUI'] = CUIbase64(glyco_df['name'] )"
   ]
  },
  {
   "cell_type": "code",
   "execution_count": 10,
   "metadata": {},
   "outputs": [
    {
     "data": {
      "text/html": [
       "<div>\n",
       "<style scoped>\n",
       "    .dataframe tbody tr th:only-of-type {\n",
       "        vertical-align: middle;\n",
       "    }\n",
       "\n",
       "    .dataframe tbody tr th {\n",
       "        vertical-align: top;\n",
       "    }\n",
       "\n",
       "    .dataframe thead th {\n",
       "        text-align: right;\n",
       "    }\n",
       "</style>\n",
       "<table border=\"1\" class=\"dataframe\">\n",
       "  <thead>\n",
       "    <tr style=\"text-align: right;\">\n",
       "      <th></th>\n",
       "      <th>:START_ID</th>\n",
       "      <th>:END_ID</th>\n",
       "      <th>CUI</th>\n",
       "      <th>:TYPE</th>\n",
       "    </tr>\n",
       "  </thead>\n",
       "  <tbody>\n",
       "    <tr>\n",
       "      <th>0</th>\n",
       "      <td>HGNC HGNC:33383</td>\n",
       "      <td>R2x5Y29zeWx0cmFuc2ZlcmFzZQ==</td>\n",
       "      <td>C2239497</td>\n",
       "      <td>is_protein_type</td>\n",
       "    </tr>\n",
       "    <tr>\n",
       "      <th>1</th>\n",
       "      <td>HGNC HGNC:43619</td>\n",
       "      <td>R2x5Y29zeWx0cmFuc2ZlcmFzZQ==</td>\n",
       "      <td>C1853199</td>\n",
       "      <td>is_protein_type</td>\n",
       "    </tr>\n",
       "  </tbody>\n",
       "</table>\n",
       "</div>"
      ],
      "text/plain": [
       "         :START_ID                       :END_ID       CUI            :TYPE\n",
       "0  HGNC HGNC:33383  R2x5Y29zeWx0cmFuc2ZlcmFzZQ==  C2239497  is_protein_type\n",
       "1  HGNC HGNC:43619  R2x5Y29zeWx0cmFuc2ZlcmFzZQ==  C1853199  is_protein_type"
      ]
     },
     "execution_count": 10,
     "metadata": {},
     "output_type": "execute_result"
    }
   ],
   "source": [
    "glyco_CODE_SUIs = glyco_df[['CodeID','SUI','CUI',':TYPE']].rename(columns={'CodeID':':START_ID','SUI':':END_ID'}) \n",
    "glyco_CODE_SUIs.head(2)"
   ]
  },
  {
   "cell_type": "code",
   "execution_count": 11,
   "metadata": {},
   "outputs": [
    {
     "data": {
      "text/html": [
       "<div>\n",
       "<style scoped>\n",
       "    .dataframe tbody tr th:only-of-type {\n",
       "        vertical-align: middle;\n",
       "    }\n",
       "\n",
       "    .dataframe tbody tr th {\n",
       "        vertical-align: top;\n",
       "    }\n",
       "\n",
       "    .dataframe thead th {\n",
       "        text-align: right;\n",
       "    }\n",
       "</style>\n",
       "<table border=\"1\" class=\"dataframe\">\n",
       "  <thead>\n",
       "    <tr style=\"text-align: right;\">\n",
       "      <th></th>\n",
       "      <th>SUI:ID</th>\n",
       "      <th>name</th>\n",
       "    </tr>\n",
       "  </thead>\n",
       "  <tbody>\n",
       "    <tr>\n",
       "      <th>0</th>\n",
       "      <td>R2x5Y29zeWx0cmFuc2ZlcmFzZQ==</td>\n",
       "      <td>Glycosyltransferase</td>\n",
       "    </tr>\n",
       "  </tbody>\n",
       "</table>\n",
       "</div>"
      ],
      "text/plain": [
       "                         SUI:ID                 name\n",
       "0  R2x5Y29zeWx0cmFuc2ZlcmFzZQ==  Glycosyltransferase"
      ]
     },
     "execution_count": 11,
     "metadata": {},
     "output_type": "execute_result"
    }
   ],
   "source": [
    "glyco_SUIs = glyco_df[['SUI','name']].rename(columns={'SUI':'SUI:ID'})\n",
    "\n",
    "# dropping dups will leave us with just the single term\n",
    "glyco_SUIs.drop_duplicates(inplace=True)\n",
    "\n",
    "glyco_SUIs.head(2)"
   ]
  },
  {
   "cell_type": "markdown",
   "metadata": {},
   "source": [
    "# Add in Mouse Glycosyltransferases data\n",
    "### https://data.glygen.org/GLY_000030"
   ]
  },
  {
   "cell_type": "markdown",
   "metadata": {},
   "source": [
    "### Get mouse mapping/helper files"
   ]
  },
  {
   "cell_type": "code",
   "execution_count": 12,
   "metadata": {},
   "outputs": [
    {
     "data": {
      "text/html": [
       "<div>\n",
       "<style scoped>\n",
       "    .dataframe tbody tr th:only-of-type {\n",
       "        vertical-align: middle;\n",
       "    }\n",
       "\n",
       "    .dataframe tbody tr th {\n",
       "        vertical-align: top;\n",
       "    }\n",
       "\n",
       "    .dataframe thead th {\n",
       "        text-align: right;\n",
       "    }\n",
       "</style>\n",
       "<table border=\"1\" class=\"dataframe\">\n",
       "  <thead>\n",
       "    <tr style=\"text-align: right;\">\n",
       "      <th></th>\n",
       "      <th>CUI_mouse</th>\n",
       "      <th>CODE_mouse</th>\n",
       "      <th>CodeID_mouse</th>\n",
       "      <th>gene_symbol</th>\n",
       "    </tr>\n",
       "  </thead>\n",
       "  <tbody>\n",
       "    <tr>\n",
       "      <th>0</th>\n",
       "      <td>SENPUCBIQ09QOkV4dDI=</td>\n",
       "      <td>HCOP:Ext2</td>\n",
       "      <td>HCOP HCOP:Ext2</td>\n",
       "      <td>Ext2</td>\n",
       "    </tr>\n",
       "    <tr>\n",
       "      <th>1</th>\n",
       "      <td>SENPUCBIQ09QOkFueGE4</td>\n",
       "      <td>HCOP:Anxa8</td>\n",
       "      <td>HCOP HCOP:Anxa8</td>\n",
       "      <td>Anxa8</td>\n",
       "    </tr>\n",
       "    <tr>\n",
       "      <th>2</th>\n",
       "      <td>SENPUCBIQ09QOkF2cHIxYg==</td>\n",
       "      <td>HCOP:Avpr1b</td>\n",
       "      <td>HCOP HCOP:Avpr1b</td>\n",
       "      <td>Avpr1b</td>\n",
       "    </tr>\n",
       "  </tbody>\n",
       "</table>\n",
       "</div>"
      ],
      "text/plain": [
       "                  CUI_mouse   CODE_mouse      CodeID_mouse gene_symbol\n",
       "0      SENPUCBIQ09QOkV4dDI=    HCOP:Ext2    HCOP HCOP:Ext2        Ext2\n",
       "1      SENPUCBIQ09QOkFueGE4   HCOP:Anxa8   HCOP HCOP:Anxa8       Anxa8\n",
       "2  SENPUCBIQ09QOkF2cHIxYg==  HCOP:Avpr1b  HCOP HCOP:Avpr1b      Avpr1b"
      ]
     },
     "execution_count": 12,
     "metadata": {},
     "output_type": "execute_result"
    }
   ],
   "source": [
    "mouse_mapping_codes = pd.read_csv(helper_data_dir+'mouse_symbol_cui_codes.csv')\n",
    "mouse_mapping_codes.rename(columns={'mouse_symbol':'gene_symbol'},inplace=True)\n",
    "mouse_mapping_codes.head(3)"
   ]
  },
  {
   "cell_type": "code",
   "execution_count": 13,
   "metadata": {},
   "outputs": [
    {
     "data": {
      "text/html": [
       "<div>\n",
       "<style scoped>\n",
       "    .dataframe tbody tr th:only-of-type {\n",
       "        vertical-align: middle;\n",
       "    }\n",
       "\n",
       "    .dataframe tbody tr th {\n",
       "        vertical-align: top;\n",
       "    }\n",
       "\n",
       "    .dataframe thead th {\n",
       "        text-align: right;\n",
       "    }\n",
       "</style>\n",
       "<table border=\"1\" class=\"dataframe\">\n",
       "  <thead>\n",
       "    <tr style=\"text-align: right;\">\n",
       "      <th></th>\n",
       "      <th>CUI_mouse</th>\n",
       "      <th>CODE_mouse</th>\n",
       "      <th>CodeID_mouse</th>\n",
       "      <th>gene_symbol</th>\n",
       "    </tr>\n",
       "  </thead>\n",
       "  <tbody>\n",
       "    <tr>\n",
       "      <th>0</th>\n",
       "      <td>SENPUCBIQ09QOkV4dDI=</td>\n",
       "      <td>HCOP:Ext2</td>\n",
       "      <td>HCOP HCOP:Ext2</td>\n",
       "      <td>Ext2</td>\n",
       "    </tr>\n",
       "    <tr>\n",
       "      <th>1</th>\n",
       "      <td>SENPUCBIQ09QOkFueGE4</td>\n",
       "      <td>HCOP:Anxa8</td>\n",
       "      <td>HCOP HCOP:Anxa8</td>\n",
       "      <td>Anxa8</td>\n",
       "    </tr>\n",
       "    <tr>\n",
       "      <th>2</th>\n",
       "      <td>SENPUCBIQ09QOkF2cHIxYg==</td>\n",
       "      <td>HCOP:Avpr1b</td>\n",
       "      <td>HCOP HCOP:Avpr1b</td>\n",
       "      <td>Avpr1b</td>\n",
       "    </tr>\n",
       "    <tr>\n",
       "      <th>3</th>\n",
       "      <td>SENPUCBIQ09QOkNjbDE5</td>\n",
       "      <td>HCOP:Ccl19</td>\n",
       "      <td>HCOP HCOP:Ccl19</td>\n",
       "      <td>Ccl19</td>\n",
       "    </tr>\n",
       "    <tr>\n",
       "      <th>4</th>\n",
       "      <td>SENPUCBIQ09QOkdtMjU2NA==</td>\n",
       "      <td>HCOP:Gm2564</td>\n",
       "      <td>HCOP HCOP:Gm2564</td>\n",
       "      <td>Gm2564</td>\n",
       "    </tr>\n",
       "    <tr>\n",
       "      <th>...</th>\n",
       "      <td>...</td>\n",
       "      <td>...</td>\n",
       "      <td>...</td>\n",
       "      <td>...</td>\n",
       "    </tr>\n",
       "    <tr>\n",
       "      <th>66151</th>\n",
       "      <td>SENPUCBIQ09QOkgyYWwxZw==</td>\n",
       "      <td>HCOP:H2al1g</td>\n",
       "      <td>HCOP HCOP:H2al1g</td>\n",
       "      <td>H2al1g</td>\n",
       "    </tr>\n",
       "    <tr>\n",
       "      <th>66152</th>\n",
       "      <td>SENPUCBIQ09QOkgyYWwxYw==</td>\n",
       "      <td>HCOP:H2al1c</td>\n",
       "      <td>HCOP HCOP:H2al1c</td>\n",
       "      <td>H2al1c</td>\n",
       "    </tr>\n",
       "    <tr>\n",
       "      <th>66153</th>\n",
       "      <td>SENPUCBIQ09QOkgyYWwxaA==</td>\n",
       "      <td>HCOP:H2al1h</td>\n",
       "      <td>HCOP HCOP:H2al1h</td>\n",
       "      <td>H2al1h</td>\n",
       "    </tr>\n",
       "    <tr>\n",
       "      <th>66154</th>\n",
       "      <td>SENPUCBIQ09QOkgyYWwxYQ==</td>\n",
       "      <td>HCOP:H2al1a</td>\n",
       "      <td>HCOP HCOP:H2al1a</td>\n",
       "      <td>H2al1a</td>\n",
       "    </tr>\n",
       "    <tr>\n",
       "      <th>66155</th>\n",
       "      <td>SENPUCBIQ09QOkgyYWwyYw==</td>\n",
       "      <td>HCOP:H2al2c</td>\n",
       "      <td>HCOP HCOP:H2al2c</td>\n",
       "      <td>H2al2c</td>\n",
       "    </tr>\n",
       "  </tbody>\n",
       "</table>\n",
       "<p>66156 rows × 4 columns</p>\n",
       "</div>"
      ],
      "text/plain": [
       "                      CUI_mouse   CODE_mouse      CodeID_mouse gene_symbol\n",
       "0          SENPUCBIQ09QOkV4dDI=    HCOP:Ext2    HCOP HCOP:Ext2        Ext2\n",
       "1          SENPUCBIQ09QOkFueGE4   HCOP:Anxa8   HCOP HCOP:Anxa8       Anxa8\n",
       "2      SENPUCBIQ09QOkF2cHIxYg==  HCOP:Avpr1b  HCOP HCOP:Avpr1b      Avpr1b\n",
       "3          SENPUCBIQ09QOkNjbDE5   HCOP:Ccl19   HCOP HCOP:Ccl19       Ccl19\n",
       "4      SENPUCBIQ09QOkdtMjU2NA==  HCOP:Gm2564  HCOP HCOP:Gm2564      Gm2564\n",
       "...                         ...          ...               ...         ...\n",
       "66151  SENPUCBIQ09QOkgyYWwxZw==  HCOP:H2al1g  HCOP HCOP:H2al1g      H2al1g\n",
       "66152  SENPUCBIQ09QOkgyYWwxYw==  HCOP:H2al1c  HCOP HCOP:H2al1c      H2al1c\n",
       "66153  SENPUCBIQ09QOkgyYWwxaA==  HCOP:H2al1h  HCOP HCOP:H2al1h      H2al1h\n",
       "66154  SENPUCBIQ09QOkgyYWwxYQ==  HCOP:H2al1a  HCOP HCOP:H2al1a      H2al1a\n",
       "66155  SENPUCBIQ09QOkgyYWwyYw==  HCOP:H2al2c  HCOP HCOP:H2al2c      H2al2c\n",
       "\n",
       "[66156 rows x 4 columns]"
      ]
     },
     "execution_count": 13,
     "metadata": {},
     "output_type": "execute_result"
    }
   ],
   "source": [
    "mouse_mapping_codes"
   ]
  },
  {
   "cell_type": "code",
   "execution_count": 14,
   "metadata": {},
   "outputs": [
    {
     "data": {
      "text/plain": [
       "0    Chsy1\n",
       "1     Ext2\n",
       "2     Ext1\n",
       "Name: gene_symbol, dtype: object"
      ]
     },
     "execution_count": 14,
     "metadata": {},
     "output_type": "execute_result"
    }
   ],
   "source": [
    "# Load mouse Glycosyltransferases\n",
    "df_GT_mouse = pd.read_csv(data_dir+'glycosyltransferase_and_glycans/mouse/mouse_protein_glycosyltransferase.csv')\n",
    "df_GT_mouse = df_GT_mouse['gene_symbol']\n",
    "df_GT_mouse.head(3)"
   ]
  },
  {
   "cell_type": "code",
   "execution_count": 15,
   "metadata": {},
   "outputs": [],
   "source": [
    "df_mouse_merged = pd.merge(mouse_mapping_codes,df_GT_mouse)"
   ]
  },
  {
   "cell_type": "code",
   "execution_count": 16,
   "metadata": {},
   "outputs": [
    {
     "data": {
      "text/html": [
       "<div>\n",
       "<style scoped>\n",
       "    .dataframe tbody tr th:only-of-type {\n",
       "        vertical-align: middle;\n",
       "    }\n",
       "\n",
       "    .dataframe tbody tr th {\n",
       "        vertical-align: top;\n",
       "    }\n",
       "\n",
       "    .dataframe thead th {\n",
       "        text-align: right;\n",
       "    }\n",
       "</style>\n",
       "<table border=\"1\" class=\"dataframe\">\n",
       "  <thead>\n",
       "    <tr style=\"text-align: right;\">\n",
       "      <th></th>\n",
       "      <th>CUI_mouse</th>\n",
       "      <th>CODE_mouse</th>\n",
       "      <th>CodeID_mouse</th>\n",
       "      <th>gene_symbol</th>\n",
       "      <th>name</th>\n",
       "      <th>:TYPE</th>\n",
       "      <th>SUI</th>\n",
       "    </tr>\n",
       "  </thead>\n",
       "  <tbody>\n",
       "    <tr>\n",
       "      <th>0</th>\n",
       "      <td>SENPUCBIQ09QOkV4dDI=</td>\n",
       "      <td>HCOP:Ext2</td>\n",
       "      <td>HCOP HCOP:Ext2</td>\n",
       "      <td>Ext2</td>\n",
       "      <td>Glycosyltransferase</td>\n",
       "      <td>is_protein_type</td>\n",
       "      <td>R2x5Y29zeWx0cmFuc2ZlcmFzZQ==</td>\n",
       "    </tr>\n",
       "    <tr>\n",
       "      <th>1</th>\n",
       "      <td>SENPUCBIQ09QOkI0Z2FsdDQ=</td>\n",
       "      <td>HCOP:B4galt4</td>\n",
       "      <td>HCOP HCOP:B4galt4</td>\n",
       "      <td>B4galt4</td>\n",
       "      <td>Glycosyltransferase</td>\n",
       "      <td>is_protein_type</td>\n",
       "      <td>R2x5Y29zeWx0cmFuc2ZlcmFzZQ==</td>\n",
       "    </tr>\n",
       "  </tbody>\n",
       "</table>\n",
       "</div>"
      ],
      "text/plain": [
       "                  CUI_mouse    CODE_mouse       CodeID_mouse gene_symbol  \\\n",
       "0      SENPUCBIQ09QOkV4dDI=     HCOP:Ext2     HCOP HCOP:Ext2        Ext2   \n",
       "1  SENPUCBIQ09QOkI0Z2FsdDQ=  HCOP:B4galt4  HCOP HCOP:B4galt4     B4galt4   \n",
       "\n",
       "                  name            :TYPE                           SUI  \n",
       "0  Glycosyltransferase  is_protein_type  R2x5Y29zeWx0cmFuc2ZlcmFzZQ==  \n",
       "1  Glycosyltransferase  is_protein_type  R2x5Y29zeWx0cmFuc2ZlcmFzZQ==  "
      ]
     },
     "execution_count": 16,
     "metadata": {},
     "output_type": "execute_result"
    }
   ],
   "source": [
    "df_mouse_merged['name'] =  'Glycosyltransferase'    # pd.Series(glyco_term_name*len(glyco_df))\n",
    "df_mouse_merged[':TYPE'] = 'is_protein_type'\n",
    "\n",
    "# Create the Tem unique ID, aka SUI\n",
    "df_mouse_merged['SUI'] = CUIbase64(df_mouse_merged['name'] )\n",
    "\n",
    "df_mouse_merged.head(2)"
   ]
  },
  {
   "cell_type": "code",
   "execution_count": 17,
   "metadata": {},
   "outputs": [],
   "source": [
    "glyco_CODE_SUIs_mouse = df_mouse_merged[['CodeID_mouse','SUI','CUI_mouse',':TYPE']]\\\n",
    "                            .rename(columns=\n",
    "                                            {'CodeID_mouse':':START_ID',\n",
    "                                             'SUI'         :':END_ID',\n",
    "                                             'CUI_mouse'   :'CUI'})"
   ]
  },
  {
   "cell_type": "code",
   "execution_count": 68,
   "metadata": {},
   "outputs": [
    {
     "data": {
      "text/html": [
       "<div>\n",
       "<style scoped>\n",
       "    .dataframe tbody tr th:only-of-type {\n",
       "        vertical-align: middle;\n",
       "    }\n",
       "\n",
       "    .dataframe tbody tr th {\n",
       "        vertical-align: top;\n",
       "    }\n",
       "\n",
       "    .dataframe thead th {\n",
       "        text-align: right;\n",
       "    }\n",
       "</style>\n",
       "<table border=\"1\" class=\"dataframe\">\n",
       "  <thead>\n",
       "    <tr style=\"text-align: right;\">\n",
       "      <th></th>\n",
       "      <th>:START_ID</th>\n",
       "      <th>:END_ID</th>\n",
       "      <th>CUI</th>\n",
       "      <th>:TYPE</th>\n",
       "    </tr>\n",
       "  </thead>\n",
       "  <tbody>\n",
       "    <tr>\n",
       "      <th>0</th>\n",
       "      <td>HGNC HGNC:33383</td>\n",
       "      <td>R2x5Y29zeWx0cmFuc2ZlcmFzZQ==</td>\n",
       "      <td>C2239497</td>\n",
       "      <td>is_protein_type</td>\n",
       "    </tr>\n",
       "    <tr>\n",
       "      <th>1</th>\n",
       "      <td>HGNC HGNC:43619</td>\n",
       "      <td>R2x5Y29zeWx0cmFuc2ZlcmFzZQ==</td>\n",
       "      <td>C1853199</td>\n",
       "      <td>is_protein_type</td>\n",
       "    </tr>\n",
       "  </tbody>\n",
       "</table>\n",
       "</div>"
      ],
      "text/plain": [
       "         :START_ID                       :END_ID       CUI            :TYPE\n",
       "0  HGNC HGNC:33383  R2x5Y29zeWx0cmFuc2ZlcmFzZQ==  C2239497  is_protein_type\n",
       "1  HGNC HGNC:43619  R2x5Y29zeWx0cmFuc2ZlcmFzZQ==  C1853199  is_protein_type"
      ]
     },
     "execution_count": 68,
     "metadata": {},
     "output_type": "execute_result"
    }
   ],
   "source": [
    "glyco_CODE_SUIs.head(2)"
   ]
  },
  {
   "cell_type": "code",
   "execution_count": 41,
   "metadata": {},
   "outputs": [
    {
     "data": {
      "text/html": [
       "<div>\n",
       "<style scoped>\n",
       "    .dataframe tbody tr th:only-of-type {\n",
       "        vertical-align: middle;\n",
       "    }\n",
       "\n",
       "    .dataframe tbody tr th {\n",
       "        vertical-align: top;\n",
       "    }\n",
       "\n",
       "    .dataframe thead th {\n",
       "        text-align: right;\n",
       "    }\n",
       "</style>\n",
       "<table border=\"1\" class=\"dataframe\">\n",
       "  <thead>\n",
       "    <tr style=\"text-align: right;\">\n",
       "      <th></th>\n",
       "      <th>:START_ID</th>\n",
       "      <th>:END_ID</th>\n",
       "      <th>CUI</th>\n",
       "      <th>:TYPE</th>\n",
       "    </tr>\n",
       "  </thead>\n",
       "  <tbody>\n",
       "    <tr>\n",
       "      <th>0</th>\n",
       "      <td>HCOP HCOP:Ext2</td>\n",
       "      <td>R2x5Y29zeWx0cmFuc2ZlcmFzZQ==</td>\n",
       "      <td>SENPUCBIQ09QOkV4dDI=</td>\n",
       "      <td>is_protein_type</td>\n",
       "    </tr>\n",
       "    <tr>\n",
       "      <th>1</th>\n",
       "      <td>HCOP HCOP:B4galt4</td>\n",
       "      <td>R2x5Y29zeWx0cmFuc2ZlcmFzZQ==</td>\n",
       "      <td>SENPUCBIQ09QOkI0Z2FsdDQ=</td>\n",
       "      <td>is_protein_type</td>\n",
       "    </tr>\n",
       "  </tbody>\n",
       "</table>\n",
       "</div>"
      ],
      "text/plain": [
       "           :START_ID                       :END_ID                       CUI  \\\n",
       "0     HCOP HCOP:Ext2  R2x5Y29zeWx0cmFuc2ZlcmFzZQ==      SENPUCBIQ09QOkV4dDI=   \n",
       "1  HCOP HCOP:B4galt4  R2x5Y29zeWx0cmFuc2ZlcmFzZQ==  SENPUCBIQ09QOkI0Z2FsdDQ=   \n",
       "\n",
       "             :TYPE  \n",
       "0  is_protein_type  \n",
       "1  is_protein_type  "
      ]
     },
     "execution_count": 41,
     "metadata": {},
     "output_type": "execute_result"
    }
   ],
   "source": [
    "glyco_CODE_SUIs_mouse.head(2)"
   ]
  },
  {
   "cell_type": "markdown",
   "metadata": {},
   "source": [
    "### Have the glycosyltransferase Term node be the same for humans and mouse, or shouuld there be 2 seperate nodes?"
   ]
  },
  {
   "cell_type": "markdown",
   "metadata": {},
   "source": [
    "#### can just reuse the human sui here"
   ]
  },
  {
   "cell_type": "code",
   "execution_count": 18,
   "metadata": {},
   "outputs": [],
   "source": [
    "glyco_SUIs_mouse = df_mouse_merged[['SUI','name']].rename(columns={'SUI':'SUI:ID'}).drop_duplicates()"
   ]
  },
  {
   "cell_type": "code",
   "execution_count": 69,
   "metadata": {},
   "outputs": [
    {
     "data": {
      "text/html": [
       "<div>\n",
       "<style scoped>\n",
       "    .dataframe tbody tr th:only-of-type {\n",
       "        vertical-align: middle;\n",
       "    }\n",
       "\n",
       "    .dataframe tbody tr th {\n",
       "        vertical-align: top;\n",
       "    }\n",
       "\n",
       "    .dataframe thead th {\n",
       "        text-align: right;\n",
       "    }\n",
       "</style>\n",
       "<table border=\"1\" class=\"dataframe\">\n",
       "  <thead>\n",
       "    <tr style=\"text-align: right;\">\n",
       "      <th></th>\n",
       "      <th>SUI:ID</th>\n",
       "      <th>name</th>\n",
       "    </tr>\n",
       "  </thead>\n",
       "  <tbody>\n",
       "    <tr>\n",
       "      <th>0</th>\n",
       "      <td>R2x5Y29zeWx0cmFuc2ZlcmFzZQ==</td>\n",
       "      <td>Glycosyltransferase</td>\n",
       "    </tr>\n",
       "  </tbody>\n",
       "</table>\n",
       "</div>"
      ],
      "text/plain": [
       "                         SUI:ID                 name\n",
       "0  R2x5Y29zeWx0cmFuc2ZlcmFzZQ==  Glycosyltransferase"
      ]
     },
     "execution_count": 69,
     "metadata": {},
     "output_type": "execute_result"
    }
   ],
   "source": [
    "glyco_SUIs_mouse"
   ]
  },
  {
   "cell_type": "markdown",
   "metadata": {},
   "source": [
    "# Add Glycans annotations, just like the glycosyltransferase annotations above, this dataset will be used to annotate gene Code nodes\n",
    "#### The glycan dataset contains both human and mouse annotations\n",
    "#### https://data.glygen.org/GLY_000284"
   ]
  },
  {
   "cell_type": "code",
   "execution_count": 19,
   "metadata": {},
   "outputs": [],
   "source": [
    "glycans = pd.read_csv(data_dir+'glycosyltransferase_and_glycans/glycan_enzyme.csv')\n",
    "\n",
    "df_glycans = glycans[['gene_name','species']]\n"
   ]
  },
  {
   "cell_type": "code",
   "execution_count": 20,
   "metadata": {},
   "outputs": [
    {
     "data": {
      "text/html": [
       "<div>\n",
       "<style scoped>\n",
       "    .dataframe tbody tr th:only-of-type {\n",
       "        vertical-align: middle;\n",
       "    }\n",
       "\n",
       "    .dataframe tbody tr th {\n",
       "        vertical-align: top;\n",
       "    }\n",
       "\n",
       "    .dataframe thead th {\n",
       "        text-align: right;\n",
       "    }\n",
       "</style>\n",
       "<table border=\"1\" class=\"dataframe\">\n",
       "  <thead>\n",
       "    <tr style=\"text-align: right;\">\n",
       "      <th></th>\n",
       "      <th>gene_name</th>\n",
       "      <th>species</th>\n",
       "    </tr>\n",
       "  </thead>\n",
       "  <tbody>\n",
       "    <tr>\n",
       "      <th>0</th>\n",
       "      <td>Alg2</td>\n",
       "      <td>mouse</td>\n",
       "    </tr>\n",
       "    <tr>\n",
       "      <th>5</th>\n",
       "      <td>Fut8</td>\n",
       "      <td>mouse</td>\n",
       "    </tr>\n",
       "  </tbody>\n",
       "</table>\n",
       "</div>"
      ],
      "text/plain": [
       "  gene_name species\n",
       "0      Alg2   mouse\n",
       "5      Fut8   mouse"
      ]
     },
     "execution_count": 20,
     "metadata": {},
     "output_type": "execute_result"
    }
   ],
   "source": [
    "glycan_human = df_glycans[df_glycans['species'] == 'human'].drop_duplicates()\n",
    "glycan_mouse = df_glycans[df_glycans['species'] == 'mouse'].drop_duplicates()\n",
    "glycan_mouse.head(2)"
   ]
  },
  {
   "cell_type": "code",
   "execution_count": 49,
   "metadata": {},
   "outputs": [],
   "source": [
    "glycan_mouse"
   ]
  },
  {
   "cell_type": "code",
   "execution_count": 21,
   "metadata": {},
   "outputs": [
    {
     "data": {
      "text/html": [
       "<div>\n",
       "<style scoped>\n",
       "    .dataframe tbody tr th:only-of-type {\n",
       "        vertical-align: middle;\n",
       "    }\n",
       "\n",
       "    .dataframe tbody tr th {\n",
       "        vertical-align: top;\n",
       "    }\n",
       "\n",
       "    .dataframe thead th {\n",
       "        text-align: right;\n",
       "    }\n",
       "</style>\n",
       "<table border=\"1\" class=\"dataframe\">\n",
       "  <thead>\n",
       "    <tr style=\"text-align: right;\">\n",
       "      <th></th>\n",
       "      <th>CodeID</th>\n",
       "      <th>CUI</th>\n",
       "      <th>gene_name</th>\n",
       "      <th>HGNC_ID</th>\n",
       "      <th>species</th>\n",
       "    </tr>\n",
       "  </thead>\n",
       "  <tbody>\n",
       "    <tr>\n",
       "      <th>0</th>\n",
       "      <td>HGNC HGNC:23162</td>\n",
       "      <td>C1427958</td>\n",
       "      <td>ALG10</td>\n",
       "      <td>HGNC:23162</td>\n",
       "      <td>human</td>\n",
       "    </tr>\n",
       "    <tr>\n",
       "      <th>1</th>\n",
       "      <td>HGNC HGNC:920</td>\n",
       "      <td>C1412715</td>\n",
       "      <td>B3GALT5</td>\n",
       "      <td>HGNC:920</td>\n",
       "      <td>human</td>\n",
       "    </tr>\n",
       "  </tbody>\n",
       "</table>\n",
       "</div>"
      ],
      "text/plain": [
       "            CodeID       CUI gene_name     HGNC_ID species\n",
       "0  HGNC HGNC:23162  C1427958     ALG10  HGNC:23162   human\n",
       "1    HGNC HGNC:920  C1412715   B3GALT5    HGNC:920   human"
      ]
     },
     "execution_count": 21,
     "metadata": {},
     "output_type": "execute_result"
    }
   ],
   "source": [
    "glycan_human_merged = pd.merge(umls_hgnc_ids2codes.rename(columns={'symbol':'gene_name'}),\n",
    "                                                                 glycan_human)\n",
    "\n",
    "glycan_human_merged.head(2)"
   ]
  },
  {
   "cell_type": "code",
   "execution_count": 22,
   "metadata": {},
   "outputs": [
    {
     "data": {
      "text/html": [
       "<div>\n",
       "<style scoped>\n",
       "    .dataframe tbody tr th:only-of-type {\n",
       "        vertical-align: middle;\n",
       "    }\n",
       "\n",
       "    .dataframe tbody tr th {\n",
       "        vertical-align: top;\n",
       "    }\n",
       "\n",
       "    .dataframe thead th {\n",
       "        text-align: right;\n",
       "    }\n",
       "</style>\n",
       "<table border=\"1\" class=\"dataframe\">\n",
       "  <thead>\n",
       "    <tr style=\"text-align: right;\">\n",
       "      <th></th>\n",
       "      <th>CUI_mouse</th>\n",
       "      <th>CODE_mouse</th>\n",
       "      <th>CodeID_mouse</th>\n",
       "      <th>gene_name</th>\n",
       "      <th>species</th>\n",
       "    </tr>\n",
       "  </thead>\n",
       "  <tbody>\n",
       "    <tr>\n",
       "      <th>0</th>\n",
       "      <td>SENPUCBIQ09QOkFsZzY=</td>\n",
       "      <td>HCOP:Alg6</td>\n",
       "      <td>HCOP HCOP:Alg6</td>\n",
       "      <td>Alg6</td>\n",
       "      <td>mouse</td>\n",
       "    </tr>\n",
       "    <tr>\n",
       "      <th>1</th>\n",
       "      <td>SENPUCBIQ09QOkRwYWd0MQ==</td>\n",
       "      <td>HCOP:Dpagt1</td>\n",
       "      <td>HCOP HCOP:Dpagt1</td>\n",
       "      <td>Dpagt1</td>\n",
       "      <td>mouse</td>\n",
       "    </tr>\n",
       "  </tbody>\n",
       "</table>\n",
       "</div>"
      ],
      "text/plain": [
       "                  CUI_mouse   CODE_mouse      CodeID_mouse gene_name species\n",
       "0      SENPUCBIQ09QOkFsZzY=    HCOP:Alg6    HCOP HCOP:Alg6      Alg6   mouse\n",
       "1  SENPUCBIQ09QOkRwYWd0MQ==  HCOP:Dpagt1  HCOP HCOP:Dpagt1    Dpagt1   mouse"
      ]
     },
     "execution_count": 22,
     "metadata": {},
     "output_type": "execute_result"
    }
   ],
   "source": [
    "glycan_mouse_merged = pd.merge(mouse_mapping_codes.rename(columns={'gene_symbol':'gene_name'})\n",
    "         ,glycan_mouse)\n",
    "\n",
    "glycan_mouse_merged.head(2)"
   ]
  },
  {
   "cell_type": "code",
   "execution_count": 23,
   "metadata": {},
   "outputs": [
    {
     "data": {
      "text/html": [
       "<div>\n",
       "<style scoped>\n",
       "    .dataframe tbody tr th:only-of-type {\n",
       "        vertical-align: middle;\n",
       "    }\n",
       "\n",
       "    .dataframe tbody tr th {\n",
       "        vertical-align: top;\n",
       "    }\n",
       "\n",
       "    .dataframe thead th {\n",
       "        text-align: right;\n",
       "    }\n",
       "</style>\n",
       "<table border=\"1\" class=\"dataframe\">\n",
       "  <thead>\n",
       "    <tr style=\"text-align: right;\">\n",
       "      <th></th>\n",
       "      <th>CodeID</th>\n",
       "      <th>CUI</th>\n",
       "      <th>Code</th>\n",
       "    </tr>\n",
       "  </thead>\n",
       "  <tbody>\n",
       "    <tr>\n",
       "      <th>0</th>\n",
       "      <td>HGNC HGNC:23162</td>\n",
       "      <td>C1427958</td>\n",
       "      <td>HGNC:23162</td>\n",
       "    </tr>\n",
       "    <tr>\n",
       "      <th>1</th>\n",
       "      <td>HGNC HGNC:920</td>\n",
       "      <td>C1412715</td>\n",
       "      <td>HGNC:920</td>\n",
       "    </tr>\n",
       "  </tbody>\n",
       "</table>\n",
       "</div>"
      ],
      "text/plain": [
       "            CodeID       CUI        Code\n",
       "0  HGNC HGNC:23162  C1427958  HGNC:23162\n",
       "1    HGNC HGNC:920  C1412715    HGNC:920"
      ]
     },
     "execution_count": 23,
     "metadata": {},
     "output_type": "execute_result"
    }
   ],
   "source": [
    "# change column names to match eachother\n",
    "\n",
    "glycans_both = pd.concat([glycan_human_merged.rename(columns={'HGNC_ID':'Code'}),\n",
    "                        glycan_mouse_merged.rename(columns={'CODE_mouse':'Code','CUI_mouse':'CUI',\n",
    "                                   'CodeID_mouse':'CodeID'}) ])\n",
    "\n",
    "\n",
    "# Drop unneccessary cols\n",
    "glycans_both.drop(['gene_name','species'],axis=1,inplace=True)\n",
    "glycans_both.head(2)"
   ]
  },
  {
   "cell_type": "code",
   "execution_count": 24,
   "metadata": {},
   "outputs": [
    {
     "data": {
      "text/html": [
       "<div>\n",
       "<style scoped>\n",
       "    .dataframe tbody tr th:only-of-type {\n",
       "        vertical-align: middle;\n",
       "    }\n",
       "\n",
       "    .dataframe tbody tr th {\n",
       "        vertical-align: top;\n",
       "    }\n",
       "\n",
       "    .dataframe thead th {\n",
       "        text-align: right;\n",
       "    }\n",
       "</style>\n",
       "<table border=\"1\" class=\"dataframe\">\n",
       "  <thead>\n",
       "    <tr style=\"text-align: right;\">\n",
       "      <th></th>\n",
       "      <th>CodeID</th>\n",
       "      <th>CUI</th>\n",
       "      <th>Code</th>\n",
       "      <th>name</th>\n",
       "      <th>:TYPE</th>\n",
       "      <th>SUI</th>\n",
       "    </tr>\n",
       "  </thead>\n",
       "  <tbody>\n",
       "    <tr>\n",
       "      <th>0</th>\n",
       "      <td>HGNC HGNC:23162</td>\n",
       "      <td>C1427958</td>\n",
       "      <td>HGNC:23162</td>\n",
       "      <td>Glycan</td>\n",
       "      <td>is_protein_type</td>\n",
       "      <td>S20147466</td>\n",
       "    </tr>\n",
       "    <tr>\n",
       "      <th>1</th>\n",
       "      <td>HGNC HGNC:920</td>\n",
       "      <td>C1412715</td>\n",
       "      <td>HGNC:920</td>\n",
       "      <td>Glycan</td>\n",
       "      <td>is_protein_type</td>\n",
       "      <td>S20147466</td>\n",
       "    </tr>\n",
       "  </tbody>\n",
       "</table>\n",
       "</div>"
      ],
      "text/plain": [
       "            CodeID       CUI        Code    name            :TYPE        SUI\n",
       "0  HGNC HGNC:23162  C1427958  HGNC:23162  Glycan  is_protein_type  S20147466\n",
       "1    HGNC HGNC:920  C1412715    HGNC:920  Glycan  is_protein_type  S20147466"
      ]
     },
     "execution_count": 24,
     "metadata": {},
     "output_type": "execute_result"
    }
   ],
   "source": [
    "glycans_both['name'] =  'Glycan'    \n",
    "glycans_both[':TYPE'] = 'is_protein_type'\n",
    "\n",
    "# 'Glycan' Term already exists in the UMLS graph db, just set the SUI column to this nodes SUI\n",
    "# SUI: S20147466\n",
    "# name: Glycan\n",
    "glycans_both['SUI'] =   'S20147466'    #CUIbase64(glycans_both['name'] )\n",
    "glycans_both.head(2)"
   ]
  },
  {
   "cell_type": "code",
   "execution_count": 25,
   "metadata": {},
   "outputs": [
    {
     "data": {
      "text/html": [
       "<div>\n",
       "<style scoped>\n",
       "    .dataframe tbody tr th:only-of-type {\n",
       "        vertical-align: middle;\n",
       "    }\n",
       "\n",
       "    .dataframe tbody tr th {\n",
       "        vertical-align: top;\n",
       "    }\n",
       "\n",
       "    .dataframe thead th {\n",
       "        text-align: right;\n",
       "    }\n",
       "</style>\n",
       "<table border=\"1\" class=\"dataframe\">\n",
       "  <thead>\n",
       "    <tr style=\"text-align: right;\">\n",
       "      <th></th>\n",
       "      <th>:START_ID</th>\n",
       "      <th>:END_ID</th>\n",
       "      <th>CUI</th>\n",
       "      <th>:TYPE</th>\n",
       "    </tr>\n",
       "  </thead>\n",
       "  <tbody>\n",
       "    <tr>\n",
       "      <th>0</th>\n",
       "      <td>HGNC HGNC:23162</td>\n",
       "      <td>S20147466</td>\n",
       "      <td>C1427958</td>\n",
       "      <td>is_protein_type</td>\n",
       "    </tr>\n",
       "    <tr>\n",
       "      <th>1</th>\n",
       "      <td>HGNC HGNC:920</td>\n",
       "      <td>S20147466</td>\n",
       "      <td>C1412715</td>\n",
       "      <td>is_protein_type</td>\n",
       "    </tr>\n",
       "  </tbody>\n",
       "</table>\n",
       "</div>"
      ],
      "text/plain": [
       "         :START_ID    :END_ID       CUI            :TYPE\n",
       "0  HGNC HGNC:23162  S20147466  C1427958  is_protein_type\n",
       "1    HGNC HGNC:920  S20147466  C1412715  is_protein_type"
      ]
     },
     "execution_count": 25,
     "metadata": {},
     "output_type": "execute_result"
    }
   ],
   "source": [
    "glycans_CODE_SUIs = glycans_both[['CodeID','SUI','CUI',':TYPE']].rename(columns=\n",
    "                                            {'CodeID':':START_ID',\n",
    "                                             'SUI'   :':END_ID'})\n",
    "glycans_CODE_SUIs.head(2)"
   ]
  },
  {
   "cell_type": "code",
   "execution_count": 26,
   "metadata": {},
   "outputs": [],
   "source": [
    "assert glyco_CODE_SUIs[':END_ID'][0] == glyco_CODE_SUIs_mouse[':END_ID'][0]"
   ]
  },
  {
   "cell_type": "markdown",
   "metadata": {},
   "source": [
    "### Concatenate glycosyltransferase and glycan CODE_SUIs and SUIs df's together"
   ]
  },
  {
   "cell_type": "code",
   "execution_count": 27,
   "metadata": {},
   "outputs": [],
   "source": [
    "CODE_SUIs_all = pd.concat([glyco_CODE_SUIs,glyco_CODE_SUIs_mouse, glycans_CODE_SUIs])\n",
    "SUIs_all = pd.concat([glyco_SUIs])  #,glycans_SUIs]) # glyco_SUIs_mouse, same as the human glyco term\n",
    "\n",
    "assert len(CODE_SUIs_all.columns) == 4\n",
    "assert len(SUIs_all.columns) == 2"
   ]
  },
  {
   "cell_type": "markdown",
   "metadata": {},
   "source": [
    "### Save"
   ]
  },
  {
   "cell_type": "code",
   "execution_count": 64,
   "metadata": {},
   "outputs": [],
   "source": [
    "CODE_SUIs_all.to_csv(output_dir+'glygen_annos/CODE_SUIs_glygenAnnos.csv',index=False)\n",
    "\n",
    "SUIs_all.to_csv(output_dir+'glygen_annos/SUIs_glygenAnnos.csv',index=False)"
   ]
  },
  {
   "cell_type": "code",
   "execution_count": 28,
   "metadata": {},
   "outputs": [
    {
     "data": {
      "text/html": [
       "<div>\n",
       "<style scoped>\n",
       "    .dataframe tbody tr th:only-of-type {\n",
       "        vertical-align: middle;\n",
       "    }\n",
       "\n",
       "    .dataframe tbody tr th {\n",
       "        vertical-align: top;\n",
       "    }\n",
       "\n",
       "    .dataframe thead th {\n",
       "        text-align: right;\n",
       "    }\n",
       "</style>\n",
       "<table border=\"1\" class=\"dataframe\">\n",
       "  <thead>\n",
       "    <tr style=\"text-align: right;\">\n",
       "      <th></th>\n",
       "      <th>SUI:ID</th>\n",
       "      <th>name</th>\n",
       "    </tr>\n",
       "  </thead>\n",
       "  <tbody>\n",
       "    <tr>\n",
       "      <th>0</th>\n",
       "      <td>R2x5Y29zeWx0cmFuc2ZlcmFzZQ==</td>\n",
       "      <td>Glycosyltransferase</td>\n",
       "    </tr>\n",
       "  </tbody>\n",
       "</table>\n",
       "</div>"
      ],
      "text/plain": [
       "                         SUI:ID                 name\n",
       "0  R2x5Y29zeWx0cmFuc2ZlcmFzZQ==  Glycosyltransferase"
      ]
     },
     "execution_count": 28,
     "metadata": {},
     "output_type": "execute_result"
    }
   ],
   "source": [
    "SUIs_all"
   ]
  },
  {
   "cell_type": "code",
   "execution_count": 30,
   "metadata": {},
   "outputs": [
    {
     "data": {
      "text/html": [
       "<div>\n",
       "<style scoped>\n",
       "    .dataframe tbody tr th:only-of-type {\n",
       "        vertical-align: middle;\n",
       "    }\n",
       "\n",
       "    .dataframe tbody tr th {\n",
       "        vertical-align: top;\n",
       "    }\n",
       "\n",
       "    .dataframe thead th {\n",
       "        text-align: right;\n",
       "    }\n",
       "</style>\n",
       "<table border=\"1\" class=\"dataframe\">\n",
       "  <thead>\n",
       "    <tr style=\"text-align: right;\">\n",
       "      <th></th>\n",
       "      <th>:START_ID</th>\n",
       "      <th>:END_ID</th>\n",
       "      <th>CUI</th>\n",
       "      <th>:TYPE</th>\n",
       "    </tr>\n",
       "  </thead>\n",
       "  <tbody>\n",
       "    <tr>\n",
       "      <th>0</th>\n",
       "      <td>HCOP HCOP:Ext2</td>\n",
       "      <td>R2x5Y29zeWx0cmFuc2ZlcmFzZQ==</td>\n",
       "      <td>SENPUCBIQ09QOkV4dDI=</td>\n",
       "      <td>is_protein_type</td>\n",
       "    </tr>\n",
       "    <tr>\n",
       "      <th>1</th>\n",
       "      <td>HCOP HCOP:B4galt4</td>\n",
       "      <td>R2x5Y29zeWx0cmFuc2ZlcmFzZQ==</td>\n",
       "      <td>SENPUCBIQ09QOkI0Z2FsdDQ=</td>\n",
       "      <td>is_protein_type</td>\n",
       "    </tr>\n",
       "    <tr>\n",
       "      <th>2</th>\n",
       "      <td>HCOP HCOP:Galnt6</td>\n",
       "      <td>R2x5Y29zeWx0cmFuc2ZlcmFzZQ==</td>\n",
       "      <td>SENPUCBIQ09QOkdhbG50Ng==</td>\n",
       "      <td>is_protein_type</td>\n",
       "    </tr>\n",
       "    <tr>\n",
       "      <th>3</th>\n",
       "      <td>HCOP HCOP:Galnt6</td>\n",
       "      <td>R2x5Y29zeWx0cmFuc2ZlcmFzZQ==</td>\n",
       "      <td>SENPUCBIQ09QOkdhbG50Ng==</td>\n",
       "      <td>is_protein_type</td>\n",
       "    </tr>\n",
       "    <tr>\n",
       "      <th>4</th>\n",
       "      <td>HCOP HCOP:Galnt3</td>\n",
       "      <td>R2x5Y29zeWx0cmFuc2ZlcmFzZQ==</td>\n",
       "      <td>SENPUCBIQ09QOkdhbG50Mw==</td>\n",
       "      <td>is_protein_type</td>\n",
       "    </tr>\n",
       "    <tr>\n",
       "      <th>...</th>\n",
       "      <td>...</td>\n",
       "      <td>...</td>\n",
       "      <td>...</td>\n",
       "      <td>...</td>\n",
       "    </tr>\n",
       "    <tr>\n",
       "      <th>53</th>\n",
       "      <td>HCOP HCOP:B3gnt8</td>\n",
       "      <td>S20147466</td>\n",
       "      <td>SENPUCBIQ09QOkIzZ250OA==</td>\n",
       "      <td>is_protein_type</td>\n",
       "    </tr>\n",
       "    <tr>\n",
       "      <th>54</th>\n",
       "      <td>HCOP HCOP:Mgat3</td>\n",
       "      <td>S20147466</td>\n",
       "      <td>SENPUCBIQ09QOk1nYXQz</td>\n",
       "      <td>is_protein_type</td>\n",
       "    </tr>\n",
       "    <tr>\n",
       "      <th>55</th>\n",
       "      <td>HCOP HCOP:B4galt3</td>\n",
       "      <td>S20147466</td>\n",
       "      <td>SENPUCBIQ09QOkI0Z2FsdDM=</td>\n",
       "      <td>is_protein_type</td>\n",
       "    </tr>\n",
       "    <tr>\n",
       "      <th>56</th>\n",
       "      <td>HCOP HCOP:Alg9</td>\n",
       "      <td>S20147466</td>\n",
       "      <td>SENPUCBIQ09QOkFsZzk=</td>\n",
       "      <td>is_protein_type</td>\n",
       "    </tr>\n",
       "    <tr>\n",
       "      <th>57</th>\n",
       "      <td>HCOP HCOP:B3galt5</td>\n",
       "      <td>S20147466</td>\n",
       "      <td>SENPUCBIQ09QOkIzZ2FsdDU=</td>\n",
       "      <td>is_protein_type</td>\n",
       "    </tr>\n",
       "  </tbody>\n",
       "</table>\n",
       "<p>389 rows × 4 columns</p>\n",
       "</div>"
      ],
      "text/plain": [
       "            :START_ID                       :END_ID                       CUI  \\\n",
       "0      HCOP HCOP:Ext2  R2x5Y29zeWx0cmFuc2ZlcmFzZQ==      SENPUCBIQ09QOkV4dDI=   \n",
       "1   HCOP HCOP:B4galt4  R2x5Y29zeWx0cmFuc2ZlcmFzZQ==  SENPUCBIQ09QOkI0Z2FsdDQ=   \n",
       "2    HCOP HCOP:Galnt6  R2x5Y29zeWx0cmFuc2ZlcmFzZQ==  SENPUCBIQ09QOkdhbG50Ng==   \n",
       "3    HCOP HCOP:Galnt6  R2x5Y29zeWx0cmFuc2ZlcmFzZQ==  SENPUCBIQ09QOkdhbG50Ng==   \n",
       "4    HCOP HCOP:Galnt3  R2x5Y29zeWx0cmFuc2ZlcmFzZQ==  SENPUCBIQ09QOkdhbG50Mw==   \n",
       "..                ...                           ...                       ...   \n",
       "53   HCOP HCOP:B3gnt8                     S20147466  SENPUCBIQ09QOkIzZ250OA==   \n",
       "54    HCOP HCOP:Mgat3                     S20147466      SENPUCBIQ09QOk1nYXQz   \n",
       "55  HCOP HCOP:B4galt3                     S20147466  SENPUCBIQ09QOkI0Z2FsdDM=   \n",
       "56     HCOP HCOP:Alg9                     S20147466      SENPUCBIQ09QOkFsZzk=   \n",
       "57  HCOP HCOP:B3galt5                     S20147466  SENPUCBIQ09QOkIzZ2FsdDU=   \n",
       "\n",
       "              :TYPE  \n",
       "0   is_protein_type  \n",
       "1   is_protein_type  \n",
       "2   is_protein_type  \n",
       "3   is_protein_type  \n",
       "4   is_protein_type  \n",
       "..              ...  \n",
       "53  is_protein_type  \n",
       "54  is_protein_type  \n",
       "55  is_protein_type  \n",
       "56  is_protein_type  \n",
       "57  is_protein_type  \n",
       "\n",
       "[389 rows x 4 columns]"
      ]
     },
     "execution_count": 30,
     "metadata": {},
     "output_type": "execute_result"
    }
   ],
   "source": [
    "CODE_SUIs_all[CODE_SUIs_all[':START_ID'].str.startswith('HCOP')]"
   ]
  },
  {
   "cell_type": "code",
   "execution_count": null,
   "metadata": {},
   "outputs": [],
   "source": []
  }
 ],
 "metadata": {
  "kernelspec": {
   "display_name": "Python 3",
   "language": "python",
   "name": "python3"
  },
  "language_info": {
   "codemirror_mode": {
    "name": "ipython",
    "version": 3
   },
   "file_extension": ".py",
   "mimetype": "text/x-python",
   "name": "python",
   "nbconvert_exporter": "python",
   "pygments_lexer": "ipython3",
   "version": "3.7.4"
  }
 },
 "nbformat": 4,
 "nbformat_minor": 2
}
