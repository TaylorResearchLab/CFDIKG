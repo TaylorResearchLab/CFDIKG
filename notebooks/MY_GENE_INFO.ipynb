{
 "cells": [
  {
   "cell_type": "code",
   "execution_count": 1,
   "metadata": {},
   "outputs": [],
   "source": [
    "import pandas as pd\n",
    "import numpy as np\n",
    "import requests\n",
    "import mygene\n",
    "\n",
    "pd.set_option('display.max_columns', None)\n"
   ]
  },
  {
   "cell_type": "code",
   "execution_count": 2,
   "metadata": {},
   "outputs": [],
   "source": [
    "mg = mygene.MyGeneInfo()"
   ]
  },
  {
   "cell_type": "code",
   "execution_count": 3,
   "metadata": {},
   "outputs": [],
   "source": [
    "gene_list = pd.read_csv('homologous_genes.csv',index_col=0,sep=',')\n",
    "gene_list.iloc[:12,:].to_csv('homologs_12.csv',sep=',')"
   ]
  },
  {
   "cell_type": "code",
   "execution_count": 4,
   "metadata": {},
   "outputs": [
    {
     "data": {
      "text/plain": [
       "array(['A1BG', 'A1CF', 'A2M', 'A3GALT2', 'A4GALT', 'A4GNT', 'AAAS',\n",
       "       'AACS', 'AADAC', 'AADACL2', 'AADACL3', 'AADACL4'], dtype=object)"
      ]
     },
     "execution_count": 4,
     "metadata": {},
     "output_type": "execute_result"
    }
   ],
   "source": [
    "human_genes = gene_list['Human'].unique()\n",
    "human_genes[:12]"
   ]
  },
  {
   "cell_type": "code",
   "execution_count": 5,
   "metadata": {},
   "outputs": [
    {
     "data": {
      "text/plain": [
       "array(['A1bg', 'A1cf', 'A2m', 'A3galt2', 'A4galt', 'A4gnt', 'Aaas',\n",
       "       'Aacs', 'Aadac', 'Aadacl2', 'Aadacl3', 'Aadacl4'], dtype=object)"
      ]
     },
     "execution_count": 5,
     "metadata": {},
     "output_type": "execute_result"
    }
   ],
   "source": [
    "mouse_genes = gene_list['Mouse'].unique()\n",
    "mouse_genes[:12]"
   ]
  },
  {
   "cell_type": "code",
   "execution_count": 9,
   "metadata": {},
   "outputs": [
    {
     "name": "stdout",
     "output_type": "stream",
     "text": [
      "CPU times: user 3 µs, sys: 1e+03 ns, total: 4 µs\n",
      "Wall time: 6.2 µs\n",
      "querying 1-12...done.\n",
      "Finished.\n"
     ]
    },
    {
     "name": "stderr",
     "output_type": "stream",
     "text": [
      "/Users/stearb/opt/anaconda3/lib/python3.7/site-packages/biothings_client/base.py:143: FutureWarning: pandas.io.json.json_normalize is deprecated, use pandas.json_normalize instead\n",
      "  df = json_normalize(obj)\n"
     ]
    }
   ],
   "source": [
    "%time\n",
    "d=mg.querymany(human_genes[:12], scopes='symbol',\n",
    "                               fields='all',\n",
    "                               species='human',\n",
    "                               as_dataframe=True,dotfield=1, \n",
    "                               returnall=True)\n"
   ]
  },
  {
   "cell_type": "code",
   "execution_count": 11,
   "metadata": {},
   "outputs": [],
   "source": [
    "df=d['out']#.iloc[:1,:]"
   ]
  },
  {
   "cell_type": "code",
   "execution_count": 8,
   "metadata": {},
   "outputs": [
    {
     "data": {
      "text/html": [
       "<div>\n",
       "<style scoped>\n",
       "    .dataframe tbody tr th:only-of-type {\n",
       "        vertical-align: middle;\n",
       "    }\n",
       "\n",
       "    .dataframe tbody tr th {\n",
       "        vertical-align: top;\n",
       "    }\n",
       "\n",
       "    .dataframe thead th {\n",
       "        text-align: right;\n",
       "    }\n",
       "</style>\n",
       "<table border=\"1\" class=\"dataframe\">\n",
       "  <thead>\n",
       "    <tr style=\"text-align: right;\">\n",
       "      <th></th>\n",
       "      <th>HGNC</th>\n",
       "      <th>MIM</th>\n",
       "      <th>_id</th>\n",
       "      <th>_score</th>\n",
       "      <th>accession.genomic</th>\n",
       "      <th>accession.protein</th>\n",
       "      <th>accession.rna</th>\n",
       "      <th>accession.translation.protein</th>\n",
       "      <th>accession.translation.rna</th>\n",
       "      <th>alias</th>\n",
       "      <th>ensembl.gene</th>\n",
       "      <th>ensembl.protein</th>\n",
       "    </tr>\n",
       "    <tr>\n",
       "      <th>query</th>\n",
       "      <th></th>\n",
       "      <th></th>\n",
       "      <th></th>\n",
       "      <th></th>\n",
       "      <th></th>\n",
       "      <th></th>\n",
       "      <th></th>\n",
       "      <th></th>\n",
       "      <th></th>\n",
       "      <th></th>\n",
       "      <th></th>\n",
       "      <th></th>\n",
       "    </tr>\n",
       "  </thead>\n",
       "  <tbody>\n",
       "    <tr>\n",
       "      <th>A1BG</th>\n",
       "      <td>5</td>\n",
       "      <td>138670</td>\n",
       "      <td>1</td>\n",
       "      <td>95.29098</td>\n",
       "      <td>[AC010642.5, AC012313.7, CH471135.1, NC_000019...</td>\n",
       "      <td>[AAH35719.1, AAL07469.1, ACJ13639.1, BAD38648....</td>\n",
       "      <td>[AA484435.1, AB073611.1, AF414429.1, AI022193....</td>\n",
       "      <td>[AAH35719.1, AAL07469.1, ACJ13639.1, BAD38648....</td>\n",
       "      <td>[AB073611.1, AF414429.1, AK055885.1, AK289417....</td>\n",
       "      <td>[A1B, ABG, GAB, HYST2477]</td>\n",
       "      <td>ENSG00000121410</td>\n",
       "      <td>[ENSP00000263100, ENSP00000470909]</td>\n",
       "    </tr>\n",
       "  </tbody>\n",
       "</table>\n",
       "</div>"
      ],
      "text/plain": [
       "      HGNC     MIM _id    _score  \\\n",
       "query                              \n",
       "A1BG     5  138670   1  95.29098   \n",
       "\n",
       "                                       accession.genomic  \\\n",
       "query                                                      \n",
       "A1BG   [AC010642.5, AC012313.7, CH471135.1, NC_000019...   \n",
       "\n",
       "                                       accession.protein  \\\n",
       "query                                                      \n",
       "A1BG   [AAH35719.1, AAL07469.1, ACJ13639.1, BAD38648....   \n",
       "\n",
       "                                           accession.rna  \\\n",
       "query                                                      \n",
       "A1BG   [AA484435.1, AB073611.1, AF414429.1, AI022193....   \n",
       "\n",
       "                           accession.translation.protein  \\\n",
       "query                                                      \n",
       "A1BG   [AAH35719.1, AAL07469.1, ACJ13639.1, BAD38648....   \n",
       "\n",
       "                               accession.translation.rna  \\\n",
       "query                                                      \n",
       "A1BG   [AB073611.1, AF414429.1, AK055885.1, AK289417....   \n",
       "\n",
       "                           alias     ensembl.gene  \\\n",
       "query                                               \n",
       "A1BG   [A1B, ABG, GAB, HYST2477]  ENSG00000121410   \n",
       "\n",
       "                          ensembl.protein  \n",
       "query                                      \n",
       "A1BG   [ENSP00000263100, ENSP00000470909]  "
      ]
     },
     "execution_count": 8,
     "metadata": {},
     "output_type": "execute_result"
    }
   ],
   "source": [
    "#df = df[df.columns.drop(list(df.filter(regex='exac')))] # 'reagent', 'pathway'\n",
    "df.iloc[:1,:12]   # ensembl.gene  refseq.genomic  df.columns[70:85]"
   ]
  },
  {
   "cell_type": "code",
   "execution_count": 12,
   "metadata": {},
   "outputs": [],
   "source": [
    "df2 = df[['name','symbol','alias','unigene' ,'ensembl.gene',\n",
    "          'ensembl.protein','ensembl.transcript','ensembl.type_of_gene','MIM',\n",
    "          'entrezgene']]#,'accession','uniprot','refseq','homologene']]"
   ]
  },
  {
   "cell_type": "code",
   "execution_count": 13,
   "metadata": {},
   "outputs": [],
   "source": [
    "df2.to_csv('mygene_human_select_fields.csv',sep=',')"
   ]
  },
  {
   "cell_type": "code",
   "execution_count": null,
   "metadata": {},
   "outputs": [],
   "source": []
  },
  {
   "cell_type": "code",
   "execution_count": 20,
   "metadata": {},
   "outputs": [],
   "source": [
    "df.to_csv('mygene_human_select_fields.csv',sep=',')"
   ]
  },
  {
   "cell_type": "code",
   "execution_count": null,
   "metadata": {},
   "outputs": [],
   "source": [
    "# 'dotfield=1'"
   ]
  },
  {
   "cell_type": "code",
   "execution_count": 39,
   "metadata": {},
   "outputs": [],
   "source": [
    "#mg.getgenes(human_genes[:12],scope='symbol', fields='entrezgene', species='human',as_dataframe=True)"
   ]
  },
  {
   "cell_type": "code",
   "execution_count": 6,
   "metadata": {},
   "outputs": [
    {
     "name": "stdout",
     "output_type": "stream",
     "text": [
      "CPU times: user 3 µs, sys: 1 µs, total: 4 µs\n",
      "Wall time: 4.77 µs\n",
      "querying 1-12...done.\n",
      "Finished.\n"
     ]
    },
    {
     "name": "stderr",
     "output_type": "stream",
     "text": [
      "/Users/stearb/opt/anaconda3/lib/python3.7/site-packages/biothings_client/base.py:143: FutureWarning: pandas.io.json.json_normalize is deprecated, use pandas.json_normalize instead\n",
      "  df = json_normalize(obj)\n"
     ]
    }
   ],
   "source": [
    "%time\n",
    "mouse_anno=mg.querymany(mouse_genes[:12], scopes='symbol',\n",
    "                               fields='all',\n",
    "                               species='human',\n",
    "                               as_dataframe=True,dotfield=1, \n",
    "                               returnall=True)\n",
    "\n"
   ]
  },
  {
   "cell_type": "code",
   "execution_count": 7,
   "metadata": {},
   "outputs": [],
   "source": [
    "df_mouse=mouse_anno['out']"
   ]
  },
  {
   "cell_type": "code",
   "execution_count": 8,
   "metadata": {},
   "outputs": [],
   "source": [
    "df2_mouse = df_mouse[['name','symbol','alias','unigene' ,'ensembl.gene',\n",
    "          'ensembl.protein','ensembl.transcript','ensembl.type_of_gene','MIM',\n",
    "          'entrezgene']]"
   ]
  },
  {
   "cell_type": "code",
   "execution_count": 9,
   "metadata": {},
   "outputs": [],
   "source": [
    "df2_mouse.to_csv('mygene_mouse_select_fields.csv',sep=',')"
   ]
  },
  {
   "cell_type": "code",
   "execution_count": null,
   "metadata": {},
   "outputs": [],
   "source": []
  }
 ],
 "metadata": {
  "kernelspec": {
   "display_name": "Python 3",
   "language": "python",
   "name": "python3"
  },
  "language_info": {
   "codemirror_mode": {
    "name": "ipython",
    "version": 3
   },
   "file_extension": ".py",
   "mimetype": "text/x-python",
   "name": "python",
   "nbconvert_exporter": "python",
   "pygments_lexer": "ipython3",
   "version": "3.7.4"
  }
 },
 "nbformat": 4,
 "nbformat_minor": 2
}
