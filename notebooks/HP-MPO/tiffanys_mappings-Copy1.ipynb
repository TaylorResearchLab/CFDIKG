{
 "cells": [
  {
   "cell_type": "code",
   "execution_count": 1,
   "metadata": {},
   "outputs": [],
   "source": [
    "import pandas as pd\n",
    "import numpy as np\n",
    "import os\n",
    "#import hashlib\n",
    "#import base64\n",
    "from collections import Counter\n",
    "from umls_utils import get_paths, CUIbase64\n",
    "import warnings\n",
    "warnings.filterwarnings('ignore')"
   ]
  },
  {
   "cell_type": "code",
   "execution_count": 2,
   "metadata": {},
   "outputs": [
    {
     "ename": "KeyError",
     "evalue": "'PATHS'",
     "output_type": "error",
     "traceback": [
      "\u001b[0;31m---------------------------------------------------------------------------\u001b[0m",
      "\u001b[0;31mKeyError\u001b[0m                                  Traceback (most recent call last)",
      "\u001b[0;32m<ipython-input-2-33a04a5a7ed1>\u001b[0m in \u001b[0;36m<module>\u001b[0;34m\u001b[0m\n\u001b[1;32m      1\u001b[0m \u001b[0;31m# Get paths from config file\u001b[0m\u001b[0;34m\u001b[0m\u001b[0;34m\u001b[0m\u001b[0;34m\u001b[0m\u001b[0m\n\u001b[0;32m----> 2\u001b[0;31m \u001b[0mdata_dir\u001b[0m\u001b[0;34m,\u001b[0m\u001b[0mhelper_data_dir\u001b[0m\u001b[0;34m,\u001b[0m\u001b[0moutput_dir\u001b[0m\u001b[0;34m,\u001b[0m\u001b[0mLOCAL_CPU\u001b[0m\u001b[0;34m,\u001b[0m\u001b[0mumls_dir\u001b[0m\u001b[0;34m,\u001b[0m\u001b[0mumls_out_dir\u001b[0m \u001b[0;34m=\u001b[0m \u001b[0mget_paths\u001b[0m\u001b[0;34m(\u001b[0m\u001b[0;34m'/Users/stearb/Dropbox/CHOP/R03/code/neo4j_build_CFDIKG/build_scripts'\u001b[0m\u001b[0;34m)\u001b[0m\u001b[0;34m\u001b[0m\u001b[0;34m\u001b[0m\u001b[0m\n\u001b[0m\u001b[1;32m      3\u001b[0m \u001b[0;34m\u001b[0m\u001b[0m\n\u001b[1;32m      4\u001b[0m \u001b[0;34m\u001b[0m\u001b[0m\n\u001b[1;32m      5\u001b[0m \u001b[0;32mif\u001b[0m \u001b[0;32mnot\u001b[0m  \u001b[0mos\u001b[0m\u001b[0;34m.\u001b[0m\u001b[0mpath\u001b[0m\u001b[0;34m.\u001b[0m\u001b[0misdir\u001b[0m\u001b[0;34m(\u001b[0m\u001b[0moutput_dir\u001b[0m\u001b[0;34m+\u001b[0m\u001b[0;34m'hpo_mp_mapping'\u001b[0m\u001b[0;34m)\u001b[0m\u001b[0;34m:\u001b[0m\u001b[0;34m\u001b[0m\u001b[0;34m\u001b[0m\u001b[0m\n",
      "\u001b[0;32m~/Dropbox/CHOP/R03/code/neo4j_build_CFDIKG/build_scripts/umls_utils.py\u001b[0m in \u001b[0;36mget_paths\u001b[0;34m(config_path)\u001b[0m\n\u001b[1;32m     13\u001b[0m     \u001b[0mconfigParser\u001b[0m\u001b[0;34m.\u001b[0m\u001b[0mread\u001b[0m\u001b[0;34m(\u001b[0m\u001b[0mconfig_path\u001b[0m\u001b[0;34m+\u001b[0m\u001b[0;34m'config.ini'\u001b[0m\u001b[0;34m)\u001b[0m\u001b[0;34m\u001b[0m\u001b[0;34m\u001b[0m\u001b[0m\n\u001b[1;32m     14\u001b[0m \u001b[0;34m\u001b[0m\u001b[0m\n\u001b[0;32m---> 15\u001b[0;31m     \u001b[0mp\u001b[0m \u001b[0;34m=\u001b[0m \u001b[0mconfigParser\u001b[0m\u001b[0;34m[\u001b[0m\u001b[0;34m'PATHS'\u001b[0m\u001b[0;34m]\u001b[0m\u001b[0;34m\u001b[0m\u001b[0;34m\u001b[0m\u001b[0m\n\u001b[0m\u001b[1;32m     16\u001b[0m \u001b[0;34m\u001b[0m\u001b[0m\n\u001b[1;32m     17\u001b[0m     \u001b[0mlocal\u001b[0m \u001b[0;34m=\u001b[0m \u001b[0mconfigParser\u001b[0m\u001b[0;34m[\u001b[0m\u001b[0;34m'ENV'\u001b[0m\u001b[0;34m]\u001b[0m\u001b[0;34m.\u001b[0m\u001b[0mgetboolean\u001b[0m\u001b[0;34m(\u001b[0m\u001b[0;34m'LOCAL_CPU'\u001b[0m\u001b[0;34m)\u001b[0m\u001b[0;34m\u001b[0m\u001b[0;34m\u001b[0m\u001b[0m\n",
      "\u001b[0;32m~/opt/anaconda3/lib/python3.7/configparser.py\u001b[0m in \u001b[0;36m__getitem__\u001b[0;34m(self, key)\u001b[0m\n\u001b[1;32m    956\u001b[0m     \u001b[0;32mdef\u001b[0m \u001b[0m__getitem__\u001b[0m\u001b[0;34m(\u001b[0m\u001b[0mself\u001b[0m\u001b[0;34m,\u001b[0m \u001b[0mkey\u001b[0m\u001b[0;34m)\u001b[0m\u001b[0;34m:\u001b[0m\u001b[0;34m\u001b[0m\u001b[0;34m\u001b[0m\u001b[0m\n\u001b[1;32m    957\u001b[0m         \u001b[0;32mif\u001b[0m \u001b[0mkey\u001b[0m \u001b[0;34m!=\u001b[0m \u001b[0mself\u001b[0m\u001b[0;34m.\u001b[0m\u001b[0mdefault_section\u001b[0m \u001b[0;32mand\u001b[0m \u001b[0;32mnot\u001b[0m \u001b[0mself\u001b[0m\u001b[0;34m.\u001b[0m\u001b[0mhas_section\u001b[0m\u001b[0;34m(\u001b[0m\u001b[0mkey\u001b[0m\u001b[0;34m)\u001b[0m\u001b[0;34m:\u001b[0m\u001b[0;34m\u001b[0m\u001b[0;34m\u001b[0m\u001b[0m\n\u001b[0;32m--> 958\u001b[0;31m             \u001b[0;32mraise\u001b[0m \u001b[0mKeyError\u001b[0m\u001b[0;34m(\u001b[0m\u001b[0mkey\u001b[0m\u001b[0;34m)\u001b[0m\u001b[0;34m\u001b[0m\u001b[0;34m\u001b[0m\u001b[0m\n\u001b[0m\u001b[1;32m    959\u001b[0m         \u001b[0;32mreturn\u001b[0m \u001b[0mself\u001b[0m\u001b[0;34m.\u001b[0m\u001b[0m_proxies\u001b[0m\u001b[0;34m[\u001b[0m\u001b[0mkey\u001b[0m\u001b[0;34m]\u001b[0m\u001b[0;34m\u001b[0m\u001b[0;34m\u001b[0m\u001b[0m\n\u001b[1;32m    960\u001b[0m \u001b[0;34m\u001b[0m\u001b[0m\n",
      "\u001b[0;31mKeyError\u001b[0m: 'PATHS'"
     ]
    }
   ],
   "source": [
    "# Get paths from config file\n",
    "data_dir,helper_data_dir,output_dir,LOCAL_CPU,umls_dir,umls_out_dir = get_paths('/Users/stearb/Dropbox/CHOP/R03/code/neo4j_build_CFDIKG/build_scripts')\n",
    "\n",
    " \n",
    "if not  os.path.isdir(output_dir+'hpo_mp_mapping'):\n",
    "    os.mkdir(output_dir+'hpo_mp_mapping')\n",
    "    print('Creating hpo_mp_mapping directory...')"
   ]
  },
  {
   "cell_type": "markdown",
   "metadata": {},
   "source": [
    "# This Notebook creates relationships between HPO and MP Concept nodes in the UMLS graph"
   ]
  },
  {
   "cell_type": "code",
   "execution_count": 3,
   "metadata": {},
   "outputs": [
    {
     "ename": "NameError",
     "evalue": "name 'LOCAL_CPU' is not defined",
     "output_type": "error",
     "traceback": [
      "\u001b[0;31m---------------------------------------------------------------------------\u001b[0m",
      "\u001b[0;31mNameError\u001b[0m                                 Traceback (most recent call last)",
      "\u001b[0;32m<ipython-input-3-e4166ab3f231>\u001b[0m in \u001b[0;36m<module>\u001b[0;34m\u001b[0m\n\u001b[0;32m----> 1\u001b[0;31m \u001b[0;32mif\u001b[0m \u001b[0mLOCAL_CPU\u001b[0m\u001b[0;34m:\u001b[0m\u001b[0;34m\u001b[0m\u001b[0;34m\u001b[0m\u001b[0m\n\u001b[0m\u001b[1;32m      2\u001b[0m     \u001b[0mdf\u001b[0m\u001b[0;34m=\u001b[0m\u001b[0mpd\u001b[0m\u001b[0;34m.\u001b[0m\u001b[0mread_excel\u001b[0m\u001b[0;34m(\u001b[0m\u001b[0;34m'/Users/stearb/desktop/R03_local/data/tiffany_mappings/KF_HPO_OBO2OBOMappings_Aggregated_20DEC2020.xlsx'\u001b[0m\u001b[0;34m,\u001b[0m                                                            \u001b[0msheet_name\u001b[0m\u001b[0;34m=\u001b[0m\u001b[0;34m'KF_OMOP2OBMappings_20Dec2020'\u001b[0m\u001b[0;34m)\u001b[0m\u001b[0;34m\u001b[0m\u001b[0;34m\u001b[0m\u001b[0m\n\u001b[1;32m      3\u001b[0m \u001b[0;32melse\u001b[0m\u001b[0;34m:\u001b[0m\u001b[0;34m\u001b[0m\u001b[0;34m\u001b[0m\u001b[0m\n\u001b[1;32m      4\u001b[0m     \u001b[0mdf\u001b[0m\u001b[0;34m=\u001b[0m\u001b[0mpd\u001b[0m\u001b[0;34m.\u001b[0m\u001b[0mread_excel\u001b[0m\u001b[0;34m(\u001b[0m\u001b[0mdata_dir\u001b[0m\u001b[0;34m+\u001b[0m\u001b[0;34m'KF_HPO_OBO2OBOMappings_Aggregated_20DEC2020.xlsx'\u001b[0m\u001b[0;34m,\u001b[0m\u001b[0msheet_name\u001b[0m\u001b[0;34m=\u001b[0m\u001b[0;34m'KF_OMOP2OBMappings_20Dec2020'\u001b[0m\u001b[0;34m)\u001b[0m\u001b[0;34m\u001b[0m\u001b[0;34m\u001b[0m\u001b[0m\n\u001b[1;32m      5\u001b[0m \u001b[0;34m\u001b[0m\u001b[0m\n",
      "\u001b[0;31mNameError\u001b[0m: name 'LOCAL_CPU' is not defined"
     ]
    }
   ],
   "source": [
    "if LOCAL_CPU:\n",
    "    df=pd.read_excel('/Users/stearb/desktop/R03_local/data/tiffany_mappings/KF_HPO_OBO2OBOMappings_Aggregated_20DEC2020.xlsx',                                                            sheet_name='KF_OMOP2OBMappings_20Dec2020')\n",
    "else:\n",
    "    df=pd.read_excel(data_dir+'KF_HPO_OBO2OBOMappings_Aggregated_20DEC2020.xlsx',sheet_name='KF_OMOP2OBMappings_20Dec2020')\n",
    "\n",
    "df.head(4)"
   ]
  },
  {
   "cell_type": "code",
   "execution_count": 4,
   "metadata": {},
   "outputs": [
    {
     "data": {
      "text/plain": [
       "0                  [MP:0005302]\n",
       "1                  [MP:0006077]\n",
       "2                  [MP:0002286]\n",
       "3    [MP:0002160 ,  MP:0001145]\n",
       "4                  [MP:0003623]\n",
       "Name: MPO_URI, dtype: object"
      ]
     },
     "execution_count": 4,
     "metadata": {},
     "output_type": "execute_result"
    }
   ],
   "source": [
    "# Replace _ with :\n",
    "df['HP_ID']  = df['HP_ID'].str.replace('_', ':')\n",
    "df['MPO_URI']  = df['MPO_URI'].str.replace('_', ':')\n",
    "\n",
    "\n",
    "# Splitby '|' so we can  have one HPO term and one MP term per row so we can upload to neo4j database.\n",
    "df['MPO_URI'] = df['MPO_URI'].str.split('|')\n",
    "df['MPO_URI'].head(5)"
   ]
  },
  {
   "cell_type": "code",
   "execution_count": 5,
   "metadata": {},
   "outputs": [
    {
     "data": {
      "text/html": [
       "<div>\n",
       "<style scoped>\n",
       "    .dataframe tbody tr th:only-of-type {\n",
       "        vertical-align: middle;\n",
       "    }\n",
       "\n",
       "    .dataframe tbody tr th {\n",
       "        vertical-align: top;\n",
       "    }\n",
       "\n",
       "    .dataframe thead th {\n",
       "        text-align: right;\n",
       "    }\n",
       "</style>\n",
       "<table border=\"1\" class=\"dataframe\">\n",
       "  <thead>\n",
       "    <tr style=\"text-align: right;\">\n",
       "      <th></th>\n",
       "      <th>HP_ID</th>\n",
       "      <th>HP_LABEL</th>\n",
       "      <th>HP_SYNONYM</th>\n",
       "      <th>MPO_URI</th>\n",
       "      <th>MPO_LABEL</th>\n",
       "      <th>MPO_MAPPING</th>\n",
       "      <th>MPO_EVIDENCE</th>\n",
       "    </tr>\n",
       "  </thead>\n",
       "  <tbody>\n",
       "    <tr>\n",
       "      <th>0</th>\n",
       "      <td>HP:0000011</td>\n",
       "      <td>neurogenic bladder</td>\n",
       "      <td>lack of bladder control due to nervous system ...</td>\n",
       "      <td>[MP:0005302]</td>\n",
       "      <td>neurogenic bladder</td>\n",
       "      <td>Automatic Exact Concept</td>\n",
       "      <td>MPO_LABEL-HPO_CONCEPT_LABEL:neurogenic bladder...</td>\n",
       "    </tr>\n",
       "    <tr>\n",
       "      <th>1</th>\n",
       "      <td>HP:0000023</td>\n",
       "      <td>inguinal hernia</td>\n",
       "      <td>NaN</td>\n",
       "      <td>[MP:0006077]</td>\n",
       "      <td>inguinal hernia</td>\n",
       "      <td>Automatic Exact Concept</td>\n",
       "      <td>MPO_LABEL-HPO_CONCEPT_LABEL:inguinal hernia | ...</td>\n",
       "    </tr>\n",
       "    <tr>\n",
       "      <th>2</th>\n",
       "      <td>HP:0000028</td>\n",
       "      <td>cryptorchidism</td>\n",
       "      <td>undescended testes | undescended testis | cryp...</td>\n",
       "      <td>[MP:0002286]</td>\n",
       "      <td>cryptorchism</td>\n",
       "      <td>Automatic Exact Concept</td>\n",
       "      <td>MPO_LABEL-HPO_CONCEPT_SYNONYM_hasExactSynonym:...</td>\n",
       "    </tr>\n",
       "    <tr>\n",
       "      <th>3</th>\n",
       "      <td>HP:0000033</td>\n",
       "      <td>ambiguous genitalia, male</td>\n",
       "      <td>ambiguous genitalia in males</td>\n",
       "      <td>[MP:0002160 ,  MP:0001145]</td>\n",
       "      <td>abnormal reproductive system morphology | abno...</td>\n",
       "      <td>Automatic Constructor Ancestor</td>\n",
       "      <td>MPO_LABEL-HPO_ANCESTOR_LABEL:abnormal reproduc...</td>\n",
       "    </tr>\n",
       "  </tbody>\n",
       "</table>\n",
       "</div>"
      ],
      "text/plain": [
       "        HP_ID                   HP_LABEL  \\\n",
       "0  HP:0000011         neurogenic bladder   \n",
       "1  HP:0000023            inguinal hernia   \n",
       "2  HP:0000028             cryptorchidism   \n",
       "3  HP:0000033  ambiguous genitalia, male   \n",
       "\n",
       "                                          HP_SYNONYM  \\\n",
       "0  lack of bladder control due to nervous system ...   \n",
       "1                                                NaN   \n",
       "2  undescended testes | undescended testis | cryp...   \n",
       "3                       ambiguous genitalia in males   \n",
       "\n",
       "                      MPO_URI  \\\n",
       "0                [MP:0005302]   \n",
       "1                [MP:0006077]   \n",
       "2                [MP:0002286]   \n",
       "3  [MP:0002160 ,  MP:0001145]   \n",
       "\n",
       "                                           MPO_LABEL  \\\n",
       "0                                 neurogenic bladder   \n",
       "1                                    inguinal hernia   \n",
       "2                                       cryptorchism   \n",
       "3  abnormal reproductive system morphology | abno...   \n",
       "\n",
       "                      MPO_MAPPING  \\\n",
       "0         Automatic Exact Concept   \n",
       "1         Automatic Exact Concept   \n",
       "2         Automatic Exact Concept   \n",
       "3  Automatic Constructor Ancestor   \n",
       "\n",
       "                                        MPO_EVIDENCE  \n",
       "0  MPO_LABEL-HPO_CONCEPT_LABEL:neurogenic bladder...  \n",
       "1  MPO_LABEL-HPO_CONCEPT_LABEL:inguinal hernia | ...  \n",
       "2  MPO_LABEL-HPO_CONCEPT_SYNONYM_hasExactSynonym:...  \n",
       "3  MPO_LABEL-HPO_ANCESTOR_LABEL:abnormal reproduc...  "
      ]
     },
     "execution_count": 5,
     "metadata": {},
     "output_type": "execute_result"
    }
   ],
   "source": [
    "df.head(4) # still have multiple MP"
   ]
  },
  {
   "cell_type": "code",
   "execution_count": 6,
   "metadata": {},
   "outputs": [],
   "source": [
    "# Unravel MPO_URI column\n",
    "df_ravel = pd.DataFrame(columns=df.columns)\n",
    "j=0\n",
    "\n",
    "for index, row in df.iterrows():    \n",
    "    if len(row['MPO_URI']) == 1:\n",
    "        df_ravel.loc[j] = row\n",
    "        j=j+1\n",
    "       \n",
    "    elif len(row['MPO_URI']) > 1:\n",
    "        current_row = row.drop(['MPO_URI']).T # Get all values except MPO_URI (which contains multiple terms)\n",
    "        \n",
    "        for MPO_TERM in row['MPO_URI']:\n",
    "            row_temp = current_row\n",
    "            mpo_formatted = pd.DataFrame([MPO_TERM],columns=['MPO_URI']).T\n",
    "            mpo_formatted = mpo_formatted[0]\n",
    "            new_row = row_temp.append(mpo_formatted).T # combine row_ with each MPO_URI and add them as new rows\n",
    "            new_row=new_row[list(df_ravel.columns)]\n",
    "\n",
    "            df_ravel.loc[j]  = np.ravel(new_row.T.values)\n",
    "            j=j+1\n",
    "            row_temp = 0\n"
   ]
  },
  {
   "cell_type": "code",
   "execution_count": 7,
   "metadata": {},
   "outputs": [
    {
     "data": {
      "text/html": [
       "<div>\n",
       "<style scoped>\n",
       "    .dataframe tbody tr th:only-of-type {\n",
       "        vertical-align: middle;\n",
       "    }\n",
       "\n",
       "    .dataframe tbody tr th {\n",
       "        vertical-align: top;\n",
       "    }\n",
       "\n",
       "    .dataframe thead th {\n",
       "        text-align: right;\n",
       "    }\n",
       "</style>\n",
       "<table border=\"1\" class=\"dataframe\">\n",
       "  <thead>\n",
       "    <tr style=\"text-align: right;\">\n",
       "      <th></th>\n",
       "      <th>HP_ID</th>\n",
       "      <th>HP_LABEL</th>\n",
       "      <th>HP_SYNONYM</th>\n",
       "      <th>MPO_URI</th>\n",
       "      <th>MPO_LABEL</th>\n",
       "      <th>MPO_MAPPING</th>\n",
       "      <th>MPO_EVIDENCE</th>\n",
       "    </tr>\n",
       "  </thead>\n",
       "  <tbody>\n",
       "    <tr>\n",
       "      <th>0</th>\n",
       "      <td>HP:0000011</td>\n",
       "      <td>neurogenic bladder</td>\n",
       "      <td>lack of bladder control due to nervous system ...</td>\n",
       "      <td>[MP:0005302]</td>\n",
       "      <td>neurogenic bladder</td>\n",
       "      <td>Automatic Exact Concept</td>\n",
       "      <td>MPO_LABEL-HPO_CONCEPT_LABEL:neurogenic bladder...</td>\n",
       "    </tr>\n",
       "    <tr>\n",
       "      <th>1</th>\n",
       "      <td>HP:0000023</td>\n",
       "      <td>inguinal hernia</td>\n",
       "      <td>NaN</td>\n",
       "      <td>[MP:0006077]</td>\n",
       "      <td>inguinal hernia</td>\n",
       "      <td>Automatic Exact Concept</td>\n",
       "      <td>MPO_LABEL-HPO_CONCEPT_LABEL:inguinal hernia | ...</td>\n",
       "    </tr>\n",
       "    <tr>\n",
       "      <th>2</th>\n",
       "      <td>HP:0000028</td>\n",
       "      <td>cryptorchidism</td>\n",
       "      <td>undescended testes | undescended testis | cryp...</td>\n",
       "      <td>[MP:0002286]</td>\n",
       "      <td>cryptorchism</td>\n",
       "      <td>Automatic Exact Concept</td>\n",
       "      <td>MPO_LABEL-HPO_CONCEPT_SYNONYM_hasExactSynonym:...</td>\n",
       "    </tr>\n",
       "    <tr>\n",
       "      <th>3</th>\n",
       "      <td>HP:0000033</td>\n",
       "      <td>ambiguous genitalia, male</td>\n",
       "      <td>ambiguous genitalia in males</td>\n",
       "      <td>MP:0002160</td>\n",
       "      <td>abnormal reproductive system morphology | abno...</td>\n",
       "      <td>Automatic Constructor Ancestor</td>\n",
       "      <td>MPO_LABEL-HPO_ANCESTOR_LABEL:abnormal reproduc...</td>\n",
       "    </tr>\n",
       "    <tr>\n",
       "      <th>4</th>\n",
       "      <td>HP:0000033</td>\n",
       "      <td>ambiguous genitalia, male</td>\n",
       "      <td>ambiguous genitalia in males</td>\n",
       "      <td>MP:0001145</td>\n",
       "      <td>abnormal reproductive system morphology | abno...</td>\n",
       "      <td>Automatic Constructor Ancestor</td>\n",
       "      <td>MPO_LABEL-HPO_ANCESTOR_LABEL:abnormal reproduc...</td>\n",
       "    </tr>\n",
       "  </tbody>\n",
       "</table>\n",
       "</div>"
      ],
      "text/plain": [
       "        HP_ID                   HP_LABEL  \\\n",
       "0  HP:0000011         neurogenic bladder   \n",
       "1  HP:0000023            inguinal hernia   \n",
       "2  HP:0000028             cryptorchidism   \n",
       "3  HP:0000033  ambiguous genitalia, male   \n",
       "4  HP:0000033  ambiguous genitalia, male   \n",
       "\n",
       "                                          HP_SYNONYM       MPO_URI  \\\n",
       "0  lack of bladder control due to nervous system ...  [MP:0005302]   \n",
       "1                                                NaN  [MP:0006077]   \n",
       "2  undescended testes | undescended testis | cryp...  [MP:0002286]   \n",
       "3                       ambiguous genitalia in males   MP:0002160    \n",
       "4                       ambiguous genitalia in males    MP:0001145   \n",
       "\n",
       "                                           MPO_LABEL  \\\n",
       "0                                 neurogenic bladder   \n",
       "1                                    inguinal hernia   \n",
       "2                                       cryptorchism   \n",
       "3  abnormal reproductive system morphology | abno...   \n",
       "4  abnormal reproductive system morphology | abno...   \n",
       "\n",
       "                      MPO_MAPPING  \\\n",
       "0         Automatic Exact Concept   \n",
       "1         Automatic Exact Concept   \n",
       "2         Automatic Exact Concept   \n",
       "3  Automatic Constructor Ancestor   \n",
       "4  Automatic Constructor Ancestor   \n",
       "\n",
       "                                        MPO_EVIDENCE  \n",
       "0  MPO_LABEL-HPO_CONCEPT_LABEL:neurogenic bladder...  \n",
       "1  MPO_LABEL-HPO_CONCEPT_LABEL:inguinal hernia | ...  \n",
       "2  MPO_LABEL-HPO_CONCEPT_SYNONYM_hasExactSynonym:...  \n",
       "3  MPO_LABEL-HPO_ANCESTOR_LABEL:abnormal reproduc...  \n",
       "4  MPO_LABEL-HPO_ANCESTOR_LABEL:abnormal reproduc...  "
      ]
     },
     "execution_count": 7,
     "metadata": {},
     "output_type": "execute_result"
    }
   ],
   "source": [
    "df_ravel.head() # Need convert the MPO_URIs that are lists of length 1, to single string values"
   ]
  },
  {
   "cell_type": "code",
   "execution_count": 8,
   "metadata": {},
   "outputs": [
    {
     "data": {
      "text/plain": [
       "Counter({list: 443, str: 778})"
      ]
     },
     "execution_count": 8,
     "metadata": {},
     "output_type": "execute_result"
    }
   ],
   "source": [
    "# Some of the values in the MPO_URI column are strings and some are lists (of one string), \n",
    "# we need to make them all strings...\n",
    "Counter([type(i) for i in df_ravel['MPO_URI']])"
   ]
  },
  {
   "cell_type": "code",
   "execution_count": 9,
   "metadata": {},
   "outputs": [],
   "source": [
    "\n",
    "mp_fixed = []\n",
    "for i in df_ravel['MPO_URI']:\n",
    "    if len(i) == 1: # Length is 1 if its a list, otherwise it's the length of the string\n",
    "        mp_fixed.append(i[0])\n",
    "    else:\n",
    "        mp_fixed.append(i)\n",
    "\n",
    "assert df_ravel.shape[0] == len(mp_fixed)\n",
    "df_ravel['MPO_URI'] = mp_fixed"
   ]
  },
  {
   "cell_type": "code",
   "execution_count": 10,
   "metadata": {},
   "outputs": [
    {
     "data": {
      "text/plain": [
       "Counter({str: 1221})"
      ]
     },
     "execution_count": 10,
     "metadata": {},
     "output_type": "execute_result"
    }
   ],
   "source": [
    "# Now its fixed (all strings, no lists)\n",
    "Counter([type(i) for i in df_ravel['MPO_URI']])"
   ]
  },
  {
   "cell_type": "code",
   "execution_count": 11,
   "metadata": {},
   "outputs": [
    {
     "name": "stdout",
     "output_type": "stream",
     "text": [
      "Number of unique HPO terms: 719\n",
      "Number of unique MP terms: 602\n"
     ]
    }
   ],
   "source": [
    "print('Number of unique HPO terms: '+str(df_ravel['HP_ID'].unique().shape[0]))\n",
    "print('Number of unique MP terms: '+str(df_ravel['MPO_URI'].unique().shape[0]))"
   ]
  },
  {
   "cell_type": "code",
   "execution_count": 12,
   "metadata": {},
   "outputs": [],
   "source": [
    "df_ravel.drop(['MPO_MAPPING','MPO_EVIDENCE'],axis=1,inplace=True) # Remove these cols for now"
   ]
  },
  {
   "cell_type": "code",
   "execution_count": 13,
   "metadata": {},
   "outputs": [],
   "source": [
    "# Strip white space from mp terms\n",
    "df_ravel['MPO_URI']  = [i.strip() for i in df_ravel['MPO_URI']]"
   ]
  },
  {
   "cell_type": "code",
   "execution_count": 14,
   "metadata": {},
   "outputs": [
    {
     "data": {
      "text/html": [
       "<div>\n",
       "<style scoped>\n",
       "    .dataframe tbody tr th:only-of-type {\n",
       "        vertical-align: middle;\n",
       "    }\n",
       "\n",
       "    .dataframe tbody tr th {\n",
       "        vertical-align: top;\n",
       "    }\n",
       "\n",
       "    .dataframe thead th {\n",
       "        text-align: right;\n",
       "    }\n",
       "</style>\n",
       "<table border=\"1\" class=\"dataframe\">\n",
       "  <thead>\n",
       "    <tr style=\"text-align: right;\">\n",
       "      <th></th>\n",
       "      <th>HP_ID</th>\n",
       "      <th>HP_LABEL</th>\n",
       "      <th>HP_SYNONYM</th>\n",
       "      <th>MPO_URI</th>\n",
       "      <th>MPO_LABEL</th>\n",
       "    </tr>\n",
       "  </thead>\n",
       "  <tbody>\n",
       "    <tr>\n",
       "      <th>0</th>\n",
       "      <td>HP:0000011</td>\n",
       "      <td>neurogenic bladder</td>\n",
       "      <td>lack of bladder control due to nervous system ...</td>\n",
       "      <td>MP:0005302</td>\n",
       "      <td>neurogenic bladder</td>\n",
       "    </tr>\n",
       "    <tr>\n",
       "      <th>1</th>\n",
       "      <td>HP:0000023</td>\n",
       "      <td>inguinal hernia</td>\n",
       "      <td>NaN</td>\n",
       "      <td>MP:0006077</td>\n",
       "      <td>inguinal hernia</td>\n",
       "    </tr>\n",
       "    <tr>\n",
       "      <th>2</th>\n",
       "      <td>HP:0000028</td>\n",
       "      <td>cryptorchidism</td>\n",
       "      <td>undescended testes | undescended testis | cryp...</td>\n",
       "      <td>MP:0002286</td>\n",
       "      <td>cryptorchism</td>\n",
       "    </tr>\n",
       "    <tr>\n",
       "      <th>3</th>\n",
       "      <td>HP:0000033</td>\n",
       "      <td>ambiguous genitalia, male</td>\n",
       "      <td>ambiguous genitalia in males</td>\n",
       "      <td>MP:0002160</td>\n",
       "      <td>abnormal reproductive system morphology | abno...</td>\n",
       "    </tr>\n",
       "  </tbody>\n",
       "</table>\n",
       "</div>"
      ],
      "text/plain": [
       "        HP_ID                   HP_LABEL  \\\n",
       "0  HP:0000011         neurogenic bladder   \n",
       "1  HP:0000023            inguinal hernia   \n",
       "2  HP:0000028             cryptorchidism   \n",
       "3  HP:0000033  ambiguous genitalia, male   \n",
       "\n",
       "                                          HP_SYNONYM     MPO_URI  \\\n",
       "0  lack of bladder control due to nervous system ...  MP:0005302   \n",
       "1                                                NaN  MP:0006077   \n",
       "2  undescended testes | undescended testis | cryp...  MP:0002286   \n",
       "3                       ambiguous genitalia in males  MP:0002160   \n",
       "\n",
       "                                           MPO_LABEL  \n",
       "0                                 neurogenic bladder  \n",
       "1                                    inguinal hernia  \n",
       "2                                       cryptorchism  \n",
       "3  abnormal reproductive system morphology | abno...  "
      ]
     },
     "execution_count": 14,
     "metadata": {},
     "output_type": "execute_result"
    }
   ],
   "source": [
    "df_ravel.head(4)"
   ]
  },
  {
   "cell_type": "code",
   "execution_count": 15,
   "metadata": {},
   "outputs": [],
   "source": [
    "#df_ravel.to_csv('/Users/stearb/Desktop/R03_local/data/tiffany_mappings/pheno_mappings.csv',index=False)\n"
   ]
  },
  {
   "cell_type": "markdown",
   "metadata": {},
   "source": [
    "## Need to Connect these at the Concept & Code level, so we need to add CUIs, CODEs and  CodeIDs"
   ]
  },
  {
   "cell_type": "code",
   "execution_count": 16,
   "metadata": {},
   "outputs": [
    {
     "data": {
      "text/html": [
       "<div>\n",
       "<style scoped>\n",
       "    .dataframe tbody tr th:only-of-type {\n",
       "        vertical-align: middle;\n",
       "    }\n",
       "\n",
       "    .dataframe tbody tr th {\n",
       "        vertical-align: top;\n",
       "    }\n",
       "\n",
       "    .dataframe thead th {\n",
       "        text-align: right;\n",
       "    }\n",
       "</style>\n",
       "<table border=\"1\" class=\"dataframe\">\n",
       "  <thead>\n",
       "    <tr style=\"text-align: right;\">\n",
       "      <th></th>\n",
       "      <th>CODE_HPO</th>\n",
       "      <th>CODE_MP</th>\n",
       "    </tr>\n",
       "  </thead>\n",
       "  <tbody>\n",
       "    <tr>\n",
       "      <th>0</th>\n",
       "      <td>HP:0000011</td>\n",
       "      <td>MP:0005302</td>\n",
       "    </tr>\n",
       "    <tr>\n",
       "      <th>1</th>\n",
       "      <td>HP:0000023</td>\n",
       "      <td>MP:0006077</td>\n",
       "    </tr>\n",
       "    <tr>\n",
       "      <th>2</th>\n",
       "      <td>HP:0000028</td>\n",
       "      <td>MP:0002286</td>\n",
       "    </tr>\n",
       "    <tr>\n",
       "      <th>3</th>\n",
       "      <td>HP:0000033</td>\n",
       "      <td>MP:0002160</td>\n",
       "    </tr>\n",
       "  </tbody>\n",
       "</table>\n",
       "</div>"
      ],
      "text/plain": [
       "     CODE_HPO     CODE_MP\n",
       "0  HP:0000011  MP:0005302\n",
       "1  HP:0000023  MP:0006077\n",
       "2  HP:0000028  MP:0002286\n",
       "3  HP:0000033  MP:0002160"
      ]
     },
     "execution_count": 16,
     "metadata": {},
     "output_type": "execute_result"
    }
   ],
   "source": [
    "df_ravel.drop(['HP_LABEL','MPO_LABEL','HP_SYNONYM'],axis=1,inplace=True)\n",
    "df_ravel.rename(columns={'HP_ID':'CODE_HPO','MPO_URI':'CODE_MP'},inplace=True)\n",
    "df_ravel.head(4)"
   ]
  },
  {
   "cell_type": "code",
   "execution_count": 17,
   "metadata": {},
   "outputs": [
    {
     "data": {
      "text/plain": [
       "(1221, 2)"
      ]
     },
     "execution_count": 17,
     "metadata": {},
     "output_type": "execute_result"
    }
   ],
   "source": [
    "df_ravel.shape"
   ]
  },
  {
   "cell_type": "markdown",
   "metadata": {},
   "source": [
    "## There are already HPO terms in UMLS. We only need to create new CUIs/CODEs/CodeIDs for HPO terms that arent in there. But first we need to get HPO CUI/CODEs from UMLS and merge them into the dataframe (merge in CUIs on HPO Code).\n",
    "match (n:Code)--(m:Concept) where n.SAB = 'HPO' return n.CODE as HPO_CODE,m.CUI AS HPO_CONCEPT   \n",
    "^^^Downloaded from neo4j desktop app and saved as umls-hpo-code-concepts.csv"
   ]
  },
  {
   "cell_type": "code",
   "execution_count": 18,
   "metadata": {},
   "outputs": [
    {
     "data": {
      "text/html": [
       "<div>\n",
       "<style scoped>\n",
       "    .dataframe tbody tr th:only-of-type {\n",
       "        vertical-align: middle;\n",
       "    }\n",
       "\n",
       "    .dataframe tbody tr th {\n",
       "        vertical-align: top;\n",
       "    }\n",
       "\n",
       "    .dataframe thead th {\n",
       "        text-align: right;\n",
       "    }\n",
       "</style>\n",
       "<table border=\"1\" class=\"dataframe\">\n",
       "  <thead>\n",
       "    <tr style=\"text-align: right;\">\n",
       "      <th></th>\n",
       "      <th>CUI_HPO</th>\n",
       "      <th>CODE_HPO</th>\n",
       "    </tr>\n",
       "  </thead>\n",
       "  <tbody>\n",
       "    <tr>\n",
       "      <th>16</th>\n",
       "      <td>C0000778</td>\n",
       "      <td>HP:0032224</td>\n",
       "    </tr>\n",
       "    <tr>\n",
       "      <th>107</th>\n",
       "      <td>C0002447</td>\n",
       "      <td>HP:0009827</td>\n",
       "    </tr>\n",
       "    <tr>\n",
       "      <th>188</th>\n",
       "      <td>C0003463</td>\n",
       "      <td>HP:0032186</td>\n",
       "    </tr>\n",
       "  </tbody>\n",
       "</table>\n",
       "</div>"
      ],
      "text/plain": [
       "      CUI_HPO    CODE_HPO\n",
       "16   C0000778  HP:0032224\n",
       "107  C0002447  HP:0009827\n",
       "188  C0003463  HP:0032186"
      ]
     },
     "execution_count": 18,
     "metadata": {},
     "output_type": "execute_result"
    }
   ],
   "source": [
    "# NEED TO GET THIS FILE FROM THE CSVs AND NOT FROM THE GRAPH\n",
    "# Load UMLS HPO CODEs-CUIs\n",
    "#if LOCAL_CPU: umls_hpo = pd.read_csv('/Users/stearb/desktop/R03_local/data/umls-hpo-code-concepts.csv')\n",
    "#else: umls_hpo = pd.read_csv(helper_data_dir+'umls-hpo-code-concepts.csv')\n",
    "\n",
    "# From CSVs\n",
    "UMLS_CUI_CODE = pd.read_csv(umls_dir+'CUI-CODEs.csv')\n",
    "\n",
    "umls_hpo = UMLS_CUI_CODE[UMLS_CUI_CODE[':END_ID'].str.startswith('HPO')].rename(\n",
    "                    columns={':END_ID':'CODE_HPO',':START_ID':'CUI_HPO'})\n",
    "\n",
    "umls_hpo.rename(columns={'HPO_CODE':'CODE_HPO','HPO_CONCEPT':'CUI_HPO'},inplace=True)\n",
    "\n",
    "umls_hpo['CODE_HPO'] = [i.split(' ')[1] for i in umls_hpo['CODE_HPO']]\n",
    "\n",
    "umls_hpo.head(3)"
   ]
  },
  {
   "cell_type": "code",
   "execution_count": 19,
   "metadata": {},
   "outputs": [],
   "source": [
    "df_ravel['CodeID_MP'] = ['MP '+i for i in df_ravel['CODE_MP']]\n",
    "df_ravel['CodeID_HPO'] = ['HPO '+i for i in df_ravel['CODE_HPO']]\n",
    "\n",
    "#CUI_LEN = 14\n",
    "#df_ravel['CUI_MP']  = ['KC' + str(int(hashlib.sha256(uid.encode('utf8')).hexdigest(),base=16))[:CUI_LEN] for uid in df_ravel['CODE_MP']]\n",
    "\n",
    "df_ravel['CUI_MP'] =  CUIbase64(df_ravel['CodeID_MP'])\n",
    "\n",
    "# dont need this. see venn diagram below. all HPO terms we are using are in UMLS already\n",
    "# df_ravel['CUI_HPO']  = ['KC' + str(np.abs(hash(uid)))[:CUI_LEN] for uid in df_ravel['CODE_HPO']]\n",
    "\n",
    "assert len(df_ravel['CODE_MP'].unique())  ==  len(df_ravel['CodeID_MP'].unique()) \n",
    "assert len(df_ravel['CODE_HPO'].unique())  ==  len(df_ravel['CodeID_HPO'].unique()) "
   ]
  },
  {
   "cell_type": "code",
   "execution_count": 20,
   "metadata": {},
   "outputs": [
    {
     "name": "stdout",
     "output_type": "stream",
     "text": [
      "(719,)\n"
     ]
    },
    {
     "data": {
      "text/plain": [
       "(14586,)"
      ]
     },
     "execution_count": 20,
     "metadata": {},
     "output_type": "execute_result"
    }
   ],
   "source": [
    "print(df_ravel['CODE_HPO'].unique().shape)\n",
    "umls_hpo['CODE_HPO'].unique().shape"
   ]
  },
  {
   "cell_type": "code",
   "execution_count": 21,
   "metadata": {},
   "outputs": [
    {
     "data": {
      "text/plain": [
       "<matplotlib_venn._common.VennDiagram at 0x117f7ecd0>"
      ]
     },
     "execution_count": 21,
     "metadata": {},
     "output_type": "execute_result"
    }
   ],
   "source": [
    "from matplotlib_venn import venn2\n",
    "\n",
    "venn2([set(df_ravel['CODE_HPO']),\n",
    "       set(umls_hpo['CODE_HPO'])])\n",
    "\n",
    "# all 719 HPO terms we have are already in UMLS so we dont need to create any new CUIs\n",
    "# Just use the CODE_HPO (aka the hpo term) to map the UMLS CUIs to my df_ravel."
   ]
  },
  {
   "cell_type": "markdown",
   "metadata": {},
   "source": [
    "### Merge in UMLS  HPO CUIs"
   ]
  },
  {
   "cell_type": "code",
   "execution_count": 22,
   "metadata": {},
   "outputs": [
    {
     "data": {
      "text/html": [
       "<div>\n",
       "<style scoped>\n",
       "    .dataframe tbody tr th:only-of-type {\n",
       "        vertical-align: middle;\n",
       "    }\n",
       "\n",
       "    .dataframe tbody tr th {\n",
       "        vertical-align: top;\n",
       "    }\n",
       "\n",
       "    .dataframe thead th {\n",
       "        text-align: right;\n",
       "    }\n",
       "</style>\n",
       "<table border=\"1\" class=\"dataframe\">\n",
       "  <thead>\n",
       "    <tr style=\"text-align: right;\">\n",
       "      <th></th>\n",
       "      <th>CODE_HPO</th>\n",
       "      <th>CODE_MP</th>\n",
       "      <th>CodeID_MP</th>\n",
       "      <th>CodeID_HPO</th>\n",
       "      <th>CUI_MP</th>\n",
       "      <th>CUI_HPO</th>\n",
       "    </tr>\n",
       "  </thead>\n",
       "  <tbody>\n",
       "    <tr>\n",
       "      <th>0</th>\n",
       "      <td>HP:0000011</td>\n",
       "      <td>MP:0005302</td>\n",
       "      <td>MP MP:0005302</td>\n",
       "      <td>HPO HP:0000011</td>\n",
       "      <td>TVAgTVA6MDAwNTMwMg==</td>\n",
       "      <td>C0005697</td>\n",
       "    </tr>\n",
       "    <tr>\n",
       "      <th>1</th>\n",
       "      <td>HP:0000023</td>\n",
       "      <td>MP:0006077</td>\n",
       "      <td>MP MP:0006077</td>\n",
       "      <td>HPO HP:0000023</td>\n",
       "      <td>TVAgTVA6MDAwNjA3Nw==</td>\n",
       "      <td>C0019294</td>\n",
       "    </tr>\n",
       "    <tr>\n",
       "      <th>2</th>\n",
       "      <td>HP:0000028</td>\n",
       "      <td>MP:0002286</td>\n",
       "      <td>MP MP:0002286</td>\n",
       "      <td>HPO HP:0000028</td>\n",
       "      <td>TVAgTVA6MDAwMjI4Ng==</td>\n",
       "      <td>C0010417</td>\n",
       "    </tr>\n",
       "    <tr>\n",
       "      <th>3</th>\n",
       "      <td>HP:0000033</td>\n",
       "      <td>MP:0002160</td>\n",
       "      <td>MP MP:0002160</td>\n",
       "      <td>HPO HP:0000033</td>\n",
       "      <td>TVAgTVA6MDAwMjE2MA==</td>\n",
       "      <td>C4021823</td>\n",
       "    </tr>\n",
       "    <tr>\n",
       "      <th>4</th>\n",
       "      <td>HP:0000033</td>\n",
       "      <td>MP:0001145</td>\n",
       "      <td>MP MP:0001145</td>\n",
       "      <td>HPO HP:0000033</td>\n",
       "      <td>TVAgTVA6MDAwMTE0NQ==</td>\n",
       "      <td>C4021823</td>\n",
       "    </tr>\n",
       "  </tbody>\n",
       "</table>\n",
       "</div>"
      ],
      "text/plain": [
       "     CODE_HPO     CODE_MP      CodeID_MP      CodeID_HPO  \\\n",
       "0  HP:0000011  MP:0005302  MP MP:0005302  HPO HP:0000011   \n",
       "1  HP:0000023  MP:0006077  MP MP:0006077  HPO HP:0000023   \n",
       "2  HP:0000028  MP:0002286  MP MP:0002286  HPO HP:0000028   \n",
       "3  HP:0000033  MP:0002160  MP MP:0002160  HPO HP:0000033   \n",
       "4  HP:0000033  MP:0001145  MP MP:0001145  HPO HP:0000033   \n",
       "\n",
       "                 CUI_MP   CUI_HPO  \n",
       "0  TVAgTVA6MDAwNTMwMg==  C0005697  \n",
       "1  TVAgTVA6MDAwNjA3Nw==  C0019294  \n",
       "2  TVAgTVA6MDAwMjI4Ng==  C0010417  \n",
       "3  TVAgTVA6MDAwMjE2MA==  C4021823  \n",
       "4  TVAgTVA6MDAwMTE0NQ==  C4021823  "
      ]
     },
     "execution_count": 22,
     "metadata": {},
     "output_type": "execute_result"
    }
   ],
   "source": [
    "df_merge = pd.merge(left=df_ravel,right=umls_hpo.drop_duplicates(['CODE_HPO']),on='CODE_HPO',how='inner')\n",
    "df_merge.head()"
   ]
  },
  {
   "cell_type": "markdown",
   "metadata": {},
   "source": [
    "Save CUIs"
   ]
  },
  {
   "cell_type": "code",
   "execution_count": 23,
   "metadata": {},
   "outputs": [],
   "source": [
    "# Dont need to  save  df_merge['CUI_HPO'], they are already in UMLS\n",
    "CUIs = pd.DataFrame(df_merge['CUI_MP'].drop_duplicates(),columns=['CUI'])\n",
    "\n",
    "if LOCAL_CPU:\n",
    "    CUIs.to_csv('/Users/stearb/desktop/R03_local/data/ingest_files/hpo_mp_mapping/CUIs_phenomapping.csv',index=False) \n",
    "else:\n",
    "    CUIs.to_csv(output_dir+'hpo_mp_mapping/CUIs_phenomapping.csv',index=False) \n"
   ]
  },
  {
   "cell_type": "code",
   "execution_count": 38,
   "metadata": {},
   "outputs": [],
   "source": [
    "## Code for generating all HPO terms containing the word heart\n",
    "#heart_mp_terms = pd.read_csv('/Users/stearb/Desktop/R03_local/data/gene_sets/heart_mp_terms.csv',header=None)\n",
    "#q=df_merge[['CODE_MP','CODE_HPO']]\n",
    "\n",
    "#q[q['CODE_MP'].isin(q['CODE_MP'].isin(heart_mp_terms))]\n",
    "\n",
    "#t  = (list(heart_mp_terms.values))\n",
    "#heart_terms = [item for sublist in t for item in sublist]\n",
    "\n",
    "#df_merge['CODE_MP'].isin(heart_mp_terms)\n",
    "#set(df_merge['CODE_MP']).intersection(set(heart_mp_terms))"
   ]
  },
  {
   "cell_type": "markdown",
   "metadata": {},
   "source": [
    "\n",
    "Save CUI-CUIs ( Same relationship SAB for both HPO->MP & MP->HPO )"
   ]
  },
  {
   "cell_type": "code",
   "execution_count": 24,
   "metadata": {},
   "outputs": [],
   "source": [
    "CUI_CUI = df_merge[['CUI_HPO','CUI_MP']]\n",
    "\n",
    "# Add SAB and relationship type (:TYPE) so the df matches the format of the UMLS import files.\n",
    "CUI_CUI[':TYPE'] = 'has_mouse_phenotype'\n",
    "CUI_CUI['SAB'] = 'HPO__MP'\n",
    "\n",
    "# Reverse the columns to create the inverse relationship, has_human_phenotype\n",
    "CUI_CUI_inverse = df_merge[['CUI_MP','CUI_HPO']]\n",
    "CUI_CUI_inverse[':TYPE'] = 'has_human_phenotype'\n",
    "CUI_CUI_inverse['SAB'] = 'HPO__MP'\n",
    "\n",
    "# Now combine both (need to change column names first so they can be concatenated) and save.\n",
    "CUI_CUI.rename(columns={'CUI_HPO':':START_ID','CUI_MP':':END_ID'},inplace=True)\n",
    "CUI_CUI_inverse.rename(columns={'CUI_HPO':':END_ID','CUI_MP':':START_ID'},inplace=True)\n",
    "\n",
    "CUI_CUIs_all = pd.concat([CUI_CUI,CUI_CUI_inverse])\n",
    "\n",
    "if LOCAL_CPU:\n",
    "    CUI_CUIs_all.to_csv('/Users/stearb/desktop/R03_local/data/ingest_files/hpo_mp_mapping/CUI_CUI_phenomapping.csv',index=False) \n",
    "else:\n",
    "    CUI_CUIs_all.to_csv(output_dir+'hpo_mp_mapping/CUI_CUI_phenomapping.csv',index=False) \n",
    "\n"
   ]
  },
  {
   "cell_type": "markdown",
   "metadata": {},
   "source": [
    "Save CUI-CODEs"
   ]
  },
  {
   "cell_type": "code",
   "execution_count": 25,
   "metadata": {},
   "outputs": [],
   "source": [
    "#No need to save CUI-CODE relationships for the HPO terms, they are  already in UMLS\n",
    "mp_cui_codes = df_merge[['CUI_MP','CodeID_MP']]\n",
    "\n",
    "mp_cui_codes_reformat = mp_cui_codes.rename(columns={'CUI_MP':'CUI','CodeID_MP':'CODE'}).drop_duplicates()\n",
    "\n",
    "if LOCAL_CPU:\n",
    "    mp_cui_codes_reformat.to_csv('/Users/stearb/desktop/R03_local/data/ingest_files/hpo_mp_mapping/CUI_CODEs_phenomapping.csv',index=False)\n",
    "else:\n",
    "    mp_cui_codes_reformat.to_csv(output_dir+'hpo_mp_mapping/CUI_CODEs_phenomapping.csv',index=False)\n",
    "\n"
   ]
  },
  {
   "cell_type": "markdown",
   "metadata": {},
   "source": [
    "Save CODEs"
   ]
  },
  {
   "cell_type": "code",
   "execution_count": 26,
   "metadata": {},
   "outputs": [],
   "source": [
    "# hpo_codes = df_merge[['CodeID_HPO','CODE_HPO']]   # these are already in UMLS, no need to add them.\n",
    "mp_codes = df_merge[['CodeID_MP','CODE_MP']]\n",
    "mp_codes['SAB'] = 'MP'\n",
    "mp_codes.rename(columns={'CodeID_MP':'CodeID','CODE_MP':'CODE'},inplace=True)\n",
    "mp_codes  = mp_codes[['CodeID','SAB','CODE']]\n",
    "\n",
    "if LOCAL_CPU:\n",
    "    mp_codes.to_csv('/Users/stearb/desktop/R03_local/data/ingest_files/hpo_mp_mapping/CODEs_phenomapping.csv',index=False)\n",
    "else:\n",
    "    mp_codes.to_csv(output_dir+'hpo_mp_mapping/CODEs_phenomapping.csv',index=False)"
   ]
  },
  {
   "cell_type": "markdown",
   "metadata": {},
   "source": [
    "# End of data formatting for the HPO-MP mappings"
   ]
  },
  {
   "cell_type": "code",
   "execution_count": null,
   "metadata": {},
   "outputs": [],
   "source": []
  },
  {
   "cell_type": "code",
   "execution_count": null,
   "metadata": {},
   "outputs": [],
   "source": []
  },
  {
   "cell_type": "code",
   "execution_count": null,
   "metadata": {},
   "outputs": [],
   "source": []
  },
  {
   "cell_type": "code",
   "execution_count": null,
   "metadata": {},
   "outputs": [],
   "source": []
  },
  {
   "cell_type": "markdown",
   "metadata": {},
   "source": [
    "### Save HPO Terms to generate gene sets for\n",
    "We can only generate gene sets for each HPO terms that we have mapped to MP terms, so whatever HPO terms we end up with, we will have to drop the ones that are not currently mapped to an MP term."
   ]
  },
  {
   "cell_type": "code",
   "execution_count": null,
   "metadata": {},
   "outputs": [],
   "source": [
    "\n",
    "# Old way where we just took any term that had 'heart' in it.\n",
    "terms2query = df_ravel[df_ravel['MPO_LABEL'].str.contains('heart',case=False)]\n",
    "terms2query[['HP_ID','HP_LABEL']].to_csv('/Users/stearb/Desktop/R03_local/data/gene_sets/hpo_terms/heart_hpo_terms.csv',index=None)"
   ]
  },
  {
   "cell_type": "markdown",
   "metadata": {},
   "source": [
    "# New way is in /results_queries/get_gene_sets.ipynb"
   ]
  },
  {
   "cell_type": "code",
   "execution_count": null,
   "metadata": {},
   "outputs": [],
   "source": []
  },
  {
   "cell_type": "code",
   "execution_count": null,
   "metadata": {},
   "outputs": [],
   "source": []
  },
  {
   "cell_type": "code",
   "execution_count": 1,
   "metadata": {},
   "outputs": [],
   "source": [
    "#for m,i in enumerate(mp_codes['CODE'].values):\n",
    "#    if i  == 'MP:0003923':\n",
    "#        print('--------');print(m,i);print('--------')"
   ]
  },
  {
   "cell_type": "code",
   "execution_count": 30,
   "metadata": {},
   "outputs": [
    {
     "data": {
      "text/html": [
       "<div>\n",
       "<style scoped>\n",
       "    .dataframe tbody tr th:only-of-type {\n",
       "        vertical-align: middle;\n",
       "    }\n",
       "\n",
       "    .dataframe tbody tr th {\n",
       "        vertical-align: top;\n",
       "    }\n",
       "\n",
       "    .dataframe thead th {\n",
       "        text-align: right;\n",
       "    }\n",
       "</style>\n",
       "<table border=\"1\" class=\"dataframe\">\n",
       "  <thead>\n",
       "    <tr style=\"text-align: right;\">\n",
       "      <th></th>\n",
       "      <th>CODE_HPO</th>\n",
       "      <th>CODE_MP</th>\n",
       "      <th>CodeID_MP</th>\n",
       "      <th>CodeID_HPO</th>\n",
       "      <th>CUI_MP</th>\n",
       "      <th>CUI_HPO</th>\n",
       "    </tr>\n",
       "  </thead>\n",
       "  <tbody>\n",
       "    <tr>\n",
       "      <th>993</th>\n",
       "      <td>HP:0025579</td>\n",
       "      <td>MP:0003923</td>\n",
       "      <td>MP MP:0003923</td>\n",
       "      <td>HPO HP:0025579</td>\n",
       "      <td>TVAgTVA6MDAwMzkyMw==</td>\n",
       "      <td>C4703395</td>\n",
       "    </tr>\n",
       "  </tbody>\n",
       "</table>\n",
       "</div>"
      ],
      "text/plain": [
       "       CODE_HPO     CODE_MP      CodeID_MP      CodeID_HPO  \\\n",
       "993  HP:0025579  MP:0003923  MP MP:0003923  HPO HP:0025579   \n",
       "\n",
       "                   CUI_MP   CUI_HPO  \n",
       "993  TVAgTVA6MDAwMzkyMw==  C4703395  "
      ]
     },
     "execution_count": 30,
     "metadata": {},
     "output_type": "execute_result"
    }
   ],
   "source": [
    "df_merge[df_merge['CODE_HPO'] == 'HP:0025579']"
   ]
  },
  {
   "cell_type": "markdown",
   "metadata": {},
   "source": [
    "### Save whole df so we can check that there are no collisions with these CUIs and CUIs from the other steps"
   ]
  },
  {
   "cell_type": "code",
   "execution_count": 31,
   "metadata": {},
   "outputs": [],
   "source": [
    "df_merge.to_csv('/Users/stearb/desktop/R03_local/data/UI_check/hpo_mp_mappings.csv',index=False)"
   ]
  },
  {
   "cell_type": "markdown",
   "metadata": {},
   "source": [
    "#### Whats the overlap of these MP terms with the MP terms from step 2 (geno-pheno)?\n",
    "#### Dont need to worry about this because we created a MP nodes file 'MP_TERMS_NODES.csv' that contains mp terms from both lists"
   ]
  },
  {
   "cell_type": "code",
   "execution_count": 31,
   "metadata": {},
   "outputs": [],
   "source": [
    "g2p = pd.read_csv('/Users/stearb/desktop/R03_local/data/ingest_files/genopheno/geno2pheno_mapping.csv',index_col=0)"
   ]
  },
  {
   "cell_type": "code",
   "execution_count": 18,
   "metadata": {},
   "outputs": [
    {
     "data": {
      "text/plain": [
       "740"
      ]
     },
     "execution_count": 18,
     "metadata": {},
     "output_type": "execute_result"
    }
   ],
   "source": [
    "g2p['mp_term_id'].unique().shape[0]"
   ]
  },
  {
   "cell_type": "code",
   "execution_count": 19,
   "metadata": {},
   "outputs": [
    {
     "data": {
      "text/plain": [
       "51"
      ]
     },
     "execution_count": 19,
     "metadata": {},
     "output_type": "execute_result"
    }
   ],
   "source": [
    "# Whats the overlap?\n",
    "mp_overlap = set(df_ravel['MPO_URI'].unique()).intersection(set(g2p['mp_term_id'].unique()))\n",
    "len(mp_overlap)"
   ]
  },
  {
   "cell_type": "code",
   "execution_count": 87,
   "metadata": {},
   "outputs": [
    {
     "name": "stdout",
     "output_type": "stream",
     "text": [
      "51\n"
     ]
    }
   ],
   "source": [
    "# Really only 51 MP terms in both lists?\n",
    "a=0\n",
    "for k in g2p['mp_term_id'].unique():\n",
    "    if k in df_ravel['MPO_URI'].unique():\n",
    "        a+=1\n",
    "print(a)"
   ]
  },
  {
   "cell_type": "code",
   "execution_count": null,
   "metadata": {},
   "outputs": [],
   "source": []
  }
 ],
 "metadata": {
  "kernelspec": {
   "display_name": "Python 3",
   "language": "python",
   "name": "python3"
  },
  "language_info": {
   "codemirror_mode": {
    "name": "ipython",
    "version": 3
   },
   "file_extension": ".py",
   "mimetype": "text/x-python",
   "name": "python",
   "nbconvert_exporter": "python",
   "pygments_lexer": "ipython3",
   "version": "3.7.4"
  }
 },
 "nbformat": 4,
 "nbformat_minor": 2
}
