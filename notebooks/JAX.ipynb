{
 "cells": [
  {
   "cell_type": "code",
   "execution_count": 1,
   "metadata": {},
   "outputs": [],
   "source": [
    "import numpy  as np\n",
    "import pandas as pd\n",
    "import requests\n",
    "import csv\n",
    "import sys\n",
    "jax_url = 'http://www.informatics.jax.org/downloads/reports/MGI_Geno_DiseaseDO.rpt'"
   ]
  },
  {
   "cell_type": "code",
   "execution_count": 2,
   "metadata": {},
   "outputs": [],
   "source": [
    "#download = requests.get(jax_url) "
   ]
  },
  {
   "cell_type": "code",
   "execution_count": 58,
   "metadata": {},
   "outputs": [],
   "source": [
    "\n",
    "def parse_url(url,columns):\n",
    "    df = pd.DataFrame()\n",
    "\n",
    "    with requests.Session() as s:\n",
    "        download = s.get(url)\n",
    "\n",
    "        decoded_content = download.content.decode('utf-8')\n",
    "\n",
    "        cr = csv.reader(decoded_content.splitlines(), delimiter='\\t')\n",
    "        my_list = list(cr)\n",
    "        \n",
    "        for i,row in enumerate(my_list,start=0):\n",
    "            if i is 0: \n",
    "                df = pd.DataFrame(columns=columns)\n",
    "                df.loc[i] = row\n",
    "            else:\n",
    "                df.loc[i] = row\n",
    "    return df\n",
    "\n",
    "cols=['Allelic Composition','Allele Symbol(s)','Allele ID(s)',\n",
    "      'Genetic Background','Mammalian Phenotype ID','PubMed ID',\n",
    "      'MGI Marker Accession ID','DOID']"
   ]
  },
  {
   "cell_type": "markdown",
   "metadata": {},
   "source": [
    "## Mouse/Human ortholog with MP annotation"
   ]
  },
  {
   "cell_type": "code",
   "execution_count": 4,
   "metadata": {},
   "outputs": [],
   "source": [
    "url_orth = 'http://www.informatics.jax.org/downloads/reports/HMD_HumanPhenotype.rpt'"
   ]
  },
  {
   "cell_type": "code",
   "execution_count": 5,
   "metadata": {},
   "outputs": [],
   "source": [
    "columns = ['Human Marker Symbol','Human Entrez Gene ID','HomoloGene ID',\n",
    "           'HGNC Association?','Mouse Marker Symbol','MGI Marker Accession ID',\n",
    "           'High-level Mammalian Phenotype ID']"
   ]
  },
  {
   "cell_type": "code",
   "execution_count": 11,
   "metadata": {},
   "outputs": [],
   "source": [
    "df = pd.DataFrame()\n",
    "\n",
    "with requests.Session() as s:\n",
    "    download = s.get(url_orth)\n",
    "    columns = ['Human Marker Symbol','Human Entrez Gene ID','HomoloGene ID',\n",
    "           'HGNC Association?','Mouse Marker Symbol','MGI Marker Accession ID',\n",
    "           'High-level Mammalian Phenotype ID','']\n",
    "\n",
    "    decoded_content = download.content.decode('utf-8')\n",
    "\n",
    "    cr = csv.reader(decoded_content.splitlines(), delimiter='\\t')\n",
    "    my_list = list(cr)\n",
    "\n",
    "    for i,row in enumerate(my_list,start=0):\n",
    "        if i is 0: \n",
    "            df = pd.DataFrame(columns=columns)\n",
    "            df.loc[i] = row\n",
    "        else:\n",
    "            df.loc[i] = row"
   ]
  },
  {
   "cell_type": "code",
   "execution_count": 43,
   "metadata": {},
   "outputs": [],
   "source": [
    "df_filt = df[df['High-level Mammalian Phenotype ID'] != '']\n",
    "df_filt = df_filt.reset_index(drop=True)"
   ]
  },
  {
   "cell_type": "code",
   "execution_count": 44,
   "metadata": {},
   "outputs": [],
   "source": [
    "mp_list = []\n",
    "\n",
    "for i in range(0,len(df_filt['High-level Mammalian Phenotype ID'])):\n",
    "    stripped_mps  =[k.strip() for k in df_filt['High-level Mammalian Phenotype ID'][i].split(',')]\n",
    "    mp_list.append(stripped_mps)"
   ]
  },
  {
   "cell_type": "code",
   "execution_count": 49,
   "metadata": {},
   "outputs": [],
   "source": [
    "MG_MPO = pd.DataFrame(columns=['Gene','MPO'])\n",
    "gene_list = []\n",
    "mpo_list = []\n",
    "\n",
    "for i,row in enumerate(mp_list):\n",
    "    #if row[0] is '':\n",
    "    current_gene = df_filt['Mouse Marker Symbol'][i]\n",
    "    for mp_term in row:\n",
    "        #        MG_MPO['Gene'][i] = current_gene\n",
    "        #        MG_MPO['MPO'][i] = mp_term\n",
    "        gene_list.append(current_gene)\n",
    "        mpo_list.append(mp_term)\n",
    "    "
   ]
  },
  {
   "cell_type": "code",
   "execution_count": 71,
   "metadata": {},
   "outputs": [
    {
     "data": {
      "text/plain": [
       "(27,)"
      ]
     },
     "execution_count": 71,
     "metadata": {},
     "output_type": "execute_result"
    }
   ],
   "source": [
    "MG_MPO = pd.DataFrame(np.transpose([gene_list,mpo_list]),columns=['Gene','MPO'])\n",
    "MG_MPO['Gene'].unique().shape\n",
    "MG_MPO['MPO'].unique().shape"
   ]
  },
  {
   "cell_type": "markdown",
   "metadata": {},
   "source": [
    "## Mouse Genotypes with both Phenotype and Disease Annotations"
   ]
  },
  {
   "cell_type": "code",
   "execution_count": 54,
   "metadata": {},
   "outputs": [],
   "source": [
    "url2 = 'http://www.informatics.jax.org/downloads/reports/MGI_Geno_DiseaseDO.rpt'\n"
   ]
  },
  {
   "cell_type": "code",
   "execution_count": 62,
   "metadata": {},
   "outputs": [],
   "source": [
    "cols = ['Allelic Composition', 'Allele symbol(s)', 'Allele ID(s)', \n",
    "'Genetic background', 'MP ID', 'PubMed ID', 'MGI Marker ID', 'DO ID','OMIM']"
   ]
  },
  {
   "cell_type": "code",
   "execution_count": 63,
   "metadata": {},
   "outputs": [],
   "source": [
    "df2  = parse_url(url2,columns=cols)"
   ]
  },
  {
   "cell_type": "code",
   "execution_count": 64,
   "metadata": {},
   "outputs": [
    {
     "data": {
      "text/html": [
       "<div>\n",
       "<style scoped>\n",
       "    .dataframe tbody tr th:only-of-type {\n",
       "        vertical-align: middle;\n",
       "    }\n",
       "\n",
       "    .dataframe tbody tr th {\n",
       "        vertical-align: top;\n",
       "    }\n",
       "\n",
       "    .dataframe thead th {\n",
       "        text-align: right;\n",
       "    }\n",
       "</style>\n",
       "<table border=\"1\" class=\"dataframe\">\n",
       "  <thead>\n",
       "    <tr style=\"text-align: right;\">\n",
       "      <th></th>\n",
       "      <th>Allelic Composition</th>\n",
       "      <th>Allele symbol(s)</th>\n",
       "      <th>Allele ID(s)</th>\n",
       "      <th>Genetic background</th>\n",
       "      <th>MP ID</th>\n",
       "      <th>PubMed ID</th>\n",
       "      <th>MGI Marker ID</th>\n",
       "      <th>DO ID</th>\n",
       "      <th></th>\n",
       "    </tr>\n",
       "  </thead>\n",
       "  <tbody>\n",
       "    <tr>\n",
       "      <th>0</th>\n",
       "      <td>Ednra&lt;tm1Ywa&gt;/Ednra&lt;tm1Ywa&gt;</td>\n",
       "      <td>Ednra&lt;tm1Ywa&gt;</td>\n",
       "      <td>MGI:1857473</td>\n",
       "      <td>129S/SvEv-Ednra&lt;tm1Ywa&gt;</td>\n",
       "      <td>MP:0002127</td>\n",
       "      <td>9449664</td>\n",
       "      <td>MGI:105923</td>\n",
       "      <td>DOID:12583</td>\n",
       "      <td>OMIM:192430</td>\n",
       "    </tr>\n",
       "    <tr>\n",
       "      <th>1</th>\n",
       "      <td>Ednra&lt;tm1Ywa&gt;/Ednra&lt;tm1Ywa&gt;</td>\n",
       "      <td>Ednra&lt;tm1Ywa&gt;</td>\n",
       "      <td>MGI:1857473</td>\n",
       "      <td>129S/SvEv-Ednra&lt;tm1Ywa&gt;</td>\n",
       "      <td>MP:0000452</td>\n",
       "      <td>9449664</td>\n",
       "      <td>MGI:105923</td>\n",
       "      <td>DOID:12583</td>\n",
       "      <td>OMIM:192430</td>\n",
       "    </tr>\n",
       "    <tr>\n",
       "      <th>2</th>\n",
       "      <td>Ednra&lt;tm1Ywa&gt;/Ednra&lt;tm1Ywa&gt;</td>\n",
       "      <td>Ednra&lt;tm1Ywa&gt;</td>\n",
       "      <td>MGI:1857473</td>\n",
       "      <td>129S/SvEv-Ednra&lt;tm1Ywa&gt;</td>\n",
       "      <td>MP:0002108</td>\n",
       "      <td>9449664</td>\n",
       "      <td>MGI:105923</td>\n",
       "      <td>DOID:12583</td>\n",
       "      <td>OMIM:192430</td>\n",
       "    </tr>\n",
       "    <tr>\n",
       "      <th>3</th>\n",
       "      <td>Ednra&lt;tm1Ywa&gt;/Ednra&lt;tm1Ywa&gt;</td>\n",
       "      <td>Ednra&lt;tm1Ywa&gt;</td>\n",
       "      <td>MGI:1857473</td>\n",
       "      <td>129S/SvEv-Ednra&lt;tm1Ywa&gt;</td>\n",
       "      <td>MP:0000614</td>\n",
       "      <td>9449664</td>\n",
       "      <td>MGI:105923</td>\n",
       "      <td>DOID:12583</td>\n",
       "      <td>OMIM:192430</td>\n",
       "    </tr>\n",
       "    <tr>\n",
       "      <th>4</th>\n",
       "      <td>Ednra&lt;tm1Ywa&gt;/Ednra&lt;tm1Ywa&gt;</td>\n",
       "      <td>Ednra&lt;tm1Ywa&gt;</td>\n",
       "      <td>MGI:1857473</td>\n",
       "      <td>129S/SvEv-Ednra&lt;tm1Ywa&gt;</td>\n",
       "      <td>MP:0001823</td>\n",
       "      <td>9449664</td>\n",
       "      <td>MGI:105923</td>\n",
       "      <td>DOID:12583</td>\n",
       "      <td>OMIM:192430</td>\n",
       "    </tr>\n",
       "    <tr>\n",
       "      <th>...</th>\n",
       "      <td>...</td>\n",
       "      <td>...</td>\n",
       "      <td>...</td>\n",
       "      <td>...</td>\n",
       "      <td>...</td>\n",
       "      <td>...</td>\n",
       "      <td>...</td>\n",
       "      <td>...</td>\n",
       "      <td>...</td>\n",
       "    </tr>\n",
       "    <tr>\n",
       "      <th>36589</th>\n",
       "      <td>Sdr9c7&lt;em1Maak&gt;/Sdr9c7&lt;em1Maak&gt;</td>\n",
       "      <td>Sdr9c7&lt;em1Maak&gt;</td>\n",
       "      <td>MGI:6469363</td>\n",
       "      <td>involves: C57BL/6J</td>\n",
       "      <td>MP:0001222</td>\n",
       "      <td>31671075</td>\n",
       "      <td>MGI:1917311</td>\n",
       "      <td>DOID:0080257</td>\n",
       "      <td>OMIM:617574</td>\n",
       "    </tr>\n",
       "    <tr>\n",
       "      <th>36590</th>\n",
       "      <td>Sdr9c7&lt;em1Maak&gt;/Sdr9c7&lt;em1Maak&gt;</td>\n",
       "      <td>Sdr9c7&lt;em1Maak&gt;</td>\n",
       "      <td>MGI:6469363</td>\n",
       "      <td>involves: C57BL/6J</td>\n",
       "      <td>MP:0002796</td>\n",
       "      <td>31671075</td>\n",
       "      <td>MGI:1917311</td>\n",
       "      <td>DOID:0080257</td>\n",
       "      <td>OMIM:617574</td>\n",
       "    </tr>\n",
       "    <tr>\n",
       "      <th>36591</th>\n",
       "      <td>Sdr9c7&lt;em1Maak&gt;/Sdr9c7&lt;em1Maak&gt;</td>\n",
       "      <td>Sdr9c7&lt;em1Maak&gt;</td>\n",
       "      <td>MGI:6469363</td>\n",
       "      <td>involves: C57BL/6J</td>\n",
       "      <td>MP:0003853</td>\n",
       "      <td>31671075</td>\n",
       "      <td>MGI:1917311</td>\n",
       "      <td>DOID:0080257</td>\n",
       "      <td>OMIM:617574</td>\n",
       "    </tr>\n",
       "    <tr>\n",
       "      <th>36592</th>\n",
       "      <td>Sdr9c7&lt;em1Maak&gt;/Sdr9c7&lt;em1Maak&gt;</td>\n",
       "      <td>Sdr9c7&lt;em1Maak&gt;</td>\n",
       "      <td>MGI:6469363</td>\n",
       "      <td>involves: C57BL/6J</td>\n",
       "      <td>MP:0009594</td>\n",
       "      <td>31671075</td>\n",
       "      <td>MGI:1917311</td>\n",
       "      <td>DOID:0080257</td>\n",
       "      <td>OMIM:617574</td>\n",
       "    </tr>\n",
       "    <tr>\n",
       "      <th>36593</th>\n",
       "      <td>Sdr9c7&lt;em1Maak&gt;/Sdr9c7&lt;em1Maak&gt;</td>\n",
       "      <td>Sdr9c7&lt;em1Maak&gt;</td>\n",
       "      <td>MGI:6469363</td>\n",
       "      <td>involves: C57BL/6J</td>\n",
       "      <td>MP:0011085</td>\n",
       "      <td>31671075</td>\n",
       "      <td>MGI:1917311</td>\n",
       "      <td>DOID:0080257</td>\n",
       "      <td>OMIM:617574</td>\n",
       "    </tr>\n",
       "  </tbody>\n",
       "</table>\n",
       "<p>36594 rows × 9 columns</p>\n",
       "</div>"
      ],
      "text/plain": [
       "                   Allelic Composition Allele symbol(s) Allele ID(s)  \\\n",
       "0          Ednra<tm1Ywa>/Ednra<tm1Ywa>    Ednra<tm1Ywa>  MGI:1857473   \n",
       "1          Ednra<tm1Ywa>/Ednra<tm1Ywa>    Ednra<tm1Ywa>  MGI:1857473   \n",
       "2          Ednra<tm1Ywa>/Ednra<tm1Ywa>    Ednra<tm1Ywa>  MGI:1857473   \n",
       "3          Ednra<tm1Ywa>/Ednra<tm1Ywa>    Ednra<tm1Ywa>  MGI:1857473   \n",
       "4          Ednra<tm1Ywa>/Ednra<tm1Ywa>    Ednra<tm1Ywa>  MGI:1857473   \n",
       "...                                ...              ...          ...   \n",
       "36589  Sdr9c7<em1Maak>/Sdr9c7<em1Maak>  Sdr9c7<em1Maak>  MGI:6469363   \n",
       "36590  Sdr9c7<em1Maak>/Sdr9c7<em1Maak>  Sdr9c7<em1Maak>  MGI:6469363   \n",
       "36591  Sdr9c7<em1Maak>/Sdr9c7<em1Maak>  Sdr9c7<em1Maak>  MGI:6469363   \n",
       "36592  Sdr9c7<em1Maak>/Sdr9c7<em1Maak>  Sdr9c7<em1Maak>  MGI:6469363   \n",
       "36593  Sdr9c7<em1Maak>/Sdr9c7<em1Maak>  Sdr9c7<em1Maak>  MGI:6469363   \n",
       "\n",
       "            Genetic background       MP ID PubMed ID MGI Marker ID  \\\n",
       "0      129S/SvEv-Ednra<tm1Ywa>  MP:0002127   9449664    MGI:105923   \n",
       "1      129S/SvEv-Ednra<tm1Ywa>  MP:0000452   9449664    MGI:105923   \n",
       "2      129S/SvEv-Ednra<tm1Ywa>  MP:0002108   9449664    MGI:105923   \n",
       "3      129S/SvEv-Ednra<tm1Ywa>  MP:0000614   9449664    MGI:105923   \n",
       "4      129S/SvEv-Ednra<tm1Ywa>  MP:0001823   9449664    MGI:105923   \n",
       "...                        ...         ...       ...           ...   \n",
       "36589       involves: C57BL/6J  MP:0001222  31671075   MGI:1917311   \n",
       "36590       involves: C57BL/6J  MP:0002796  31671075   MGI:1917311   \n",
       "36591       involves: C57BL/6J  MP:0003853  31671075   MGI:1917311   \n",
       "36592       involves: C57BL/6J  MP:0009594  31671075   MGI:1917311   \n",
       "36593       involves: C57BL/6J  MP:0011085  31671075   MGI:1917311   \n",
       "\n",
       "              DO ID               \n",
       "0        DOID:12583  OMIM:192430  \n",
       "1        DOID:12583  OMIM:192430  \n",
       "2        DOID:12583  OMIM:192430  \n",
       "3        DOID:12583  OMIM:192430  \n",
       "4        DOID:12583  OMIM:192430  \n",
       "...             ...          ...  \n",
       "36589  DOID:0080257  OMIM:617574  \n",
       "36590  DOID:0080257  OMIM:617574  \n",
       "36591  DOID:0080257  OMIM:617574  \n",
       "36592  DOID:0080257  OMIM:617574  \n",
       "36593  DOID:0080257  OMIM:617574  \n",
       "\n",
       "[36594 rows x 9 columns]"
      ]
     },
     "execution_count": 64,
     "metadata": {},
     "output_type": "execute_result"
    }
   ],
   "source": [
    "df2"
   ]
  },
  {
   "cell_type": "code",
   "execution_count": 66,
   "metadata": {},
   "outputs": [
    {
     "name": "stdout",
     "output_type": "stream",
     "text": [
      "Unique values in Allelic Composition col: (2812,)\n",
      "Unique values in Allele symbol(s) col: (2811,)\n",
      "Unique values in Allele ID(s) col: (2560,)\n",
      "Unique values in Genetic background col: (1431,)\n",
      "Unique values in MP ID col: (5964,)\n",
      "Unique values in PubMed ID col: (4154,)\n",
      "Unique values in MGI Marker ID col: (1464,)\n",
      "Unique values in DO ID col: (1165,)\n",
      "Unique values in  col: (1397,)\n"
     ]
    }
   ],
   "source": [
    "for i in df2.columns:\n",
    "    v = df2[i].unique().shape\n",
    "    print(f'Unique values in {i} col: {v}')"
   ]
  },
  {
   "cell_type": "code",
   "execution_count": null,
   "metadata": {},
   "outputs": [],
   "source": []
  }
 ],
 "metadata": {
  "kernelspec": {
   "display_name": "Python 3",
   "language": "python",
   "name": "python3"
  },
  "language_info": {
   "codemirror_mode": {
    "name": "ipython",
    "version": 3
   },
   "file_extension": ".py",
   "mimetype": "text/x-python",
   "name": "python",
   "nbconvert_exporter": "python",
   "pygments_lexer": "ipython3",
   "version": "3.7.4"
  }
 },
 "nbformat": 4,
 "nbformat_minor": 2
}
