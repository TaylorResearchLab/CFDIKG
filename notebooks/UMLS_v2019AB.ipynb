{
 "cells": [
  {
   "cell_type": "code",
   "execution_count": 1,
   "metadata": {},
   "outputs": [],
   "source": [
    "import pandas as pd\n",
    "import numpy as np\n",
    "import sys"
   ]
  },
  {
   "cell_type": "code",
   "execution_count": 2,
   "metadata": {},
   "outputs": [],
   "source": [
    "%%capture\n",
    "# MRCONSO column descriptions\n",
    "# https://www.ncbi.nlm.nih.gov/books/NBK9685/table/ch03.T.concept_names_and_sources_file_mr/\n",
    "'''\n",
    "Concept Names and Sources (File = MRCONSO.RRF)\n",
    "\n",
    "There is exactly one row in this file for each atom (each occurrence of each unique \n",
    "string or concept name within each source vocabulary) in the Metathesaurus, i.e., there \n",
    "is exactly one row for each unique AUI in the Metathesaurus. Every string or concept name\n",
    "in the Metathesaurus appears in this file, connected to its language, source vocabularies,\n",
    "and its concept identifier. The values of TS, STT, and ISPREF reflect the default order of\n",
    "precedence of vocabulary sources and term types in MRRANK.RRF.\n",
    "\n",
    "From: https://www.ncbi.nlm.nih.gov/books/NBK9685/'''"
   ]
  },
  {
   "cell_type": "code",
   "execution_count": 14,
   "metadata": {},
   "outputs": [
    {
     "name": "stderr",
     "output_type": "stream",
     "text": [
      "<string>:2: DtypeWarning: Columns (9,10,13) have mixed types.Specify dtype option on import or set low_memory=False.\n"
     ]
    },
    {
     "name": "stdout",
     "output_type": "stream",
     "text": [
      "(8428569, 18)\n",
      "CPU times: user 25 s, sys: 11 s, total: 36 s\n",
      "Wall time: 36.4 s\n"
     ]
    }
   ],
   "source": [
    "%%time\n",
    "umls = pd.read_csv('/Users/stearb/desktop/UMLS_2019AB/MRCONSO.RRF',sep='|',header=None)\n",
    "umls = umls.iloc[:, :-1] # remove last column, it's just NaNs.\n",
    "\n",
    "\n",
    "umls.columns = ['CUI','LAT','TS','LUI','STT','SUI','ISPREF','AUI',\n",
    "                'SAUI','SCUI','SDUI','SAB','TTY','CODE','STR','SRL','SUPPRESS','CVF']\n",
    "print(umls.shape)"
   ]
  },
  {
   "cell_type": "code",
   "execution_count": 4,
   "metadata": {},
   "outputs": [],
   "source": [
    "umls.drop(['SRL','SUPPRESS','CVF'],axis=1,inplace=True) # drop these cols, theyre not immediately interesting "
   ]
  },
  {
   "cell_type": "code",
   "execution_count": 45,
   "metadata": {},
   "outputs": [
    {
     "data": {
      "text/html": [
       "<div>\n",
       "<style scoped>\n",
       "    .dataframe tbody tr th:only-of-type {\n",
       "        vertical-align: middle;\n",
       "    }\n",
       "\n",
       "    .dataframe tbody tr th {\n",
       "        vertical-align: top;\n",
       "    }\n",
       "\n",
       "    .dataframe thead th {\n",
       "        text-align: right;\n",
       "    }\n",
       "</style>\n",
       "<table border=\"1\" class=\"dataframe\">\n",
       "  <thead>\n",
       "    <tr style=\"text-align: right;\">\n",
       "      <th></th>\n",
       "      <th>CUI</th>\n",
       "      <th>LAT</th>\n",
       "      <th>TS</th>\n",
       "      <th>LUI</th>\n",
       "      <th>STT</th>\n",
       "      <th>SUI</th>\n",
       "      <th>ISPREF</th>\n",
       "      <th>AUI</th>\n",
       "      <th>SAUI</th>\n",
       "      <th>SCUI</th>\n",
       "      <th>SDUI</th>\n",
       "      <th>SAB</th>\n",
       "      <th>TTY</th>\n",
       "      <th>CODE</th>\n",
       "      <th>STR</th>\n",
       "      <th>SRL</th>\n",
       "      <th>SUPPRESS</th>\n",
       "      <th>CVF</th>\n",
       "    </tr>\n",
       "  </thead>\n",
       "  <tbody>\n",
       "    <tr>\n",
       "      <th>0</th>\n",
       "      <td>C0000005</td>\n",
       "      <td>ENG</td>\n",
       "      <td>P</td>\n",
       "      <td>L0000005</td>\n",
       "      <td>PF</td>\n",
       "      <td>S0007492</td>\n",
       "      <td>Y</td>\n",
       "      <td>A26634265</td>\n",
       "      <td>NaN</td>\n",
       "      <td>M0019694</td>\n",
       "      <td>D012711</td>\n",
       "      <td>MSH</td>\n",
       "      <td>PEP</td>\n",
       "      <td>D012711</td>\n",
       "      <td>(131)I-Macroaggregated Albumin</td>\n",
       "      <td>0</td>\n",
       "      <td>N</td>\n",
       "      <td>256.0</td>\n",
       "    </tr>\n",
       "    <tr>\n",
       "      <th>1</th>\n",
       "      <td>C0000005</td>\n",
       "      <td>ENG</td>\n",
       "      <td>S</td>\n",
       "      <td>L0270109</td>\n",
       "      <td>PF</td>\n",
       "      <td>S0007491</td>\n",
       "      <td>Y</td>\n",
       "      <td>A26634266</td>\n",
       "      <td>NaN</td>\n",
       "      <td>M0019694</td>\n",
       "      <td>D012711</td>\n",
       "      <td>MSH</td>\n",
       "      <td>ET</td>\n",
       "      <td>D012711</td>\n",
       "      <td>(131)I-MAA</td>\n",
       "      <td>0</td>\n",
       "      <td>N</td>\n",
       "      <td>256.0</td>\n",
       "    </tr>\n",
       "    <tr>\n",
       "      <th>2</th>\n",
       "      <td>C0000039</td>\n",
       "      <td>ENG</td>\n",
       "      <td>P</td>\n",
       "      <td>L0000039</td>\n",
       "      <td>PF</td>\n",
       "      <td>S17175117</td>\n",
       "      <td>Y</td>\n",
       "      <td>A28572604</td>\n",
       "      <td>NaN</td>\n",
       "      <td>NaN</td>\n",
       "      <td>NaN</td>\n",
       "      <td>MTH</td>\n",
       "      <td>PN</td>\n",
       "      <td>NOCODE</td>\n",
       "      <td>1,2-dipalmitoylphosphatidylcholine</td>\n",
       "      <td>0</td>\n",
       "      <td>N</td>\n",
       "      <td>NaN</td>\n",
       "    </tr>\n",
       "    <tr>\n",
       "      <th>3</th>\n",
       "      <td>C0000039</td>\n",
       "      <td>ENG</td>\n",
       "      <td>P</td>\n",
       "      <td>L0000039</td>\n",
       "      <td>VC</td>\n",
       "      <td>S0007564</td>\n",
       "      <td>N</td>\n",
       "      <td>A17972823</td>\n",
       "      <td>NaN</td>\n",
       "      <td>N0000007747</td>\n",
       "      <td>NaN</td>\n",
       "      <td>NDFRT</td>\n",
       "      <td>PT</td>\n",
       "      <td>N0000007747</td>\n",
       "      <td>1,2-Dipalmitoylphosphatidylcholine</td>\n",
       "      <td>0</td>\n",
       "      <td>N</td>\n",
       "      <td>256.0</td>\n",
       "    </tr>\n",
       "    <tr>\n",
       "      <th>4</th>\n",
       "      <td>C0000039</td>\n",
       "      <td>ENG</td>\n",
       "      <td>P</td>\n",
       "      <td>L0000039</td>\n",
       "      <td>VC</td>\n",
       "      <td>S0007564</td>\n",
       "      <td>Y</td>\n",
       "      <td>A0016515</td>\n",
       "      <td>NaN</td>\n",
       "      <td>M0023172</td>\n",
       "      <td>D015060</td>\n",
       "      <td>MSH</td>\n",
       "      <td>MH</td>\n",
       "      <td>D015060</td>\n",
       "      <td>1,2-Dipalmitoylphosphatidylcholine</td>\n",
       "      <td>0</td>\n",
       "      <td>N</td>\n",
       "      <td>256.0</td>\n",
       "    </tr>\n",
       "  </tbody>\n",
       "</table>\n",
       "</div>"
      ],
      "text/plain": [
       "        CUI  LAT TS       LUI STT        SUI ISPREF        AUI  SAUI  \\\n",
       "0  C0000005  ENG  P  L0000005  PF   S0007492      Y  A26634265   NaN   \n",
       "1  C0000005  ENG  S  L0270109  PF   S0007491      Y  A26634266   NaN   \n",
       "2  C0000039  ENG  P  L0000039  PF  S17175117      Y  A28572604   NaN   \n",
       "3  C0000039  ENG  P  L0000039  VC   S0007564      N  A17972823   NaN   \n",
       "4  C0000039  ENG  P  L0000039  VC   S0007564      Y   A0016515   NaN   \n",
       "\n",
       "          SCUI     SDUI    SAB  TTY         CODE  \\\n",
       "0     M0019694  D012711    MSH  PEP      D012711   \n",
       "1     M0019694  D012711    MSH   ET      D012711   \n",
       "2          NaN      NaN    MTH   PN       NOCODE   \n",
       "3  N0000007747      NaN  NDFRT   PT  N0000007747   \n",
       "4     M0023172  D015060    MSH   MH      D015060   \n",
       "\n",
       "                                  STR  SRL SUPPRESS    CVF  \n",
       "0      (131)I-Macroaggregated Albumin    0        N  256.0  \n",
       "1                          (131)I-MAA    0        N  256.0  \n",
       "2  1,2-dipalmitoylphosphatidylcholine    0        N    NaN  \n",
       "3  1,2-Dipalmitoylphosphatidylcholine    0        N  256.0  \n",
       "4  1,2-Dipalmitoylphosphatidylcholine    0        N  256.0  "
      ]
     },
     "execution_count": 45,
     "metadata": {},
     "output_type": "execute_result"
    }
   ],
   "source": [
    "umls.head(5)"
   ]
  },
  {
   "cell_type": "markdown",
   "metadata": {},
   "source": [
    "#### Column definitions in MRCONSO.RRF  \n",
    "#### https://www.ncbi.nlm.nih.gov/books/NBK9685/table/ch03.T.concept_names_and_sources_file_mr/\n",
    "CUI = Unique identifier for concept  \n",
    "LAT = Language of term  \n",
    "TS  = Term status  \n",
    "LUI = Unique identifier for term  \n",
    "STT = String type  \n",
    "SUI = Unique identifier for string    \n",
    "ISPREF = Atom status - preferred (Y) or not (N) for this string within this concept  \n",
    "AUI = Unique identifier for atom - variable length field, 8 or 9 characters  \n",
    "SAUI = Source asserted atom identifier (optional)   \n",
    "SCUI = Source asserted concept identifier (optional)  \n",
    "SDUI = Source asserted descriptor identifier (optional)  \n",
    "SAB = Abbreviated source name (SAB)  \n",
    "TTY = Abbrev. for term type in source vocab., ie. PN (Metathesaurus Preferred Name) or CD (Clinical Drug)  \n",
    "CODE = Most useful source asserted ID (if source vocab has more than one identifier), or a Metathesaurus-generated source entry identifier (if the source vocabulary has none)  \n",
    "STR = String  \n",
    "SRL = Source restriction level   \n",
    "SUPPRESS = Suppressible Flag  (Values = O, E, Y, or N)  \n",
    "CVF = Content View Flag  "
   ]
  },
  {
   "cell_type": "markdown",
   "metadata": {},
   "source": [
    "#### Show all Sources\n",
    "https://www.nlm.nih.gov/research/umls/sourcereleasedocs/index.html  <-- all source docs"
   ]
  },
  {
   "cell_type": "code",
   "execution_count": 5,
   "metadata": {},
   "outputs": [
    {
     "data": {
      "text/plain": [
       "array(['AIR', 'BI', 'CCC', 'CCPSS', 'CCS', 'CCS_10', 'COSTAR', 'CPM',\n",
       "       'CPT', 'CSP', 'CST', 'DDB', 'DRUGBANK', 'DSM-5', 'DXP', 'FMA',\n",
       "       'GO', 'GS', 'HCDT', 'HCPT', 'HGNC', 'HL7V2.5', 'HL7V3.0', 'HPO',\n",
       "       'ICD10', 'ICD10AE', 'ICD10AM', 'ICD10AMAE', 'ICD10PCS', 'ICD9CM',\n",
       "       'ICF', 'ICF-CY', 'JABL', 'LCH', 'LCH_NW', 'LNC', 'MEDCIN',\n",
       "       'MEDLINEPLUS', 'MSH', 'MTH', 'MTHICD9', 'NCBI', 'NCI', 'NCI_BRIDG',\n",
       "       'NCI_BioC', 'NCI_CDC', 'NCI_CDISC', 'NCI_CRCH', 'NCI_CTCAE',\n",
       "       'NCI_CTEP-SDC', 'NCI_CareLex', 'NCI_DCP', 'NCI_DICOM', 'NCI_DTP',\n",
       "       'NCI_FDA', 'NCI_GAIA', 'NCI_GENC', 'NCI_ICH', 'NCI_JAX',\n",
       "       'NCI_KEGG', 'NCI_NCI-GLOSS', 'NCI_NCI-HGNC', 'NCI_NCI-HL7',\n",
       "       'NCI_NCPDP', 'NCI_NICHD', 'NCI_PI-RADS', 'NCI_PID', 'NCI_RENI',\n",
       "       'NCI_UCUM', 'NCI_ZFin', 'NDFRT', 'NEU', 'OMIM', 'QMR', 'RAM',\n",
       "       'RCD', 'RCDAE', 'RCDSA', 'RCDSY', 'SNM', 'SNMI', 'SNOMEDCT_US',\n",
       "       'SNOMEDCT_VET', 'SRC', 'UWDA', 'VANDF', 'WHO'], dtype=object)"
      ]
     },
     "execution_count": 5,
     "metadata": {},
     "output_type": "execute_result"
    }
   ],
   "source": [
    "pd.Series(umls['SAB'].unique()).sort_values().values"
   ]
  },
  {
   "cell_type": "markdown",
   "metadata": {},
   "source": [
    "#### Show all Languages"
   ]
  },
  {
   "cell_type": "code",
   "execution_count": 6,
   "metadata": {},
   "outputs": [
    {
     "data": {
      "text/plain": [
       "array(['ENG'], dtype=object)"
      ]
     },
     "execution_count": 6,
     "metadata": {},
     "output_type": "execute_result"
    }
   ],
   "source": [
    "pd.Series(umls['LAT'].unique()).sort_values().values"
   ]
  },
  {
   "cell_type": "markdown",
   "metadata": {},
   "source": [
    "#### Show number of Unique Codes, Termsa and Strings"
   ]
  },
  {
   "cell_type": "code",
   "execution_count": 47,
   "metadata": {},
   "outputs": [
    {
     "name": "stdout",
     "output_type": "stream",
     "text": [
      "Number of Code Unique IDs: (3194901,)\n",
      "Number of Term Unique IDs: (6359168,)\n",
      "Number of String Unique IDs: (7043911,)\n",
      "Number of Atomic Unique IDs: (8428569,)\n",
      "Number of unique strings: (7043870,)\n"
     ]
    }
   ],
   "source": [
    "print(f'Number of Code Unique IDs: {umls[\"CUI\"].unique().shape}')\n",
    "print(f'Number of Term Unique IDs: {umls[\"LUI\"].unique().shape}')\n",
    "print(f'Number of String Unique IDs: {umls[\"SUI\"].unique().shape}')\n",
    "print(f'Number of Atomic Unique IDs: {umls[\"AUI\"].unique().shape}') # unique AUI for each row in MRCONSO.RRF\n",
    "print(f'Number of unique strings: {umls[\"STR\"].unique().shape}') "
   ]
  },
  {
   "cell_type": "markdown",
   "metadata": {},
   "source": [
    " "
   ]
  },
  {
   "cell_type": "markdown",
   "metadata": {},
   "source": [
    "### HGNC "
   ]
  },
  {
   "cell_type": "markdown",
   "metadata": {},
   "source": [
    "#### How many HGNC rows are there?"
   ]
  },
  {
   "cell_type": "code",
   "execution_count": 8,
   "metadata": {},
   "outputs": [
    {
     "name": "stdout",
     "output_type": "stream",
     "text": [
      "(172110, 15)\n"
     ]
    },
    {
     "data": {
      "text/html": [
       "<div>\n",
       "<style scoped>\n",
       "    .dataframe tbody tr th:only-of-type {\n",
       "        vertical-align: middle;\n",
       "    }\n",
       "\n",
       "    .dataframe tbody tr th {\n",
       "        vertical-align: top;\n",
       "    }\n",
       "\n",
       "    .dataframe thead th {\n",
       "        text-align: right;\n",
       "    }\n",
       "</style>\n",
       "<table border=\"1\" class=\"dataframe\">\n",
       "  <thead>\n",
       "    <tr style=\"text-align: right;\">\n",
       "      <th></th>\n",
       "      <th>CUI</th>\n",
       "      <th>LAT</th>\n",
       "      <th>TS</th>\n",
       "      <th>LUI</th>\n",
       "      <th>STT</th>\n",
       "      <th>SUI</th>\n",
       "      <th>ISPREF</th>\n",
       "      <th>AUI</th>\n",
       "      <th>SAUI</th>\n",
       "      <th>SCUI</th>\n",
       "      <th>SDUI</th>\n",
       "      <th>SAB</th>\n",
       "      <th>TTY</th>\n",
       "      <th>CODE</th>\n",
       "      <th>STR</th>\n",
       "    </tr>\n",
       "  </thead>\n",
       "  <tbody>\n",
       "    <tr>\n",
       "      <th>80213</th>\n",
       "      <td>C0008288</td>\n",
       "      <td>ENG</td>\n",
       "      <td>P</td>\n",
       "      <td>L11608660</td>\n",
       "      <td>PF</td>\n",
       "      <td>S14400918</td>\n",
       "      <td>N</td>\n",
       "      <td>A23815064</td>\n",
       "      <td>NaN</td>\n",
       "      <td>HGNC:20365</td>\n",
       "      <td>NaN</td>\n",
       "      <td>HGNC</td>\n",
       "      <td>MTH_ACR</td>\n",
       "      <td>HGNC:20365</td>\n",
       "      <td>CIPC gene</td>\n",
       "    </tr>\n",
       "    <tr>\n",
       "      <th>80215</th>\n",
       "      <td>C0008288</td>\n",
       "      <td>ENG</td>\n",
       "      <td>S</td>\n",
       "      <td>L0008808</td>\n",
       "      <td>PF</td>\n",
       "      <td>S0025504</td>\n",
       "      <td>N</td>\n",
       "      <td>A23821008</td>\n",
       "      <td>NaN</td>\n",
       "      <td>HGNC:20365</td>\n",
       "      <td>NaN</td>\n",
       "      <td>HGNC</td>\n",
       "      <td>ACR</td>\n",
       "      <td>HGNC:20365</td>\n",
       "      <td>CIPC</td>\n",
       "    </tr>\n",
       "    <tr>\n",
       "      <th>80217</th>\n",
       "      <td>C0008288</td>\n",
       "      <td>ENG</td>\n",
       "      <td>S</td>\n",
       "      <td>L11610224</td>\n",
       "      <td>PF</td>\n",
       "      <td>S14400946</td>\n",
       "      <td>Y</td>\n",
       "      <td>A23811680</td>\n",
       "      <td>NaN</td>\n",
       "      <td>HGNC:20365</td>\n",
       "      <td>NaN</td>\n",
       "      <td>HGNC</td>\n",
       "      <td>NaN</td>\n",
       "      <td>HGNC:20365</td>\n",
       "      <td>CLOCK-interacting protein, circadian</td>\n",
       "    </tr>\n",
       "    <tr>\n",
       "      <th>80219</th>\n",
       "      <td>C0008288</td>\n",
       "      <td>ENG</td>\n",
       "      <td>S</td>\n",
       "      <td>L11613423</td>\n",
       "      <td>VC</td>\n",
       "      <td>S16892055</td>\n",
       "      <td>Y</td>\n",
       "      <td>A27918862</td>\n",
       "      <td>NaN</td>\n",
       "      <td>HGNC:20365</td>\n",
       "      <td>NaN</td>\n",
       "      <td>HGNC</td>\n",
       "      <td>PT</td>\n",
       "      <td>HGNC:20365</td>\n",
       "      <td>CLOCK interacting pacemaker</td>\n",
       "    </tr>\n",
       "    <tr>\n",
       "      <th>168857</th>\n",
       "      <td>C0017351</td>\n",
       "      <td>ENG</td>\n",
       "      <td>P</td>\n",
       "      <td>L0577495</td>\n",
       "      <td>PF</td>\n",
       "      <td>S0664873</td>\n",
       "      <td>N</td>\n",
       "      <td>A21253417</td>\n",
       "      <td>NaN</td>\n",
       "      <td>HGNC:5477</td>\n",
       "      <td>NaN</td>\n",
       "      <td>HGNC</td>\n",
       "      <td>MTH_ACR</td>\n",
       "      <td>HGNC:5477</td>\n",
       "      <td>IGH gene</td>\n",
       "    </tr>\n",
       "  </tbody>\n",
       "</table>\n",
       "</div>"
      ],
      "text/plain": [
       "             CUI  LAT TS        LUI STT        SUI ISPREF        AUI  SAUI  \\\n",
       "80213   C0008288  ENG  P  L11608660  PF  S14400918      N  A23815064   NaN   \n",
       "80215   C0008288  ENG  S   L0008808  PF   S0025504      N  A23821008   NaN   \n",
       "80217   C0008288  ENG  S  L11610224  PF  S14400946      Y  A23811680   NaN   \n",
       "80219   C0008288  ENG  S  L11613423  VC  S16892055      Y  A27918862   NaN   \n",
       "168857  C0017351  ENG  P   L0577495  PF   S0664873      N  A21253417   NaN   \n",
       "\n",
       "              SCUI SDUI   SAB      TTY        CODE  \\\n",
       "80213   HGNC:20365  NaN  HGNC  MTH_ACR  HGNC:20365   \n",
       "80215   HGNC:20365  NaN  HGNC      ACR  HGNC:20365   \n",
       "80217   HGNC:20365  NaN  HGNC      NaN  HGNC:20365   \n",
       "80219   HGNC:20365  NaN  HGNC       PT  HGNC:20365   \n",
       "168857   HGNC:5477  NaN  HGNC  MTH_ACR   HGNC:5477   \n",
       "\n",
       "                                         STR  \n",
       "80213                              CIPC gene  \n",
       "80215                                   CIPC  \n",
       "80217   CLOCK-interacting protein, circadian  \n",
       "80219            CLOCK interacting pacemaker  \n",
       "168857                              IGH gene  "
      ]
     },
     "execution_count": 8,
     "metadata": {},
     "output_type": "execute_result"
    }
   ],
   "source": [
    "hgnc = umls[umls['SAB'] == 'HGNC']\n",
    "print(hgnc.shape)\n",
    "hgnc.head()   "
   ]
  },
  {
   "cell_type": "markdown",
   "metadata": {},
   "source": [
    "#### How many unique HGNC codes (genes) are there?"
   ]
  },
  {
   "cell_type": "code",
   "execution_count": 12,
   "metadata": {},
   "outputs": [
    {
     "data": {
      "text/plain": [
       "(40978,)"
      ]
     },
     "execution_count": 12,
     "metadata": {},
     "output_type": "execute_result"
    }
   ],
   "source": [
    "hgnc['CODE'].unique().shape  # probably dont need mygene.info gene list, but might need to add gene info to umls genes "
   ]
  },
  {
   "cell_type": "markdown",
   "metadata": {},
   "source": [
    "  "
   ]
  },
  {
   "cell_type": "markdown",
   "metadata": {},
   "source": [
    "### GO"
   ]
  },
  {
   "cell_type": "code",
   "execution_count": 18,
   "metadata": {},
   "outputs": [
    {
     "name": "stdout",
     "output_type": "stream",
     "text": [
      "(177286, 18)\n"
     ]
    },
    {
     "data": {
      "text/html": [
       "<div>\n",
       "<style scoped>\n",
       "    .dataframe tbody tr th:only-of-type {\n",
       "        vertical-align: middle;\n",
       "    }\n",
       "\n",
       "    .dataframe tbody tr th {\n",
       "        vertical-align: top;\n",
       "    }\n",
       "\n",
       "    .dataframe thead th {\n",
       "        text-align: right;\n",
       "    }\n",
       "</style>\n",
       "<table border=\"1\" class=\"dataframe\">\n",
       "  <thead>\n",
       "    <tr style=\"text-align: right;\">\n",
       "      <th></th>\n",
       "      <th>CUI</th>\n",
       "      <th>LAT</th>\n",
       "      <th>TS</th>\n",
       "      <th>LUI</th>\n",
       "      <th>STT</th>\n",
       "      <th>SUI</th>\n",
       "      <th>ISPREF</th>\n",
       "      <th>AUI</th>\n",
       "      <th>SAUI</th>\n",
       "      <th>SCUI</th>\n",
       "      <th>SDUI</th>\n",
       "      <th>SAB</th>\n",
       "      <th>TTY</th>\n",
       "      <th>CODE</th>\n",
       "      <th>STR</th>\n",
       "      <th>SRL</th>\n",
       "      <th>SUPPRESS</th>\n",
       "      <th>CVF</th>\n",
       "    </tr>\n",
       "  </thead>\n",
       "  <tbody>\n",
       "    <tr>\n",
       "      <th>351</th>\n",
       "      <td>C0000184</td>\n",
       "      <td>ENG</td>\n",
       "      <td>P</td>\n",
       "      <td>L0000184</td>\n",
       "      <td>VO</td>\n",
       "      <td>S8803462</td>\n",
       "      <td>N</td>\n",
       "      <td>A14256157</td>\n",
       "      <td>NaN</td>\n",
       "      <td>NaN</td>\n",
       "      <td>GO:0004113</td>\n",
       "      <td>GO</td>\n",
       "      <td>ET</td>\n",
       "      <td>GO:0004113</td>\n",
       "      <td>cyclic 2',3'-nucleotide phosphodiesterase</td>\n",
       "      <td>0</td>\n",
       "      <td>N</td>\n",
       "      <td>NaN</td>\n",
       "    </tr>\n",
       "    <tr>\n",
       "      <th>352</th>\n",
       "      <td>C0000184</td>\n",
       "      <td>ENG</td>\n",
       "      <td>P</td>\n",
       "      <td>L0000184</td>\n",
       "      <td>VO</td>\n",
       "      <td>S8803462</td>\n",
       "      <td>Y</td>\n",
       "      <td>A14236040</td>\n",
       "      <td>NaN</td>\n",
       "      <td>NaN</td>\n",
       "      <td>GO:0008663</td>\n",
       "      <td>GO</td>\n",
       "      <td>ET</td>\n",
       "      <td>GO:0008663</td>\n",
       "      <td>cyclic 2',3'-nucleotide phosphodiesterase</td>\n",
       "      <td>0</td>\n",
       "      <td>N</td>\n",
       "      <td>NaN</td>\n",
       "    </tr>\n",
       "    <tr>\n",
       "      <th>7604</th>\n",
       "      <td>C0001216</td>\n",
       "      <td>ENG</td>\n",
       "      <td>P</td>\n",
       "      <td>L0001216</td>\n",
       "      <td>VC</td>\n",
       "      <td>S0414295</td>\n",
       "      <td>Y</td>\n",
       "      <td>A23854726</td>\n",
       "      <td>NaN</td>\n",
       "      <td>NaN</td>\n",
       "      <td>GO:0001669</td>\n",
       "      <td>GO</td>\n",
       "      <td>SY</td>\n",
       "      <td>GO:0001669</td>\n",
       "      <td>acrosome</td>\n",
       "      <td>0</td>\n",
       "      <td>N</td>\n",
       "      <td>256.0</td>\n",
       "    </tr>\n",
       "    <tr>\n",
       "      <th>7609</th>\n",
       "      <td>C0001216</td>\n",
       "      <td>ENG</td>\n",
       "      <td>S</td>\n",
       "      <td>L0277700</td>\n",
       "      <td>VC</td>\n",
       "      <td>S13005529</td>\n",
       "      <td>N</td>\n",
       "      <td>A20222996</td>\n",
       "      <td>NaN</td>\n",
       "      <td>NaN</td>\n",
       "      <td>GO:0001669</td>\n",
       "      <td>GO</td>\n",
       "      <td>SY</td>\n",
       "      <td>GO:0001669</td>\n",
       "      <td>acrosomal granule</td>\n",
       "      <td>0</td>\n",
       "      <td>N</td>\n",
       "      <td>256.0</td>\n",
       "    </tr>\n",
       "    <tr>\n",
       "      <th>7614</th>\n",
       "      <td>C0001216</td>\n",
       "      <td>ENG</td>\n",
       "      <td>S</td>\n",
       "      <td>L0277702</td>\n",
       "      <td>VC</td>\n",
       "      <td>S11415091</td>\n",
       "      <td>Y</td>\n",
       "      <td>A17477125</td>\n",
       "      <td>NaN</td>\n",
       "      <td>NaN</td>\n",
       "      <td>GO:0001669</td>\n",
       "      <td>GO</td>\n",
       "      <td>PT</td>\n",
       "      <td>GO:0001669</td>\n",
       "      <td>acrosomal vesicle</td>\n",
       "      <td>0</td>\n",
       "      <td>N</td>\n",
       "      <td>256.0</td>\n",
       "    </tr>\n",
       "  </tbody>\n",
       "</table>\n",
       "</div>"
      ],
      "text/plain": [
       "           CUI  LAT TS       LUI STT        SUI ISPREF        AUI  SAUI SCUI  \\\n",
       "351   C0000184  ENG  P  L0000184  VO   S8803462      N  A14256157   NaN  NaN   \n",
       "352   C0000184  ENG  P  L0000184  VO   S8803462      Y  A14236040   NaN  NaN   \n",
       "7604  C0001216  ENG  P  L0001216  VC   S0414295      Y  A23854726   NaN  NaN   \n",
       "7609  C0001216  ENG  S  L0277700  VC  S13005529      N  A20222996   NaN  NaN   \n",
       "7614  C0001216  ENG  S  L0277702  VC  S11415091      Y  A17477125   NaN  NaN   \n",
       "\n",
       "            SDUI SAB TTY        CODE  \\\n",
       "351   GO:0004113  GO  ET  GO:0004113   \n",
       "352   GO:0008663  GO  ET  GO:0008663   \n",
       "7604  GO:0001669  GO  SY  GO:0001669   \n",
       "7609  GO:0001669  GO  SY  GO:0001669   \n",
       "7614  GO:0001669  GO  PT  GO:0001669   \n",
       "\n",
       "                                            STR  SRL SUPPRESS    CVF  \n",
       "351   cyclic 2',3'-nucleotide phosphodiesterase    0        N    NaN  \n",
       "352   cyclic 2',3'-nucleotide phosphodiesterase    0        N    NaN  \n",
       "7604                                   acrosome    0        N  256.0  \n",
       "7609                          acrosomal granule    0        N  256.0  \n",
       "7614                          acrosomal vesicle    0        N  256.0  "
      ]
     },
     "execution_count": 18,
     "metadata": {},
     "output_type": "execute_result"
    }
   ],
   "source": [
    "go = umls[umls['SAB']=='GO']\n",
    "print(go.shape)\n",
    "go.head()"
   ]
  },
  {
   "cell_type": "code",
   "execution_count": null,
   "metadata": {},
   "outputs": [],
   "source": [
    "#### How many unique GO terms are there?"
   ]
  },
  {
   "cell_type": "code",
   "execution_count": 26,
   "metadata": {},
   "outputs": [
    {
     "data": {
      "text/plain": [
       "(46569,)"
      ]
     },
     "execution_count": 26,
     "metadata": {},
     "output_type": "execute_result"
    }
   ],
   "source": [
    "go['CODE'].unique().shape    # go[['CUI','CODE','STR']].iloc[-10:,:]  # look at last 10 GO terms"
   ]
  },
  {
   "cell_type": "markdown",
   "metadata": {},
   "source": [
    "  "
   ]
  },
  {
   "cell_type": "markdown",
   "metadata": {},
   "source": [
    "### HPO"
   ]
  },
  {
   "cell_type": "code",
   "execution_count": 35,
   "metadata": {},
   "outputs": [
    {
     "name": "stdout",
     "output_type": "stream",
     "text": [
      "(29064, 18)\n"
     ]
    },
    {
     "data": {
      "text/html": [
       "<div>\n",
       "<style scoped>\n",
       "    .dataframe tbody tr th:only-of-type {\n",
       "        vertical-align: middle;\n",
       "    }\n",
       "\n",
       "    .dataframe tbody tr th {\n",
       "        vertical-align: top;\n",
       "    }\n",
       "\n",
       "    .dataframe thead th {\n",
       "        text-align: right;\n",
       "    }\n",
       "</style>\n",
       "<table border=\"1\" class=\"dataframe\">\n",
       "  <thead>\n",
       "    <tr style=\"text-align: right;\">\n",
       "      <th></th>\n",
       "      <th>CUI</th>\n",
       "      <th>LAT</th>\n",
       "      <th>TS</th>\n",
       "      <th>LUI</th>\n",
       "      <th>STT</th>\n",
       "      <th>SUI</th>\n",
       "      <th>ISPREF</th>\n",
       "      <th>AUI</th>\n",
       "      <th>SAUI</th>\n",
       "      <th>SCUI</th>\n",
       "      <th>SDUI</th>\n",
       "      <th>SAB</th>\n",
       "      <th>TTY</th>\n",
       "      <th>CODE</th>\n",
       "      <th>STR</th>\n",
       "      <th>SRL</th>\n",
       "      <th>SUPPRESS</th>\n",
       "      <th>CVF</th>\n",
       "    </tr>\n",
       "  </thead>\n",
       "  <tbody>\n",
       "    <tr>\n",
       "      <th>2445</th>\n",
       "      <td>C0000731</td>\n",
       "      <td>ENG</td>\n",
       "      <td>P</td>\n",
       "      <td>L0486265</td>\n",
       "      <td>VCW</td>\n",
       "      <td>S1616714</td>\n",
       "      <td>Y</td>\n",
       "      <td>A24680170</td>\n",
       "      <td>NaN</td>\n",
       "      <td>NaN</td>\n",
       "      <td>HP:0003270</td>\n",
       "      <td>HPO</td>\n",
       "      <td>SY</td>\n",
       "      <td>HP:0003270</td>\n",
       "      <td>Distended abdomen</td>\n",
       "      <td>0</td>\n",
       "      <td>N</td>\n",
       "      <td>256.0</td>\n",
       "    </tr>\n",
       "    <tr>\n",
       "      <th>2450</th>\n",
       "      <td>C0000731</td>\n",
       "      <td>ENG</td>\n",
       "      <td>S</td>\n",
       "      <td>L0000731</td>\n",
       "      <td>PF</td>\n",
       "      <td>S0467467</td>\n",
       "      <td>N</td>\n",
       "      <td>A24682424</td>\n",
       "      <td>NaN</td>\n",
       "      <td>NaN</td>\n",
       "      <td>HP:0003270</td>\n",
       "      <td>HPO</td>\n",
       "      <td>SY</td>\n",
       "      <td>HP:0003270</td>\n",
       "      <td>Abdominal distension</td>\n",
       "      <td>0</td>\n",
       "      <td>N</td>\n",
       "      <td>256.0</td>\n",
       "    </tr>\n",
       "    <tr>\n",
       "      <th>2460</th>\n",
       "      <td>C0000731</td>\n",
       "      <td>ENG</td>\n",
       "      <td>S</td>\n",
       "      <td>L0000731</td>\n",
       "      <td>VO</td>\n",
       "      <td>S0353653</td>\n",
       "      <td>N</td>\n",
       "      <td>A24677906</td>\n",
       "      <td>NaN</td>\n",
       "      <td>NaN</td>\n",
       "      <td>HP:0003270</td>\n",
       "      <td>HPO</td>\n",
       "      <td>PT</td>\n",
       "      <td>HP:0003270</td>\n",
       "      <td>Abdominal distention</td>\n",
       "      <td>0</td>\n",
       "      <td>N</td>\n",
       "      <td>256.0</td>\n",
       "    </tr>\n",
       "    <tr>\n",
       "      <th>2466</th>\n",
       "      <td>C0000731</td>\n",
       "      <td>ENG</td>\n",
       "      <td>S</td>\n",
       "      <td>L0085124</td>\n",
       "      <td>PF</td>\n",
       "      <td>S0001569</td>\n",
       "      <td>Y</td>\n",
       "      <td>A27414126</td>\n",
       "      <td>NaN</td>\n",
       "      <td>NaN</td>\n",
       "      <td>HP:0003270</td>\n",
       "      <td>HPO</td>\n",
       "      <td>SY</td>\n",
       "      <td>HP:0003270</td>\n",
       "      <td>Bloating</td>\n",
       "      <td>0</td>\n",
       "      <td>N</td>\n",
       "      <td>256.0</td>\n",
       "    </tr>\n",
       "    <tr>\n",
       "      <th>2475</th>\n",
       "      <td>C0000731</td>\n",
       "      <td>ENG</td>\n",
       "      <td>S</td>\n",
       "      <td>L0276350</td>\n",
       "      <td>PF</td>\n",
       "      <td>S0353647</td>\n",
       "      <td>Y</td>\n",
       "      <td>A27414159</td>\n",
       "      <td>NaN</td>\n",
       "      <td>NaN</td>\n",
       "      <td>HP:0003270</td>\n",
       "      <td>HPO</td>\n",
       "      <td>SY</td>\n",
       "      <td>HP:0003270</td>\n",
       "      <td>Abdominal bloating</td>\n",
       "      <td>0</td>\n",
       "      <td>N</td>\n",
       "      <td>256.0</td>\n",
       "    </tr>\n",
       "  </tbody>\n",
       "</table>\n",
       "</div>"
      ],
      "text/plain": [
       "           CUI  LAT TS       LUI  STT       SUI ISPREF        AUI  SAUI SCUI  \\\n",
       "2445  C0000731  ENG  P  L0486265  VCW  S1616714      Y  A24680170   NaN  NaN   \n",
       "2450  C0000731  ENG  S  L0000731   PF  S0467467      N  A24682424   NaN  NaN   \n",
       "2460  C0000731  ENG  S  L0000731   VO  S0353653      N  A24677906   NaN  NaN   \n",
       "2466  C0000731  ENG  S  L0085124   PF  S0001569      Y  A27414126   NaN  NaN   \n",
       "2475  C0000731  ENG  S  L0276350   PF  S0353647      Y  A27414159   NaN  NaN   \n",
       "\n",
       "            SDUI  SAB TTY        CODE                   STR  SRL SUPPRESS  \\\n",
       "2445  HP:0003270  HPO  SY  HP:0003270     Distended abdomen    0        N   \n",
       "2450  HP:0003270  HPO  SY  HP:0003270  Abdominal distension    0        N   \n",
       "2460  HP:0003270  HPO  PT  HP:0003270  Abdominal distention    0        N   \n",
       "2466  HP:0003270  HPO  SY  HP:0003270              Bloating    0        N   \n",
       "2475  HP:0003270  HPO  SY  HP:0003270    Abdominal bloating    0        N   \n",
       "\n",
       "        CVF  \n",
       "2445  256.0  \n",
       "2450  256.0  \n",
       "2460  256.0  \n",
       "2466  256.0  \n",
       "2475  256.0  "
      ]
     },
     "execution_count": 35,
     "metadata": {},
     "output_type": "execute_result"
    }
   ],
   "source": [
    "hpo = umls[umls['SAB']=='HPO']\n",
    "print(hpo.shape)\n",
    "hpo.head()"
   ]
  },
  {
   "cell_type": "markdown",
   "metadata": {},
   "source": [
    "#### How many unique HPO terms are there?"
   ]
  },
  {
   "cell_type": "code",
   "execution_count": 28,
   "metadata": {},
   "outputs": [
    {
     "data": {
      "text/plain": [
       "(12762,)"
      ]
     },
     "execution_count": 28,
     "metadata": {},
     "output_type": "execute_result"
    }
   ],
   "source": [
    "hpo['CODE'].unique().shape   # Nico's dataset has 8,554 HPO-MP pairs"
   ]
  },
  {
   "cell_type": "code",
   "execution_count": 53,
   "metadata": {},
   "outputs": [
    {
     "data": {
      "text/plain": [
       "False"
      ]
     },
     "execution_count": 53,
     "metadata": {},
     "output_type": "execute_result"
    }
   ],
   "source": [
    "# Search for an HPO terms\n",
    "'Congenital heart defects and skeletal malformations syndrome' in hpo['STR'].values"
   ]
  },
  {
   "cell_type": "code",
   "execution_count": 54,
   "metadata": {},
   "outputs": [
    {
     "data": {
      "text/plain": [
       "True"
      ]
     },
     "execution_count": 54,
     "metadata": {},
     "output_type": "execute_result"
    }
   ],
   "source": [
    "'Autosomal dominant inheritance' in hpo['STR'].values"
   ]
  },
  {
   "cell_type": "code",
   "execution_count": 57,
   "metadata": {},
   "outputs": [
    {
     "data": {
      "text/plain": [
       "7472"
      ]
     },
     "execution_count": 57,
     "metadata": {},
     "output_type": "execute_result"
    }
   ],
   "source": [
    "list(hpo['STR']).index('Autosomal dominant inheritance')"
   ]
  },
  {
   "cell_type": "code",
   "execution_count": 60,
   "metadata": {},
   "outputs": [
    {
     "data": {
      "text/plain": [
       "1"
      ]
     },
     "execution_count": 60,
     "metadata": {},
     "output_type": "execute_result"
    }
   ],
   "source": [
    "list(hpo['STR']).count('Autosomal dominant inheritance')"
   ]
  },
  {
   "cell_type": "code",
   "execution_count": 62,
   "metadata": {},
   "outputs": [
    {
     "data": {
      "text/plain": [
       "True"
      ]
     },
     "execution_count": 62,
     "metadata": {},
     "output_type": "execute_result"
    }
   ],
   "source": [
    "'HP:0001680' in hpo['CODE'].values"
   ]
  },
  {
   "cell_type": "code",
   "execution_count": null,
   "metadata": {},
   "outputs": [],
   "source": []
  },
  {
   "cell_type": "code",
   "execution_count": null,
   "metadata": {},
   "outputs": [],
   "source": []
  },
  {
   "cell_type": "code",
   "execution_count": null,
   "metadata": {},
   "outputs": [],
   "source": []
  },
  {
   "cell_type": "markdown",
   "metadata": {},
   "source": [
    "#### Show where NANs are"
   ]
  },
  {
   "cell_type": "code",
   "execution_count": 43,
   "metadata": {},
   "outputs": [
    {
     "data": {
      "text/plain": [
       "<matplotlib.axes._subplots.AxesSubplot at 0x191030410>"
      ]
     },
     "execution_count": 43,
     "metadata": {},
     "output_type": "execute_result"
    },
    {
     "data": {
      "image/png": "[encoded data removed]",
      "text/plain": [
       "<Figure size 1800x720 with 2 Axes>"
      ]
     },
     "metadata": {
      "needs_background": "light"
     },
     "output_type": "display_data"
    }
   ],
   "source": [
    "import missingno as msno\n",
    "msno.matrix(umls)"
   ]
  },
  {
   "cell_type": "code",
   "execution_count": null,
   "metadata": {},
   "outputs": [],
   "source": []
  },
  {
   "cell_type": "code",
   "execution_count": null,
   "metadata": {},
   "outputs": [],
   "source": []
  },
  {
   "cell_type": "markdown",
   "metadata": {},
   "source": [
    "### Generate hash UUID for all mouse genes"
   ]
  },
  {
   "cell_type": "code",
   "execution_count": 29,
   "metadata": {},
   "outputs": [],
   "source": [
    "import uuid\n",
    "# example on generating hash uuid for string 'python.org':   uuid.uuid3(uuid.NAMESPACE_DNS, 'python.org')\n",
    "\n",
    "mouse_genes = pd.read_csv('homologous_genes.csv',index_col=0)['Mouse'].values\n",
    "\n",
    "mousegene_uuid=[]\n",
    "for GENE in mouse_genes:\n",
    "    mousegene_uuid.append(uuid.uuid3(uuid.NAMESPACE_DNS, GENE))\n",
    "    \n",
    "mousegene_uuid[:6]"
   ]
  },
  {
   "cell_type": "code",
   "execution_count": 34,
   "metadata": {},
   "outputs": [
    {
     "data": {
      "text/plain": [
       "['17959968-a2de-3a1f-9be2-fc7a1bb15913',\n",
       " '13b5d145-8769-34e9-b4ad-73eaabdc68ce',\n",
       " '4e75f09c-b912-3450-aaef-772242a5c393',\n",
       " 'd6ddcc5c-5072-37aa-a4e2-c1010b9f216a',\n",
       " 'ade65c22-b58f-393b-aef8-537a9979ac33',\n",
       " '52555755-d5bb-3299-b28f-09778d40cd2d']"
      ]
     },
     "execution_count": 34,
     "metadata": {},
     "output_type": "execute_result"
    }
   ],
   "source": [
    "mousegene_uuid_str = [str(i) for i in mousegene_uuid]\n",
    "mousegene_uuid_str[:6]"
   ]
  },
  {
   "cell_type": "code",
   "execution_count": 77,
   "metadata": {},
   "outputs": [],
   "source": [
    "pd.DataFrame(np.transpose([mouse_genes,mousegene_uuid_str]),\n",
    "             columns=['Mouse Gene','UUID']).to_csv('mousegene_uuid.csv')"
   ]
  },
  {
   "cell_type": "code",
   "execution_count": null,
   "metadata": {},
   "outputs": [],
   "source": []
  }
 ],
 "metadata": {
  "kernelspec": {
   "display_name": "Python 3",
   "language": "python",
   "name": "python3"
  },
  "language_info": {
   "codemirror_mode": {
    "name": "ipython",
    "version": 3
   },
   "file_extension": ".py",
   "mimetype": "text/x-python",
   "name": "python",
   "nbconvert_exporter": "python",
   "pygments_lexer": "ipython3",
   "version": "3.7.4"
  }
 },
 "nbformat": 4,
 "nbformat_minor": 2
}
