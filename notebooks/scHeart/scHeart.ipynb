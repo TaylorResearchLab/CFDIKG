{
 "cells": [
  {
   "cell_type": "code",
   "execution_count": 2,
   "metadata": {},
   "outputs": [],
   "source": [
    "import pandas as pd\n",
    "import numpy as np\n",
    "from collections import Counter\n",
    "#import matplotlib.pyplot as plt\n",
    "import warnings\n",
    "import os\n",
    "warnings.filterwarnings('ignore')\n",
    "from umls_utils import CUIbase64,get_paths"
   ]
  },
  {
   "cell_type": "code",
   "execution_count": 77,
   "metadata": {},
   "outputs": [
    {
     "name": "stdout",
     "output_type": "stream",
     "text": [
      "[NbConvertApp] Converting notebook scHeart-Copy1.ipynb to script\n",
      "[NbConvertApp] Writing 19705 bytes to scHeart-Copy1.py\n"
     ]
    }
   ],
   "source": [
    "!jupyter nbconvert --to script --no-prompt scHeart-Copy1.ipynb"
   ]
  },
  {
   "cell_type": "code",
   "execution_count": 2,
   "metadata": {},
   "outputs": [],
   "source": [
    "!rm -r __pycache__/"
   ]
  },
  {
   "cell_type": "code",
   "execution_count": 3,
   "metadata": {},
   "outputs": [],
   "source": [
    "config_path = '/Users/stearb/Dropbox/CHOP/R03/code/neo4j_build_CFDIKG/build_scripts/'\n",
    "\n",
    "\n",
    "# Get paths from config file\n",
    "data_dir,helper_data_dir,output_dir,LOCAL_CPU, umls_dir, umls_out_dir = get_paths(config_path)\n",
    "\n",
    " \n",
    "if not os.path.isdir(output_dir+'scHeart'):\n",
    "    os.mkdir(output_dir+'scHeart')\n",
    "    print('Creating scHeart directory...')\n",
    "   "
   ]
  },
  {
   "cell_type": "code",
   "execution_count": 4,
   "metadata": {},
   "outputs": [],
   "source": [
    "## Flatten/melt the average gene expression data so we have 1 gene and 1 tissue per row\n",
    "#df = pd.read_csv('/Users/stearb/Desktop/R03_local/data/scHeart/asp_average_gene_expression_14_celltypes.csv')\n",
    "#df.rename(columns={'Unnamed: 0':'Gene'},inplace=True)\n",
    "#print(df.shape)\n",
    "\n",
    "#df2 = pd.melt(df, id_vars=\"Gene\",value_name=\"Average Exp\")\n",
    "#df2['Average Exp'].plot(kind='hist',range=[0,10],bins=50)\n",
    "#df2.to_csv('/Users/stearb/Desktop/R03_local/data/scHeart/asp_average_gene_expression_14_celltypes_LONG.csv')"
   ]
  },
  {
   "cell_type": "code",
   "execution_count": 5,
   "metadata": {},
   "outputs": [],
   "source": [
    "#cui_codes_temp = pd.read_csv('/Users/stearb/Desktop/R03_local/data/scHeart/temp_files/CUI-CODEs.csv')\n",
    "#cui_codes_temp"
   ]
  },
  {
   "cell_type": "code",
   "execution_count": 6,
   "metadata": {},
   "outputs": [
    {
     "data": {
      "text/plain": [
       "'/Users/stearb/Desktop/R03_local/data/use_config/R03_DATA/'"
      ]
     },
     "execution_count": 6,
     "metadata": {},
     "output_type": "execute_result"
    }
   ],
   "source": [
    "data_dir"
   ]
  },
  {
   "cell_type": "code",
   "execution_count": 7,
   "metadata": {},
   "outputs": [
    {
     "name": "stdout",
     "output_type": "stream",
     "text": [
      "2932\n"
     ]
    },
    {
     "data": {
      "text/html": [
       "<div>\n",
       "<style scoped>\n",
       "    .dataframe tbody tr th:only-of-type {\n",
       "        vertical-align: middle;\n",
       "    }\n",
       "\n",
       "    .dataframe tbody tr th {\n",
       "        vertical-align: top;\n",
       "    }\n",
       "\n",
       "    .dataframe thead th {\n",
       "        text-align: right;\n",
       "    }\n",
       "</style>\n",
       "<table border=\"1\" class=\"dataframe\">\n",
       "  <thead>\n",
       "    <tr style=\"text-align: right;\">\n",
       "      <th></th>\n",
       "      <th>avg_log2FC</th>\n",
       "      <th>p_val_adj</th>\n",
       "      <th>cluster</th>\n",
       "      <th>gene</th>\n",
       "      <th>cluster_celltype_name</th>\n",
       "    </tr>\n",
       "  </thead>\n",
       "  <tbody>\n",
       "    <tr>\n",
       "      <th>0</th>\n",
       "      <td>5.513025</td>\n",
       "      <td>0.0</td>\n",
       "      <td>7</td>\n",
       "      <td>BPGM</td>\n",
       "      <td>Erythrocytes</td>\n",
       "    </tr>\n",
       "    <tr>\n",
       "      <th>1</th>\n",
       "      <td>5.509262</td>\n",
       "      <td>0.0</td>\n",
       "      <td>7</td>\n",
       "      <td>MT1H</td>\n",
       "      <td>Erythrocytes</td>\n",
       "    </tr>\n",
       "    <tr>\n",
       "      <th>2</th>\n",
       "      <td>4.710317</td>\n",
       "      <td>0.0</td>\n",
       "      <td>7</td>\n",
       "      <td>GYPB</td>\n",
       "      <td>Erythrocytes</td>\n",
       "    </tr>\n",
       "  </tbody>\n",
       "</table>\n",
       "</div>"
      ],
      "text/plain": [
       "   avg_log2FC  p_val_adj  cluster  gene cluster_celltype_name\n",
       "0    5.513025        0.0        7  BPGM          Erythrocytes\n",
       "1    5.509262        0.0        7  MT1H          Erythrocytes\n",
       "2    4.710317        0.0        7  GYPB          Erythrocytes"
      ]
     },
     "execution_count": 7,
     "metadata": {},
     "output_type": "execute_result"
    }
   ],
   "source": [
    "z = pd.read_csv(data_dir+'asp_cell_type_markers_zeros_labelled.csv')\n",
    "z.drop(['p_val','pct.1','pct.2'],axis=1,inplace=True)\n",
    "print(len(z))\n",
    "z.head(3)   # this data has already been filtered to remove p-vals greater than .06"
   ]
  },
  {
   "cell_type": "code",
   "execution_count": 8,
   "metadata": {},
   "outputs": [
    {
     "name": "stdout",
     "output_type": "stream",
     "text": [
      "2816\n"
     ]
    }
   ],
   "source": [
    "#### Merge in HGNC IDs\n",
    "hgnc_master = pd.read_csv(helper_data_dir+'hgnc_master.txt','\\t')\n",
    "gene_map = hgnc_master[['hgnc_id','symbol']].rename(columns={'symbol':'gene'})\n",
    "\n",
    "z2 = pd.merge(z,gene_map,on='gene')\n",
    "\n",
    "print(len(z2))"
   ]
  },
  {
   "cell_type": "code",
   "execution_count": 9,
   "metadata": {},
   "outputs": [
    {
     "data": {
      "text/html": [
       "<div>\n",
       "<style scoped>\n",
       "    .dataframe tbody tr th:only-of-type {\n",
       "        vertical-align: middle;\n",
       "    }\n",
       "\n",
       "    .dataframe tbody tr th {\n",
       "        vertical-align: top;\n",
       "    }\n",
       "\n",
       "    .dataframe thead th {\n",
       "        text-align: right;\n",
       "    }\n",
       "</style>\n",
       "<table border=\"1\" class=\"dataframe\">\n",
       "  <thead>\n",
       "    <tr style=\"text-align: right;\">\n",
       "      <th></th>\n",
       "      <th>avg_log2FC</th>\n",
       "      <th>p_val_adj</th>\n",
       "      <th>cluster</th>\n",
       "      <th>gene</th>\n",
       "      <th>cluster_celltype_name</th>\n",
       "    </tr>\n",
       "  </thead>\n",
       "  <tbody>\n",
       "    <tr>\n",
       "      <th>0</th>\n",
       "      <td>5.513025</td>\n",
       "      <td>0.000000</td>\n",
       "      <td>7</td>\n",
       "      <td>BPGM</td>\n",
       "      <td>Erythrocytes</td>\n",
       "    </tr>\n",
       "    <tr>\n",
       "      <th>1</th>\n",
       "      <td>5.509262</td>\n",
       "      <td>0.000000</td>\n",
       "      <td>7</td>\n",
       "      <td>MT1H</td>\n",
       "      <td>Erythrocytes</td>\n",
       "    </tr>\n",
       "    <tr>\n",
       "      <th>2</th>\n",
       "      <td>4.710317</td>\n",
       "      <td>0.000000</td>\n",
       "      <td>7</td>\n",
       "      <td>GYPB</td>\n",
       "      <td>Erythrocytes</td>\n",
       "    </tr>\n",
       "    <tr>\n",
       "      <th>3</th>\n",
       "      <td>3.430410</td>\n",
       "      <td>0.000000</td>\n",
       "      <td>7</td>\n",
       "      <td>EPB42</td>\n",
       "      <td>Erythrocytes</td>\n",
       "    </tr>\n",
       "    <tr>\n",
       "      <th>4</th>\n",
       "      <td>2.968435</td>\n",
       "      <td>0.000000</td>\n",
       "      <td>7</td>\n",
       "      <td>PHOSPHO1</td>\n",
       "      <td>Erythrocytes</td>\n",
       "    </tr>\n",
       "    <tr>\n",
       "      <th>...</th>\n",
       "      <td>...</td>\n",
       "      <td>...</td>\n",
       "      <td>...</td>\n",
       "      <td>...</td>\n",
       "      <td>...</td>\n",
       "    </tr>\n",
       "    <tr>\n",
       "      <th>2927</th>\n",
       "      <td>-1.572859</td>\n",
       "      <td>0.015851</td>\n",
       "      <td>9</td>\n",
       "      <td>POSTN</td>\n",
       "      <td>Fibroblast-like (related to larger vascular de...</td>\n",
       "    </tr>\n",
       "    <tr>\n",
       "      <th>2928</th>\n",
       "      <td>-1.890170</td>\n",
       "      <td>0.016514</td>\n",
       "      <td>9</td>\n",
       "      <td>MYH6</td>\n",
       "      <td>Fibroblast-like (related to larger vascular de...</td>\n",
       "    </tr>\n",
       "    <tr>\n",
       "      <th>2929</th>\n",
       "      <td>-1.162992</td>\n",
       "      <td>0.022877</td>\n",
       "      <td>9</td>\n",
       "      <td>IGFBP5</td>\n",
       "      <td>Fibroblast-like (related to larger vascular de...</td>\n",
       "    </tr>\n",
       "    <tr>\n",
       "      <th>2930</th>\n",
       "      <td>-1.384368</td>\n",
       "      <td>0.027756</td>\n",
       "      <td>9</td>\n",
       "      <td>EMCN</td>\n",
       "      <td>Fibroblast-like (related to larger vascular de...</td>\n",
       "    </tr>\n",
       "    <tr>\n",
       "      <th>2931</th>\n",
       "      <td>-1.190825</td>\n",
       "      <td>0.046930</td>\n",
       "      <td>9</td>\n",
       "      <td>SFRP2</td>\n",
       "      <td>Fibroblast-like (related to larger vascular de...</td>\n",
       "    </tr>\n",
       "  </tbody>\n",
       "</table>\n",
       "<p>2932 rows × 5 columns</p>\n",
       "</div>"
      ],
      "text/plain": [
       "      avg_log2FC  p_val_adj  cluster      gene  \\\n",
       "0       5.513025   0.000000        7      BPGM   \n",
       "1       5.509262   0.000000        7      MT1H   \n",
       "2       4.710317   0.000000        7      GYPB   \n",
       "3       3.430410   0.000000        7     EPB42   \n",
       "4       2.968435   0.000000        7  PHOSPHO1   \n",
       "...          ...        ...      ...       ...   \n",
       "2927   -1.572859   0.015851        9     POSTN   \n",
       "2928   -1.890170   0.016514        9      MYH6   \n",
       "2929   -1.162992   0.022877        9    IGFBP5   \n",
       "2930   -1.384368   0.027756        9      EMCN   \n",
       "2931   -1.190825   0.046930        9     SFRP2   \n",
       "\n",
       "                                  cluster_celltype_name  \n",
       "0                                          Erythrocytes  \n",
       "1                                          Erythrocytes  \n",
       "2                                          Erythrocytes  \n",
       "3                                          Erythrocytes  \n",
       "4                                          Erythrocytes  \n",
       "...                                                 ...  \n",
       "2927  Fibroblast-like (related to larger vascular de...  \n",
       "2928  Fibroblast-like (related to larger vascular de...  \n",
       "2929  Fibroblast-like (related to larger vascular de...  \n",
       "2930  Fibroblast-like (related to larger vascular de...  \n",
       "2931  Fibroblast-like (related to larger vascular de...  \n",
       "\n",
       "[2932 rows x 5 columns]"
      ]
     },
     "execution_count": 9,
     "metadata": {},
     "output_type": "execute_result"
    }
   ],
   "source": [
    "z"
   ]
  },
  {
   "cell_type": "code",
   "execution_count": 11,
   "metadata": {},
   "outputs": [],
   "source": [
    "# We lost rows when merging in the hgnc ids."
   ]
  },
  {
   "cell_type": "code",
   "execution_count": 9,
   "metadata": {},
   "outputs": [
    {
     "data": {
      "text/html": [
       "<div>\n",
       "<style scoped>\n",
       "    .dataframe tbody tr th:only-of-type {\n",
       "        vertical-align: middle;\n",
       "    }\n",
       "\n",
       "    .dataframe tbody tr th {\n",
       "        vertical-align: top;\n",
       "    }\n",
       "\n",
       "    .dataframe thead th {\n",
       "        text-align: right;\n",
       "    }\n",
       "</style>\n",
       "<table border=\"1\" class=\"dataframe\">\n",
       "  <thead>\n",
       "    <tr style=\"text-align: right;\">\n",
       "      <th></th>\n",
       "      <th>avg_log2FC</th>\n",
       "      <th>p_val_adj</th>\n",
       "      <th>cluster</th>\n",
       "      <th>gene</th>\n",
       "      <th>cluster_celltype_name</th>\n",
       "    </tr>\n",
       "  </thead>\n",
       "  <tbody>\n",
       "    <tr>\n",
       "      <th>1216</th>\n",
       "      <td>1.061135</td>\n",
       "      <td>2.844879e-22</td>\n",
       "      <td>12</td>\n",
       "      <td>ATP5C1</td>\n",
       "      <td>Myoz2-enriched cardiomyocytes</td>\n",
       "    </tr>\n",
       "    <tr>\n",
       "      <th>837</th>\n",
       "      <td>-1.200146</td>\n",
       "      <td>1.154896e-07</td>\n",
       "      <td>10</td>\n",
       "      <td>CTD-2545M3.8</td>\n",
       "      <td>Fibroblast-like (related to smaller vascular d...</td>\n",
       "    </tr>\n",
       "    <tr>\n",
       "      <th>2560</th>\n",
       "      <td>1.746059</td>\n",
       "      <td>8.345657e-42</td>\n",
       "      <td>3</td>\n",
       "      <td>FAM49B</td>\n",
       "      <td>Cardiac neural crest cells &amp; Schwann progenito...</td>\n",
       "    </tr>\n",
       "  </tbody>\n",
       "</table>\n",
       "</div>"
      ],
      "text/plain": [
       "      avg_log2FC     p_val_adj  cluster          gene  \\\n",
       "1216    1.061135  2.844879e-22       12        ATP5C1   \n",
       "837    -1.200146  1.154896e-07       10  CTD-2545M3.8   \n",
       "2560    1.746059  8.345657e-42        3        FAM49B   \n",
       "\n",
       "                                  cluster_celltype_name  \n",
       "1216                      Myoz2-enriched cardiomyocytes  \n",
       "837   Fibroblast-like (related to smaller vascular d...  \n",
       "2560  Cardiac neural crest cells & Schwann progenito...  "
      ]
     },
     "execution_count": 9,
     "metadata": {},
     "output_type": "execute_result"
    }
   ],
   "source": [
    "# Here are the rows we lost.\n",
    "z[~z['gene'].isin(gene_map['gene'])].sample(3)"
   ]
  },
  {
   "cell_type": "code",
   "execution_count": 10,
   "metadata": {},
   "outputs": [
    {
     "name": "stdout",
     "output_type": "stream",
     "text": [
      "2816\n"
     ]
    }
   ],
   "source": [
    "#### Merge in HGNC CUIs\n",
    "\n",
    "# First, GET CUI - HGNC CODE MAPPINGS STRAIGHT FROM CSVs\n",
    "UMLS_CUI_CODEs = pd.read_csv(umls_dir+'CUI-CODEs.csv')\n",
    "\n",
    "umls_genes = UMLS_CUI_CODEs[UMLS_CUI_CODEs[':END_ID'].str.startswith('HGNC')].rename(\n",
    "                                    columns={':START_ID':'CUI_hgnc',':END_ID':'hgnc_id'})\n",
    "\n",
    "umls_genes['hgnc_id'] = [i.split(' ')[1] for i in umls_genes['hgnc_id']]\n",
    "\n",
    "z3 = pd.merge(z2,umls_genes,on='hgnc_id')\n",
    "\n",
    "print(len(z3))"
   ]
  },
  {
   "cell_type": "code",
   "execution_count": 11,
   "metadata": {},
   "outputs": [
    {
     "data": {
      "text/html": [
       "<div>\n",
       "<style scoped>\n",
       "    .dataframe tbody tr th:only-of-type {\n",
       "        vertical-align: middle;\n",
       "    }\n",
       "\n",
       "    .dataframe tbody tr th {\n",
       "        vertical-align: top;\n",
       "    }\n",
       "\n",
       "    .dataframe thead th {\n",
       "        text-align: right;\n",
       "    }\n",
       "</style>\n",
       "<table border=\"1\" class=\"dataframe\">\n",
       "  <thead>\n",
       "    <tr style=\"text-align: right;\">\n",
       "      <th></th>\n",
       "      <th>avg_log2FC</th>\n",
       "      <th>p_val_adj</th>\n",
       "      <th>cluster_celltype_name</th>\n",
       "      <th>CUI_hgnc</th>\n",
       "      <th>SAB</th>\n",
       "      <th>CODE</th>\n",
       "      <th>CODEID</th>\n",
       "      <th>CUI:ID</th>\n",
       "    </tr>\n",
       "  </thead>\n",
       "  <tbody>\n",
       "    <tr>\n",
       "      <th>0</th>\n",
       "      <td>5.513025</td>\n",
       "      <td>0.000000</td>\n",
       "      <td>Erythrocytes</td>\n",
       "      <td>C1412816</td>\n",
       "      <td>scHeart PMID: 31835037</td>\n",
       "      <td>Erythrocytes HGNC:1093</td>\n",
       "      <td>scHeart PMID: 31835037 Erythrocytes HGNC:1093</td>\n",
       "      <td>c2NIZWFydCBQTUlEOiAzMTgzNTAzNyBFcnl0aHJvY3l0ZX...</td>\n",
       "    </tr>\n",
       "    <tr>\n",
       "      <th>1</th>\n",
       "      <td>-2.470632</td>\n",
       "      <td>0.010812</td>\n",
       "      <td>Epicardium-derived cells</td>\n",
       "      <td>C1412816</td>\n",
       "      <td>scHeart PMID: 31835037</td>\n",
       "      <td>Epicardium-derived cells HGNC:1093</td>\n",
       "      <td>scHeart PMID: 31835037 Epicardium-derived cell...</td>\n",
       "      <td>c2NIZWFydCBQTUlEOiAzMTgzNTAzNyBFcGljYXJkaXVtLW...</td>\n",
       "    </tr>\n",
       "    <tr>\n",
       "      <th>2</th>\n",
       "      <td>-1.961892</td>\n",
       "      <td>0.000016</td>\n",
       "      <td>Ventricular cardiomyocytes</td>\n",
       "      <td>C1412816</td>\n",
       "      <td>scHeart PMID: 31835037</td>\n",
       "      <td>Ventricular cardiomyocytes HGNC:1093</td>\n",
       "      <td>scHeart PMID: 31835037 Ventricular cardiomyocy...</td>\n",
       "      <td>c2NIZWFydCBQTUlEOiAzMTgzNTAzNyBWZW50cmljdWxhci...</td>\n",
       "    </tr>\n",
       "  </tbody>\n",
       "</table>\n",
       "</div>"
      ],
      "text/plain": [
       "   avg_log2FC  p_val_adj       cluster_celltype_name  CUI_hgnc  \\\n",
       "0    5.513025   0.000000                Erythrocytes  C1412816   \n",
       "1   -2.470632   0.010812    Epicardium-derived cells  C1412816   \n",
       "2   -1.961892   0.000016  Ventricular cardiomyocytes  C1412816   \n",
       "\n",
       "                      SAB                                  CODE  \\\n",
       "0  scHeart PMID: 31835037                Erythrocytes HGNC:1093   \n",
       "1  scHeart PMID: 31835037    Epicardium-derived cells HGNC:1093   \n",
       "2  scHeart PMID: 31835037  Ventricular cardiomyocytes HGNC:1093   \n",
       "\n",
       "                                              CODEID  \\\n",
       "0      scHeart PMID: 31835037 Erythrocytes HGNC:1093   \n",
       "1  scHeart PMID: 31835037 Epicardium-derived cell...   \n",
       "2  scHeart PMID: 31835037 Ventricular cardiomyocy...   \n",
       "\n",
       "                                              CUI:ID  \n",
       "0  c2NIZWFydCBQTUlEOiAzMTgzNTAzNyBFcnl0aHJvY3l0ZX...  \n",
       "1  c2NIZWFydCBQTUlEOiAzMTgzNTAzNyBFcGljYXJkaXVtLW...  \n",
       "2  c2NIZWFydCBQTUlEOiAzMTgzNTAzNyBWZW50cmljdWxhci...  "
      ]
     },
     "execution_count": 11,
     "metadata": {},
     "output_type": "execute_result"
    }
   ],
   "source": [
    "### Create the scHeart SAB\n",
    "z3['SAB'] = 'scHeart PMID: 31835037'\n",
    "\n",
    "# Create scHeart CODE\n",
    "\n",
    "# assert that the celltype and hgncid col will uniquely identify each code node\n",
    "assert len(z3) == len(z3[['cluster_celltype_name','hgnc_id']].drop_duplicates()) \n",
    "\n",
    "z3['CODE'] = z3['cluster_celltype_name'] + ' ' + z3['hgnc_id']\n",
    "\n",
    "# Create scHeart CODEID\n",
    "z3['CODEID'] = z3['SAB'] + ' ' + z3['CODE']\n",
    "\n",
    "# Create scHeart CUIs\n",
    "z3['CUI:ID'] = CUIbase64(z3['CODEID'])\n",
    "\n",
    "z3.drop(['cluster','gene','hgnc_id'],axis=1,inplace=True)\n",
    "\n",
    "z3.head(3)"
   ]
  },
  {
   "cell_type": "code",
   "execution_count": null,
   "metadata": {},
   "outputs": [],
   "source": []
  },
  {
   "cell_type": "markdown",
   "metadata": {},
   "source": [
    "### Create cell type nodes"
   ]
  },
  {
   "cell_type": "code",
   "execution_count": 12,
   "metadata": {},
   "outputs": [],
   "source": [
    "# Now create the celltype nodes\n",
    "z3.rename(columns={'cluster_celltype_name':'celltype_CODE'},inplace=True)"
   ]
  },
  {
   "cell_type": "code",
   "execution_count": 13,
   "metadata": {},
   "outputs": [],
   "source": [
    "z3['celltype_SAB'] = 'author_defined_cluster'\n",
    "z3['celltype_CODEID'] = z3['celltype_SAB'] + ':' + z3['celltype_CODE']\n",
    "z3['celltype_CUI'] = CUIbase64(z3['celltype_CODEID'])"
   ]
  },
  {
   "cell_type": "markdown",
   "metadata": {},
   "source": [
    "## Load in main dataset\n",
    "The data_w_bins.csv file is the most up-to-date"
   ]
  },
  {
   "cell_type": "code",
   "execution_count": 14,
   "metadata": {},
   "outputs": [],
   "source": [
    "#fulldata = pd.read_csv('/Users/stearb/Desktop/R03_local/data/scHeart/data_w_bins.csv')\n",
    "\n",
    "#fulldata['CODEID'] = fulldata['SAB'] + fulldata['preCODE']\n",
    "\n",
    "#fulldata['CUI:ID'] = CUIbase64(fulldata['CODEID'])\n",
    "\n",
    "#fulldata.head(3)\n",
    "\n",
    "fulldata = z3"
   ]
  },
  {
   "cell_type": "code",
   "execution_count": 15,
   "metadata": {},
   "outputs": [
    {
     "name": "stdout",
     "output_type": "stream",
     "text": [
      "0\n"
     ]
    }
   ],
   "source": [
    "### Remove rows w/ p val greater than .06 \n",
    "\n",
    "pre=len(fulldata)\n",
    "\n",
    "fulldata = fulldata[fulldata['p_val_adj'] < .06]\n",
    "\n",
    "post=len(fulldata)\n",
    "\n",
    "print(pre-post)"
   ]
  },
  {
   "cell_type": "markdown",
   "metadata": {},
   "source": [
    "### CUIs"
   ]
  },
  {
   "cell_type": "code",
   "execution_count": 17,
   "metadata": {},
   "outputs": [],
   "source": [
    "celltype_CUIs = fulldata['celltype_CUI'].rename({'celltype_CUI':'CUI:ID'}).drop_duplicates()#.reset_index(drop=True)\n",
    "\n",
    "CUIs = pd.concat([pd.DataFrame(fulldata['CUI:ID'].values,columns=['CUI:ID']),pd.DataFrame(celltype_CUIs.values,columns=['CUI:ID'])])\n",
    "CUIs.columns = ['CUI:ID']\n",
    "\n",
    "assert CUIs.duplicated().sum() == 0\n",
    "CUIs.to_csv(output_dir+'scHeart/CUIs_scHeart.csv',index=False)"
   ]
  },
  {
   "cell_type": "markdown",
   "metadata": {},
   "source": [
    "### CUI_CUIs"
   ]
  },
  {
   "cell_type": "code",
   "execution_count": 18,
   "metadata": {},
   "outputs": [],
   "source": [
    "sc_to_hgnc = fulldata[['CUI:ID','CUI_hgnc']]\n",
    "sc_to_hgnc[':TYPE'] = 'single_cell_expression_of'\n",
    "sc_to_hgnc['SAB'] = 'scHeart__HGNC'\n",
    "\n",
    "hgnc_to_sc = fulldata[['CUI_hgnc','CUI:ID']]\n",
    "hgnc_to_sc[':TYPE'] = 'has_single_cell_expression'\n",
    "hgnc_to_sc['SAB'] = 'scHeart__HGNC'\n",
    "\n",
    "sc_to_ct = fulldata[['CUI:ID','celltype_CUI']]\n",
    "sc_to_ct[':TYPE'] = 'single_cell_expression_in'\n",
    "sc_to_ct['SAB'] = 'scHeart__cellType'\n",
    "\n",
    "ct_to_sc = fulldata[['celltype_CUI','CUI:ID']]\n",
    "ct_to_sc[':TYPE'] = 'has_single_cell_expression'\n",
    "ct_to_sc['SAB'] = 'scHeart__cellType'\n",
    "\n",
    "CUI_CUIs = pd.DataFrame(np.concatenate([sc_to_hgnc.values,hgnc_to_sc.values , sc_to_ct.values,ct_to_sc.values\n",
    "                                       ]),columns=[':START_ID',':END_ID',':TYPE','SAB'])\n",
    "\n",
    "CUI_CUIs.drop_duplicates(inplace=True)\n",
    "\n",
    "CUI_CUIs.to_csv(output_dir+'scHeart/CUI_CUIs_scHeart.csv',index=False)"
   ]
  },
  {
   "cell_type": "markdown",
   "metadata": {},
   "source": [
    "### CUI-CODE"
   ]
  },
  {
   "cell_type": "code",
   "execution_count": 19,
   "metadata": {},
   "outputs": [],
   "source": [
    "CUI_CODEs = fulldata[['CUI:ID','CODEID']]\n",
    "CUI_CODEs.columns = [':START_ID',':END_ID']\n",
    "\n",
    "CUI_CODEs_celltypes = fulldata[['celltype_CUI','celltype_CODEID']]\n",
    "CUI_CODEs_celltypes.columns = [':START_ID',':END_ID']\n",
    "\n",
    "CUI_CODEs_all = pd.concat([CUI_CODEs,CUI_CODEs_celltypes])\n",
    "CUI_CODEs_all.drop_duplicates(inplace=True)\n",
    "CUI_CODEs_all.to_csv(output_dir+'scHeart/CUI_CODEs_scHeart.csv',index=False)"
   ]
  },
  {
   "cell_type": "markdown",
   "metadata": {},
   "source": [
    "### CODES"
   ]
  },
  {
   "cell_type": "code",
   "execution_count": 20,
   "metadata": {},
   "outputs": [],
   "source": [
    "CODEs = fulldata[['CODEID','SAB','CODE']]\n",
    "CODEs.columns = ['CodeID:ID','SAB','CODE']\n",
    "\n",
    "CODEs_celltypes = fulldata[['celltype_CODEID','celltype_SAB','celltype_CODE']]\n",
    "CODEs_celltypes.columns = ['CodeID:ID','SAB','CODE']\n",
    "\n",
    "CODEs_all = pd.concat([CODEs,CODEs_celltypes])\n",
    "CODEs_all.drop_duplicates(inplace=True)\n",
    "\n",
    "\n",
    "CODEs_all.to_csv(output_dir+'scHeart/CODEs_scHeart.csv',index=False)"
   ]
  },
  {
   "cell_type": "markdown",
   "metadata": {},
   "source": [
    "## SUIs and CODE-SUIs will both be created in 2 steps.\n",
    "First create the p-value and log2fc Terms and then create the threshold Terms"
   ]
  },
  {
   "cell_type": "markdown",
   "metadata": {},
   "source": [
    "### Create bins for p-values and log2fc\n",
    "I  took the bins list straight from gtex, so we have the exact same bins for this data."
   ]
  },
  {
   "cell_type": "code",
   "execution_count": 21,
   "metadata": {},
   "outputs": [],
   "source": [
    "# Split p-vals up into bins\n",
    "\n",
    "# Define pval Bins:\n",
    "#### EXACT SAME BINS from GTEx notebook. ######\n",
    "bins = [0,1e-12,1e-11,1e-10,1e-9,1e-8,1e-7,1e-6,1e-5,1e-4,1e-3,.005,.01,.02,.03,.04,.05,.06]\n",
    "\n",
    "# Bin pvals\n",
    "fulldata['pvalue_bins'] = pd.cut(fulldata['p_val_adj'], bins)"
   ]
  },
  {
   "cell_type": "code",
   "execution_count": 22,
   "metadata": {},
   "outputs": [],
   "source": [
    "#fulldata['p_val_adj'].plot(kind='hist',bins=20)\n",
    "#plt.gca().set_yscale('log')\n",
    "#fulldata['avg_log2FC'].plot(kind='hist',bins=20,figsize=(10,6))"
   ]
  },
  {
   "cell_type": "markdown",
   "metadata": {},
   "source": [
    "# Now bin the log2FC column"
   ]
  },
  {
   "cell_type": "code",
   "execution_count": 23,
   "metadata": {},
   "outputs": [],
   "source": [
    "log2fc_bins_neg = [-5,-4,-3,-2.5,-2,-1.75,-1.5,-1.25,-1,-.75,-.5,-.25,-.2,-.15,-.1,-.05]\n",
    "log2fc_bins_pos = [i*-1 for i in log2fc_bins_neg][::-1] # and reverse it.\n",
    "log2fc_bins =  log2fc_bins_neg + [0] + log2fc_bins_pos + [6,7]\n",
    "fulldata['log2fc_bins'] = pd.cut(fulldata['avg_log2FC'], log2fc_bins)"
   ]
  },
  {
   "cell_type": "code",
   "execution_count": 24,
   "metadata": {},
   "outputs": [],
   "source": [
    "# pvalues that are 0 need to be addded to the (0.0,1e-12] bin. The lowerbound for this bin is not inclusive so\n",
    "# 0's are not automatically added to it.\n",
    "\n",
    "fulldata['pval_bins'] = [i if i is not np.nan else '(0.0,1e-12]' for i in fulldata['pvalue_bins']]\n",
    "fulldata.drop('pvalue_bins',axis=1,inplace=True)"
   ]
  },
  {
   "cell_type": "code",
   "execution_count": 25,
   "metadata": {},
   "outputs": [],
   "source": [
    "# Remove [] and () characters from intervals before creating SUIs\n",
    "fulldata['log2fc_bins'] = [str(i)[1:-1] for i in fulldata['log2fc_bins']]\n",
    "fulldata['pval_bins'] = [str(i)[1:-1] for i in fulldata['pval_bins']]\n",
    "\n",
    "fulldata['log2fc_bins'] = fulldata['log2fc_bins'].str.replace(' ','')\n",
    "fulldata['pval_bins'] = fulldata['pval_bins'].str.replace(' ','')"
   ]
  },
  {
   "cell_type": "code",
   "execution_count": 26,
   "metadata": {},
   "outputs": [],
   "source": [
    "assert fulldata.isna().sum().sum() == 0\n",
    "assert len(fulldata[fulldata['log2fc_bins'].isna()]) == 0"
   ]
  },
  {
   "cell_type": "code",
   "execution_count": 27,
   "metadata": {},
   "outputs": [],
   "source": [
    "# Create SUIs for this step.\n",
    "fulldata['SUIs_pvals'] = CUIbase64(fulldata['pval_bins'])\n",
    "fulldata['SUIs_log2fc'] = CUIbase64(fulldata['log2fc_bins'])\n",
    "\n",
    "\n",
    "SUIs_pvals = fulldata[['SUIs_pvals','pval_bins']].rename(columns={'SUIs_pvals':'SUI:ID','pval_bins':'name'})\n",
    "SUIs_log2fc = fulldata[['SUIs_log2fc','log2fc_bins']].rename(columns={'SUIs_log2fc':'SUI:ID','log2fc_bins':'name'})\n",
    "\n",
    "\n",
    "SUIs_all_bins = pd.concat([SUIs_pvals,SUIs_log2fc])\n",
    "SUIs_all_bins.drop_duplicates(inplace=True)\n",
    "SUIs_all_bins.reset_index(drop=True,inplace=True)"
   ]
  },
  {
   "cell_type": "code",
   "execution_count": 28,
   "metadata": {},
   "outputs": [],
   "source": [
    "# Create CODE-SUIs for this step\n",
    "\n",
    "CODE_SUIs_pvals = fulldata[['CODEID','SUIs_pvals','CUI:ID']].rename(columns={'CODEID':':START_ID','SUIs_pvals':':END_ID',\n",
    "                                                          'CUI:ID':'CUI'})\n",
    "CODE_SUIs_pvals[':TYPE'] = 'p_value'"
   ]
  },
  {
   "cell_type": "code",
   "execution_count": 29,
   "metadata": {},
   "outputs": [],
   "source": [
    "\n",
    "CODE_SUIs_log2fc = fulldata[['CODEID','SUIs_log2fc','CUI:ID']].rename(columns={'CODEID':':START_ID','SUIs_log2fc':':END_ID',\n",
    "                                                          'CUI:ID':'CUI'})\n",
    "\n",
    "CODE_SUIs_log2fc[':TYPE'] = 'log2fc'\n",
    "\n",
    "CODE_SUIs_all_bins = pd.concat([CODE_SUIs_pvals,CODE_SUIs_log2fc])\n",
    "\n",
    "CODE_SUIs_all_bins.columns = [':START_ID', ':END_ID', 'CUI',':TYPE']\n",
    "\n",
    "CODE_SUIs_all_bins = CODE_SUIs_all_bins[[':START_ID', ':END_ID',':TYPE','CUI']] # reorder\n",
    "\n",
    "CODE_SUIs_all_bins.drop_duplicates(inplace=True)"
   ]
  },
  {
   "cell_type": "markdown",
   "metadata": {},
   "source": [
    "# Create the Threshold Terms (they will be strings)\n",
    "\n",
    "Thresholds:\n",
    "- < .05\n",
    "- < .001\n",
    "- < .0001\n",
    "- < 1e-10"
   ]
  },
  {
   "cell_type": "markdown",
   "metadata": {},
   "source": [
    "### Assign Threshold values "
   ]
  },
  {
   "cell_type": "code",
   "execution_count": 31,
   "metadata": {},
   "outputs": [
    {
     "data": {
      "text/html": [
       "<div>\n",
       "<style scoped>\n",
       "    .dataframe tbody tr th:only-of-type {\n",
       "        vertical-align: middle;\n",
       "    }\n",
       "\n",
       "    .dataframe tbody tr th {\n",
       "        vertical-align: top;\n",
       "    }\n",
       "\n",
       "    .dataframe thead th {\n",
       "        text-align: right;\n",
       "    }\n",
       "</style>\n",
       "<table border=\"1\" class=\"dataframe\">\n",
       "  <thead>\n",
       "    <tr style=\"text-align: right;\">\n",
       "      <th></th>\n",
       "      <th>pval_threshold_1e-10</th>\n",
       "      <th>pval_threshold_1e-4</th>\n",
       "      <th>pval_threshold_1e-3</th>\n",
       "      <th>pval_threshold_1e-2</th>\n",
       "      <th>pval_threshold_.05</th>\n",
       "      <th>p_val_adj</th>\n",
       "    </tr>\n",
       "  </thead>\n",
       "  <tbody>\n",
       "    <tr>\n",
       "      <th>0</th>\n",
       "      <td>&lt; 1e-10</td>\n",
       "      <td>&lt; 0.0001</td>\n",
       "      <td>&lt; 0.001</td>\n",
       "      <td>&lt; 0.01</td>\n",
       "      <td>&lt; 0.05</td>\n",
       "      <td>0.000000</td>\n",
       "    </tr>\n",
       "    <tr>\n",
       "      <th>1</th>\n",
       "      <td>NaN</td>\n",
       "      <td>NaN</td>\n",
       "      <td>NaN</td>\n",
       "      <td>NaN</td>\n",
       "      <td>&lt; 0.05</td>\n",
       "      <td>0.010812</td>\n",
       "    </tr>\n",
       "    <tr>\n",
       "      <th>2</th>\n",
       "      <td>NaN</td>\n",
       "      <td>&lt; 0.0001</td>\n",
       "      <td>&lt; 0.001</td>\n",
       "      <td>&lt; 0.01</td>\n",
       "      <td>&lt; 0.05</td>\n",
       "      <td>0.000016</td>\n",
       "    </tr>\n",
       "  </tbody>\n",
       "</table>\n",
       "</div>"
      ],
      "text/plain": [
       "  pval_threshold_1e-10 pval_threshold_1e-4 pval_threshold_1e-3  \\\n",
       "0              < 1e-10            < 0.0001             < 0.001   \n",
       "1                  NaN                 NaN                 NaN   \n",
       "2                  NaN            < 0.0001             < 0.001   \n",
       "\n",
       "  pval_threshold_1e-2 pval_threshold_.05  p_val_adj  \n",
       "0              < 0.01             < 0.05   0.000000  \n",
       "1                 NaN             < 0.05   0.010812  \n",
       "2              < 0.01             < 0.05   0.000016  "
      ]
     },
     "execution_count": 31,
     "metadata": {},
     "output_type": "execute_result"
    }
   ],
   "source": [
    "fulldata['pval_threshold_1e-10'] = ['< 1e-10' if i < 1e-10 else np.nan for i in fulldata['p_val_adj']]\n",
    "\n",
    "fulldata['pval_threshold_1e-4'] = ['< 0.0001' if i < 1e-4 else np.nan for i in fulldata['p_val_adj']]\n",
    "\n",
    "fulldata['pval_threshold_1e-3'] = ['< 0.001' if i < 1e-3 else np.nan for i in fulldata['p_val_adj']]\n",
    "\n",
    "fulldata['pval_threshold_1e-2'] = ['< 0.01' if i < 1e-3 else np.nan for i in fulldata['p_val_adj']]\n",
    "\n",
    "fulldata['pval_threshold_.05'] = ['< 0.05' if i < .05 else np.nan for i in fulldata['p_val_adj']]\n",
    "\n",
    "thresh_df = fulldata[['pval_threshold_1e-10','pval_threshold_1e-4',\n",
    "                  'pval_threshold_1e-3','pval_threshold_1e-2','pval_threshold_.05','p_val_adj']]\n",
    "\n",
    "thresh_df.head(3)"
   ]
  },
  {
   "cell_type": "markdown",
   "metadata": {},
   "source": [
    "### Create CODE-SUI file for pvals, log2fc and thresholds"
   ]
  },
  {
   "cell_type": "code",
   "execution_count": 32,
   "metadata": {},
   "outputs": [
    {
     "data": {
      "text/html": [
       "<div>\n",
       "<style scoped>\n",
       "    .dataframe tbody tr th:only-of-type {\n",
       "        vertical-align: middle;\n",
       "    }\n",
       "\n",
       "    .dataframe tbody tr th {\n",
       "        vertical-align: top;\n",
       "    }\n",
       "\n",
       "    .dataframe thead th {\n",
       "        text-align: right;\n",
       "    }\n",
       "</style>\n",
       "<table border=\"1\" class=\"dataframe\">\n",
       "  <thead>\n",
       "    <tr style=\"text-align: right;\">\n",
       "      <th></th>\n",
       "      <th>CODEID</th>\n",
       "      <th>CUI:ID</th>\n",
       "      <th>name</th>\n",
       "      <th>SUI:ID</th>\n",
       "      <th>:TYPE</th>\n",
       "    </tr>\n",
       "  </thead>\n",
       "  <tbody>\n",
       "    <tr>\n",
       "      <th>0</th>\n",
       "      <td>scHeart PMID: 31835037 Erythrocytes HGNC:1093</td>\n",
       "      <td>c2NIZWFydCBQTUlEOiAzMTgzNTAzNyBFcnl0aHJvY3l0ZX...</td>\n",
       "      <td>&lt; 1e-10</td>\n",
       "      <td>PCAxZS0xMA==</td>\n",
       "      <td>p_value_threshold</td>\n",
       "    </tr>\n",
       "    <tr>\n",
       "      <th>3</th>\n",
       "      <td>scHeart PMID: 31835037 Erythrocytes HGNC:7400</td>\n",
       "      <td>c2NIZWFydCBQTUlEOiAzMTgzNTAzNyBFcnl0aHJvY3l0ZX...</td>\n",
       "      <td>&lt; 1e-10</td>\n",
       "      <td>PCAxZS0xMA==</td>\n",
       "      <td>p_value_threshold</td>\n",
       "    </tr>\n",
       "    <tr>\n",
       "      <th>4</th>\n",
       "      <td>scHeart PMID: 31835037 Erythrocytes HGNC:4703</td>\n",
       "      <td>c2NIZWFydCBQTUlEOiAzMTgzNTAzNyBFcnl0aHJvY3l0ZX...</td>\n",
       "      <td>&lt; 1e-10</td>\n",
       "      <td>PCAxZS0xMA==</td>\n",
       "      <td>p_value_threshold</td>\n",
       "    </tr>\n",
       "  </tbody>\n",
       "</table>\n",
       "</div>"
      ],
      "text/plain": [
       "                                          CODEID  \\\n",
       "0  scHeart PMID: 31835037 Erythrocytes HGNC:1093   \n",
       "3  scHeart PMID: 31835037 Erythrocytes HGNC:7400   \n",
       "4  scHeart PMID: 31835037 Erythrocytes HGNC:4703   \n",
       "\n",
       "                                              CUI:ID     name        SUI:ID  \\\n",
       "0  c2NIZWFydCBQTUlEOiAzMTgzNTAzNyBFcnl0aHJvY3l0ZX...  < 1e-10  PCAxZS0xMA==   \n",
       "3  c2NIZWFydCBQTUlEOiAzMTgzNTAzNyBFcnl0aHJvY3l0ZX...  < 1e-10  PCAxZS0xMA==   \n",
       "4  c2NIZWFydCBQTUlEOiAzMTgzNTAzNyBFcnl0aHJvY3l0ZX...  < 1e-10  PCAxZS0xMA==   \n",
       "\n",
       "               :TYPE  \n",
       "0  p_value_threshold  \n",
       "3  p_value_threshold  \n",
       "4  p_value_threshold  "
      ]
     },
     "execution_count": 32,
     "metadata": {},
     "output_type": "execute_result"
    }
   ],
   "source": [
    "CODE_SUIs_thresholds = pd.DataFrame(np.concatenate([fulldata[['CODEID','CUI:ID','pval_threshold_1e-10']].values,\n",
    "                                        fulldata[['CODEID','CUI:ID','pval_threshold_1e-4']].values,\n",
    "                                        fulldata[['CODEID','CUI:ID','pval_threshold_1e-3']].values,\n",
    "                                        fulldata[['CODEID','CUI:ID','pval_threshold_1e-2']].values,\n",
    "                                        fulldata[['CODEID','CUI:ID','pval_threshold_.05']].values]),\n",
    "                                                 columns=['CODEID','CUI:ID','name'])\n",
    "\n",
    "CODE_SUIs_thresholds.dropna(inplace=True)\n",
    "CODE_SUIs_thresholds['SUI:ID'] = CUIbase64(CODE_SUIs_thresholds['name'])\n",
    "CODE_SUIs_thresholds[':TYPE'] = 'p_value_threshold'\n",
    "\n",
    "CODE_SUIs_thresholds.head(3)"
   ]
  },
  {
   "cell_type": "code",
   "execution_count": 33,
   "metadata": {},
   "outputs": [],
   "source": [
    "SUI_thresholds = CODE_SUIs_thresholds[['SUI:ID','name']]\n",
    "SUI_thresholds.drop_duplicates(inplace=True)"
   ]
  },
  {
   "cell_type": "code",
   "execution_count": 34,
   "metadata": {},
   "outputs": [
    {
     "data": {
      "text/html": [
       "<div>\n",
       "<style scoped>\n",
       "    .dataframe tbody tr th:only-of-type {\n",
       "        vertical-align: middle;\n",
       "    }\n",
       "\n",
       "    .dataframe tbody tr th {\n",
       "        vertical-align: top;\n",
       "    }\n",
       "\n",
       "    .dataframe thead th {\n",
       "        text-align: right;\n",
       "    }\n",
       "</style>\n",
       "<table border=\"1\" class=\"dataframe\">\n",
       "  <thead>\n",
       "    <tr style=\"text-align: right;\">\n",
       "      <th></th>\n",
       "      <th>:START_ID</th>\n",
       "      <th>:END_ID</th>\n",
       "      <th>:TYPE</th>\n",
       "      <th>CUI</th>\n",
       "    </tr>\n",
       "  </thead>\n",
       "  <tbody>\n",
       "    <tr>\n",
       "      <th>0</th>\n",
       "      <td>scHeart PMID: 31835037 Erythrocytes HGNC:1093</td>\n",
       "      <td>PCAxZS0xMA==</td>\n",
       "      <td>p_value_threshold</td>\n",
       "      <td>c2NIZWFydCBQTUlEOiAzMTgzNTAzNyBFcnl0aHJvY3l0ZX...</td>\n",
       "    </tr>\n",
       "    <tr>\n",
       "      <th>3</th>\n",
       "      <td>scHeart PMID: 31835037 Erythrocytes HGNC:7400</td>\n",
       "      <td>PCAxZS0xMA==</td>\n",
       "      <td>p_value_threshold</td>\n",
       "      <td>c2NIZWFydCBQTUlEOiAzMTgzNTAzNyBFcnl0aHJvY3l0ZX...</td>\n",
       "    </tr>\n",
       "    <tr>\n",
       "      <th>4</th>\n",
       "      <td>scHeart PMID: 31835037 Erythrocytes HGNC:4703</td>\n",
       "      <td>PCAxZS0xMA==</td>\n",
       "      <td>p_value_threshold</td>\n",
       "      <td>c2NIZWFydCBQTUlEOiAzMTgzNTAzNyBFcnl0aHJvY3l0ZX...</td>\n",
       "    </tr>\n",
       "  </tbody>\n",
       "</table>\n",
       "</div>"
      ],
      "text/plain": [
       "                                       :START_ID       :END_ID  \\\n",
       "0  scHeart PMID: 31835037 Erythrocytes HGNC:1093  PCAxZS0xMA==   \n",
       "3  scHeart PMID: 31835037 Erythrocytes HGNC:7400  PCAxZS0xMA==   \n",
       "4  scHeart PMID: 31835037 Erythrocytes HGNC:4703  PCAxZS0xMA==   \n",
       "\n",
       "               :TYPE                                                CUI  \n",
       "0  p_value_threshold  c2NIZWFydCBQTUlEOiAzMTgzNTAzNyBFcnl0aHJvY3l0ZX...  \n",
       "3  p_value_threshold  c2NIZWFydCBQTUlEOiAzMTgzNTAzNyBFcnl0aHJvY3l0ZX...  \n",
       "4  p_value_threshold  c2NIZWFydCBQTUlEOiAzMTgzNTAzNyBFcnl0aHJvY3l0ZX...  "
      ]
     },
     "execution_count": 34,
     "metadata": {},
     "output_type": "execute_result"
    }
   ],
   "source": [
    "CODE_SUIs_thresholds = CODE_SUIs_thresholds.rename(columns={'CODEID':':START_ID',\n",
    "                                                            'SUI:ID':':END_ID',\n",
    "                                                           'CUI:ID':'CUI'}).drop('name',axis=1)\n",
    "\n",
    "CODE_SUIs_thresholds = CODE_SUIs_thresholds[[':START_ID',':END_ID', ':TYPE','CUI' ]]\n",
    "CODE_SUIs_thresholds.head(3)"
   ]
  },
  {
   "cell_type": "code",
   "execution_count": 35,
   "metadata": {},
   "outputs": [],
   "source": [
    "assert CODE_SUIs_thresholds.duplicated().sum() == 0"
   ]
  },
  {
   "cell_type": "code",
   "execution_count": 36,
   "metadata": {},
   "outputs": [],
   "source": [
    "CODE_SUIs_all = pd.concat([CODE_SUIs_all_bins,CODE_SUIs_thresholds])\n",
    "\n",
    "CODE_SUIs_all.to_csv(output_dir+'scHeart/CODE_SUIs_scHeart.csv',index=False)"
   ]
  },
  {
   "cell_type": "code",
   "execution_count": 37,
   "metadata": {},
   "outputs": [],
   "source": [
    "SUIs_all = pd.concat([SUIs_all_bins,SUI_thresholds])\n",
    "\n",
    "SUIs_all.to_csv(output_dir+'scHeart/SUIs_scHeart.csv',index=False)"
   ]
  },
  {
   "cell_type": "code",
   "execution_count": null,
   "metadata": {},
   "outputs": [],
   "source": [
    "# dont need to add p val sui's to the suis file,they are already there bc of gtex?"
   ]
  },
  {
   "cell_type": "code",
   "execution_count": 42,
   "metadata": {},
   "outputs": [],
   "source": [
    "#CODE_SUIs_scHeart = pd.read_csv('/Users/stearb/Desktop/R03_local/data/scHeart/sc_data_only/CODE-SUIs.csv')\n",
    "\n",
    "#SUIs_scHeart = pd.read_csv('/Users/stearb/Desktop/R03_local/data/scHeart/sc_data_only/SUIs.csv')\n",
    "\n",
    "# If there are more than 4554 terms then the pval thresholds data may have already been added.\n",
    "#assert len(CODE_SUIs_scHeart) == 4554\n",
    "\n",
    "# If there are more than 35 terms then the pval thresholds data may have already been added.\n",
    "#assert len(SUIs_scHeart) == 35"
   ]
  },
  {
   "cell_type": "code",
   "execution_count": 43,
   "metadata": {},
   "outputs": [],
   "source": [
    "#CODE_SUIs_all = pd.concat([CODE_SUIs_scHeart,CODE_SUIs_thresholds])\n",
    "\n",
    "#CODE_SUIs_all.to_csv('/Users/stearb/Desktop/R03_local/data/scHeart/my_scHeart_files/CODE-SUIs.csv')"
   ]
  },
  {
   "cell_type": "code",
   "execution_count": 44,
   "metadata": {},
   "outputs": [],
   "source": [
    "#SUIs_all = pd.concat([SUIs_scHeart,SUI_thresholds])\n",
    "\n",
    "#SUIs_all.to_csv('/Users/stearb/Desktop/R03_local/data/scHeart/my_scHeart_files/SUIs.csv')"
   ]
  },
  {
   "cell_type": "code",
   "execution_count": 45,
   "metadata": {},
   "outputs": [],
   "source": [
    "#### SUI for '0.0,1e-12' in the graph: KDAuMCwgMWUtMTJd\n",
    "\n",
    "#### SUI for '0.0,1e-12' in GTEx: MC4wLCAxZS0xMg=="
   ]
  },
  {
   "cell_type": "code",
   "execution_count": 46,
   "metadata": {},
   "outputs": [],
   "source": [
    "#SUIs_all[SUIs_all['name'] == '0.0,1e-12']"
   ]
  },
  {
   "cell_type": "code",
   "execution_count": 62,
   "metadata": {},
   "outputs": [],
   "source": [
    "#sMid = pd.read_csv('/Users/stearb/Desktop/R03_local/data/use_config/OUTPUT_FILES/scHeart/SUIs_scHeart.csv')\n",
    "#sMid[sMid['SUI:ID'] == 'MWUtMTEsMWUtMTA=']"
   ]
  },
  {
   "cell_type": "code",
   "execution_count": 63,
   "metadata": {},
   "outputs": [],
   "source": [
    "#sMid[sMid['SUI:ID'] == 'MC4wLDFlLTEy']"
   ]
  },
  {
   "cell_type": "code",
   "execution_count": 44,
   "metadata": {},
   "outputs": [],
   "source": []
  },
  {
   "cell_type": "code",
   "execution_count": 56,
   "metadata": {
    "collapsed": true
   },
   "outputs": [
    {
     "data": {
      "text/html": [
       "<div>\n",
       "<style scoped>\n",
       "    .dataframe tbody tr th:only-of-type {\n",
       "        vertical-align: middle;\n",
       "    }\n",
       "\n",
       "    .dataframe tbody tr th {\n",
       "        vertical-align: top;\n",
       "    }\n",
       "\n",
       "    .dataframe thead th {\n",
       "        text-align: right;\n",
       "    }\n",
       "</style>\n",
       "<table border=\"1\" class=\"dataframe\">\n",
       "  <thead>\n",
       "    <tr style=\"text-align: right;\">\n",
       "      <th></th>\n",
       "      <th>SUI:ID</th>\n",
       "      <th>name</th>\n",
       "    </tr>\n",
       "  </thead>\n",
       "  <tbody>\n",
       "    <tr>\n",
       "      <th>4</th>\n",
       "      <td>MWUtMTEsMWUtMTA=</td>\n",
       "      <td>1e-11,1e-10</td>\n",
       "    </tr>\n",
       "  </tbody>\n",
       "</table>\n",
       "</div>"
      ],
      "text/plain": [
       "             SUI:ID         name\n",
       "4  MWUtMTEsMWUtMTA=  1e-11,1e-10"
      ]
     },
     "execution_count": 56,
     "metadata": {},
     "output_type": "execute_result"
    }
   ],
   "source": [
    "#SUIs_all[SUIs_all['SUI:ID'] == 'MWUtMTEsMWUtMTA='] #SUIs_all[SUIs_all['SUI:ID'] == 'MC4wLDFlLTEy']\n"
   ]
  },
  {
   "cell_type": "code",
   "execution_count": null,
   "metadata": {},
   "outputs": [],
   "source": [
    "#code_suis = pd.read_csv(umls_out_dir+'CODE-SUIs.csv')"
   ]
  },
  {
   "cell_type": "code",
   "execution_count": 55,
   "metadata": {
    "collapsed": true
   },
   "outputs": [
    {
     "data": {
      "text/html": [
       "<div>\n",
       "<style scoped>\n",
       "    .dataframe tbody tr th:only-of-type {\n",
       "        vertical-align: middle;\n",
       "    }\n",
       "\n",
       "    .dataframe tbody tr th {\n",
       "        vertical-align: top;\n",
       "    }\n",
       "\n",
       "    .dataframe thead th {\n",
       "        text-align: right;\n",
       "    }\n",
       "</style>\n",
       "<table border=\"1\" class=\"dataframe\">\n",
       "  <thead>\n",
       "    <tr style=\"text-align: right;\">\n",
       "      <th></th>\n",
       "      <th>:START_ID</th>\n",
       "      <th>:END_ID</th>\n",
       "      <th>:TYPE</th>\n",
       "      <th>CUI</th>\n",
       "    </tr>\n",
       "  </thead>\n",
       "  <tbody>\n",
       "    <tr>\n",
       "      <th>18121030</th>\n",
       "      <td>scHeart PMID: 31835037 Erythrocytes HGNC:1093</td>\n",
       "      <td>MC4wLDFlLTEy</td>\n",
       "      <td>p_value</td>\n",
       "      <td>c2NIZWFydCBQTUlEOiAzMTgzNTAzNyBFcnl0aHJvY3l0ZX...</td>\n",
       "    </tr>\n",
       "    <tr>\n",
       "      <th>18121033</th>\n",
       "      <td>scHeart PMID: 31835037 Erythrocytes HGNC:7400</td>\n",
       "      <td>MC4wLDFlLTEy</td>\n",
       "      <td>p_value</td>\n",
       "      <td>c2NIZWFydCBQTUlEOiAzMTgzNTAzNyBFcnl0aHJvY3l0ZX...</td>\n",
       "    </tr>\n",
       "    <tr>\n",
       "      <th>18121034</th>\n",
       "      <td>scHeart PMID: 31835037 Erythrocytes HGNC:4703</td>\n",
       "      <td>MC4wLDFlLTEy</td>\n",
       "      <td>p_value</td>\n",
       "      <td>c2NIZWFydCBQTUlEOiAzMTgzNTAzNyBFcnl0aHJvY3l0ZX...</td>\n",
       "    </tr>\n",
       "    <tr>\n",
       "      <th>18121035</th>\n",
       "      <td>scHeart PMID: 31835037 Erythrocytes HGNC:3381</td>\n",
       "      <td>MC4wLDFlLTEy</td>\n",
       "      <td>p_value</td>\n",
       "      <td>c2NIZWFydCBQTUlEOiAzMTgzNTAzNyBFcnl0aHJvY3l0ZX...</td>\n",
       "    </tr>\n",
       "    <tr>\n",
       "      <th>18121036</th>\n",
       "      <td>scHeart PMID: 31835037 Erythrocytes HGNC:16815</td>\n",
       "      <td>MC4wLDFlLTEy</td>\n",
       "      <td>p_value</td>\n",
       "      <td>c2NIZWFydCBQTUlEOiAzMTgzNTAzNyBFcnl0aHJvY3l0ZX...</td>\n",
       "    </tr>\n",
       "    <tr>\n",
       "      <th>...</th>\n",
       "      <td>...</td>\n",
       "      <td>...</td>\n",
       "      <td>...</td>\n",
       "      <td>...</td>\n",
       "    </tr>\n",
       "    <tr>\n",
       "      <th>18123841</th>\n",
       "      <td>scHeart PMID: 31835037 Fibroblast-like (relate...</td>\n",
       "      <td>MC4wLDFlLTEy</td>\n",
       "      <td>p_value</td>\n",
       "      <td>c2NIZWFydCBQTUlEOiAzMTgzNTAzNyBGaWJyb2JsYXN0LW...</td>\n",
       "    </tr>\n",
       "    <tr>\n",
       "      <th>18123842</th>\n",
       "      <td>scHeart PMID: 31835037 Fibroblast-like (relate...</td>\n",
       "      <td>MC4wLDFlLTEy</td>\n",
       "      <td>p_value</td>\n",
       "      <td>c2NIZWFydCBQTUlEOiAzMTgzNTAzNyBGaWJyb2JsYXN0LW...</td>\n",
       "    </tr>\n",
       "    <tr>\n",
       "      <th>18123843</th>\n",
       "      <td>scHeart PMID: 31835037 Fibroblast-like (relate...</td>\n",
       "      <td>MC4wLDFlLTEy</td>\n",
       "      <td>p_value</td>\n",
       "      <td>c2NIZWFydCBQTUlEOiAzMTgzNTAzNyBGaWJyb2JsYXN0LW...</td>\n",
       "    </tr>\n",
       "    <tr>\n",
       "      <th>18123844</th>\n",
       "      <td>scHeart PMID: 31835037 Fibroblast-like (relate...</td>\n",
       "      <td>MC4wLDFlLTEy</td>\n",
       "      <td>p_value</td>\n",
       "      <td>c2NIZWFydCBQTUlEOiAzMTgzNTAzNyBGaWJyb2JsYXN0LW...</td>\n",
       "    </tr>\n",
       "    <tr>\n",
       "      <th>18123845</th>\n",
       "      <td>scHeart PMID: 31835037 Fibroblast-like (relate...</td>\n",
       "      <td>MC4wLDFlLTEy</td>\n",
       "      <td>p_value</td>\n",
       "      <td>c2NIZWFydCBQTUlEOiAzMTgzNTAzNyBGaWJyb2JsYXN0LW...</td>\n",
       "    </tr>\n",
       "  </tbody>\n",
       "</table>\n",
       "<p>2210 rows × 4 columns</p>\n",
       "</div>"
      ],
      "text/plain": [
       "                                                  :START_ID       :END_ID  \\\n",
       "18121030      scHeart PMID: 31835037 Erythrocytes HGNC:1093  MC4wLDFlLTEy   \n",
       "18121033      scHeart PMID: 31835037 Erythrocytes HGNC:7400  MC4wLDFlLTEy   \n",
       "18121034      scHeart PMID: 31835037 Erythrocytes HGNC:4703  MC4wLDFlLTEy   \n",
       "18121035      scHeart PMID: 31835037 Erythrocytes HGNC:3381  MC4wLDFlLTEy   \n",
       "18121036     scHeart PMID: 31835037 Erythrocytes HGNC:16815  MC4wLDFlLTEy   \n",
       "...                                                     ...           ...   \n",
       "18123841  scHeart PMID: 31835037 Fibroblast-like (relate...  MC4wLDFlLTEy   \n",
       "18123842  scHeart PMID: 31835037 Fibroblast-like (relate...  MC4wLDFlLTEy   \n",
       "18123843  scHeart PMID: 31835037 Fibroblast-like (relate...  MC4wLDFlLTEy   \n",
       "18123844  scHeart PMID: 31835037 Fibroblast-like (relate...  MC4wLDFlLTEy   \n",
       "18123845  scHeart PMID: 31835037 Fibroblast-like (relate...  MC4wLDFlLTEy   \n",
       "\n",
       "            :TYPE                                                CUI  \n",
       "18121030  p_value  c2NIZWFydCBQTUlEOiAzMTgzNTAzNyBFcnl0aHJvY3l0ZX...  \n",
       "18121033  p_value  c2NIZWFydCBQTUlEOiAzMTgzNTAzNyBFcnl0aHJvY3l0ZX...  \n",
       "18121034  p_value  c2NIZWFydCBQTUlEOiAzMTgzNTAzNyBFcnl0aHJvY3l0ZX...  \n",
       "18121035  p_value  c2NIZWFydCBQTUlEOiAzMTgzNTAzNyBFcnl0aHJvY3l0ZX...  \n",
       "18121036  p_value  c2NIZWFydCBQTUlEOiAzMTgzNTAzNyBFcnl0aHJvY3l0ZX...  \n",
       "...           ...                                                ...  \n",
       "18123841  p_value  c2NIZWFydCBQTUlEOiAzMTgzNTAzNyBGaWJyb2JsYXN0LW...  \n",
       "18123842  p_value  c2NIZWFydCBQTUlEOiAzMTgzNTAzNyBGaWJyb2JsYXN0LW...  \n",
       "18123843  p_value  c2NIZWFydCBQTUlEOiAzMTgzNTAzNyBGaWJyb2JsYXN0LW...  \n",
       "18123844  p_value  c2NIZWFydCBQTUlEOiAzMTgzNTAzNyBGaWJyb2JsYXN0LW...  \n",
       "18123845  p_value  c2NIZWFydCBQTUlEOiAzMTgzNTAzNyBGaWJyb2JsYXN0LW...  \n",
       "\n",
       "[2210 rows x 4 columns]"
      ]
     },
     "execution_count": 55,
     "metadata": {},
     "output_type": "execute_result"
    }
   ],
   "source": [
    "\n",
    "#assert 'MWUtMTEsMWUtMTA=' in code_suis[':END_ID'].values\n",
    "#assert 'MC4wLDFlLTEy' in code_suis[':END_ID'].values\n",
    "\n",
    "\n",
    "#code_suis[code_suis[':END_ID'] == 'MWUtMTEsMWUtMTA=']\n",
    "#code_suis[code_suis[':END_ID'] == 'MC4wLDFlLTEy']"
   ]
  },
  {
   "cell_type": "code",
   "execution_count": 76,
   "metadata": {},
   "outputs": [],
   "source": [
    "#suis = pd.read_csv(umls_out_dir+'SUIs.csv')"
   ]
  },
  {
   "cell_type": "code",
   "execution_count": 78,
   "metadata": {},
   "outputs": [],
   "source": [
    "#a=suis[suis['name'] == '1e-11,1e-10']\n",
    "#a"
   ]
  },
  {
   "cell_type": "code",
   "execution_count": 75,
   "metadata": {},
   "outputs": [
    {
     "data": {
      "text/plain": [
       "True"
      ]
     },
     "execution_count": 75,
     "metadata": {},
     "output_type": "execute_result"
    }
   ],
   "source": [
    "#a['name'].values[0] == a['name'].values[1]"
   ]
  },
  {
   "cell_type": "code",
   "execution_count": 65,
   "metadata": {},
   "outputs": [],
   "source": [
    "# gtex pval suis, sui and name\n",
    "\n",
    "#gtex_pval_suis = pd.read_csv('/Users/stearb/Desktop/R03_local/data/use_config/OUTPUT_FILES/GTEx/SUIs_gtex.csv')"
   ]
  },
  {
   "cell_type": "code",
   "execution_count": 152,
   "metadata": {},
   "outputs": [],
   "source": [
    "%%capture\n",
    "\n",
    "'''\n",
    "## Check the finished files\n",
    "csv_path = '/Users/stearb/Desktop/R03_local/data/scHeart/sc_build_files/'\n",
    "csv_path_check = '/Users/stearb/Desktop/R03_local/data/scHeart/sc_build_files_check/'\n",
    "# !ls -lh /Users/stearb/Desktop/R03_local/data/scHeart/sc_build_files/*.csv\n",
    "\n",
    "### CUIs  \n",
    "CUIs = pd.read_csv(csv_path+'CUIs.csv')\n",
    "CUIs.rename(columns={'CUI.ID':'CUI:ID'},inplace=True); print(CUIs.shape)\n",
    "CUIs.to_csv('/Users/stearb/Desktop/R03_local/data/scHeart/sc_build_files_check/CUIs.csv',index=False)\n",
    "\n",
    "CUIs_2 = pd.read_csv('/Users/stearb/Desktop/R03_local/data/scHeart/sc_build_files_check/CUIs.csv'); print(CUIs_2.shape)\n",
    "len(CUIs[CUIs['CUI:ID'].isin(CUIs_2['CUI:ID'])]) == len(CUIs)\n",
    "CUIs_config = pd.read_csv('/Users/stearb/Library/Application Support/com.Neo4j.Relate/Data/dbmss/dbms-320f2ff0-2090-426c-a56d-7f24f136c670/import/CUIs.csv')\n",
    "\n",
    "### CUI-CUIs\n",
    "CUI_CUIs = pd.read_csv(csv_path+'CUI-CUIs.csv')\n",
    "CUI_CUIs.columns = [':START_ID',':END_ID',':TYPE','SAB']\n",
    "CUI_CUIs.to_csv(csv_path_check+'CUI-CUIs.csv',index=False)\n",
    "CUI_CUIs = pd.read_csv(csv_path_check+'CUI-CUIs.csv')\n",
    "\n",
    "### CODE-SUIs\n",
    "CODE_SUIs = pd.read_csv(csv_path+'CODE-SUIs.csv'); print(CODE_SUIs.shape) # 982.9 Mb\n",
    "CODE_SUIs.columns = [':START_ID',':END_ID',':TYPE','SAB']\n",
    "CODE_SUIs.to_csv(csv_path_check+'CODE-SUIs.csv',index=False)\n",
    "CODE_SUIs = pd.read_csv(csv_path_check+'CODE-SUIs.csv'); print(CODE_SUIs.shape)\n",
    "np.unique(CODE_SUIs[CODE_SUIs['SUI:ID'].duplicated()]['name']); assert 0 == sum(CODE_SUIs.duplicated())\n",
    "\n",
    "### CUI-CODE\n",
    "CODE_CUIs = pd.read_csv(csv_path+'CODE-CUIs.csv'); print(CODE_CUIs.shape)\n",
    "CODE_CUIs.columns = [':START_ID',':END_ID']\n",
    "CODE_CUIs.to_csv(csv_path_check+'CUI-CODEs.csv',index=False)\n",
    "CUI_CODEs = pd.read_csv(csv_path_check+'CUI-CODEs.csv'); print(CUI_CODEs.shape)\n",
    "CUI_CODEs_config = pd.read_csv('/Users/stearb/Library/Application Support/com.Neo4j.Relate/Data/dbmss/dbms-320f2ff0-2090-426c-a56d-7f24f136c670/import/CUI-CODEs.csv')\n",
    "print(CUI_CODEs_config.shape)\n",
    "CUI_CODEs_config[~CUI_CODEs_config[':START_ID'].isin(CUI_CODEs[':START_ID'])]\n",
    "shared = list(set(CUI_CODEs_config[':START_ID']).intersection(CUI_CODEs[':START_ID'])); len(shared)\n",
    "not_shared = CUI_CODEs_config[~CUI_CODEs_config[':START_ID'].isin(shared)]\n",
    "a = [i.split(' ')[0] for i in not_shared[':END_ID']]; Counter(a)\n",
    "\n",
    "### CODEs\n",
    "CODEs = pd.read_csv(csv_path+'CODEs.csv'); print(CODEs.shape)\n",
    "CODEs.rename(columns={'CodeID.ID':'CodeID:ID'},inplace=True)\n",
    "CODEs.to_csv(csv_path_check+'CODEs.csv',index=False)\n",
    "CODEs = pd.read_csv(csv_path_check+'CODEs.csv'); print(CODEs.shape)\n",
    "\n",
    "### SUIs\n",
    "SUIs = pd.read_csv(csv_path+'SUIs.csv'); print(SUIs.shape)\n",
    "SUIs.rename(columns={'SUI.ID':'SUI:ID'},inplace=True)\n",
    "SUIs.to_csv(csv_path_check+'SUIs.csv',index=False)\n",
    "SUIs = pd.read_csv(csv_path_check+'SUIs.csv'); print(SUIs.shape)\n",
    "SUIs.drop_duplicates(inplace=True)\n",
    "SUIs.to_csv(csv_path_check+'SUIs.csv',index=False)'''"
   ]
  },
  {
   "cell_type": "code",
   "execution_count": null,
   "metadata": {},
   "outputs": [],
   "source": []
  },
  {
   "cell_type": "code",
   "execution_count": null,
   "metadata": {},
   "outputs": [],
   "source": []
  },
  {
   "cell_type": "code",
   "execution_count": null,
   "metadata": {},
   "outputs": [],
   "source": []
  },
  {
   "cell_type": "markdown",
   "metadata": {},
   "source": [
    "# Examine sc data only (not the master UMLS files which had the entire database + sc data)"
   ]
  },
  {
   "cell_type": "code",
   "execution_count": 41,
   "metadata": {},
   "outputs": [],
   "source": [
    "latest_build_path = '/Users/stearb/Library/Application Support/com.Neo4j.Relate/Data/dbmss/dbms-320f2ff0-2090-426c-a56d-7f24f136c670/import/'\n",
    "sc_only_path = '/Users/stearb/Desktop/R03_local/data/scHeart/my_scHeart_files/'\n"
   ]
  },
  {
   "cell_type": "code",
   "execution_count": 42,
   "metadata": {},
   "outputs": [],
   "source": [
    "# Read in the master CSV files (takes a min or two)\n",
    "\n",
    "CUIs_master = pd.read_csv(latest_build_path+'CUIs.csv')\n",
    "CUI_CUIs_master = pd.read_csv(latest_build_path+'CUI-CUIs.csv')\n",
    "CUI_CODEs_master = pd.read_csv(latest_build_path+'CUI-CODEs.csv')\n",
    "CODEs_master = pd.read_csv(latest_build_path+'CODEs.csv')\n",
    "CODE_SUIs_master = pd.read_csv(latest_build_path+'CODE-SUIs.csv')\n",
    "SUIs_master = pd.read_csv(latest_build_path+'SUIs.csv')"
   ]
  },
  {
   "cell_type": "code",
   "execution_count": 67,
   "metadata": {},
   "outputs": [],
   "source": [
    "# Read in the scHeart CSV files\n",
    "\n",
    "CUIs_sc = pd.read_csv(sc_only_path+'CUIs.csv')\n",
    "CUI_CUIs_sc = pd.read_csv(sc_only_path+'CUI-CUIs.csv')\n",
    "\n",
    "CUI_CODEs_sc = pd.read_csv(sc_only_path+'CUI-CODEs.csv')\n",
    "#CUI_CODEs_sc.rename(columns={':START_ID':':END_ID',':END_ID':':START_ID'},inplace=True) # switch names\n",
    "#CUI_CODEs_sc = CUI_CODEs_sc[[':START_ID',':END_ID']] # reorder\n",
    "#CUI_CODEs_sc.to_csv(sc_only_path+'CUI-CODEs.csv',index=False)\n",
    "\n",
    "CODEs_sc = pd.read_csv(sc_only_path+'CODEs.csv')\n",
    "\n",
    "CODE_SUIs_sc = pd.read_csv(sc_only_path+'CODE-SUIs.csv')\n",
    "#CODE_SUIs_sc_Pval = CODE_SUIs_sc[CODE_SUIs_sc[':TYPE'] == 'p_val']\n",
    "#CODE_SUIs_sc_Log2FC = CODE_SUIs_sc[CODE_SUIs_sc[':TYPE'] != 'p_val']\n",
    "#CODE_SUIs_sc_Pval[':TYPE'] = 'p_value'\n",
    "#CODE_SUIs_sc_FIXED = pd.concat([CODE_SUIs_sc_Pval,CODE_SUIs_sc_Log2FC])\n",
    "#CODE_SUIs_sc_FIXED.to_csv(sc_only_path+'CODE-SUIs.csv',index=False)\n",
    "\n",
    "SUIs_sc = pd.read_csv(sc_only_path+'SUIs.csv')\n",
    "#SUIs_sc['name'] = [i[1:-1] for i in SUIs_sc['name']] # remove '()' and '[]' characters to match the name of the other bins\n",
    "# SUIs_sc['name'] = SUIs_sc['name'].str.replace(' ','')\n",
    "#SUIs_sc.drop_duplicates(inplace=True) # remove duplicate bin Terms\n",
    "#SUIs_sc.to_csv(sc_only_path+'SUIs.csv',index=False)"
   ]
  },
  {
   "cell_type": "code",
   "execution_count": 69,
   "metadata": {},
   "outputs": [
    {
     "data": {
      "text/plain": [
       "Counter({'scHeart PMID: 31835037': 2816, 'author_defined_cluster': 14})"
      ]
     },
     "execution_count": 69,
     "metadata": {},
     "output_type": "execute_result"
    }
   ],
   "source": [
    "Counter(CODEs_sc['SAB'])"
   ]
  },
  {
   "cell_type": "code",
   "execution_count": 68,
   "metadata": {},
   "outputs": [],
   "source": [
    "assert sum(CUIs_sc.duplicated()) == 0\n",
    "assert sum(CUI_CUIs_sc.duplicated()) == 0\n",
    "assert sum(CUI_CODEs_sc.duplicated()) == 0\n",
    "assert sum(CODEs_sc.duplicated()) == 0\n",
    "assert sum(CODE_SUIs_sc.duplicated()) == 0\n",
    "#SUIs_sc.drop_duplicates(inplace=True)\n",
    "assert sum(SUIs_sc.duplicated()) == 0"
   ]
  },
  {
   "cell_type": "code",
   "execution_count": 70,
   "metadata": {},
   "outputs": [
    {
     "data": {
      "text/plain": [
       "Counter({'p_value': 2816, 'log2fc': 2816, 'p_value_threshold': 13245})"
      ]
     },
     "execution_count": 70,
     "metadata": {},
     "output_type": "execute_result"
    }
   ],
   "source": [
    "Counter(CODE_SUIs_sc[':TYPE'])"
   ]
  },
  {
   "cell_type": "code",
   "execution_count": null,
   "metadata": {},
   "outputs": [],
   "source": []
  },
  {
   "cell_type": "markdown",
   "metadata": {},
   "source": [
    "# Concatenate"
   ]
  },
  {
   "cell_type": "code",
   "execution_count": 71,
   "metadata": {},
   "outputs": [],
   "source": [
    "concat_CUIs = pd.concat([CUIs_master,CUIs_sc])\n",
    "\n",
    "concat_CUI_CUIs = pd.concat([CUI_CUIs_master,CUI_CUIs_sc])\n",
    "\n",
    "concat_CODEs =  pd.concat([CODEs_master,CODEs_sc])\n",
    "\n",
    "concat_CUI_CODEs  = pd.concat([CUI_CODEs_master,CUI_CODEs_sc])\n",
    "\n",
    "concat_SUIs = pd.concat([SUIs_master,SUIs_sc])\n",
    "concat_SUIs.drop_duplicates(inplace=True)\n",
    "\n",
    "concat_CODE_SUIs = pd.concat([CODE_SUIs_master,CODE_SUIs_sc])\n"
   ]
  },
  {
   "cell_type": "code",
   "execution_count": 72,
   "metadata": {},
   "outputs": [],
   "source": [
    "assert sum(concat_CUIs.duplicated()) == 0\n",
    "assert sum(concat_CUI_CUIs.duplicated()) == 0\n",
    "assert sum(concat_CUI_CODEs.duplicated()) == 0\n",
    "assert sum(concat_CODEs.duplicated()) == 0\n",
    "assert sum(concat_CODE_SUIs.duplicated()) == 0\n",
    "assert sum(concat_SUIs.duplicated()) == 0"
   ]
  },
  {
   "cell_type": "markdown",
   "metadata": {},
   "source": [
    "# Save the updated master files"
   ]
  },
  {
   "cell_type": "code",
   "execution_count": 73,
   "metadata": {},
   "outputs": [],
   "source": [
    "sc_heart_build_path = '/Users/stearb/Desktop/R03_local/data/scHeart/sc_heart_build/'"
   ]
  },
  {
   "cell_type": "code",
   "execution_count": 74,
   "metadata": {},
   "outputs": [],
   "source": [
    "concat_CUIs.to_csv(sc_heart_build_path+'CUIs.csv',index=False)\n",
    "concat_CUI_CUIs.to_csv(sc_heart_build_path+'CUI-CUIs.csv',index=False)\n",
    "concat_CODEs.to_csv(sc_heart_build_path+'CODEs.csv',index=False)\n",
    "concat_CUI_CODEs.to_csv(sc_heart_build_path+'CUI-CODEs.csv',index=False)\n",
    "concat_SUIs.to_csv(sc_heart_build_path+'SUIs.csv',index=False)\n",
    "concat_CODE_SUIs.to_csv(sc_heart_build_path+'CODE-SUIs.csv',index=False)"
   ]
  },
  {
   "cell_type": "code",
   "execution_count": 64,
   "metadata": {},
   "outputs": [
    {
     "data": {
      "text/html": [
       "<div>\n",
       "<style scoped>\n",
       "    .dataframe tbody tr th:only-of-type {\n",
       "        vertical-align: middle;\n",
       "    }\n",
       "\n",
       "    .dataframe tbody tr th {\n",
       "        vertical-align: top;\n",
       "    }\n",
       "\n",
       "    .dataframe thead th {\n",
       "        text-align: right;\n",
       "    }\n",
       "</style>\n",
       "<table border=\"1\" class=\"dataframe\">\n",
       "  <thead>\n",
       "    <tr style=\"text-align: right;\">\n",
       "      <th></th>\n",
       "      <th>SUI:ID</th>\n",
       "      <th>name</th>\n",
       "    </tr>\n",
       "  </thead>\n",
       "  <tbody>\n",
       "    <tr>\n",
       "      <th>0</th>\n",
       "      <td>S17175117</td>\n",
       "      <td>1,2-dipalmitoylphosphatidylcholine</td>\n",
       "    </tr>\n",
       "    <tr>\n",
       "      <th>1</th>\n",
       "      <td>S0007620</td>\n",
       "      <td>1-Aminonaphthalene</td>\n",
       "    </tr>\n",
       "    <tr>\n",
       "      <th>2</th>\n",
       "      <td>S11842225</td>\n",
       "      <td>17-ketogenic steroid</td>\n",
       "    </tr>\n",
       "    <tr>\n",
       "      <th>3</th>\n",
       "      <td>S0007902</td>\n",
       "      <td>2',3' Cyclic Nucleotide Phosphodiesterases</td>\n",
       "    </tr>\n",
       "    <tr>\n",
       "      <th>4</th>\n",
       "      <td>S2029232</td>\n",
       "      <td>Phosphodiesterases, 2',3'-Cyclic Nucleotide</td>\n",
       "    </tr>\n",
       "  </tbody>\n",
       "</table>\n",
       "</div>"
      ],
      "text/plain": [
       "      SUI:ID                                         name\n",
       "0  S17175117           1,2-dipalmitoylphosphatidylcholine\n",
       "1   S0007620                           1-Aminonaphthalene\n",
       "2  S11842225                         17-ketogenic steroid\n",
       "3   S0007902   2',3' Cyclic Nucleotide Phosphodiesterases\n",
       "4   S2029232  Phosphodiesterases, 2',3'-Cyclic Nucleotide"
      ]
     },
     "execution_count": 64,
     "metadata": {},
     "output_type": "execute_result"
    }
   ],
   "source": [
    "concat_SUIs.head()"
   ]
  },
  {
   "cell_type": "code",
   "execution_count": 76,
   "metadata": {},
   "outputs": [
    {
     "data": {
      "text/html": [
       "<div>\n",
       "<style scoped>\n",
       "    .dataframe tbody tr th:only-of-type {\n",
       "        vertical-align: middle;\n",
       "    }\n",
       "\n",
       "    .dataframe tbody tr th {\n",
       "        vertical-align: top;\n",
       "    }\n",
       "\n",
       "    .dataframe thead th {\n",
       "        text-align: right;\n",
       "    }\n",
       "</style>\n",
       "<table border=\"1\" class=\"dataframe\">\n",
       "  <thead>\n",
       "    <tr style=\"text-align: right;\">\n",
       "      <th></th>\n",
       "      <th>CodeID:ID</th>\n",
       "      <th>SAB</th>\n",
       "      <th>CODE</th>\n",
       "    </tr>\n",
       "  </thead>\n",
       "  <tbody>\n",
       "    <tr>\n",
       "      <th>0</th>\n",
       "      <td>scHeart PMID: 31835037 Erythrocytes HGNC:1093</td>\n",
       "      <td>scHeart PMID: 31835037</td>\n",
       "      <td>Erythrocytes HGNC:1093</td>\n",
       "    </tr>\n",
       "    <tr>\n",
       "      <th>1</th>\n",
       "      <td>scHeart PMID: 31835037 Epicardium-derived cell...</td>\n",
       "      <td>scHeart PMID: 31835037</td>\n",
       "      <td>Epicardium-derived cells HGNC:1093</td>\n",
       "    </tr>\n",
       "    <tr>\n",
       "      <th>2</th>\n",
       "      <td>scHeart PMID: 31835037 Ventricular cardiomyocy...</td>\n",
       "      <td>scHeart PMID: 31835037</td>\n",
       "      <td>Ventricular cardiomyocytes HGNC:1093</td>\n",
       "    </tr>\n",
       "    <tr>\n",
       "      <th>3</th>\n",
       "      <td>scHeart PMID: 31835037 Erythrocytes HGNC:7400</td>\n",
       "      <td>scHeart PMID: 31835037</td>\n",
       "      <td>Erythrocytes HGNC:7400</td>\n",
       "    </tr>\n",
       "    <tr>\n",
       "      <th>4</th>\n",
       "      <td>scHeart PMID: 31835037 Erythrocytes HGNC:4703</td>\n",
       "      <td>scHeart PMID: 31835037</td>\n",
       "      <td>Erythrocytes HGNC:4703</td>\n",
       "    </tr>\n",
       "    <tr>\n",
       "      <th>...</th>\n",
       "      <td>...</td>\n",
       "      <td>...</td>\n",
       "      <td>...</td>\n",
       "    </tr>\n",
       "    <tr>\n",
       "      <th>2825</th>\n",
       "      <td>author_defined_cluster:Cardiac neural crest ce...</td>\n",
       "      <td>author_defined_cluster</td>\n",
       "      <td>Cardiac neural crest cells &amp; Schwann progenito...</td>\n",
       "    </tr>\n",
       "    <tr>\n",
       "      <th>2826</th>\n",
       "      <td>author_defined_cluster:Fibroblast-like (relate...</td>\n",
       "      <td>author_defined_cluster</td>\n",
       "      <td>Fibroblast-like (related to larger vascular de...</td>\n",
       "    </tr>\n",
       "    <tr>\n",
       "      <th>2827</th>\n",
       "      <td>author_defined_cluster:Epicardial cells</td>\n",
       "      <td>author_defined_cluster</td>\n",
       "      <td>Epicardial cells</td>\n",
       "    </tr>\n",
       "    <tr>\n",
       "      <th>2828</th>\n",
       "      <td>author_defined_cluster:Myoz2-enriched cardiomy...</td>\n",
       "      <td>author_defined_cluster</td>\n",
       "      <td>Myoz2-enriched cardiomyocytes</td>\n",
       "    </tr>\n",
       "    <tr>\n",
       "      <th>2829</th>\n",
       "      <td>author_defined_cluster:Atrial cardiomyocytes</td>\n",
       "      <td>author_defined_cluster</td>\n",
       "      <td>Atrial cardiomyocytes</td>\n",
       "    </tr>\n",
       "  </tbody>\n",
       "</table>\n",
       "<p>2830 rows × 3 columns</p>\n",
       "</div>"
      ],
      "text/plain": [
       "                                              CodeID:ID  \\\n",
       "0         scHeart PMID: 31835037 Erythrocytes HGNC:1093   \n",
       "1     scHeart PMID: 31835037 Epicardium-derived cell...   \n",
       "2     scHeart PMID: 31835037 Ventricular cardiomyocy...   \n",
       "3         scHeart PMID: 31835037 Erythrocytes HGNC:7400   \n",
       "4         scHeart PMID: 31835037 Erythrocytes HGNC:4703   \n",
       "...                                                 ...   \n",
       "2825  author_defined_cluster:Cardiac neural crest ce...   \n",
       "2826  author_defined_cluster:Fibroblast-like (relate...   \n",
       "2827            author_defined_cluster:Epicardial cells   \n",
       "2828  author_defined_cluster:Myoz2-enriched cardiomy...   \n",
       "2829       author_defined_cluster:Atrial cardiomyocytes   \n",
       "\n",
       "                         SAB  \\\n",
       "0     scHeart PMID: 31835037   \n",
       "1     scHeart PMID: 31835037   \n",
       "2     scHeart PMID: 31835037   \n",
       "3     scHeart PMID: 31835037   \n",
       "4     scHeart PMID: 31835037   \n",
       "...                      ...   \n",
       "2825  author_defined_cluster   \n",
       "2826  author_defined_cluster   \n",
       "2827  author_defined_cluster   \n",
       "2828  author_defined_cluster   \n",
       "2829  author_defined_cluster   \n",
       "\n",
       "                                                   CODE  \n",
       "0                                Erythrocytes HGNC:1093  \n",
       "1                    Epicardium-derived cells HGNC:1093  \n",
       "2                  Ventricular cardiomyocytes HGNC:1093  \n",
       "3                                Erythrocytes HGNC:7400  \n",
       "4                                Erythrocytes HGNC:4703  \n",
       "...                                                 ...  \n",
       "2825  Cardiac neural crest cells & Schwann progenito...  \n",
       "2826  Fibroblast-like (related to larger vascular de...  \n",
       "2827                                   Epicardial cells  \n",
       "2828                      Myoz2-enriched cardiomyocytes  \n",
       "2829                              Atrial cardiomyocytes  \n",
       "\n",
       "[2830 rows x 3 columns]"
      ]
     },
     "execution_count": 76,
     "metadata": {},
     "output_type": "execute_result"
    }
   ],
   "source": [
    "CODEs_sc"
   ]
  },
  {
   "cell_type": "code",
   "execution_count": 162,
   "metadata": {},
   "outputs": [
    {
     "data": {
      "text/plain": [
       "SUI:ID    11526257\n",
       "name      11517015\n",
       "dtype: int64"
      ]
     },
     "execution_count": 162,
     "metadata": {},
     "output_type": "execute_result"
    }
   ],
   "source": [
    "concat_SUIs.nunique()"
   ]
  },
  {
   "cell_type": "code",
   "execution_count": 164,
   "metadata": {},
   "outputs": [
    {
     "data": {
      "text/plain": [
       "SUI:ID    11526243\n",
       "name      11516981\n",
       "dtype: int64"
      ]
     },
     "execution_count": 164,
     "metadata": {},
     "output_type": "execute_result"
    }
   ],
   "source": [
    "SUIs_master.nunique()"
   ]
  },
  {
   "cell_type": "code",
   "execution_count": 165,
   "metadata": {},
   "outputs": [
    {
     "data": {
      "text/plain": [
       "11526243"
      ]
     },
     "execution_count": 165,
     "metadata": {},
     "output_type": "execute_result"
    }
   ],
   "source": [
    "len(SUIs_master)"
   ]
  },
  {
   "cell_type": "code",
   "execution_count": 169,
   "metadata": {},
   "outputs": [],
   "source": [
    "nameDupsuis = SUIs_master[SUIs_master['name'].duplicated()]"
   ]
  },
  {
   "cell_type": "code",
   "execution_count": 174,
   "metadata": {},
   "outputs": [],
   "source": [
    "nameDupsuis.reset_index(drop=True,inplace=True)"
   ]
  },
  {
   "cell_type": "code",
   "execution_count": 188,
   "metadata": {},
   "outputs": [
    {
     "data": {
      "text/html": [
       "<div>\n",
       "<style scoped>\n",
       "    .dataframe tbody tr th:only-of-type {\n",
       "        vertical-align: middle;\n",
       "    }\n",
       "\n",
       "    .dataframe tbody tr th {\n",
       "        vertical-align: top;\n",
       "    }\n",
       "\n",
       "    .dataframe thead th {\n",
       "        text-align: right;\n",
       "    }\n",
       "</style>\n",
       "<table border=\"1\" class=\"dataframe\">\n",
       "  <thead>\n",
       "    <tr style=\"text-align: right;\">\n",
       "      <th></th>\n",
       "      <th>SUI:ID</th>\n",
       "      <th>name</th>\n",
       "    </tr>\n",
       "  </thead>\n",
       "  <tbody>\n",
       "    <tr>\n",
       "      <th>101</th>\n",
       "      <td>ZXhvc3Rvc2luIGdseWNvc3lsdHJhbnNmZXJhc2UgMg==</td>\n",
       "      <td>exostosin glycosyltransferase 2</td>\n",
       "    </tr>\n",
       "    <tr>\n",
       "      <th>102</th>\n",
       "      <td>YW5uZXhpbiBBOA==</td>\n",
       "      <td>annexin A8</td>\n",
       "    </tr>\n",
       "    <tr>\n",
       "      <th>103</th>\n",
       "      <td>YXJnaW5pbmUgdmFzb3ByZXNzaW4gcmVjZXB0b3IgMUI=</td>\n",
       "      <td>arginine vasopressin receptor 1B</td>\n",
       "    </tr>\n",
       "    <tr>\n",
       "      <th>104</th>\n",
       "      <td>Zm9ya2hlYWQgYm94IE8x</td>\n",
       "      <td>forkhead box O1</td>\n",
       "    </tr>\n",
       "    <tr>\n",
       "      <th>105</th>\n",
       "      <td>Z3Jvd3RoIGRpZmZlcmVudGlhdGlvbiBmYWN0b3IgMTU=</td>\n",
       "      <td>growth differentiation factor 15</td>\n",
       "    </tr>\n",
       "    <tr>\n",
       "      <th>...</th>\n",
       "      <td>...</td>\n",
       "      <td>...</td>\n",
       "    </tr>\n",
       "    <tr>\n",
       "      <th>9257</th>\n",
       "      <td>MTAxMQ==</td>\n",
       "      <td>1011</td>\n",
       "    </tr>\n",
       "    <tr>\n",
       "      <th>9258</th>\n",
       "      <td>NDc1</td>\n",
       "      <td>475</td>\n",
       "    </tr>\n",
       "    <tr>\n",
       "      <th>9259</th>\n",
       "      <td>NzU1</td>\n",
       "      <td>755</td>\n",
       "    </tr>\n",
       "    <tr>\n",
       "      <th>9260</th>\n",
       "      <td>Mzgx</td>\n",
       "      <td>381</td>\n",
       "    </tr>\n",
       "    <tr>\n",
       "      <th>9261</th>\n",
       "      <td>OTUw</td>\n",
       "      <td>950</td>\n",
       "    </tr>\n",
       "  </tbody>\n",
       "</table>\n",
       "<p>9027 rows × 2 columns</p>\n",
       "</div>"
      ],
      "text/plain": [
       "                                            SUI:ID  \\\n",
       "101   ZXhvc3Rvc2luIGdseWNvc3lsdHJhbnNmZXJhc2UgMg==   \n",
       "102                               YW5uZXhpbiBBOA==   \n",
       "103   YXJnaW5pbmUgdmFzb3ByZXNzaW4gcmVjZXB0b3IgMUI=   \n",
       "104                           Zm9ya2hlYWQgYm94IE8x   \n",
       "105   Z3Jvd3RoIGRpZmZlcmVudGlhdGlvbiBmYWN0b3IgMTU=   \n",
       "...                                            ...   \n",
       "9257                                      MTAxMQ==   \n",
       "9258                                          NDc1   \n",
       "9259                                          NzU1   \n",
       "9260                                          Mzgx   \n",
       "9261                                          OTUw   \n",
       "\n",
       "                                  name  \n",
       "101    exostosin glycosyltransferase 2  \n",
       "102                         annexin A8  \n",
       "103   arginine vasopressin receptor 1B  \n",
       "104                    forkhead box O1  \n",
       "105   growth differentiation factor 15  \n",
       "...                                ...  \n",
       "9257                              1011  \n",
       "9258                               475  \n",
       "9259                               755  \n",
       "9260                               381  \n",
       "9261                               950  \n",
       "\n",
       "[9027 rows x 2 columns]"
      ]
     },
     "execution_count": 188,
     "metadata": {},
     "output_type": "execute_result"
    }
   ],
   "source": [
    "nameDupsuis[~nameDupsuis['SUI:ID'].str.startswith('S')]       #.iloc[:-12,:]"
   ]
  },
  {
   "cell_type": "code",
   "execution_count": 184,
   "metadata": {},
   "outputs": [
    {
     "data": {
      "text/html": [
       "<div>\n",
       "<style scoped>\n",
       "    .dataframe tbody tr th:only-of-type {\n",
       "        vertical-align: middle;\n",
       "    }\n",
       "\n",
       "    .dataframe tbody tr th {\n",
       "        vertical-align: top;\n",
       "    }\n",
       "\n",
       "    .dataframe thead th {\n",
       "        text-align: right;\n",
       "    }\n",
       "</style>\n",
       "<table border=\"1\" class=\"dataframe\">\n",
       "  <thead>\n",
       "    <tr style=\"text-align: right;\">\n",
       "      <th></th>\n",
       "      <th>SUI:ID</th>\n",
       "      <th>name</th>\n",
       "    </tr>\n",
       "  </thead>\n",
       "  <tbody>\n",
       "    <tr>\n",
       "      <th>11497049</th>\n",
       "      <td>NDc1</td>\n",
       "      <td>475</td>\n",
       "    </tr>\n",
       "  </tbody>\n",
       "</table>\n",
       "</div>"
      ],
      "text/plain": [
       "         SUI:ID name\n",
       "11497049   NDc1  475"
      ]
     },
     "execution_count": 184,
     "metadata": {},
     "output_type": "execute_result"
    }
   ],
   "source": [
    "SUIs_master[SUIs_master['SUI:ID'] == 'NDc1']"
   ]
  },
  {
   "cell_type": "code",
   "execution_count": 185,
   "metadata": {},
   "outputs": [
    {
     "data": {
      "text/html": [
       "<div>\n",
       "<style scoped>\n",
       "    .dataframe tbody tr th:only-of-type {\n",
       "        vertical-align: middle;\n",
       "    }\n",
       "\n",
       "    .dataframe tbody tr th {\n",
       "        vertical-align: top;\n",
       "    }\n",
       "\n",
       "    .dataframe thead th {\n",
       "        text-align: right;\n",
       "    }\n",
       "</style>\n",
       "<table border=\"1\" class=\"dataframe\">\n",
       "  <thead>\n",
       "    <tr style=\"text-align: right;\">\n",
       "      <th></th>\n",
       "      <th>SUI:ID</th>\n",
       "      <th>name</th>\n",
       "    </tr>\n",
       "  </thead>\n",
       "  <tbody>\n",
       "    <tr>\n",
       "      <th>4881528</th>\n",
       "      <td>S17240993</td>\n",
       "      <td>475</td>\n",
       "    </tr>\n",
       "    <tr>\n",
       "      <th>11497049</th>\n",
       "      <td>NDc1</td>\n",
       "      <td>475</td>\n",
       "    </tr>\n",
       "  </tbody>\n",
       "</table>\n",
       "</div>"
      ],
      "text/plain": [
       "             SUI:ID name\n",
       "4881528   S17240993  475\n",
       "11497049       NDc1  475"
      ]
     },
     "execution_count": 185,
     "metadata": {},
     "output_type": "execute_result"
    }
   ],
   "source": [
    "SUIs_master[SUIs_master['name'] == '475']"
   ]
  },
  {
   "cell_type": "code",
   "execution_count": 190,
   "metadata": {},
   "outputs": [
    {
     "data": {
      "text/html": [
       "<div>\n",
       "<style scoped>\n",
       "    .dataframe tbody tr th:only-of-type {\n",
       "        vertical-align: middle;\n",
       "    }\n",
       "\n",
       "    .dataframe tbody tr th {\n",
       "        vertical-align: top;\n",
       "    }\n",
       "\n",
       "    .dataframe thead th {\n",
       "        text-align: right;\n",
       "    }\n",
       "</style>\n",
       "<table border=\"1\" class=\"dataframe\">\n",
       "  <thead>\n",
       "    <tr style=\"text-align: right;\">\n",
       "      <th></th>\n",
       "      <th>:START_ID</th>\n",
       "      <th>:END_ID</th>\n",
       "      <th>:TYPE</th>\n",
       "      <th>CUI</th>\n",
       "    </tr>\n",
       "  </thead>\n",
       "  <tbody>\n",
       "    <tr>\n",
       "      <th>5127010</th>\n",
       "      <td>SNOMEDCT_US 732760005</td>\n",
       "      <td>S17240993</td>\n",
       "      <td>PT</td>\n",
       "      <td>C4517786</td>\n",
       "    </tr>\n",
       "  </tbody>\n",
       "</table>\n",
       "</div>"
      ],
      "text/plain": [
       "                     :START_ID    :END_ID :TYPE       CUI\n",
       "5127010  SNOMEDCT_US 732760005  S17240993    PT  C4517786"
      ]
     },
     "execution_count": 190,
     "metadata": {},
     "output_type": "execute_result"
    }
   ],
   "source": [
    "CODE_SUIs_master[CODE_SUIs_master[':END_ID']]"
   ]
  },
  {
   "cell_type": "code",
   "execution_count": 191,
   "metadata": {},
   "outputs": [
    {
     "data": {
      "text/html": [
       "<div>\n",
       "<style scoped>\n",
       "    .dataframe tbody tr th:only-of-type {\n",
       "        vertical-align: middle;\n",
       "    }\n",
       "\n",
       "    .dataframe tbody tr th {\n",
       "        vertical-align: top;\n",
       "    }\n",
       "\n",
       "    .dataframe thead th {\n",
       "        text-align: right;\n",
       "    }\n",
       "</style>\n",
       "<table border=\"1\" class=\"dataframe\">\n",
       "  <thead>\n",
       "    <tr style=\"text-align: right;\">\n",
       "      <th></th>\n",
       "      <th>:START_ID</th>\n",
       "      <th>:END_ID</th>\n",
       "      <th>:TYPE</th>\n",
       "      <th>CUI</th>\n",
       "    </tr>\n",
       "  </thead>\n",
       "  <tbody>\n",
       "    <tr>\n",
       "      <th>5127010</th>\n",
       "      <td>SNOMEDCT_US 732760005</td>\n",
       "      <td>S17240993</td>\n",
       "      <td>PT</td>\n",
       "      <td>C4517786</td>\n",
       "    </tr>\n",
       "  </tbody>\n",
       "</table>\n",
       "</div>"
      ],
      "text/plain": [
       "                     :START_ID    :END_ID :TYPE       CUI\n",
       "5127010  SNOMEDCT_US 732760005  S17240993    PT  C4517786"
      ]
     },
     "execution_count": 191,
     "metadata": {},
     "output_type": "execute_result"
    }
   ],
   "source": [
    "CODE_SUIs_master[CODE_SUIs_master[':END_ID'] == 'S17240993']"
   ]
  },
  {
   "cell_type": "code",
   "execution_count": null,
   "metadata": {},
   "outputs": [],
   "source": []
  }
 ],
 "metadata": {
  "kernelspec": {
   "display_name": "Python 3",
   "language": "python",
   "name": "python3"
  },
  "language_info": {
   "codemirror_mode": {
    "name": "ipython",
    "version": 3
   },
   "file_extension": ".py",
   "mimetype": "text/x-python",
   "name": "python",
   "nbconvert_exporter": "python",
   "pygments_lexer": "ipython3",
   "version": "3.7.4"
  }
 },
 "nbformat": 4,
 "nbformat_minor": 2
}
